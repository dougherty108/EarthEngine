{
 "cells": [
  {
   "cell_type": "code",
   "execution_count": 14,
   "id": "62a4d0a5-6c04-4458-8e35-a8f59f580340",
   "metadata": {},
   "outputs": [
    {
     "name": "stdout",
     "output_type": "stream",
     "text": [
      "An error occurred: [Errno 2] No such file or directory: 'Documents/EarthEngine/SpectralUnmixing20240906mostuptodate.ipynb'\n"
     ]
    }
   ],
   "source": [
    "import nbformat\n",
    "\n",
    "\n",
    "\n",
    "def extract_code_from_notebook(notebook_path):\n",
    "    with open(notebook_path, 'r', encoding='utf-8') as f:\n",
    "        notebook = nbformat.read(f, as_version=4)\n",
    "\n",
    "    code_cells = [cell['source'] for cell in notebook['cells'] if cell['cell_type'] == 'code']\n",
    "\n",
    "    return code_cells\n",
    "\n",
    "notebook_path = 'Documents/EarthEngine/SpectralUnmixing20240906mostuptodate.ipynb'\n",
    "\n",
    "try:\n",
    "    extracted_code = extract_code_from_notebook(notebook_path)\n",
    "    for i, code_cell in enumerate(extracted_code, start=1):\n",
    "        print(f\"Code Cell {i}:\\n{code_cell}\\n{'='*30}\\n\")\n",
    "except Exception as e:\n",
    "    print(f\"An error occurred: {e}\")"
   ]
  },
  {
   "cell_type": "code",
   "execution_count": null,
   "id": "c72033ab-2540-4c63-8bc6-19eed48a0566",
   "metadata": {},
   "outputs": [],
   "source": []
  }
 ],
 "metadata": {
  "kernelspec": {
   "display_name": "Python 3 (ipykernel)",
   "language": "python",
   "name": "python3"
  },
  "language_info": {
   "codemirror_mode": {
    "name": "ipython",
    "version": 3
   },
   "file_extension": ".py",
   "mimetype": "text/x-python",
   "name": "python",
   "nbconvert_exporter": "python",
   "pygments_lexer": "ipython3",
   "version": "3.11.7"
  }
 },
 "nbformat": 4,
 "nbformat_minor": 5
}
