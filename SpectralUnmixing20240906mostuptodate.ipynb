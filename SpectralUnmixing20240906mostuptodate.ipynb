{
 "cells": [
  {
   "cell_type": "code",
   "execution_count": 2,
   "id": "8bab9951",
   "metadata": {},
   "outputs": [
    {
     "name": "stdout",
     "output_type": "stream",
     "text": [
      "Please restart Jupyter kernel after installation if you encounter any errors when importing geemap.\n"
     ]
    },
    {
     "ename": "ModuleNotFoundError",
     "evalue": "No module named 'pkg_resources'",
     "output_type": "error",
     "traceback": [
      "\u001b[0;31m---------------------------------------------------------------------------\u001b[0m",
      "\u001b[0;31mModuleNotFoundError\u001b[0m                       Traceback (most recent call last)",
      "Cell \u001b[0;32mIn[2], line 2\u001b[0m\n\u001b[1;32m      1\u001b[0m \u001b[38;5;28;01mimport\u001b[39;00m \u001b[38;5;21;01mee\u001b[39;00m\n\u001b[0;32m----> 2\u001b[0m \u001b[38;5;28;01mimport\u001b[39;00m \u001b[38;5;21;01mgeemap\u001b[39;00m\n\u001b[1;32m      3\u001b[0m \u001b[38;5;28;01mimport\u001b[39;00m \u001b[38;5;21;01mpandas\u001b[39;00m \u001b[38;5;28;01mas\u001b[39;00m \u001b[38;5;21;01mpd\u001b[39;00m\n\u001b[1;32m      4\u001b[0m \u001b[38;5;28;01mimport\u001b[39;00m \u001b[38;5;21;01mnumpy\u001b[39;00m \u001b[38;5;28;01mas\u001b[39;00m \u001b[38;5;21;01mnp\u001b[39;00m\n",
      "File \u001b[0;32m/Library/Frameworks/Python.framework/Versions/3.12/lib/python3.12/site-packages/geemap/__init__.py:55\u001b[0m\n\u001b[1;32m     51\u001b[0m         \u001b[38;5;28;01melse\u001b[39;00m:\n\u001b[1;32m     52\u001b[0m             \u001b[38;5;28mprint\u001b[39m(\n\u001b[1;32m     53\u001b[0m                 \u001b[38;5;124m\"\u001b[39m\u001b[38;5;124mPlease restart Jupyter kernel after installation if you encounter any errors when importing geemap.\u001b[39m\u001b[38;5;124m\"\u001b[39m\n\u001b[1;32m     54\u001b[0m             )\n\u001b[0;32m---> 55\u001b[0m         \u001b[38;5;28;01mraise\u001b[39;00m e\n\u001b[1;32m     57\u001b[0m \u001b[38;5;28;01mif\u001b[39;00m _use_eerepr():\n\u001b[1;32m     58\u001b[0m     \u001b[38;5;28;01mimport\u001b[39;00m \u001b[38;5;21;01meerepr\u001b[39;00m\n",
      "File \u001b[0;32m/Library/Frameworks/Python.framework/Versions/3.12/lib/python3.12/site-packages/geemap/__init__.py:45\u001b[0m\n\u001b[1;32m     43\u001b[0m \u001b[38;5;28;01melse\u001b[39;00m:\n\u001b[1;32m     44\u001b[0m     \u001b[38;5;28;01mtry\u001b[39;00m:\n\u001b[0;32m---> 45\u001b[0m         \u001b[38;5;28;01mfrom\u001b[39;00m \u001b[38;5;21;01m.\u001b[39;00m\u001b[38;5;21;01mgeemap\u001b[39;00m \u001b[38;5;28;01mimport\u001b[39;00m \u001b[38;5;241m*\u001b[39m\n\u001b[1;32m     46\u001b[0m     \u001b[38;5;28;01mexcept\u001b[39;00m \u001b[38;5;167;01mException\u001b[39;00m \u001b[38;5;28;01mas\u001b[39;00m e:\n\u001b[1;32m     47\u001b[0m         \u001b[38;5;28;01mif\u001b[39;00m in_colab_shell():\n",
      "File \u001b[0;32m/Library/Frameworks/Python.framework/Versions/3.12/lib/python3.12/site-packages/geemap/geemap.py:28\u001b[0m\n\u001b[1;32m     26\u001b[0m \u001b[38;5;28;01mfrom\u001b[39;00m \u001b[38;5;21;01m.\u001b[39;00m\u001b[38;5;21;01mbasemaps\u001b[39;00m \u001b[38;5;28;01mimport\u001b[39;00m get_xyz_dict, xyz_to_leaflet\n\u001b[1;32m     27\u001b[0m \u001b[38;5;28;01mfrom\u001b[39;00m \u001b[38;5;21;01m.\u001b[39;00m\u001b[38;5;21;01mcommon\u001b[39;00m \u001b[38;5;28;01mimport\u001b[39;00m \u001b[38;5;241m*\u001b[39m\n\u001b[0;32m---> 28\u001b[0m \u001b[38;5;28;01mfrom\u001b[39;00m \u001b[38;5;21;01m.\u001b[39;00m\u001b[38;5;21;01mconversion\u001b[39;00m \u001b[38;5;28;01mimport\u001b[39;00m \u001b[38;5;241m*\u001b[39m\n\u001b[1;32m     29\u001b[0m \u001b[38;5;28;01mfrom\u001b[39;00m \u001b[38;5;21;01m.\u001b[39;00m\u001b[38;5;21;01mee_tile_layers\u001b[39;00m \u001b[38;5;28;01mimport\u001b[39;00m \u001b[38;5;241m*\u001b[39m\n\u001b[1;32m     30\u001b[0m \u001b[38;5;28;01mfrom\u001b[39;00m \u001b[38;5;21;01m.\u001b[39;00m \u001b[38;5;28;01mimport\u001b[39;00m core\n",
      "File \u001b[0;32m/Library/Frameworks/Python.framework/Versions/3.12/lib/python3.12/site-packages/geemap/conversion.py:23\u001b[0m\n\u001b[1;32m     20\u001b[0m \u001b[38;5;28;01mfrom\u001b[39;00m \u001b[38;5;21;01mcollections\u001b[39;00m \u001b[38;5;28;01mimport\u001b[39;00m deque\n\u001b[1;32m     21\u001b[0m \u001b[38;5;28;01mfrom\u001b[39;00m \u001b[38;5;21;01mpathlib\u001b[39;00m \u001b[38;5;28;01mimport\u001b[39;00m Path\n\u001b[0;32m---> 23\u001b[0m \u001b[38;5;28;01mimport\u001b[39;00m \u001b[38;5;21;01mpkg_resources\u001b[39;00m\n\u001b[1;32m     25\u001b[0m \u001b[38;5;28;01mfrom\u001b[39;00m \u001b[38;5;21;01m.\u001b[39;00m\u001b[38;5;21;01mcommon\u001b[39;00m \u001b[38;5;28;01mimport\u001b[39;00m \u001b[38;5;241m*\u001b[39m\n\u001b[1;32m     28\u001b[0m \u001b[38;5;28;01mdef\u001b[39;00m \u001b[38;5;21mfind_matching_bracket\u001b[39m(lines, start_line_index, start_char_index, matching_char\u001b[38;5;241m=\u001b[39m\u001b[38;5;124m\"\u001b[39m\u001b[38;5;124m{\u001b[39m\u001b[38;5;124m\"\u001b[39m):\n",
      "\u001b[0;31mModuleNotFoundError\u001b[0m: No module named 'pkg_resources'"
     ]
    }
   ],
   "source": [
    "import ee\n",
    "import geemap\n",
    "import pandas as pd\n",
    "import numpy as np"
   ]
  },
  {
   "cell_type": "code",
   "execution_count": 6,
   "id": "2d4458f4",
   "metadata": {},
   "outputs": [
    {
     "name": "stdout",
     "output_type": "stream",
     "text": [
      "Collecting geemap\n",
      "  Downloading geemap-0.35.1-py2.py3-none-any.whl.metadata (12 kB)\n",
      "Collecting bqplot (from geemap)\n",
      "  Downloading bqplot-0.12.44-py2.py3-none-any.whl.metadata (6.4 kB)\n",
      "Collecting colour (from geemap)\n",
      "  Using cached colour-0.1.5-py2.py3-none-any.whl.metadata (18 kB)\n",
      "Requirement already satisfied: earthengine-api>=1.0.0 in /Library/Frameworks/Python.framework/Versions/3.12/lib/python3.12/site-packages (from geemap) (1.4.3)\n",
      "Collecting eerepr>=0.0.4 (from geemap)\n",
      "  Using cached eerepr-0.0.4-py3-none-any.whl.metadata (4.0 kB)\n",
      "Collecting folium>=0.17.0 (from geemap)\n",
      "  Downloading folium-0.19.3-py2.py3-none-any.whl.metadata (3.8 kB)\n",
      "Collecting geocoder (from geemap)\n",
      "  Using cached geocoder-1.38.1-py2.py3-none-any.whl.metadata (14 kB)\n",
      "Collecting ipyevents (from geemap)\n",
      "  Using cached ipyevents-2.0.2-py3-none-any.whl.metadata (2.9 kB)\n",
      "Collecting ipyfilechooser>=0.6.0 (from geemap)\n",
      "  Using cached ipyfilechooser-0.6.0-py3-none-any.whl.metadata (6.4 kB)\n",
      "Collecting ipyleaflet>=0.19.2 (from geemap)\n",
      "  Using cached ipyleaflet-0.19.2-py3-none-any.whl.metadata (5.3 kB)\n",
      "Collecting ipytree (from geemap)\n",
      "  Using cached ipytree-0.2.2-py2.py3-none-any.whl.metadata (849 bytes)\n",
      "Collecting matplotlib (from geemap)\n",
      "  Downloading matplotlib-3.10.0-cp312-cp312-macosx_11_0_arm64.whl.metadata (11 kB)\n",
      "Collecting numpy (from geemap)\n",
      "  Downloading numpy-2.2.1-cp312-cp312-macosx_14_0_arm64.whl.metadata (62 kB)\n",
      "Collecting pandas (from geemap)\n",
      "  Downloading pandas-2.2.3-cp312-cp312-macosx_11_0_arm64.whl.metadata (89 kB)\n",
      "Collecting plotly (from geemap)\n",
      "  Using cached plotly-5.24.1-py3-none-any.whl.metadata (7.3 kB)\n",
      "Collecting pyperclip (from geemap)\n",
      "  Using cached pyperclip-1.9.0-py3-none-any.whl\n",
      "Collecting pyshp>=2.3.1 (from geemap)\n",
      "  Using cached pyshp-2.3.1-py2.py3-none-any.whl.metadata (55 kB)\n",
      "Collecting python-box (from geemap)\n",
      "  Downloading python_box-7.3.0-cp312-cp312-macosx_10_13_universal2.whl.metadata (7.8 kB)\n",
      "Collecting scooby (from geemap)\n",
      "  Using cached scooby-0.10.0-py3-none-any.whl.metadata (15 kB)\n",
      "Requirement already satisfied: google-cloud-storage in /Library/Frameworks/Python.framework/Versions/3.12/lib/python3.12/site-packages (from earthengine-api>=1.0.0->geemap) (2.19.0)\n",
      "Requirement already satisfied: google-api-python-client>=1.12.1 in /Library/Frameworks/Python.framework/Versions/3.12/lib/python3.12/site-packages (from earthengine-api>=1.0.0->geemap) (2.156.0)\n",
      "Requirement already satisfied: google-auth>=1.4.1 in /Library/Frameworks/Python.framework/Versions/3.12/lib/python3.12/site-packages (from earthengine-api>=1.0.0->geemap) (2.37.0)\n",
      "Requirement already satisfied: google-auth-httplib2>=0.0.3 in /Library/Frameworks/Python.framework/Versions/3.12/lib/python3.12/site-packages (from earthengine-api>=1.0.0->geemap) (0.2.0)\n",
      "Requirement already satisfied: httplib2<1dev,>=0.9.2 in /Library/Frameworks/Python.framework/Versions/3.12/lib/python3.12/site-packages (from earthengine-api>=1.0.0->geemap) (0.22.0)\n",
      "Requirement already satisfied: requests in /Library/Frameworks/Python.framework/Versions/3.12/lib/python3.12/site-packages (from earthengine-api>=1.0.0->geemap) (2.32.3)\n",
      "Collecting branca>=0.6.0 (from folium>=0.17.0->geemap)\n",
      "  Downloading branca-0.8.1-py3-none-any.whl.metadata (1.5 kB)\n",
      "Collecting jinja2>=2.9 (from folium>=0.17.0->geemap)\n",
      "  Downloading jinja2-3.1.5-py3-none-any.whl.metadata (2.6 kB)\n",
      "Collecting xyzservices (from folium>=0.17.0->geemap)\n",
      "  Using cached xyzservices-2024.9.0-py3-none-any.whl.metadata (4.1 kB)\n",
      "Collecting ipywidgets (from ipyfilechooser>=0.6.0->geemap)\n",
      "  Using cached ipywidgets-8.1.5-py3-none-any.whl.metadata (2.3 kB)\n",
      "Collecting jupyter-leaflet<0.20,>=0.19 (from ipyleaflet>=0.19.2->geemap)\n",
      "  Using cached jupyter_leaflet-0.19.2-py3-none-any.whl.metadata (2.4 kB)\n",
      "Collecting traittypes<3,>=0.2.1 (from ipyleaflet>=0.19.2->geemap)\n",
      "  Using cached traittypes-0.2.1-py2.py3-none-any.whl.metadata (1.0 kB)\n",
      "Requirement already satisfied: traitlets>=4.3.0 in /Users/charliedougherty/Library/Python/3.12/lib/python/site-packages (from bqplot->geemap) (5.14.3)\n",
      "Requirement already satisfied: python-dateutil>=2.8.2 in /Users/charliedougherty/Library/Python/3.12/lib/python/site-packages (from pandas->geemap) (2.9.0.post0)\n",
      "Collecting pytz>=2020.1 (from pandas->geemap)\n",
      "  Using cached pytz-2024.2-py2.py3-none-any.whl.metadata (22 kB)\n",
      "Collecting tzdata>=2022.7 (from pandas->geemap)\n",
      "  Downloading tzdata-2024.2-py2.py3-none-any.whl.metadata (1.4 kB)\n",
      "Collecting click (from geocoder->geemap)\n",
      "  Downloading click-8.1.8-py3-none-any.whl.metadata (2.3 kB)\n",
      "Collecting future (from geocoder->geemap)\n",
      "  Using cached future-1.0.0-py3-none-any.whl.metadata (4.0 kB)\n",
      "Collecting ratelim (from geocoder->geemap)\n",
      "  Using cached ratelim-0.1.6-py2.py3-none-any.whl.metadata (1.4 kB)\n",
      "Requirement already satisfied: six in /Users/charliedougherty/Library/Python/3.12/lib/python/site-packages (from geocoder->geemap) (1.16.0)\n",
      "Collecting contourpy>=1.0.1 (from matplotlib->geemap)\n",
      "  Downloading contourpy-1.3.1-cp312-cp312-macosx_11_0_arm64.whl.metadata (5.4 kB)\n",
      "Collecting cycler>=0.10 (from matplotlib->geemap)\n",
      "  Using cached cycler-0.12.1-py3-none-any.whl.metadata (3.8 kB)\n",
      "Collecting fonttools>=4.22.0 (from matplotlib->geemap)\n",
      "  Downloading fonttools-4.55.3-cp312-cp312-macosx_10_13_universal2.whl.metadata (165 kB)\n",
      "Collecting kiwisolver>=1.3.1 (from matplotlib->geemap)\n",
      "  Downloading kiwisolver-1.4.8-cp312-cp312-macosx_11_0_arm64.whl.metadata (6.2 kB)\n",
      "Requirement already satisfied: packaging>=20.0 in /Users/charliedougherty/Library/Python/3.12/lib/python/site-packages (from matplotlib->geemap) (24.1)\n",
      "Collecting pillow>=8 (from matplotlib->geemap)\n",
      "  Downloading pillow-11.1.0-cp312-cp312-macosx_11_0_arm64.whl.metadata (9.1 kB)\n",
      "Requirement already satisfied: pyparsing>=2.3.1 in /Library/Frameworks/Python.framework/Versions/3.12/lib/python3.12/site-packages (from matplotlib->geemap) (3.2.1)\n",
      "Collecting tenacity>=6.2.0 (from plotly->geemap)\n",
      "  Using cached tenacity-9.0.0-py3-none-any.whl.metadata (1.2 kB)\n",
      "Requirement already satisfied: google-api-core!=2.0.*,!=2.1.*,!=2.2.*,!=2.3.0,<3.0.0.dev0,>=1.31.5 in /Library/Frameworks/Python.framework/Versions/3.12/lib/python3.12/site-packages (from google-api-python-client>=1.12.1->earthengine-api>=1.0.0->geemap) (2.24.0)\n",
      "Requirement already satisfied: uritemplate<5,>=3.0.1 in /Library/Frameworks/Python.framework/Versions/3.12/lib/python3.12/site-packages (from google-api-python-client>=1.12.1->earthengine-api>=1.0.0->geemap) (4.1.1)\n",
      "Requirement already satisfied: cachetools<6.0,>=2.0.0 in /Library/Frameworks/Python.framework/Versions/3.12/lib/python3.12/site-packages (from google-auth>=1.4.1->earthengine-api>=1.0.0->geemap) (5.5.0)\n",
      "Requirement already satisfied: pyasn1-modules>=0.2.1 in /Library/Frameworks/Python.framework/Versions/3.12/lib/python3.12/site-packages (from google-auth>=1.4.1->earthengine-api>=1.0.0->geemap) (0.4.1)\n",
      "Requirement already satisfied: rsa<5,>=3.1.4 in /Library/Frameworks/Python.framework/Versions/3.12/lib/python3.12/site-packages (from google-auth>=1.4.1->earthengine-api>=1.0.0->geemap) (4.9)\n",
      "Requirement already satisfied: comm>=0.1.3 in /Users/charliedougherty/Library/Python/3.12/lib/python/site-packages (from ipywidgets->ipyfilechooser>=0.6.0->geemap) (0.2.2)\n",
      "Requirement already satisfied: ipython>=6.1.0 in /Users/charliedougherty/Library/Python/3.12/lib/python/site-packages (from ipywidgets->ipyfilechooser>=0.6.0->geemap) (8.27.0)\n",
      "Collecting widgetsnbextension~=4.0.12 (from ipywidgets->ipyfilechooser>=0.6.0->geemap)\n",
      "  Using cached widgetsnbextension-4.0.13-py3-none-any.whl.metadata (1.6 kB)\n",
      "Collecting jupyterlab-widgets~=3.0.12 (from ipywidgets->ipyfilechooser>=0.6.0->geemap)\n",
      "  Using cached jupyterlab_widgets-3.0.13-py3-none-any.whl.metadata (4.1 kB)\n",
      "Collecting MarkupSafe>=2.0 (from jinja2>=2.9->folium>=0.17.0->geemap)\n",
      "  Downloading MarkupSafe-3.0.2-cp312-cp312-macosx_11_0_arm64.whl.metadata (4.0 kB)\n",
      "Requirement already satisfied: google-cloud-core<3.0dev,>=2.3.0 in /Library/Frameworks/Python.framework/Versions/3.12/lib/python3.12/site-packages (from google-cloud-storage->earthengine-api>=1.0.0->geemap) (2.4.1)\n",
      "Requirement already satisfied: google-resumable-media>=2.7.2 in /Library/Frameworks/Python.framework/Versions/3.12/lib/python3.12/site-packages (from google-cloud-storage->earthengine-api>=1.0.0->geemap) (2.7.2)\n",
      "Requirement already satisfied: google-crc32c<2.0dev,>=1.0 in /Library/Frameworks/Python.framework/Versions/3.12/lib/python3.12/site-packages (from google-cloud-storage->earthengine-api>=1.0.0->geemap) (1.6.0)\n",
      "Requirement already satisfied: charset-normalizer<4,>=2 in /Library/Frameworks/Python.framework/Versions/3.12/lib/python3.12/site-packages (from requests->earthengine-api>=1.0.0->geemap) (3.4.1)\n",
      "Requirement already satisfied: idna<4,>=2.5 in /Library/Frameworks/Python.framework/Versions/3.12/lib/python3.12/site-packages (from requests->earthengine-api>=1.0.0->geemap) (3.10)\n",
      "Requirement already satisfied: urllib3<3,>=1.21.1 in /Library/Frameworks/Python.framework/Versions/3.12/lib/python3.12/site-packages (from requests->earthengine-api>=1.0.0->geemap) (2.3.0)\n",
      "Requirement already satisfied: certifi>=2017.4.17 in /Library/Frameworks/Python.framework/Versions/3.12/lib/python3.12/site-packages (from requests->earthengine-api>=1.0.0->geemap) (2024.12.14)\n",
      "Requirement already satisfied: decorator in /Users/charliedougherty/Library/Python/3.12/lib/python/site-packages (from ratelim->geocoder->geemap) (5.1.1)\n",
      "Requirement already satisfied: googleapis-common-protos<2.0.dev0,>=1.56.2 in /Library/Frameworks/Python.framework/Versions/3.12/lib/python3.12/site-packages (from google-api-core!=2.0.*,!=2.1.*,!=2.2.*,!=2.3.0,<3.0.0.dev0,>=1.31.5->google-api-python-client>=1.12.1->earthengine-api>=1.0.0->geemap) (1.66.0)\n",
      "Requirement already satisfied: protobuf!=3.20.0,!=3.20.1,!=4.21.0,!=4.21.1,!=4.21.2,!=4.21.3,!=4.21.4,!=4.21.5,<6.0.0.dev0,>=3.19.5 in /Library/Frameworks/Python.framework/Versions/3.12/lib/python3.12/site-packages (from google-api-core!=2.0.*,!=2.1.*,!=2.2.*,!=2.3.0,<3.0.0.dev0,>=1.31.5->google-api-python-client>=1.12.1->earthengine-api>=1.0.0->geemap) (5.29.2)\n",
      "Requirement already satisfied: proto-plus<2.0.0dev,>=1.22.3 in /Library/Frameworks/Python.framework/Versions/3.12/lib/python3.12/site-packages (from google-api-core!=2.0.*,!=2.1.*,!=2.2.*,!=2.3.0,<3.0.0.dev0,>=1.31.5->google-api-python-client>=1.12.1->earthengine-api>=1.0.0->geemap) (1.25.0)\n",
      "Requirement already satisfied: jedi>=0.16 in /Users/charliedougherty/Library/Python/3.12/lib/python/site-packages (from ipython>=6.1.0->ipywidgets->ipyfilechooser>=0.6.0->geemap) (0.19.1)\n",
      "Requirement already satisfied: matplotlib-inline in /Users/charliedougherty/Library/Python/3.12/lib/python/site-packages (from ipython>=6.1.0->ipywidgets->ipyfilechooser>=0.6.0->geemap) (0.1.7)\n",
      "Requirement already satisfied: prompt-toolkit<3.1.0,>=3.0.41 in /Users/charliedougherty/Library/Python/3.12/lib/python/site-packages (from ipython>=6.1.0->ipywidgets->ipyfilechooser>=0.6.0->geemap) (3.0.47)\n",
      "Requirement already satisfied: pygments>=2.4.0 in /Users/charliedougherty/Library/Python/3.12/lib/python/site-packages (from ipython>=6.1.0->ipywidgets->ipyfilechooser>=0.6.0->geemap) (2.18.0)\n",
      "Requirement already satisfied: stack-data in /Users/charliedougherty/Library/Python/3.12/lib/python/site-packages (from ipython>=6.1.0->ipywidgets->ipyfilechooser>=0.6.0->geemap) (0.6.3)\n",
      "Requirement already satisfied: pexpect>4.3 in /Users/charliedougherty/Library/Python/3.12/lib/python/site-packages (from ipython>=6.1.0->ipywidgets->ipyfilechooser>=0.6.0->geemap) (4.9.0)\n",
      "Requirement already satisfied: pyasn1<0.7.0,>=0.4.6 in /Library/Frameworks/Python.framework/Versions/3.12/lib/python3.12/site-packages (from pyasn1-modules>=0.2.1->google-auth>=1.4.1->earthengine-api>=1.0.0->geemap) (0.6.1)\n",
      "Requirement already satisfied: parso<0.9.0,>=0.8.3 in /Users/charliedougherty/Library/Python/3.12/lib/python/site-packages (from jedi>=0.16->ipython>=6.1.0->ipywidgets->ipyfilechooser>=0.6.0->geemap) (0.8.4)\n",
      "Requirement already satisfied: ptyprocess>=0.5 in /Users/charliedougherty/Library/Python/3.12/lib/python/site-packages (from pexpect>4.3->ipython>=6.1.0->ipywidgets->ipyfilechooser>=0.6.0->geemap) (0.7.0)\n",
      "Requirement already satisfied: wcwidth in /Users/charliedougherty/Library/Python/3.12/lib/python/site-packages (from prompt-toolkit<3.1.0,>=3.0.41->ipython>=6.1.0->ipywidgets->ipyfilechooser>=0.6.0->geemap) (0.2.13)\n",
      "Requirement already satisfied: executing>=1.2.0 in /Users/charliedougherty/Library/Python/3.12/lib/python/site-packages (from stack-data->ipython>=6.1.0->ipywidgets->ipyfilechooser>=0.6.0->geemap) (2.1.0)\n",
      "Requirement already satisfied: asttokens>=2.1.0 in /Users/charliedougherty/Library/Python/3.12/lib/python/site-packages (from stack-data->ipython>=6.1.0->ipywidgets->ipyfilechooser>=0.6.0->geemap) (2.4.1)\n",
      "Requirement already satisfied: pure-eval in /Users/charliedougherty/Library/Python/3.12/lib/python/site-packages (from stack-data->ipython>=6.1.0->ipywidgets->ipyfilechooser>=0.6.0->geemap) (0.2.3)\n",
      "Downloading geemap-0.35.1-py2.py3-none-any.whl (2.3 MB)\n",
      "\u001b[2K   \u001b[90m━━━━━━━━━━━━━━━━━━━━━━━━━━━━━━━━━━━━━━━━\u001b[0m \u001b[32m2.3/2.3 MB\u001b[0m \u001b[31m23.7 MB/s\u001b[0m eta \u001b[36m0:00:00\u001b[0m\n",
      "\u001b[?25hUsing cached eerepr-0.0.4-py3-none-any.whl (9.7 kB)\n",
      "Downloading folium-0.19.3-py2.py3-none-any.whl (110 kB)\n",
      "Using cached ipyfilechooser-0.6.0-py3-none-any.whl (11 kB)\n",
      "Using cached ipyleaflet-0.19.2-py3-none-any.whl (31 kB)\n",
      "Using cached pyshp-2.3.1-py2.py3-none-any.whl (46 kB)\n",
      "Downloading bqplot-0.12.44-py2.py3-none-any.whl (1.2 MB)\n",
      "\u001b[2K   \u001b[90m━━━━━━━━━━━━━━━━━━━━━━━━━━━━━━━━━━━━━━━━\u001b[0m \u001b[32m1.2/1.2 MB\u001b[0m \u001b[31m22.8 MB/s\u001b[0m eta \u001b[36m0:00:00\u001b[0m\n",
      "\u001b[?25hDownloading numpy-2.2.1-cp312-cp312-macosx_14_0_arm64.whl (5.1 MB)\n",
      "\u001b[2K   \u001b[90m━━━━━━━━━━━━━━━━━━━━━━━━━━━━━━━━━━━━━━━━\u001b[0m \u001b[32m5.1/5.1 MB\u001b[0m \u001b[31m52.5 MB/s\u001b[0m eta \u001b[36m0:00:00\u001b[0m\n",
      "\u001b[?25hDownloading pandas-2.2.3-cp312-cp312-macosx_11_0_arm64.whl (11.4 MB)\n",
      "\u001b[2K   \u001b[90m━━━━━━━━━━━━━━━━━━━━━━━━━━━━━━━━━━━━━━━━\u001b[0m \u001b[32m11.4/11.4 MB\u001b[0m \u001b[31m55.8 MB/s\u001b[0m eta \u001b[36m0:00:00\u001b[0m\n",
      "\u001b[?25hUsing cached colour-0.1.5-py2.py3-none-any.whl (23 kB)\n",
      "Using cached geocoder-1.38.1-py2.py3-none-any.whl (98 kB)\n",
      "Using cached ipyevents-2.0.2-py3-none-any.whl (101 kB)\n",
      "Using cached ipytree-0.2.2-py2.py3-none-any.whl (1.3 MB)\n",
      "Downloading matplotlib-3.10.0-cp312-cp312-macosx_11_0_arm64.whl (8.0 MB)\n",
      "\u001b[2K   \u001b[90m━━━━━━━━━━━━━━━━━━━━━━━━━━━━━━━━━━━━━━━━\u001b[0m \u001b[32m8.0/8.0 MB\u001b[0m \u001b[31m28.8 MB/s\u001b[0m eta \u001b[36m0:00:00\u001b[0ma \u001b[36m0:00:01\u001b[0m\n",
      "\u001b[?25hUsing cached plotly-5.24.1-py3-none-any.whl (19.1 MB)\n",
      "Downloading python_box-7.3.0-cp312-cp312-macosx_10_13_universal2.whl (1.8 MB)\n",
      "\u001b[2K   \u001b[90m━━━━━━━━━━━━━━━━━━━━━━━━━━━━━━━━━━━━━━━━\u001b[0m \u001b[32m1.8/1.8 MB\u001b[0m \u001b[31m26.0 MB/s\u001b[0m eta \u001b[36m0:00:00\u001b[0m\n",
      "\u001b[?25hUsing cached scooby-0.10.0-py3-none-any.whl (18 kB)\n",
      "Downloading branca-0.8.1-py3-none-any.whl (26 kB)\n",
      "Downloading contourpy-1.3.1-cp312-cp312-macosx_11_0_arm64.whl (255 kB)\n",
      "Using cached cycler-0.12.1-py3-none-any.whl (8.3 kB)\n",
      "Downloading fonttools-4.55.3-cp312-cp312-macosx_10_13_universal2.whl (2.8 MB)\n",
      "\u001b[2K   \u001b[90m━━━━━━━━━━━━━━━━━━━━━━━━━━━━━━━━━━━━━━━━\u001b[0m \u001b[32m2.8/2.8 MB\u001b[0m \u001b[31m31.7 MB/s\u001b[0m eta \u001b[36m0:00:00\u001b[0m\n",
      "\u001b[?25hUsing cached ipywidgets-8.1.5-py3-none-any.whl (139 kB)\n",
      "Downloading jinja2-3.1.5-py3-none-any.whl (134 kB)\n",
      "Using cached jupyter_leaflet-0.19.2-py3-none-any.whl (1.1 MB)\n",
      "Downloading kiwisolver-1.4.8-cp312-cp312-macosx_11_0_arm64.whl (65 kB)\n",
      "Downloading pillow-11.1.0-cp312-cp312-macosx_11_0_arm64.whl (3.1 MB)\n",
      "\u001b[2K   \u001b[90m━━━━━━━━━━━━━━━━━━━━━━━━━━━━━━━━━━━━━━━━\u001b[0m \u001b[32m3.1/3.1 MB\u001b[0m \u001b[31m53.4 MB/s\u001b[0m eta \u001b[36m0:00:00\u001b[0m\n",
      "\u001b[?25hUsing cached pytz-2024.2-py2.py3-none-any.whl (508 kB)\n",
      "Using cached tenacity-9.0.0-py3-none-any.whl (28 kB)\n",
      "Using cached traittypes-0.2.1-py2.py3-none-any.whl (8.6 kB)\n",
      "Downloading tzdata-2024.2-py2.py3-none-any.whl (346 kB)\n",
      "Using cached xyzservices-2024.9.0-py3-none-any.whl (85 kB)\n",
      "Downloading click-8.1.8-py3-none-any.whl (98 kB)\n",
      "Using cached future-1.0.0-py3-none-any.whl (491 kB)\n",
      "Using cached ratelim-0.1.6-py2.py3-none-any.whl (4.0 kB)\n",
      "Using cached jupyterlab_widgets-3.0.13-py3-none-any.whl (214 kB)\n",
      "Downloading MarkupSafe-3.0.2-cp312-cp312-macosx_11_0_arm64.whl (12 kB)\n",
      "Using cached widgetsnbextension-4.0.13-py3-none-any.whl (2.3 MB)\n",
      "Installing collected packages: pytz, pyperclip, colour, xyzservices, widgetsnbextension, tzdata, traittypes, tenacity, scooby, ratelim, python-box, pyshp, pillow, numpy, MarkupSafe, kiwisolver, jupyterlab-widgets, jupyter-leaflet, future, fonttools, cycler, click, plotly, pandas, jinja2, geocoder, contourpy, matplotlib, branca, ipywidgets, folium, ipytree, ipyleaflet, ipyfilechooser, ipyevents, bqplot, eerepr, geemap\n",
      "Successfully installed MarkupSafe-3.0.2 bqplot-0.12.44 branca-0.8.1 click-8.1.8 colour-0.1.5 contourpy-1.3.1 cycler-0.12.1 eerepr-0.0.4 folium-0.19.3 fonttools-4.55.3 future-1.0.0 geemap-0.35.1 geocoder-1.38.1 ipyevents-2.0.2 ipyfilechooser-0.6.0 ipyleaflet-0.19.2 ipytree-0.2.2 ipywidgets-8.1.5 jinja2-3.1.5 jupyter-leaflet-0.19.2 jupyterlab-widgets-3.0.13 kiwisolver-1.4.8 matplotlib-3.10.0 numpy-2.2.1 pandas-2.2.3 pillow-11.1.0 plotly-5.24.1 pyperclip-1.9.0 pyshp-2.3.1 python-box-7.3.0 pytz-2024.2 ratelim-0.1.6 scooby-0.10.0 tenacity-9.0.0 traittypes-0.2.1 tzdata-2024.2 widgetsnbextension-4.0.13 xyzservices-2024.9.0\n",
      "\n",
      "\u001b[1m[\u001b[0m\u001b[34;49mnotice\u001b[0m\u001b[1;39;49m]\u001b[0m\u001b[39;49m A new release of pip is available: \u001b[0m\u001b[31;49m24.2\u001b[0m\u001b[39;49m -> \u001b[0m\u001b[32;49m24.3.1\u001b[0m\n",
      "\u001b[1m[\u001b[0m\u001b[34;49mnotice\u001b[0m\u001b[1;39;49m]\u001b[0m\u001b[39;49m To update, run: \u001b[0m\u001b[32;49mpip3 install --upgrade pip\u001b[0m\n",
      "Note: you may need to restart the kernel to use updated packages.\n"
     ]
    }
   ],
   "source": [
    "pip install geemap"
   ]
  },
  {
   "cell_type": "code",
   "execution_count": 2,
   "id": "6709e68e",
   "metadata": {},
   "outputs": [],
   "source": [
    "## authenticates the session with EE\n",
    "ee.Authenticate()\n",
    "\n",
    "# creates the connection with EE. \n",
    "ee.Initialize()"
   ]
  },
  {
   "cell_type": "code",
   "execution_count": 3,
   "id": "5abf50a9",
   "metadata": {},
   "outputs": [],
   "source": [
    "# Define a region of interest (ROI) for the analysis\n",
    "roi = ee.Geometry.Rectangle([162.277817, -77.740157, 163.272100, -77.576571])  \n",
    "# Coordinate range that covers the Taylor Valley lakes"
   ]
  },
  {
   "cell_type": "code",
   "execution_count": 4,
   "id": "8ceba850",
   "metadata": {},
   "outputs": [],
   "source": [
    "pointed = ee.Geometry.BBox(162.1, -77.73, 163.3, -77.59)"
   ]
  },
  {
   "cell_type": "code",
   "execution_count": 5,
   "id": "dd158bee",
   "metadata": {},
   "outputs": [],
   "source": [
    "point = ee.Geometry.BBox(163.195, -77.61, 163.2, -77.6095)"
   ]
  },
  {
   "cell_type": "code",
   "execution_count": 6,
   "id": "86704415",
   "metadata": {},
   "outputs": [],
   "source": [
    "def addImageDate(image):\n",
    "    mission = image.get('SPACECRAFT_ID')\n",
    "    date = image.date().format('YYYY-MM-dd')\n",
    "    missDate = ee.String(mission).cat('_').cat(ee.String(date))\n",
    "    return image.set('missDate', missDate)\n"
   ]
  },
  {
   "cell_type": "code",
   "execution_count": 7,
   "id": "49c272fd",
   "metadata": {},
   "outputs": [],
   "source": [
    "start_date = \"2016-03-06\"\n",
    "end_date = \"2024-07-01\""
   ]
  },
  {
   "cell_type": "code",
   "execution_count": 8,
   "id": "58ea4a43",
   "metadata": {},
   "outputs": [],
   "source": [
    "ids = ee.List(['LANDSAT_8_2016-11-02', 'LANDSAT_8_2016-11-04', 'LANDSAT_8_2016-11-06', 'LANDSAT_8_2016-11-08', 'LANDSAT_8_2016-11-13', 'LANDSAT_8_2016-11-15', 'LANDSAT_8_2016-12-10', 'LANDSAT_8_2016-12-13', 'LANDSAT_8_2016-12-15', 'LANDSAT_8_2016-12-17', 'LANDSAT_8_2016-12-19', 'LANDSAT_8_2016-12-24', 'LANDSAT_8_2017-01-02', 'LANDSAT_8_2017-01-11', 'LANDSAT_8_2017-01-14', 'LANDSAT_8_2017-01-18', 'LANDSAT_8_2017-01-25', 'LANDSAT_8_2017-01-27', 'LANDSAT_8_2017-01-30', 'LANDSAT_8_2017-02-01', 'LANDSAT_8_2017-11-04', 'LANDSAT_8_2017-11-07', 'LANDSAT_8_2017-11-18', 'LANDSAT_8_2017-11-20', 'LANDSAT_8_2017-11-21', 'LANDSAT_8_2017-11-25', 'LANDSAT_8_2017-11-27', 'LANDSAT_8_2017-11-30', 'LANDSAT_8_2017-12-02', 'LANDSAT_8_2017-12-07', 'LANDSAT_8_2017-12-16', 'LANDSAT_8_2017-12-23', 'LANDSAT_8_2018-01-03', 'LANDSAT_8_2018-01-05', 'LANDSAT_8_2018-01-07', 'LANDSAT_8_2018-01-10', 'LANDSAT_8_2018-01-12', 'LANDSAT_8_2018-01-14', 'LANDSAT_8_2018-01-19', 'LANDSAT_8_2018-01-26', 'LANDSAT_8_2018-01-30', 'LANDSAT_8_2018-11-05', 'LANDSAT_8_2018-11-07', 'LANDSAT_8_2018-11-08', 'LANDSAT_8_2018-11-12', 'LANDSAT_8_2018-11-17', 'LANDSAT_8_2018-11-19', 'LANDSAT_8_2018-11-23', 'LANDSAT_8_2018-11-24', 'LANDSAT_8_2018-11-26', 'LANDSAT_8_2018-11-28', 'LANDSAT_8_2018-11-30', 'LANDSAT_8_2018-12-05', 'LANDSAT_8_2018-12-30', 'LANDSAT_8_2019-01-01', 'LANDSAT_8_2019-01-04', 'LANDSAT_8_2019-01-06', 'LANDSAT_8_2019-01-10', 'LANDSAT_8_2019-01-11', 'LANDSAT_8_2019-01-15', 'LANDSAT_8_2019-01-24', 'LANDSAT_8_2019-01-26', 'LANDSAT_8_2019-11-06', 'LANDSAT_8_2019-11-08', 'LANDSAT_8_2019-11-10', 'LANDSAT_8_2019-11-11', 'LANDSAT_8_2019-11-15', 'LANDSAT_8_2019-11-17', 'LANDSAT_8_2019-11-24', 'LANDSAT_8_2019-11-26', 'LANDSAT_8_2019-11-27', 'LANDSAT_8_2019-12-03', 'LANDSAT_8_2019-12-17', 'LANDSAT_8_2019-12-24', 'LANDSAT_8_2019-12-26', 'LANDSAT_8_2019-12-31', 'LANDSAT_8_2020-01-02', 'LANDSAT_8_2020-01-11', 'LANDSAT_8_2020-01-20', 'LANDSAT_8_2020-10-30', 'LANDSAT_8_2020-11-15', 'LANDSAT_8_2020-11-17', 'LANDSAT_8_2020-11-19', 'LANDSAT_8_2020-11-24', 'LANDSAT_8_2020-11-26', 'LANDSAT_8_2020-11-28', 'LANDSAT_8_2020-11-29', 'LANDSAT_8_2020-12-01', 'LANDSAT_8_2020-12-03', 'LANDSAT_8_2020-12-08', 'LANDSAT_8_2020-12-10', 'LANDSAT_8_2020-12-14', 'LANDSAT_8_2020-12-15', 'LANDSAT_8_2020-12-21', 'LANDSAT_8_2020-12-24', 'LANDSAT_8_2020-12-26', 'LANDSAT_8_2020-12-30', 'LANDSAT_8_2021-01-06', 'LANDSAT_8_2021-01-13', 'LANDSAT_8_2021-01-15', 'LANDSAT_8_2021-01-16', 'LANDSAT_8_2021-01-18', 'LANDSAT_8_2021-01-22', 'LANDSAT_8_2021-02-01', 'LANDSAT_8_2021-10-31', 'LANDSAT_8_2021-11-04', 'LANDSAT_8_2021-11-09', 'LANDSAT_8_2021-11-11', 'LANDSAT_8_2021-11-15', 'LANDSAT_8_2021-11-20', 'LANDSAT_8_2021-12-01', 'LANDSAT_8_2021-12-02', 'LANDSAT_8_2021-12-04', 'LANDSAT_8_2021-12-06', 'LANDSAT_8_2021-12-08', 'LANDSAT_8_2021-12-11', 'LANDSAT_8_2021-12-18', 'LANDSAT_8_2021-12-20', 'LANDSAT_8_2021-12-22', 'LANDSAT_8_2021-12-24', 'LANDSAT_8_2022-01-05', 'LANDSAT_8_2022-01-07', 'LANDSAT_8_2022-01-12', 'LANDSAT_8_2022-01-14', 'LANDSAT_8_2022-01-16', 'LANDSAT_8_2022-01-19', 'LANDSAT_8_2022-01-25', 'LANDSAT_8_2022-01-28', 'LANDSAT_8_2022-11-14', 'LANDSAT_8_2022-11-16', 'LANDSAT_8_2022-11-18', 'LANDSAT_8_2022-11-19', 'LANDSAT_8_2022-11-21', 'LANDSAT_8_2022-11-23', 'LANDSAT_8_2022-11-28', 'LANDSAT_8_2022-12-04', 'LANDSAT_8_2022-12-05', 'LANDSAT_8_2022-12-11', 'LANDSAT_8_2022-12-16', 'LANDSAT_8_2022-12-18', 'LANDSAT_8_2023-01-01', 'LANDSAT_8_2023-01-03', 'LANDSAT_8_2023-01-10', 'LANDSAT_8_2023-01-15', 'LANDSAT_8_2023-01-22', 'LANDSAT_8_2023-01-24', 'LANDSAT_8_2023-11-01', 'LANDSAT_8_2023-11-17', 'LANDSAT_8_2023-11-19', 'LANDSAT_8_2023-11-21', 'LANDSAT_8_2023-12-05', 'LANDSAT_8_2023-12-07', 'LANDSAT_8_2023-12-10', 'LANDSAT_8_2023-12-19', 'LANDSAT_8_2023-12-28', 'LANDSAT_8_2023-12-30', 'LANDSAT_8_2024-01-04', 'LANDSAT_8_2024-01-11', 'LANDSAT_8_2024-01-13', 'LANDSAT_8_2024-01-22', 'LANDSAT_8_2024-01-24'])"
   ]
  },
  {
   "cell_type": "code",
   "execution_count": 9,
   "id": "dba350d9",
   "metadata": {},
   "outputs": [],
   "source": [
    "## filter based on the file names found in the same df\n",
    "l8 = ee.ImageCollection('LANDSAT/LC08/C02/T2_TOA')\\\n",
    "    .select(['B2', 'B3', 'B4', 'B5', 'B6', 'B7', 'B8'])\\\n",
    "    .filterDate(start_date, end_date)\\\n",
    "    .map(addImageDate)\\\n",
    "    .filter(ee.Filter.inList(\"missDate\", ids))\\\n",
    "    .filter(ee.Filter.gt('SUN_ELEVATION',20))\\\n",
    "    .filterBounds(pointed)\\\n",
    "    .sort('DATE_ACQUIRED')\n"
   ]
  },
  {
   "cell_type": "code",
   "execution_count": 10,
   "id": "eee3fcac",
   "metadata": {},
   "outputs": [],
   "source": [
    "def mosaic_by_date(imcol):\n",
    "    # Convert the image collection to a list of images\n",
    "    imlist = imcol.toList(imcol.size())\n",
    "    \n",
    "    # Get unique dates from the image collection\n",
    "    def get_date(image):\n",
    "        return ee.Image(image).date().format(\"YYYY-MM-dd\")\n",
    "    \n",
    "    unique_dates = imlist.map(lambda im: get_date(im)).distinct()\n",
    "\n",
    "    def create_mosaic(date_str):\n",
    "        date = ee.Date(date_str)\n",
    "        \n",
    "        # Filter images for that day and create a mosaic\n",
    "        mosaic = imcol.filterDate(date, date.advance(1, 'day')).mosaic()\n",
    "        \n",
    "        return mosaic.set({\n",
    "            'system:time_start': date.millis(),\n",
    "            'system:id': date.format('YYYY-MM-dd')\n",
    "        })\n",
    "\n",
    "    # Create mosaics for each unique date\n",
    "    mosaic_imlist = unique_dates.map(create_mosaic)\n",
    "    \n",
    "    return ee.ImageCollection(mosaic_imlist)\n",
    "\n",
    "# Example usage with an image collection (e.g., 'LANDSAT/LC08/C02/T1_L2')\n",
    "s2 = ee.ImageCollection('LANDSAT/LC08/C02/T2_TOA')\\\n",
    "    .select(['B2', 'B3', 'B4', 'B5', 'B6', 'B7', 'B8'])\\\n",
    "    .filterDate(start_date, end_date)\\\n",
    "    .map(addImageDate)\\\n",
    "    .filter(ee.Filter.inList(\"missDate\", ids))\\\n",
    "    .filter(ee.Filter.gt('SUN_ELEVATION',20))\\\n",
    "    .filterBounds(pointed)\\\n",
    "    .sort('DATE_ACQUIRED')\n",
    "s3 = mosaic_by_date(s2)\n",
    "\n",
    "# Print information about the resulting ImageCollection\n",
    "#print(s3.size().getInfo())"
   ]
  },
  {
   "cell_type": "code",
   "execution_count": 11,
   "id": "ce4a8182",
   "metadata": {},
   "outputs": [],
   "source": [
    "def clip_image(image):\n",
    "    return image.clip(pointed)\n",
    "\n",
    "l8_clipped = s3.map(clip_image)\n",
    "\n",
    "l8_clipped_forexport = l8_clipped\\\n",
    "    .select(['B4', 'B3', \"B2\"])\n",
    "\n",
    "#print(l8_clipped.getInfo())"
   ]
  },
  {
   "cell_type": "code",
   "execution_count": 12,
   "id": "d2f19f64",
   "metadata": {},
   "outputs": [],
   "source": [
    "# export the images in the l8_clipped collection\n",
    "def export_image(image):\n",
    "    date_str = ee.Date(image.get('system:time_start')).format('YYYY-MM-dd').getInfo()\n",
    "    task = ee.batch.Export.image.toDrive(\n",
    "        image=image,\n",
    "        description=f'raw_images_{date_str}',\n",
    "        folder='EarthEngine',  # Replace with your folder name\n",
    "        scale=30,                 # Define the scale (e.g., 30 meters per pixel)\n",
    "        crs='EPSG:3031',          # Define the Coordinate Reference System\n",
    "        region=pointed,  # Define the region to export\n",
    "        fileNamePrefix=f'rgbs_{date_str}'\n",
    "    )\n",
    "    task.start()\n",
    "    print(f\"Export started for image with date {date_str}.\")\n",
    "    \n"
   ]
  },
  {
   "cell_type": "code",
   "execution_count": 27,
   "id": "4a155e87",
   "metadata": {},
   "outputs": [
    {
     "data": {
      "text/html": [
       "\n",
       "            <style>\n",
       "                .geemap-dark {\n",
       "                    --jp-widgets-color: white;\n",
       "                    --jp-widgets-label-color: white;\n",
       "                    --jp-ui-font-color1: white;\n",
       "                    --jp-layout-color2: #454545;\n",
       "                    background-color: #383838;\n",
       "                }\n",
       "\n",
       "                .geemap-dark .jupyter-button {\n",
       "                    --jp-layout-color3: #383838;\n",
       "                }\n",
       "\n",
       "                .geemap-colab {\n",
       "                    background-color: var(--colab-primary-surface-color, white);\n",
       "                }\n",
       "\n",
       "                .geemap-colab .jupyter-button {\n",
       "                    --jp-layout-color3: var(--colab-primary-surface-color, white);\n",
       "                }\n",
       "            </style>\n",
       "            "
      ],
      "text/plain": [
       "<IPython.core.display.HTML object>"
      ]
     },
     "metadata": {},
     "output_type": "display_data"
    },
    {
     "name": "stdout",
     "output_type": "stream",
     "text": [
      "Export started for image with date 2016-11-02.\n",
      "Export started for image with date 2016-11-04.\n",
      "Export started for image with date 2016-11-06.\n",
      "Export started for image with date 2016-11-08.\n",
      "Export started for image with date 2016-11-13.\n",
      "Export started for image with date 2016-11-15.\n",
      "Export started for image with date 2016-12-10.\n",
      "Export started for image with date 2016-12-13.\n",
      "Export started for image with date 2016-12-15.\n",
      "Export started for image with date 2016-12-17.\n",
      "Export started for image with date 2016-12-19.\n",
      "Export started for image with date 2016-12-24.\n",
      "Export started for image with date 2017-01-02.\n",
      "Export started for image with date 2017-01-11.\n",
      "Export started for image with date 2017-01-14.\n",
      "Export started for image with date 2017-01-18.\n",
      "Export started for image with date 2017-01-25.\n",
      "Export started for image with date 2017-01-27.\n",
      "Export started for image with date 2017-01-30.\n",
      "Export started for image with date 2017-02-01.\n",
      "Export started for image with date 2017-11-04.\n",
      "Export started for image with date 2017-11-07.\n",
      "Export started for image with date 2017-11-18.\n",
      "Export started for image with date 2017-11-20.\n",
      "Export started for image with date 2017-11-21.\n",
      "Export started for image with date 2017-11-25.\n",
      "Export started for image with date 2017-11-27.\n",
      "Export started for image with date 2017-11-30.\n",
      "Export started for image with date 2017-12-02.\n",
      "Export started for image with date 2017-12-07.\n",
      "Export started for image with date 2017-12-16.\n",
      "Export started for image with date 2017-12-23.\n",
      "Export started for image with date 2018-01-03.\n",
      "Export started for image with date 2018-01-05.\n",
      "Export started for image with date 2018-01-07.\n",
      "Export started for image with date 2018-01-10.\n",
      "Export started for image with date 2018-01-12.\n",
      "Export started for image with date 2018-01-14.\n",
      "Export started for image with date 2018-01-19.\n",
      "Export started for image with date 2018-01-26.\n",
      "Export started for image with date 2018-01-30.\n",
      "Export started for image with date 2018-11-05.\n",
      "Export started for image with date 2018-11-07.\n",
      "Export started for image with date 2018-11-08.\n",
      "Export started for image with date 2018-11-12.\n",
      "Export started for image with date 2018-11-17.\n",
      "Export started for image with date 2018-11-19.\n",
      "Export started for image with date 2018-11-23.\n",
      "Export started for image with date 2018-11-24.\n",
      "Export started for image with date 2018-11-26.\n"
     ]
    },
    {
     "ename": "KeyboardInterrupt",
     "evalue": "",
     "output_type": "error",
     "traceback": [
      "\u001b[0;31m---------------------------------------------------------------------------\u001b[0m",
      "\u001b[0;31mKeyboardInterrupt\u001b[0m                         Traceback (most recent call last)",
      "Cell \u001b[0;32mIn[27], line 9\u001b[0m\n\u001b[1;32m      6\u001b[0m         image \u001b[38;5;241m=\u001b[39m ee\u001b[38;5;241m.\u001b[39mImage(image_list\u001b[38;5;241m.\u001b[39mget(i))\n\u001b[1;32m      7\u001b[0m         export_image(image)\n\u001b[0;32m----> 9\u001b[0m process_images()\n",
      "Cell \u001b[0;32mIn[27], line 7\u001b[0m, in \u001b[0;36mprocess_images\u001b[0;34m()\u001b[0m\n\u001b[1;32m      5\u001b[0m \u001b[38;5;28;01mfor\u001b[39;00m i \u001b[38;5;129;01min\u001b[39;00m \u001b[38;5;28mrange\u001b[39m(num_images):\n\u001b[1;32m      6\u001b[0m     image \u001b[38;5;241m=\u001b[39m ee\u001b[38;5;241m.\u001b[39mImage(image_list\u001b[38;5;241m.\u001b[39mget(i))\n\u001b[0;32m----> 7\u001b[0m     export_image(image)\n",
      "Cell \u001b[0;32mIn[25], line 3\u001b[0m, in \u001b[0;36mexport_image\u001b[0;34m(image)\u001b[0m\n\u001b[1;32m      2\u001b[0m \u001b[38;5;28;01mdef\u001b[39;00m \u001b[38;5;21mexport_image\u001b[39m(image):\n\u001b[0;32m----> 3\u001b[0m     date_str \u001b[38;5;241m=\u001b[39m ee\u001b[38;5;241m.\u001b[39mDate(image\u001b[38;5;241m.\u001b[39mget(\u001b[38;5;124m'\u001b[39m\u001b[38;5;124msystem:time_start\u001b[39m\u001b[38;5;124m'\u001b[39m))\u001b[38;5;241m.\u001b[39mformat(\u001b[38;5;124m'\u001b[39m\u001b[38;5;124mYYYY-MM-dd\u001b[39m\u001b[38;5;124m'\u001b[39m)\u001b[38;5;241m.\u001b[39mgetInfo()\n\u001b[1;32m      4\u001b[0m     task \u001b[38;5;241m=\u001b[39m ee\u001b[38;5;241m.\u001b[39mbatch\u001b[38;5;241m.\u001b[39mExport\u001b[38;5;241m.\u001b[39mimage\u001b[38;5;241m.\u001b[39mtoDrive(\n\u001b[1;32m      5\u001b[0m         image\u001b[38;5;241m=\u001b[39mimage,\n\u001b[1;32m      6\u001b[0m         description\u001b[38;5;241m=\u001b[39m\u001b[38;5;124mf\u001b[39m\u001b[38;5;124m'\u001b[39m\u001b[38;5;124mraw_images_\u001b[39m\u001b[38;5;132;01m{\u001b[39;00mdate_str\u001b[38;5;132;01m}\u001b[39;00m\u001b[38;5;124m'\u001b[39m,\n\u001b[0;32m   (...)\u001b[0m\n\u001b[1;32m     11\u001b[0m         fileNamePrefix\u001b[38;5;241m=\u001b[39m\u001b[38;5;124mf\u001b[39m\u001b[38;5;124m'\u001b[39m\u001b[38;5;124mrgbs_\u001b[39m\u001b[38;5;132;01m{\u001b[39;00mdate_str\u001b[38;5;132;01m}\u001b[39;00m\u001b[38;5;124m'\u001b[39m\n\u001b[1;32m     12\u001b[0m     )\n\u001b[1;32m     13\u001b[0m     task\u001b[38;5;241m.\u001b[39mstart()\n",
      "File \u001b[0;32m/Applications/anaconda3/lib/python3.12/site-packages/ee/computedobject.py:107\u001b[0m, in \u001b[0;36mComputedObject.getInfo\u001b[0;34m(self)\u001b[0m\n\u001b[1;32m    101\u001b[0m \u001b[38;5;28;01mdef\u001b[39;00m \u001b[38;5;21mgetInfo\u001b[39m(\u001b[38;5;28mself\u001b[39m) \u001b[38;5;241m-\u001b[39m\u001b[38;5;241m>\u001b[39m Optional[Any]:\n\u001b[1;32m    102\u001b[0m \u001b[38;5;250m  \u001b[39m\u001b[38;5;124;03m\"\"\"Fetch and return information about this object.\u001b[39;00m\n\u001b[1;32m    103\u001b[0m \n\u001b[1;32m    104\u001b[0m \u001b[38;5;124;03m  Returns:\u001b[39;00m\n\u001b[1;32m    105\u001b[0m \u001b[38;5;124;03m    The object can evaluate to anything.\u001b[39;00m\n\u001b[1;32m    106\u001b[0m \u001b[38;5;124;03m  \"\"\"\u001b[39;00m\n\u001b[0;32m--> 107\u001b[0m   \u001b[38;5;28;01mreturn\u001b[39;00m data\u001b[38;5;241m.\u001b[39mcomputeValue(\u001b[38;5;28mself\u001b[39m)\n",
      "File \u001b[0;32m/Applications/anaconda3/lib/python3.12/site-packages/ee/data.py:1126\u001b[0m, in \u001b[0;36mcomputeValue\u001b[0;34m(obj)\u001b[0m\n\u001b[1;32m   1123\u001b[0m body \u001b[38;5;241m=\u001b[39m {\u001b[38;5;124m'\u001b[39m\u001b[38;5;124mexpression\u001b[39m\u001b[38;5;124m'\u001b[39m: serializer\u001b[38;5;241m.\u001b[39mencode(obj, for_cloud_api\u001b[38;5;241m=\u001b[39m\u001b[38;5;28;01mTrue\u001b[39;00m)}\n\u001b[1;32m   1124\u001b[0m _maybe_populate_workload_tag(body)\n\u001b[0;32m-> 1126\u001b[0m \u001b[38;5;28;01mreturn\u001b[39;00m _execute_cloud_call(\n\u001b[1;32m   1127\u001b[0m     _get_cloud_projects()\n\u001b[1;32m   1128\u001b[0m     \u001b[38;5;241m.\u001b[39mvalue()\n\u001b[1;32m   1129\u001b[0m     \u001b[38;5;241m.\u001b[39mcompute(body\u001b[38;5;241m=\u001b[39mbody, project\u001b[38;5;241m=\u001b[39m_get_projects_path(), prettyPrint\u001b[38;5;241m=\u001b[39m\u001b[38;5;28;01mFalse\u001b[39;00m)\n\u001b[1;32m   1130\u001b[0m )[\u001b[38;5;124m'\u001b[39m\u001b[38;5;124mresult\u001b[39m\u001b[38;5;124m'\u001b[39m]\n",
      "File \u001b[0;32m/Applications/anaconda3/lib/python3.12/site-packages/ee/data.py:406\u001b[0m, in \u001b[0;36m_execute_cloud_call\u001b[0;34m(call, num_retries)\u001b[0m\n\u001b[1;32m    404\u001b[0m num_retries \u001b[38;5;241m=\u001b[39m _max_retries \u001b[38;5;28;01mif\u001b[39;00m num_retries \u001b[38;5;129;01mis\u001b[39;00m \u001b[38;5;28;01mNone\u001b[39;00m \u001b[38;5;28;01melse\u001b[39;00m num_retries\n\u001b[1;32m    405\u001b[0m \u001b[38;5;28;01mtry\u001b[39;00m:\n\u001b[0;32m--> 406\u001b[0m   \u001b[38;5;28;01mreturn\u001b[39;00m call\u001b[38;5;241m.\u001b[39mexecute(num_retries\u001b[38;5;241m=\u001b[39mnum_retries)\n\u001b[1;32m    407\u001b[0m \u001b[38;5;28;01mexcept\u001b[39;00m googleapiclient\u001b[38;5;241m.\u001b[39merrors\u001b[38;5;241m.\u001b[39mHttpError \u001b[38;5;28;01mas\u001b[39;00m e:\n\u001b[1;32m    408\u001b[0m   \u001b[38;5;28;01mraise\u001b[39;00m _translate_cloud_exception(e)\n",
      "File \u001b[0;32m/Applications/anaconda3/lib/python3.12/site-packages/googleapiclient/_helpers.py:130\u001b[0m, in \u001b[0;36mpositional.<locals>.positional_decorator.<locals>.positional_wrapper\u001b[0;34m(*args, **kwargs)\u001b[0m\n\u001b[1;32m    128\u001b[0m     \u001b[38;5;28;01melif\u001b[39;00m positional_parameters_enforcement \u001b[38;5;241m==\u001b[39m POSITIONAL_WARNING:\n\u001b[1;32m    129\u001b[0m         logger\u001b[38;5;241m.\u001b[39mwarning(message)\n\u001b[0;32m--> 130\u001b[0m \u001b[38;5;28;01mreturn\u001b[39;00m wrapped(\u001b[38;5;241m*\u001b[39margs, \u001b[38;5;241m*\u001b[39m\u001b[38;5;241m*\u001b[39mkwargs)\n",
      "File \u001b[0;32m/Applications/anaconda3/lib/python3.12/site-packages/googleapiclient/http.py:923\u001b[0m, in \u001b[0;36mHttpRequest.execute\u001b[0;34m(self, http, num_retries)\u001b[0m\n\u001b[1;32m    920\u001b[0m     \u001b[38;5;28mself\u001b[39m\u001b[38;5;241m.\u001b[39mheaders[\u001b[38;5;124m\"\u001b[39m\u001b[38;5;124mcontent-length\u001b[39m\u001b[38;5;124m\"\u001b[39m] \u001b[38;5;241m=\u001b[39m \u001b[38;5;28mstr\u001b[39m(\u001b[38;5;28mlen\u001b[39m(\u001b[38;5;28mself\u001b[39m\u001b[38;5;241m.\u001b[39mbody))\n\u001b[1;32m    922\u001b[0m \u001b[38;5;66;03m# Handle retries for server-side errors.\u001b[39;00m\n\u001b[0;32m--> 923\u001b[0m resp, content \u001b[38;5;241m=\u001b[39m _retry_request(\n\u001b[1;32m    924\u001b[0m     http,\n\u001b[1;32m    925\u001b[0m     num_retries,\n\u001b[1;32m    926\u001b[0m     \u001b[38;5;124m\"\u001b[39m\u001b[38;5;124mrequest\u001b[39m\u001b[38;5;124m\"\u001b[39m,\n\u001b[1;32m    927\u001b[0m     \u001b[38;5;28mself\u001b[39m\u001b[38;5;241m.\u001b[39m_sleep,\n\u001b[1;32m    928\u001b[0m     \u001b[38;5;28mself\u001b[39m\u001b[38;5;241m.\u001b[39m_rand,\n\u001b[1;32m    929\u001b[0m     \u001b[38;5;28mstr\u001b[39m(\u001b[38;5;28mself\u001b[39m\u001b[38;5;241m.\u001b[39muri),\n\u001b[1;32m    930\u001b[0m     method\u001b[38;5;241m=\u001b[39m\u001b[38;5;28mstr\u001b[39m(\u001b[38;5;28mself\u001b[39m\u001b[38;5;241m.\u001b[39mmethod),\n\u001b[1;32m    931\u001b[0m     body\u001b[38;5;241m=\u001b[39m\u001b[38;5;28mself\u001b[39m\u001b[38;5;241m.\u001b[39mbody,\n\u001b[1;32m    932\u001b[0m     headers\u001b[38;5;241m=\u001b[39m\u001b[38;5;28mself\u001b[39m\u001b[38;5;241m.\u001b[39mheaders,\n\u001b[1;32m    933\u001b[0m )\n\u001b[1;32m    935\u001b[0m \u001b[38;5;28;01mfor\u001b[39;00m callback \u001b[38;5;129;01min\u001b[39;00m \u001b[38;5;28mself\u001b[39m\u001b[38;5;241m.\u001b[39mresponse_callbacks:\n\u001b[1;32m    936\u001b[0m     callback(resp)\n",
      "File \u001b[0;32m/Applications/anaconda3/lib/python3.12/site-packages/googleapiclient/http.py:191\u001b[0m, in \u001b[0;36m_retry_request\u001b[0;34m(http, num_retries, req_type, sleep, rand, uri, method, *args, **kwargs)\u001b[0m\n\u001b[1;32m    189\u001b[0m \u001b[38;5;28;01mtry\u001b[39;00m:\n\u001b[1;32m    190\u001b[0m     exception \u001b[38;5;241m=\u001b[39m \u001b[38;5;28;01mNone\u001b[39;00m\n\u001b[0;32m--> 191\u001b[0m     resp, content \u001b[38;5;241m=\u001b[39m http\u001b[38;5;241m.\u001b[39mrequest(uri, method, \u001b[38;5;241m*\u001b[39margs, \u001b[38;5;241m*\u001b[39m\u001b[38;5;241m*\u001b[39mkwargs)\n\u001b[1;32m    192\u001b[0m \u001b[38;5;66;03m# Retry on SSL errors and socket timeout errors.\u001b[39;00m\n\u001b[1;32m    193\u001b[0m \u001b[38;5;28;01mexcept\u001b[39;00m _ssl_SSLError \u001b[38;5;28;01mas\u001b[39;00m ssl_error:\n",
      "File \u001b[0;32m/Applications/anaconda3/lib/python3.12/site-packages/google_auth_httplib2.py:218\u001b[0m, in \u001b[0;36mAuthorizedHttp.request\u001b[0;34m(self, uri, method, body, headers, redirections, connection_type, **kwargs)\u001b[0m\n\u001b[1;32m    215\u001b[0m     body_stream_position \u001b[38;5;241m=\u001b[39m body\u001b[38;5;241m.\u001b[39mtell()\n\u001b[1;32m    217\u001b[0m \u001b[38;5;66;03m# Make the request.\u001b[39;00m\n\u001b[0;32m--> 218\u001b[0m response, content \u001b[38;5;241m=\u001b[39m \u001b[38;5;28mself\u001b[39m\u001b[38;5;241m.\u001b[39mhttp\u001b[38;5;241m.\u001b[39mrequest(\n\u001b[1;32m    219\u001b[0m     uri,\n\u001b[1;32m    220\u001b[0m     method,\n\u001b[1;32m    221\u001b[0m     body\u001b[38;5;241m=\u001b[39mbody,\n\u001b[1;32m    222\u001b[0m     headers\u001b[38;5;241m=\u001b[39mrequest_headers,\n\u001b[1;32m    223\u001b[0m     redirections\u001b[38;5;241m=\u001b[39mredirections,\n\u001b[1;32m    224\u001b[0m     connection_type\u001b[38;5;241m=\u001b[39mconnection_type,\n\u001b[1;32m    225\u001b[0m     \u001b[38;5;241m*\u001b[39m\u001b[38;5;241m*\u001b[39mkwargs\n\u001b[1;32m    226\u001b[0m )\n\u001b[1;32m    228\u001b[0m \u001b[38;5;66;03m# If the response indicated that the credentials needed to be\u001b[39;00m\n\u001b[1;32m    229\u001b[0m \u001b[38;5;66;03m# refreshed, then refresh the credentials and re-attempt the\u001b[39;00m\n\u001b[1;32m    230\u001b[0m \u001b[38;5;66;03m# request.\u001b[39;00m\n\u001b[1;32m    231\u001b[0m \u001b[38;5;66;03m# A stored token may expire between the time it is retrieved and\u001b[39;00m\n\u001b[1;32m    232\u001b[0m \u001b[38;5;66;03m# the time the request is made, so we may need to try twice.\u001b[39;00m\n\u001b[1;32m    233\u001b[0m \u001b[38;5;28;01mif\u001b[39;00m (\n\u001b[1;32m    234\u001b[0m     response\u001b[38;5;241m.\u001b[39mstatus \u001b[38;5;129;01min\u001b[39;00m \u001b[38;5;28mself\u001b[39m\u001b[38;5;241m.\u001b[39m_refresh_status_codes\n\u001b[1;32m    235\u001b[0m     \u001b[38;5;129;01mand\u001b[39;00m _credential_refresh_attempt \u001b[38;5;241m<\u001b[39m \u001b[38;5;28mself\u001b[39m\u001b[38;5;241m.\u001b[39m_max_refresh_attempts\n\u001b[1;32m    236\u001b[0m ):\n",
      "File \u001b[0;32m/Applications/anaconda3/lib/python3.12/site-packages/ee/_cloud_api_utils.py:70\u001b[0m, in \u001b[0;36m_Http.request\u001b[0;34m(***failed resolving arguments***)\u001b[0m\n\u001b[1;32m     63\u001b[0m \u001b[38;5;28;01mdel\u001b[39;00m redirections  \u001b[38;5;66;03m# Ignored\u001b[39;00m\n\u001b[1;32m     65\u001b[0m \u001b[38;5;28;01mtry\u001b[39;00m:\n\u001b[1;32m     66\u001b[0m   \u001b[38;5;66;03m# googleapiclient is expecting an httplib2 object, and doesn't include\u001b[39;00m\n\u001b[1;32m     67\u001b[0m   \u001b[38;5;66;03m# requests error in the list of transient errors. Therefore, transient\u001b[39;00m\n\u001b[1;32m     68\u001b[0m   \u001b[38;5;66;03m# requests errors should be converted to kinds that googleapiclient\u001b[39;00m\n\u001b[1;32m     69\u001b[0m   \u001b[38;5;66;03m# consider transient.\u001b[39;00m\n\u001b[0;32m---> 70\u001b[0m   response \u001b[38;5;241m=\u001b[39m \u001b[38;5;28mself\u001b[39m\u001b[38;5;241m.\u001b[39m_session\u001b[38;5;241m.\u001b[39mrequest(\n\u001b[1;32m     71\u001b[0m       method, uri, data\u001b[38;5;241m=\u001b[39mbody, headers\u001b[38;5;241m=\u001b[39mheaders, timeout\u001b[38;5;241m=\u001b[39m\u001b[38;5;28mself\u001b[39m\u001b[38;5;241m.\u001b[39m_timeout\n\u001b[1;32m     72\u001b[0m   )\n\u001b[1;32m     73\u001b[0m \u001b[38;5;28;01mexcept\u001b[39;00m requests\u001b[38;5;241m.\u001b[39mexceptions\u001b[38;5;241m.\u001b[39mConnectionError \u001b[38;5;28;01mas\u001b[39;00m connection_error:\n\u001b[1;32m     74\u001b[0m   \u001b[38;5;28;01mraise\u001b[39;00m \u001b[38;5;167;01mConnectionError\u001b[39;00m(connection_error) \u001b[38;5;28;01mfrom\u001b[39;00m \u001b[38;5;21;01mconnection_error\u001b[39;00m\n",
      "File \u001b[0;32m/Applications/anaconda3/lib/python3.12/site-packages/requests/sessions.py:589\u001b[0m, in \u001b[0;36mSession.request\u001b[0;34m(self, method, url, params, data, headers, cookies, files, auth, timeout, allow_redirects, proxies, hooks, stream, verify, cert, json)\u001b[0m\n\u001b[1;32m    584\u001b[0m send_kwargs \u001b[38;5;241m=\u001b[39m {\n\u001b[1;32m    585\u001b[0m     \u001b[38;5;124m\"\u001b[39m\u001b[38;5;124mtimeout\u001b[39m\u001b[38;5;124m\"\u001b[39m: timeout,\n\u001b[1;32m    586\u001b[0m     \u001b[38;5;124m\"\u001b[39m\u001b[38;5;124mallow_redirects\u001b[39m\u001b[38;5;124m\"\u001b[39m: allow_redirects,\n\u001b[1;32m    587\u001b[0m }\n\u001b[1;32m    588\u001b[0m send_kwargs\u001b[38;5;241m.\u001b[39mupdate(settings)\n\u001b[0;32m--> 589\u001b[0m resp \u001b[38;5;241m=\u001b[39m \u001b[38;5;28mself\u001b[39m\u001b[38;5;241m.\u001b[39msend(prep, \u001b[38;5;241m*\u001b[39m\u001b[38;5;241m*\u001b[39msend_kwargs)\n\u001b[1;32m    591\u001b[0m \u001b[38;5;28;01mreturn\u001b[39;00m resp\n",
      "File \u001b[0;32m/Applications/anaconda3/lib/python3.12/site-packages/requests/sessions.py:703\u001b[0m, in \u001b[0;36mSession.send\u001b[0;34m(self, request, **kwargs)\u001b[0m\n\u001b[1;32m    700\u001b[0m start \u001b[38;5;241m=\u001b[39m preferred_clock()\n\u001b[1;32m    702\u001b[0m \u001b[38;5;66;03m# Send the request\u001b[39;00m\n\u001b[0;32m--> 703\u001b[0m r \u001b[38;5;241m=\u001b[39m adapter\u001b[38;5;241m.\u001b[39msend(request, \u001b[38;5;241m*\u001b[39m\u001b[38;5;241m*\u001b[39mkwargs)\n\u001b[1;32m    705\u001b[0m \u001b[38;5;66;03m# Total elapsed time of the request (approximately)\u001b[39;00m\n\u001b[1;32m    706\u001b[0m elapsed \u001b[38;5;241m=\u001b[39m preferred_clock() \u001b[38;5;241m-\u001b[39m start\n",
      "File \u001b[0;32m/Applications/anaconda3/lib/python3.12/site-packages/requests/adapters.py:589\u001b[0m, in \u001b[0;36mHTTPAdapter.send\u001b[0;34m(self, request, stream, timeout, verify, cert, proxies)\u001b[0m\n\u001b[1;32m    586\u001b[0m     timeout \u001b[38;5;241m=\u001b[39m TimeoutSauce(connect\u001b[38;5;241m=\u001b[39mtimeout, read\u001b[38;5;241m=\u001b[39mtimeout)\n\u001b[1;32m    588\u001b[0m \u001b[38;5;28;01mtry\u001b[39;00m:\n\u001b[0;32m--> 589\u001b[0m     resp \u001b[38;5;241m=\u001b[39m conn\u001b[38;5;241m.\u001b[39murlopen(\n\u001b[1;32m    590\u001b[0m         method\u001b[38;5;241m=\u001b[39mrequest\u001b[38;5;241m.\u001b[39mmethod,\n\u001b[1;32m    591\u001b[0m         url\u001b[38;5;241m=\u001b[39murl,\n\u001b[1;32m    592\u001b[0m         body\u001b[38;5;241m=\u001b[39mrequest\u001b[38;5;241m.\u001b[39mbody,\n\u001b[1;32m    593\u001b[0m         headers\u001b[38;5;241m=\u001b[39mrequest\u001b[38;5;241m.\u001b[39mheaders,\n\u001b[1;32m    594\u001b[0m         redirect\u001b[38;5;241m=\u001b[39m\u001b[38;5;28;01mFalse\u001b[39;00m,\n\u001b[1;32m    595\u001b[0m         assert_same_host\u001b[38;5;241m=\u001b[39m\u001b[38;5;28;01mFalse\u001b[39;00m,\n\u001b[1;32m    596\u001b[0m         preload_content\u001b[38;5;241m=\u001b[39m\u001b[38;5;28;01mFalse\u001b[39;00m,\n\u001b[1;32m    597\u001b[0m         decode_content\u001b[38;5;241m=\u001b[39m\u001b[38;5;28;01mFalse\u001b[39;00m,\n\u001b[1;32m    598\u001b[0m         retries\u001b[38;5;241m=\u001b[39m\u001b[38;5;28mself\u001b[39m\u001b[38;5;241m.\u001b[39mmax_retries,\n\u001b[1;32m    599\u001b[0m         timeout\u001b[38;5;241m=\u001b[39mtimeout,\n\u001b[1;32m    600\u001b[0m         chunked\u001b[38;5;241m=\u001b[39mchunked,\n\u001b[1;32m    601\u001b[0m     )\n\u001b[1;32m    603\u001b[0m \u001b[38;5;28;01mexcept\u001b[39;00m (ProtocolError, \u001b[38;5;167;01mOSError\u001b[39;00m) \u001b[38;5;28;01mas\u001b[39;00m err:\n\u001b[1;32m    604\u001b[0m     \u001b[38;5;28;01mraise\u001b[39;00m \u001b[38;5;167;01mConnectionError\u001b[39;00m(err, request\u001b[38;5;241m=\u001b[39mrequest)\n",
      "File \u001b[0;32m/Applications/anaconda3/lib/python3.12/site-packages/urllib3/connectionpool.py:789\u001b[0m, in \u001b[0;36mHTTPConnectionPool.urlopen\u001b[0;34m(self, method, url, body, headers, retries, redirect, assert_same_host, timeout, pool_timeout, release_conn, chunked, body_pos, preload_content, decode_content, **response_kw)\u001b[0m\n\u001b[1;32m    786\u001b[0m response_conn \u001b[38;5;241m=\u001b[39m conn \u001b[38;5;28;01mif\u001b[39;00m \u001b[38;5;129;01mnot\u001b[39;00m release_conn \u001b[38;5;28;01melse\u001b[39;00m \u001b[38;5;28;01mNone\u001b[39;00m\n\u001b[1;32m    788\u001b[0m \u001b[38;5;66;03m# Make the request on the HTTPConnection object\u001b[39;00m\n\u001b[0;32m--> 789\u001b[0m response \u001b[38;5;241m=\u001b[39m \u001b[38;5;28mself\u001b[39m\u001b[38;5;241m.\u001b[39m_make_request(\n\u001b[1;32m    790\u001b[0m     conn,\n\u001b[1;32m    791\u001b[0m     method,\n\u001b[1;32m    792\u001b[0m     url,\n\u001b[1;32m    793\u001b[0m     timeout\u001b[38;5;241m=\u001b[39mtimeout_obj,\n\u001b[1;32m    794\u001b[0m     body\u001b[38;5;241m=\u001b[39mbody,\n\u001b[1;32m    795\u001b[0m     headers\u001b[38;5;241m=\u001b[39mheaders,\n\u001b[1;32m    796\u001b[0m     chunked\u001b[38;5;241m=\u001b[39mchunked,\n\u001b[1;32m    797\u001b[0m     retries\u001b[38;5;241m=\u001b[39mretries,\n\u001b[1;32m    798\u001b[0m     response_conn\u001b[38;5;241m=\u001b[39mresponse_conn,\n\u001b[1;32m    799\u001b[0m     preload_content\u001b[38;5;241m=\u001b[39mpreload_content,\n\u001b[1;32m    800\u001b[0m     decode_content\u001b[38;5;241m=\u001b[39mdecode_content,\n\u001b[1;32m    801\u001b[0m     \u001b[38;5;241m*\u001b[39m\u001b[38;5;241m*\u001b[39mresponse_kw,\n\u001b[1;32m    802\u001b[0m )\n\u001b[1;32m    804\u001b[0m \u001b[38;5;66;03m# Everything went great!\u001b[39;00m\n\u001b[1;32m    805\u001b[0m clean_exit \u001b[38;5;241m=\u001b[39m \u001b[38;5;28;01mTrue\u001b[39;00m\n",
      "File \u001b[0;32m/Applications/anaconda3/lib/python3.12/site-packages/urllib3/connectionpool.py:536\u001b[0m, in \u001b[0;36mHTTPConnectionPool._make_request\u001b[0;34m(self, conn, method, url, body, headers, retries, timeout, chunked, response_conn, preload_content, decode_content, enforce_content_length)\u001b[0m\n\u001b[1;32m    534\u001b[0m \u001b[38;5;66;03m# Receive the response from the server\u001b[39;00m\n\u001b[1;32m    535\u001b[0m \u001b[38;5;28;01mtry\u001b[39;00m:\n\u001b[0;32m--> 536\u001b[0m     response \u001b[38;5;241m=\u001b[39m conn\u001b[38;5;241m.\u001b[39mgetresponse()\n\u001b[1;32m    537\u001b[0m \u001b[38;5;28;01mexcept\u001b[39;00m (BaseSSLError, \u001b[38;5;167;01mOSError\u001b[39;00m) \u001b[38;5;28;01mas\u001b[39;00m e:\n\u001b[1;32m    538\u001b[0m     \u001b[38;5;28mself\u001b[39m\u001b[38;5;241m.\u001b[39m_raise_timeout(err\u001b[38;5;241m=\u001b[39me, url\u001b[38;5;241m=\u001b[39murl, timeout_value\u001b[38;5;241m=\u001b[39mread_timeout)\n",
      "File \u001b[0;32m/Applications/anaconda3/lib/python3.12/site-packages/urllib3/connection.py:464\u001b[0m, in \u001b[0;36mHTTPConnection.getresponse\u001b[0;34m(self)\u001b[0m\n\u001b[1;32m    461\u001b[0m \u001b[38;5;28;01mfrom\u001b[39;00m \u001b[38;5;21;01m.\u001b[39;00m\u001b[38;5;21;01mresponse\u001b[39;00m \u001b[38;5;28;01mimport\u001b[39;00m HTTPResponse\n\u001b[1;32m    463\u001b[0m \u001b[38;5;66;03m# Get the response from http.client.HTTPConnection\u001b[39;00m\n\u001b[0;32m--> 464\u001b[0m httplib_response \u001b[38;5;241m=\u001b[39m \u001b[38;5;28msuper\u001b[39m()\u001b[38;5;241m.\u001b[39mgetresponse()\n\u001b[1;32m    466\u001b[0m \u001b[38;5;28;01mtry\u001b[39;00m:\n\u001b[1;32m    467\u001b[0m     assert_header_parsing(httplib_response\u001b[38;5;241m.\u001b[39mmsg)\n",
      "File \u001b[0;32m/Applications/anaconda3/lib/python3.12/http/client.py:1423\u001b[0m, in \u001b[0;36mHTTPConnection.getresponse\u001b[0;34m(self)\u001b[0m\n\u001b[1;32m   1421\u001b[0m \u001b[38;5;28;01mtry\u001b[39;00m:\n\u001b[1;32m   1422\u001b[0m     \u001b[38;5;28;01mtry\u001b[39;00m:\n\u001b[0;32m-> 1423\u001b[0m         response\u001b[38;5;241m.\u001b[39mbegin()\n\u001b[1;32m   1424\u001b[0m     \u001b[38;5;28;01mexcept\u001b[39;00m \u001b[38;5;167;01mConnectionError\u001b[39;00m:\n\u001b[1;32m   1425\u001b[0m         \u001b[38;5;28mself\u001b[39m\u001b[38;5;241m.\u001b[39mclose()\n",
      "File \u001b[0;32m/Applications/anaconda3/lib/python3.12/http/client.py:331\u001b[0m, in \u001b[0;36mHTTPResponse.begin\u001b[0;34m(self)\u001b[0m\n\u001b[1;32m    329\u001b[0m \u001b[38;5;66;03m# read until we get a non-100 response\u001b[39;00m\n\u001b[1;32m    330\u001b[0m \u001b[38;5;28;01mwhile\u001b[39;00m \u001b[38;5;28;01mTrue\u001b[39;00m:\n\u001b[0;32m--> 331\u001b[0m     version, status, reason \u001b[38;5;241m=\u001b[39m \u001b[38;5;28mself\u001b[39m\u001b[38;5;241m.\u001b[39m_read_status()\n\u001b[1;32m    332\u001b[0m     \u001b[38;5;28;01mif\u001b[39;00m status \u001b[38;5;241m!=\u001b[39m CONTINUE:\n\u001b[1;32m    333\u001b[0m         \u001b[38;5;28;01mbreak\u001b[39;00m\n",
      "File \u001b[0;32m/Applications/anaconda3/lib/python3.12/http/client.py:292\u001b[0m, in \u001b[0;36mHTTPResponse._read_status\u001b[0;34m(self)\u001b[0m\n\u001b[1;32m    291\u001b[0m \u001b[38;5;28;01mdef\u001b[39;00m \u001b[38;5;21m_read_status\u001b[39m(\u001b[38;5;28mself\u001b[39m):\n\u001b[0;32m--> 292\u001b[0m     line \u001b[38;5;241m=\u001b[39m \u001b[38;5;28mstr\u001b[39m(\u001b[38;5;28mself\u001b[39m\u001b[38;5;241m.\u001b[39mfp\u001b[38;5;241m.\u001b[39mreadline(_MAXLINE \u001b[38;5;241m+\u001b[39m \u001b[38;5;241m1\u001b[39m), \u001b[38;5;124m\"\u001b[39m\u001b[38;5;124miso-8859-1\u001b[39m\u001b[38;5;124m\"\u001b[39m)\n\u001b[1;32m    293\u001b[0m     \u001b[38;5;28;01mif\u001b[39;00m \u001b[38;5;28mlen\u001b[39m(line) \u001b[38;5;241m>\u001b[39m _MAXLINE:\n\u001b[1;32m    294\u001b[0m         \u001b[38;5;28;01mraise\u001b[39;00m LineTooLong(\u001b[38;5;124m\"\u001b[39m\u001b[38;5;124mstatus line\u001b[39m\u001b[38;5;124m\"\u001b[39m)\n",
      "File \u001b[0;32m/Applications/anaconda3/lib/python3.12/socket.py:707\u001b[0m, in \u001b[0;36mSocketIO.readinto\u001b[0;34m(self, b)\u001b[0m\n\u001b[1;32m    705\u001b[0m \u001b[38;5;28;01mwhile\u001b[39;00m \u001b[38;5;28;01mTrue\u001b[39;00m:\n\u001b[1;32m    706\u001b[0m     \u001b[38;5;28;01mtry\u001b[39;00m:\n\u001b[0;32m--> 707\u001b[0m         \u001b[38;5;28;01mreturn\u001b[39;00m \u001b[38;5;28mself\u001b[39m\u001b[38;5;241m.\u001b[39m_sock\u001b[38;5;241m.\u001b[39mrecv_into(b)\n\u001b[1;32m    708\u001b[0m     \u001b[38;5;28;01mexcept\u001b[39;00m timeout:\n\u001b[1;32m    709\u001b[0m         \u001b[38;5;28mself\u001b[39m\u001b[38;5;241m.\u001b[39m_timeout_occurred \u001b[38;5;241m=\u001b[39m \u001b[38;5;28;01mTrue\u001b[39;00m\n",
      "File \u001b[0;32m/Applications/anaconda3/lib/python3.12/ssl.py:1252\u001b[0m, in \u001b[0;36mSSLSocket.recv_into\u001b[0;34m(self, buffer, nbytes, flags)\u001b[0m\n\u001b[1;32m   1248\u001b[0m     \u001b[38;5;28;01mif\u001b[39;00m flags \u001b[38;5;241m!=\u001b[39m \u001b[38;5;241m0\u001b[39m:\n\u001b[1;32m   1249\u001b[0m         \u001b[38;5;28;01mraise\u001b[39;00m \u001b[38;5;167;01mValueError\u001b[39;00m(\n\u001b[1;32m   1250\u001b[0m           \u001b[38;5;124m\"\u001b[39m\u001b[38;5;124mnon-zero flags not allowed in calls to recv_into() on \u001b[39m\u001b[38;5;132;01m%s\u001b[39;00m\u001b[38;5;124m\"\u001b[39m \u001b[38;5;241m%\u001b[39m\n\u001b[1;32m   1251\u001b[0m           \u001b[38;5;28mself\u001b[39m\u001b[38;5;241m.\u001b[39m\u001b[38;5;18m__class__\u001b[39m)\n\u001b[0;32m-> 1252\u001b[0m     \u001b[38;5;28;01mreturn\u001b[39;00m \u001b[38;5;28mself\u001b[39m\u001b[38;5;241m.\u001b[39mread(nbytes, buffer)\n\u001b[1;32m   1253\u001b[0m \u001b[38;5;28;01melse\u001b[39;00m:\n\u001b[1;32m   1254\u001b[0m     \u001b[38;5;28;01mreturn\u001b[39;00m \u001b[38;5;28msuper\u001b[39m()\u001b[38;5;241m.\u001b[39mrecv_into(buffer, nbytes, flags)\n",
      "File \u001b[0;32m/Applications/anaconda3/lib/python3.12/ssl.py:1104\u001b[0m, in \u001b[0;36mSSLSocket.read\u001b[0;34m(self, len, buffer)\u001b[0m\n\u001b[1;32m   1102\u001b[0m \u001b[38;5;28;01mtry\u001b[39;00m:\n\u001b[1;32m   1103\u001b[0m     \u001b[38;5;28;01mif\u001b[39;00m buffer \u001b[38;5;129;01mis\u001b[39;00m \u001b[38;5;129;01mnot\u001b[39;00m \u001b[38;5;28;01mNone\u001b[39;00m:\n\u001b[0;32m-> 1104\u001b[0m         \u001b[38;5;28;01mreturn\u001b[39;00m \u001b[38;5;28mself\u001b[39m\u001b[38;5;241m.\u001b[39m_sslobj\u001b[38;5;241m.\u001b[39mread(\u001b[38;5;28mlen\u001b[39m, buffer)\n\u001b[1;32m   1105\u001b[0m     \u001b[38;5;28;01melse\u001b[39;00m:\n\u001b[1;32m   1106\u001b[0m         \u001b[38;5;28;01mreturn\u001b[39;00m \u001b[38;5;28mself\u001b[39m\u001b[38;5;241m.\u001b[39m_sslobj\u001b[38;5;241m.\u001b[39mread(\u001b[38;5;28mlen\u001b[39m)\n",
      "\u001b[0;31mKeyboardInterrupt\u001b[0m: "
     ]
    }
   ],
   "source": [
    "def process_images():\n",
    "    image_list = l8_clipped_forexport.toList(l8_clipped.size().getInfo())\n",
    "    num_images = image_list.size().getInfo()\n",
    "    \n",
    "    for i in range(num_images):\n",
    "        image = ee.Image(image_list.get(i))\n",
    "        export_image(image)\n",
    "\n",
    "process_images()"
   ]
  },
  {
   "cell_type": "code",
   "execution_count": null,
   "id": "0a65b3fa",
   "metadata": {},
   "outputs": [],
   "source": [
    "def extract_date(image):\n",
    "    date = ee.Date(image.get('system:time_start'))\n",
    "    return ee.Feature(None, {'date': date.format('YYYY-MM-dd')})\n",
    "\n",
    "# Apply the function to each image in the collection\n",
    "dates = l8_clipped.map(extract_date)\n",
    "\n",
    "# Convert to a list of dates\n",
    "dates_list = dates.aggregate_array('date').getInfo()\n",
    "print(\"Dates of images:\")\n",
    "for date in dates_list:\n",
    "    print(date)\n"
   ]
  },
  {
   "cell_type": "code",
   "execution_count": 25,
   "id": "0aa0d550",
   "metadata": {},
   "outputs": [
    {
     "data": {
      "text/html": [
       "\n",
       "            <style>\n",
       "                .geemap-dark {\n",
       "                    --jp-widgets-color: white;\n",
       "                    --jp-widgets-label-color: white;\n",
       "                    --jp-ui-font-color1: white;\n",
       "                    --jp-layout-color2: #454545;\n",
       "                    background-color: #383838;\n",
       "                }\n",
       "\n",
       "                .geemap-dark .jupyter-button {\n",
       "                    --jp-layout-color3: #383838;\n",
       "                }\n",
       "\n",
       "                .geemap-colab {\n",
       "                    background-color: var(--colab-primary-surface-color, white);\n",
       "                }\n",
       "\n",
       "                .geemap-colab .jupyter-button {\n",
       "                    --jp-layout-color3: var(--colab-primary-surface-color, white);\n",
       "                }\n",
       "            </style>\n",
       "            "
      ],
      "text/plain": [
       "<IPython.core.display.HTML object>"
      ]
     },
     "metadata": {},
     "output_type": "display_data"
    }
   ],
   "source": [
    "# define ROI's in specific images that will define lake ice/soil\n",
    "roi_ice_old = ee.Geometry.Rectangle([163.211793, -77.604723, 163.209067, -77.604654])\n",
    "roi_ice = ee.Geometry.Rectangle([163.164470, -77.615536, 163.168480, -77.615106])\n",
    "roi_soil = ee.Geometry.Rectangle([163.078070, -77.625204, 163.07800, -77.625340])\n",
    "\n",
    "roi_soil2 = ee.Geometry.Rectangle([163.221441, -77.596310, 163.214014, -77.597450])\n",
    "roi_glacier_ice = ee.Geometry.Rectangle([163.031019, -77.621755, 163.036190, -77.621301])"
   ]
  },
  {
   "cell_type": "code",
   "execution_count": 27,
   "id": "2b5b4e95-1403-43d9-8dd3-5c2fec93b5de",
   "metadata": {},
   "outputs": [
    {
     "data": {
      "text/html": [
       "\n",
       "            <style>\n",
       "                .geemap-dark {\n",
       "                    --jp-widgets-color: white;\n",
       "                    --jp-widgets-label-color: white;\n",
       "                    --jp-ui-font-color1: white;\n",
       "                    --jp-layout-color2: #454545;\n",
       "                    background-color: #383838;\n",
       "                }\n",
       "\n",
       "                .geemap-dark .jupyter-button {\n",
       "                    --jp-layout-color3: #383838;\n",
       "                }\n",
       "\n",
       "                .geemap-colab {\n",
       "                    background-color: var(--colab-primary-surface-color, white);\n",
       "                }\n",
       "\n",
       "                .geemap-colab .jupyter-button {\n",
       "                    --jp-layout-color3: var(--colab-primary-surface-color, white);\n",
       "                }\n",
       "            </style>\n",
       "            "
      ],
      "text/plain": [
       "<IPython.core.display.HTML object>"
      ]
     },
     "metadata": {},
     "output_type": "display_data"
    },
    {
     "data": {
      "application/vnd.jupyter.widget-view+json": {
       "model_id": "004811f82ff1412b81aeadd171dd58cc",
       "version_major": 2,
       "version_minor": 0
      },
      "text/plain": [
       "Map(center=[-77.616808, 163.077952], controls=(WidgetControl(options=['position', 'transparent_bg'], widget=Se…"
      ]
     },
     "metadata": {},
     "output_type": "display_data"
    }
   ],
   "source": [
    "Map = geemap.Map(zoom = 10, center = [-77.616808, 163.077952])\n",
    "Map.addLayer(roi_ice)\n",
    "Map.addLayer(roi_soil)\n",
    "#Map.addLayer(roi_glacier_ice)\n",
    "Map"
   ]
  },
  {
   "cell_type": "code",
   "execution_count": null,
   "id": "3457d372",
   "metadata": {},
   "outputs": [],
   "source": [
    "# Define endmembers (example: using pseudo-invariant features)\n",
    "# can add more endmembers in later, but need to select image and crop down to \n",
    "# specific regions in a single image\n",
    "lake1 = ee.Image('LANDSAT/LC08/C02/T2_TOA/LC08_055116_20231205').select(['B2', 'B3', 'B4', 'B5', 'B6', 'B7', 'B8'])\n",
    "soil1 = ee.Image('LANDSAT/LC08/C02/T2_TOA/LC08_055116_20231205').select(['B2', 'B3', 'B4', 'B5', 'B6', 'B7', 'B8'])\n",
    "\n",
    "# clip original image down to the specific endmember spots\n",
    "lakeice = lake1.clip(roi_ice)\n",
    "glacier_ice = lake1.clip(roi_glacier_ice)\n",
    "soil = soil1.clip(roi_soil)\n",
    "\n",
    "ice_mean = lakeice.reduceRegion(ee.Reducer.mean()).values()\n",
    "soil_mean = soil.reduceRegion(ee.Reducer.mean()).values()\n",
    "glacier_mean = glacier_ice.reduceRegion(ee.Reducer.mean()).values()\n",
    "\n",
    "print(ice_mean.getInfo())\n",
    "print(soil_mean.getInfo())\n",
    "print(glacier_mean.getInfo())\n",
    "\n",
    "\n",
    "endmembers = [ice_mean, soil_mean]"
   ]
  },
  {
   "cell_type": "code",
   "execution_count": null,
   "id": "2c43f352",
   "metadata": {},
   "outputs": [],
   "source": [
    "def spectral_unmixing_sde(image):\n",
    "    lakeice_sd = image.clip(roi_ice)\n",
    "    soil_sd = image.clip(roi_soil2)\n",
    "    \n",
    "    ice_mean_sd = lakeice_sd.reduceRegion(ee.Reducer.mean()).values()\n",
    "    soil_mean_sd = soil_sd.reduceRegion(ee.Reducer.mean()).values()\n",
    "    \n",
    "    endmembers = [ice_mean_sd, soil_mean_sd]\n",
    "    unmixed_image = image.unmix(endmembers, True, True)\n",
    "    print(endmembers)\n",
    "    return unmixed_image.set('system:time_start', image.get('system:time_start'))"
   ]
  },
  {
   "cell_type": "code",
   "execution_count": null,
   "id": "3ce94bf0",
   "metadata": {},
   "outputs": [],
   "source": [
    "def spectral_unmixing(image):\n",
    "    unmixed_image = image.unmix(endmembers, True, True)\n",
    "    return unmixed_image.set('system:time_start', image.get('system:time_start'))"
   ]
  },
  {
   "cell_type": "code",
   "execution_count": 41,
   "id": "73171b4b",
   "metadata": {},
   "outputs": [
    {
     "data": {
      "text/html": [
       "\n",
       "            <style>\n",
       "                .geemap-dark {\n",
       "                    --jp-widgets-color: white;\n",
       "                    --jp-widgets-label-color: white;\n",
       "                    --jp-ui-font-color1: white;\n",
       "                    --jp-layout-color2: #454545;\n",
       "                    background-color: #383838;\n",
       "                }\n",
       "\n",
       "                .geemap-dark .jupyter-button {\n",
       "                    --jp-layout-color3: #383838;\n",
       "                }\n",
       "\n",
       "                .geemap-colab {\n",
       "                    background-color: var(--colab-primary-surface-color, white);\n",
       "                }\n",
       "\n",
       "                .geemap-colab .jupyter-button {\n",
       "                    --jp-layout-color3: var(--colab-primary-surface-color, white);\n",
       "                }\n",
       "            </style>\n",
       "            "
      ],
      "text/plain": [
       "<IPython.core.display.HTML object>"
      ]
     },
     "metadata": {},
     "output_type": "display_data"
    },
    {
     "data": {
      "application/vnd.jupyter.widget-view+json": {
       "model_id": "9c9ea6942135433f927f3da3c5c36674",
       "version_major": 2,
       "version_minor": 0
      },
      "text/plain": [
       "Map(center=[-77.616808, 163.077952], controls=(WidgetControl(options=['position', 'transparent_bg'], widget=Se…"
      ]
     },
     "metadata": {},
     "output_type": "display_data"
    }
   ],
   "source": [
    "# do the spectral unmixing on the example image the endmembers are pulled from, and add the landsat RGB bands in to directly \n",
    "# compare how it does with sediment vs. ice. i was comparing to the ESRI world imagery, but the images are from differnet \n",
    "# years\n",
    "\n",
    "unmixed_example = lake1.unmix(endmembers, True, True)\n",
    "\n",
    "image_viz_params = {\n",
    "    'bands': ['B5', 'B4', 'B3'],\n",
    "    'min': 0,\n",
    "    'max': 0.5,\n",
    "    'gamma': [0.95, 1.1, 1],\n",
    "}\n",
    "\n",
    "Map = geemap.Map(zoom = 10, center = [-77.616808, 163.077952])\n",
    "Map.addLayer(pointed)\n",
    "Map.addLayer(unmixed_example)\n",
    "Map.addLayer(lake1, image_viz_params, 'false color composite')\n",
    "Map.addLayer(roi_ice)\n",
    "Map"
   ]
  },
  {
   "cell_type": "code",
   "execution_count": null,
   "id": "e3d55280",
   "metadata": {},
   "outputs": [],
   "source": [
    "unmixed_collection = l8_clipped.map(spectral_unmixing)\n",
    "\n",
    "print(unmixed_collection.size().getInfo())"
   ]
  },
  {
   "cell_type": "code",
   "execution_count": null,
   "id": "4ba26a9d",
   "metadata": {},
   "outputs": [],
   "source": [
    "Map = geemap.Map(zoom = 10, center = [-77.616808, 163.077952])\n",
    "Map.addLayer(point)\n",
    "Map.addLayer(unmixed_collection.first())\n",
    "Map"
   ]
  },
  {
   "cell_type": "code",
   "execution_count": null,
   "id": "b6cf200a",
   "metadata": {},
   "outputs": [],
   "source": [
    "def export_image(image):\n",
    "    date_str = ee.Date(image.get('system:time_start')).format('YYYY-MM-dd').getInfo()\n",
    "    task = ee.batch.Export.image.toDrive(\n",
    "        image=image,\n",
    "        description=f'Spectral_Unmixing_{date_str}',\n",
    "        folder='SMA_EarthEngine',  # Replace with your folder name\n",
    "        scale=30,                 # Define the scale (e.g., 30 meters per pixel)\n",
    "        crs='EPSG:3031',          # Define the Coordinate Reference System\n",
    "        region=pointed,  # Define the region to export\n",
    "        fileNamePrefix=f'spectral_unmixing_sde_{date_str}'\n",
    "    )\n",
    "    task.start()\n",
    "    print(f\"Export started for image with date {date_str}.\")"
   ]
  },
  {
   "cell_type": "code",
   "execution_count": null,
   "id": "1e723a10",
   "metadata": {},
   "outputs": [],
   "source": [
    "def process_images():\n",
    "    image_list = unmixed_collection.toList(unmixed_collection.size().getInfo())\n",
    "    num_images = image_list.size().getInfo()\n",
    "    \n",
    "    for i in range(num_images):\n",
    "        image = ee.Image(image_list.get(i))\n",
    "        export_image(image)\n",
    "\n",
    "process_images()"
   ]
  },
  {
   "cell_type": "code",
   "execution_count": null,
   "id": "16d4adc8",
   "metadata": {},
   "outputs": [],
   "source": [
    "def export_raws(image):\n",
    "    date_str = ee.Date(image.get('system:time_start')).format('YYYY-MM-dd').getInfo()\n",
    "    task = ee.batch.Export.image.toDrive(\n",
    "        image=image,\n",
    "        description=f'Spectral_Unmixing_{date_str}',\n",
    "        folder='EarthEngine',  # Replace with your folder name\n",
    "        scale=30,                 # Define the scale (e.g., 30 meters per pixel)\n",
    "        crs='EPSG:3031',          # Define the Coordinate Reference System\n",
    "        region=pointed,  # Define the region to export\n",
    "        fileNamePrefix=f'RGB_images{date_str}'\n",
    "    )\n",
    "    task.start()\n",
    "    print(f\"Export started for image with date {date_str}.\")"
   ]
  },
  {
   "cell_type": "code",
   "execution_count": null,
   "id": "7f5e524c",
   "metadata": {},
   "outputs": [],
   "source": [
    "l8_export = l8_clipped\\\n",
    "            .select(['B3', 'B4', 'B5'])"
   ]
  },
  {
   "cell_type": "code",
   "execution_count": null,
   "id": "bf673828",
   "metadata": {},
   "outputs": [],
   "source": [
    "### export all of the RGB values for the same images to do a direct comparison\n",
    "def export_images():\n",
    "    image_list = l8_export.toList(l8_export.size().getInfo())\n",
    "    num_images = image_list.size().getInfo()\n",
    "    \n",
    "    for i in range(num_images):\n",
    "        image = ee.Image(image_list.get(i))\n",
    "        export_raws(image)\n",
    "\n",
    "export_images()"
   ]
  },
  {
   "cell_type": "code",
   "execution_count": null,
   "id": "8cedec95",
   "metadata": {},
   "outputs": [],
   "source": []
  }
 ],
 "metadata": {
  "kernelspec": {
   "display_name": "Python 3 (ipykernel)",
   "language": "python",
   "name": "python3"
  },
  "language_info": {
   "codemirror_mode": {
    "name": "ipython",
    "version": 3
   },
   "file_extension": ".py",
   "mimetype": "text/x-python",
   "name": "python",
   "nbconvert_exporter": "python",
   "pygments_lexer": "ipython3",
   "version": "3.12.6"
  }
 },
 "nbformat": 4,
 "nbformat_minor": 5
}
