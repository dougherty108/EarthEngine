{
 "cells": [
  {
   "cell_type": "code",
   "execution_count": 222,
   "metadata": {},
   "outputs": [
    {
     "data": {
      "text/html": [
       "\n",
       "            <style>\n",
       "                .geemap-dark {\n",
       "                    --jp-widgets-color: white;\n",
       "                    --jp-widgets-label-color: white;\n",
       "                    --jp-ui-font-color1: white;\n",
       "                    --jp-layout-color2: #454545;\n",
       "                    background-color: #383838;\n",
       "                }\n",
       "\n",
       "                .geemap-dark .jupyter-button {\n",
       "                    --jp-layout-color3: #383838;\n",
       "                }\n",
       "\n",
       "                .geemap-colab {\n",
       "                    background-color: var(--colab-primary-surface-color, white);\n",
       "                }\n",
       "\n",
       "                .geemap-colab .jupyter-button {\n",
       "                    --jp-layout-color3: var(--colab-primary-surface-color, white);\n",
       "                }\n",
       "            </style>\n",
       "            "
      ],
      "text/plain": [
       "<IPython.core.display.HTML object>"
      ]
     },
     "metadata": {},
     "output_type": "display_data"
    }
   ],
   "source": [
    "import ee\n",
    "import geemap\n"
   ]
  },
  {
   "cell_type": "code",
   "execution_count": 223,
   "metadata": {},
   "outputs": [
    {
     "data": {
      "text/html": [
       "\n",
       "            <style>\n",
       "                .geemap-dark {\n",
       "                    --jp-widgets-color: white;\n",
       "                    --jp-widgets-label-color: white;\n",
       "                    --jp-ui-font-color1: white;\n",
       "                    --jp-layout-color2: #454545;\n",
       "                    background-color: #383838;\n",
       "                }\n",
       "\n",
       "                .geemap-dark .jupyter-button {\n",
       "                    --jp-layout-color3: #383838;\n",
       "                }\n",
       "\n",
       "                .geemap-colab {\n",
       "                    background-color: var(--colab-primary-surface-color, white);\n",
       "                }\n",
       "\n",
       "                .geemap-colab .jupyter-button {\n",
       "                    --jp-layout-color3: var(--colab-primary-surface-color, white);\n",
       "                }\n",
       "            </style>\n",
       "            "
      ],
      "text/plain": [
       "<IPython.core.display.HTML object>"
      ]
     },
     "metadata": {},
     "output_type": "display_data"
    }
   ],
   "source": [
    "## authenticates the session with EE\n",
    "ee.Authenticate()\n",
    "\n",
    "# creates the connection with EE. \n",
    "ee.Initialize()"
   ]
  },
  {
   "cell_type": "code",
   "execution_count": 224,
   "metadata": {},
   "outputs": [
    {
     "data": {
      "text/html": [
       "\n",
       "            <style>\n",
       "                .geemap-dark {\n",
       "                    --jp-widgets-color: white;\n",
       "                    --jp-widgets-label-color: white;\n",
       "                    --jp-ui-font-color1: white;\n",
       "                    --jp-layout-color2: #454545;\n",
       "                    background-color: #383838;\n",
       "                }\n",
       "\n",
       "                .geemap-dark .jupyter-button {\n",
       "                    --jp-layout-color3: #383838;\n",
       "                }\n",
       "\n",
       "                .geemap-colab {\n",
       "                    background-color: var(--colab-primary-surface-color, white);\n",
       "                }\n",
       "\n",
       "                .geemap-colab .jupyter-button {\n",
       "                    --jp-layout-color3: var(--colab-primary-surface-color, white);\n",
       "                }\n",
       "            </style>\n",
       "            "
      ],
      "text/plain": [
       "<IPython.core.display.HTML object>"
      ]
     },
     "metadata": {},
     "output_type": "display_data"
    }
   ],
   "source": [
    "# Define ROI for soil\n",
    "roi_soil = ee.Geometry.Rectangle([163.078070, -77.625204, 163.07800, -77.625340])"
   ]
  },
  {
   "cell_type": "code",
   "execution_count": 225,
   "metadata": {},
   "outputs": [
    {
     "data": {
      "text/html": [
       "\n",
       "            <style>\n",
       "                .geemap-dark {\n",
       "                    --jp-widgets-color: white;\n",
       "                    --jp-widgets-label-color: white;\n",
       "                    --jp-ui-font-color1: white;\n",
       "                    --jp-layout-color2: #454545;\n",
       "                    background-color: #383838;\n",
       "                }\n",
       "\n",
       "                .geemap-dark .jupyter-button {\n",
       "                    --jp-layout-color3: #383838;\n",
       "                }\n",
       "\n",
       "                .geemap-colab {\n",
       "                    background-color: var(--colab-primary-surface-color, white);\n",
       "                }\n",
       "\n",
       "                .geemap-colab .jupyter-button {\n",
       "                    --jp-layout-color3: var(--colab-primary-surface-color, white);\n",
       "                }\n",
       "            </style>\n",
       "            "
      ],
      "text/plain": [
       "<IPython.core.display.HTML object>"
      ]
     },
     "metadata": {},
     "output_type": "display_data"
    }
   ],
   "source": [
    "# Pull the image for the soil endmember\n",
    "soil1 = ee.Image('LANDSAT/LC08/C02/T2_TOA/LC08_055116_20231205').select(['B2', 'B3', 'B4', 'B5', 'B6', 'B7', 'B8'])"
   ]
  },
  {
   "cell_type": "code",
   "execution_count": 226,
   "metadata": {},
   "outputs": [
    {
     "data": {
      "text/html": [
       "\n",
       "            <style>\n",
       "                .geemap-dark {\n",
       "                    --jp-widgets-color: white;\n",
       "                    --jp-widgets-label-color: white;\n",
       "                    --jp-ui-font-color1: white;\n",
       "                    --jp-layout-color2: #454545;\n",
       "                    background-color: #383838;\n",
       "                }\n",
       "\n",
       "                .geemap-dark .jupyter-button {\n",
       "                    --jp-layout-color3: #383838;\n",
       "                }\n",
       "\n",
       "                .geemap-colab {\n",
       "                    background-color: var(--colab-primary-surface-color, white);\n",
       "                }\n",
       "\n",
       "                .geemap-colab .jupyter-button {\n",
       "                    --jp-layout-color3: var(--colab-primary-surface-color, white);\n",
       "                }\n",
       "            </style>\n",
       "            "
      ],
      "text/plain": [
       "<IPython.core.display.HTML object>"
      ]
     },
     "metadata": {},
     "output_type": "display_data"
    }
   ],
   "source": [
    "def get_brightness(image):\n",
    "    \"\"\"\n",
    "    Compute the brightness of an image by summing the visible bands (B2, B3, B4, B5, B6, B7, B8).\n",
    "    \"\"\"\n",
    "    brightness = image.select(['B2', 'B3', 'B4', 'B5', 'B6', 'B7', 'B8']).reduce(ee.Reducer.sum())\n",
    "    return brightness"
   ]
  },
  {
   "cell_type": "code",
   "execution_count": 227,
   "metadata": {},
   "outputs": [
    {
     "data": {
      "text/html": [
       "\n",
       "            <style>\n",
       "                .geemap-dark {\n",
       "                    --jp-widgets-color: white;\n",
       "                    --jp-widgets-label-color: white;\n",
       "                    --jp-ui-font-color1: white;\n",
       "                    --jp-layout-color2: #454545;\n",
       "                    background-color: #383838;\n",
       "                }\n",
       "\n",
       "                .geemap-dark .jupyter-button {\n",
       "                    --jp-layout-color3: #383838;\n",
       "                }\n",
       "\n",
       "                .geemap-colab {\n",
       "                    background-color: var(--colab-primary-surface-color, white);\n",
       "                }\n",
       "\n",
       "                .geemap-colab .jupyter-button {\n",
       "                    --jp-layout-color3: var(--colab-primary-surface-color, white);\n",
       "                }\n",
       "            </style>\n",
       "            "
      ],
      "text/plain": [
       "<IPython.core.display.HTML object>"
      ]
     },
     "metadata": {},
     "output_type": "display_data"
    }
   ],
   "source": [
    "def select_brightest_pixels(image, roi, n=10):\n",
    "    \"\"\"\n",
    "    Select the n brightest pixels from the image based on brightness.\n",
    "    \"\"\"\n",
    "    # Compute brightness for each pixel by summing the selected bands (e.g., B2, B3, B4, etc.)\n",
    "    brightness = image.select(['B2', 'B3', 'B4', 'B5', 'B6']).reduce(ee.Reducer.sum())\n",
    "    \n",
    "    # Sample the image to get pixel values within the region of interest (ROI)\n",
    "    sampled_points = brightness.sample(region=roi, scale=30, numPixels=1000)\n",
    "    \n",
    "    # Sort the points by brightness in descending order\n",
    "    sorted_points = sampled_points.sort('sum', False)  # Sort by 'sum' of brightness\n",
    "    \n",
    "    # Select the top n brightest points\n",
    "    top_n_brightest_points = sorted_points.limit(n)\n",
    "    \n",
    "    return top_n_brightest_points"
   ]
  },
  {
   "cell_type": "code",
   "execution_count": 255,
   "metadata": {},
   "outputs": [
    {
     "data": {
      "text/html": [
       "\n",
       "            <style>\n",
       "                .geemap-dark {\n",
       "                    --jp-widgets-color: white;\n",
       "                    --jp-widgets-label-color: white;\n",
       "                    --jp-ui-font-color1: white;\n",
       "                    --jp-layout-color2: #454545;\n",
       "                    background-color: #383838;\n",
       "                }\n",
       "\n",
       "                .geemap-dark .jupyter-button {\n",
       "                    --jp-layout-color3: #383838;\n",
       "                }\n",
       "\n",
       "                .geemap-colab {\n",
       "                    background-color: var(--colab-primary-surface-color, white);\n",
       "                }\n",
       "\n",
       "                .geemap-colab .jupyter-button {\n",
       "                    --jp-layout-color3: var(--colab-primary-surface-color, white);\n",
       "                }\n",
       "            </style>\n",
       "            "
      ],
      "text/plain": [
       "<IPython.core.display.HTML object>"
      ]
     },
     "metadata": {},
     "output_type": "display_data"
    }
   ],
   "source": [
    "def get_average_of_brightest(image, roi, n=10):\n",
    "  \"\"\"\n",
    "  For the top n brightest pixels, calculate the mean value for each band.\n",
    "  \"\"\"\n",
    "  brightest_points = select_brightest_pixels(image, roi, n).toList(n)  # Convert to list (if possible)\n",
    "\n",
    "  # Get a list of bands\n",
    "  bands = image.bandNames() \n",
    "\n",
    "  # Create an empty dictionary to store mean values for each band\n",
    "  mean_values = {}\n",
    "\n",
    "  for band in bands:\n",
    "    # Extract the values for the current band from the brightest points\n",
    "    band_values = brightest_points.select([band]) \n",
    "    # Calculate the mean of the band values\n",
    "    mean_value = band_values.reduceColumns(ee.Reducer.mean(), selectors=[band]).get('mean')\n",
    "    # Add the mean value to the dictionary with band name as key\n",
    "    mean_values[band] = mean_value\n",
    "\n",
    "  return ee.Dictionary(mean_values)"
   ]
  },
  {
   "cell_type": "code",
   "execution_count": 256,
   "metadata": {},
   "outputs": [
    {
     "data": {
      "text/html": [
       "\n",
       "            <style>\n",
       "                .geemap-dark {\n",
       "                    --jp-widgets-color: white;\n",
       "                    --jp-widgets-label-color: white;\n",
       "                    --jp-ui-font-color1: white;\n",
       "                    --jp-layout-color2: #454545;\n",
       "                    background-color: #383838;\n",
       "                }\n",
       "\n",
       "                .geemap-dark .jupyter-button {\n",
       "                    --jp-layout-color3: #383838;\n",
       "                }\n",
       "\n",
       "                .geemap-colab {\n",
       "                    background-color: var(--colab-primary-surface-color, white);\n",
       "                }\n",
       "\n",
       "                .geemap-colab .jupyter-button {\n",
       "                    --jp-layout-color3: var(--colab-primary-surface-color, white);\n",
       "                }\n",
       "            </style>\n",
       "            "
      ],
      "text/plain": [
       "<IPython.core.display.HTML object>"
      ]
     },
     "metadata": {},
     "output_type": "display_data"
    },
    {
     "name": "stdout",
     "output_type": "stream",
     "text": [
      "[0.20610506406852178, 0.1811014584132603, 0.17480088344642095, 0.15912956637995582, 0.17721728554793767, 0.16994245563234603, 0.8713829432215009]\n"
     ]
    }
   ],
   "source": [
    "# Calculate the mean for soil endmember\n",
    "soil_mean = soil1.reduceRegion(ee.Reducer.mean(), roi_soil, 30).values()\n",
    "soil_mean = ee.List(soil_mean)\n",
    "print(soil_mean.getInfo())\n"
   ]
  },
  {
   "cell_type": "code",
   "execution_count": 258,
   "metadata": {},
   "outputs": [
    {
     "data": {
      "text/html": [
       "\n",
       "            <style>\n",
       "                .geemap-dark {\n",
       "                    --jp-widgets-color: white;\n",
       "                    --jp-widgets-label-color: white;\n",
       "                    --jp-ui-font-color1: white;\n",
       "                    --jp-layout-color2: #454545;\n",
       "                    background-color: #383838;\n",
       "                }\n",
       "\n",
       "                .geemap-dark .jupyter-button {\n",
       "                    --jp-layout-color3: #383838;\n",
       "                }\n",
       "\n",
       "                .geemap-colab {\n",
       "                    background-color: var(--colab-primary-surface-color, white);\n",
       "                }\n",
       "\n",
       "                .geemap-colab .jupyter-button {\n",
       "                    --jp-layout-color3: var(--colab-primary-surface-color, white);\n",
       "                }\n",
       "            </style>\n",
       "            "
      ],
      "text/plain": [
       "<IPython.core.display.HTML object>"
      ]
     },
     "metadata": {},
     "output_type": "display_data"
    }
   ],
   "source": [
    "def spectral_unmixing(image, roi, n=10):\n",
    "    \"\"\"\n",
    "    Perform spectral unmixing using the average values of the top n brightest pixels as endmembers.\n",
    "    \"\"\"\n",
    "    average_endmembers = get_average_of_brightest(image, roi, n) \n",
    "\n",
    "    # Use the dictionary directly to access band means\n",
    "    endmembers = [ee.List(average_endmembers), soil_mean] \n",
    "\n",
    "    unmixed_image = image.unmix(endmembers, True, True) \n",
    "\n",
    "    return unmixed_image.set('system:time_start', image.get('system:time_start'))\n"
   ]
  },
  {
   "cell_type": "code",
   "execution_count": 259,
   "metadata": {},
   "outputs": [
    {
     "data": {
      "text/html": [
       "\n",
       "            <style>\n",
       "                .geemap-dark {\n",
       "                    --jp-widgets-color: white;\n",
       "                    --jp-widgets-label-color: white;\n",
       "                    --jp-ui-font-color1: white;\n",
       "                    --jp-layout-color2: #454545;\n",
       "                    background-color: #383838;\n",
       "                }\n",
       "\n",
       "                .geemap-dark .jupyter-button {\n",
       "                    --jp-layout-color3: #383838;\n",
       "                }\n",
       "\n",
       "                .geemap-colab {\n",
       "                    background-color: var(--colab-primary-surface-color, white);\n",
       "                }\n",
       "\n",
       "                .geemap-colab .jupyter-button {\n",
       "                    --jp-layout-color3: var(--colab-primary-surface-color, white);\n",
       "                }\n",
       "            </style>\n",
       "            "
      ],
      "text/plain": [
       "<IPython.core.display.HTML object>"
      ]
     },
     "metadata": {},
     "output_type": "display_data"
    }
   ],
   "source": [
    "def define_endmembers(image, roi, n=10):\n",
    "\n",
    "  # Calculate mean values for each band of the brightest pixels\n",
    "  brightest_pixel_means = get_average_of_brightest(image, roi, n)\n",
    "\n",
    "  # Ensure soil_mean is an ee.List\n",
    "  soil_mean = ee.List(soil_mean) \n",
    "\n",
    "  # Define endmembers as a list of lists\n",
    "  endmembers = [brightest_pixel_means, soil_mean] \n",
    "\n",
    "  return endmembers"
   ]
  },
  {
   "cell_type": "code",
   "execution_count": 271,
   "metadata": {},
   "outputs": [
    {
     "data": {
      "text/html": [
       "\n",
       "            <style>\n",
       "                .geemap-dark {\n",
       "                    --jp-widgets-color: white;\n",
       "                    --jp-widgets-label-color: white;\n",
       "                    --jp-ui-font-color1: white;\n",
       "                    --jp-layout-color2: #454545;\n",
       "                    background-color: #383838;\n",
       "                }\n",
       "\n",
       "                .geemap-dark .jupyter-button {\n",
       "                    --jp-layout-color3: #383838;\n",
       "                }\n",
       "\n",
       "                .geemap-colab {\n",
       "                    background-color: var(--colab-primary-surface-color, white);\n",
       "                }\n",
       "\n",
       "                .geemap-colab .jupyter-button {\n",
       "                    --jp-layout-color3: var(--colab-primary-surface-color, white);\n",
       "                }\n",
       "            </style>\n",
       "            "
      ],
      "text/plain": [
       "<IPython.core.display.HTML object>"
      ]
     },
     "metadata": {},
     "output_type": "display_data"
    }
   ],
   "source": [
    "def perform_unmixing(image, endmembers):\n",
    "  \n",
    "  unmixed_image = image.unmix(endmembers, True, True) \n",
    "\n",
    "  return unmixed_image.set('system:time_start', image.get('system:time_start'))"
   ]
  },
  {
   "cell_type": "code",
   "execution_count": 272,
   "metadata": {},
   "outputs": [
    {
     "data": {
      "text/html": [
       "\n",
       "            <style>\n",
       "                .geemap-dark {\n",
       "                    --jp-widgets-color: white;\n",
       "                    --jp-widgets-label-color: white;\n",
       "                    --jp-ui-font-color1: white;\n",
       "                    --jp-layout-color2: #454545;\n",
       "                    background-color: #383838;\n",
       "                }\n",
       "\n",
       "                .geemap-dark .jupyter-button {\n",
       "                    --jp-layout-color3: #383838;\n",
       "                }\n",
       "\n",
       "                .geemap-colab {\n",
       "                    background-color: var(--colab-primary-surface-color, white);\n",
       "                }\n",
       "\n",
       "                .geemap-colab .jupyter-button {\n",
       "                    --jp-layout-color3: var(--colab-primary-surface-color, white);\n",
       "                }\n",
       "            </style>\n",
       "            "
      ],
      "text/plain": [
       "<IPython.core.display.HTML object>"
      ]
     },
     "metadata": {},
     "output_type": "display_data"
    }
   ],
   "source": [
    "# Define a mosaic-by-date function\n",
    "def mosaic_by_date(imcol):\n",
    "    \"\"\"\n",
    "    Create a mosaic for each unique date in the image collection.\n",
    "    \"\"\"\n",
    "    imlist = imcol.toList(imcol.size())\n",
    "    def get_date(image):\n",
    "        return ee.Image(image).date().format(\"YYYY-MM-dd\")\n",
    "\n",
    "    unique_dates = imlist.map(lambda im: get_date(im)).distinct()\n",
    "\n",
    "    def create_mosaic(date_str):\n",
    "        date = ee.Date(date_str)\n",
    "        mosaic = imcol.filterDate(date, date.advance(1, 'day')).mosaic()\n",
    "        return mosaic.set({\n",
    "            'system:time_start': date.millis(),\n",
    "            'system:id': date.format('YYYY-MM-dd')\n",
    "        })\n",
    "\n",
    "    mosaic_imlist = unique_dates.map(create_mosaic)\n",
    "    return ee.ImageCollection(mosaic_imlist)"
   ]
  },
  {
   "cell_type": "code",
   "execution_count": 273,
   "metadata": {},
   "outputs": [
    {
     "data": {
      "text/html": [
       "\n",
       "            <style>\n",
       "                .geemap-dark {\n",
       "                    --jp-widgets-color: white;\n",
       "                    --jp-widgets-label-color: white;\n",
       "                    --jp-ui-font-color1: white;\n",
       "                    --jp-layout-color2: #454545;\n",
       "                    background-color: #383838;\n",
       "                }\n",
       "\n",
       "                .geemap-dark .jupyter-button {\n",
       "                    --jp-layout-color3: #383838;\n",
       "                }\n",
       "\n",
       "                .geemap-colab {\n",
       "                    background-color: var(--colab-primary-surface-color, white);\n",
       "                }\n",
       "\n",
       "                .geemap-colab .jupyter-button {\n",
       "                    --jp-layout-color3: var(--colab-primary-surface-color, white);\n",
       "                }\n",
       "            </style>\n",
       "            "
      ],
      "text/plain": [
       "<IPython.core.display.HTML object>"
      ]
     },
     "metadata": {},
     "output_type": "display_data"
    }
   ],
   "source": [
    "# Define the region of interest (ROI) for the area to process\n",
    "roi = ee.Geometry.Rectangle([162.277817, -77.740157, 163.272100, -77.576571])  # Define your ROI here"
   ]
  },
  {
   "cell_type": "code",
   "execution_count": 274,
   "metadata": {},
   "outputs": [
    {
     "data": {
      "text/html": [
       "\n",
       "            <style>\n",
       "                .geemap-dark {\n",
       "                    --jp-widgets-color: white;\n",
       "                    --jp-widgets-label-color: white;\n",
       "                    --jp-ui-font-color1: white;\n",
       "                    --jp-layout-color2: #454545;\n",
       "                    background-color: #383838;\n",
       "                }\n",
       "\n",
       "                .geemap-dark .jupyter-button {\n",
       "                    --jp-layout-color3: #383838;\n",
       "                }\n",
       "\n",
       "                .geemap-colab {\n",
       "                    background-color: var(--colab-primary-surface-color, white);\n",
       "                }\n",
       "\n",
       "                .geemap-colab .jupyter-button {\n",
       "                    --jp-layout-color3: var(--colab-primary-surface-color, white);\n",
       "                }\n",
       "            </style>\n",
       "            "
      ],
      "text/plain": [
       "<IPython.core.display.HTML object>"
      ]
     },
     "metadata": {},
     "output_type": "display_data"
    }
   ],
   "source": [
    "# Define start and end date for the image collection filter\n",
    "start_date = \"2016-03-06\"\n",
    "end_date = \"2025-01-01\""
   ]
  },
  {
   "cell_type": "code",
   "execution_count": 275,
   "metadata": {},
   "outputs": [
    {
     "data": {
      "text/html": [
       "\n",
       "            <style>\n",
       "                .geemap-dark {\n",
       "                    --jp-widgets-color: white;\n",
       "                    --jp-widgets-label-color: white;\n",
       "                    --jp-ui-font-color1: white;\n",
       "                    --jp-layout-color2: #454545;\n",
       "                    background-color: #383838;\n",
       "                }\n",
       "\n",
       "                .geemap-dark .jupyter-button {\n",
       "                    --jp-layout-color3: #383838;\n",
       "                }\n",
       "\n",
       "                .geemap-colab {\n",
       "                    background-color: var(--colab-primary-surface-color, white);\n",
       "                }\n",
       "\n",
       "                .geemap-colab .jupyter-button {\n",
       "                    --jp-layout-color3: var(--colab-primary-surface-color, white);\n",
       "                }\n",
       "            </style>\n",
       "            "
      ],
      "text/plain": [
       "<IPython.core.display.HTML object>"
      ]
     },
     "metadata": {},
     "output_type": "display_data"
    }
   ],
   "source": [
    "# Example usage with an image collection (e.g., LANDSAT/LC08)\n",
    "s2 = ee.ImageCollection('LANDSAT/LC08/C02/T2_TOA')\\\n",
    "    .select(['B2', 'B3', 'B4', 'B5', 'B6', 'B7', 'B8'])\\\n",
    "    .filterDate(start_date, end_date)\\\n",
    "    .filterBounds(roi)\\\n",
    "    .sort('DATE_ACQUIRED')\n",
    "\n",
    "# Create a mosaic by date\n",
    "s3 = mosaic_by_date(s2)"
   ]
  },
  {
   "cell_type": "code",
   "execution_count": 276,
   "metadata": {},
   "outputs": [
    {
     "data": {
      "text/html": [
       "\n",
       "            <style>\n",
       "                .geemap-dark {\n",
       "                    --jp-widgets-color: white;\n",
       "                    --jp-widgets-label-color: white;\n",
       "                    --jp-ui-font-color1: white;\n",
       "                    --jp-layout-color2: #454545;\n",
       "                    background-color: #383838;\n",
       "                }\n",
       "\n",
       "                .geemap-dark .jupyter-button {\n",
       "                    --jp-layout-color3: #383838;\n",
       "                }\n",
       "\n",
       "                .geemap-colab {\n",
       "                    background-color: var(--colab-primary-surface-color, white);\n",
       "                }\n",
       "\n",
       "                .geemap-colab .jupyter-button {\n",
       "                    --jp-layout-color3: var(--colab-primary-surface-color, white);\n",
       "                }\n",
       "            </style>\n",
       "            "
      ],
      "text/plain": [
       "<IPython.core.display.HTML object>"
      ]
     },
     "metadata": {},
     "output_type": "display_data"
    }
   ],
   "source": [
    "# Clip all the images in the s3 collection down to the ROI\n",
    "def clip_image(image):\n",
    "    return image.clip(roi)"
   ]
  },
  {
   "cell_type": "code",
   "execution_count": 277,
   "metadata": {},
   "outputs": [
    {
     "data": {
      "text/html": [
       "\n",
       "            <style>\n",
       "                .geemap-dark {\n",
       "                    --jp-widgets-color: white;\n",
       "                    --jp-widgets-label-color: white;\n",
       "                    --jp-ui-font-color1: white;\n",
       "                    --jp-layout-color2: #454545;\n",
       "                    background-color: #383838;\n",
       "                }\n",
       "\n",
       "                .geemap-dark .jupyter-button {\n",
       "                    --jp-layout-color3: #383838;\n",
       "                }\n",
       "\n",
       "                .geemap-colab {\n",
       "                    background-color: var(--colab-primary-surface-color, white);\n",
       "                }\n",
       "\n",
       "                .geemap-colab .jupyter-button {\n",
       "                    --jp-layout-color3: var(--colab-primary-surface-color, white);\n",
       "                }\n",
       "            </style>\n",
       "            "
      ],
      "text/plain": [
       "<IPython.core.display.HTML object>"
      ]
     },
     "metadata": {},
     "output_type": "display_data"
    }
   ],
   "source": [
    "#apply clip to image collection\n",
    "l8_clipped = s3.map(clip_image)"
   ]
  },
  {
   "cell_type": "code",
   "execution_count": 278,
   "metadata": {},
   "outputs": [
    {
     "data": {
      "text/html": [
       "\n",
       "            <style>\n",
       "                .geemap-dark {\n",
       "                    --jp-widgets-color: white;\n",
       "                    --jp-widgets-label-color: white;\n",
       "                    --jp-ui-font-color1: white;\n",
       "                    --jp-layout-color2: #454545;\n",
       "                    background-color: #383838;\n",
       "                }\n",
       "\n",
       "                .geemap-dark .jupyter-button {\n",
       "                    --jp-layout-color3: #383838;\n",
       "                }\n",
       "\n",
       "                .geemap-colab {\n",
       "                    background-color: var(--colab-primary-surface-color, white);\n",
       "                }\n",
       "\n",
       "                .geemap-colab .jupyter-button {\n",
       "                    --jp-layout-color3: var(--colab-primary-surface-color, white);\n",
       "                }\n",
       "            </style>\n",
       "            "
      ],
      "text/plain": [
       "<IPython.core.display.HTML object>"
      ]
     },
     "metadata": {},
     "output_type": "display_data"
    }
   ],
   "source": [
    "# Process each image in the collection\n",
    "def process_images(image):\n",
    "    # Apply spectral unmixing on the image\n",
    "    unmixed_image = perform_unmixing(image, roi)\n",
    "\n",
    "    # Optionally reduce across bands (if spectral unmixing adds multiple bands)\n",
    "    reduced_image = unmixed_image.reduce(ee.Reducer.mean())\n",
    "\n",
    "    # Store the date as metadata\n",
    "    date = image.date().format('YYYY-MM-dd')\n",
    "    unmixed_image = reduced_image.set('acquired_date', date)\n",
    "\n",
    "    return unmixed_image"
   ]
  },
  {
   "cell_type": "code",
   "execution_count": 279,
   "metadata": {},
   "outputs": [
    {
     "data": {
      "text/html": [
       "\n",
       "            <style>\n",
       "                .geemap-dark {\n",
       "                    --jp-widgets-color: white;\n",
       "                    --jp-widgets-label-color: white;\n",
       "                    --jp-ui-font-color1: white;\n",
       "                    --jp-layout-color2: #454545;\n",
       "                    background-color: #383838;\n",
       "                }\n",
       "\n",
       "                .geemap-dark .jupyter-button {\n",
       "                    --jp-layout-color3: #383838;\n",
       "                }\n",
       "\n",
       "                .geemap-colab {\n",
       "                    background-color: var(--colab-primary-surface-color, white);\n",
       "                }\n",
       "\n",
       "                .geemap-colab .jupyter-button {\n",
       "                    --jp-layout-color3: var(--colab-primary-surface-color, white);\n",
       "                }\n",
       "            </style>\n",
       "            "
      ],
      "text/plain": [
       "<IPython.core.display.HTML object>"
      ]
     },
     "metadata": {},
     "output_type": "display_data"
    }
   ],
   "source": [
    "def process_images(image):\n",
    "    endmembers = define_endmembers(image, roi) \n",
    "    unmixed_image = perform_unmixing(image, endmembers) \n",
    "    return unmixed_image"
   ]
  },
  {
   "cell_type": "code",
   "execution_count": 280,
   "metadata": {},
   "outputs": [
    {
     "data": {
      "text/html": [
       "\n",
       "            <style>\n",
       "                .geemap-dark {\n",
       "                    --jp-widgets-color: white;\n",
       "                    --jp-widgets-label-color: white;\n",
       "                    --jp-ui-font-color1: white;\n",
       "                    --jp-layout-color2: #454545;\n",
       "                    background-color: #383838;\n",
       "                }\n",
       "\n",
       "                .geemap-dark .jupyter-button {\n",
       "                    --jp-layout-color3: #383838;\n",
       "                }\n",
       "\n",
       "                .geemap-colab {\n",
       "                    background-color: var(--colab-primary-surface-color, white);\n",
       "                }\n",
       "\n",
       "                .geemap-colab .jupyter-button {\n",
       "                    --jp-layout-color3: var(--colab-primary-surface-color, white);\n",
       "                }\n",
       "            </style>\n",
       "            "
      ],
      "text/plain": [
       "<IPython.core.display.HTML object>"
      ]
     },
     "metadata": {},
     "output_type": "display_data"
    },
    {
     "ename": "TypeError",
     "evalue": "'List' object is not iterable",
     "output_type": "error",
     "traceback": [
      "\u001b[0;31m---------------------------------------------------------------------------\u001b[0m",
      "\u001b[0;31mTypeError\u001b[0m                                 Traceback (most recent call last)",
      "Cell \u001b[0;32mIn[280], line 2\u001b[0m\n\u001b[1;32m      1\u001b[0m \u001b[38;5;66;03m# Apply the process_images function to the filtered image collection l8_clipped\u001b[39;00m\n\u001b[0;32m----> 2\u001b[0m processed_images \u001b[38;5;241m=\u001b[39m l8_clipped\u001b[38;5;241m.\u001b[39mmap(process_images)\n",
      "File \u001b[0;32m/opt/anaconda3/lib/python3.11/site-packages/ee/_utils.py:38\u001b[0m, in \u001b[0;36maccept_opt_prefix.<locals>.opt_fixed.<locals>.wrapper\u001b[0;34m(*args, **kwargs)\u001b[0m\n\u001b[1;32m     36\u001b[0m     \u001b[38;5;28;01mif\u001b[39;00m new_key \u001b[38;5;129;01mnot\u001b[39;00m \u001b[38;5;129;01min\u001b[39;00m kwargs:\n\u001b[1;32m     37\u001b[0m       kwargs[new_key] \u001b[38;5;241m=\u001b[39m old_key_val\n\u001b[0;32m---> 38\u001b[0m \u001b[38;5;28;01mreturn\u001b[39;00m func(\u001b[38;5;241m*\u001b[39margs, \u001b[38;5;241m*\u001b[39m\u001b[38;5;241m*\u001b[39mkwargs)\n",
      "File \u001b[0;32m/opt/anaconda3/lib/python3.11/site-packages/ee/collection.py:668\u001b[0m, in \u001b[0;36mCollection.map\u001b[0;34m(self, algorithm, dropNulls)\u001b[0m\n\u001b[1;32m    665\u001b[0m element_type \u001b[38;5;241m=\u001b[39m \u001b[38;5;28mself\u001b[39m\u001b[38;5;241m.\u001b[39melementType()\n\u001b[1;32m    666\u001b[0m with_cast \u001b[38;5;241m=\u001b[39m \u001b[38;5;28;01mlambda\u001b[39;00m e: algorithm(element_type(e, \u001b[38;5;28;01mNone\u001b[39;00m))\n\u001b[1;32m    667\u001b[0m \u001b[38;5;28;01mreturn\u001b[39;00m \u001b[38;5;28mself\u001b[39m\u001b[38;5;241m.\u001b[39m_cast(\n\u001b[0;32m--> 668\u001b[0m     apifunction\u001b[38;5;241m.\u001b[39mApiFunction\u001b[38;5;241m.\u001b[39mcall_(\n\u001b[1;32m    669\u001b[0m         \u001b[38;5;124m'\u001b[39m\u001b[38;5;124mCollection.map\u001b[39m\u001b[38;5;124m'\u001b[39m, \u001b[38;5;28mself\u001b[39m, with_cast, dropNulls\n\u001b[1;32m    670\u001b[0m     )\n\u001b[1;32m    671\u001b[0m )\n",
      "File \u001b[0;32m/opt/anaconda3/lib/python3.11/site-packages/ee/apifunction.py:84\u001b[0m, in \u001b[0;36mApiFunction.call_\u001b[0;34m(cls, name, *args, **kwargs)\u001b[0m\n\u001b[1;32m     71\u001b[0m \u001b[38;5;129m@classmethod\u001b[39m\n\u001b[1;32m     72\u001b[0m \u001b[38;5;28;01mdef\u001b[39;00m \u001b[38;5;21mcall_\u001b[39m(\u001b[38;5;28mcls\u001b[39m, name: \u001b[38;5;28mstr\u001b[39m, \u001b[38;5;241m*\u001b[39margs: Any, \u001b[38;5;241m*\u001b[39m\u001b[38;5;241m*\u001b[39mkwargs: Any) \u001b[38;5;241m-\u001b[39m\u001b[38;5;241m>\u001b[39m Any:\n\u001b[1;32m     73\u001b[0m \u001b[38;5;250m  \u001b[39m\u001b[38;5;124;03m\"\"\"Call a named API function with positional and keyword arguments.\u001b[39;00m\n\u001b[1;32m     74\u001b[0m \n\u001b[1;32m     75\u001b[0m \u001b[38;5;124;03m  Args:\u001b[39;00m\n\u001b[0;32m   (...)\u001b[0m\n\u001b[1;32m     82\u001b[0m \u001b[38;5;124;03m    a recognized return type, the returned value will be cast to that type.\u001b[39;00m\n\u001b[1;32m     83\u001b[0m \u001b[38;5;124;03m  \"\"\"\u001b[39;00m\n\u001b[0;32m---> 84\u001b[0m   \u001b[38;5;28;01mreturn\u001b[39;00m \u001b[38;5;28mcls\u001b[39m\u001b[38;5;241m.\u001b[39mlookup(name)\u001b[38;5;241m.\u001b[39mcall(\u001b[38;5;241m*\u001b[39margs, \u001b[38;5;241m*\u001b[39m\u001b[38;5;241m*\u001b[39mkwargs)\n",
      "File \u001b[0;32m/opt/anaconda3/lib/python3.11/site-packages/ee/function.py:62\u001b[0m, in \u001b[0;36mFunction.call\u001b[0;34m(self, *args, **kwargs)\u001b[0m\n\u001b[1;32m     50\u001b[0m \u001b[38;5;28;01mdef\u001b[39;00m \u001b[38;5;21mcall\u001b[39m(\u001b[38;5;28mself\u001b[39m, \u001b[38;5;241m*\u001b[39margs, \u001b[38;5;241m*\u001b[39m\u001b[38;5;241m*\u001b[39mkwargs):\n\u001b[1;32m     51\u001b[0m \u001b[38;5;250m  \u001b[39m\u001b[38;5;124;03m\"\"\"Calls the function with the given positional and keyword arguments.\u001b[39;00m\n\u001b[1;32m     52\u001b[0m \n\u001b[1;32m     53\u001b[0m \u001b[38;5;124;03m  Args:\u001b[39;00m\n\u001b[0;32m   (...)\u001b[0m\n\u001b[1;32m     60\u001b[0m \u001b[38;5;124;03m    to that type.\u001b[39;00m\n\u001b[1;32m     61\u001b[0m \u001b[38;5;124;03m  \"\"\"\u001b[39;00m\n\u001b[0;32m---> 62\u001b[0m   \u001b[38;5;28;01mreturn\u001b[39;00m \u001b[38;5;28mself\u001b[39m\u001b[38;5;241m.\u001b[39mapply(\u001b[38;5;28mself\u001b[39m\u001b[38;5;241m.\u001b[39mnameArgs(args, kwargs))\n",
      "File \u001b[0;32m/opt/anaconda3/lib/python3.11/site-packages/ee/function.py:75\u001b[0m, in \u001b[0;36mFunction.apply\u001b[0;34m(self, named_args)\u001b[0m\n\u001b[1;32m     64\u001b[0m \u001b[38;5;28;01mdef\u001b[39;00m \u001b[38;5;21mapply\u001b[39m(\u001b[38;5;28mself\u001b[39m, named_args):\n\u001b[1;32m     65\u001b[0m \u001b[38;5;250m  \u001b[39m\u001b[38;5;124;03m\"\"\"Calls the function with a dictionary of named arguments.\u001b[39;00m\n\u001b[1;32m     66\u001b[0m \n\u001b[1;32m     67\u001b[0m \u001b[38;5;124;03m  Args:\u001b[39;00m\n\u001b[0;32m   (...)\u001b[0m\n\u001b[1;32m     73\u001b[0m \u001b[38;5;124;03m    to that type.\u001b[39;00m\n\u001b[1;32m     74\u001b[0m \u001b[38;5;124;03m  \"\"\"\u001b[39;00m\n\u001b[0;32m---> 75\u001b[0m   result \u001b[38;5;241m=\u001b[39m computedobject\u001b[38;5;241m.\u001b[39mComputedObject(\u001b[38;5;28mself\u001b[39m, \u001b[38;5;28mself\u001b[39m\u001b[38;5;241m.\u001b[39mpromoteArgs(named_args))\n\u001b[1;32m     76\u001b[0m   \u001b[38;5;28;01mreturn\u001b[39;00m Function\u001b[38;5;241m.\u001b[39m_promoter(result, \u001b[38;5;28mself\u001b[39m\u001b[38;5;241m.\u001b[39mgetReturnType())\n",
      "File \u001b[0;32m/opt/anaconda3/lib/python3.11/site-packages/ee/function.py:103\u001b[0m, in \u001b[0;36mFunction.promoteArgs\u001b[0;34m(self, args)\u001b[0m\n\u001b[1;32m    101\u001b[0m name \u001b[38;5;241m=\u001b[39m arg_spec[\u001b[38;5;124m'\u001b[39m\u001b[38;5;124mname\u001b[39m\u001b[38;5;124m'\u001b[39m]\n\u001b[1;32m    102\u001b[0m \u001b[38;5;28;01mif\u001b[39;00m name \u001b[38;5;129;01min\u001b[39;00m args:\n\u001b[0;32m--> 103\u001b[0m   promoted_args[name] \u001b[38;5;241m=\u001b[39m Function\u001b[38;5;241m.\u001b[39m_promoter(args[name], arg_spec[\u001b[38;5;124m'\u001b[39m\u001b[38;5;124mtype\u001b[39m\u001b[38;5;124m'\u001b[39m])\n\u001b[1;32m    104\u001b[0m \u001b[38;5;28;01melif\u001b[39;00m \u001b[38;5;129;01mnot\u001b[39;00m arg_spec\u001b[38;5;241m.\u001b[39mget(\u001b[38;5;124m'\u001b[39m\u001b[38;5;124moptional\u001b[39m\u001b[38;5;124m'\u001b[39m):\n\u001b[1;32m    105\u001b[0m   \u001b[38;5;28;01mraise\u001b[39;00m ee_exception\u001b[38;5;241m.\u001b[39mEEException(\n\u001b[1;32m    106\u001b[0m       \u001b[38;5;124m'\u001b[39m\u001b[38;5;124mRequired argument (\u001b[39m\u001b[38;5;132;01m%s\u001b[39;00m\u001b[38;5;124m) missing to function: \u001b[39m\u001b[38;5;132;01m%s\u001b[39;00m\u001b[38;5;124m'\u001b[39m\n\u001b[1;32m    107\u001b[0m       \u001b[38;5;241m%\u001b[39m (name, signature\u001b[38;5;241m.\u001b[39mget(\u001b[38;5;124m'\u001b[39m\u001b[38;5;124mname\u001b[39m\u001b[38;5;124m'\u001b[39m)))\n",
      "File \u001b[0;32m/opt/anaconda3/lib/python3.11/site-packages/ee/__init__.py:336\u001b[0m, in \u001b[0;36m_Promote\u001b[0;34m(arg, a_class)\u001b[0m\n\u001b[1;32m    333\u001b[0m \u001b[38;5;28;01melif\u001b[39;00m \u001b[38;5;28mcallable\u001b[39m(arg):\n\u001b[1;32m    334\u001b[0m   \u001b[38;5;66;03m# A native function that needs to be wrapped.\u001b[39;00m\n\u001b[1;32m    335\u001b[0m   args_count \u001b[38;5;241m=\u001b[39m \u001b[38;5;28mlen\u001b[39m(inspect\u001b[38;5;241m.\u001b[39mgetfullargspec(arg)\u001b[38;5;241m.\u001b[39margs)\n\u001b[0;32m--> 336\u001b[0m   \u001b[38;5;28;01mreturn\u001b[39;00m CustomFunction\u001b[38;5;241m.\u001b[39mcreate(arg, \u001b[38;5;124m'\u001b[39m\u001b[38;5;124mObject\u001b[39m\u001b[38;5;124m'\u001b[39m, [\u001b[38;5;124m'\u001b[39m\u001b[38;5;124mObject\u001b[39m\u001b[38;5;124m'\u001b[39m] \u001b[38;5;241m*\u001b[39m args_count)\n\u001b[1;32m    337\u001b[0m \u001b[38;5;28;01melif\u001b[39;00m \u001b[38;5;28misinstance\u001b[39m(arg, Encodable):\n\u001b[1;32m    338\u001b[0m   \u001b[38;5;66;03m# An ee.Function or a computed function like the return value of\u001b[39;00m\n\u001b[1;32m    339\u001b[0m   \u001b[38;5;66;03m# Image.parseExpression().\u001b[39;00m\n\u001b[1;32m    340\u001b[0m   \u001b[38;5;28;01mreturn\u001b[39;00m arg\n",
      "File \u001b[0;32m/opt/anaconda3/lib/python3.11/site-packages/ee/customfunction.py:126\u001b[0m, in \u001b[0;36mCustomFunction.create\u001b[0;34m(func, return_type, arg_types)\u001b[0m\n\u001b[1;32m    120\u001b[0m args \u001b[38;5;241m=\u001b[39m [{\u001b[38;5;124m'\u001b[39m\u001b[38;5;124mname\u001b[39m\u001b[38;5;124m'\u001b[39m: \u001b[38;5;28;01mNone\u001b[39;00m, \u001b[38;5;124m'\u001b[39m\u001b[38;5;124mtype\u001b[39m\u001b[38;5;124m'\u001b[39m: StringifyType(i)} \u001b[38;5;28;01mfor\u001b[39;00m i \u001b[38;5;129;01min\u001b[39;00m arg_types]\n\u001b[1;32m    121\u001b[0m signature \u001b[38;5;241m=\u001b[39m {\n\u001b[1;32m    122\u001b[0m     \u001b[38;5;124m'\u001b[39m\u001b[38;5;124mname\u001b[39m\u001b[38;5;124m'\u001b[39m: \u001b[38;5;124m'\u001b[39m\u001b[38;5;124m'\u001b[39m,\n\u001b[1;32m    123\u001b[0m     \u001b[38;5;124m'\u001b[39m\u001b[38;5;124mreturns\u001b[39m\u001b[38;5;124m'\u001b[39m: StringifyType(return_type),\n\u001b[1;32m    124\u001b[0m     \u001b[38;5;124m'\u001b[39m\u001b[38;5;124margs\u001b[39m\u001b[38;5;124m'\u001b[39m: args\n\u001b[1;32m    125\u001b[0m }\n\u001b[0;32m--> 126\u001b[0m \u001b[38;5;28;01mreturn\u001b[39;00m CustomFunction(signature, func)\n",
      "File \u001b[0;32m/opt/anaconda3/lib/python3.11/site-packages/ee/customfunction.py:40\u001b[0m, in \u001b[0;36mCustomFunction.__init__\u001b[0;34m(self, signature, body)\u001b[0m\n\u001b[1;32m     26\u001b[0m \u001b[38;5;250m\u001b[39m\u001b[38;5;124;03m\"\"\"Creates a function defined by a given expression with unbound variables.\u001b[39;00m\n\u001b[1;32m     27\u001b[0m \n\u001b[1;32m     28\u001b[0m \u001b[38;5;124;03mThe expression is created by evaluating the given function\u001b[39;00m\n\u001b[0;32m   (...)\u001b[0m\n\u001b[1;32m     35\u001b[0m \u001b[38;5;124;03m  body: The Python function to evaluate.\u001b[39;00m\n\u001b[1;32m     36\u001b[0m \u001b[38;5;124;03m\"\"\"\u001b[39;00m\n\u001b[1;32m     37\u001b[0m variables \u001b[38;5;241m=\u001b[39m [CustomFunction\u001b[38;5;241m.\u001b[39mvariable(arg[\u001b[38;5;124m'\u001b[39m\u001b[38;5;124mtype\u001b[39m\u001b[38;5;124m'\u001b[39m], arg[\u001b[38;5;124m'\u001b[39m\u001b[38;5;124mname\u001b[39m\u001b[38;5;124m'\u001b[39m])\n\u001b[1;32m     38\u001b[0m              \u001b[38;5;28;01mfor\u001b[39;00m arg \u001b[38;5;129;01min\u001b[39;00m signature[\u001b[38;5;124m'\u001b[39m\u001b[38;5;124margs\u001b[39m\u001b[38;5;124m'\u001b[39m]]\n\u001b[0;32m---> 40\u001b[0m \u001b[38;5;28;01mif\u001b[39;00m body(\u001b[38;5;241m*\u001b[39mvariables) \u001b[38;5;129;01mis\u001b[39;00m \u001b[38;5;28;01mNone\u001b[39;00m:\n\u001b[1;32m     41\u001b[0m   \u001b[38;5;28;01mraise\u001b[39;00m ee_exception\u001b[38;5;241m.\u001b[39mEEException(\u001b[38;5;124m'\u001b[39m\u001b[38;5;124mUser-defined methods must return a value\u001b[39m\u001b[38;5;124m'\u001b[39m)\n\u001b[1;32m     43\u001b[0m \u001b[38;5;66;03m# The signature of the function.\u001b[39;00m\n",
      "File \u001b[0;32m/opt/anaconda3/lib/python3.11/site-packages/ee/collection.py:666\u001b[0m, in \u001b[0;36mCollection.map.<locals>.<lambda>\u001b[0;34m(e)\u001b[0m\n\u001b[1;32m    648\u001b[0m \u001b[38;5;250m\u001b[39m\u001b[38;5;124;03m\"\"\"Maps an algorithm over a collection.\u001b[39;00m\n\u001b[1;32m    649\u001b[0m \n\u001b[1;32m    650\u001b[0m \u001b[38;5;124;03mArgs:\u001b[39;00m\n\u001b[0;32m   (...)\u001b[0m\n\u001b[1;32m    663\u001b[0m \u001b[38;5;124;03m  ee_exception.EEException: if algorithm is not a function.\u001b[39;00m\n\u001b[1;32m    664\u001b[0m \u001b[38;5;124;03m\"\"\"\u001b[39;00m\n\u001b[1;32m    665\u001b[0m element_type \u001b[38;5;241m=\u001b[39m \u001b[38;5;28mself\u001b[39m\u001b[38;5;241m.\u001b[39melementType()\n\u001b[0;32m--> 666\u001b[0m with_cast \u001b[38;5;241m=\u001b[39m \u001b[38;5;28;01mlambda\u001b[39;00m e: algorithm(element_type(e, \u001b[38;5;28;01mNone\u001b[39;00m))\n\u001b[1;32m    667\u001b[0m \u001b[38;5;28;01mreturn\u001b[39;00m \u001b[38;5;28mself\u001b[39m\u001b[38;5;241m.\u001b[39m_cast(\n\u001b[1;32m    668\u001b[0m     apifunction\u001b[38;5;241m.\u001b[39mApiFunction\u001b[38;5;241m.\u001b[39mcall_(\n\u001b[1;32m    669\u001b[0m         \u001b[38;5;124m'\u001b[39m\u001b[38;5;124mCollection.map\u001b[39m\u001b[38;5;124m'\u001b[39m, \u001b[38;5;28mself\u001b[39m, with_cast, dropNulls\n\u001b[1;32m    670\u001b[0m     )\n\u001b[1;32m    671\u001b[0m )\n",
      "Cell \u001b[0;32mIn[279], line 2\u001b[0m, in \u001b[0;36mprocess_images\u001b[0;34m(image)\u001b[0m\n\u001b[1;32m      1\u001b[0m \u001b[38;5;28;01mdef\u001b[39;00m \u001b[38;5;21mprocess_images\u001b[39m(image):\n\u001b[0;32m----> 2\u001b[0m     endmembers \u001b[38;5;241m=\u001b[39m define_endmembers(image, roi) \n\u001b[1;32m      3\u001b[0m     unmixed_image \u001b[38;5;241m=\u001b[39m perform_unmixing(image, endmembers) \n\u001b[1;32m      4\u001b[0m     \u001b[38;5;28;01mreturn\u001b[39;00m unmixed_image\n",
      "Cell \u001b[0;32mIn[259], line 4\u001b[0m, in \u001b[0;36mdefine_endmembers\u001b[0;34m(image, roi, n)\u001b[0m\n\u001b[1;32m      1\u001b[0m \u001b[38;5;28;01mdef\u001b[39;00m \u001b[38;5;21mdefine_endmembers\u001b[39m(image, roi, n\u001b[38;5;241m=\u001b[39m\u001b[38;5;241m10\u001b[39m):\n\u001b[1;32m      2\u001b[0m \n\u001b[1;32m      3\u001b[0m   \u001b[38;5;66;03m# Calculate mean values for each band of the brightest pixels\u001b[39;00m\n\u001b[0;32m----> 4\u001b[0m   brightest_pixel_means \u001b[38;5;241m=\u001b[39m get_average_of_brightest(image, roi, n)\n\u001b[1;32m      6\u001b[0m   \u001b[38;5;66;03m# Ensure soil_mean is an ee.List\u001b[39;00m\n\u001b[1;32m      7\u001b[0m   soil_mean \u001b[38;5;241m=\u001b[39m ee\u001b[38;5;241m.\u001b[39mList(soil_mean) \n",
      "Cell \u001b[0;32mIn[255], line 13\u001b[0m, in \u001b[0;36mget_average_of_brightest\u001b[0;34m(image, roi, n)\u001b[0m\n\u001b[1;32m     10\u001b[0m \u001b[38;5;66;03m# Create an empty dictionary to store mean values for each band\u001b[39;00m\n\u001b[1;32m     11\u001b[0m mean_values \u001b[38;5;241m=\u001b[39m {}\n\u001b[0;32m---> 13\u001b[0m \u001b[38;5;28;01mfor\u001b[39;00m band \u001b[38;5;129;01min\u001b[39;00m bands:\n\u001b[1;32m     14\u001b[0m   \u001b[38;5;66;03m# Extract the values for the current band from the brightest points\u001b[39;00m\n\u001b[1;32m     15\u001b[0m   band_values \u001b[38;5;241m=\u001b[39m brightest_points\u001b[38;5;241m.\u001b[39mselect([band]) \n\u001b[1;32m     16\u001b[0m   \u001b[38;5;66;03m# Calculate the mean of the band values\u001b[39;00m\n",
      "\u001b[0;31mTypeError\u001b[0m: 'List' object is not iterable"
     ]
    }
   ],
   "source": [
    "# Apply the process_images function to the filtered image collection l8_clipped\n",
    "processed_images = l8_clipped.map(process_images)"
   ]
  },
  {
   "cell_type": "code",
   "execution_count": 281,
   "metadata": {},
   "outputs": [
    {
     "data": {
      "text/html": [
       "\n",
       "            <style>\n",
       "                .geemap-dark {\n",
       "                    --jp-widgets-color: white;\n",
       "                    --jp-widgets-label-color: white;\n",
       "                    --jp-ui-font-color1: white;\n",
       "                    --jp-layout-color2: #454545;\n",
       "                    background-color: #383838;\n",
       "                }\n",
       "\n",
       "                .geemap-dark .jupyter-button {\n",
       "                    --jp-layout-color3: #383838;\n",
       "                }\n",
       "\n",
       "                .geemap-colab {\n",
       "                    background-color: var(--colab-primary-surface-color, white);\n",
       "                }\n",
       "\n",
       "                .geemap-colab .jupyter-button {\n",
       "                    --jp-layout-color3: var(--colab-primary-surface-color, white);\n",
       "                }\n",
       "            </style>\n",
       "            "
      ],
      "text/plain": [
       "<IPython.core.display.HTML object>"
      ]
     },
     "metadata": {},
     "output_type": "display_data"
    },
    {
     "ename": "EEException",
     "evalue": "A mapped function's arguments cannot be used in client-side operations",
     "output_type": "error",
     "traceback": [
      "\u001b[0;31m---------------------------------------------------------------------------\u001b[0m",
      "\u001b[0;31mEEException\u001b[0m                               Traceback (most recent call last)",
      "Cell \u001b[0;32mIn[281], line 3\u001b[0m\n\u001b[1;32m      1\u001b[0m \u001b[38;5;66;03m# Print processed image information\u001b[39;00m\n\u001b[1;32m      2\u001b[0m first_image \u001b[38;5;241m=\u001b[39m processed_images\u001b[38;5;241m.\u001b[39mfirst()\n\u001b[0;32m----> 3\u001b[0m \u001b[38;5;28mprint\u001b[39m(first_image\u001b[38;5;241m.\u001b[39mgetInfo())\n",
      "File \u001b[0;32m/opt/anaconda3/lib/python3.11/site-packages/ee/image.py:143\u001b[0m, in \u001b[0;36mImage.getInfo\u001b[0;34m(self)\u001b[0m\n\u001b[1;32m    135\u001b[0m \u001b[38;5;28;01mdef\u001b[39;00m \u001b[38;5;21mgetInfo\u001b[39m(\u001b[38;5;28mself\u001b[39m) \u001b[38;5;241m-\u001b[39m\u001b[38;5;241m>\u001b[39m Optional[Any]:\n\u001b[1;32m    136\u001b[0m \u001b[38;5;250m  \u001b[39m\u001b[38;5;124;03m\"\"\"Fetch and return information about this image.\u001b[39;00m\n\u001b[1;32m    137\u001b[0m \n\u001b[1;32m    138\u001b[0m \u001b[38;5;124;03m  Returns:\u001b[39;00m\n\u001b[0;32m   (...)\u001b[0m\n\u001b[1;32m    141\u001b[0m \u001b[38;5;124;03m        properties - Dictionary containing the image's metadata properties.\u001b[39;00m\n\u001b[1;32m    142\u001b[0m \u001b[38;5;124;03m  \"\"\"\u001b[39;00m\n\u001b[0;32m--> 143\u001b[0m   \u001b[38;5;28;01mreturn\u001b[39;00m \u001b[38;5;28msuper\u001b[39m()\u001b[38;5;241m.\u001b[39mgetInfo()\n",
      "File \u001b[0;32m/opt/anaconda3/lib/python3.11/site-packages/ee/computedobject.py:107\u001b[0m, in \u001b[0;36mComputedObject.getInfo\u001b[0;34m(self)\u001b[0m\n\u001b[1;32m    101\u001b[0m \u001b[38;5;28;01mdef\u001b[39;00m \u001b[38;5;21mgetInfo\u001b[39m(\u001b[38;5;28mself\u001b[39m) \u001b[38;5;241m-\u001b[39m\u001b[38;5;241m>\u001b[39m Optional[Any]:\n\u001b[1;32m    102\u001b[0m \u001b[38;5;250m  \u001b[39m\u001b[38;5;124;03m\"\"\"Fetch and return information about this object.\u001b[39;00m\n\u001b[1;32m    103\u001b[0m \n\u001b[1;32m    104\u001b[0m \u001b[38;5;124;03m  Returns:\u001b[39;00m\n\u001b[1;32m    105\u001b[0m \u001b[38;5;124;03m    The object can evaluate to anything.\u001b[39;00m\n\u001b[1;32m    106\u001b[0m \u001b[38;5;124;03m  \"\"\"\u001b[39;00m\n\u001b[0;32m--> 107\u001b[0m   \u001b[38;5;28;01mreturn\u001b[39;00m data\u001b[38;5;241m.\u001b[39mcomputeValue(\u001b[38;5;28mself\u001b[39m)\n",
      "File \u001b[0;32m/opt/anaconda3/lib/python3.11/site-packages/ee/data.py:1123\u001b[0m, in \u001b[0;36mcomputeValue\u001b[0;34m(obj)\u001b[0m\n\u001b[1;32m   1114\u001b[0m \u001b[38;5;28;01mdef\u001b[39;00m \u001b[38;5;21mcomputeValue\u001b[39m(obj: computedobject\u001b[38;5;241m.\u001b[39mComputedObject) \u001b[38;5;241m-\u001b[39m\u001b[38;5;241m>\u001b[39m Any:\n\u001b[1;32m   1115\u001b[0m \u001b[38;5;250m  \u001b[39m\u001b[38;5;124;03m\"\"\"Sends a request to compute a value.\u001b[39;00m\n\u001b[1;32m   1116\u001b[0m \n\u001b[1;32m   1117\u001b[0m \u001b[38;5;124;03m  Args:\u001b[39;00m\n\u001b[0;32m   (...)\u001b[0m\n\u001b[1;32m   1121\u001b[0m \u001b[38;5;124;03m    The result of evaluating that object on the server.\u001b[39;00m\n\u001b[1;32m   1122\u001b[0m \u001b[38;5;124;03m  \"\"\"\u001b[39;00m\n\u001b[0;32m-> 1123\u001b[0m   body \u001b[38;5;241m=\u001b[39m {\u001b[38;5;124m'\u001b[39m\u001b[38;5;124mexpression\u001b[39m\u001b[38;5;124m'\u001b[39m: serializer\u001b[38;5;241m.\u001b[39mencode(obj, for_cloud_api\u001b[38;5;241m=\u001b[39m\u001b[38;5;28;01mTrue\u001b[39;00m)}\n\u001b[1;32m   1124\u001b[0m   _maybe_populate_workload_tag(body)\n\u001b[1;32m   1126\u001b[0m   \u001b[38;5;28;01mreturn\u001b[39;00m _execute_cloud_call(\n\u001b[1;32m   1127\u001b[0m       _get_cloud_projects()\n\u001b[1;32m   1128\u001b[0m       \u001b[38;5;241m.\u001b[39mvalue()\n\u001b[1;32m   1129\u001b[0m       \u001b[38;5;241m.\u001b[39mcompute(body\u001b[38;5;241m=\u001b[39mbody, project\u001b[38;5;241m=\u001b[39m_get_projects_path(), prettyPrint\u001b[38;5;241m=\u001b[39m\u001b[38;5;28;01mFalse\u001b[39;00m)\n\u001b[1;32m   1130\u001b[0m   )[\u001b[38;5;124m'\u001b[39m\u001b[38;5;124mresult\u001b[39m\u001b[38;5;124m'\u001b[39m]\n",
      "File \u001b[0;32m/opt/anaconda3/lib/python3.11/site-packages/ee/serializer.py:301\u001b[0m, in \u001b[0;36mencode\u001b[0;34m(obj, is_compound, for_cloud_api, unbound_name)\u001b[0m\n\u001b[1;32m    285\u001b[0m \u001b[38;5;250m\u001b[39m\u001b[38;5;124;03m\"\"\"Serialize an object to a JSON-compatible structure for API calls.\u001b[39;00m\n\u001b[1;32m    286\u001b[0m \n\u001b[1;32m    287\u001b[0m \u001b[38;5;124;03mArgs:\u001b[39;00m\n\u001b[0;32m   (...)\u001b[0m\n\u001b[1;32m    297\u001b[0m \u001b[38;5;124;03m  A JSON-compatible structure representing the input.\u001b[39;00m\n\u001b[1;32m    298\u001b[0m \u001b[38;5;124;03m\"\"\"\u001b[39;00m\n\u001b[1;32m    299\u001b[0m serializer \u001b[38;5;241m=\u001b[39m Serializer(\n\u001b[1;32m    300\u001b[0m     is_compound, for_cloud_api\u001b[38;5;241m=\u001b[39mfor_cloud_api, unbound_name\u001b[38;5;241m=\u001b[39munbound_name)\n\u001b[0;32m--> 301\u001b[0m \u001b[38;5;28;01mreturn\u001b[39;00m serializer\u001b[38;5;241m.\u001b[39m_encode(obj)\n",
      "File \u001b[0;32m/opt/anaconda3/lib/python3.11/site-packages/ee/serializer.py:79\u001b[0m, in \u001b[0;36mSerializer._encode\u001b[0;34m(self, obj)\u001b[0m\n\u001b[1;32m     70\u001b[0m \u001b[38;5;250m\u001b[39m\u001b[38;5;124;03m\"\"\"Encodes a top level object to be executed server-side.\u001b[39;00m\n\u001b[1;32m     71\u001b[0m \n\u001b[1;32m     72\u001b[0m \u001b[38;5;124;03mArgs:\u001b[39;00m\n\u001b[0;32m   (...)\u001b[0m\n\u001b[1;32m     76\u001b[0m \u001b[38;5;124;03m  An encoded object ready for JSON serialization.\u001b[39;00m\n\u001b[1;32m     77\u001b[0m \u001b[38;5;124;03m\"\"\"\u001b[39;00m\n\u001b[1;32m     78\u001b[0m \u001b[38;5;28;01mif\u001b[39;00m \u001b[38;5;28mself\u001b[39m\u001b[38;5;241m.\u001b[39m_for_cloud_api:\n\u001b[0;32m---> 79\u001b[0m   \u001b[38;5;28;01mreturn\u001b[39;00m \u001b[38;5;28mself\u001b[39m\u001b[38;5;241m.\u001b[39m_encode_for_cloud_api(obj)\n\u001b[1;32m     80\u001b[0m value \u001b[38;5;241m=\u001b[39m \u001b[38;5;28mself\u001b[39m\u001b[38;5;241m.\u001b[39m_encode_value(obj)\n\u001b[1;32m     81\u001b[0m \u001b[38;5;28;01mif\u001b[39;00m \u001b[38;5;28mself\u001b[39m\u001b[38;5;241m.\u001b[39m_is_compound:\n",
      "File \u001b[0;32m/opt/anaconda3/lib/python3.11/site-packages/ee/serializer.py:97\u001b[0m, in \u001b[0;36mSerializer._encode_for_cloud_api\u001b[0;34m(self, obj)\u001b[0m\n\u001b[1;32m     95\u001b[0m \u001b[38;5;28;01mdef\u001b[39;00m \u001b[38;5;21m_encode_for_cloud_api\u001b[39m(\u001b[38;5;28mself\u001b[39m, obj: Any) \u001b[38;5;241m-\u001b[39m\u001b[38;5;241m>\u001b[39m Any:\n\u001b[1;32m     96\u001b[0m \u001b[38;5;250m  \u001b[39m\u001b[38;5;124;03m\"\"\"Encodes an object as an Expression or quasi-Expression.\"\"\"\u001b[39;00m\n\u001b[0;32m---> 97\u001b[0m   value \u001b[38;5;241m=\u001b[39m \u001b[38;5;28mself\u001b[39m\u001b[38;5;241m.\u001b[39m_encode_cloud_object(obj)\n\u001b[1;32m     98\u001b[0m   \u001b[38;5;28;01mif\u001b[39;00m \u001b[38;5;28mself\u001b[39m\u001b[38;5;241m.\u001b[39m_is_compound:\n\u001b[1;32m     99\u001b[0m     \u001b[38;5;66;03m# Wrap the scopes and final value into an Expression.\u001b[39;00m\n\u001b[1;32m    100\u001b[0m     value \u001b[38;5;241m=\u001b[39m _ExpressionOptimizer(value, \u001b[38;5;28mself\u001b[39m\u001b[38;5;241m.\u001b[39m_scope)\u001b[38;5;241m.\u001b[39moptimize()\n",
      "File \u001b[0;32m/opt/anaconda3/lib/python3.11/site-packages/ee/serializer.py:219\u001b[0m, in \u001b[0;36mSerializer._encode_cloud_object\u001b[0;34m(self, obj)\u001b[0m\n\u001b[1;32m    207\u001b[0m   result \u001b[38;5;241m=\u001b[39m {\n\u001b[1;32m    208\u001b[0m       \u001b[38;5;124m'\u001b[39m\u001b[38;5;124mfunctionInvocationValue\u001b[39m\u001b[38;5;124m'\u001b[39m: {\n\u001b[1;32m    209\u001b[0m           \u001b[38;5;124m'\u001b[39m\u001b[38;5;124mfunctionName\u001b[39m\u001b[38;5;124m'\u001b[39m: \u001b[38;5;124m'\u001b[39m\u001b[38;5;124mDate\u001b[39m\u001b[38;5;124m'\u001b[39m,\n\u001b[0;32m   (...)\u001b[0m\n\u001b[1;32m    215\u001b[0m       }\n\u001b[1;32m    216\u001b[0m   }\n\u001b[1;32m    217\u001b[0m \u001b[38;5;28;01melif\u001b[39;00m \u001b[38;5;28misinstance\u001b[39m(obj, encodable\u001b[38;5;241m.\u001b[39mEncodable):\n\u001b[1;32m    218\u001b[0m   \u001b[38;5;66;03m# Some objects know how to encode themselves.\u001b[39;00m\n\u001b[0;32m--> 219\u001b[0m   result \u001b[38;5;241m=\u001b[39m obj\u001b[38;5;241m.\u001b[39mencode_cloud_value(\u001b[38;5;28mself\u001b[39m\u001b[38;5;241m.\u001b[39m_encode_cloud_object)\n\u001b[1;32m    220\u001b[0m \u001b[38;5;28;01melif\u001b[39;00m \u001b[38;5;28misinstance\u001b[39m(obj, (\u001b[38;5;28mlist\u001b[39m, \u001b[38;5;28mtuple\u001b[39m)):\n\u001b[1;32m    221\u001b[0m   \u001b[38;5;66;03m# Lists are encoded recursively.\u001b[39;00m\n\u001b[1;32m    222\u001b[0m   \u001b[38;5;28;01mif\u001b[39;00m \u001b[38;5;28mself\u001b[39m\u001b[38;5;241m.\u001b[39m_is_compound:\n",
      "File \u001b[0;32m/opt/anaconda3/lib/python3.11/site-packages/ee/computedobject.py:167\u001b[0m, in \u001b[0;36mComputedObject.encode_cloud_value\u001b[0;34m(self, encoder)\u001b[0m\n\u001b[1;32m    165\u001b[0m   value \u001b[38;5;241m=\u001b[39m \u001b[38;5;28mself\u001b[39m\u001b[38;5;241m.\u001b[39margs[name]\n\u001b[1;32m    166\u001b[0m   \u001b[38;5;28;01mif\u001b[39;00m value \u001b[38;5;129;01mis\u001b[39;00m \u001b[38;5;129;01mnot\u001b[39;00m \u001b[38;5;28;01mNone\u001b[39;00m:\n\u001b[0;32m--> 167\u001b[0m     encoded_args[name] \u001b[38;5;241m=\u001b[39m {\u001b[38;5;124m'\u001b[39m\u001b[38;5;124mvalueReference\u001b[39m\u001b[38;5;124m'\u001b[39m: encoder(value)}\n\u001b[1;32m    168\u001b[0m invocation[\u001b[38;5;124m'\u001b[39m\u001b[38;5;124marguments\u001b[39m\u001b[38;5;124m'\u001b[39m] \u001b[38;5;241m=\u001b[39m encoded_args\n\u001b[1;32m    169\u001b[0m \u001b[38;5;28;01mreturn\u001b[39;00m {\u001b[38;5;124m'\u001b[39m\u001b[38;5;124mfunctionInvocationValue\u001b[39m\u001b[38;5;124m'\u001b[39m: invocation}\n",
      "File \u001b[0;32m/opt/anaconda3/lib/python3.11/site-packages/ee/serializer.py:219\u001b[0m, in \u001b[0;36mSerializer._encode_cloud_object\u001b[0;34m(self, obj)\u001b[0m\n\u001b[1;32m    207\u001b[0m   result \u001b[38;5;241m=\u001b[39m {\n\u001b[1;32m    208\u001b[0m       \u001b[38;5;124m'\u001b[39m\u001b[38;5;124mfunctionInvocationValue\u001b[39m\u001b[38;5;124m'\u001b[39m: {\n\u001b[1;32m    209\u001b[0m           \u001b[38;5;124m'\u001b[39m\u001b[38;5;124mfunctionName\u001b[39m\u001b[38;5;124m'\u001b[39m: \u001b[38;5;124m'\u001b[39m\u001b[38;5;124mDate\u001b[39m\u001b[38;5;124m'\u001b[39m,\n\u001b[0;32m   (...)\u001b[0m\n\u001b[1;32m    215\u001b[0m       }\n\u001b[1;32m    216\u001b[0m   }\n\u001b[1;32m    217\u001b[0m \u001b[38;5;28;01melif\u001b[39;00m \u001b[38;5;28misinstance\u001b[39m(obj, encodable\u001b[38;5;241m.\u001b[39mEncodable):\n\u001b[1;32m    218\u001b[0m   \u001b[38;5;66;03m# Some objects know how to encode themselves.\u001b[39;00m\n\u001b[0;32m--> 219\u001b[0m   result \u001b[38;5;241m=\u001b[39m obj\u001b[38;5;241m.\u001b[39mencode_cloud_value(\u001b[38;5;28mself\u001b[39m\u001b[38;5;241m.\u001b[39m_encode_cloud_object)\n\u001b[1;32m    220\u001b[0m \u001b[38;5;28;01melif\u001b[39;00m \u001b[38;5;28misinstance\u001b[39m(obj, (\u001b[38;5;28mlist\u001b[39m, \u001b[38;5;28mtuple\u001b[39m)):\n\u001b[1;32m    221\u001b[0m   \u001b[38;5;66;03m# Lists are encoded recursively.\u001b[39;00m\n\u001b[1;32m    222\u001b[0m   \u001b[38;5;28;01mif\u001b[39;00m \u001b[38;5;28mself\u001b[39m\u001b[38;5;241m.\u001b[39m_is_compound:\n",
      "File \u001b[0;32m/opt/anaconda3/lib/python3.11/site-packages/ee/computedobject.py:167\u001b[0m, in \u001b[0;36mComputedObject.encode_cloud_value\u001b[0;34m(self, encoder)\u001b[0m\n\u001b[1;32m    165\u001b[0m   value \u001b[38;5;241m=\u001b[39m \u001b[38;5;28mself\u001b[39m\u001b[38;5;241m.\u001b[39margs[name]\n\u001b[1;32m    166\u001b[0m   \u001b[38;5;28;01mif\u001b[39;00m value \u001b[38;5;129;01mis\u001b[39;00m \u001b[38;5;129;01mnot\u001b[39;00m \u001b[38;5;28;01mNone\u001b[39;00m:\n\u001b[0;32m--> 167\u001b[0m     encoded_args[name] \u001b[38;5;241m=\u001b[39m {\u001b[38;5;124m'\u001b[39m\u001b[38;5;124mvalueReference\u001b[39m\u001b[38;5;124m'\u001b[39m: encoder(value)}\n\u001b[1;32m    168\u001b[0m invocation[\u001b[38;5;124m'\u001b[39m\u001b[38;5;124marguments\u001b[39m\u001b[38;5;124m'\u001b[39m] \u001b[38;5;241m=\u001b[39m encoded_args\n\u001b[1;32m    169\u001b[0m \u001b[38;5;28;01mreturn\u001b[39;00m {\u001b[38;5;124m'\u001b[39m\u001b[38;5;124mfunctionInvocationValue\u001b[39m\u001b[38;5;124m'\u001b[39m: invocation}\n",
      "File \u001b[0;32m/opt/anaconda3/lib/python3.11/site-packages/ee/serializer.py:219\u001b[0m, in \u001b[0;36mSerializer._encode_cloud_object\u001b[0;34m(self, obj)\u001b[0m\n\u001b[1;32m    207\u001b[0m   result \u001b[38;5;241m=\u001b[39m {\n\u001b[1;32m    208\u001b[0m       \u001b[38;5;124m'\u001b[39m\u001b[38;5;124mfunctionInvocationValue\u001b[39m\u001b[38;5;124m'\u001b[39m: {\n\u001b[1;32m    209\u001b[0m           \u001b[38;5;124m'\u001b[39m\u001b[38;5;124mfunctionName\u001b[39m\u001b[38;5;124m'\u001b[39m: \u001b[38;5;124m'\u001b[39m\u001b[38;5;124mDate\u001b[39m\u001b[38;5;124m'\u001b[39m,\n\u001b[0;32m   (...)\u001b[0m\n\u001b[1;32m    215\u001b[0m       }\n\u001b[1;32m    216\u001b[0m   }\n\u001b[1;32m    217\u001b[0m \u001b[38;5;28;01melif\u001b[39;00m \u001b[38;5;28misinstance\u001b[39m(obj, encodable\u001b[38;5;241m.\u001b[39mEncodable):\n\u001b[1;32m    218\u001b[0m   \u001b[38;5;66;03m# Some objects know how to encode themselves.\u001b[39;00m\n\u001b[0;32m--> 219\u001b[0m   result \u001b[38;5;241m=\u001b[39m obj\u001b[38;5;241m.\u001b[39mencode_cloud_value(\u001b[38;5;28mself\u001b[39m\u001b[38;5;241m.\u001b[39m_encode_cloud_object)\n\u001b[1;32m    220\u001b[0m \u001b[38;5;28;01melif\u001b[39;00m \u001b[38;5;28misinstance\u001b[39m(obj, (\u001b[38;5;28mlist\u001b[39m, \u001b[38;5;28mtuple\u001b[39m)):\n\u001b[1;32m    221\u001b[0m   \u001b[38;5;66;03m# Lists are encoded recursively.\u001b[39;00m\n\u001b[1;32m    222\u001b[0m   \u001b[38;5;28;01mif\u001b[39;00m \u001b[38;5;28mself\u001b[39m\u001b[38;5;241m.\u001b[39m_is_compound:\n",
      "File \u001b[0;32m/opt/anaconda3/lib/python3.11/site-packages/ee/customfunction.py:61\u001b[0m, in \u001b[0;36mCustomFunction.encode_cloud_value\u001b[0;34m(self, encoder)\u001b[0m\n\u001b[1;32m     57\u001b[0m \u001b[38;5;28;01mdef\u001b[39;00m \u001b[38;5;21mencode_cloud_value\u001b[39m(\u001b[38;5;28mself\u001b[39m, encoder: Callable[[Any], Any]) \u001b[38;5;241m-\u001b[39m\u001b[38;5;241m>\u001b[39m Dict[\u001b[38;5;28mstr\u001b[39m, Any]:\n\u001b[1;32m     58\u001b[0m   \u001b[38;5;28;01mreturn\u001b[39;00m {\n\u001b[1;32m     59\u001b[0m       \u001b[38;5;124m'\u001b[39m\u001b[38;5;124mfunctionDefinitionValue\u001b[39m\u001b[38;5;124m'\u001b[39m: {\n\u001b[1;32m     60\u001b[0m           \u001b[38;5;124m'\u001b[39m\u001b[38;5;124margumentNames\u001b[39m\u001b[38;5;124m'\u001b[39m: [x[\u001b[38;5;124m'\u001b[39m\u001b[38;5;124mname\u001b[39m\u001b[38;5;124m'\u001b[39m] \u001b[38;5;28;01mfor\u001b[39;00m x \u001b[38;5;129;01min\u001b[39;00m \u001b[38;5;28mself\u001b[39m\u001b[38;5;241m.\u001b[39m_signature[\u001b[38;5;124m'\u001b[39m\u001b[38;5;124margs\u001b[39m\u001b[38;5;124m'\u001b[39m]],\n\u001b[0;32m---> 61\u001b[0m           \u001b[38;5;124m'\u001b[39m\u001b[38;5;124mbody\u001b[39m\u001b[38;5;124m'\u001b[39m: encoder(\u001b[38;5;28mself\u001b[39m\u001b[38;5;241m.\u001b[39m_body)\n\u001b[1;32m     62\u001b[0m       }\n\u001b[1;32m     63\u001b[0m   }\n",
      "File \u001b[0;32m/opt/anaconda3/lib/python3.11/site-packages/ee/serializer.py:219\u001b[0m, in \u001b[0;36mSerializer._encode_cloud_object\u001b[0;34m(self, obj)\u001b[0m\n\u001b[1;32m    207\u001b[0m   result \u001b[38;5;241m=\u001b[39m {\n\u001b[1;32m    208\u001b[0m       \u001b[38;5;124m'\u001b[39m\u001b[38;5;124mfunctionInvocationValue\u001b[39m\u001b[38;5;124m'\u001b[39m: {\n\u001b[1;32m    209\u001b[0m           \u001b[38;5;124m'\u001b[39m\u001b[38;5;124mfunctionName\u001b[39m\u001b[38;5;124m'\u001b[39m: \u001b[38;5;124m'\u001b[39m\u001b[38;5;124mDate\u001b[39m\u001b[38;5;124m'\u001b[39m,\n\u001b[0;32m   (...)\u001b[0m\n\u001b[1;32m    215\u001b[0m       }\n\u001b[1;32m    216\u001b[0m   }\n\u001b[1;32m    217\u001b[0m \u001b[38;5;28;01melif\u001b[39;00m \u001b[38;5;28misinstance\u001b[39m(obj, encodable\u001b[38;5;241m.\u001b[39mEncodable):\n\u001b[1;32m    218\u001b[0m   \u001b[38;5;66;03m# Some objects know how to encode themselves.\u001b[39;00m\n\u001b[0;32m--> 219\u001b[0m   result \u001b[38;5;241m=\u001b[39m obj\u001b[38;5;241m.\u001b[39mencode_cloud_value(\u001b[38;5;28mself\u001b[39m\u001b[38;5;241m.\u001b[39m_encode_cloud_object)\n\u001b[1;32m    220\u001b[0m \u001b[38;5;28;01melif\u001b[39;00m \u001b[38;5;28misinstance\u001b[39m(obj, (\u001b[38;5;28mlist\u001b[39m, \u001b[38;5;28mtuple\u001b[39m)):\n\u001b[1;32m    221\u001b[0m   \u001b[38;5;66;03m# Lists are encoded recursively.\u001b[39;00m\n\u001b[1;32m    222\u001b[0m   \u001b[38;5;28;01mif\u001b[39;00m \u001b[38;5;28mself\u001b[39m\u001b[38;5;241m.\u001b[39m_is_compound:\n",
      "File \u001b[0;32m/opt/anaconda3/lib/python3.11/site-packages/ee/computedobject.py:167\u001b[0m, in \u001b[0;36mComputedObject.encode_cloud_value\u001b[0;34m(self, encoder)\u001b[0m\n\u001b[1;32m    165\u001b[0m   value \u001b[38;5;241m=\u001b[39m \u001b[38;5;28mself\u001b[39m\u001b[38;5;241m.\u001b[39margs[name]\n\u001b[1;32m    166\u001b[0m   \u001b[38;5;28;01mif\u001b[39;00m value \u001b[38;5;129;01mis\u001b[39;00m \u001b[38;5;129;01mnot\u001b[39;00m \u001b[38;5;28;01mNone\u001b[39;00m:\n\u001b[0;32m--> 167\u001b[0m     encoded_args[name] \u001b[38;5;241m=\u001b[39m {\u001b[38;5;124m'\u001b[39m\u001b[38;5;124mvalueReference\u001b[39m\u001b[38;5;124m'\u001b[39m: encoder(value)}\n\u001b[1;32m    168\u001b[0m invocation[\u001b[38;5;124m'\u001b[39m\u001b[38;5;124marguments\u001b[39m\u001b[38;5;124m'\u001b[39m] \u001b[38;5;241m=\u001b[39m encoded_args\n\u001b[1;32m    169\u001b[0m \u001b[38;5;28;01mreturn\u001b[39;00m {\u001b[38;5;124m'\u001b[39m\u001b[38;5;124mfunctionInvocationValue\u001b[39m\u001b[38;5;124m'\u001b[39m: invocation}\n",
      "File \u001b[0;32m/opt/anaconda3/lib/python3.11/site-packages/ee/serializer.py:219\u001b[0m, in \u001b[0;36mSerializer._encode_cloud_object\u001b[0;34m(self, obj)\u001b[0m\n\u001b[1;32m    207\u001b[0m   result \u001b[38;5;241m=\u001b[39m {\n\u001b[1;32m    208\u001b[0m       \u001b[38;5;124m'\u001b[39m\u001b[38;5;124mfunctionInvocationValue\u001b[39m\u001b[38;5;124m'\u001b[39m: {\n\u001b[1;32m    209\u001b[0m           \u001b[38;5;124m'\u001b[39m\u001b[38;5;124mfunctionName\u001b[39m\u001b[38;5;124m'\u001b[39m: \u001b[38;5;124m'\u001b[39m\u001b[38;5;124mDate\u001b[39m\u001b[38;5;124m'\u001b[39m,\n\u001b[0;32m   (...)\u001b[0m\n\u001b[1;32m    215\u001b[0m       }\n\u001b[1;32m    216\u001b[0m   }\n\u001b[1;32m    217\u001b[0m \u001b[38;5;28;01melif\u001b[39;00m \u001b[38;5;28misinstance\u001b[39m(obj, encodable\u001b[38;5;241m.\u001b[39mEncodable):\n\u001b[1;32m    218\u001b[0m   \u001b[38;5;66;03m# Some objects know how to encode themselves.\u001b[39;00m\n\u001b[0;32m--> 219\u001b[0m   result \u001b[38;5;241m=\u001b[39m obj\u001b[38;5;241m.\u001b[39mencode_cloud_value(\u001b[38;5;28mself\u001b[39m\u001b[38;5;241m.\u001b[39m_encode_cloud_object)\n\u001b[1;32m    220\u001b[0m \u001b[38;5;28;01melif\u001b[39;00m \u001b[38;5;28misinstance\u001b[39m(obj, (\u001b[38;5;28mlist\u001b[39m, \u001b[38;5;28mtuple\u001b[39m)):\n\u001b[1;32m    221\u001b[0m   \u001b[38;5;66;03m# Lists are encoded recursively.\u001b[39;00m\n\u001b[1;32m    222\u001b[0m   \u001b[38;5;28;01mif\u001b[39;00m \u001b[38;5;28mself\u001b[39m\u001b[38;5;241m.\u001b[39m_is_compound:\n",
      "File \u001b[0;32m/opt/anaconda3/lib/python3.11/site-packages/ee/computedobject.py:167\u001b[0m, in \u001b[0;36mComputedObject.encode_cloud_value\u001b[0;34m(self, encoder)\u001b[0m\n\u001b[1;32m    165\u001b[0m   value \u001b[38;5;241m=\u001b[39m \u001b[38;5;28mself\u001b[39m\u001b[38;5;241m.\u001b[39margs[name]\n\u001b[1;32m    166\u001b[0m   \u001b[38;5;28;01mif\u001b[39;00m value \u001b[38;5;129;01mis\u001b[39;00m \u001b[38;5;129;01mnot\u001b[39;00m \u001b[38;5;28;01mNone\u001b[39;00m:\n\u001b[0;32m--> 167\u001b[0m     encoded_args[name] \u001b[38;5;241m=\u001b[39m {\u001b[38;5;124m'\u001b[39m\u001b[38;5;124mvalueReference\u001b[39m\u001b[38;5;124m'\u001b[39m: encoder(value)}\n\u001b[1;32m    168\u001b[0m invocation[\u001b[38;5;124m'\u001b[39m\u001b[38;5;124marguments\u001b[39m\u001b[38;5;124m'\u001b[39m] \u001b[38;5;241m=\u001b[39m encoded_args\n\u001b[1;32m    169\u001b[0m \u001b[38;5;28;01mreturn\u001b[39;00m {\u001b[38;5;124m'\u001b[39m\u001b[38;5;124mfunctionInvocationValue\u001b[39m\u001b[38;5;124m'\u001b[39m: invocation}\n",
      "    \u001b[0;31m[... skipping similar frames: Serializer._encode_cloud_object at line 219 (2 times), ComputedObject.encode_cloud_value at line 167 (1 times)]\u001b[0m\n",
      "File \u001b[0;32m/opt/anaconda3/lib/python3.11/site-packages/ee/computedobject.py:167\u001b[0m, in \u001b[0;36mComputedObject.encode_cloud_value\u001b[0;34m(self, encoder)\u001b[0m\n\u001b[1;32m    165\u001b[0m   value \u001b[38;5;241m=\u001b[39m \u001b[38;5;28mself\u001b[39m\u001b[38;5;241m.\u001b[39margs[name]\n\u001b[1;32m    166\u001b[0m   \u001b[38;5;28;01mif\u001b[39;00m value \u001b[38;5;129;01mis\u001b[39;00m \u001b[38;5;129;01mnot\u001b[39;00m \u001b[38;5;28;01mNone\u001b[39;00m:\n\u001b[0;32m--> 167\u001b[0m     encoded_args[name] \u001b[38;5;241m=\u001b[39m {\u001b[38;5;124m'\u001b[39m\u001b[38;5;124mvalueReference\u001b[39m\u001b[38;5;124m'\u001b[39m: encoder(value)}\n\u001b[1;32m    168\u001b[0m invocation[\u001b[38;5;124m'\u001b[39m\u001b[38;5;124marguments\u001b[39m\u001b[38;5;124m'\u001b[39m] \u001b[38;5;241m=\u001b[39m encoded_args\n\u001b[1;32m    169\u001b[0m \u001b[38;5;28;01mreturn\u001b[39;00m {\u001b[38;5;124m'\u001b[39m\u001b[38;5;124mfunctionInvocationValue\u001b[39m\u001b[38;5;124m'\u001b[39m: invocation}\n",
      "File \u001b[0;32m/opt/anaconda3/lib/python3.11/site-packages/ee/serializer.py:219\u001b[0m, in \u001b[0;36mSerializer._encode_cloud_object\u001b[0;34m(self, obj)\u001b[0m\n\u001b[1;32m    207\u001b[0m   result \u001b[38;5;241m=\u001b[39m {\n\u001b[1;32m    208\u001b[0m       \u001b[38;5;124m'\u001b[39m\u001b[38;5;124mfunctionInvocationValue\u001b[39m\u001b[38;5;124m'\u001b[39m: {\n\u001b[1;32m    209\u001b[0m           \u001b[38;5;124m'\u001b[39m\u001b[38;5;124mfunctionName\u001b[39m\u001b[38;5;124m'\u001b[39m: \u001b[38;5;124m'\u001b[39m\u001b[38;5;124mDate\u001b[39m\u001b[38;5;124m'\u001b[39m,\n\u001b[0;32m   (...)\u001b[0m\n\u001b[1;32m    215\u001b[0m       }\n\u001b[1;32m    216\u001b[0m   }\n\u001b[1;32m    217\u001b[0m \u001b[38;5;28;01melif\u001b[39;00m \u001b[38;5;28misinstance\u001b[39m(obj, encodable\u001b[38;5;241m.\u001b[39mEncodable):\n\u001b[1;32m    218\u001b[0m   \u001b[38;5;66;03m# Some objects know how to encode themselves.\u001b[39;00m\n\u001b[0;32m--> 219\u001b[0m   result \u001b[38;5;241m=\u001b[39m obj\u001b[38;5;241m.\u001b[39mencode_cloud_value(\u001b[38;5;28mself\u001b[39m\u001b[38;5;241m.\u001b[39m_encode_cloud_object)\n\u001b[1;32m    220\u001b[0m \u001b[38;5;28;01melif\u001b[39;00m \u001b[38;5;28misinstance\u001b[39m(obj, (\u001b[38;5;28mlist\u001b[39m, \u001b[38;5;28mtuple\u001b[39m)):\n\u001b[1;32m    221\u001b[0m   \u001b[38;5;66;03m# Lists are encoded recursively.\u001b[39;00m\n\u001b[1;32m    222\u001b[0m   \u001b[38;5;28;01mif\u001b[39;00m \u001b[38;5;28mself\u001b[39m\u001b[38;5;241m.\u001b[39m_is_compound:\n",
      "File \u001b[0;32m/opt/anaconda3/lib/python3.11/site-packages/ee/_utils.py:38\u001b[0m, in \u001b[0;36maccept_opt_prefix.<locals>.opt_fixed.<locals>.wrapper\u001b[0;34m(*args, **kwargs)\u001b[0m\n\u001b[1;32m     36\u001b[0m     \u001b[38;5;28;01mif\u001b[39;00m new_key \u001b[38;5;129;01mnot\u001b[39;00m \u001b[38;5;129;01min\u001b[39;00m kwargs:\n\u001b[1;32m     37\u001b[0m       kwargs[new_key] \u001b[38;5;241m=\u001b[39m old_key_val\n\u001b[0;32m---> 38\u001b[0m \u001b[38;5;28;01mreturn\u001b[39;00m func(\u001b[38;5;241m*\u001b[39margs, \u001b[38;5;241m*\u001b[39m\u001b[38;5;241m*\u001b[39mkwargs)\n",
      "File \u001b[0;32m/opt/anaconda3/lib/python3.11/site-packages/ee/ee_list.py:120\u001b[0m, in \u001b[0;36mList.encode_cloud_value\u001b[0;34m(self, encoder)\u001b[0m\n\u001b[1;32m    118\u001b[0m   \u001b[38;5;28;01mreturn\u001b[39;00m {\u001b[38;5;124m'\u001b[39m\u001b[38;5;124mvalueReference\u001b[39m\u001b[38;5;124m'\u001b[39m: encoder(\u001b[38;5;28mself\u001b[39m\u001b[38;5;241m.\u001b[39m_list)}\n\u001b[1;32m    119\u001b[0m \u001b[38;5;28;01melse\u001b[39;00m:\n\u001b[0;32m--> 120\u001b[0m   \u001b[38;5;28;01mreturn\u001b[39;00m \u001b[38;5;28msuper\u001b[39m()\u001b[38;5;241m.\u001b[39mencode_cloud_value(encoder)\n",
      "File \u001b[0;32m/opt/anaconda3/lib/python3.11/site-packages/ee/computedobject.py:150\u001b[0m, in \u001b[0;36mComputedObject.encode_cloud_value\u001b[0;34m(self, encoder)\u001b[0m\n\u001b[1;32m    143\u001b[0m     ref \u001b[38;5;241m=\u001b[39m encoder\u001b[38;5;241m.\u001b[39m\u001b[38;5;18m__self__\u001b[39m\u001b[38;5;241m.\u001b[39munbound_name\n\u001b[1;32m    144\u001b[0m   \u001b[38;5;28;01mif\u001b[39;00m ref \u001b[38;5;129;01mis\u001b[39;00m \u001b[38;5;28;01mNone\u001b[39;00m:\n\u001b[1;32m    145\u001b[0m     \u001b[38;5;66;03m# We are trying to call getInfo() or make some other server call inside\u001b[39;00m\n\u001b[1;32m    146\u001b[0m     \u001b[38;5;66;03m# a function passed to collection.map() or .iterate(), and the call uses\u001b[39;00m\n\u001b[1;32m    147\u001b[0m     \u001b[38;5;66;03m# one of the function arguments. The argument will be unbound outside of\u001b[39;00m\n\u001b[1;32m    148\u001b[0m     \u001b[38;5;66;03m# the map operation and cannot be evaluated. See the Count Functions\u001b[39;00m\n\u001b[1;32m    149\u001b[0m     \u001b[38;5;66;03m# case in customfunction.py for details on the unbound_name mechanism.\u001b[39;00m\n\u001b[0;32m--> 150\u001b[0m     \u001b[38;5;28;01mraise\u001b[39;00m ee_exception\u001b[38;5;241m.\u001b[39mEEException(\n\u001b[1;32m    151\u001b[0m         \u001b[38;5;124m\"\u001b[39m\u001b[38;5;124mA mapped function\u001b[39m\u001b[38;5;124m'\u001b[39m\u001b[38;5;124ms arguments cannot be used in \u001b[39m\u001b[38;5;124m\"\u001b[39m\n\u001b[1;32m    152\u001b[0m         \u001b[38;5;124m'\u001b[39m\u001b[38;5;124mclient-side operations\u001b[39m\u001b[38;5;124m'\u001b[39m\n\u001b[1;32m    153\u001b[0m     )\n\u001b[1;32m    154\u001b[0m   \u001b[38;5;28;01mreturn\u001b[39;00m {\u001b[38;5;124m'\u001b[39m\u001b[38;5;124margumentReference\u001b[39m\u001b[38;5;124m'\u001b[39m: ref}\n\u001b[1;32m    155\u001b[0m \u001b[38;5;28;01melse\u001b[39;00m:\n",
      "\u001b[0;31mEEException\u001b[0m: A mapped function's arguments cannot be used in client-side operations"
     ]
    }
   ],
   "source": [
    "# Print processed image information\n",
    "first_image = processed_images.first()\n",
    "print(first_image.getInfo())  # Print the first image's metadata"
   ]
  },
  {
   "cell_type": "code",
   "execution_count": 117,
   "metadata": {},
   "outputs": [
    {
     "data": {
      "text/html": [
       "\n",
       "            <style>\n",
       "                .geemap-dark {\n",
       "                    --jp-widgets-color: white;\n",
       "                    --jp-widgets-label-color: white;\n",
       "                    --jp-ui-font-color1: white;\n",
       "                    --jp-layout-color2: #454545;\n",
       "                    background-color: #383838;\n",
       "                }\n",
       "\n",
       "                .geemap-dark .jupyter-button {\n",
       "                    --jp-layout-color3: #383838;\n",
       "                }\n",
       "\n",
       "                .geemap-colab {\n",
       "                    background-color: var(--colab-primary-surface-color, white);\n",
       "                }\n",
       "\n",
       "                .geemap-colab .jupyter-button {\n",
       "                    --jp-layout-color3: var(--colab-primary-surface-color, white);\n",
       "                }\n",
       "            </style>\n",
       "            "
      ],
      "text/plain": [
       "<IPython.core.display.HTML object>"
      ]
     },
     "metadata": {},
     "output_type": "display_data"
    },
    {
     "data": {
      "application/vnd.jupyter.widget-view+json": {
       "model_id": "600506477d0343998e91596822011493",
       "version_major": 2,
       "version_minor": 0
      },
      "text/plain": [
       "Map(center=[-77.616808, 163.077952], controls=(WidgetControl(options=['position', 'transparent_bg'], widget=Se…"
      ]
     },
     "metadata": {},
     "output_type": "display_data"
    }
   ],
   "source": [
    "# plot the first image of the output processed files to check output\n",
    "\n",
    "Map = geemap.Map(zoom = 10, center = [-77.616808, 163.077952])\n",
    "Map.addLayer(roi)\n",
    "Map.addLayer(first_image)\n",
    "Map"
   ]
  }
 ],
 "metadata": {
  "kernelspec": {
   "display_name": "base",
   "language": "python",
   "name": "python3"
  },
  "language_info": {
   "codemirror_mode": {
    "name": "ipython",
    "version": 3
   },
   "file_extension": ".py",
   "mimetype": "text/x-python",
   "name": "python",
   "nbconvert_exporter": "python",
   "pygments_lexer": "ipython3",
   "version": "3.11.7"
  }
 },
 "nbformat": 4,
 "nbformat_minor": 2
}
