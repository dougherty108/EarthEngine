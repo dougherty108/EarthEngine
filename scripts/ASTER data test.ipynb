{
 "cells": [
  {
   "cell_type": "code",
   "execution_count": 1,
   "id": "16c4afbf",
   "metadata": {},
   "outputs": [],
   "source": [
    "import ee\n",
    "import geemap\n",
    "\n",
    "# Initialize Earth Engine\n",
    "ee.Initialize()"
   ]
  },
  {
   "cell_type": "code",
   "execution_count": null,
   "id": "84d612ed",
   "metadata": {},
   "outputs": [],
   "source": [
    "# for ASTER data\n",
    "# to a large degree, can probably just use the radiance data that they kick out. Does not take into effect\n",
    "# atmospheric effects. Looking for differences in spectral properties observable from orbit\n",
    "# okay if it is sort of coarse for the purpose of detecting change. \n",
    "# Mark is okay with this as long as you're using scene derived endmembers since the atmospheric inputs will be different\n",
    "# on a scene to scene basis. \n",
    "\n",
    "# want to do another SMA type deal, using scene specific endmembers. Focus on VNIR and SWIR bands, ignore the thermal\n",
    "# bands for now. Eventually, this could be useful for assessing surface melt as a result \n",
    "# start with early 2000's due to data quality issues\n",
    "\n",
    "# Mark is going to give Charlie a paper on SMA from a geological perspective. \\\n",
    "\n",
    "# mark is bringing down drowns, multispectral and thermal. 3 drones!\n",
    "# are there areas we want to specifically stake out specific areas.  "
   ]
  },
  {
   "cell_type": "code",
   "execution_count": 2,
   "id": "e3f73c00",
   "metadata": {},
   "outputs": [
    {
     "data": {
      "text/html": [
       "\n",
       "            <style>\n",
       "                .geemap-dark {\n",
       "                    --jp-widgets-color: white;\n",
       "                    --jp-widgets-label-color: white;\n",
       "                    --jp-ui-font-color1: white;\n",
       "                    --jp-layout-color2: #454545;\n",
       "                    background-color: #383838;\n",
       "                }\n",
       "\n",
       "                .geemap-dark .jupyter-button {\n",
       "                    --jp-layout-color3: #383838;\n",
       "                }\n",
       "\n",
       "                .geemap-colab {\n",
       "                    background-color: var(--colab-primary-surface-color, white);\n",
       "                }\n",
       "\n",
       "                .geemap-colab .jupyter-button {\n",
       "                    --jp-layout-color3: var(--colab-primary-surface-color, white);\n",
       "                }\n",
       "            </style>\n",
       "            "
      ],
      "text/plain": [
       "<IPython.core.display.HTML object>"
      ]
     },
     "metadata": {},
     "output_type": "display_data"
    }
   ],
   "source": [
    "# Define the area of interest (AOI)\n",
    "aoi = ee.Geometry.Rectangle([162.277817, -77.740157, 163.272100, -77.576571])"
   ]
  },
  {
   "cell_type": "code",
   "execution_count": 3,
   "id": "0dee2ef7",
   "metadata": {},
   "outputs": [
    {
     "data": {
      "text/html": [
       "\n",
       "            <style>\n",
       "                .geemap-dark {\n",
       "                    --jp-widgets-color: white;\n",
       "                    --jp-widgets-label-color: white;\n",
       "                    --jp-ui-font-color1: white;\n",
       "                    --jp-layout-color2: #454545;\n",
       "                    background-color: #383838;\n",
       "                }\n",
       "\n",
       "                .geemap-dark .jupyter-button {\n",
       "                    --jp-layout-color3: #383838;\n",
       "                }\n",
       "\n",
       "                .geemap-colab {\n",
       "                    background-color: var(--colab-primary-surface-color, white);\n",
       "                }\n",
       "\n",
       "                .geemap-colab .jupyter-button {\n",
       "                    --jp-layout-color3: var(--colab-primary-surface-color, white);\n",
       "                }\n",
       "            </style>\n",
       "            "
      ],
      "text/plain": [
       "<IPython.core.display.HTML object>"
      ]
     },
     "metadata": {},
     "output_type": "display_data"
    }
   ],
   "source": [
    "# Function to mask clouds using QA60 band\n",
    "def maskClouds(image):\n",
    "    qa = image.select('')\n",
    "    cloudBitMask = 1 << 10\n",
    "    cirrusBitMask = 1 << 11\n",
    "    mask = qa.bitwiseAnd(cloudBitMask).eq(0).And(\n",
    "           qa.bitwiseAnd(cirrusBitMask).eq(0))\n",
    "    return image.updateMask(mask)"
   ]
  },
  {
   "cell_type": "code",
   "execution_count": 4,
   "id": "9680ccef",
   "metadata": {},
   "outputs": [
    {
     "data": {
      "text/html": [
       "\n",
       "            <style>\n",
       "                .geemap-dark {\n",
       "                    --jp-widgets-color: white;\n",
       "                    --jp-widgets-label-color: white;\n",
       "                    --jp-ui-font-color1: white;\n",
       "                    --jp-layout-color2: #454545;\n",
       "                    background-color: #383838;\n",
       "                }\n",
       "\n",
       "                .geemap-dark .jupyter-button {\n",
       "                    --jp-layout-color3: #383838;\n",
       "                }\n",
       "\n",
       "                .geemap-colab {\n",
       "                    background-color: var(--colab-primary-surface-color, white);\n",
       "                }\n",
       "\n",
       "                .geemap-colab .jupyter-button {\n",
       "                    --jp-layout-color3: var(--colab-primary-surface-color, white);\n",
       "                }\n",
       "            </style>\n",
       "            "
      ],
      "text/plain": [
       "<IPython.core.display.HTML object>"
      ]
     },
     "metadata": {},
     "output_type": "display_data"
    }
   ],
   "source": [
    "# Load ASTER image collection\n",
    "aster_collection = ee.ImageCollection('ASTER/AST_L1T_003')"
   ]
  },
  {
   "cell_type": "code",
   "execution_count": 15,
   "id": "730cea9f",
   "metadata": {},
   "outputs": [
    {
     "data": {
      "text/html": [
       "\n",
       "            <style>\n",
       "                .geemap-dark {\n",
       "                    --jp-widgets-color: white;\n",
       "                    --jp-widgets-label-color: white;\n",
       "                    --jp-ui-font-color1: white;\n",
       "                    --jp-layout-color2: #454545;\n",
       "                    background-color: #383838;\n",
       "                }\n",
       "\n",
       "                .geemap-dark .jupyter-button {\n",
       "                    --jp-layout-color3: #383838;\n",
       "                }\n",
       "\n",
       "                .geemap-colab {\n",
       "                    background-color: var(--colab-primary-surface-color, white);\n",
       "                }\n",
       "\n",
       "                .geemap-colab .jupyter-button {\n",
       "                    --jp-layout-color3: var(--colab-primary-surface-color, white);\n",
       "                }\n",
       "            </style>\n",
       "            "
      ],
      "text/plain": [
       "<IPython.core.display.HTML object>"
      ]
     },
     "metadata": {},
     "output_type": "display_data"
    },
    {
     "name": "stdout",
     "output_type": "stream",
     "text": [
      "ee.ImageCollection({\n",
      "  \"functionInvocationValue\": {\n",
      "    \"functionName\": \"Collection.map\",\n",
      "    \"arguments\": {\n",
      "      \"baseAlgorithm\": {\n",
      "        \"functionDefinitionValue\": {\n",
      "          \"argumentNames\": [\n",
      "            \"_MAPPING_VAR_0_0\"\n",
      "          ],\n",
      "          \"body\": {\n",
      "            \"functionInvocationValue\": {\n",
      "              \"functionName\": \"Image.updateMask\",\n",
      "              \"arguments\": {\n",
      "                \"image\": {\n",
      "                  \"argumentReference\": \"_MAPPING_VAR_0_0\"\n",
      "                },\n",
      "                \"mask\": {\n",
      "                  \"functionInvocationValue\": {\n",
      "                    \"functionName\": \"Image.and\",\n",
      "                    \"arguments\": {\n",
      "                      \"image1\": {\n",
      "                        \"functionInvocationValue\": {\n",
      "                          \"functionName\": \"Image.eq\",\n",
      "                          \"arguments\": {\n",
      "                            \"image1\": {\n",
      "                              \"functionInvocationValue\": {\n",
      "                                \"functionName\": \"Image.bitwiseAnd\",\n",
      "                                \"arguments\": {\n",
      "                                  \"image1\": {\n",
      "                                    \"functionInvocationValue\": {\n",
      "                                      \"functionName\": \"Image.select\",\n",
      "                                      \"arguments\": {\n",
      "                                        \"bandSelectors\": {\n",
      "                                          \"constantValue\": [\n",
      "                                            \"B09\"\n",
      "                                          ]\n",
      "                                        },\n",
      "                                        \"input\": {\n",
      "                                          \"argumentReference\": \"_MAPPING_VAR_0_0\"\n",
      "                                        }\n",
      "                                      }\n",
      "                                    }\n",
      "                                  },\n",
      "                                  \"image2\": {\n",
      "                                    \"functionInvocationValue\": {\n",
      "                                      \"functionName\": \"Image.constant\",\n",
      "                                      \"arguments\": {\n",
      "                                        \"value\": {\n",
      "                                          \"constantValue\": 1024\n",
      "                                        }\n",
      "                                      }\n",
      "                                    }\n",
      "                                  }\n",
      "                                }\n",
      "                              }\n",
      "                            },\n",
      "                            \"image2\": {\n",
      "                              \"functionInvocationValue\": {\n",
      "                                \"functionName\": \"Image.constant\",\n",
      "                                \"arguments\": {\n",
      "                                  \"value\": {\n",
      "                                    \"constantValue\": 0\n",
      "                                  }\n",
      "                                }\n",
      "                              }\n",
      "                            }\n",
      "                          }\n",
      "                        }\n",
      "                      },\n",
      "                      \"image2\": {\n",
      "                        \"functionInvocationValue\": {\n",
      "                          \"functionName\": \"Image.eq\",\n",
      "                          \"arguments\": {\n",
      "                            \"image1\": {\n",
      "                              \"functionInvocationValue\": {\n",
      "                                \"functionName\": \"Image.bitwiseAnd\",\n",
      "                                \"arguments\": {\n",
      "                                  \"image1\": {\n",
      "                                    \"functionInvocationValue\": {\n",
      "                                      \"functionName\": \"Image.select\",\n",
      "                                      \"arguments\": {\n",
      "                                        \"bandSelectors\": {\n",
      "                                          \"constantValue\": [\n",
      "                                            \"B09\"\n",
      "                                          ]\n",
      "                                        },\n",
      "                                        \"input\": {\n",
      "                                          \"argumentReference\": \"_MAPPING_VAR_0_0\"\n",
      "                                        }\n",
      "                                      }\n",
      "                                    }\n",
      "                                  },\n",
      "                                  \"image2\": {\n",
      "                                    \"functionInvocationValue\": {\n",
      "                                      \"functionName\": \"Image.constant\",\n",
      "                                      \"arguments\": {\n",
      "                                        \"value\": {\n",
      "                                          \"constantValue\": 2048\n",
      "                                        }\n",
      "                                      }\n",
      "                                    }\n",
      "                                  }\n",
      "                                }\n",
      "                              }\n",
      "                            },\n",
      "                            \"image2\": {\n",
      "                              \"functionInvocationValue\": {\n",
      "                                \"functionName\": \"Image.constant\",\n",
      "                                \"arguments\": {\n",
      "                                  \"value\": {\n",
      "                                    \"constantValue\": 0\n",
      "                                  }\n",
      "                                }\n",
      "                              }\n",
      "                            }\n",
      "                          }\n",
      "                        }\n",
      "                      }\n",
      "                    }\n",
      "                  }\n",
      "                }\n",
      "              }\n",
      "            }\n",
      "          }\n",
      "        }\n",
      "      },\n",
      "      \"collection\": {\n",
      "        \"functionInvocationValue\": {\n",
      "          \"functionName\": \"Collection.filter\",\n",
      "          \"arguments\": {\n",
      "            \"collection\": {\n",
      "              \"functionInvocationValue\": {\n",
      "                \"functionName\": \"Collection.filter\",\n",
      "                \"arguments\": {\n",
      "                  \"collection\": {\n",
      "                    \"functionInvocationValue\": {\n",
      "                      \"functionName\": \"ImageCollection.load\",\n",
      "                      \"arguments\": {\n",
      "                        \"id\": {\n",
      "                          \"constantValue\": \"ASTER/AST_L1T_003\"\n",
      "                        }\n",
      "                      }\n",
      "                    }\n",
      "                  },\n",
      "                  \"filter\": {\n",
      "                    \"functionInvocationValue\": {\n",
      "                      \"functionName\": \"Filter.intersects\",\n",
      "                      \"arguments\": {\n",
      "                        \"leftField\": {\n",
      "                          \"constantValue\": \".all\"\n",
      "                        },\n",
      "                        \"rightValue\": {\n",
      "                          \"functionInvocationValue\": {\n",
      "                            \"functionName\": \"Feature\",\n",
      "                            \"arguments\": {\n",
      "                              \"geometry\": {\n",
      "                                \"functionInvocationValue\": {\n",
      "                                  \"functionName\": \"GeometryConstructors.Polygon\",\n",
      "                                  \"arguments\": {\n",
      "                                    \"coordinates\": {\n",
      "                                      \"constantValue\": [\n",
      "                                        [\n",
      "                                          [\n",
      "                                            162.277817,\n",
      "                                            -77.576571\n",
      "                                          ],\n",
      "                                          [\n",
      "                                            162.277817,\n",
      "                                            -77.740157\n",
      "                                          ],\n",
      "                                          [\n",
      "                                            163.2721,\n",
      "                                            -77.740157\n",
      "                                          ],\n",
      "                                          [\n",
      "                                            163.2721,\n",
      "                                            -77.576571\n",
      "                                          ]\n",
      "                                        ]\n",
      "                                      ]\n",
      "                                    },\n",
      "                                    \"evenOdd\": {\n",
      "                                      \"constantValue\": true\n",
      "                                    }\n",
      "                                  }\n",
      "                                }\n",
      "                              }\n",
      "                            }\n",
      "                          }\n",
      "                        }\n",
      "                      }\n",
      "                    }\n",
      "                  }\n",
      "                }\n",
      "              }\n",
      "            },\n",
      "            \"filter\": {\n",
      "              \"functionInvocationValue\": {\n",
      "                \"functionName\": \"Filter.dateRangeContains\",\n",
      "                \"arguments\": {\n",
      "                  \"leftValue\": {\n",
      "                    \"functionInvocationValue\": {\n",
      "                      \"functionName\": \"DateRange\",\n",
      "                      \"arguments\": {\n",
      "                        \"end\": {\n",
      "                          \"constantValue\": \"2024-07-15\"\n",
      "                        },\n",
      "                        \"start\": {\n",
      "                          \"constantValue\": \"2020-01-01\"\n",
      "                        }\n",
      "                      }\n",
      "                    }\n",
      "                  },\n",
      "                  \"rightField\": {\n",
      "                    \"constantValue\": \"system:time_start\"\n",
      "                  }\n",
      "                }\n",
      "              }\n",
      "            }\n",
      "          }\n",
      "        }\n",
      "      }\n",
      "    }\n",
      "  }\n",
      "})\n"
     ]
    }
   ],
   "source": [
    "# Filter ASTER data by AOI and date range\n",
    "filtered_aster = aster_collection.filterBounds(aoi)\\\n",
    "                                  .filterDate('2020-01-01', '2024-07-15')\\\n",
    "                                  .map(maskClouds)"
   ]
  },
  {
   "cell_type": "code",
   "execution_count": 11,
   "id": "36ddeb31",
   "metadata": {
    "scrolled": true
   },
   "outputs": [
    {
     "data": {
      "text/html": [
       "\n",
       "            <style>\n",
       "                .geemap-dark {\n",
       "                    --jp-widgets-color: white;\n",
       "                    --jp-widgets-label-color: white;\n",
       "                    --jp-ui-font-color1: white;\n",
       "                    --jp-layout-color2: #454545;\n",
       "                    background-color: #383838;\n",
       "                }\n",
       "\n",
       "                .geemap-dark .jupyter-button {\n",
       "                    --jp-layout-color3: #383838;\n",
       "                }\n",
       "\n",
       "                .geemap-colab {\n",
       "                    background-color: var(--colab-primary-surface-color, white);\n",
       "                }\n",
       "\n",
       "                .geemap-colab .jupyter-button {\n",
       "                    --jp-layout-color3: var(--colab-primary-surface-color, white);\n",
       "                }\n",
       "            </style>\n",
       "            "
      ],
      "text/plain": [
       "<IPython.core.display.HTML object>"
      ]
     },
     "metadata": {},
     "output_type": "display_data"
    }
   ],
   "source": [
    "# Select thermal IR band (e.g., band 12)\n",
    "thermal_band = 'B12'\n",
    "\n",
    "# Function to select thermal IR band and rename\n",
    "def selectThermalIR(image):\n",
    "    return image.select(thermal_band).rename('Thermal_IR')"
   ]
  },
  {
   "cell_type": "code",
   "execution_count": 12,
   "id": "ba2307ce",
   "metadata": {},
   "outputs": [
    {
     "data": {
      "text/html": [
       "\n",
       "            <style>\n",
       "                .geemap-dark {\n",
       "                    --jp-widgets-color: white;\n",
       "                    --jp-widgets-label-color: white;\n",
       "                    --jp-ui-font-color1: white;\n",
       "                    --jp-layout-color2: #454545;\n",
       "                    background-color: #383838;\n",
       "                }\n",
       "\n",
       "                .geemap-dark .jupyter-button {\n",
       "                    --jp-layout-color3: #383838;\n",
       "                }\n",
       "\n",
       "                .geemap-colab {\n",
       "                    background-color: var(--colab-primary-surface-color, white);\n",
       "                }\n",
       "\n",
       "                .geemap-colab .jupyter-button {\n",
       "                    --jp-layout-color3: var(--colab-primary-surface-color, white);\n",
       "                }\n",
       "            </style>\n",
       "            "
      ],
      "text/plain": [
       "<IPython.core.display.HTML object>"
      ]
     },
     "metadata": {},
     "output_type": "display_data"
    }
   ],
   "source": [
    "# Apply function to select thermal IR band to filtered ASTER collection\n",
    "aster_with_thermal_ir = filtered_aster.map(selectThermalIR)"
   ]
  },
  {
   "cell_type": "code",
   "execution_count": 13,
   "id": "50f74592",
   "metadata": {},
   "outputs": [
    {
     "data": {
      "text/html": [
       "\n",
       "            <style>\n",
       "                .geemap-dark {\n",
       "                    --jp-widgets-color: white;\n",
       "                    --jp-widgets-label-color: white;\n",
       "                    --jp-ui-font-color1: white;\n",
       "                    --jp-layout-color2: #454545;\n",
       "                    background-color: #383838;\n",
       "                }\n",
       "\n",
       "                .geemap-dark .jupyter-button {\n",
       "                    --jp-layout-color3: #383838;\n",
       "                }\n",
       "\n",
       "                .geemap-colab {\n",
       "                    background-color: var(--colab-primary-surface-color, white);\n",
       "                }\n",
       "\n",
       "                .geemap-colab .jupyter-button {\n",
       "                    --jp-layout-color3: var(--colab-primary-surface-color, white);\n",
       "                }\n",
       "            </style>\n",
       "            "
      ],
      "text/plain": [
       "<IPython.core.display.HTML object>"
      ]
     },
     "metadata": {},
     "output_type": "display_data"
    }
   ],
   "source": [
    "# Function to export image to Google Drive\n",
    "def exportImageToDrive(image):\n",
    "    image_name = image.id().getInfo().split('/')[-1]\n",
    "    export_params = {\n",
    "        'image': image,\n",
    "        'description': image_name,\n",
    "        'scale': 30,  # Adjust scale as needed\n",
    "        'region': aoi,\n",
    "        'fileFormat': 'GeoTIFF',\n",
    "        'folder': 'EarthEngine'  # Specify your folder in Google Drive\n",
    "    }\n",
    "    task = ee.batch.Export.image.toDrive(**export_params)\n",
    "    task.start()"
   ]
  },
  {
   "cell_type": "code",
   "execution_count": 14,
   "id": "5410598c",
   "metadata": {},
   "outputs": [
    {
     "data": {
      "text/html": [
       "\n",
       "            <style>\n",
       "                .geemap-dark {\n",
       "                    --jp-widgets-color: white;\n",
       "                    --jp-widgets-label-color: white;\n",
       "                    --jp-ui-font-color1: white;\n",
       "                    --jp-layout-color2: #454545;\n",
       "                    background-color: #383838;\n",
       "                }\n",
       "\n",
       "                .geemap-dark .jupyter-button {\n",
       "                    --jp-layout-color3: #383838;\n",
       "                }\n",
       "\n",
       "                .geemap-colab {\n",
       "                    background-color: var(--colab-primary-surface-color, white);\n",
       "                }\n",
       "\n",
       "                .geemap-colab .jupyter-button {\n",
       "                    --jp-layout-color3: var(--colab-primary-surface-color, white);\n",
       "                }\n",
       "            </style>\n",
       "            "
      ],
      "text/plain": [
       "<IPython.core.display.HTML object>"
      ]
     },
     "metadata": {},
     "output_type": "display_data"
    },
    {
     "name": "stdout",
     "output_type": "stream",
     "text": [
      "Export tasks started. Check Google Drive for export status.\n"
     ]
    }
   ],
   "source": [
    "# Export each image in the collection to Google Drive\n",
    "aster_with_thermal_ir_list = aster_with_thermal_ir.toList(aster_with_thermal_ir.size())\n",
    "for i in range(aster_with_thermal_ir.size().getInfo()):\n",
    "    image = ee.Image(aster_with_thermal_ir_list.get(i))\n",
    "    exportImageToDrive(image)\n",
    "\n",
    "print(\"Export tasks started. Check Google Drive for export status.\")"
   ]
  },
  {
   "cell_type": "code",
   "execution_count": null,
   "id": "4a2807fb",
   "metadata": {},
   "outputs": [],
   "source": []
  }
 ],
 "metadata": {
  "kernelspec": {
   "display_name": "Python 3 (ipykernel)",
   "language": "python",
   "name": "python3"
  },
  "language_info": {
   "codemirror_mode": {
    "name": "ipython",
    "version": 3
   },
   "file_extension": ".py",
   "mimetype": "text/x-python",
   "name": "python",
   "nbconvert_exporter": "python",
   "pygments_lexer": "ipython3",
   "version": "3.9.13"
  }
 },
 "nbformat": 4,
 "nbformat_minor": 5
}
