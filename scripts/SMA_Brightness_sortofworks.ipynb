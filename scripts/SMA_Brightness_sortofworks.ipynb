{
 "cells": [
  {
   "cell_type": "code",
   "execution_count": 2,
   "metadata": {},
   "outputs": [
    {
     "name": "stdout",
     "output_type": "stream",
     "text": [
      "Please restart Jupyter kernel after installation if you encounter any errors when importing geemap.\n"
     ]
    },
    {
     "ename": "ModuleNotFoundError",
     "evalue": "No module named 'pkg_resources'",
     "output_type": "error",
     "traceback": [
      "\u001b[0;31m---------------------------------------------------------------------------\u001b[0m",
      "\u001b[0;31mModuleNotFoundError\u001b[0m                       Traceback (most recent call last)",
      "Cell \u001b[0;32mIn[2], line 2\u001b[0m\n\u001b[1;32m      1\u001b[0m \u001b[38;5;28;01mimport\u001b[39;00m \u001b[38;5;21;01mee\u001b[39;00m\n\u001b[0;32m----> 2\u001b[0m \u001b[38;5;28;01mimport\u001b[39;00m \u001b[38;5;21;01mgeemap\u001b[39;00m\n\u001b[1;32m      4\u001b[0m \u001b[38;5;66;03m# Initialize Earth Engine\u001b[39;00m\n\u001b[1;32m      5\u001b[0m ee\u001b[38;5;241m.\u001b[39mAuthenticate()\n",
      "File \u001b[0;32m/Library/Frameworks/Python.framework/Versions/3.12/lib/python3.12/site-packages/geemap/__init__.py:55\u001b[0m\n\u001b[1;32m     51\u001b[0m         \u001b[38;5;28;01melse\u001b[39;00m:\n\u001b[1;32m     52\u001b[0m             \u001b[38;5;28mprint\u001b[39m(\n\u001b[1;32m     53\u001b[0m                 \u001b[38;5;124m\"\u001b[39m\u001b[38;5;124mPlease restart Jupyter kernel after installation if you encounter any errors when importing geemap.\u001b[39m\u001b[38;5;124m\"\u001b[39m\n\u001b[1;32m     54\u001b[0m             )\n\u001b[0;32m---> 55\u001b[0m         \u001b[38;5;28;01mraise\u001b[39;00m e\n\u001b[1;32m     57\u001b[0m \u001b[38;5;28;01mif\u001b[39;00m _use_eerepr():\n\u001b[1;32m     58\u001b[0m     \u001b[38;5;28;01mimport\u001b[39;00m \u001b[38;5;21;01meerepr\u001b[39;00m\n",
      "File \u001b[0;32m/Library/Frameworks/Python.framework/Versions/3.12/lib/python3.12/site-packages/geemap/__init__.py:45\u001b[0m\n\u001b[1;32m     43\u001b[0m \u001b[38;5;28;01melse\u001b[39;00m:\n\u001b[1;32m     44\u001b[0m     \u001b[38;5;28;01mtry\u001b[39;00m:\n\u001b[0;32m---> 45\u001b[0m         \u001b[38;5;28;01mfrom\u001b[39;00m \u001b[38;5;21;01m.\u001b[39;00m\u001b[38;5;21;01mgeemap\u001b[39;00m \u001b[38;5;28;01mimport\u001b[39;00m \u001b[38;5;241m*\u001b[39m\n\u001b[1;32m     46\u001b[0m     \u001b[38;5;28;01mexcept\u001b[39;00m \u001b[38;5;167;01mException\u001b[39;00m \u001b[38;5;28;01mas\u001b[39;00m e:\n\u001b[1;32m     47\u001b[0m         \u001b[38;5;28;01mif\u001b[39;00m in_colab_shell():\n",
      "File \u001b[0;32m/Library/Frameworks/Python.framework/Versions/3.12/lib/python3.12/site-packages/geemap/geemap.py:28\u001b[0m\n\u001b[1;32m     26\u001b[0m \u001b[38;5;28;01mfrom\u001b[39;00m \u001b[38;5;21;01m.\u001b[39;00m\u001b[38;5;21;01mbasemaps\u001b[39;00m \u001b[38;5;28;01mimport\u001b[39;00m get_xyz_dict, xyz_to_leaflet\n\u001b[1;32m     27\u001b[0m \u001b[38;5;28;01mfrom\u001b[39;00m \u001b[38;5;21;01m.\u001b[39;00m\u001b[38;5;21;01mcommon\u001b[39;00m \u001b[38;5;28;01mimport\u001b[39;00m \u001b[38;5;241m*\u001b[39m\n\u001b[0;32m---> 28\u001b[0m \u001b[38;5;28;01mfrom\u001b[39;00m \u001b[38;5;21;01m.\u001b[39;00m\u001b[38;5;21;01mconversion\u001b[39;00m \u001b[38;5;28;01mimport\u001b[39;00m \u001b[38;5;241m*\u001b[39m\n\u001b[1;32m     29\u001b[0m \u001b[38;5;28;01mfrom\u001b[39;00m \u001b[38;5;21;01m.\u001b[39;00m\u001b[38;5;21;01mee_tile_layers\u001b[39;00m \u001b[38;5;28;01mimport\u001b[39;00m \u001b[38;5;241m*\u001b[39m\n\u001b[1;32m     30\u001b[0m \u001b[38;5;28;01mfrom\u001b[39;00m \u001b[38;5;21;01m.\u001b[39;00m \u001b[38;5;28;01mimport\u001b[39;00m core\n",
      "File \u001b[0;32m/Library/Frameworks/Python.framework/Versions/3.12/lib/python3.12/site-packages/geemap/conversion.py:23\u001b[0m\n\u001b[1;32m     20\u001b[0m \u001b[38;5;28;01mfrom\u001b[39;00m \u001b[38;5;21;01mcollections\u001b[39;00m \u001b[38;5;28;01mimport\u001b[39;00m deque\n\u001b[1;32m     21\u001b[0m \u001b[38;5;28;01mfrom\u001b[39;00m \u001b[38;5;21;01mpathlib\u001b[39;00m \u001b[38;5;28;01mimport\u001b[39;00m Path\n\u001b[0;32m---> 23\u001b[0m \u001b[38;5;28;01mimport\u001b[39;00m \u001b[38;5;21;01mpkg_resources\u001b[39;00m\n\u001b[1;32m     25\u001b[0m \u001b[38;5;28;01mfrom\u001b[39;00m \u001b[38;5;21;01m.\u001b[39;00m\u001b[38;5;21;01mcommon\u001b[39;00m \u001b[38;5;28;01mimport\u001b[39;00m \u001b[38;5;241m*\u001b[39m\n\u001b[1;32m     28\u001b[0m \u001b[38;5;28;01mdef\u001b[39;00m \u001b[38;5;21mfind_matching_bracket\u001b[39m(lines, start_line_index, start_char_index, matching_char\u001b[38;5;241m=\u001b[39m\u001b[38;5;124m\"\u001b[39m\u001b[38;5;124m{\u001b[39m\u001b[38;5;124m\"\u001b[39m):\n",
      "\u001b[0;31mModuleNotFoundError\u001b[0m: No module named 'pkg_resources'"
     ]
    }
   ],
   "source": [
    "import ee\n",
    "import geemap\n",
    "\n",
    "# Initialize Earth Engine\n",
    "ee.Authenticate()\n",
    "ee.Initialize()\n"
   ]
  },
  {
   "cell_type": "code",
   "execution_count": 12,
   "metadata": {},
   "outputs": [
    {
     "data": {
      "text/html": [
       "\n",
       "            <style>\n",
       "                .geemap-dark {\n",
       "                    --jp-widgets-color: white;\n",
       "                    --jp-widgets-label-color: white;\n",
       "                    --jp-ui-font-color1: white;\n",
       "                    --jp-layout-color2: #454545;\n",
       "                    background-color: #383838;\n",
       "                }\n",
       "\n",
       "                .geemap-dark .jupyter-button {\n",
       "                    --jp-layout-color3: #383838;\n",
       "                }\n",
       "\n",
       "                .geemap-colab {\n",
       "                    background-color: var(--colab-primary-surface-color, white);\n",
       "                }\n",
       "\n",
       "                .geemap-colab .jupyter-button {\n",
       "                    --jp-layout-color3: var(--colab-primary-surface-color, white);\n",
       "                }\n",
       "            </style>\n",
       "            "
      ],
      "text/plain": [
       "<IPython.core.display.HTML object>"
      ]
     },
     "metadata": {},
     "output_type": "display_data"
    }
   ],
   "source": [
    "# Define the ROIs (already provided)\n",
    "roi_for_brightness = ee.Geometry.Polygon(\n",
    "    [[163.05418845709113, -77.62217141675877], \n",
    "    [163.04800864752082, -77.61908009873933], \n",
    "    [163.0795943408802, -77.61422077772508], \n",
    "    [163.08302756841925, -77.61569349746868],\n",
    "    [163.09813376959113, -77.60950691594756], \n",
    "    [163.1407057910755, -77.60567560295046], \n",
    "    [163.15924521978644, -77.60228539245952], \n",
    "    [163.1736647754505, -77.60140083961204], \n",
    "    [163.17435142095832, -77.5996315475443],\n",
    "    [163.18259116705207, -77.59786200695194],\n",
    "    [163.19769736822394, -77.60125340809783], \n",
    "    [163.21417686041144, -77.60184312380088], \n",
    "    [163.2505690723255, -77.59874680831578], \n",
    "    [163.25812217291144, -77.60036878277327],\n",
    "    [163.25400229986457, -77.60302247238047],\n",
    "    [163.25468894537238, -77.60493867830638], \n",
    "    [163.25880881841925, -77.60670722499943], \n",
    "    [163.2334029346302, -77.60788611813062], \n",
    "    [163.21967002447394, -77.60655985559598],\n",
    "    [163.20799705084113, -77.60980158403946],\n",
    "    [163.21280356939582, -77.61156944773495], \n",
    "    [163.19357749517707, -77.61716604483516], \n",
    "    [163.18121787603644, -77.6155462332516], \n",
    "    [163.15237876470832, -77.61687154915111],\n",
    "    [163.14894553716925, -77.62025783330262],\n",
    "    [163.12010642584113, -77.62231860342517], \n",
    "    [163.10637351568488, -77.62217141675877], \n",
    "    [163.0795943408802, -77.61893287416414], \n",
    "    [163.06448813970832, -77.61849119009841],\n",
    "    [163.06723472173957, -77.62099386140082],\n",
    "    [163.06448813970832, -77.6226129715892],\n",
    "    [163.05418845709113, -77.62217141675877]]\n",
    ")"
   ]
  },
  {
   "cell_type": "code",
   "execution_count": 13,
   "metadata": {},
   "outputs": [
    {
     "data": {
      "text/html": [
       "\n",
       "            <style>\n",
       "                .geemap-dark {\n",
       "                    --jp-widgets-color: white;\n",
       "                    --jp-widgets-label-color: white;\n",
       "                    --jp-ui-font-color1: white;\n",
       "                    --jp-layout-color2: #454545;\n",
       "                    background-color: #383838;\n",
       "                }\n",
       "\n",
       "                .geemap-dark .jupyter-button {\n",
       "                    --jp-layout-color3: #383838;\n",
       "                }\n",
       "\n",
       "                .geemap-colab {\n",
       "                    background-color: var(--colab-primary-surface-color, white);\n",
       "                }\n",
       "\n",
       "                .geemap-colab .jupyter-button {\n",
       "                    --jp-layout-color3: var(--colab-primary-surface-color, white);\n",
       "                }\n",
       "            </style>\n",
       "            "
      ],
      "text/plain": [
       "<IPython.core.display.HTML object>"
      ]
     },
     "metadata": {},
     "output_type": "display_data"
    }
   ],
   "source": [
    "#define a new ROI that is potentially simpler\n",
    "roi_box = ee.Geometry.Polygon(\n",
    "    [[163.12698754679585, -77.6073690739641], \n",
    "    [163.16406640421772, -77.60946879016157], \n",
    "    [163.15445336710835, -77.61628124600912], \n",
    "    [163.11823281657124, -77.6140353843151],\n",
    "    [163.12698754679585, -77.6073690739641]]\n",
    ")"
   ]
  },
  {
   "cell_type": "code",
   "execution_count": 14,
   "metadata": {},
   "outputs": [
    {
     "data": {
      "text/html": [
       "\n",
       "            <style>\n",
       "                .geemap-dark {\n",
       "                    --jp-widgets-color: white;\n",
       "                    --jp-widgets-label-color: white;\n",
       "                    --jp-ui-font-color1: white;\n",
       "                    --jp-layout-color2: #454545;\n",
       "                    background-color: #383838;\n",
       "                }\n",
       "\n",
       "                .geemap-dark .jupyter-button {\n",
       "                    --jp-layout-color3: #383838;\n",
       "                }\n",
       "\n",
       "                .geemap-colab {\n",
       "                    background-color: var(--colab-primary-surface-color, white);\n",
       "                }\n",
       "\n",
       "                .geemap-colab .jupyter-button {\n",
       "                    --jp-layout-color3: var(--colab-primary-surface-color, white);\n",
       "                }\n",
       "            </style>\n",
       "            "
      ],
      "text/plain": [
       "<IPython.core.display.HTML object>"
      ]
     },
     "metadata": {},
     "output_type": "display_data"
    }
   ],
   "source": [
    "## add the image collection\n",
    "ids = ee.List(['LANDSAT_8_2016-11-02', 'LANDSAT_8_2016-11-04', 'LANDSAT_8_2016-11-06', 'LANDSAT_8_2016-11-08', 'LANDSAT_8_2016-11-13', 'LANDSAT_8_2016-11-15', 'LANDSAT_8_2016-12-10', 'LANDSAT_8_2016-12-13', 'LANDSAT_8_2016-12-15', 'LANDSAT_8_2016-12-17', 'LANDSAT_8_2016-12-19', 'LANDSAT_8_2016-12-24', 'LANDSAT_8_2017-01-02', 'LANDSAT_8_2017-01-11', 'LANDSAT_8_2017-01-14', 'LANDSAT_8_2017-01-18', 'LANDSAT_8_2017-01-25', 'LANDSAT_8_2017-01-27', 'LANDSAT_8_2017-01-30', 'LANDSAT_8_2017-02-01', 'LANDSAT_8_2017-11-04', 'LANDSAT_8_2017-11-07', 'LANDSAT_8_2017-11-18', 'LANDSAT_8_2017-11-20', 'LANDSAT_8_2017-11-21', 'LANDSAT_8_2017-11-25', 'LANDSAT_8_2017-11-27', 'LANDSAT_8_2017-11-30', 'LANDSAT_8_2017-12-02', 'LANDSAT_8_2017-12-07', 'LANDSAT_8_2017-12-16', 'LANDSAT_8_2017-12-23', 'LANDSAT_8_2018-01-03', 'LANDSAT_8_2018-01-05', 'LANDSAT_8_2018-01-07', 'LANDSAT_8_2018-01-10', 'LANDSAT_8_2018-01-12', 'LANDSAT_8_2018-01-14', 'LANDSAT_8_2018-01-19', 'LANDSAT_8_2018-01-26', 'LANDSAT_8_2018-01-30', 'LANDSAT_8_2018-11-05', 'LANDSAT_8_2018-11-07', 'LANDSAT_8_2018-11-08', 'LANDSAT_8_2018-11-12', 'LANDSAT_8_2018-11-17', 'LANDSAT_8_2018-11-19', 'LANDSAT_8_2018-11-23', 'LANDSAT_8_2018-11-24', 'LANDSAT_8_2018-11-26', 'LANDSAT_8_2018-11-28', 'LANDSAT_8_2018-11-30', 'LANDSAT_8_2018-12-05', 'LANDSAT_8_2018-12-30', 'LANDSAT_8_2019-01-01', 'LANDSAT_8_2019-01-04', 'LANDSAT_8_2019-01-06', 'LANDSAT_8_2019-01-10', 'LANDSAT_8_2019-01-11', 'LANDSAT_8_2019-01-15', 'LANDSAT_8_2019-01-24', 'LANDSAT_8_2019-01-26', 'LANDSAT_8_2019-11-06', 'LANDSAT_8_2019-11-08', 'LANDSAT_8_2019-11-10', 'LANDSAT_8_2019-11-11', 'LANDSAT_8_2019-11-15', 'LANDSAT_8_2019-11-17', 'LANDSAT_8_2019-11-24', 'LANDSAT_8_2019-11-26', 'LANDSAT_8_2019-11-27', 'LANDSAT_8_2019-12-03', 'LANDSAT_8_2019-12-17', 'LANDSAT_8_2019-12-24', 'LANDSAT_8_2019-12-26', 'LANDSAT_8_2019-12-31', 'LANDSAT_8_2020-01-02', 'LANDSAT_8_2020-01-11', 'LANDSAT_8_2020-01-20', 'LANDSAT_8_2020-10-30', 'LANDSAT_8_2020-11-15', 'LANDSAT_8_2020-11-17', 'LANDSAT_8_2020-11-19', 'LANDSAT_8_2020-11-24', 'LANDSAT_8_2020-11-26', 'LANDSAT_8_2020-11-28', 'LANDSAT_8_2020-11-29', 'LANDSAT_8_2020-12-01', 'LANDSAT_8_2020-12-03', 'LANDSAT_8_2020-12-08', 'LANDSAT_8_2020-12-10', 'LANDSAT_8_2020-12-14', 'LANDSAT_8_2020-12-15', 'LANDSAT_8_2020-12-21', 'LANDSAT_8_2020-12-24', 'LANDSAT_8_2020-12-26', 'LANDSAT_8_2020-12-30', 'LANDSAT_8_2021-01-06', 'LANDSAT_8_2021-01-13', 'LANDSAT_8_2021-01-15', 'LANDSAT_8_2021-01-16', 'LANDSAT_8_2021-01-18', 'LANDSAT_8_2021-01-22', 'LANDSAT_8_2021-02-01', 'LANDSAT_8_2021-10-31', 'LANDSAT_8_2021-11-04', 'LANDSAT_8_2021-11-09', 'LANDSAT_8_2021-11-11', 'LANDSAT_8_2021-11-15', 'LANDSAT_8_2021-11-20', 'LANDSAT_8_2021-12-01', 'LANDSAT_8_2021-12-02', 'LANDSAT_8_2021-12-04', 'LANDSAT_8_2021-12-06', 'LANDSAT_8_2021-12-08', 'LANDSAT_8_2021-12-11', 'LANDSAT_8_2021-12-18', 'LANDSAT_8_2021-12-20', 'LANDSAT_8_2021-12-22', 'LANDSAT_8_2021-12-24', 'LANDSAT_8_2022-01-05', 'LANDSAT_8_2022-01-07', 'LANDSAT_8_2022-01-12', 'LANDSAT_8_2022-01-14', 'LANDSAT_8_2022-01-16', 'LANDSAT_8_2022-01-19', 'LANDSAT_8_2022-01-25', 'LANDSAT_8_2022-01-28', 'LANDSAT_8_2022-11-14', 'LANDSAT_8_2022-11-16', 'LANDSAT_8_2022-11-18', 'LANDSAT_8_2022-11-19', 'LANDSAT_8_2022-11-21', 'LANDSAT_8_2022-11-23', 'LANDSAT_8_2022-11-28', 'LANDSAT_8_2022-12-04', 'LANDSAT_8_2022-12-05', 'LANDSAT_8_2022-12-11', 'LANDSAT_8_2022-12-16', 'LANDSAT_8_2022-12-18', 'LANDSAT_8_2023-01-01', 'LANDSAT_8_2023-01-03', 'LANDSAT_8_2023-01-10', 'LANDSAT_8_2023-01-15', 'LANDSAT_8_2023-01-22', 'LANDSAT_8_2023-01-24', 'LANDSAT_8_2023-11-01', 'LANDSAT_8_2023-11-17', 'LANDSAT_8_2023-11-19', 'LANDSAT_8_2023-11-21', 'LANDSAT_8_2023-12-05', 'LANDSAT_8_2023-12-07', 'LANDSAT_8_2023-12-10', 'LANDSAT_8_2023-12-19', 'LANDSAT_8_2023-12-28', 'LANDSAT_8_2023-12-30', 'LANDSAT_8_2024-01-04', 'LANDSAT_8_2024-01-11', 'LANDSAT_8_2024-01-13', 'LANDSAT_8_2024-01-22', 'LANDSAT_8_2024-01-24'])\n",
    "\n",
    "# Define start and end date for the image collection filter\n",
    "start_date = \"2016-03-06\"\n",
    "end_date = \"2025-01-01\"\n",
    "\n",
    "# Define ROI for analysis\n",
    "roi_for_cropping = ee.Geometry.Rectangle([162.277817, -77.740157, 163.272100, -77.576571])"
   ]
  },
  {
   "cell_type": "code",
   "execution_count": 5,
   "metadata": {},
   "outputs": [
    {
     "data": {
      "text/html": [
       "\n",
       "            <style>\n",
       "                .geemap-dark {\n",
       "                    --jp-widgets-color: white;\n",
       "                    --jp-widgets-label-color: white;\n",
       "                    --jp-ui-font-color1: white;\n",
       "                    --jp-layout-color2: #454545;\n",
       "                    background-color: #383838;\n",
       "                }\n",
       "\n",
       "                .geemap-dark .jupyter-button {\n",
       "                    --jp-layout-color3: #383838;\n",
       "                }\n",
       "\n",
       "                .geemap-colab {\n",
       "                    background-color: var(--colab-primary-surface-color, white);\n",
       "                }\n",
       "\n",
       "                .geemap-colab .jupyter-button {\n",
       "                    --jp-layout-color3: var(--colab-primary-surface-color, white);\n",
       "                }\n",
       "            </style>\n",
       "            "
      ],
      "text/plain": [
       "<IPython.core.display.HTML object>"
      ]
     },
     "metadata": {},
     "output_type": "display_data"
    }
   ],
   "source": [
    "def addImageDate(image):\n",
    "    mission = image.get('SPACECRAFT_ID')\n",
    "    date = image.date().format('YYYY-MM-dd')\n",
    "    missDate = ee.String(mission).cat('_').cat(ee.String(date))\n",
    "    return image.set('missDate', missDate)"
   ]
  },
  {
   "cell_type": "code",
   "execution_count": 6,
   "metadata": {},
   "outputs": [
    {
     "data": {
      "text/html": [
       "\n",
       "            <style>\n",
       "                .geemap-dark {\n",
       "                    --jp-widgets-color: white;\n",
       "                    --jp-widgets-label-color: white;\n",
       "                    --jp-ui-font-color1: white;\n",
       "                    --jp-layout-color2: #454545;\n",
       "                    background-color: #383838;\n",
       "                }\n",
       "\n",
       "                .geemap-dark .jupyter-button {\n",
       "                    --jp-layout-color3: #383838;\n",
       "                }\n",
       "\n",
       "                .geemap-colab {\n",
       "                    background-color: var(--colab-primary-surface-color, white);\n",
       "                }\n",
       "\n",
       "                .geemap-colab .jupyter-button {\n",
       "                    --jp-layout-color3: var(--colab-primary-surface-color, white);\n",
       "                }\n",
       "            </style>\n",
       "            "
      ],
      "text/plain": [
       "<IPython.core.display.HTML object>"
      ]
     },
     "metadata": {},
     "output_type": "display_data"
    }
   ],
   "source": [
    "def mosaic_by_date(imcol):\n",
    "    # Convert the image collection to a list of images\n",
    "    imlist = imcol.toList(imcol.size())\n",
    "    \n",
    "    # Get unique dates from the image collection\n",
    "    def get_date(image):\n",
    "        return ee.Image(image).date().format(\"YYYY-MM-dd\")\n",
    "    \n",
    "    unique_dates = imlist.map(lambda im: get_date(im)).distinct()\n",
    "\n",
    "    def create_mosaic(date_str):\n",
    "        date = ee.Date(date_str)\n",
    "        \n",
    "        # Filter images for that day and create a mosaic\n",
    "        mosaic = imcol.filterDate(date, date.advance(1, 'day')).mosaic()\n",
    "        \n",
    "        return mosaic.set({\n",
    "            'system:time_start': date.millis(),\n",
    "            'system:id': date.format('YYYY-MM-dd')\n",
    "        })\n",
    "\n",
    "    # Create mosaics for each unique date\n",
    "    mosaic_imlist = unique_dates.map(create_mosaic)\n",
    "    \n",
    "    return ee.ImageCollection(mosaic_imlist)"
   ]
  },
  {
   "cell_type": "code",
   "execution_count": 11,
   "metadata": {},
   "outputs": [
    {
     "data": {
      "text/html": [
       "\n",
       "            <style>\n",
       "                .geemap-dark {\n",
       "                    --jp-widgets-color: white;\n",
       "                    --jp-widgets-label-color: white;\n",
       "                    --jp-ui-font-color1: white;\n",
       "                    --jp-layout-color2: #454545;\n",
       "                    background-color: #383838;\n",
       "                }\n",
       "\n",
       "                .geemap-dark .jupyter-button {\n",
       "                    --jp-layout-color3: #383838;\n",
       "                }\n",
       "\n",
       "                .geemap-colab {\n",
       "                    background-color: var(--colab-primary-surface-color, white);\n",
       "                }\n",
       "\n",
       "                .geemap-colab .jupyter-button {\n",
       "                    --jp-layout-color3: var(--colab-primary-surface-color, white);\n",
       "                }\n",
       "            </style>\n",
       "            "
      ],
      "text/plain": [
       "<IPython.core.display.HTML object>"
      ]
     },
     "metadata": {},
     "output_type": "display_data"
    }
   ],
   "source": [
    "# Example usage with an image collection (e.g., 'LANDSAT/LC08/C02/T1_L2')\n",
    "s2 = ee.ImageCollection('LANDSAT/LC08/C02/T2_TOA')\\\n",
    "    .select(['B2', 'B3', 'B4', 'B5', 'B6', 'B7', 'B8'])\\\n",
    "    .filterDate(start_date, end_date)\\\n",
    "    .map(addImageDate)\\\n",
    "    .filter(ee.Filter.inList(\"missDate\", ids))\\\n",
    "    .filter(ee.Filter.gt('SUN_ELEVATION',20))\\\n",
    "    .filterBounds(roi_for_cropping)\\\n",
    "    .sort('DATE_ACQUIRED')\n",
    "s3 = mosaic_by_date(s2)"
   ]
  },
  {
   "cell_type": "code",
   "execution_count": 90,
   "metadata": {},
   "outputs": [
    {
     "data": {
      "text/html": [
       "\n",
       "            <style>\n",
       "                .geemap-dark {\n",
       "                    --jp-widgets-color: white;\n",
       "                    --jp-widgets-label-color: white;\n",
       "                    --jp-ui-font-color1: white;\n",
       "                    --jp-layout-color2: #454545;\n",
       "                    background-color: #383838;\n",
       "                }\n",
       "\n",
       "                .geemap-dark .jupyter-button {\n",
       "                    --jp-layout-color3: #383838;\n",
       "                }\n",
       "\n",
       "                .geemap-colab {\n",
       "                    background-color: var(--colab-primary-surface-color, white);\n",
       "                }\n",
       "\n",
       "                .geemap-colab .jupyter-button {\n",
       "                    --jp-layout-color3: var(--colab-primary-surface-color, white);\n",
       "                }\n",
       "            </style>\n",
       "            "
      ],
      "text/plain": [
       "<IPython.core.display.HTML object>"
      ]
     },
     "metadata": {},
     "output_type": "display_data"
    },
    {
     "name": "stdout",
     "output_type": "stream",
     "text": [
      "161\n"
     ]
    }
   ],
   "source": [
    "# Clip all the images in the s3 collection down to the ROI\n",
    "def clip_image(image):\n",
    "    return image.clip(roi_for_cropping)\n",
    "\n",
    "# Apply clip to image collection\n",
    "l8_clipped = s3.map(clip_image)\n",
    "print(l8_clipped.size().getInfo())"
   ]
  },
  {
   "cell_type": "code",
   "execution_count": 91,
   "metadata": {},
   "outputs": [
    {
     "data": {
      "text/html": [
       "\n",
       "            <style>\n",
       "                .geemap-dark {\n",
       "                    --jp-widgets-color: white;\n",
       "                    --jp-widgets-label-color: white;\n",
       "                    --jp-ui-font-color1: white;\n",
       "                    --jp-layout-color2: #454545;\n",
       "                    background-color: #383838;\n",
       "                }\n",
       "\n",
       "                .geemap-dark .jupyter-button {\n",
       "                    --jp-layout-color3: #383838;\n",
       "                }\n",
       "\n",
       "                .geemap-colab {\n",
       "                    background-color: var(--colab-primary-surface-color, white);\n",
       "                }\n",
       "\n",
       "                .geemap-colab .jupyter-button {\n",
       "                    --jp-layout-color3: var(--colab-primary-surface-color, white);\n",
       "                }\n",
       "            </style>\n",
       "            "
      ],
      "text/plain": [
       "<IPython.core.display.HTML object>"
      ]
     },
     "metadata": {},
     "output_type": "display_data"
    }
   ],
   "source": [
    "# Define ROI for soil\n",
    "roi_soil = ee.Geometry.Rectangle([163.078070, -77.625204, 163.07800, -77.625340])\n",
    "\n",
    "# Pull image\n",
    "soil1 = ee.Image('LANDSAT/LC08/C02/T2_TOA/LC08_055116_20231205').select(['B2', 'B3', 'B4', 'B5', 'B6', 'B7', 'B8'])\n",
    "\n",
    "# Clip image down to ROI for soil\n",
    "soil = soil1.clip(roi_for_cropping)\n",
    "\n",
    "# Reduce down to mean for endmembers\n",
    "soil_mean_defined = soil.reduceRegion(ee.Reducer.mean()).values()"
   ]
  },
  {
   "cell_type": "code",
   "execution_count": 92,
   "metadata": {},
   "outputs": [
    {
     "data": {
      "text/html": [
       "\n",
       "            <style>\n",
       "                .geemap-dark {\n",
       "                    --jp-widgets-color: white;\n",
       "                    --jp-widgets-label-color: white;\n",
       "                    --jp-ui-font-color1: white;\n",
       "                    --jp-layout-color2: #454545;\n",
       "                    background-color: #383838;\n",
       "                }\n",
       "\n",
       "                .geemap-dark .jupyter-button {\n",
       "                    --jp-layout-color3: #383838;\n",
       "                }\n",
       "\n",
       "                .geemap-colab {\n",
       "                    background-color: var(--colab-primary-surface-color, white);\n",
       "                }\n",
       "\n",
       "                .geemap-colab .jupyter-button {\n",
       "                    --jp-layout-color3: var(--colab-primary-surface-color, white);\n",
       "                }\n",
       "            </style>\n",
       "            "
      ],
      "text/plain": [
       "<IPython.core.display.HTML object>"
      ]
     },
     "metadata": {},
     "output_type": "display_data"
    }
   ],
   "source": [
    "# Function to calculate mean band values around a simple point\n",
    "# this function will be passed through the define endmembers \n",
    "def calculate_mean_band_values(image, point_geometry):\n",
    "    buffer = point_geometry.buffer(90)  # 3x3 Landsat pixel window\n",
    "    band_means = image.reduceRegion(\n",
    "        reducer=ee.Reducer.mean(),\n",
    "        geometry=buffer,\n",
    "        scale=30,\n",
    "        maxPixels=15676413  # Adjusted based on sample size\n",
    "    )\n",
    "    return band_means"
   ]
  },
  {
   "cell_type": "code",
   "execution_count": 93,
   "metadata": {},
   "outputs": [
    {
     "data": {
      "text/html": [
       "\n",
       "            <style>\n",
       "                .geemap-dark {\n",
       "                    --jp-widgets-color: white;\n",
       "                    --jp-widgets-label-color: white;\n",
       "                    --jp-ui-font-color1: white;\n",
       "                    --jp-layout-color2: #454545;\n",
       "                    background-color: #383838;\n",
       "                }\n",
       "\n",
       "                .geemap-dark .jupyter-button {\n",
       "                    --jp-layout-color3: #383838;\n",
       "                }\n",
       "\n",
       "                .geemap-colab {\n",
       "                    background-color: var(--colab-primary-surface-color, white);\n",
       "                }\n",
       "\n",
       "                .geemap-colab .jupyter-button {\n",
       "                    --jp-layout-color3: var(--colab-primary-surface-color, white);\n",
       "                }\n",
       "            </style>\n",
       "            "
      ],
      "text/plain": [
       "<IPython.core.display.HTML object>"
      ]
     },
     "metadata": {},
     "output_type": "display_data"
    }
   ],
   "source": [
    "# Function to define endmembers\n",
    "def define_endmembers(image, roi, n=1):\n",
    "    # Calculate brightness as the sum of selected bands\n",
    "    brightness = image.select(['B2', 'B3', 'B4', 'B5', 'B6']).reduce(ee.Reducer.sum())\n",
    "    \n",
    "    # Sample brightness within the ROI\n",
    "    sampled_points = brightness.sample(region=roi, scale=30, numPixels=10000)\n",
    "    \n",
    "    # Sort points to find the brightest\n",
    "    sorted_points_brightest = sampled_points.sort('sum', False)\n",
    "    top_n_points_brightest = sorted_points_brightest.limit(n)\n",
    "    brightest_point = ee.Feature(top_n_points_brightest.first())\n",
    "    brightest_point_geometry = brightest_point.geometry()\n",
    "    brightest_band_means = calculate_mean_band_values(image, brightest_point_geometry)\n",
    "    \n",
    "    # Sort points to find the dimmest\n",
    "    sorted_points_dimmest = sampled_points.sort('sum', True)\n",
    "    top_n_points_dimmest = sorted_points_dimmest.limit(n)\n",
    "    dimmest_point = ee.Feature(top_n_points_dimmest.first())\n",
    "    dimmest_point_geometry = dimmest_point.geometry()\n",
    "    dimmest_band_means = calculate_mean_band_values(image, dimmest_point_geometry)\n",
    "\n",
    "\n",
    "    # Combine the endmembers into a list\n",
    "    endmembers = ee.List([brightest_band_means.values(), dimmest_band_means.values()])\n",
    "    return endmembers\n"
   ]
  },
  {
   "cell_type": "code",
   "execution_count": 96,
   "metadata": {},
   "outputs": [
    {
     "data": {
      "text/html": [
       "\n",
       "            <style>\n",
       "                .geemap-dark {\n",
       "                    --jp-widgets-color: white;\n",
       "                    --jp-widgets-label-color: white;\n",
       "                    --jp-ui-font-color1: white;\n",
       "                    --jp-layout-color2: #454545;\n",
       "                    background-color: #383838;\n",
       "                }\n",
       "\n",
       "                .geemap-dark .jupyter-button {\n",
       "                    --jp-layout-color3: #383838;\n",
       "                }\n",
       "\n",
       "                .geemap-colab {\n",
       "                    background-color: var(--colab-primary-surface-color, white);\n",
       "                }\n",
       "\n",
       "                .geemap-colab .jupyter-button {\n",
       "                    --jp-layout-color3: var(--colab-primary-surface-color, white);\n",
       "                }\n",
       "            </style>\n",
       "            "
      ],
      "text/plain": [
       "<IPython.core.display.HTML object>"
      ]
     },
     "metadata": {},
     "output_type": "display_data"
    },
    {
     "name": "stdout",
     "output_type": "stream",
     "text": [
      "[[0.5105332177361639, 0.49114323064901283, 0.49678828260342783, 0.4465715929351864, 0.12134183722814615, 0.11879458547846103, 0.8704010747539067], [0.5105332177361639, 0.49114323064901283, 0.49678828260342783, 0.4465715929351864, 0.12134183722814615, 0.11879458547846103, 0.8704010747539067]]\n"
     ]
    }
   ],
   "source": [
    "d = define_endmembers(soil, roi_box, n=1)\n",
    "print(d.getInfo())"
   ]
  },
  {
   "cell_type": "code",
   "execution_count": 78,
   "metadata": {},
   "outputs": [
    {
     "data": {
      "text/html": [
       "\n",
       "            <style>\n",
       "                .geemap-dark {\n",
       "                    --jp-widgets-color: white;\n",
       "                    --jp-widgets-label-color: white;\n",
       "                    --jp-ui-font-color1: white;\n",
       "                    --jp-layout-color2: #454545;\n",
       "                    background-color: #383838;\n",
       "                }\n",
       "\n",
       "                .geemap-dark .jupyter-button {\n",
       "                    --jp-layout-color3: #383838;\n",
       "                }\n",
       "\n",
       "                .geemap-colab {\n",
       "                    background-color: var(--colab-primary-surface-color, white);\n",
       "                }\n",
       "\n",
       "                .geemap-colab .jupyter-button {\n",
       "                    --jp-layout-color3: var(--colab-primary-surface-color, white);\n",
       "                }\n",
       "            </style>\n",
       "            "
      ],
      "text/plain": [
       "<IPython.core.display.HTML object>"
      ]
     },
     "metadata": {},
     "output_type": "display_data"
    }
   ],
   "source": [
    "# Function to perform spectral unmixing\n",
    "def perform_unmixing(image, endmembers):\n",
    "    if endmembers is None:\n",
    "        return None\n",
    "\n",
    "    brightest_band_means = endmembers.get(0)\n",
    "    soil_mean = endmembers.get(1)\n",
    "    unmixed_image = image.unmix([brightest_band_means, soil_mean], True, True)\n",
    "    return unmixed_image.set('system:time_start', image.get('system:time_start'))\n"
   ]
  },
  {
   "cell_type": "code",
   "execution_count": 79,
   "metadata": {},
   "outputs": [
    {
     "data": {
      "text/html": [
       "\n",
       "            <style>\n",
       "                .geemap-dark {\n",
       "                    --jp-widgets-color: white;\n",
       "                    --jp-widgets-label-color: white;\n",
       "                    --jp-ui-font-color1: white;\n",
       "                    --jp-layout-color2: #454545;\n",
       "                    background-color: #383838;\n",
       "                }\n",
       "\n",
       "                .geemap-dark .jupyter-button {\n",
       "                    --jp-layout-color3: #383838;\n",
       "                }\n",
       "\n",
       "                .geemap-colab {\n",
       "                    background-color: var(--colab-primary-surface-color, white);\n",
       "                }\n",
       "\n",
       "                .geemap-colab .jupyter-button {\n",
       "                    --jp-layout-color3: var(--colab-primary-surface-color, white);\n",
       "                }\n",
       "            </style>\n",
       "            "
      ],
      "text/plain": [
       "<IPython.core.display.HTML object>"
      ]
     },
     "metadata": {},
     "output_type": "display_data"
    }
   ],
   "source": [
    "def process_image(image):\n",
    "    endmembers = define_endmembers(image, roi_for_brightness, n=1)\n",
    "    return perform_unmixing(image, endmembers)\n"
   ]
  },
  {
   "cell_type": "code",
   "execution_count": 81,
   "metadata": {},
   "outputs": [
    {
     "data": {
      "text/html": [
       "\n",
       "            <style>\n",
       "                .geemap-dark {\n",
       "                    --jp-widgets-color: white;\n",
       "                    --jp-widgets-label-color: white;\n",
       "                    --jp-ui-font-color1: white;\n",
       "                    --jp-layout-color2: #454545;\n",
       "                    background-color: #383838;\n",
       "                }\n",
       "\n",
       "                .geemap-dark .jupyter-button {\n",
       "                    --jp-layout-color3: #383838;\n",
       "                }\n",
       "\n",
       "                .geemap-colab {\n",
       "                    background-color: var(--colab-primary-surface-color, white);\n",
       "                }\n",
       "\n",
       "                .geemap-colab .jupyter-button {\n",
       "                    --jp-layout-color3: var(--colab-primary-surface-color, white);\n",
       "                }\n",
       "            </style>\n",
       "            "
      ],
      "text/plain": [
       "<IPython.core.display.HTML object>"
      ]
     },
     "metadata": {},
     "output_type": "display_data"
    }
   ],
   "source": [
    "# apply process to all images in collection\n",
    "result_collection = l8_clipped.map(process_image)"
   ]
  },
  {
   "cell_type": "code",
   "execution_count": 95,
   "metadata": {},
   "outputs": [
    {
     "data": {
      "text/html": [
       "\n",
       "            <style>\n",
       "                .geemap-dark {\n",
       "                    --jp-widgets-color: white;\n",
       "                    --jp-widgets-label-color: white;\n",
       "                    --jp-ui-font-color1: white;\n",
       "                    --jp-layout-color2: #454545;\n",
       "                    background-color: #383838;\n",
       "                }\n",
       "\n",
       "                .geemap-dark .jupyter-button {\n",
       "                    --jp-layout-color3: #383838;\n",
       "                }\n",
       "\n",
       "                .geemap-colab {\n",
       "                    background-color: var(--colab-primary-surface-color, white);\n",
       "                }\n",
       "\n",
       "                .geemap-colab .jupyter-button {\n",
       "                    --jp-layout-color3: var(--colab-primary-surface-color, white);\n",
       "                }\n",
       "            </style>\n",
       "            "
      ],
      "text/plain": [
       "<IPython.core.display.HTML object>"
      ]
     },
     "metadata": {},
     "output_type": "display_data"
    },
    {
     "data": {
      "application/vnd.jupyter.widget-view+json": {
       "model_id": "f531839e3c20478b8cfcd4d8c5e3e3ac",
       "version_major": 2,
       "version_minor": 0
      },
      "text/plain": [
       "Map(center=[-77.61073139024238, 163.15799378173344], controls=(WidgetControl(options=['position', 'transparent…"
      ]
     },
     "metadata": {},
     "output_type": "display_data"
    }
   ],
   "source": [
    "#Plot to confirm output\n",
    "Map = geemap.Map(zoom=10, center=[-77.616808, 163.077952])\n",
    "Map.centerObject(roi_for_brightness, 10)\n",
    "Map.addLayer(roi_for_brightness)\n",
    "Map.addLayer(result_collection.first())\n",
    "Map"
   ]
  },
  {
   "cell_type": "code",
   "execution_count": 99,
   "metadata": {},
   "outputs": [
    {
     "data": {
      "text/html": [
       "\n",
       "            <style>\n",
       "                .geemap-dark {\n",
       "                    --jp-widgets-color: white;\n",
       "                    --jp-widgets-label-color: white;\n",
       "                    --jp-ui-font-color1: white;\n",
       "                    --jp-layout-color2: #454545;\n",
       "                    background-color: #383838;\n",
       "                }\n",
       "\n",
       "                .geemap-dark .jupyter-button {\n",
       "                    --jp-layout-color3: #383838;\n",
       "                }\n",
       "\n",
       "                .geemap-colab {\n",
       "                    background-color: var(--colab-primary-surface-color, white);\n",
       "                }\n",
       "\n",
       "                .geemap-colab .jupyter-button {\n",
       "                    --jp-layout-color3: var(--colab-primary-surface-color, white);\n",
       "                }\n",
       "            </style>\n",
       "            "
      ],
      "text/plain": [
       "<IPython.core.display.HTML object>"
      ]
     },
     "metadata": {},
     "output_type": "display_data"
    }
   ],
   "source": [
    "# Function to calculate mean band values around a simple point\n",
    "# this function will be passed through the define endmembers \n",
    "def calculate_mean_band_values(image, point_geometry):\n",
    "    buffer = point_geometry.buffer(90)  # 3x3 Landsat pixel window\n",
    "    band_means = image.reduceRegion(\n",
    "        reducer=ee.Reducer.mean(),\n",
    "        geometry=buffer,\n",
    "        scale=30,\n",
    "        maxPixels=1e10  # Adjusted based on sample size\n",
    "    )\n",
    "    return band_means\n",
    "\n",
    "i = ee.Image('LANDSAT/LC08/C02/T2_TOA/LC08_055116_20231205').select(['B2', 'B3', 'B4', 'B5', 'B6', 'B7', 'B8'])"
   ]
  },
  {
   "cell_type": "code",
   "execution_count": 103,
   "metadata": {},
   "outputs": [
    {
     "data": {
      "text/html": [
       "\n",
       "            <style>\n",
       "                .geemap-dark {\n",
       "                    --jp-widgets-color: white;\n",
       "                    --jp-widgets-label-color: white;\n",
       "                    --jp-ui-font-color1: white;\n",
       "                    --jp-layout-color2: #454545;\n",
       "                    background-color: #383838;\n",
       "                }\n",
       "\n",
       "                .geemap-dark .jupyter-button {\n",
       "                    --jp-layout-color3: #383838;\n",
       "                }\n",
       "\n",
       "                .geemap-colab {\n",
       "                    background-color: var(--colab-primary-surface-color, white);\n",
       "                }\n",
       "\n",
       "                .geemap-colab .jupyter-button {\n",
       "                    --jp-layout-color3: var(--colab-primary-surface-color, white);\n",
       "                }\n",
       "            </style>\n",
       "            "
      ],
      "text/plain": [
       "<IPython.core.display.HTML object>"
      ]
     },
     "metadata": {},
     "output_type": "display_data"
    },
    {
     "name": "stdout",
     "output_type": "stream",
     "text": [
      "{'type': 'Feature', 'geometry': None, 'id': '0', 'properties': {'sum': 1.035390168428421}}\n",
      "sampled point first ee.Geometry({\n",
      "  \"functionInvocationValue\": {\n",
      "    \"functionName\": \"Element.geometry\",\n",
      "    \"arguments\": {\n",
      "      \"feature\": {\n",
      "        \"functionInvocationValue\": {\n",
      "          \"functionName\": \"Collection.first\",\n",
      "          \"arguments\": {\n",
      "            \"collection\": {\n",
      "              \"functionInvocationValue\": {\n",
      "                \"functionName\": \"Image.sample\",\n",
      "                \"arguments\": {\n",
      "                  \"image\": {\n",
      "                    \"functionInvocationValue\": {\n",
      "                      \"functionName\": \"Image.reduce\",\n",
      "                      \"arguments\": {\n",
      "                        \"image\": {\n",
      "                          \"functionInvocationValue\": {\n",
      "                            \"functionName\": \"Image.select\",\n",
      "                            \"arguments\": {\n",
      "                              \"bandSelectors\": {\n",
      "                                \"constantValue\": [\n",
      "                                  \"B2\",\n",
      "                                  \"B3\",\n",
      "                                  \"B4\",\n",
      "                                  \"B5\",\n",
      "                                  \"B6\"\n",
      "                                ]\n",
      "                              },\n",
      "                              \"input\": {\n",
      "                                \"functionInvocationValue\": {\n",
      "                                  \"functionName\": \"Image.select\",\n",
      "                                  \"arguments\": {\n",
      "                                    \"bandSelectors\": {\n",
      "                                      \"constantValue\": [\n",
      "                                        \"B2\",\n",
      "                                        \"B3\",\n",
      "                                        \"B4\",\n",
      "                                        \"B5\",\n",
      "                                        \"B6\",\n",
      "                                        \"B7\",\n",
      "                                        \"B8\"\n",
      "                                      ]\n",
      "                                    },\n",
      "                                    \"input\": {\n",
      "                                      \"functionInvocationValue\": {\n",
      "                                        \"functionName\": \"Image.load\",\n",
      "                                        \"arguments\": {\n",
      "                                          \"id\": {\n",
      "                                            \"constantValue\": \"LANDSAT/LC08/C02/T2_TOA/LC08_055116_20231205\"\n",
      "                                          }\n",
      "                                        }\n",
      "                                      }\n",
      "                                    }\n",
      "                                  }\n",
      "                                }\n",
      "                              }\n",
      "                            }\n",
      "                          }\n",
      "                        },\n",
      "                        \"reducer\": {\n",
      "                          \"functionInvocationValue\": {\n",
      "                            \"functionName\": \"Reducer.sum\",\n",
      "                            \"arguments\": {}\n",
      "                          }\n",
      "                        }\n",
      "                      }\n",
      "                    }\n",
      "                  },\n",
      "                  \"numPixels\": {\n",
      "                    \"constantValue\": 1000\n",
      "                  },\n",
      "                  \"region\": {\n",
      "                    \"functionInvocationValue\": {\n",
      "                      \"functionName\": \"GeometryConstructors.Polygon\",\n",
      "                      \"arguments\": {\n",
      "                        \"coordinates\": {\n",
      "                          \"constantValue\": [\n",
      "                            [\n",
      "                              [\n",
      "                                163.05418845709113,\n",
      "                                -77.62217141675877\n",
      "                              ],\n",
      "                              [\n",
      "                                163.04800864752082,\n",
      "                                -77.61908009873933\n",
      "                              ],\n",
      "                              [\n",
      "                                163.0795943408802,\n",
      "                                -77.61422077772508\n",
      "                              ],\n",
      "                              [\n",
      "                                163.08302756841925,\n",
      "                                -77.61569349746868\n",
      "                              ],\n",
      "                              [\n",
      "                                163.09813376959113,\n",
      "                                -77.60950691594756\n",
      "                              ],\n",
      "                              [\n",
      "                                163.1407057910755,\n",
      "                                -77.60567560295046\n",
      "                              ],\n",
      "                              [\n",
      "                                163.15924521978644,\n",
      "                                -77.60228539245952\n",
      "                              ],\n",
      "                              [\n",
      "                                163.1736647754505,\n",
      "                                -77.60140083961204\n",
      "                              ],\n",
      "                              [\n",
      "                                163.17435142095832,\n",
      "                                -77.5996315475443\n",
      "                              ],\n",
      "                              [\n",
      "                                163.18259116705207,\n",
      "                                -77.59786200695194\n",
      "                              ],\n",
      "                              [\n",
      "                                163.19769736822394,\n",
      "                                -77.60125340809783\n",
      "                              ],\n",
      "                              [\n",
      "                                163.21417686041144,\n",
      "                                -77.60184312380088\n",
      "                              ],\n",
      "                              [\n",
      "                                163.2505690723255,\n",
      "                                -77.59874680831578\n",
      "                              ],\n",
      "                              [\n",
      "                                163.25812217291144,\n",
      "                                -77.60036878277327\n",
      "                              ],\n",
      "                              [\n",
      "                                163.25400229986457,\n",
      "                                -77.60302247238047\n",
      "                              ],\n",
      "                              [\n",
      "                                163.25468894537238,\n",
      "                                -77.60493867830638\n",
      "                              ],\n",
      "                              [\n",
      "                                163.25880881841925,\n",
      "                                -77.60670722499943\n",
      "                              ],\n",
      "                              [\n",
      "                                163.2334029346302,\n",
      "                                -77.60788611813062\n",
      "                              ],\n",
      "                              [\n",
      "                                163.21967002447394,\n",
      "                                -77.60655985559598\n",
      "                              ],\n",
      "                              [\n",
      "                                163.20799705084113,\n",
      "                                -77.60980158403946\n",
      "                              ],\n",
      "                              [\n",
      "                                163.21280356939582,\n",
      "                                -77.61156944773495\n",
      "                              ],\n",
      "                              [\n",
      "                                163.19357749517707,\n",
      "                                -77.61716604483516\n",
      "                              ],\n",
      "                              [\n",
      "                                163.18121787603644,\n",
      "                                -77.6155462332516\n",
      "                              ],\n",
      "                              [\n",
      "                                163.15237876470832,\n",
      "                                -77.61687154915111\n",
      "                              ],\n",
      "                              [\n",
      "                                163.14894553716925,\n",
      "                                -77.62025783330262\n",
      "                              ],\n",
      "                              [\n",
      "                                163.12010642584113,\n",
      "                                -77.62231860342517\n",
      "                              ],\n",
      "                              [\n",
      "                                163.10637351568488,\n",
      "                                -77.62217141675877\n",
      "                              ],\n",
      "                              [\n",
      "                                163.0795943408802,\n",
      "                                -77.61893287416414\n",
      "                              ],\n",
      "                              [\n",
      "                                163.06448813970832,\n",
      "                                -77.61849119009841\n",
      "                              ],\n",
      "                              [\n",
      "                                163.06723472173957,\n",
      "                                -77.62099386140082\n",
      "                              ],\n",
      "                              [\n",
      "                                163.06448813970832,\n",
      "                                -77.6226129715892\n",
      "                              ],\n",
      "                              [\n",
      "                                163.05418845709113,\n",
      "                                -77.62217141675877\n",
      "                              ]\n",
      "                            ]\n",
      "                          ]\n",
      "                        },\n",
      "                        \"evenOdd\": {\n",
      "                          \"constantValue\": true\n",
      "                        }\n",
      "                      }\n",
      "                    }\n",
      "                  },\n",
      "                  \"scale\": {\n",
      "                    \"constantValue\": 30\n",
      "                  }\n",
      "                }\n",
      "              }\n",
      "            }\n",
      "          }\n",
      "        }\n",
      "      }\n",
      "    }\n",
      "  }\n",
      "})\n"
     ]
    },
    {
     "ename": "EEException",
     "evalue": "Collection.limit, argument 'key': Invalid type.\nExpected type: String.\nActual type: Boolean.\nActual value: false",
     "output_type": "error",
     "traceback": [
      "\u001b[0;31m---------------------------------------------------------------------------\u001b[0m",
      "\u001b[0;31mHttpError\u001b[0m                                 Traceback (most recent call last)",
      "File \u001b[0;32m/opt/anaconda3/lib/python3.11/site-packages/ee/data.py:406\u001b[0m, in \u001b[0;36m_execute_cloud_call\u001b[0;34m(call, num_retries)\u001b[0m\n\u001b[1;32m    405\u001b[0m \u001b[38;5;28;01mtry\u001b[39;00m:\n\u001b[0;32m--> 406\u001b[0m   \u001b[38;5;28;01mreturn\u001b[39;00m call\u001b[38;5;241m.\u001b[39mexecute(num_retries\u001b[38;5;241m=\u001b[39mnum_retries)\n\u001b[1;32m    407\u001b[0m \u001b[38;5;28;01mexcept\u001b[39;00m googleapiclient\u001b[38;5;241m.\u001b[39merrors\u001b[38;5;241m.\u001b[39mHttpError \u001b[38;5;28;01mas\u001b[39;00m e:\n",
      "File \u001b[0;32m/opt/anaconda3/lib/python3.11/site-packages/googleapiclient/_helpers.py:130\u001b[0m, in \u001b[0;36mpositional.<locals>.positional_decorator.<locals>.positional_wrapper\u001b[0;34m(*args, **kwargs)\u001b[0m\n\u001b[1;32m    129\u001b[0m         logger\u001b[38;5;241m.\u001b[39mwarning(message)\n\u001b[0;32m--> 130\u001b[0m \u001b[38;5;28;01mreturn\u001b[39;00m wrapped(\u001b[38;5;241m*\u001b[39margs, \u001b[38;5;241m*\u001b[39m\u001b[38;5;241m*\u001b[39mkwargs)\n",
      "File \u001b[0;32m/opt/anaconda3/lib/python3.11/site-packages/googleapiclient/http.py:938\u001b[0m, in \u001b[0;36mHttpRequest.execute\u001b[0;34m(self, http, num_retries)\u001b[0m\n\u001b[1;32m    937\u001b[0m \u001b[38;5;28;01mif\u001b[39;00m resp\u001b[38;5;241m.\u001b[39mstatus \u001b[38;5;241m>\u001b[39m\u001b[38;5;241m=\u001b[39m \u001b[38;5;241m300\u001b[39m:\n\u001b[0;32m--> 938\u001b[0m     \u001b[38;5;28;01mraise\u001b[39;00m HttpError(resp, content, uri\u001b[38;5;241m=\u001b[39m\u001b[38;5;28mself\u001b[39m\u001b[38;5;241m.\u001b[39muri)\n\u001b[1;32m    939\u001b[0m \u001b[38;5;28;01mreturn\u001b[39;00m \u001b[38;5;28mself\u001b[39m\u001b[38;5;241m.\u001b[39mpostproc(resp, content)\n",
      "\u001b[0;31mHttpError\u001b[0m: <HttpError 400 when requesting https://earthengine.googleapis.com/v1/projects/earthengine-legacy/value:compute?prettyPrint=false&alt=json returned \"Collection.limit, argument 'key': Invalid type.\nExpected type: String.\nActual type: Boolean.\nActual value: false\". Details: \"Collection.limit, argument 'key': Invalid type.\nExpected type: String.\nActual type: Boolean.\nActual value: false\">",
      "\nDuring handling of the above exception, another exception occurred:\n",
      "\u001b[0;31mEEException\u001b[0m                               Traceback (most recent call last)",
      "Cell \u001b[0;32mIn[103], line 14\u001b[0m\n\u001b[1;32m     12\u001b[0m sorted_points_brightest \u001b[38;5;241m=\u001b[39m sampled_points\u001b[38;5;241m.\u001b[39msort(\u001b[38;5;28;01mFalse\u001b[39;00m)\n\u001b[1;32m     13\u001b[0m top_n_points_brightest \u001b[38;5;241m=\u001b[39m sorted_points_brightest\u001b[38;5;241m.\u001b[39mlimit(\u001b[38;5;241m1\u001b[39m)\n\u001b[0;32m---> 14\u001b[0m \u001b[38;5;28mprint\u001b[39m(\u001b[38;5;124m\"\u001b[39m\u001b[38;5;124mtop n bright\u001b[39m\u001b[38;5;124m\"\u001b[39m, top_n_points_brightest\u001b[38;5;241m.\u001b[39mgetInfo())\n\u001b[1;32m     15\u001b[0m brightest_point \u001b[38;5;241m=\u001b[39m ee\u001b[38;5;241m.\u001b[39mFeature(top_n_points_brightest\u001b[38;5;241m.\u001b[39mfirst())\n\u001b[1;32m     16\u001b[0m \u001b[38;5;28mprint\u001b[39m(\u001b[38;5;124m\"\u001b[39m\u001b[38;5;124mbrightest point\u001b[39m\u001b[38;5;124m\"\u001b[39m, brightest_point\u001b[38;5;241m.\u001b[39mgetInfo())\n",
      "File \u001b[0;32m/opt/anaconda3/lib/python3.11/site-packages/ee/collection.py:560\u001b[0m, in \u001b[0;36mCollection.getInfo\u001b[0;34m(self)\u001b[0m\n\u001b[1;32m    547\u001b[0m \u001b[38;5;28;01mdef\u001b[39;00m \u001b[38;5;21mgetInfo\u001b[39m(\u001b[38;5;28mself\u001b[39m) \u001b[38;5;241m-\u001b[39m\u001b[38;5;241m>\u001b[39m Optional[Any]:\n\u001b[1;32m    548\u001b[0m \u001b[38;5;250m  \u001b[39m\u001b[38;5;124;03m\"\"\"Returns all the known information about this collection.\u001b[39;00m\n\u001b[1;32m    549\u001b[0m \n\u001b[1;32m    550\u001b[0m \u001b[38;5;124;03m  This function makes a REST call to to retrieve all the known information\u001b[39;00m\n\u001b[0;32m   (...)\u001b[0m\n\u001b[1;32m    558\u001b[0m \u001b[38;5;124;03m         properties.\u001b[39;00m\n\u001b[1;32m    559\u001b[0m \u001b[38;5;124;03m  \"\"\"\u001b[39;00m\n\u001b[0;32m--> 560\u001b[0m   \u001b[38;5;28;01mreturn\u001b[39;00m \u001b[38;5;28msuper\u001b[39m()\u001b[38;5;241m.\u001b[39mgetInfo()\n",
      "File \u001b[0;32m/opt/anaconda3/lib/python3.11/site-packages/ee/computedobject.py:107\u001b[0m, in \u001b[0;36mComputedObject.getInfo\u001b[0;34m(self)\u001b[0m\n\u001b[1;32m    101\u001b[0m \u001b[38;5;28;01mdef\u001b[39;00m \u001b[38;5;21mgetInfo\u001b[39m(\u001b[38;5;28mself\u001b[39m) \u001b[38;5;241m-\u001b[39m\u001b[38;5;241m>\u001b[39m Optional[Any]:\n\u001b[1;32m    102\u001b[0m \u001b[38;5;250m  \u001b[39m\u001b[38;5;124;03m\"\"\"Fetch and return information about this object.\u001b[39;00m\n\u001b[1;32m    103\u001b[0m \n\u001b[1;32m    104\u001b[0m \u001b[38;5;124;03m  Returns:\u001b[39;00m\n\u001b[1;32m    105\u001b[0m \u001b[38;5;124;03m    The object can evaluate to anything.\u001b[39;00m\n\u001b[1;32m    106\u001b[0m \u001b[38;5;124;03m  \"\"\"\u001b[39;00m\n\u001b[0;32m--> 107\u001b[0m   \u001b[38;5;28;01mreturn\u001b[39;00m data\u001b[38;5;241m.\u001b[39mcomputeValue(\u001b[38;5;28mself\u001b[39m)\n",
      "File \u001b[0;32m/opt/anaconda3/lib/python3.11/site-packages/ee/data.py:1126\u001b[0m, in \u001b[0;36mcomputeValue\u001b[0;34m(obj)\u001b[0m\n\u001b[1;32m   1123\u001b[0m body \u001b[38;5;241m=\u001b[39m {\u001b[38;5;124m'\u001b[39m\u001b[38;5;124mexpression\u001b[39m\u001b[38;5;124m'\u001b[39m: serializer\u001b[38;5;241m.\u001b[39mencode(obj, for_cloud_api\u001b[38;5;241m=\u001b[39m\u001b[38;5;28;01mTrue\u001b[39;00m)}\n\u001b[1;32m   1124\u001b[0m _maybe_populate_workload_tag(body)\n\u001b[0;32m-> 1126\u001b[0m \u001b[38;5;28;01mreturn\u001b[39;00m _execute_cloud_call(\n\u001b[1;32m   1127\u001b[0m     _get_cloud_projects()\n\u001b[1;32m   1128\u001b[0m     \u001b[38;5;241m.\u001b[39mvalue()\n\u001b[1;32m   1129\u001b[0m     \u001b[38;5;241m.\u001b[39mcompute(body\u001b[38;5;241m=\u001b[39mbody, project\u001b[38;5;241m=\u001b[39m_get_projects_path(), prettyPrint\u001b[38;5;241m=\u001b[39m\u001b[38;5;28;01mFalse\u001b[39;00m)\n\u001b[1;32m   1130\u001b[0m )[\u001b[38;5;124m'\u001b[39m\u001b[38;5;124mresult\u001b[39m\u001b[38;5;124m'\u001b[39m]\n",
      "File \u001b[0;32m/opt/anaconda3/lib/python3.11/site-packages/ee/data.py:408\u001b[0m, in \u001b[0;36m_execute_cloud_call\u001b[0;34m(call, num_retries)\u001b[0m\n\u001b[1;32m    406\u001b[0m   \u001b[38;5;28;01mreturn\u001b[39;00m call\u001b[38;5;241m.\u001b[39mexecute(num_retries\u001b[38;5;241m=\u001b[39mnum_retries)\n\u001b[1;32m    407\u001b[0m \u001b[38;5;28;01mexcept\u001b[39;00m googleapiclient\u001b[38;5;241m.\u001b[39merrors\u001b[38;5;241m.\u001b[39mHttpError \u001b[38;5;28;01mas\u001b[39;00m e:\n\u001b[0;32m--> 408\u001b[0m   \u001b[38;5;28;01mraise\u001b[39;00m _translate_cloud_exception(e)\n",
      "\u001b[0;31mEEException\u001b[0m: Collection.limit, argument 'key': Invalid type.\nExpected type: String.\nActual type: Boolean.\nActual value: false"
     ]
    }
   ],
   "source": [
    "# Calculate brightness as the sum of selected bands\n",
    "brightness = i.select(['B2', 'B3', 'B4', 'B5', 'B6']).reduce(ee.Reducer.sum())\n",
    "    \n",
    "# Sample brightness within the ROI\n",
    "sampled_points = brightness.sample(region=roi_for_brightness, scale=30, numPixels=1000)\n",
    "print(sampled_points.first().getInfo())\n",
    "#print(\"sampled point first\", sampled_points.first().geometry())\n",
    "#filter for sums greater than some value (call it just to make it easy ? \n",
    "print(\"sampled point first\", sampled_points.first().geometry())\n",
    "    \n",
    "# Sort points to find the brightest\n",
    "sorted_points_brightest = sampled_points.sort(False)\n",
    "top_n_points_brightest = sorted_points_brightest.limit(1)\n",
    "print(\"top n bright\", top_n_points_brightest.getInfo())\n",
    "brightest_point = ee.Feature(top_n_points_brightest.first())\n",
    "print(\"brightest point\", brightest_point.getInfo())\n",
    "brightest_point_geometry = brightest_point.geometry()\n",
    "print(\"brightest point geom\", brightest_point_geometry.getInfo())\n",
    "brightest_band_means = calculate_mean_band_values(i, brightest_point_geometry)\n",
    "    \n",
    "# Sort points to find the dimmest\n",
    "sorted_points_dimmest = sampled_points.sort(True)\n",
    "top_n_points_dimmest = sorted_points_dimmest.limit(1)\n",
    "print(\"top dimmest\", top_n_points_dimmest.getInfo())\n",
    "dimmest_point = ee.Feature(top_n_points_dimmest.first())\n",
    "print(\"dimmest point\", dimmest_point.getInfo())\n",
    "dimmest_point_geometry = dimmest_point.geometry()\n",
    "print(\"dimmest geom\", dimmest_point_geometry.getInfo())\n",
    "dimmest_band_means = calculate_mean_band_values(i, dimmest_point_geometry)\n",
    "\n",
    "\n",
    "# Combine the endmembers into a list\n",
    "endmembers = ee.List([brightest_band_means.values(), dimmest_band_means.values()])\n",
    "print(\"endies\", endmembers.getInfo())\n"
   ]
  },
  {
   "cell_type": "code",
   "execution_count": 97,
   "metadata": {},
   "outputs": [
    {
     "data": {
      "text/html": [
       "\n",
       "            <style>\n",
       "                .geemap-dark {\n",
       "                    --jp-widgets-color: white;\n",
       "                    --jp-widgets-label-color: white;\n",
       "                    --jp-ui-font-color1: white;\n",
       "                    --jp-layout-color2: #454545;\n",
       "                    background-color: #383838;\n",
       "                }\n",
       "\n",
       "                .geemap-dark .jupyter-button {\n",
       "                    --jp-layout-color3: #383838;\n",
       "                }\n",
       "\n",
       "                .geemap-colab {\n",
       "                    background-color: var(--colab-primary-surface-color, white);\n",
       "                }\n",
       "\n",
       "                .geemap-colab .jupyter-button {\n",
       "                    --jp-layout-color3: var(--colab-primary-surface-color, white);\n",
       "                }\n",
       "            </style>\n",
       "            "
      ],
      "text/plain": [
       "<IPython.core.display.HTML object>"
      ]
     },
     "metadata": {},
     "output_type": "display_data"
    },
    {
     "name": "stdout",
     "output_type": "stream",
     "text": [
      "Brightest Point: {'type': 'Feature', 'geometry': {'type': 'Point', 'coordinates': [163.14240925861534, -77.61384256166423]}, 'id': '0', 'properties': {'mean': 1.776140340603888}}\n",
      "Dimmest Point: {'type': 'Feature', 'geometry': {'type': 'Point', 'coordinates': [163.14240925861534, -77.61384256166423]}, 'id': '0', 'properties': {'mean': 1.776140340603888}}\n",
      "Endmembers: [[0.4648690820640539, 0.45108024758834425, 0.44974046822538727, 0.3350918670715411, 0.01009821506100305], [0.4648690820640539, 0.45108024758834425, 0.44974046822538727, 0.3350918670715411, 0.01009821506100305]]\n"
     ]
    }
   ],
   "source": [
    "# Calculate brightness\n",
    "brightness = image.select(['B2', 'B3', 'B4', 'B5', 'B6']).reduce(ee.Reducer.sum()).rename('brightness')\n",
    "\n",
    "# Generate a grid of points\n",
    "points = ee.FeatureCollection.randomPoints(region=roi, points=2000)\n",
    "\n",
    "# Calculate brightness for each point\n",
    "points_with_brightness = brightness.reduceRegions(\n",
    "    collection=points,\n",
    "    reducer=ee.Reducer.mean(),\n",
    "    scale=30\n",
    ")\n",
    "\n",
    "# Remove duplicate brightness values\n",
    "distinct_points = points_with_brightness.distinct(['brightness'])\n",
    "\n",
    "# Sort points by brightness\n",
    "brightest_point = distinct_points.sort('brightness', False).first()\n",
    "brightest_geometry = ee.Feature(brightest_point).geometry()\n",
    "\n",
    "# Filter out points near the brightest point\n",
    "filtered_points = distinct_points.filterBounds(brightest_geometry.buffer(100))\n",
    "\n",
    "# Find the dimmest point from the remaining points\n",
    "dimmest_point = filtered_points.sort('brightness', True).first()\n",
    "dimmest_geometry = ee.Feature(dimmest_point).geometry()\n",
    "\n",
    "# Calculate mean band values for brightest and dimmest points\n",
    "brightest_band_means = calculate_mean_band_values(image, brightest_geometry)\n",
    "dimmest_band_means = calculate_mean_band_values(image, dimmest_geometry)\n",
    "\n",
    "# Combine into endmembers\n",
    "endmembers = ee.List([\n",
    "    brightest_band_means.values(),\n",
    "    dimmest_band_means.values()\n",
    "])\n",
    "\n",
    "print(\"Brightest Point:\", brightest_point.getInfo())\n",
    "print(\"Dimmest Point:\", dimmest_point.getInfo())\n",
    "print(\"Endmembers:\", endmembers.getInfo())\n"
   ]
  },
  {
   "cell_type": "code",
   "execution_count": 101,
   "metadata": {},
   "outputs": [
    {
     "data": {
      "text/html": [
       "\n",
       "            <style>\n",
       "                .geemap-dark {\n",
       "                    --jp-widgets-color: white;\n",
       "                    --jp-widgets-label-color: white;\n",
       "                    --jp-ui-font-color1: white;\n",
       "                    --jp-layout-color2: #454545;\n",
       "                    background-color: #383838;\n",
       "                }\n",
       "\n",
       "                .geemap-dark .jupyter-button {\n",
       "                    --jp-layout-color3: #383838;\n",
       "                }\n",
       "\n",
       "                .geemap-colab {\n",
       "                    background-color: var(--colab-primary-surface-color, white);\n",
       "                }\n",
       "\n",
       "                .geemap-colab .jupyter-button {\n",
       "                    --jp-layout-color3: var(--colab-primary-surface-color, white);\n",
       "                }\n",
       "            </style>\n",
       "            "
      ],
      "text/plain": [
       "<IPython.core.display.HTML object>"
      ]
     },
     "metadata": {},
     "output_type": "display_data"
    },
    {
     "data": {
      "application/vnd.jupyter.widget-view+json": {
       "model_id": "9db8d9c268ec4f27a46749e7c3f1e3b6",
       "version_major": 2,
       "version_minor": 0
      },
      "text/plain": [
       "Map(center=[-77.61073139024238, 163.15799378173344], controls=(WidgetControl(options=['position', 'transparent…"
      ]
     },
     "metadata": {},
     "output_type": "display_data"
    }
   ],
   "source": [
    "#Plot to confirm output\n",
    "Map = geemap.Map(zoom=10, center=[-77.616808, 163.077952])\n",
    "Map.centerObject(roi_for_brightness, 10)\n",
    "Map.addLayer(roi_for_brightness)\n",
    "Map.addLayer(brightness)\n",
    "Map"
   ]
  }
 ],
 "metadata": {
  "kernelspec": {
   "display_name": "base",
   "language": "python",
   "name": "python3"
  },
  "language_info": {
   "codemirror_mode": {
    "name": "ipython",
    "version": 3
   },
   "file_extension": ".py",
   "mimetype": "text/x-python",
   "name": "python",
   "nbconvert_exporter": "python",
   "pygments_lexer": "ipython3",
   "version": "3.12.6"
  }
 },
 "nbformat": 4,
 "nbformat_minor": 2
}
