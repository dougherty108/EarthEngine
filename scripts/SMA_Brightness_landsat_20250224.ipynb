{
 "cells": [
  {
   "cell_type": "code",
   "execution_count": 3,
   "metadata": {},
   "outputs": [
    {
     "name": "stdout",
     "output_type": "stream",
     "text": [
      "Please restart Jupyter kernel after installation if you encounter any errors when importing geemap.\n"
     ]
    },
    {
     "ename": "ModuleNotFoundError",
     "evalue": "No module named 'pkg_resources'",
     "output_type": "error",
     "traceback": [
      "\u001b[0;31m---------------------------------------------------------------------------\u001b[0m",
      "\u001b[0;31mModuleNotFoundError\u001b[0m                       Traceback (most recent call last)",
      "Cell \u001b[0;32mIn[3], line 2\u001b[0m\n\u001b[1;32m      1\u001b[0m \u001b[38;5;28;01mimport\u001b[39;00m \u001b[38;5;21;01mee\u001b[39;00m\n\u001b[0;32m----> 2\u001b[0m \u001b[38;5;28;01mimport\u001b[39;00m \u001b[38;5;21;01mgeemap\u001b[39;00m\n\u001b[1;32m      4\u001b[0m \u001b[38;5;66;03m# Initialize Earth Engine\u001b[39;00m\n\u001b[1;32m      5\u001b[0m ee\u001b[38;5;241m.\u001b[39mAuthenticate()\n",
      "File \u001b[0;32m/Library/Frameworks/Python.framework/Versions/3.12/lib/python3.12/site-packages/geemap/__init__.py:55\u001b[0m\n\u001b[1;32m     51\u001b[0m         \u001b[38;5;28;01melse\u001b[39;00m:\n\u001b[1;32m     52\u001b[0m             \u001b[38;5;28mprint\u001b[39m(\n\u001b[1;32m     53\u001b[0m                 \u001b[38;5;124m\"\u001b[39m\u001b[38;5;124mPlease restart Jupyter kernel after installation if you encounter any errors when importing geemap.\u001b[39m\u001b[38;5;124m\"\u001b[39m\n\u001b[1;32m     54\u001b[0m             )\n\u001b[0;32m---> 55\u001b[0m         \u001b[38;5;28;01mraise\u001b[39;00m e\n\u001b[1;32m     57\u001b[0m \u001b[38;5;28;01mif\u001b[39;00m _use_eerepr():\n\u001b[1;32m     58\u001b[0m     \u001b[38;5;28;01mimport\u001b[39;00m \u001b[38;5;21;01meerepr\u001b[39;00m\n",
      "File \u001b[0;32m/Library/Frameworks/Python.framework/Versions/3.12/lib/python3.12/site-packages/geemap/__init__.py:45\u001b[0m\n\u001b[1;32m     43\u001b[0m \u001b[38;5;28;01melse\u001b[39;00m:\n\u001b[1;32m     44\u001b[0m     \u001b[38;5;28;01mtry\u001b[39;00m:\n\u001b[0;32m---> 45\u001b[0m         \u001b[38;5;28;01mfrom\u001b[39;00m \u001b[38;5;21;01m.\u001b[39;00m\u001b[38;5;21;01mgeemap\u001b[39;00m \u001b[38;5;28;01mimport\u001b[39;00m \u001b[38;5;241m*\u001b[39m\n\u001b[1;32m     46\u001b[0m     \u001b[38;5;28;01mexcept\u001b[39;00m \u001b[38;5;167;01mException\u001b[39;00m \u001b[38;5;28;01mas\u001b[39;00m e:\n\u001b[1;32m     47\u001b[0m         \u001b[38;5;28;01mif\u001b[39;00m in_colab_shell():\n",
      "File \u001b[0;32m/Library/Frameworks/Python.framework/Versions/3.12/lib/python3.12/site-packages/geemap/geemap.py:28\u001b[0m\n\u001b[1;32m     26\u001b[0m \u001b[38;5;28;01mfrom\u001b[39;00m \u001b[38;5;21;01m.\u001b[39;00m\u001b[38;5;21;01mbasemaps\u001b[39;00m \u001b[38;5;28;01mimport\u001b[39;00m get_xyz_dict, xyz_to_leaflet\n\u001b[1;32m     27\u001b[0m \u001b[38;5;28;01mfrom\u001b[39;00m \u001b[38;5;21;01m.\u001b[39;00m\u001b[38;5;21;01mcommon\u001b[39;00m \u001b[38;5;28;01mimport\u001b[39;00m \u001b[38;5;241m*\u001b[39m\n\u001b[0;32m---> 28\u001b[0m \u001b[38;5;28;01mfrom\u001b[39;00m \u001b[38;5;21;01m.\u001b[39;00m\u001b[38;5;21;01mconversion\u001b[39;00m \u001b[38;5;28;01mimport\u001b[39;00m \u001b[38;5;241m*\u001b[39m\n\u001b[1;32m     29\u001b[0m \u001b[38;5;28;01mfrom\u001b[39;00m \u001b[38;5;21;01m.\u001b[39;00m\u001b[38;5;21;01mee_tile_layers\u001b[39;00m \u001b[38;5;28;01mimport\u001b[39;00m \u001b[38;5;241m*\u001b[39m\n\u001b[1;32m     30\u001b[0m \u001b[38;5;28;01mfrom\u001b[39;00m \u001b[38;5;21;01m.\u001b[39;00m \u001b[38;5;28;01mimport\u001b[39;00m core\n",
      "File \u001b[0;32m/Library/Frameworks/Python.framework/Versions/3.12/lib/python3.12/site-packages/geemap/conversion.py:23\u001b[0m\n\u001b[1;32m     20\u001b[0m \u001b[38;5;28;01mfrom\u001b[39;00m \u001b[38;5;21;01mcollections\u001b[39;00m \u001b[38;5;28;01mimport\u001b[39;00m deque\n\u001b[1;32m     21\u001b[0m \u001b[38;5;28;01mfrom\u001b[39;00m \u001b[38;5;21;01mpathlib\u001b[39;00m \u001b[38;5;28;01mimport\u001b[39;00m Path\n\u001b[0;32m---> 23\u001b[0m \u001b[38;5;28;01mimport\u001b[39;00m \u001b[38;5;21;01mpkg_resources\u001b[39;00m\n\u001b[1;32m     25\u001b[0m \u001b[38;5;28;01mfrom\u001b[39;00m \u001b[38;5;21;01m.\u001b[39;00m\u001b[38;5;21;01mcommon\u001b[39;00m \u001b[38;5;28;01mimport\u001b[39;00m \u001b[38;5;241m*\u001b[39m\n\u001b[1;32m     28\u001b[0m \u001b[38;5;28;01mdef\u001b[39;00m \u001b[38;5;21mfind_matching_bracket\u001b[39m(lines, start_line_index, start_char_index, matching_char\u001b[38;5;241m=\u001b[39m\u001b[38;5;124m\"\u001b[39m\u001b[38;5;124m{\u001b[39m\u001b[38;5;124m\"\u001b[39m):\n",
      "\u001b[0;31mModuleNotFoundError\u001b[0m: No module named 'pkg_resources'"
     ]
    }
   ],
   "source": [
    "import ee\n",
    "import geemap\n",
    "\n",
    "# Initialize Earth Engine\n",
    "ee.Authenticate()\n",
    "ee.Initialize()\n"
   ]
  },
  {
   "cell_type": "code",
   "execution_count": 1,
   "metadata": {},
   "outputs": [
    {
     "ename": "NameError",
     "evalue": "name 'ee' is not defined",
     "output_type": "error",
     "traceback": [
      "\u001b[0;31m---------------------------------------------------------------------------\u001b[0m",
      "\u001b[0;31mNameError\u001b[0m                                 Traceback (most recent call last)",
      "Cell \u001b[0;32mIn[1], line 2\u001b[0m\n\u001b[1;32m      1\u001b[0m \u001b[38;5;66;03m# Define the ROIs (already provided)\u001b[39;00m\n\u001b[0;32m----> 2\u001b[0m roi_for_brightness \u001b[38;5;241m=\u001b[39m \u001b[43mee\u001b[49m\u001b[38;5;241m.\u001b[39mGeometry\u001b[38;5;241m.\u001b[39mPolygon(\n\u001b[1;32m      3\u001b[0m     [[\u001b[38;5;241m163.05418845709113\u001b[39m, \u001b[38;5;241m-\u001b[39m\u001b[38;5;241m77.62217141675877\u001b[39m], \n\u001b[1;32m      4\u001b[0m     [\u001b[38;5;241m163.04800864752082\u001b[39m, \u001b[38;5;241m-\u001b[39m\u001b[38;5;241m77.61908009873933\u001b[39m], \n\u001b[1;32m      5\u001b[0m     [\u001b[38;5;241m163.0795943408802\u001b[39m, \u001b[38;5;241m-\u001b[39m\u001b[38;5;241m77.61422077772508\u001b[39m], \n\u001b[1;32m      6\u001b[0m     [\u001b[38;5;241m163.08302756841925\u001b[39m, \u001b[38;5;241m-\u001b[39m\u001b[38;5;241m77.61569349746868\u001b[39m],\n\u001b[1;32m      7\u001b[0m     [\u001b[38;5;241m163.09813376959113\u001b[39m, \u001b[38;5;241m-\u001b[39m\u001b[38;5;241m77.60950691594756\u001b[39m], \n\u001b[1;32m      8\u001b[0m     [\u001b[38;5;241m163.1407057910755\u001b[39m, \u001b[38;5;241m-\u001b[39m\u001b[38;5;241m77.60567560295046\u001b[39m], \n\u001b[1;32m      9\u001b[0m     [\u001b[38;5;241m163.15924521978644\u001b[39m, \u001b[38;5;241m-\u001b[39m\u001b[38;5;241m77.60228539245952\u001b[39m], \n\u001b[1;32m     10\u001b[0m     [\u001b[38;5;241m163.1736647754505\u001b[39m, \u001b[38;5;241m-\u001b[39m\u001b[38;5;241m77.60140083961204\u001b[39m], \n\u001b[1;32m     11\u001b[0m     [\u001b[38;5;241m163.17435142095832\u001b[39m, \u001b[38;5;241m-\u001b[39m\u001b[38;5;241m77.5996315475443\u001b[39m],\n\u001b[1;32m     12\u001b[0m     [\u001b[38;5;241m163.18259116705207\u001b[39m, \u001b[38;5;241m-\u001b[39m\u001b[38;5;241m77.59786200695194\u001b[39m],\n\u001b[1;32m     13\u001b[0m     [\u001b[38;5;241m163.19769736822394\u001b[39m, \u001b[38;5;241m-\u001b[39m\u001b[38;5;241m77.60125340809783\u001b[39m], \n\u001b[1;32m     14\u001b[0m     [\u001b[38;5;241m163.21417686041144\u001b[39m, \u001b[38;5;241m-\u001b[39m\u001b[38;5;241m77.60184312380088\u001b[39m], \n\u001b[1;32m     15\u001b[0m     [\u001b[38;5;241m163.2505690723255\u001b[39m, \u001b[38;5;241m-\u001b[39m\u001b[38;5;241m77.59874680831578\u001b[39m], \n\u001b[1;32m     16\u001b[0m     [\u001b[38;5;241m163.25812217291144\u001b[39m, \u001b[38;5;241m-\u001b[39m\u001b[38;5;241m77.60036878277327\u001b[39m],\n\u001b[1;32m     17\u001b[0m     [\u001b[38;5;241m163.25400229986457\u001b[39m, \u001b[38;5;241m-\u001b[39m\u001b[38;5;241m77.60302247238047\u001b[39m],\n\u001b[1;32m     18\u001b[0m     [\u001b[38;5;241m163.25468894537238\u001b[39m, \u001b[38;5;241m-\u001b[39m\u001b[38;5;241m77.60493867830638\u001b[39m], \n\u001b[1;32m     19\u001b[0m     [\u001b[38;5;241m163.25880881841925\u001b[39m, \u001b[38;5;241m-\u001b[39m\u001b[38;5;241m77.60670722499943\u001b[39m], \n\u001b[1;32m     20\u001b[0m     [\u001b[38;5;241m163.2334029346302\u001b[39m, \u001b[38;5;241m-\u001b[39m\u001b[38;5;241m77.60788611813062\u001b[39m], \n\u001b[1;32m     21\u001b[0m     [\u001b[38;5;241m163.21967002447394\u001b[39m, \u001b[38;5;241m-\u001b[39m\u001b[38;5;241m77.60655985559598\u001b[39m],\n\u001b[1;32m     22\u001b[0m     [\u001b[38;5;241m163.20799705084113\u001b[39m, \u001b[38;5;241m-\u001b[39m\u001b[38;5;241m77.60980158403946\u001b[39m],\n\u001b[1;32m     23\u001b[0m     [\u001b[38;5;241m163.21280356939582\u001b[39m, \u001b[38;5;241m-\u001b[39m\u001b[38;5;241m77.61156944773495\u001b[39m], \n\u001b[1;32m     24\u001b[0m     [\u001b[38;5;241m163.19357749517707\u001b[39m, \u001b[38;5;241m-\u001b[39m\u001b[38;5;241m77.61716604483516\u001b[39m], \n\u001b[1;32m     25\u001b[0m     [\u001b[38;5;241m163.18121787603644\u001b[39m, \u001b[38;5;241m-\u001b[39m\u001b[38;5;241m77.6155462332516\u001b[39m], \n\u001b[1;32m     26\u001b[0m     [\u001b[38;5;241m163.15237876470832\u001b[39m, \u001b[38;5;241m-\u001b[39m\u001b[38;5;241m77.61687154915111\u001b[39m],\n\u001b[1;32m     27\u001b[0m     [\u001b[38;5;241m163.14894553716925\u001b[39m, \u001b[38;5;241m-\u001b[39m\u001b[38;5;241m77.62025783330262\u001b[39m],\n\u001b[1;32m     28\u001b[0m     [\u001b[38;5;241m163.12010642584113\u001b[39m, \u001b[38;5;241m-\u001b[39m\u001b[38;5;241m77.62231860342517\u001b[39m], \n\u001b[1;32m     29\u001b[0m     [\u001b[38;5;241m163.10637351568488\u001b[39m, \u001b[38;5;241m-\u001b[39m\u001b[38;5;241m77.62217141675877\u001b[39m], \n\u001b[1;32m     30\u001b[0m     [\u001b[38;5;241m163.0795943408802\u001b[39m, \u001b[38;5;241m-\u001b[39m\u001b[38;5;241m77.61893287416414\u001b[39m], \n\u001b[1;32m     31\u001b[0m     [\u001b[38;5;241m163.06448813970832\u001b[39m, \u001b[38;5;241m-\u001b[39m\u001b[38;5;241m77.61849119009841\u001b[39m],\n\u001b[1;32m     32\u001b[0m     [\u001b[38;5;241m163.06723472173957\u001b[39m, \u001b[38;5;241m-\u001b[39m\u001b[38;5;241m77.62099386140082\u001b[39m],\n\u001b[1;32m     33\u001b[0m     [\u001b[38;5;241m163.06448813970832\u001b[39m, \u001b[38;5;241m-\u001b[39m\u001b[38;5;241m77.6226129715892\u001b[39m],\n\u001b[1;32m     34\u001b[0m     [\u001b[38;5;241m163.05418845709113\u001b[39m, \u001b[38;5;241m-\u001b[39m\u001b[38;5;241m77.62217141675877\u001b[39m]]\n\u001b[1;32m     35\u001b[0m )\n\u001b[1;32m     37\u001b[0m \u001b[38;5;66;03m# Define ROI for analysis\u001b[39;00m\n\u001b[1;32m     38\u001b[0m roi_for_cropping \u001b[38;5;241m=\u001b[39m ee\u001b[38;5;241m.\u001b[39mGeometry\u001b[38;5;241m.\u001b[39mPolygon([\n\u001b[1;32m     39\u001b[0m     [\u001b[38;5;241m163.24357885656732\u001b[39m,\u001b[38;5;241m-\u001b[39m\u001b[38;5;241m77.5812101682432\u001b[39m],\n\u001b[1;32m     40\u001b[0m     [\u001b[38;5;241m162.70112890539545\u001b[39m,\u001b[38;5;241m-\u001b[39m\u001b[38;5;241m77.64219641154588\u001b[39m],\n\u001b[0;32m   (...)\u001b[0m\n\u001b[1;32m     47\u001b[0m     ]\n\u001b[1;32m     48\u001b[0m     )\n",
      "\u001b[0;31mNameError\u001b[0m: name 'ee' is not defined"
     ]
    }
   ],
   "source": [
    "# Define the ROIs (already provided)\n",
    "roi_for_brightness = ee.Geometry.Polygon(\n",
    "    [[163.05418845709113, -77.62217141675877], \n",
    "    [163.04800864752082, -77.61908009873933], \n",
    "    [163.0795943408802, -77.61422077772508], \n",
    "    [163.08302756841925, -77.61569349746868],\n",
    "    [163.09813376959113, -77.60950691594756], \n",
    "    [163.1407057910755, -77.60567560295046], \n",
    "    [163.15924521978644, -77.60228539245952], \n",
    "    [163.1736647754505, -77.60140083961204], \n",
    "    [163.17435142095832, -77.5996315475443],\n",
    "    [163.18259116705207, -77.59786200695194],\n",
    "    [163.19769736822394, -77.60125340809783], \n",
    "    [163.21417686041144, -77.60184312380088], \n",
    "    [163.2505690723255, -77.59874680831578], \n",
    "    [163.25812217291144, -77.60036878277327],\n",
    "    [163.25400229986457, -77.60302247238047],\n",
    "    [163.25468894537238, -77.60493867830638], \n",
    "    [163.25880881841925, -77.60670722499943], \n",
    "    [163.2334029346302, -77.60788611813062], \n",
    "    [163.21967002447394, -77.60655985559598],\n",
    "    [163.20799705084113, -77.60980158403946],\n",
    "    [163.21280356939582, -77.61156944773495], \n",
    "    [163.19357749517707, -77.61716604483516], \n",
    "    [163.18121787603644, -77.6155462332516], \n",
    "    [163.15237876470832, -77.61687154915111],\n",
    "    [163.14894553716925, -77.62025783330262],\n",
    "    [163.12010642584113, -77.62231860342517], \n",
    "    [163.10637351568488, -77.62217141675877], \n",
    "    [163.0795943408802, -77.61893287416414], \n",
    "    [163.06448813970832, -77.61849119009841],\n",
    "    [163.06723472173957, -77.62099386140082],\n",
    "    [163.06448813970832, -77.6226129715892],\n",
    "    [163.05418845709113, -77.62217141675877]]\n",
    ")\n",
    "\n",
    "# Define ROI for analysis\n",
    "roi_for_cropping = ee.Geometry.Polygon([\n",
    "    [163.24357885656732,-77.5812101682432],\n",
    "    [162.70112890539545,-77.64219641154588],\n",
    "    [162.74919409094232,-77.66275299707411],\n",
    "    [162.38939184484857,-77.70376522386023],\n",
    "    [162.25068945227045,-77.71808776695123],\n",
    "    [162.3028745108642,-77.73968659951969],\n",
    "    [163.33146948156732,-77.61630600197311],\n",
    "    [163.24357885656732,-77.5812101682432]\n",
    "    ]\n",
    "    )"
   ]
  },
  {
   "cell_type": "code",
   "execution_count": 195,
   "metadata": {},
   "outputs": [
    {
     "data": {
      "text/html": [
       "\n",
       "            <style>\n",
       "                .geemap-dark {\n",
       "                    --jp-widgets-color: white;\n",
       "                    --jp-widgets-label-color: white;\n",
       "                    --jp-ui-font-color1: white;\n",
       "                    --jp-layout-color2: #454545;\n",
       "                    background-color: #383838;\n",
       "                }\n",
       "\n",
       "                .geemap-dark .jupyter-button {\n",
       "                    --jp-layout-color3: #383838;\n",
       "                }\n",
       "\n",
       "                .geemap-colab {\n",
       "                    background-color: var(--colab-primary-surface-color, white);\n",
       "                }\n",
       "\n",
       "                .geemap-colab .jupyter-button {\n",
       "                    --jp-layout-color3: var(--colab-primary-surface-color, white);\n",
       "                }\n",
       "            </style>\n",
       "            "
      ],
      "text/plain": [
       "<IPython.core.display.HTML object>"
      ]
     },
     "metadata": {},
     "output_type": "display_data"
    }
   ],
   "source": [
    "#define a new ROI that is potentially simpler\n",
    "roi_box = ee.Geometry.Polygon(\n",
    "    [[163.12698754679585, -77.6073690739641], \n",
    "    [163.16406640421772, -77.60946879016157], \n",
    "    [163.15445336710835, -77.61628124600912], \n",
    "    [163.11823281657124, -77.6140353843151],\n",
    "    [163.12698754679585, -77.6073690739641]]\n",
    ")"
   ]
  },
  {
   "cell_type": "code",
   "execution_count": 196,
   "metadata": {},
   "outputs": [
    {
     "data": {
      "text/html": [
       "\n",
       "            <style>\n",
       "                .geemap-dark {\n",
       "                    --jp-widgets-color: white;\n",
       "                    --jp-widgets-label-color: white;\n",
       "                    --jp-ui-font-color1: white;\n",
       "                    --jp-layout-color2: #454545;\n",
       "                    background-color: #383838;\n",
       "                }\n",
       "\n",
       "                .geemap-dark .jupyter-button {\n",
       "                    --jp-layout-color3: #383838;\n",
       "                }\n",
       "\n",
       "                .geemap-colab {\n",
       "                    background-color: var(--colab-primary-surface-color, white);\n",
       "                }\n",
       "\n",
       "                .geemap-colab .jupyter-button {\n",
       "                    --jp-layout-color3: var(--colab-primary-surface-color, white);\n",
       "                }\n",
       "            </style>\n",
       "            "
      ],
      "text/plain": [
       "<IPython.core.display.HTML object>"
      ]
     },
     "metadata": {},
     "output_type": "display_data"
    }
   ],
   "source": [
    "pointed = ee.Geometry.BBox(162.1, -77.73, 163.3, -77.59)"
   ]
  },
  {
   "cell_type": "code",
   "execution_count": 251,
   "metadata": {},
   "outputs": [
    {
     "data": {
      "text/html": [
       "\n",
       "            <style>\n",
       "                .geemap-dark {\n",
       "                    --jp-widgets-color: white;\n",
       "                    --jp-widgets-label-color: white;\n",
       "                    --jp-ui-font-color1: white;\n",
       "                    --jp-layout-color2: #454545;\n",
       "                    background-color: #383838;\n",
       "                }\n",
       "\n",
       "                .geemap-dark .jupyter-button {\n",
       "                    --jp-layout-color3: #383838;\n",
       "                }\n",
       "\n",
       "                .geemap-colab {\n",
       "                    background-color: var(--colab-primary-surface-color, white);\n",
       "                }\n",
       "\n",
       "                .geemap-colab .jupyter-button {\n",
       "                    --jp-layout-color3: var(--colab-primary-surface-color, white);\n",
       "                }\n",
       "            </style>\n",
       "            "
      ],
      "text/plain": [
       "<IPython.core.display.HTML object>"
      ]
     },
     "metadata": {},
     "output_type": "display_data"
    }
   ],
   "source": [
    "# \n",
    "ids = ee.List([\"LANDSAT_8_2016-11-02\", \"LANDSAT_8_2016-11-04\", \"LANDSAT_8_2016-11-06\", \"LANDSAT_8_2016-11-08\",\n",
    "               \"LANDSAT_8_2016-11-13\", \"LANDSAT_8_2016-11-15\", \"LANDSAT_8_2016-11-22\", \"LANDSAT_8_2016-11-24\",\n",
    "               \"LANDSAT_8_2016-11-27\", \"LANDSAT_8_2016-12-08\", \"LANDSAT_8_2016-12-10\", \"LANDSAT_8_2016-12-13\",\n",
    "               \"LANDSAT_8_2016-12-15\", \"LANDSAT_8_2016-12-17\", \"LANDSAT_8_2016-12-19\", \"LANDSAT_8_2016-12-24\",\n",
    "               \"LANDSAT_8_2017-01-02\", \"LANDSAT_8_2017-01-09\", \"LANDSAT_8_2017-01-11\", \"LANDSAT_8_2017-01-14\",\n",
    "               \"LANDSAT_8_2017-01-18\", \"LANDSAT_8_2017-01-25\", \"LANDSAT_8_2017-01-27\", \"LANDSAT_8_2017-01-30\",\n",
    "               \"LANDSAT_8_2017-11-04\", \"LANDSAT_8_2017-11-07\", \"LANDSAT_8_2017-11-18\", \"LANDSAT_8_2017-11-20\",\n",
    "               \"LANDSAT_8_2017-11-21\", \"LANDSAT_8_2017-11-25\", \"LANDSAT_8_2017-11-27\", \"LANDSAT_8_2017-11-30\",\n",
    "               \"LANDSAT_8_2017-12-02\", \"LANDSAT_8_2017-12-07\", \"LANDSAT_8_2017-12-16\", \"LANDSAT_8_2017-12-23\",\n",
    "               \"LANDSAT_8_2018-01-03\", \"LANDSAT_8_2018-01-05\", \"LANDSAT_8_2018-01-07\", \"LANDSAT_8_2018-01-10\",\n",
    "               \"LANDSAT_8_2018-01-12\", \"LANDSAT_8_2018-01-14\", \"LANDSAT_8_2018-01-19\", \"LANDSAT_8_2018-01-26\",\n",
    "               \"LANDSAT_8_2018-01-30\", \"LANDSAT_8_2018-11-05\", \"LANDSAT_8_2018-11-07\", \"LANDSAT_8_2018-11-08\",\n",
    "               \"LANDSAT_8_2018-11-12\", \"LANDSAT_8_2018-11-17\", \"LANDSAT_8_2018-11-19\", \"LANDSAT_8_2018-11-24\",\n",
    "               \"LANDSAT_8_2018-11-26\", \"LANDSAT_8_2018-11-28\", \"LANDSAT_8_2018-11-30\", \"LANDSAT_8_2018-12-05\",\n",
    "               \"LANDSAT_8_2018-12-19\", \"LANDSAT_8_2018-12-25\", \"LANDSAT_8_2018-12-30\", \"LANDSAT_8_2019-01-01\",\n",
    "               \"LANDSAT_8_2019-01-04\", \"LANDSAT_8_2019-01-06\", \"LANDSAT_8_2019-01-10\", \"LANDSAT_8_2019-01-11\",\n",
    "               \"LANDSAT_8_2019-01-15\", \"LANDSAT_8_2019-01-24\", \"LANDSAT_8_2019-01-26\", \"LANDSAT_8_2019-01-27\",\n",
    "               \"LANDSAT_8_2019-11-04\", \"LANDSAT_8_2019-11-06\", \"LANDSAT_8_2019-11-08\", \"LANDSAT_8_2019-11-10\",\n",
    "               \"LANDSAT_8_2019-11-11\", \"LANDSAT_8_2019-11-15\", \"LANDSAT_8_2019-11-17\", \"LANDSAT_8_2019-11-24\",\n",
    "               \"LANDSAT_8_2019-11-26\", \"LANDSAT_8_2019-11-27\", \"LANDSAT_8_2019-12-03\", \"LANDSAT_8_2019-12-10\",\n",
    "               \"LANDSAT_8_2019-12-12\", \"LANDSAT_8_2019-12-17\", \"LANDSAT_8_2019-12-24\", \"LANDSAT_8_2019-12-26\",\n",
    "               \"LANDSAT_8_2019-12-29\", \"LANDSAT_8_2019-12-31\", \"LANDSAT_8_2020-01-02\", \"LANDSAT_8_2020-01-11\",\n",
    "               \"LANDSAT_8_2020-01-20\", \"LANDSAT_8_2020-10-30\", \"LANDSAT_8_2020-11-08\", \"LANDSAT_8_2020-11-15\",\n",
    "               \"LANDSAT_8_2020-11-17\", \"LANDSAT_8_2020-11-19\", \"LANDSAT_8_2020-11-24\", \"LANDSAT_8_2020-11-26\",\n",
    "               \"LANDSAT_8_2020-11-28\", \"LANDSAT_8_2020-11-29\", \"LANDSAT_8_2020-12-01\", \"LANDSAT_8_2020-12-03\",\n",
    "               \"LANDSAT_8_2020-12-08\", \"LANDSAT_8_2020-12-10\", \"LANDSAT_8_2020-12-14\", \"LANDSAT_8_2020-12-15\",\n",
    "               \"LANDSAT_8_2020-12-21\", \"LANDSAT_8_2020-12-24\", \"LANDSAT_8_2020-12-26\", \"LANDSAT_8_2020-12-30\",\n",
    "               \"LANDSAT_8_2021-01-06\", \"LANDSAT_8_2021-01-13\", \"LANDSAT_8_2021-01-16\", \"LANDSAT_8_2021-01-18\",\n",
    "               \"LANDSAT_8_2021-01-22\", \"LANDSAT_8_2021-02-01\", \"LANDSAT_8_2021-10-31\", \"LANDSAT_8_2021-11-04\",\n",
    "               \"LANDSAT_8_2021-11-09\", \"LANDSAT_8_2021-11-11\", \"LANDSAT_8_2021-11-15\", \"LANDSAT_8_2021-11-20\",\n",
    "               \"LANDSAT_8_2021-11-29\", \"LANDSAT_8_2021-12-01\", \"LANDSAT_8_2021-12-02\", \"LANDSAT_8_2021-12-04\",\n",
    "               \"LANDSAT_8_2021-12-06\", \"LANDSAT_8_2021-12-08\", \"LANDSAT_8_2021-12-11\", \"LANDSAT_8_2021-12-18\",\n",
    "               \"LANDSAT_8_2021-12-20\", \"LANDSAT_8_2021-12-22\", \"LANDSAT_8_2021-12-24\", \"LANDSAT_8_2022-01-05\",\n",
    "               \"LANDSAT_8_2022-01-07\", \"LANDSAT_8_2022-01-12\", \"LANDSAT_8_2022-01-14\", \"LANDSAT_8_2022-01-16\",\n",
    "               \"LANDSAT_8_2022-01-19\", \"LANDSAT_8_2022-01-21\", \"LANDSAT_8_2022-01-25\", \"LANDSAT_8_2022-01-28\",\n",
    "               \"LANDSAT_8_2022-11-07\", \"LANDSAT_8_2022-11-14\", \"LANDSAT_8_2022-11-16\", \"LANDSAT_8_2022-11-18\",\n",
    "               \"LANDSAT_8_2022-11-19\", \"LANDSAT_8_2022-11-21\", \"LANDSAT_8_2022-11-23\", \"LANDSAT_8_2022-11-28\",\n",
    "               \"LANDSAT_8_2022-12-04\", \"LANDSAT_8_2022-12-05\", \"LANDSAT_8_2022-12-11\", \"LANDSAT_8_2022-12-16\",\n",
    "               \"LANDSAT_8_2022-12-18\",# \"LANDSAT_8_2023-01-01\", #\"LANDSAT_8_2023-01-03\", #\"LANDSAT_8_2023-01-10\",\n",
    "               \"LANDSAT_8_2023-01-15\", \"LANDSAT_8_2023-01-22\", \"LANDSAT_8_2023-01-24\", \"LANDSAT_8_2023-11-17\",\n",
    "               \"LANDSAT_8_2023-11-19\", \"LANDSAT_8_2023-11-21\", \"LANDSAT_8_2023-12-05\", \"LANDSAT_8_2023-12-07\",\n",
    "               \"LANDSAT_8_2023-12-10\", \"LANDSAT_8_2023-12-19\", \"LANDSAT_8_2023-12-28\", \"LANDSAT_8_2023-12-30\",\n",
    "               \"LANDSAT_8_2024-01-04\", \"LANDSAT_8_2024-01-11\", \"LANDSAT_8_2024-01-13\", \"LANDSAT_8_2024-01-22\",\n",
    "               \"LANDSAT_8_2024-01-24\", \"LANDSAT_8_2024-11-03\", \"LANDSAT_8_2024-11-07\", \"LANDSAT_8_2024-11-12\",\n",
    "               \"LANDSAT_8_2024-11-14\", \"LANDSAT_8_2024-11-21\", \"LANDSAT_8_2024-11-26\", \"LANDSAT_8_2024-12-09\",\n",
    "               \"LANDSAT_8_2024-12-21\"])\n",
    "\n",
    "# Define start and end date for the image collection filter\n",
    "start_date = \"2016-03-06\"\n",
    "end_date = \"2025-01-01\"\n",
    "\n",
    "# Define ROI for analysis\n",
    "roi_for_cropping = ee.Geometry.Rectangle([162.277817, -77.740157, 163.272100, -77.576571])"
   ]
  },
  {
   "cell_type": "code",
   "execution_count": 252,
   "metadata": {},
   "outputs": [
    {
     "data": {
      "text/html": [
       "\n",
       "            <style>\n",
       "                .geemap-dark {\n",
       "                    --jp-widgets-color: white;\n",
       "                    --jp-widgets-label-color: white;\n",
       "                    --jp-ui-font-color1: white;\n",
       "                    --jp-layout-color2: #454545;\n",
       "                    background-color: #383838;\n",
       "                }\n",
       "\n",
       "                .geemap-dark .jupyter-button {\n",
       "                    --jp-layout-color3: #383838;\n",
       "                }\n",
       "\n",
       "                .geemap-colab {\n",
       "                    background-color: var(--colab-primary-surface-color, white);\n",
       "                }\n",
       "\n",
       "                .geemap-colab .jupyter-button {\n",
       "                    --jp-layout-color3: var(--colab-primary-surface-color, white);\n",
       "                }\n",
       "            </style>\n",
       "            "
      ],
      "text/plain": [
       "<IPython.core.display.HTML object>"
      ]
     },
     "metadata": {},
     "output_type": "display_data"
    }
   ],
   "source": [
    "def addImageDate(image):\n",
    "    mission = image.get('SPACECRAFT_ID')\n",
    "    date = image.date().format('YYYY-MM-dd')\n",
    "    missDate = ee.String(mission).cat('_').cat(ee.String(date))\n",
    "    return image.set('missDate', missDate)"
   ]
  },
  {
   "cell_type": "code",
   "execution_count": 253,
   "metadata": {},
   "outputs": [
    {
     "data": {
      "text/html": [
       "\n",
       "            <style>\n",
       "                .geemap-dark {\n",
       "                    --jp-widgets-color: white;\n",
       "                    --jp-widgets-label-color: white;\n",
       "                    --jp-ui-font-color1: white;\n",
       "                    --jp-layout-color2: #454545;\n",
       "                    background-color: #383838;\n",
       "                }\n",
       "\n",
       "                .geemap-dark .jupyter-button {\n",
       "                    --jp-layout-color3: #383838;\n",
       "                }\n",
       "\n",
       "                .geemap-colab {\n",
       "                    background-color: var(--colab-primary-surface-color, white);\n",
       "                }\n",
       "\n",
       "                .geemap-colab .jupyter-button {\n",
       "                    --jp-layout-color3: var(--colab-primary-surface-color, white);\n",
       "                }\n",
       "            </style>\n",
       "            "
      ],
      "text/plain": [
       "<IPython.core.display.HTML object>"
      ]
     },
     "metadata": {},
     "output_type": "display_data"
    }
   ],
   "source": [
    "def mosaic_by_date(imcol):\n",
    "    # Convert the image collection to a list of images\n",
    "    imlist = imcol.toList(imcol.size())\n",
    "    \n",
    "    # Get unique dates from the image collection\n",
    "    def get_date(image):\n",
    "        return ee.Image(image).date().format(\"YYYY-MM-dd\")\n",
    "    \n",
    "    unique_dates = imlist.map(lambda im: get_date(im)).distinct()\n",
    "\n",
    "    def create_mosaic(date_str):\n",
    "        date = ee.Date(date_str)\n",
    "        \n",
    "        # Filter images for that day and create a mosaic\n",
    "        mosaic = imcol.filterDate(date, date.advance(1, 'day')).mosaic()\n",
    "        \n",
    "        return mosaic.set({\n",
    "            'system:time_start': date.millis(),\n",
    "            'system:id': date.format('YYYY-MM-dd')\n",
    "        })\n",
    "\n",
    "    # Create mosaics for each unique date\n",
    "    mosaic_imlist = unique_dates.map(create_mosaic)\n",
    "    \n",
    "    return ee.ImageCollection(mosaic_imlist)"
   ]
  },
  {
   "cell_type": "code",
   "execution_count": 254,
   "metadata": {},
   "outputs": [
    {
     "data": {
      "text/html": [
       "\n",
       "            <style>\n",
       "                .geemap-dark {\n",
       "                    --jp-widgets-color: white;\n",
       "                    --jp-widgets-label-color: white;\n",
       "                    --jp-ui-font-color1: white;\n",
       "                    --jp-layout-color2: #454545;\n",
       "                    background-color: #383838;\n",
       "                }\n",
       "\n",
       "                .geemap-dark .jupyter-button {\n",
       "                    --jp-layout-color3: #383838;\n",
       "                }\n",
       "\n",
       "                .geemap-colab {\n",
       "                    background-color: var(--colab-primary-surface-color, white);\n",
       "                }\n",
       "\n",
       "                .geemap-colab .jupyter-button {\n",
       "                    --jp-layout-color3: var(--colab-primary-surface-color, white);\n",
       "                }\n",
       "            </style>\n",
       "            "
      ],
      "text/plain": [
       "<IPython.core.display.HTML object>"
      ]
     },
     "metadata": {},
     "output_type": "display_data"
    }
   ],
   "source": [
    "# Example usage with an image collection (e.g., 'LANDSAT/LC08/C02/T1_L2')\n",
    "s2 = ee.ImageCollection('LANDSAT/LC08/C02/T2_TOA')\\\n",
    "    .select(['B2', 'B3', 'B4', 'B5', 'B6', 'B7', 'B8'])\\\n",
    "    .filterDate(start_date, end_date)\\\n",
    "    .map(addImageDate)\\\n",
    "    .filter(ee.Filter.inList(\"missDate\", ids))\\\n",
    "    .filter(ee.Filter.gt('SUN_ELEVATION',20))\\\n",
    "    .filterBounds(roi_for_cropping)\\\n",
    "    .sort('DATE_ACQUIRED')\n",
    "s3 = mosaic_by_date(s2)"
   ]
  },
  {
   "cell_type": "code",
   "execution_count": 255,
   "metadata": {},
   "outputs": [
    {
     "data": {
      "text/html": [
       "\n",
       "            <style>\n",
       "                .geemap-dark {\n",
       "                    --jp-widgets-color: white;\n",
       "                    --jp-widgets-label-color: white;\n",
       "                    --jp-ui-font-color1: white;\n",
       "                    --jp-layout-color2: #454545;\n",
       "                    background-color: #383838;\n",
       "                }\n",
       "\n",
       "                .geemap-dark .jupyter-button {\n",
       "                    --jp-layout-color3: #383838;\n",
       "                }\n",
       "\n",
       "                .geemap-colab {\n",
       "                    background-color: var(--colab-primary-surface-color, white);\n",
       "                }\n",
       "\n",
       "                .geemap-colab .jupyter-button {\n",
       "                    --jp-layout-color3: var(--colab-primary-surface-color, white);\n",
       "                }\n",
       "            </style>\n",
       "            "
      ],
      "text/plain": [
       "<IPython.core.display.HTML object>"
      ]
     },
     "metadata": {},
     "output_type": "display_data"
    },
    {
     "name": "stdout",
     "output_type": "stream",
     "text": [
      "178\n"
     ]
    }
   ],
   "source": [
    "# Clip all the images in the s3 collection down to the ROI\n",
    "def clip_image(image):\n",
    "    return image.clip(roi_for_cropping)\n",
    "\n",
    "# Apply clip to image collection\n",
    "l8_clipped = s3.map(clip_image)\n",
    "print(l8_clipped.size().getInfo())"
   ]
  },
  {
   "cell_type": "code",
   "execution_count": 256,
   "metadata": {},
   "outputs": [
    {
     "data": {
      "text/html": [
       "\n",
       "            <style>\n",
       "                .geemap-dark {\n",
       "                    --jp-widgets-color: white;\n",
       "                    --jp-widgets-label-color: white;\n",
       "                    --jp-ui-font-color1: white;\n",
       "                    --jp-layout-color2: #454545;\n",
       "                    background-color: #383838;\n",
       "                }\n",
       "\n",
       "                .geemap-dark .jupyter-button {\n",
       "                    --jp-layout-color3: #383838;\n",
       "                }\n",
       "\n",
       "                .geemap-colab {\n",
       "                    background-color: var(--colab-primary-surface-color, white);\n",
       "                }\n",
       "\n",
       "                .geemap-colab .jupyter-button {\n",
       "                    --jp-layout-color3: var(--colab-primary-surface-color, white);\n",
       "                }\n",
       "            </style>\n",
       "            "
      ],
      "text/plain": [
       "<IPython.core.display.HTML object>"
      ]
     },
     "metadata": {},
     "output_type": "display_data"
    }
   ],
   "source": [
    "# Function to calculate mean band values around a simple point\n",
    "# this function will be passed through the define endmembers \n",
    "def calculate_mean_band_values(image, point_geometry):\n",
    "    buffer = point_geometry.buffer(90)  # 3x3 Landsat pixel window\n",
    "    band_means = image.reduceRegion(\n",
    "        reducer=ee.Reducer.mean(),\n",
    "        geometry=buffer,\n",
    "        scale=30,\n",
    "        maxPixels=1e6  # Adjusted based on sample size\n",
    "    )\n",
    "    return band_means"
   ]
  },
  {
   "cell_type": "code",
   "execution_count": 257,
   "metadata": {},
   "outputs": [
    {
     "data": {
      "text/html": [
       "\n",
       "            <style>\n",
       "                .geemap-dark {\n",
       "                    --jp-widgets-color: white;\n",
       "                    --jp-widgets-label-color: white;\n",
       "                    --jp-ui-font-color1: white;\n",
       "                    --jp-layout-color2: #454545;\n",
       "                    background-color: #383838;\n",
       "                }\n",
       "\n",
       "                .geemap-dark .jupyter-button {\n",
       "                    --jp-layout-color3: #383838;\n",
       "                }\n",
       "\n",
       "                .geemap-colab {\n",
       "                    background-color: var(--colab-primary-surface-color, white);\n",
       "                }\n",
       "\n",
       "                .geemap-colab .jupyter-button {\n",
       "                    --jp-layout-color3: var(--colab-primary-surface-color, white);\n",
       "                }\n",
       "            </style>\n",
       "            "
      ],
      "text/plain": [
       "<IPython.core.display.HTML object>"
      ]
     },
     "metadata": {},
     "output_type": "display_data"
    }
   ],
   "source": [
    "# Function to define endmembers\n",
    "def define_endmembers(image, roi, n=1):\n",
    "    # Calculate brightness\n",
    "    brightness = image.select(['B2', 'B3', 'B4', 'B5', 'B6']).reduce(ee.Reducer.sum()).rename('brightness') # Red, Green, Blue, SWIR 1, SWIR 2\n",
    "\n",
    "    # Generate a grid of points\n",
    "    points = ee.FeatureCollection.randomPoints(region=roi_for_brightness, points=2000)\n",
    "\n",
    "    # Calculate brightness for each point\n",
    "    points_with_brightness = brightness.reduceRegions(\n",
    "        collection=points,\n",
    "        reducer=ee.Reducer.mean(),\n",
    "        scale=30\n",
    "        )\n",
    "\n",
    "    # Sort points by brightness\n",
    "    brightest_point = points_with_brightness.sort('brightness', False).first()\n",
    "    brightest_geometry = ee.Feature(brightest_point).geometry()\n",
    "\n",
    "    # Filter out points near the brightest point\n",
    "    #filtered_points = distinct_points.filterBounds(brightest_geometry.buffer(100))\n",
    "    filtered_points = points_with_brightness.filter(ee.Filter.bounds(brightest_geometry.buffer(100)).Not())\n",
    "\n",
    "    # Find the dimmest point from the remaining points\n",
    "    dimmest_point = filtered_points.sort('brightness', True).first()\n",
    "    dimmest_geometry = ee.Feature(dimmest_point).geometry()\n",
    "\n",
    "    # Calculate mean band values for brightest and dimmest points\n",
    "    brightest_band_means = calculate_mean_band_values(image, brightest_geometry)\n",
    "    dimmest_band_means = calculate_mean_band_values(image, dimmest_geometry)\n",
    "\n",
    "    # Combine into endmembers\n",
    "    endmembers = ee.List([\n",
    "     brightest_band_means.values(),\n",
    "     dimmest_band_means.values()\n",
    "    ])\n",
    "    return endmembers\n"
   ]
  },
  {
   "cell_type": "code",
   "execution_count": 258,
   "metadata": {},
   "outputs": [
    {
     "data": {
      "text/html": [
       "\n",
       "            <style>\n",
       "                .geemap-dark {\n",
       "                    --jp-widgets-color: white;\n",
       "                    --jp-widgets-label-color: white;\n",
       "                    --jp-ui-font-color1: white;\n",
       "                    --jp-layout-color2: #454545;\n",
       "                    background-color: #383838;\n",
       "                }\n",
       "\n",
       "                .geemap-dark .jupyter-button {\n",
       "                    --jp-layout-color3: #383838;\n",
       "                }\n",
       "\n",
       "                .geemap-colab {\n",
       "                    background-color: var(--colab-primary-surface-color, white);\n",
       "                }\n",
       "\n",
       "                .geemap-colab .jupyter-button {\n",
       "                    --jp-layout-color3: var(--colab-primary-surface-color, white);\n",
       "                }\n",
       "            </style>\n",
       "            "
      ],
      "text/plain": [
       "<IPython.core.display.HTML object>"
      ]
     },
     "metadata": {},
     "output_type": "display_data"
    },
    {
     "name": "stdout",
     "output_type": "stream",
     "text": [
      "[[0.2732388013639286, 0.22348485170861404, 0.22224443380760356, 0.2132604427298157, 0.13119586143646803, 0.12604356552718743, 0.22098158110091812], [0.5126564219713647, 0.466553205399213, 0.4799140637840029, 0.427112283621308, 0.05286415837062314, 0.05365041503961403, 0.4743895330133464]]\n"
     ]
    }
   ],
   "source": [
    "#print outputs from an example image to see if the outputs are good\n",
    "example_image = ee.Image('LANDSAT/LC08/C02/T2_TOA/LC08_055116_20231205').select(['B2', 'B3', 'B4', 'B5', 'B6', 'B7', 'B8'])\n",
    "print(define_endmembers(l8_clipped.first(), roi_for_brightness).getInfo())"
   ]
  },
  {
   "cell_type": "code",
   "execution_count": 249,
   "metadata": {},
   "outputs": [
    {
     "data": {
      "text/html": [
       "\n",
       "            <style>\n",
       "                .geemap-dark {\n",
       "                    --jp-widgets-color: white;\n",
       "                    --jp-widgets-label-color: white;\n",
       "                    --jp-ui-font-color1: white;\n",
       "                    --jp-layout-color2: #454545;\n",
       "                    background-color: #383838;\n",
       "                }\n",
       "\n",
       "                .geemap-dark .jupyter-button {\n",
       "                    --jp-layout-color3: #383838;\n",
       "                }\n",
       "\n",
       "                .geemap-colab {\n",
       "                    background-color: var(--colab-primary-surface-color, white);\n",
       "                }\n",
       "\n",
       "                .geemap-colab .jupyter-button {\n",
       "                    --jp-layout-color3: var(--colab-primary-surface-color, white);\n",
       "                }\n",
       "            </style>\n",
       "            "
      ],
      "text/plain": [
       "<IPython.core.display.HTML object>"
      ]
     },
     "metadata": {},
     "output_type": "display_data"
    }
   ],
   "source": [
    "def unmix_image_collection(image_collection, roi):\n",
    "    \n",
    "    def process_image(image):\n",
    "        # Define endmembers for the current image\n",
    "        endmembers = define_endmembers(image, roi)\n",
    "\n",
    "        # Apply the unmixing process\n",
    "        unmixed = image.select(['B2', 'B3', 'B4', 'B5', 'B6', 'B7', 'B8']).unmix(endmembers, True, True)\n",
    "\n",
    "        # Rename unmixed bands for clarity\n",
    "        #unmixed = unmixed.rename(['ice_endmember', 'soil_endmember'])\n",
    "\n",
    "        # Add properties for tracking\n",
    "        return unmixed.set('system:time_start', image.get('system:time_start'))\n",
    "\n",
    "    # Map the unmixing process over the image collection\n",
    "    unmixed_collection = image_collection.map(process_image)\n",
    "\n",
    "    return unmixed_collection"
   ]
  },
  {
   "cell_type": "code",
   "execution_count": 250,
   "metadata": {},
   "outputs": [
    {
     "data": {
      "text/html": [
       "\n",
       "            <style>\n",
       "                .geemap-dark {\n",
       "                    --jp-widgets-color: white;\n",
       "                    --jp-widgets-label-color: white;\n",
       "                    --jp-ui-font-color1: white;\n",
       "                    --jp-layout-color2: #454545;\n",
       "                    background-color: #383838;\n",
       "                }\n",
       "\n",
       "                .geemap-dark .jupyter-button {\n",
       "                    --jp-layout-color3: #383838;\n",
       "                }\n",
       "\n",
       "                .geemap-colab {\n",
       "                    background-color: var(--colab-primary-surface-color, white);\n",
       "                }\n",
       "\n",
       "                .geemap-colab .jupyter-button {\n",
       "                    --jp-layout-color3: var(--colab-primary-surface-color, white);\n",
       "                }\n",
       "            </style>\n",
       "            "
      ],
      "text/plain": [
       "<IPython.core.display.HTML object>"
      ]
     },
     "metadata": {},
     "output_type": "display_data"
    },
    {
     "ename": "EEException",
     "evalue": "Error in map(ID=162):\nImage.unmix: Element 0 of list 'endmembers[0]' must not be null.",
     "output_type": "error",
     "traceback": [
      "\u001b[0;31m---------------------------------------------------------------------------\u001b[0m",
      "\u001b[0;31mHttpError\u001b[0m                                 Traceback (most recent call last)",
      "File \u001b[0;32m/opt/anaconda3/lib/python3.11/site-packages/ee/data.py:406\u001b[0m, in \u001b[0;36m_execute_cloud_call\u001b[0;34m(call, num_retries)\u001b[0m\n\u001b[1;32m    405\u001b[0m \u001b[38;5;28;01mtry\u001b[39;00m:\n\u001b[0;32m--> 406\u001b[0m   \u001b[38;5;28;01mreturn\u001b[39;00m call\u001b[38;5;241m.\u001b[39mexecute(num_retries\u001b[38;5;241m=\u001b[39mnum_retries)\n\u001b[1;32m    407\u001b[0m \u001b[38;5;28;01mexcept\u001b[39;00m googleapiclient\u001b[38;5;241m.\u001b[39merrors\u001b[38;5;241m.\u001b[39mHttpError \u001b[38;5;28;01mas\u001b[39;00m e:\n",
      "File \u001b[0;32m/opt/anaconda3/lib/python3.11/site-packages/googleapiclient/_helpers.py:130\u001b[0m, in \u001b[0;36mpositional.<locals>.positional_decorator.<locals>.positional_wrapper\u001b[0;34m(*args, **kwargs)\u001b[0m\n\u001b[1;32m    129\u001b[0m         logger\u001b[38;5;241m.\u001b[39mwarning(message)\n\u001b[0;32m--> 130\u001b[0m \u001b[38;5;28;01mreturn\u001b[39;00m wrapped(\u001b[38;5;241m*\u001b[39margs, \u001b[38;5;241m*\u001b[39m\u001b[38;5;241m*\u001b[39mkwargs)\n",
      "File \u001b[0;32m/opt/anaconda3/lib/python3.11/site-packages/googleapiclient/http.py:938\u001b[0m, in \u001b[0;36mHttpRequest.execute\u001b[0;34m(self, http, num_retries)\u001b[0m\n\u001b[1;32m    937\u001b[0m \u001b[38;5;28;01mif\u001b[39;00m resp\u001b[38;5;241m.\u001b[39mstatus \u001b[38;5;241m>\u001b[39m\u001b[38;5;241m=\u001b[39m \u001b[38;5;241m300\u001b[39m:\n\u001b[0;32m--> 938\u001b[0m     \u001b[38;5;28;01mraise\u001b[39;00m HttpError(resp, content, uri\u001b[38;5;241m=\u001b[39m\u001b[38;5;28mself\u001b[39m\u001b[38;5;241m.\u001b[39muri)\n\u001b[1;32m    939\u001b[0m \u001b[38;5;28;01mreturn\u001b[39;00m \u001b[38;5;28mself\u001b[39m\u001b[38;5;241m.\u001b[39mpostproc(resp, content)\n",
      "\u001b[0;31mHttpError\u001b[0m: <HttpError 400 when requesting https://earthengine.googleapis.com/v1/projects/earthengine-legacy/value:compute?prettyPrint=false&alt=json returned \"Error in map(ID=162):\nImage.unmix: Element 0 of list 'endmembers[0]' must not be null.\". Details: \"Error in map(ID=162):\nImage.unmix: Element 0 of list 'endmembers[0]' must not be null.\">",
      "\nDuring handling of the above exception, another exception occurred:\n",
      "\u001b[0;31mEEException\u001b[0m                               Traceback (most recent call last)",
      "Cell \u001b[0;32mIn[250], line 4\u001b[0m\n\u001b[1;32m      2\u001b[0m result_collection \u001b[38;5;241m=\u001b[39m unmix_image_collection(image_collection \u001b[38;5;241m=\u001b[39m l8_clipped, roi \u001b[38;5;241m=\u001b[39m roi_for_brightness)\n\u001b[1;32m      3\u001b[0m \u001b[38;5;66;03m#result_collection = l8_clipped.map(unmix_image_collection(roi_for_brightness))\u001b[39;00m\n\u001b[0;32m----> 4\u001b[0m \u001b[38;5;28mprint\u001b[39m(result_collection\u001b[38;5;241m.\u001b[39mgetInfo())\n",
      "File \u001b[0;32m/opt/anaconda3/lib/python3.11/site-packages/ee/collection.py:560\u001b[0m, in \u001b[0;36mCollection.getInfo\u001b[0;34m(self)\u001b[0m\n\u001b[1;32m    547\u001b[0m \u001b[38;5;28;01mdef\u001b[39;00m \u001b[38;5;21mgetInfo\u001b[39m(\u001b[38;5;28mself\u001b[39m) \u001b[38;5;241m-\u001b[39m\u001b[38;5;241m>\u001b[39m Optional[Any]:\n\u001b[1;32m    548\u001b[0m \u001b[38;5;250m  \u001b[39m\u001b[38;5;124;03m\"\"\"Returns all the known information about this collection.\u001b[39;00m\n\u001b[1;32m    549\u001b[0m \n\u001b[1;32m    550\u001b[0m \u001b[38;5;124;03m  This function makes a REST call to to retrieve all the known information\u001b[39;00m\n\u001b[0;32m   (...)\u001b[0m\n\u001b[1;32m    558\u001b[0m \u001b[38;5;124;03m         properties.\u001b[39;00m\n\u001b[1;32m    559\u001b[0m \u001b[38;5;124;03m  \"\"\"\u001b[39;00m\n\u001b[0;32m--> 560\u001b[0m   \u001b[38;5;28;01mreturn\u001b[39;00m \u001b[38;5;28msuper\u001b[39m()\u001b[38;5;241m.\u001b[39mgetInfo()\n",
      "File \u001b[0;32m/opt/anaconda3/lib/python3.11/site-packages/ee/computedobject.py:107\u001b[0m, in \u001b[0;36mComputedObject.getInfo\u001b[0;34m(self)\u001b[0m\n\u001b[1;32m    101\u001b[0m \u001b[38;5;28;01mdef\u001b[39;00m \u001b[38;5;21mgetInfo\u001b[39m(\u001b[38;5;28mself\u001b[39m) \u001b[38;5;241m-\u001b[39m\u001b[38;5;241m>\u001b[39m Optional[Any]:\n\u001b[1;32m    102\u001b[0m \u001b[38;5;250m  \u001b[39m\u001b[38;5;124;03m\"\"\"Fetch and return information about this object.\u001b[39;00m\n\u001b[1;32m    103\u001b[0m \n\u001b[1;32m    104\u001b[0m \u001b[38;5;124;03m  Returns:\u001b[39;00m\n\u001b[1;32m    105\u001b[0m \u001b[38;5;124;03m    The object can evaluate to anything.\u001b[39;00m\n\u001b[1;32m    106\u001b[0m \u001b[38;5;124;03m  \"\"\"\u001b[39;00m\n\u001b[0;32m--> 107\u001b[0m   \u001b[38;5;28;01mreturn\u001b[39;00m data\u001b[38;5;241m.\u001b[39mcomputeValue(\u001b[38;5;28mself\u001b[39m)\n",
      "File \u001b[0;32m/opt/anaconda3/lib/python3.11/site-packages/ee/data.py:1126\u001b[0m, in \u001b[0;36mcomputeValue\u001b[0;34m(obj)\u001b[0m\n\u001b[1;32m   1123\u001b[0m body \u001b[38;5;241m=\u001b[39m {\u001b[38;5;124m'\u001b[39m\u001b[38;5;124mexpression\u001b[39m\u001b[38;5;124m'\u001b[39m: serializer\u001b[38;5;241m.\u001b[39mencode(obj, for_cloud_api\u001b[38;5;241m=\u001b[39m\u001b[38;5;28;01mTrue\u001b[39;00m)}\n\u001b[1;32m   1124\u001b[0m _maybe_populate_workload_tag(body)\n\u001b[0;32m-> 1126\u001b[0m \u001b[38;5;28;01mreturn\u001b[39;00m _execute_cloud_call(\n\u001b[1;32m   1127\u001b[0m     _get_cloud_projects()\n\u001b[1;32m   1128\u001b[0m     \u001b[38;5;241m.\u001b[39mvalue()\n\u001b[1;32m   1129\u001b[0m     \u001b[38;5;241m.\u001b[39mcompute(body\u001b[38;5;241m=\u001b[39mbody, project\u001b[38;5;241m=\u001b[39m_get_projects_path(), prettyPrint\u001b[38;5;241m=\u001b[39m\u001b[38;5;28;01mFalse\u001b[39;00m)\n\u001b[1;32m   1130\u001b[0m )[\u001b[38;5;124m'\u001b[39m\u001b[38;5;124mresult\u001b[39m\u001b[38;5;124m'\u001b[39m]\n",
      "File \u001b[0;32m/opt/anaconda3/lib/python3.11/site-packages/ee/data.py:408\u001b[0m, in \u001b[0;36m_execute_cloud_call\u001b[0;34m(call, num_retries)\u001b[0m\n\u001b[1;32m    406\u001b[0m   \u001b[38;5;28;01mreturn\u001b[39;00m call\u001b[38;5;241m.\u001b[39mexecute(num_retries\u001b[38;5;241m=\u001b[39mnum_retries)\n\u001b[1;32m    407\u001b[0m \u001b[38;5;28;01mexcept\u001b[39;00m googleapiclient\u001b[38;5;241m.\u001b[39merrors\u001b[38;5;241m.\u001b[39mHttpError \u001b[38;5;28;01mas\u001b[39;00m e:\n\u001b[0;32m--> 408\u001b[0m   \u001b[38;5;28;01mraise\u001b[39;00m _translate_cloud_exception(e)\n",
      "\u001b[0;31mEEException\u001b[0m: Error in map(ID=162):\nImage.unmix: Element 0 of list 'endmembers[0]' must not be null."
     ]
    }
   ],
   "source": [
    "# apply process to all images in collection\n",
    "result_collection = unmix_image_collection(image_collection = l8_clipped, roi = roi_for_brightness)\n",
    "#result_collection = l8_clipped.map(unmix_image_collection(roi_for_brightness))\n",
    "print(result_collection.getInfo())"
   ]
  },
  {
   "cell_type": "code",
   "execution_count": 239,
   "metadata": {},
   "outputs": [
    {
     "data": {
      "text/html": [
       "\n",
       "            <style>\n",
       "                .geemap-dark {\n",
       "                    --jp-widgets-color: white;\n",
       "                    --jp-widgets-label-color: white;\n",
       "                    --jp-ui-font-color1: white;\n",
       "                    --jp-layout-color2: #454545;\n",
       "                    background-color: #383838;\n",
       "                }\n",
       "\n",
       "                .geemap-dark .jupyter-button {\n",
       "                    --jp-layout-color3: #383838;\n",
       "                }\n",
       "\n",
       "                .geemap-colab {\n",
       "                    background-color: var(--colab-primary-surface-color, white);\n",
       "                }\n",
       "\n",
       "                .geemap-colab .jupyter-button {\n",
       "                    --jp-layout-color3: var(--colab-primary-surface-color, white);\n",
       "                }\n",
       "            </style>\n",
       "            "
      ],
      "text/plain": [
       "<IPython.core.display.HTML object>"
      ]
     },
     "metadata": {},
     "output_type": "display_data"
    },
    {
     "data": {
      "text/html": [
       "<div><style>:root {\n",
       "  --font-color-primary: var(--jp-content-font-color0, rgba(0, 0, 0, 1));\n",
       "  --font-color-secondary: var(--jp-content-font-color2, rgba(0, 0, 0, 0.6));\n",
       "  --font-color-accent: rgba(123, 31, 162, 1);\n",
       "  --border-color: var(--jp-border-color2, #e0e0e0);\n",
       "  --background-color: var(--jp-layout-color0, white);\n",
       "  --background-color-row-even: var(--jp-layout-color1, white);\n",
       "  --background-color-row-odd: var(--jp-layout-color2, #eeeeee);\n",
       "}\n",
       "\n",
       "html[theme=\"dark\"],\n",
       "body[data-theme=\"dark\"],\n",
       "body.vscode-dark {\n",
       "  --font-color-primary: rgba(255, 255, 255, 1);\n",
       "  --font-color-secondary: rgba(255, 255, 255, 0.6);\n",
       "  --font-color-accent: rgb(173, 132, 190);\n",
       "  --border-color: #2e2e2e;\n",
       "  --background-color: #111111;\n",
       "  --background-color-row-even: #111111;\n",
       "  --background-color-row-odd: #313131;\n",
       "}\n",
       "\n",
       ".ee {\n",
       "  padding: 1em;\n",
       "  line-height: 1.5em;\n",
       "  min-width: 300px;\n",
       "  max-width: 1200px;\n",
       "  overflow-y: scroll;\n",
       "  max-height: 600px;\n",
       "  border: 1px solid var(--border-color);\n",
       "  font-family: monospace;\n",
       "}\n",
       "\n",
       ".ee li {\n",
       "  list-style-type: none;\n",
       "}\n",
       "\n",
       ".ee ul {\n",
       "  padding-left: 1.5em !important;\n",
       "  margin: 0;\n",
       "}\n",
       "\n",
       ".ee > ul {\n",
       "  padding-left: 0 !important;\n",
       "}\n",
       "\n",
       ".ee-open,\n",
       ".ee-shut {\n",
       "  color: var(--font-color-secondary);\n",
       "  cursor: pointer;\n",
       "  margin: 0;\n",
       "}\n",
       "\n",
       ".ee-open:hover,\n",
       ".ee-shut:hover {\n",
       "  color: var(--font-color-primary);\n",
       "}\n",
       "\n",
       ".ee-k {\n",
       "  color: var(--font-color-accent);\n",
       "  margin-right: 6px;\n",
       "}\n",
       "\n",
       ".ee-v {\n",
       "  color: var(--font-color-primary);\n",
       "}\n",
       "\n",
       ".ee-toggle {\n",
       "  display: none;\n",
       "}\n",
       "\n",
       ".ee-shut + ul {\n",
       "  display: none;\n",
       "}\n",
       "\n",
       ".ee-open + ul {\n",
       "  display: block;\n",
       "}\n",
       "\n",
       ".ee-shut::before {\n",
       "  display: inline-block;\n",
       "  content: \"▼\";\n",
       "  margin-right: 6px;\n",
       "  transform: rotate(-90deg);\n",
       "  transition: transform 0.2s;\n",
       "}\n",
       "\n",
       ".ee-open::before {\n",
       "  transform: rotate(0deg);\n",
       "  display: inline-block;\n",
       "  content: \"▼\";\n",
       "  margin-right: 6px;\n",
       "  transition: transform 0.2s;\n",
       "}\n",
       "</style><div class='ee'><ul><li><label class='ee-shut'>Image 2023-12-10 (7 bands)<input type='checkbox' class='ee-toggle'></label><ul><li><span class='ee-k'>type:</span><span class='ee-v'>Image</span></li><li><span class='ee-k'>id:</span><span class='ee-v'>2023-12-10</span></li><li><label class='ee-shut'>bands: List (7 elements)<input type='checkbox' class='ee-toggle'></label><ul><li><label class='ee-shut'>0: \"B2\", float, EPSG:4326, 3x2 px<input type='checkbox' class='ee-toggle'></label><ul><li><span class='ee-k'>id:</span><span class='ee-v'>B2</span></li><li><span class='ee-k'>crs:</span><span class='ee-v'>EPSG:4326</span></li><li><label class='ee-shut'>crs_transform: [1, 0, 0, 0, 1, 0]<input type='checkbox' class='ee-toggle'></label><ul><li><span class='ee-k'>0:</span><span class='ee-v'>1</span></li><li><span class='ee-k'>1:</span><span class='ee-v'>0</span></li><li><span class='ee-k'>2:</span><span class='ee-v'>0</span></li><li><span class='ee-k'>3:</span><span class='ee-v'>0</span></li><li><span class='ee-k'>4:</span><span class='ee-v'>1</span></li><li><span class='ee-k'>5:</span><span class='ee-v'>0</span></li></ul></li><li><label class='ee-shut'>data_type: float<input type='checkbox' class='ee-toggle'></label><ul><li><span class='ee-k'>type:</span><span class='ee-v'>PixelType</span></li><li><span class='ee-k'>precision:</span><span class='ee-v'>float</span></li></ul></li><li><label class='ee-shut'>dimensions: [3, 2]<input type='checkbox' class='ee-toggle'></label><ul><li><span class='ee-k'>0:</span><span class='ee-v'>3</span></li><li><span class='ee-k'>1:</span><span class='ee-v'>2</span></li></ul></li><li><label class='ee-shut'>origin: [161, -79]<input type='checkbox' class='ee-toggle'></label><ul><li><span class='ee-k'>0:</span><span class='ee-v'>161</span></li><li><span class='ee-k'>1:</span><span class='ee-v'>-79</span></li></ul></li></ul></li><li><label class='ee-shut'>1: \"B3\", float, EPSG:4326, 3x2 px<input type='checkbox' class='ee-toggle'></label><ul><li><span class='ee-k'>id:</span><span class='ee-v'>B3</span></li><li><span class='ee-k'>crs:</span><span class='ee-v'>EPSG:4326</span></li><li><label class='ee-shut'>crs_transform: [1, 0, 0, 0, 1, 0]<input type='checkbox' class='ee-toggle'></label><ul><li><span class='ee-k'>0:</span><span class='ee-v'>1</span></li><li><span class='ee-k'>1:</span><span class='ee-v'>0</span></li><li><span class='ee-k'>2:</span><span class='ee-v'>0</span></li><li><span class='ee-k'>3:</span><span class='ee-v'>0</span></li><li><span class='ee-k'>4:</span><span class='ee-v'>1</span></li><li><span class='ee-k'>5:</span><span class='ee-v'>0</span></li></ul></li><li><label class='ee-shut'>data_type: float<input type='checkbox' class='ee-toggle'></label><ul><li><span class='ee-k'>type:</span><span class='ee-v'>PixelType</span></li><li><span class='ee-k'>precision:</span><span class='ee-v'>float</span></li></ul></li><li><label class='ee-shut'>dimensions: [3, 2]<input type='checkbox' class='ee-toggle'></label><ul><li><span class='ee-k'>0:</span><span class='ee-v'>3</span></li><li><span class='ee-k'>1:</span><span class='ee-v'>2</span></li></ul></li><li><label class='ee-shut'>origin: [161, -79]<input type='checkbox' class='ee-toggle'></label><ul><li><span class='ee-k'>0:</span><span class='ee-v'>161</span></li><li><span class='ee-k'>1:</span><span class='ee-v'>-79</span></li></ul></li></ul></li><li><label class='ee-shut'>2: \"B4\", float, EPSG:4326, 3x2 px<input type='checkbox' class='ee-toggle'></label><ul><li><span class='ee-k'>id:</span><span class='ee-v'>B4</span></li><li><span class='ee-k'>crs:</span><span class='ee-v'>EPSG:4326</span></li><li><label class='ee-shut'>crs_transform: [1, 0, 0, 0, 1, 0]<input type='checkbox' class='ee-toggle'></label><ul><li><span class='ee-k'>0:</span><span class='ee-v'>1</span></li><li><span class='ee-k'>1:</span><span class='ee-v'>0</span></li><li><span class='ee-k'>2:</span><span class='ee-v'>0</span></li><li><span class='ee-k'>3:</span><span class='ee-v'>0</span></li><li><span class='ee-k'>4:</span><span class='ee-v'>1</span></li><li><span class='ee-k'>5:</span><span class='ee-v'>0</span></li></ul></li><li><label class='ee-shut'>data_type: float<input type='checkbox' class='ee-toggle'></label><ul><li><span class='ee-k'>type:</span><span class='ee-v'>PixelType</span></li><li><span class='ee-k'>precision:</span><span class='ee-v'>float</span></li></ul></li><li><label class='ee-shut'>dimensions: [3, 2]<input type='checkbox' class='ee-toggle'></label><ul><li><span class='ee-k'>0:</span><span class='ee-v'>3</span></li><li><span class='ee-k'>1:</span><span class='ee-v'>2</span></li></ul></li><li><label class='ee-shut'>origin: [161, -79]<input type='checkbox' class='ee-toggle'></label><ul><li><span class='ee-k'>0:</span><span class='ee-v'>161</span></li><li><span class='ee-k'>1:</span><span class='ee-v'>-79</span></li></ul></li></ul></li><li><label class='ee-shut'>3: \"B5\", float, EPSG:4326, 3x2 px<input type='checkbox' class='ee-toggle'></label><ul><li><span class='ee-k'>id:</span><span class='ee-v'>B5</span></li><li><span class='ee-k'>crs:</span><span class='ee-v'>EPSG:4326</span></li><li><label class='ee-shut'>crs_transform: [1, 0, 0, 0, 1, 0]<input type='checkbox' class='ee-toggle'></label><ul><li><span class='ee-k'>0:</span><span class='ee-v'>1</span></li><li><span class='ee-k'>1:</span><span class='ee-v'>0</span></li><li><span class='ee-k'>2:</span><span class='ee-v'>0</span></li><li><span class='ee-k'>3:</span><span class='ee-v'>0</span></li><li><span class='ee-k'>4:</span><span class='ee-v'>1</span></li><li><span class='ee-k'>5:</span><span class='ee-v'>0</span></li></ul></li><li><label class='ee-shut'>data_type: float<input type='checkbox' class='ee-toggle'></label><ul><li><span class='ee-k'>type:</span><span class='ee-v'>PixelType</span></li><li><span class='ee-k'>precision:</span><span class='ee-v'>float</span></li></ul></li><li><label class='ee-shut'>dimensions: [3, 2]<input type='checkbox' class='ee-toggle'></label><ul><li><span class='ee-k'>0:</span><span class='ee-v'>3</span></li><li><span class='ee-k'>1:</span><span class='ee-v'>2</span></li></ul></li><li><label class='ee-shut'>origin: [161, -79]<input type='checkbox' class='ee-toggle'></label><ul><li><span class='ee-k'>0:</span><span class='ee-v'>161</span></li><li><span class='ee-k'>1:</span><span class='ee-v'>-79</span></li></ul></li></ul></li><li><label class='ee-shut'>4: \"B6\", float, EPSG:4326, 3x2 px<input type='checkbox' class='ee-toggle'></label><ul><li><span class='ee-k'>id:</span><span class='ee-v'>B6</span></li><li><span class='ee-k'>crs:</span><span class='ee-v'>EPSG:4326</span></li><li><label class='ee-shut'>crs_transform: [1, 0, 0, 0, 1, 0]<input type='checkbox' class='ee-toggle'></label><ul><li><span class='ee-k'>0:</span><span class='ee-v'>1</span></li><li><span class='ee-k'>1:</span><span class='ee-v'>0</span></li><li><span class='ee-k'>2:</span><span class='ee-v'>0</span></li><li><span class='ee-k'>3:</span><span class='ee-v'>0</span></li><li><span class='ee-k'>4:</span><span class='ee-v'>1</span></li><li><span class='ee-k'>5:</span><span class='ee-v'>0</span></li></ul></li><li><label class='ee-shut'>data_type: float<input type='checkbox' class='ee-toggle'></label><ul><li><span class='ee-k'>type:</span><span class='ee-v'>PixelType</span></li><li><span class='ee-k'>precision:</span><span class='ee-v'>float</span></li></ul></li><li><label class='ee-shut'>dimensions: [3, 2]<input type='checkbox' class='ee-toggle'></label><ul><li><span class='ee-k'>0:</span><span class='ee-v'>3</span></li><li><span class='ee-k'>1:</span><span class='ee-v'>2</span></li></ul></li><li><label class='ee-shut'>origin: [161, -79]<input type='checkbox' class='ee-toggle'></label><ul><li><span class='ee-k'>0:</span><span class='ee-v'>161</span></li><li><span class='ee-k'>1:</span><span class='ee-v'>-79</span></li></ul></li></ul></li><li><label class='ee-shut'>5: \"B7\", float, EPSG:4326, 3x2 px<input type='checkbox' class='ee-toggle'></label><ul><li><span class='ee-k'>id:</span><span class='ee-v'>B7</span></li><li><span class='ee-k'>crs:</span><span class='ee-v'>EPSG:4326</span></li><li><label class='ee-shut'>crs_transform: [1, 0, 0, 0, 1, 0]<input type='checkbox' class='ee-toggle'></label><ul><li><span class='ee-k'>0:</span><span class='ee-v'>1</span></li><li><span class='ee-k'>1:</span><span class='ee-v'>0</span></li><li><span class='ee-k'>2:</span><span class='ee-v'>0</span></li><li><span class='ee-k'>3:</span><span class='ee-v'>0</span></li><li><span class='ee-k'>4:</span><span class='ee-v'>1</span></li><li><span class='ee-k'>5:</span><span class='ee-v'>0</span></li></ul></li><li><label class='ee-shut'>data_type: float<input type='checkbox' class='ee-toggle'></label><ul><li><span class='ee-k'>type:</span><span class='ee-v'>PixelType</span></li><li><span class='ee-k'>precision:</span><span class='ee-v'>float</span></li></ul></li><li><label class='ee-shut'>dimensions: [3, 2]<input type='checkbox' class='ee-toggle'></label><ul><li><span class='ee-k'>0:</span><span class='ee-v'>3</span></li><li><span class='ee-k'>1:</span><span class='ee-v'>2</span></li></ul></li><li><label class='ee-shut'>origin: [161, -79]<input type='checkbox' class='ee-toggle'></label><ul><li><span class='ee-k'>0:</span><span class='ee-v'>161</span></li><li><span class='ee-k'>1:</span><span class='ee-v'>-79</span></li></ul></li></ul></li><li><label class='ee-shut'>6: \"B8\", float, EPSG:4326, 3x2 px<input type='checkbox' class='ee-toggle'></label><ul><li><span class='ee-k'>id:</span><span class='ee-v'>B8</span></li><li><span class='ee-k'>crs:</span><span class='ee-v'>EPSG:4326</span></li><li><label class='ee-shut'>crs_transform: [1, 0, 0, 0, 1, 0]<input type='checkbox' class='ee-toggle'></label><ul><li><span class='ee-k'>0:</span><span class='ee-v'>1</span></li><li><span class='ee-k'>1:</span><span class='ee-v'>0</span></li><li><span class='ee-k'>2:</span><span class='ee-v'>0</span></li><li><span class='ee-k'>3:</span><span class='ee-v'>0</span></li><li><span class='ee-k'>4:</span><span class='ee-v'>1</span></li><li><span class='ee-k'>5:</span><span class='ee-v'>0</span></li></ul></li><li><label class='ee-shut'>data_type: float<input type='checkbox' class='ee-toggle'></label><ul><li><span class='ee-k'>type:</span><span class='ee-v'>PixelType</span></li><li><span class='ee-k'>precision:</span><span class='ee-v'>float</span></li></ul></li><li><label class='ee-shut'>dimensions: [3, 2]<input type='checkbox' class='ee-toggle'></label><ul><li><span class='ee-k'>0:</span><span class='ee-v'>3</span></li><li><span class='ee-k'>1:</span><span class='ee-v'>2</span></li></ul></li><li><label class='ee-shut'>origin: [161, -79]<input type='checkbox' class='ee-toggle'></label><ul><li><span class='ee-k'>0:</span><span class='ee-v'>161</span></li><li><span class='ee-k'>1:</span><span class='ee-v'>-79</span></li></ul></li></ul></li></ul></li><li><label class='ee-shut'>properties: Object (3 properties)<input type='checkbox' class='ee-toggle'></label><ul><li><label class='ee-shut'>system:footprint: Polygon (5 vertices)<input type='checkbox' class='ee-toggle'></label><ul><li><span class='ee-k'>type:</span><span class='ee-v'>Polygon</span></li><li><label class='ee-shut'>coordinates: List (1 element)<input type='checkbox' class='ee-toggle'></label><ul><li><label class='ee-shut'>0: List (5 elements)<input type='checkbox' class='ee-toggle'></label><ul><li><label class='ee-shut'>0: [162.277817, -77.740157]<input type='checkbox' class='ee-toggle'></label><ul><li><span class='ee-k'>0:</span><span class='ee-v'>162.277817</span></li><li><span class='ee-k'>1:</span><span class='ee-v'>-77.740157</span></li></ul></li><li><label class='ee-shut'>1: [163.2721, -77.740157]<input type='checkbox' class='ee-toggle'></label><ul><li><span class='ee-k'>0:</span><span class='ee-v'>163.2721</span></li><li><span class='ee-k'>1:</span><span class='ee-v'>-77.740157</span></li></ul></li><li><label class='ee-shut'>2: [163.2721, -77.576571]<input type='checkbox' class='ee-toggle'></label><ul><li><span class='ee-k'>0:</span><span class='ee-v'>163.2721</span></li><li><span class='ee-k'>1:</span><span class='ee-v'>-77.576571</span></li></ul></li><li><label class='ee-shut'>3: [162.277817, -77.576571]<input type='checkbox' class='ee-toggle'></label><ul><li><span class='ee-k'>0:</span><span class='ee-v'>162.277817</span></li><li><span class='ee-k'>1:</span><span class='ee-v'>-77.576571</span></li></ul></li><li><label class='ee-shut'>4: [162.277817, -77.740157]<input type='checkbox' class='ee-toggle'></label><ul><li><span class='ee-k'>0:</span><span class='ee-v'>162.277817</span></li><li><span class='ee-k'>1:</span><span class='ee-v'>-77.740157</span></li></ul></li></ul></li></ul></li></ul></li><li><span class='ee-k'>system:index:</span><span class='ee-v'>163</span></li><li><span class='ee-k'>system:time_start:</span><span class='ee-v'>1702166400000</span></li></ul></li></ul></li></ul></div><script>function toggleHeader() {\n",
       "    const parent = this.parentElement;\n",
       "    parent.className = parent.className === \"ee-open\" ? \"ee-shut\" : \"ee-open\";\n",
       "}\n",
       "\n",
       "for (let c of document.getElementsByClassName(\"ee-toggle\")) {\n",
       "    c.onclick = toggleHeader;\n",
       "}</script></div>"
      ],
      "text/plain": [
       "<ee.image.Image at 0x124c2d690>"
      ]
     },
     "metadata": {},
     "output_type": "display_data"
    },
    {
     "data": {
      "application/vnd.jupyter.widget-view+json": {
       "model_id": "680e630af7c54aa38c72e24b4b5e37d8",
       "version_major": 2,
       "version_minor": 0
      },
      "text/plain": [
       "Map(center=[-77.61073139024238, 163.15799378173344], controls=(WidgetControl(options=['position', 'transparent…"
      ]
     },
     "metadata": {},
     "output_type": "display_data"
    }
   ],
   "source": [
    "### what's going on with this ID 58 image? can we just get rid of it? \n",
    "image_id = \"163\"\n",
    "filtered_image = l8_clipped.filterMetadata(\"system:index\", \"equals\", image_id).first()\n",
    "\n",
    "display(filtered_image)\n",
    "\n",
    "vis_params = {\n",
    "    'bands': ['B4', 'B3', 'B2'],  # Red, Green, Blue bands (for Sentinel-2 or Landsat 8)\n",
    "    'min': 0,\n",
    "    'max': 1,  # Adjust based on the dataset's reflectance range\n",
    "    'gamma': 1.4  # Optional, enhances contrast\n",
    "}\n",
    "\n",
    "\n",
    "#Plot to confirm output\n",
    "Map = geemap.Map(zoom=10, center=[-77.616808, 163.077952])\n",
    "Map.centerObject(roi_for_brightness, 10)\n",
    "Map.addLayer(filtered_image, vis_params)\n",
    "Map.addLayer(roi_for_brightness)\n",
    "\n",
    "Map\n",
    "\n"
   ]
  },
  {
   "cell_type": "code",
   "execution_count": 148,
   "metadata": {},
   "outputs": [
    {
     "data": {
      "text/html": [
       "\n",
       "            <style>\n",
       "                .geemap-dark {\n",
       "                    --jp-widgets-color: white;\n",
       "                    --jp-widgets-label-color: white;\n",
       "                    --jp-ui-font-color1: white;\n",
       "                    --jp-layout-color2: #454545;\n",
       "                    background-color: #383838;\n",
       "                }\n",
       "\n",
       "                .geemap-dark .jupyter-button {\n",
       "                    --jp-layout-color3: #383838;\n",
       "                }\n",
       "\n",
       "                .geemap-colab {\n",
       "                    background-color: var(--colab-primary-surface-color, white);\n",
       "                }\n",
       "\n",
       "                .geemap-colab .jupyter-button {\n",
       "                    --jp-layout-color3: var(--colab-primary-surface-color, white);\n",
       "                }\n",
       "            </style>\n",
       "            "
      ],
      "text/plain": [
       "<IPython.core.display.HTML object>"
      ]
     },
     "metadata": {},
     "output_type": "display_data"
    }
   ],
   "source": [
    "# export the images in the unmixed collection\n",
    "def export_image(image):\n",
    "    date_str = ee.Date(image.get('system:time_start')).format('YYYY-MM-dd').getInfo()\n",
    "    task = ee.batch.Export.image.toDrive(\n",
    "        image=image,\n",
    "        description=f'unmixed_images_{date_str}',\n",
    "        folder='EarthEngine',  # Replace with your folder name\n",
    "        scale=30,                 # Define the scale (e.g., 30 meters per pixel)\n",
    "        crs='EPSG:3031',          # Define the Coordinate Reference System\n",
    "        region=pointed,  # Define the region to export\n",
    "        fileNamePrefix=f'LANDSAT_unmix_feb18_{date_str}'\n",
    "    )\n",
    "    task.start()\n",
    "    print(f\"Export started for image with date {date_str}.\")\n",
    "    "
   ]
  },
  {
   "cell_type": "code",
   "execution_count": 149,
   "metadata": {},
   "outputs": [
    {
     "data": {
      "text/html": [
       "\n",
       "            <style>\n",
       "                .geemap-dark {\n",
       "                    --jp-widgets-color: white;\n",
       "                    --jp-widgets-label-color: white;\n",
       "                    --jp-ui-font-color1: white;\n",
       "                    --jp-layout-color2: #454545;\n",
       "                    background-color: #383838;\n",
       "                }\n",
       "\n",
       "                .geemap-dark .jupyter-button {\n",
       "                    --jp-layout-color3: #383838;\n",
       "                }\n",
       "\n",
       "                .geemap-colab {\n",
       "                    background-color: var(--colab-primary-surface-color, white);\n",
       "                }\n",
       "\n",
       "                .geemap-colab .jupyter-button {\n",
       "                    --jp-layout-color3: var(--colab-primary-surface-color, white);\n",
       "                }\n",
       "            </style>\n",
       "            "
      ],
      "text/plain": [
       "<IPython.core.display.HTML object>"
      ]
     },
     "metadata": {},
     "output_type": "display_data"
    },
    {
     "name": "stdout",
     "output_type": "stream",
     "text": [
      "Export started for image with date 2016-11-02.\n",
      "Export started for image with date 2016-11-04.\n",
      "Export started for image with date 2016-11-06.\n",
      "Export started for image with date 2016-11-08.\n",
      "Export started for image with date 2016-11-13.\n",
      "Export started for image with date 2016-11-15.\n",
      "Export started for image with date 2016-12-10.\n",
      "Export started for image with date 2016-12-13.\n",
      "Export started for image with date 2016-12-15.\n",
      "Export started for image with date 2016-12-17.\n",
      "Export started for image with date 2016-12-19.\n",
      "Export started for image with date 2016-12-24.\n",
      "Export started for image with date 2017-01-02.\n",
      "Export started for image with date 2017-01-11.\n",
      "Export started for image with date 2017-01-14.\n",
      "Export started for image with date 2017-01-18.\n",
      "Export started for image with date 2017-01-25.\n",
      "Export started for image with date 2017-01-27.\n",
      "Export started for image with date 2017-01-30.\n",
      "Export started for image with date 2017-02-01.\n",
      "Export started for image with date 2017-11-04.\n",
      "Export started for image with date 2017-11-07.\n",
      "Export started for image with date 2017-11-18.\n",
      "Export started for image with date 2017-11-20.\n",
      "Export started for image with date 2017-11-21.\n",
      "Export started for image with date 2017-11-25.\n",
      "Export started for image with date 2017-11-27.\n",
      "Export started for image with date 2017-11-30.\n",
      "Export started for image with date 2017-12-02.\n",
      "Export started for image with date 2017-12-07.\n",
      "Export started for image with date 2017-12-16.\n",
      "Export started for image with date 2017-12-23.\n",
      "Export started for image with date 2018-01-03.\n",
      "Export started for image with date 2018-01-05.\n",
      "Export started for image with date 2018-01-07.\n",
      "Export started for image with date 2018-01-10.\n",
      "Export started for image with date 2018-01-12.\n",
      "Export started for image with date 2018-01-14.\n",
      "Export started for image with date 2018-01-19.\n",
      "Export started for image with date 2018-01-26.\n",
      "Export started for image with date 2018-01-30.\n",
      "Export started for image with date 2018-11-05.\n",
      "Export started for image with date 2018-11-07.\n",
      "Export started for image with date 2018-11-08.\n",
      "Export started for image with date 2018-11-12.\n",
      "Export started for image with date 2018-11-17.\n",
      "Export started for image with date 2018-11-19.\n",
      "Export started for image with date 2018-11-23.\n",
      "Export started for image with date 2018-11-24.\n",
      "Export started for image with date 2018-11-26.\n",
      "Export started for image with date 2018-11-28.\n",
      "Export started for image with date 2018-11-30.\n",
      "Export started for image with date 2018-12-05.\n",
      "Export started for image with date 2018-12-30.\n",
      "Export started for image with date 2019-01-01.\n",
      "Export started for image with date 2019-01-04.\n",
      "Export started for image with date 2019-01-06.\n",
      "Export started for image with date 2019-01-10.\n",
      "Export started for image with date 2019-01-11.\n",
      "Export started for image with date 2019-01-15.\n",
      "Export started for image with date 2019-01-24.\n",
      "Export started for image with date 2019-01-26.\n",
      "Export started for image with date 2019-11-06.\n",
      "Export started for image with date 2019-11-08.\n",
      "Export started for image with date 2019-11-10.\n",
      "Export started for image with date 2019-11-11.\n",
      "Export started for image with date 2019-11-15.\n",
      "Export started for image with date 2019-11-17.\n",
      "Export started for image with date 2019-11-24.\n",
      "Export started for image with date 2019-11-26.\n",
      "Export started for image with date 2019-11-27.\n",
      "Export started for image with date 2019-12-03.\n",
      "Export started for image with date 2019-12-17.\n",
      "Export started for image with date 2019-12-24.\n",
      "Export started for image with date 2019-12-26.\n",
      "Export started for image with date 2019-12-31.\n",
      "Export started for image with date 2020-01-02.\n",
      "Export started for image with date 2020-01-11.\n",
      "Export started for image with date 2020-01-20.\n",
      "Export started for image with date 2020-10-30.\n",
      "Export started for image with date 2020-11-15.\n",
      "Export started for image with date 2020-11-17.\n",
      "Export started for image with date 2020-11-19.\n",
      "Export started for image with date 2020-11-24.\n",
      "Export started for image with date 2020-11-26.\n",
      "Export started for image with date 2020-11-28.\n",
      "Export started for image with date 2020-11-29.\n",
      "Export started for image with date 2020-12-01.\n",
      "Export started for image with date 2020-12-03.\n",
      "Export started for image with date 2020-12-08.\n",
      "Export started for image with date 2020-12-10.\n",
      "Export started for image with date 2020-12-14.\n",
      "Export started for image with date 2020-12-15.\n",
      "Export started for image with date 2020-12-21.\n",
      "Export started for image with date 2020-12-24.\n",
      "Export started for image with date 2020-12-26.\n",
      "Export started for image with date 2020-12-30.\n",
      "Export started for image with date 2021-01-06.\n",
      "Export started for image with date 2021-01-13.\n",
      "Export started for image with date 2021-01-15.\n",
      "Export started for image with date 2021-01-16.\n",
      "Export started for image with date 2021-01-18.\n",
      "Export started for image with date 2021-01-22.\n",
      "Export started for image with date 2021-02-01.\n",
      "Export started for image with date 2021-10-31.\n",
      "Export started for image with date 2021-11-04.\n",
      "Export started for image with date 2021-11-09.\n",
      "Export started for image with date 2021-11-11.\n",
      "Export started for image with date 2021-11-15.\n",
      "Export started for image with date 2021-11-20.\n",
      "Export started for image with date 2021-12-01.\n",
      "Export started for image with date 2021-12-02.\n",
      "Export started for image with date 2021-12-04.\n",
      "Export started for image with date 2021-12-06.\n",
      "Export started for image with date 2021-12-08.\n",
      "Export started for image with date 2021-12-11.\n",
      "Export started for image with date 2021-12-18.\n",
      "Export started for image with date 2021-12-20.\n",
      "Export started for image with date 2021-12-22.\n",
      "Export started for image with date 2021-12-24.\n",
      "Export started for image with date 2022-01-05.\n",
      "Export started for image with date 2022-01-07.\n",
      "Export started for image with date 2022-01-12.\n",
      "Export started for image with date 2022-01-14.\n",
      "Export started for image with date 2022-01-16.\n",
      "Export started for image with date 2022-01-19.\n",
      "Export started for image with date 2022-01-25.\n",
      "Export started for image with date 2022-01-28.\n",
      "Export started for image with date 2022-11-14.\n",
      "Export started for image with date 2022-11-16.\n",
      "Export started for image with date 2022-11-18.\n",
      "Export started for image with date 2022-11-19.\n",
      "Export started for image with date 2022-11-21.\n",
      "Export started for image with date 2022-11-23.\n",
      "Export started for image with date 2022-11-28.\n",
      "Export started for image with date 2022-12-04.\n",
      "Export started for image with date 2022-12-05.\n",
      "Export started for image with date 2022-12-11.\n",
      "Export started for image with date 2022-12-16.\n",
      "Export started for image with date 2022-12-18.\n",
      "Export started for image with date 2023-01-01.\n",
      "Export started for image with date 2023-01-03.\n",
      "Export started for image with date 2023-01-10.\n",
      "Export started for image with date 2023-01-15.\n",
      "Export started for image with date 2023-01-22.\n",
      "Export started for image with date 2023-01-24.\n",
      "Export started for image with date 2023-11-01.\n",
      "Export started for image with date 2023-11-17.\n",
      "Export started for image with date 2023-11-19.\n",
      "Export started for image with date 2023-11-21.\n",
      "Export started for image with date 2023-12-05.\n",
      "Export started for image with date 2023-12-07.\n",
      "Export started for image with date 2023-12-19.\n",
      "Export started for image with date 2023-12-28.\n",
      "Export started for image with date 2023-12-30.\n",
      "Export started for image with date 2024-01-04.\n",
      "Export started for image with date 2024-01-13.\n",
      "Export started for image with date 2024-01-22.\n",
      "Export started for image with date 2024-01-24.\n"
     ]
    }
   ],
   "source": [
    "# need to make sure the unmixed collection is called here, not the l8_clipped variable. \n",
    "def process_images():\n",
    "    image_list = result_collection.toList(result_collection.size().getInfo())\n",
    "    num_images = image_list.size().getInfo()\n",
    "    \n",
    "    for i in range(num_images):\n",
    "        image = ee.Image(image_list.get(i))\n",
    "        export_image(image)\n",
    "\n",
    "process_images()"
   ]
  },
  {
   "cell_type": "code",
   "execution_count": 84,
   "metadata": {},
   "outputs": [
    {
     "data": {
      "text/html": [
       "\n",
       "            <style>\n",
       "                .geemap-dark {\n",
       "                    --jp-widgets-color: white;\n",
       "                    --jp-widgets-label-color: white;\n",
       "                    --jp-ui-font-color1: white;\n",
       "                    --jp-layout-color2: #454545;\n",
       "                    background-color: #383838;\n",
       "                }\n",
       "\n",
       "                .geemap-dark .jupyter-button {\n",
       "                    --jp-layout-color3: #383838;\n",
       "                }\n",
       "\n",
       "                .geemap-colab {\n",
       "                    background-color: var(--colab-primary-surface-color, white);\n",
       "                }\n",
       "\n",
       "                .geemap-colab .jupyter-button {\n",
       "                    --jp-layout-color3: var(--colab-primary-surface-color, white);\n",
       "                }\n",
       "            </style>\n",
       "            "
      ],
      "text/plain": [
       "<IPython.core.display.HTML object>"
      ]
     },
     "metadata": {},
     "output_type": "display_data"
    },
    {
     "data": {
      "application/vnd.jupyter.widget-view+json": {
       "model_id": "3a936b2f45694bfbade5d4abe9f138c7",
       "version_major": 2,
       "version_minor": 0
      },
      "text/plain": [
       "Map(center=[-77.61073139024238, 163.15799378173344], controls=(WidgetControl(options=['position', 'transparent…"
      ]
     },
     "metadata": {},
     "output_type": "display_data"
    }
   ],
   "source": [
    "#Plot to confirm output\n",
    "Map = geemap.Map(zoom=10, center=[-77.616808, 163.077952])\n",
    "Map.centerObject(roi_for_brightness, 10)\n",
    "Map.addLayer(roi_for_brightness)\n",
    "Map.addLayer(result_collection.first())\n",
    "Map"
   ]
  },
  {
   "cell_type": "code",
   "execution_count": 27,
   "metadata": {},
   "outputs": [
    {
     "data": {
      "text/html": [
       "\n",
       "            <style>\n",
       "                .geemap-dark {\n",
       "                    --jp-widgets-color: white;\n",
       "                    --jp-widgets-label-color: white;\n",
       "                    --jp-ui-font-color1: white;\n",
       "                    --jp-layout-color2: #454545;\n",
       "                    background-color: #383838;\n",
       "                }\n",
       "\n",
       "                .geemap-dark .jupyter-button {\n",
       "                    --jp-layout-color3: #383838;\n",
       "                }\n",
       "\n",
       "                .geemap-colab {\n",
       "                    background-color: var(--colab-primary-surface-color, white);\n",
       "                }\n",
       "\n",
       "                .geemap-colab .jupyter-button {\n",
       "                    --jp-layout-color3: var(--colab-primary-surface-color, white);\n",
       "                }\n",
       "            </style>\n",
       "            "
      ],
      "text/plain": [
       "<IPython.core.display.HTML object>"
      ]
     },
     "metadata": {},
     "output_type": "display_data"
    }
   ],
   "source": [
    "image = ee.Image('LANDSAT/LC08/C02/T2_TOA/LC08_055116_20231205').select(['B2', 'B3', 'B4', 'B5', 'B6', 'B7', 'B8'])\n",
    "brightness = image.select(['B2', 'B3', 'B4', 'B5', 'B6']).reduce(ee.Reducer.sum()).rename('brightness')\n",
    "\n",
    "    # Generate a grid of points\n",
    "points = ee.FeatureCollection.randomPoints(region=roi_for_brightness, points=2000)\n",
    "\n",
    "    # Calculate brightness for each point\n",
    "points_with_brightness = brightness.reduceRegions(\n",
    "        collection=points,\n",
    "        reducer=ee.Reducer.mean(),\n",
    "        scale=30\n",
    "        )\n",
    "\n",
    "    # Sort points by brightness\n",
    "brightest_point = points_with_brightness.sort('brightness', False).first()\n",
    "brightest_geometry = ee.Feature(brightest_point).geometry()\n",
    "\n",
    "    # Filter out points near the brightest point\n",
    "    #filtered_points = distinct_points.filterBounds(brightest_geometry.buffer(100))\n",
    "filtered_points = points_with_brightness.filter(ee.Filter.bounds(brightest_geometry.buffer(100)).Not())\n",
    "\n",
    "    # Find the dimmest point from the remaining points\n",
    "dimmest_point = filtered_points.sort('brightness', True).first()\n",
    "dimmest_geometry = ee.Feature(dimmest_point).geometry()\n",
    "\n",
    "    # Calculate mean band values for brightest and dimmest points\n",
    "brightest_band_means = calculate_mean_band_values(image, brightest_geometry)\n",
    "dimmest_band_means = calculate_mean_band_values(image, dimmest_geometry)\n",
    "\n",
    "    # Combine into endmembers\n",
    "endmembers = ee.List([\n",
    "     brightest_band_means.values(),\n",
    "     dimmest_band_means.values()\n",
    "    ])"
   ]
  },
  {
   "cell_type": "code",
   "execution_count": 29,
   "metadata": {},
   "outputs": [
    {
     "data": {
      "text/html": [
       "\n",
       "            <style>\n",
       "                .geemap-dark {\n",
       "                    --jp-widgets-color: white;\n",
       "                    --jp-widgets-label-color: white;\n",
       "                    --jp-ui-font-color1: white;\n",
       "                    --jp-layout-color2: #454545;\n",
       "                    background-color: #383838;\n",
       "                }\n",
       "\n",
       "                .geemap-dark .jupyter-button {\n",
       "                    --jp-layout-color3: #383838;\n",
       "                }\n",
       "\n",
       "                .geemap-colab {\n",
       "                    background-color: var(--colab-primary-surface-color, white);\n",
       "                }\n",
       "\n",
       "                .geemap-colab .jupyter-button {\n",
       "                    --jp-layout-color3: var(--colab-primary-surface-color, white);\n",
       "                }\n",
       "            </style>\n",
       "            "
      ],
      "text/plain": [
       "<IPython.core.display.HTML object>"
      ]
     },
     "metadata": {},
     "output_type": "display_data"
    },
    {
     "data": {
      "application/vnd.jupyter.widget-view+json": {
       "model_id": "6f8c9b29f59d4c6e94f7bee8df1609ee",
       "version_major": 2,
       "version_minor": 0
      },
      "text/plain": [
       "Map(center=[-77.61073139024238, 163.15799378173344], controls=(WidgetControl(options=['position', 'transparent…"
      ]
     },
     "metadata": {},
     "output_type": "display_data"
    }
   ],
   "source": [
    "vis_params = {\n",
    "    'bands': ['B4', 'B3', 'B2'],  # Red, Green, Blue bands (for Sentinel-2 or Landsat 8)\n",
    "    'min': 0,\n",
    "    'max': 3000,  # Adjust based on the dataset's reflectance range\n",
    "    'gamma': 1.4  # Optional, enhances contrast\n",
    "}\n",
    "\n",
    "#Plot to confirm output\n",
    "Map = geemap.Map(zoom=10, center=[-77.616808, 163.077952])\n",
    "Map.centerObject(roi_for_brightness, 10)\n",
    "Map.addLayer(image, vis_params)\n",
    "Map.addLayer(result_collection.first())\n",
    "#Map.addLayer(brightness)\n",
    "Map.addLayer(roi_for_brightness)\n",
    "\n",
    "Map"
   ]
  }
 ],
 "metadata": {
  "kernelspec": {
   "display_name": "base",
   "language": "python",
   "name": "python3"
  },
  "language_info": {
   "codemirror_mode": {
    "name": "ipython",
    "version": 3
   },
   "file_extension": ".py",
   "mimetype": "text/x-python",
   "name": "python",
   "nbconvert_exporter": "python",
   "pygments_lexer": "ipython3",
   "version": "3.12.6"
  }
 },
 "nbformat": 4,
 "nbformat_minor": 2
}
