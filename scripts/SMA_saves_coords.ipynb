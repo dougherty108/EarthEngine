{
 "cells": [
  {
   "cell_type": "code",
   "execution_count": 1,
   "metadata": {},
   "outputs": [],
   "source": [
    "import ee\n",
    "import pandas as pd\n",
    "\n",
    "# Initialize Earth Engine\n",
    "ee.Initialize()\n"
   ]
  },
  {
   "cell_type": "code",
   "execution_count": 2,
   "metadata": {},
   "outputs": [],
   "source": [
    "# Define a region of interest (ROI)\n",
    "roi = ee.Geometry.Point([-122.262, 37.8719]).buffer(10000)\n",
    "\n",
    "# Define the ROIs (already provided)\n",
    "roi_for_brightness = ee.Geometry.Polygon(\n",
    "    [[163.05418845709113, -77.62217141675877], \n",
    "    [163.04800864752082, -77.61908009873933], \n",
    "    [163.0795943408802, -77.61422077772508], \n",
    "    [163.08302756841925, -77.61569349746868],\n",
    "    [163.09813376959113, -77.60950691594756], \n",
    "    [163.1407057910755, -77.60567560295046], \n",
    "    [163.15924521978644, -77.60228539245952], \n",
    "    [163.1736647754505, -77.60140083961204], \n",
    "    [163.17435142095832, -77.5996315475443],\n",
    "    [163.18259116705207, -77.59786200695194],\n",
    "    [163.19769736822394, -77.60125340809783], \n",
    "    [163.21417686041144, -77.60184312380088], \n",
    "    [163.2505690723255, -77.59874680831578], \n",
    "    [163.25812217291144, -77.60036878277327],\n",
    "    [163.25400229986457, -77.60302247238047],\n",
    "    [163.25468894537238, -77.60493867830638], \n",
    "    [163.25880881841925, -77.60670722499943], \n",
    "    [163.2334029346302, -77.60788611813062], \n",
    "    [163.21967002447394, -77.60655985559598],\n",
    "    [163.20799705084113, -77.60980158403946],\n",
    "    [163.21280356939582, -77.61156944773495], \n",
    "    [163.19357749517707, -77.61716604483516], \n",
    "    [163.18121787603644, -77.6155462332516], \n",
    "    [163.15237876470832, -77.61687154915111],\n",
    "    [163.14894553716925, -77.62025783330262],\n",
    "    [163.12010642584113, -77.62231860342517], \n",
    "    [163.10637351568488, -77.62217141675877], \n",
    "    [163.0795943408802, -77.61893287416414], \n",
    "    [163.06448813970832, -77.61849119009841],\n",
    "    [163.06723472173957, -77.62099386140082],\n",
    "    [163.06448813970832, -77.6226129715892],\n",
    "    [163.05418845709113, -77.62217141675877]]\n",
    ")\n"
   ]
  },
  {
   "cell_type": "code",
   "execution_count": 3,
   "metadata": {},
   "outputs": [],
   "source": [
    "# Load the ImageCollection (Landsat 8 example)\n",
    "image_collection = ee.ImageCollection(\"LANDSAT/LC08/C02/T1_TOA\") \\\n",
    "    .filterDate(\"2023-01-01\", \"2023-12-31\") \\\n",
    "    .filterBounds(roi_for_brightness) \\\n",
    "    .select(['B2', 'B3', 'B4', 'B5', 'B6'])  # Blue, Green, Red, NIR, SWIR\n"
   ]
  },
  {
   "cell_type": "code",
   "execution_count": 4,
   "metadata": {},
   "outputs": [],
   "source": [
    "# Function to calculate mean band values\n",
    "def calculate_mean_band_values(image, point_geometry):\n",
    "    buffer = point_geometry.buffer(90)  # 3x3 Landsat pixel window\n",
    "    band_means = image.reduceRegion(\n",
    "        reducer=ee.Reducer.mean(),\n",
    "        geometry=buffer,\n",
    "        scale=30,\n",
    "        maxPixels=1e6\n",
    "    )\n",
    "    return band_means"
   ]
  },
  {
   "cell_type": "code",
   "execution_count": 5,
   "metadata": {},
   "outputs": [],
   "source": [
    "# Function to define endmembers and retain geometries\n",
    "def define_endmembers(image):\n",
    "    brightness = image.select(['B2', 'B3', 'B4', 'B5', 'B6']).reduce(ee.Reducer.sum()).rename('brightness')\n",
    "\n",
    "    # Generate 2000 random points in ROI\n",
    "    points = ee.FeatureCollection.randomPoints(region=roi_for_brightness, points=2000)\n",
    "\n",
    "    # Compute brightness at each point\n",
    "    points_with_brightness = brightness.reduceRegions(\n",
    "        collection=points,\n",
    "        reducer=ee.Reducer.mean(),\n",
    "        scale=30\n",
    "    )\n",
    "\n",
    "    # Sort points by brightness\n",
    "    sorted_points = points_with_brightness.sort('brightness', False)  # Brightest first\n",
    "    top_bright = sorted_points.toList(1)\n",
    "    bright_geom = ee.FeatureCollection(top_bright).geometry()\n",
    "\n",
    "    # Filter out points near the brightest point\n",
    "    filtered_points = points_with_brightness.filter(ee.Filter.bounds(bright_geom.buffer(100)).Not())\n",
    "    sorted_filtered = filtered_points.sort('brightness', True)  # Dimmest first\n",
    "    bottom_dim = sorted_filtered.toList(1)\n",
    "    dim_geom = ee.FeatureCollection(bottom_dim).geometry()\n",
    "\n",
    "    # Compute mean band values for the brightest and dimmest points\n",
    "    bright_means = calculate_mean_band_values(image, bright_geom)\n",
    "    dim_means = calculate_mean_band_values(image, dim_geom)\n",
    "\n",
    "    # Create a Feature storing all relevant data\n",
    "    feature = ee.Feature(None, {\n",
    "        'date': image.date().format('YYYY-MM-dd'),\n",
    "        'bright_lat': bright_geom.centroid().coordinates().get(1),\n",
    "        'bright_lon': bright_geom.centroid().coordinates().get(0),\n",
    "        'dim_lat': dim_geom.centroid().coordinates().get(1),\n",
    "        'dim_lon': dim_geom.centroid().coordinates().get(0),\n",
    "        'bright_B2': bright_means.get('B2'),\n",
    "        'dim_B2': dim_means.get('B2'),\n",
    "        'bright_B3': bright_means.get('B3'),\n",
    "        'dim_B3': dim_means.get('B3')\n",
    "    })  \n",
    "    \n",
    "    return feature"
   ]
  },
  {
   "cell_type": "code",
   "execution_count": 8,
   "metadata": {},
   "outputs": [
    {
     "name": "stdout",
     "output_type": "stream",
     "text": [
      "None\n"
     ]
    }
   ],
   "source": [
    "# Map over ImageCollection\n",
    "features = ee.FeatureCollection(image_collection.map(define_endmembers))\n",
    "print(features.first().getInfo())\n"
   ]
  },
  {
   "cell_type": "code",
   "execution_count": null,
   "metadata": {},
   "outputs": [],
   "source": [
    "# Export FeatureCollection as CSV\n",
    "task = ee.batch.Export.table.toDrive(\n",
    "    collection=features,\n",
    "    description=\"Endmembers_Geometry_Export\",\n",
    "    fileFormat=\"CSV\"\n",
    ")\n",
    "task.start()\n",
    "\n",
    "print(\"Export started. Check your Google Drive.\")"
   ]
  },
  {
   "cell_type": "code",
   "execution_count": null,
   "metadata": {},
   "outputs": [],
   "source": []
  }
 ],
 "metadata": {
  "kernelspec": {
   "display_name": "base",
   "language": "python",
   "name": "python3"
  },
  "language_info": {
   "codemirror_mode": {
    "name": "ipython",
    "version": 3
   },
   "file_extension": ".py",
   "mimetype": "text/x-python",
   "name": "python",
   "nbconvert_exporter": "python",
   "pygments_lexer": "ipython3",
   "version": "3.11.7"
  }
 },
 "nbformat": 4,
 "nbformat_minor": 2
}
