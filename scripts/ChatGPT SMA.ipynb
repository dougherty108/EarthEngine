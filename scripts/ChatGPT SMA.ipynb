{
 "cells": [
  {
   "cell_type": "code",
   "execution_count": null,
   "id": "e974664d",
   "metadata": {},
   "outputs": [],
   "source": [
    "# chat gpt spectral mixture analysis\n",
    "import ee\n",
    "from ee import batch\n",
    "\n",
    "# Initialize Earth Engine\n",
    "ee.Initialize()\n",
    "\n",
    "# Define a region of interest (ROI) for the analysis\n",
    "roi = ee.Geometry.Rectangle([-122.45, 37.74, -122.4, 37.75])  # Example ROI in San Francisco Bay Area\n",
    "\n",
    "# Function to perform Spectral Mixture Analysis (SMA) on an image\n",
    "def perform_sma(image):\n",
    "    # Select bands of interest (typically, bands 2-7 for Landsat 8/9)\n",
    "    bands = ['B2', 'B3', 'B4', 'B5', 'B6', 'B7']\n",
    "\n",
    "    # Endmembers for SMA (example endmembers, can be adjusted)\n",
    "    water_endmember = [0.1, 0.1, 0.1, 0.1, 0.1, 0.1]\n",
    "    vegetation_endmember = [0.3, 0.4, 0.5, 0.2, 0.1, 0.0]\n",
    "    soil_endmember = [0.6, 0.5, 0.4, 0.1, 0.0, 0.0]\n",
    "\n",
    "    # Create an SMA endmember array\n",
    "    endmembers = ee.Array([water_endmember, vegetation_endmember, soil_endmember])\n",
    "\n",
    "    # Perform SMA\n",
    "    sma = image.unmix(endmembers).rename(['water', 'vegetation', 'soil'])\n",
    "\n",
    "    return sma\n",
    "\n",
    "# Load Landsat 9 collection\n",
    "landsat9 = ee.ImageCollection('LANDSAT/LC09/C01/T1_SR') \\\n",
    "    .filterBounds(roi) \\\n",
    "    .filterDate('2023-01-01', '2023-12-31') \\\n",
    "    .median()  # Take median to reduce noise\n",
    "\n",
    "# Perform SMA on the Landsat 9 image\n",
    "sma_output = perform_sma(landsat9)\n",
    "\n",
    "# Define output directory in Google Drive\n",
    "output_dir = 'Spectral_Mixture_Analysis_Output'\n",
    "\n",
    "# Export the SMA result to Google Drive\n",
    "task = batch.Export.image.toDrive(\n",
    "    image=sma_output,\n",
    "    description='SMA_Output_Landsat9',\n",
    "    folder=output_dir,\n",
    "    scale=30,  # Adjust scale as needed\n",
    "    region=roi\n",
    ")\n",
    "\n",
    "# Start the export task\n",
    "task.start()\n",
    "\n",
    "# Print task status\n",
    "print('Exporting SMA result to Google Drive...')"
   ]
  }
 ],
 "metadata": {
  "kernelspec": {
   "display_name": "Python 3 (ipykernel)",
   "language": "python",
   "name": "python3"
  },
  "language_info": {
   "codemirror_mode": {
    "name": "ipython",
    "version": 3
   },
   "file_extension": ".py",
   "mimetype": "text/x-python",
   "name": "python",
   "nbconvert_exporter": "python",
   "pygments_lexer": "ipython3",
   "version": "3.9.13"
  }
 },
 "nbformat": 4,
 "nbformat_minor": 5
}
