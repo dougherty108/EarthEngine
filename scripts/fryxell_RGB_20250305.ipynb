{
 "cells": [
  {
   "cell_type": "code",
   "execution_count": 9,
   "metadata": {},
   "outputs": [
    {
     "data": {
      "text/html": [
       "\n",
       "            <style>\n",
       "                .geemap-dark {\n",
       "                    --jp-widgets-color: white;\n",
       "                    --jp-widgets-label-color: white;\n",
       "                    --jp-ui-font-color1: white;\n",
       "                    --jp-layout-color2: #454545;\n",
       "                    background-color: #383838;\n",
       "                }\n",
       "\n",
       "                .geemap-dark .jupyter-button {\n",
       "                    --jp-layout-color3: #383838;\n",
       "                }\n",
       "\n",
       "                .geemap-colab {\n",
       "                    background-color: var(--colab-primary-surface-color, white);\n",
       "                }\n",
       "\n",
       "                .geemap-colab .jupyter-button {\n",
       "                    --jp-layout-color3: var(--colab-primary-surface-color, white);\n",
       "                }\n",
       "            </style>\n",
       "            "
      ],
      "text/plain": [
       "<IPython.core.display.HTML object>"
      ]
     },
     "metadata": {},
     "output_type": "display_data"
    }
   ],
   "source": [
    "import ee\n",
    "import geemap\n",
    "import pandas as pd\n",
    "import folium\n",
    "from ipywidgets import Dropdown, Output, VBox\n",
    "\n",
    "# Initialize Earth Engine\n",
    "ee.Authenticate()\n",
    "ee.Initialize()\n"
   ]
  },
  {
   "cell_type": "code",
   "execution_count": 11,
   "metadata": {},
   "outputs": [
    {
     "data": {
      "text/html": [
       "\n",
       "            <style>\n",
       "                .geemap-dark {\n",
       "                    --jp-widgets-color: white;\n",
       "                    --jp-widgets-label-color: white;\n",
       "                    --jp-ui-font-color1: white;\n",
       "                    --jp-layout-color2: #454545;\n",
       "                    background-color: #383838;\n",
       "                }\n",
       "\n",
       "                .geemap-dark .jupyter-button {\n",
       "                    --jp-layout-color3: #383838;\n",
       "                }\n",
       "\n",
       "                .geemap-colab {\n",
       "                    background-color: var(--colab-primary-surface-color, white);\n",
       "                }\n",
       "\n",
       "                .geemap-colab .jupyter-button {\n",
       "                    --jp-layout-color3: var(--colab-primary-surface-color, white);\n",
       "                }\n",
       "            </style>\n",
       "            "
      ],
      "text/plain": [
       "<IPython.core.display.HTML object>"
      ]
     },
     "metadata": {},
     "output_type": "display_data"
    }
   ],
   "source": [
    "# define ROI\n",
    "roi_LF_crop = ee.Geometry.Polygon([[163.10147025602208,-77.63763858931995],\n",
    "                                   [163.31227042692052,-77.61056024754215],\n",
    "                                   [163.23605277555333,-77.5841617068026],\n",
    "                                   [163.02731254117833,-77.6108548909756],\n",
    "                                   [163.10147025602208,-77.63763858931995]\n",
    "])\n",
    "\n",
    "pointed = ee.Geometry.BBox(162.1, -77.73, 163.3, -77.59)"
   ]
  },
  {
   "cell_type": "code",
   "execution_count": 12,
   "metadata": {},
   "outputs": [
    {
     "data": {
      "text/html": [
       "\n",
       "            <style>\n",
       "                .geemap-dark {\n",
       "                    --jp-widgets-color: white;\n",
       "                    --jp-widgets-label-color: white;\n",
       "                    --jp-ui-font-color1: white;\n",
       "                    --jp-layout-color2: #454545;\n",
       "                    background-color: #383838;\n",
       "                }\n",
       "\n",
       "                .geemap-dark .jupyter-button {\n",
       "                    --jp-layout-color3: #383838;\n",
       "                }\n",
       "\n",
       "                .geemap-colab {\n",
       "                    background-color: var(--colab-primary-surface-color, white);\n",
       "                }\n",
       "\n",
       "                .geemap-colab .jupyter-button {\n",
       "                    --jp-layout-color3: var(--colab-primary-surface-color, white);\n",
       "                }\n",
       "            </style>\n",
       "            "
      ],
      "text/plain": [
       "<IPython.core.display.HTML object>"
      ]
     },
     "metadata": {},
     "output_type": "display_data"
    }
   ],
   "source": [
    "ids = ee.List([\"LANDSAT_8_2016-11-02\", \"LANDSAT_8_2016-11-04\", \"LANDSAT_8_2016-11-06\", \"LANDSAT_8_2016-11-08\",\n",
    "               \"LANDSAT_8_2016-11-13\", \"LANDSAT_8_2016-11-15\", \"LANDSAT_8_2016-11-22\", \"LANDSAT_8_2016-11-24\",\n",
    "               \"LANDSAT_8_2016-11-27\", \"LANDSAT_8_2016-12-08\", \"LANDSAT_8_2016-12-10\", \"LANDSAT_8_2016-12-13\",\n",
    "               \"LANDSAT_8_2016-12-15\", \"LANDSAT_8_2016-12-17\", \"LANDSAT_8_2016-12-19\", \"LANDSAT_8_2016-12-24\",\n",
    "               \"LANDSAT_8_2017-01-02\", \"LANDSAT_8_2017-01-09\", \"LANDSAT_8_2017-01-11\", \"LANDSAT_8_2017-01-14\",\n",
    "               \"LANDSAT_8_2017-01-18\", \"LANDSAT_8_2017-01-25\", \"LANDSAT_8_2017-01-27\", \"LANDSAT_8_2017-01-30\",\n",
    "               \"LANDSAT_8_2017-11-04\", \"LANDSAT_8_2017-11-07\", \"LANDSAT_8_2017-11-18\", \"LANDSAT_8_2017-11-20\",\n",
    "               \"LANDSAT_8_2017-11-21\", \"LANDSAT_8_2017-11-25\", \"LANDSAT_8_2017-11-27\", \"LANDSAT_8_2017-11-30\",\n",
    "               \"LANDSAT_8_2017-12-02\", \"LANDSAT_8_2017-12-07\", \"LANDSAT_8_2017-12-16\", \"LANDSAT_8_2017-12-23\",\n",
    "               \"LANDSAT_8_2018-01-03\", \"LANDSAT_8_2018-01-05\", \"LANDSAT_8_2018-01-07\", \"LANDSAT_8_2018-01-10\",\n",
    "               \"LANDSAT_8_2018-01-12\", \"LANDSAT_8_2018-01-14\", \"LANDSAT_8_2018-01-19\", \"LANDSAT_8_2018-01-26\",\n",
    "               \"LANDSAT_8_2018-01-30\", \"LANDSAT_8_2018-11-05\", \"LANDSAT_8_2018-11-07\", \"LANDSAT_8_2018-11-08\",\n",
    "               \"LANDSAT_8_2018-11-12\", \"LANDSAT_8_2018-11-17\", \"LANDSAT_8_2018-11-19\", \"LANDSAT_8_2018-11-24\",\n",
    "               \"LANDSAT_8_2018-11-26\", \"LANDSAT_8_2018-11-28\", \"LANDSAT_8_2018-11-30\", \"LANDSAT_8_2018-12-05\",\n",
    "               \"LANDSAT_8_2018-12-19\", \"LANDSAT_8_2018-12-25\", \"LANDSAT_8_2018-12-30\", \"LANDSAT_8_2019-01-01\",\n",
    "               \"LANDSAT_8_2019-01-04\", \"LANDSAT_8_2019-01-06\", \"LANDSAT_8_2019-01-10\", \"LANDSAT_8_2019-01-11\",\n",
    "               \"LANDSAT_8_2019-01-15\", \"LANDSAT_8_2019-01-24\", \"LANDSAT_8_2019-01-26\", \"LANDSAT_8_2019-01-27\",\n",
    "               \"LANDSAT_8_2019-11-04\", \"LANDSAT_8_2019-11-06\", \"LANDSAT_8_2019-11-08\", \"LANDSAT_8_2019-11-10\",\n",
    "               \"LANDSAT_8_2019-11-11\", \"LANDSAT_8_2019-11-15\", \"LANDSAT_8_2019-11-17\", \"LANDSAT_8_2019-11-24\",\n",
    "               \"LANDSAT_8_2019-11-26\", \"LANDSAT_8_2019-11-27\", \"LANDSAT_8_2019-12-03\", \"LANDSAT_8_2019-12-10\",\n",
    "               \"LANDSAT_8_2019-12-12\", \"LANDSAT_8_2019-12-17\", \"LANDSAT_8_2019-12-24\", \"LANDSAT_8_2019-12-26\",\n",
    "               \"LANDSAT_8_2019-12-29\", \"LANDSAT_8_2019-12-31\", \"LANDSAT_8_2020-01-02\", \"LANDSAT_8_2020-01-11\",\n",
    "               \"LANDSAT_8_2020-01-20\", \"LANDSAT_8_2020-10-30\", \"LANDSAT_8_2020-11-08\", \"LANDSAT_8_2020-11-15\",\n",
    "               \"LANDSAT_8_2020-11-17\", \"LANDSAT_8_2020-11-19\", \"LANDSAT_8_2020-11-24\", \"LANDSAT_8_2020-11-26\",\n",
    "               \"LANDSAT_8_2020-11-28\", \"LANDSAT_8_2020-11-29\", \"LANDSAT_8_2020-12-01\", \"LANDSAT_8_2020-12-03\",\n",
    "               \"LANDSAT_8_2020-12-08\", \"LANDSAT_8_2020-12-10\", \"LANDSAT_8_2020-12-14\", \"LANDSAT_8_2020-12-15\",\n",
    "               \"LANDSAT_8_2020-12-21\", \"LANDSAT_8_2020-12-24\", \"LANDSAT_8_2020-12-26\", \"LANDSAT_8_2020-12-30\",\n",
    "               \"LANDSAT_8_2021-01-06\", \"LANDSAT_8_2021-01-13\", \"LANDSAT_8_2021-01-16\", \"LANDSAT_8_2021-01-18\",\n",
    "               \"LANDSAT_8_2021-01-22\", \"LANDSAT_8_2021-02-01\", \"LANDSAT_8_2021-10-31\", \"LANDSAT_8_2021-11-04\",\n",
    "               \"LANDSAT_8_2021-11-09\", \"LANDSAT_8_2021-11-11\", \"LANDSAT_8_2021-11-15\", \"LANDSAT_8_2021-11-20\",\n",
    "               \"LANDSAT_8_2021-11-29\", \"LANDSAT_8_2021-12-01\", \"LANDSAT_8_2021-12-02\", \"LANDSAT_8_2021-12-04\",\n",
    "               \"LANDSAT_8_2021-12-06\", \"LANDSAT_8_2021-12-08\", \"LANDSAT_8_2021-12-11\", \"LANDSAT_8_2021-12-18\",\n",
    "               \"LANDSAT_8_2021-12-20\", \"LANDSAT_8_2021-12-22\", \"LANDSAT_8_2021-12-24\", \"LANDSAT_8_2022-01-05\",\n",
    "               \"LANDSAT_8_2022-01-07\", \"LANDSAT_8_2022-01-12\", \"LANDSAT_8_2022-01-14\", \"LANDSAT_8_2022-01-16\",\n",
    "               \"LANDSAT_8_2022-01-19\", \"LANDSAT_8_2022-01-21\", \"LANDSAT_8_2022-01-25\", \"LANDSAT_8_2022-01-28\",\n",
    "               \"LANDSAT_8_2022-11-07\", \"LANDSAT_8_2022-11-14\", \"LANDSAT_8_2022-11-16\", \"LANDSAT_8_2022-11-18\",\n",
    "               \"LANDSAT_8_2022-11-19\", \"LANDSAT_8_2022-11-21\", \"LANDSAT_8_2022-11-23\", \"LANDSAT_8_2022-11-28\",\n",
    "               \"LANDSAT_8_2022-12-04\", \"LANDSAT_8_2022-12-05\", \"LANDSAT_8_2022-12-11\", \"LANDSAT_8_2022-12-16\",\n",
    "               \"LANDSAT_8_2022-12-18\", \"LANDSAT_8_2023-01-01\", \"LANDSAT_8_2023-01-03\", \"LANDSAT_8_2023-01-10\",\n",
    "               \"LANDSAT_8_2023-01-15\", \"LANDSAT_8_2023-01-22\", \"LANDSAT_8_2023-01-24\", \"LANDSAT_8_2023-11-17\",\n",
    "               \"LANDSAT_8_2023-11-19\", \"LANDSAT_8_2023-11-21\", \"LANDSAT_8_2023-12-05\", \"LANDSAT_8_2023-12-07\",\n",
    "              # \"LANDSAT_8_2023-12-10\", # this image is messed up on the GEE side\n",
    "               \"LANDSAT_8_2023-12-19\", \"LANDSAT_8_2023-12-28\", \"LANDSAT_8_2023-12-30\",\n",
    "               \"LANDSAT_8_2024-01-04\", #\"LANDSAT_8_2024-01-11\", # this image is messed up on the GEE side\n",
    "               \"LANDSAT_8_2024-01-13\", \"LANDSAT_8_2024-01-22\",\n",
    "               \"LANDSAT_8_2024-01-24\", \"LANDSAT_8_2024-11-03\", \"LANDSAT_8_2024-11-07\", \"LANDSAT_8_2024-11-12\",\n",
    "               \"LANDSAT_8_2024-11-14\", \"LANDSAT_8_2024-11-21\", #\"LANDSAT_8_2024-11-26\", # same with this one. Image is there, but it doesn't render under certain zooms on Geemao. \n",
    "               \"LANDSAT_8_2024-12-09\",\n",
    "               \"LANDSAT_8_2024-12-21\"])\n",
    "\n",
    "# Define start and end date for the image collection filter\n",
    "start_date = \"2016-03-06\"\n",
    "end_date = \"2025-01-01\"\n",
    "\n",
    "# Define ROI for analysis\n",
    "roi_for_cropping = roi_LF_crop"
   ]
  },
  {
   "cell_type": "code",
   "execution_count": 13,
   "metadata": {},
   "outputs": [
    {
     "data": {
      "text/html": [
       "\n",
       "            <style>\n",
       "                .geemap-dark {\n",
       "                    --jp-widgets-color: white;\n",
       "                    --jp-widgets-label-color: white;\n",
       "                    --jp-ui-font-color1: white;\n",
       "                    --jp-layout-color2: #454545;\n",
       "                    background-color: #383838;\n",
       "                }\n",
       "\n",
       "                .geemap-dark .jupyter-button {\n",
       "                    --jp-layout-color3: #383838;\n",
       "                }\n",
       "\n",
       "                .geemap-colab {\n",
       "                    background-color: var(--colab-primary-surface-color, white);\n",
       "                }\n",
       "\n",
       "                .geemap-colab .jupyter-button {\n",
       "                    --jp-layout-color3: var(--colab-primary-surface-color, white);\n",
       "                }\n",
       "            </style>\n",
       "            "
      ],
      "text/plain": [
       "<IPython.core.display.HTML object>"
      ]
     },
     "metadata": {},
     "output_type": "display_data"
    },
    {
     "name": "stdout",
     "output_type": "stream",
     "text": [
      "{'type': 'ImageCollection', 'bands': [], 'features': [{'type': 'Image', 'bands': [{'id': 'B2', 'data_type': {'type': 'PixelType', 'precision': 'float'}, 'dimensions': [2, 2], 'origin': [162, -79], 'crs': 'EPSG:4326', 'crs_transform': [1, 0, 0, 0, 1, 0]}, {'id': 'B3', 'data_type': {'type': 'PixelType', 'precision': 'float'}, 'dimensions': [2, 2], 'origin': [162, -79], 'crs': 'EPSG:4326', 'crs_transform': [1, 0, 0, 0, 1, 0]}, {'id': 'B4', 'data_type': {'type': 'PixelType', 'precision': 'float'}, 'dimensions': [2, 2], 'origin': [162, -79], 'crs': 'EPSG:4326', 'crs_transform': [1, 0, 0, 0, 1, 0]}], 'id': '2016-11-02', 'properties': {'system:time_start': 1478044800000, 'system:footprint': {'type': 'Polygon', 'coordinates': [[[163.10147025602208, -77.63763858931995], [163.31227042692052, -77.61056024754215], [163.23605277555333, -77.5841617068026], [163.02731254117833, -77.6108548909756], [163.10147025602208, -77.63763858931995]]]}, 'system:index': '0'}}, {'type': 'Image', 'bands': [{'id': 'B2', 'data_type': {'type': 'PixelType', 'precision': 'float'}, 'dimensions': [2, 2], 'origin': [162, -79], 'crs': 'EPSG:4326', 'crs_transform': [1, 0, 0, 0, 1, 0]}, {'id': 'B3', 'data_type': {'type': 'PixelType', 'precision': 'float'}, 'dimensions': [2, 2], 'origin': [162, -79], 'crs': 'EPSG:4326', 'crs_transform': [1, 0, 0, 0, 1, 0]}, {'id': 'B4', 'data_type': {'type': 'PixelType', 'precision': 'float'}, 'dimensions': [2, 2], 'origin': [162, -79], 'crs': 'EPSG:4326', 'crs_transform': [1, 0, 0, 0, 1, 0]}], 'id': '2016-11-04', 'properties': {'system:time_start': 1478217600000, 'system:footprint': {'type': 'Polygon', 'coordinates': [[[163.10147025602208, -77.63763858931995], [163.31227042692052, -77.61056024754215], [163.23605277555333, -77.5841617068026], [163.02731254117833, -77.6108548909756], [163.10147025602208, -77.63763858931995]]]}, 'system:index': '1'}}, {'type': 'Image', 'bands': [{'id': 'B2', 'data_type': {'type': 'PixelType', 'precision': 'float'}, 'dimensions': [2, 2], 'origin': [162, -79], 'crs': 'EPSG:4326', 'crs_transform': [1, 0, 0, 0, 1, 0]}, {'id': 'B3', 'data_type': {'type': 'PixelType', 'precision': 'float'}, 'dimensions': [2, 2], 'origin': [162, -79], 'crs': 'EPSG:4326', 'crs_transform': [1, 0, 0, 0, 1, 0]}, {'id': 'B4', 'data_type': {'type': 'PixelType', 'precision': 'float'}, 'dimensions': [2, 2], 'origin': [162, -79], 'crs': 'EPSG:4326', 'crs_transform': [1, 0, 0, 0, 1, 0]}], 'id': '2016-11-06', 'properties': {'system:time_start': 1478390400000, 'system:footprint': {'type': 'Polygon', 'coordinates': [[[163.10147025602208, -77.63763858931995], [163.31227042692052, -77.61056024754215], [163.23605277555333, -77.5841617068026], [163.02731254117833, -77.6108548909756], [163.10147025602208, -77.63763858931995]]]}, 'system:index': '2'}}, {'type': 'Image', 'bands': [{'id': 'B2', 'data_type': {'type': 'PixelType', 'precision': 'float'}, 'dimensions': [2, 2], 'origin': [162, -79], 'crs': 'EPSG:4326', 'crs_transform': [1, 0, 0, 0, 1, 0]}, {'id': 'B3', 'data_type': {'type': 'PixelType', 'precision': 'float'}, 'dimensions': [2, 2], 'origin': [162, -79], 'crs': 'EPSG:4326', 'crs_transform': [1, 0, 0, 0, 1, 0]}, {'id': 'B4', 'data_type': {'type': 'PixelType', 'precision': 'float'}, 'dimensions': [2, 2], 'origin': [162, -79], 'crs': 'EPSG:4326', 'crs_transform': [1, 0, 0, 0, 1, 0]}], 'id': '2016-11-08', 'properties': {'system:time_start': 1478563200000, 'system:footprint': {'type': 'Polygon', 'coordinates': [[[163.10147025602208, -77.63763858931995], [163.31227042692052, -77.61056024754215], [163.23605277555333, -77.5841617068026], [163.02731254117833, -77.6108548909756], [163.10147025602208, -77.63763858931995]]]}, 'system:index': '3'}}, {'type': 'Image', 'bands': [{'id': 'B2', 'data_type': {'type': 'PixelType', 'precision': 'float'}, 'dimensions': [2, 2], 'origin': [162, -79], 'crs': 'EPSG:4326', 'crs_transform': [1, 0, 0, 0, 1, 0]}, {'id': 'B3', 'data_type': {'type': 'PixelType', 'precision': 'float'}, 'dimensions': [2, 2], 'origin': [162, -79], 'crs': 'EPSG:4326', 'crs_transform': [1, 0, 0, 0, 1, 0]}, {'id': 'B4', 'data_type': {'type': 'PixelType', 'precision': 'float'}, 'dimensions': [2, 2], 'origin': [162, -79], 'crs': 'EPSG:4326', 'crs_transform': [1, 0, 0, 0, 1, 0]}], 'id': '2016-11-13', 'properties': {'system:time_start': 1478995200000, 'system:footprint': {'type': 'Polygon', 'coordinates': [[[163.10147025602208, -77.63763858931995], [163.31227042692052, -77.61056024754215], [163.23605277555333, -77.5841617068026], [163.02731254117833, -77.6108548909756], [163.10147025602208, -77.63763858931995]]]}, 'system:index': '4'}}, {'type': 'Image', 'bands': [{'id': 'B2', 'data_type': {'type': 'PixelType', 'precision': 'float'}, 'dimensions': [2, 2], 'origin': [162, -79], 'crs': 'EPSG:4326', 'crs_transform': [1, 0, 0, 0, 1, 0]}, {'id': 'B3', 'data_type': {'type': 'PixelType', 'precision': 'float'}, 'dimensions': [2, 2], 'origin': [162, -79], 'crs': 'EPSG:4326', 'crs_transform': [1, 0, 0, 0, 1, 0]}, {'id': 'B4', 'data_type': {'type': 'PixelType', 'precision': 'float'}, 'dimensions': [2, 2], 'origin': [162, -79], 'crs': 'EPSG:4326', 'crs_transform': [1, 0, 0, 0, 1, 0]}], 'id': '2016-11-15', 'properties': {'system:time_start': 1479168000000, 'system:footprint': {'type': 'Polygon', 'coordinates': [[[163.10147025602208, -77.63763858931995], [163.31227042692052, -77.61056024754215], [163.23605277555333, -77.5841617068026], [163.02731254117833, -77.6108548909756], [163.10147025602208, -77.63763858931995]]]}, 'system:index': '5'}}, {'type': 'Image', 'bands': [{'id': 'B2', 'data_type': {'type': 'PixelType', 'precision': 'float'}, 'dimensions': [2, 2], 'origin': [162, -79], 'crs': 'EPSG:4326', 'crs_transform': [1, 0, 0, 0, 1, 0]}, {'id': 'B3', 'data_type': {'type': 'PixelType', 'precision': 'float'}, 'dimensions': [2, 2], 'origin': [162, -79], 'crs': 'EPSG:4326', 'crs_transform': [1, 0, 0, 0, 1, 0]}, {'id': 'B4', 'data_type': {'type': 'PixelType', 'precision': 'float'}, 'dimensions': [2, 2], 'origin': [162, -79], 'crs': 'EPSG:4326', 'crs_transform': [1, 0, 0, 0, 1, 0]}], 'id': '2016-11-22', 'properties': {'system:time_start': 1479772800000, 'system:footprint': {'type': 'Polygon', 'coordinates': [[[163.10147025602208, -77.63763858931995], [163.31227042692052, -77.61056024754215], [163.23605277555333, -77.5841617068026], [163.02731254117833, -77.6108548909756], [163.10147025602208, -77.63763858931995]]]}, 'system:index': '6'}}, {'type': 'Image', 'bands': [{'id': 'B2', 'data_type': {'type': 'PixelType', 'precision': 'float'}, 'dimensions': [2, 2], 'origin': [162, -79], 'crs': 'EPSG:4326', 'crs_transform': [1, 0, 0, 0, 1, 0]}, {'id': 'B3', 'data_type': {'type': 'PixelType', 'precision': 'float'}, 'dimensions': [2, 2], 'origin': [162, -79], 'crs': 'EPSG:4326', 'crs_transform': [1, 0, 0, 0, 1, 0]}, {'id': 'B4', 'data_type': {'type': 'PixelType', 'precision': 'float'}, 'dimensions': [2, 2], 'origin': [162, -79], 'crs': 'EPSG:4326', 'crs_transform': [1, 0, 0, 0, 1, 0]}], 'id': '2016-11-24', 'properties': {'system:time_start': 1479945600000, 'system:footprint': {'type': 'Polygon', 'coordinates': [[[163.10147025602208, -77.63763858931995], [163.31227042692052, -77.61056024754215], [163.23605277555333, -77.5841617068026], [163.02731254117833, -77.6108548909756], [163.10147025602208, -77.63763858931995]]]}, 'system:index': '7'}}, {'type': 'Image', 'bands': [{'id': 'B2', 'data_type': {'type': 'PixelType', 'precision': 'float'}, 'dimensions': [2, 2], 'origin': [162, -79], 'crs': 'EPSG:4326', 'crs_transform': [1, 0, 0, 0, 1, 0]}, {'id': 'B3', 'data_type': {'type': 'PixelType', 'precision': 'float'}, 'dimensions': [2, 2], 'origin': [162, -79], 'crs': 'EPSG:4326', 'crs_transform': [1, 0, 0, 0, 1, 0]}, {'id': 'B4', 'data_type': {'type': 'PixelType', 'precision': 'float'}, 'dimensions': [2, 2], 'origin': [162, -79], 'crs': 'EPSG:4326', 'crs_transform': [1, 0, 0, 0, 1, 0]}], 'id': '2016-11-27', 'properties': {'system:time_start': 1480204800000, 'system:footprint': {'type': 'Polygon', 'coordinates': [[[163.10147025602208, -77.63763858931995], [163.31227042692052, -77.61056024754215], [163.23605277555333, -77.5841617068026], [163.02731254117833, -77.6108548909756], [163.10147025602208, -77.63763858931995]]]}, 'system:index': '8'}}, {'type': 'Image', 'bands': [{'id': 'B2', 'data_type': {'type': 'PixelType', 'precision': 'float'}, 'dimensions': [2, 2], 'origin': [162, -79], 'crs': 'EPSG:4326', 'crs_transform': [1, 0, 0, 0, 1, 0]}, {'id': 'B3', 'data_type': {'type': 'PixelType', 'precision': 'float'}, 'dimensions': [2, 2], 'origin': [162, -79], 'crs': 'EPSG:4326', 'crs_transform': [1, 0, 0, 0, 1, 0]}, {'id': 'B4', 'data_type': {'type': 'PixelType', 'precision': 'float'}, 'dimensions': [2, 2], 'origin': [162, -79], 'crs': 'EPSG:4326', 'crs_transform': [1, 0, 0, 0, 1, 0]}], 'id': '2016-12-08', 'properties': {'system:time_start': 1481155200000, 'system:footprint': {'type': 'Polygon', 'coordinates': [[[163.10147025602208, -77.63763858931995], [163.31227042692052, -77.61056024754215], [163.23605277555333, -77.5841617068026], [163.02731254117833, -77.6108548909756], [163.10147025602208, -77.63763858931995]]]}, 'system:index': '9'}}, {'type': 'Image', 'bands': [{'id': 'B2', 'data_type': {'type': 'PixelType', 'precision': 'float'}, 'dimensions': [2, 2], 'origin': [162, -79], 'crs': 'EPSG:4326', 'crs_transform': [1, 0, 0, 0, 1, 0]}, {'id': 'B3', 'data_type': {'type': 'PixelType', 'precision': 'float'}, 'dimensions': [2, 2], 'origin': [162, -79], 'crs': 'EPSG:4326', 'crs_transform': [1, 0, 0, 0, 1, 0]}, {'id': 'B4', 'data_type': {'type': 'PixelType', 'precision': 'float'}, 'dimensions': [2, 2], 'origin': [162, -79], 'crs': 'EPSG:4326', 'crs_transform': [1, 0, 0, 0, 1, 0]}], 'id': '2016-12-10', 'properties': {'system:time_start': 1481328000000, 'system:footprint': {'type': 'Polygon', 'coordinates': [[[163.10147025602208, -77.63763858931995], [163.31227042692052, -77.61056024754215], [163.23605277555333, -77.5841617068026], [163.02731254117833, -77.6108548909756], [163.10147025602208, -77.63763858931995]]]}, 'system:index': '10'}}, {'type': 'Image', 'bands': [{'id': 'B2', 'data_type': {'type': 'PixelType', 'precision': 'float'}, 'dimensions': [2, 2], 'origin': [162, -79], 'crs': 'EPSG:4326', 'crs_transform': [1, 0, 0, 0, 1, 0]}, {'id': 'B3', 'data_type': {'type': 'PixelType', 'precision': 'float'}, 'dimensions': [2, 2], 'origin': [162, -79], 'crs': 'EPSG:4326', 'crs_transform': [1, 0, 0, 0, 1, 0]}, {'id': 'B4', 'data_type': {'type': 'PixelType', 'precision': 'float'}, 'dimensions': [2, 2], 'origin': [162, -79], 'crs': 'EPSG:4326', 'crs_transform': [1, 0, 0, 0, 1, 0]}], 'id': '2016-12-13', 'properties': {'system:time_start': 1481587200000, 'system:footprint': {'type': 'Polygon', 'coordinates': [[[163.10147025602208, -77.63763858931995], [163.31227042692052, -77.61056024754215], [163.23605277555333, -77.5841617068026], [163.02731254117833, -77.6108548909756], [163.10147025602208, -77.63763858931995]]]}, 'system:index': '11'}}, {'type': 'Image', 'bands': [{'id': 'B2', 'data_type': {'type': 'PixelType', 'precision': 'float'}, 'dimensions': [2, 2], 'origin': [162, -79], 'crs': 'EPSG:4326', 'crs_transform': [1, 0, 0, 0, 1, 0]}, {'id': 'B3', 'data_type': {'type': 'PixelType', 'precision': 'float'}, 'dimensions': [2, 2], 'origin': [162, -79], 'crs': 'EPSG:4326', 'crs_transform': [1, 0, 0, 0, 1, 0]}, {'id': 'B4', 'data_type': {'type': 'PixelType', 'precision': 'float'}, 'dimensions': [2, 2], 'origin': [162, -79], 'crs': 'EPSG:4326', 'crs_transform': [1, 0, 0, 0, 1, 0]}], 'id': '2016-12-15', 'properties': {'system:time_start': 1481760000000, 'system:footprint': {'type': 'Polygon', 'coordinates': [[[163.10147025602208, -77.63763858931995], [163.31227042692052, -77.61056024754215], [163.23605277555333, -77.5841617068026], [163.02731254117833, -77.6108548909756], [163.10147025602208, -77.63763858931995]]]}, 'system:index': '12'}}, {'type': 'Image', 'bands': [{'id': 'B2', 'data_type': {'type': 'PixelType', 'precision': 'float'}, 'dimensions': [2, 2], 'origin': [162, -79], 'crs': 'EPSG:4326', 'crs_transform': [1, 0, 0, 0, 1, 0]}, {'id': 'B3', 'data_type': {'type': 'PixelType', 'precision': 'float'}, 'dimensions': [2, 2], 'origin': [162, -79], 'crs': 'EPSG:4326', 'crs_transform': [1, 0, 0, 0, 1, 0]}, {'id': 'B4', 'data_type': {'type': 'PixelType', 'precision': 'float'}, 'dimensions': [2, 2], 'origin': [162, -79], 'crs': 'EPSG:4326', 'crs_transform': [1, 0, 0, 0, 1, 0]}], 'id': '2016-12-17', 'properties': {'system:time_start': 1481932800000, 'system:footprint': {'type': 'Polygon', 'coordinates': [[[163.10147025602208, -77.63763858931995], [163.31227042692052, -77.61056024754215], [163.23605277555333, -77.5841617068026], [163.02731254117833, -77.6108548909756], [163.10147025602208, -77.63763858931995]]]}, 'system:index': '13'}}, {'type': 'Image', 'bands': [{'id': 'B2', 'data_type': {'type': 'PixelType', 'precision': 'float'}, 'dimensions': [2, 2], 'origin': [162, -79], 'crs': 'EPSG:4326', 'crs_transform': [1, 0, 0, 0, 1, 0]}, {'id': 'B3', 'data_type': {'type': 'PixelType', 'precision': 'float'}, 'dimensions': [2, 2], 'origin': [162, -79], 'crs': 'EPSG:4326', 'crs_transform': [1, 0, 0, 0, 1, 0]}, {'id': 'B4', 'data_type': {'type': 'PixelType', 'precision': 'float'}, 'dimensions': [2, 2], 'origin': [162, -79], 'crs': 'EPSG:4326', 'crs_transform': [1, 0, 0, 0, 1, 0]}], 'id': '2016-12-19', 'properties': {'system:time_start': 1482105600000, 'system:footprint': {'type': 'Polygon', 'coordinates': [[[163.10147025602208, -77.63763858931995], [163.31227042692052, -77.61056024754215], [163.23605277555333, -77.5841617068026], [163.02731254117833, -77.6108548909756], [163.10147025602208, -77.63763858931995]]]}, 'system:index': '14'}}, {'type': 'Image', 'bands': [{'id': 'B2', 'data_type': {'type': 'PixelType', 'precision': 'float'}, 'dimensions': [2, 2], 'origin': [162, -79], 'crs': 'EPSG:4326', 'crs_transform': [1, 0, 0, 0, 1, 0]}, {'id': 'B3', 'data_type': {'type': 'PixelType', 'precision': 'float'}, 'dimensions': [2, 2], 'origin': [162, -79], 'crs': 'EPSG:4326', 'crs_transform': [1, 0, 0, 0, 1, 0]}, {'id': 'B4', 'data_type': {'type': 'PixelType', 'precision': 'float'}, 'dimensions': [2, 2], 'origin': [162, -79], 'crs': 'EPSG:4326', 'crs_transform': [1, 0, 0, 0, 1, 0]}], 'id': '2016-12-24', 'properties': {'system:time_start': 1482537600000, 'system:footprint': {'type': 'Polygon', 'coordinates': [[[163.10147025602208, -77.63763858931995], [163.31227042692052, -77.61056024754215], [163.23605277555333, -77.5841617068026], [163.02731254117833, -77.6108548909756], [163.10147025602208, -77.63763858931995]]]}, 'system:index': '15'}}, {'type': 'Image', 'bands': [{'id': 'B2', 'data_type': {'type': 'PixelType', 'precision': 'float'}, 'dimensions': [2, 2], 'origin': [162, -79], 'crs': 'EPSG:4326', 'crs_transform': [1, 0, 0, 0, 1, 0]}, {'id': 'B3', 'data_type': {'type': 'PixelType', 'precision': 'float'}, 'dimensions': [2, 2], 'origin': [162, -79], 'crs': 'EPSG:4326', 'crs_transform': [1, 0, 0, 0, 1, 0]}, {'id': 'B4', 'data_type': {'type': 'PixelType', 'precision': 'float'}, 'dimensions': [2, 2], 'origin': [162, -79], 'crs': 'EPSG:4326', 'crs_transform': [1, 0, 0, 0, 1, 0]}], 'id': '2017-01-02', 'properties': {'system:time_start': 1483315200000, 'system:footprint': {'type': 'Polygon', 'coordinates': [[[163.10147025602208, -77.63763858931995], [163.31227042692052, -77.61056024754215], [163.23605277555333, -77.5841617068026], [163.02731254117833, -77.6108548909756], [163.10147025602208, -77.63763858931995]]]}, 'system:index': '16'}}, {'type': 'Image', 'bands': [{'id': 'B2', 'data_type': {'type': 'PixelType', 'precision': 'float'}, 'dimensions': [2, 2], 'origin': [162, -79], 'crs': 'EPSG:4326', 'crs_transform': [1, 0, 0, 0, 1, 0]}, {'id': 'B3', 'data_type': {'type': 'PixelType', 'precision': 'float'}, 'dimensions': [2, 2], 'origin': [162, -79], 'crs': 'EPSG:4326', 'crs_transform': [1, 0, 0, 0, 1, 0]}, {'id': 'B4', 'data_type': {'type': 'PixelType', 'precision': 'float'}, 'dimensions': [2, 2], 'origin': [162, -79], 'crs': 'EPSG:4326', 'crs_transform': [1, 0, 0, 0, 1, 0]}], 'id': '2017-01-09', 'properties': {'system:time_start': 1483920000000, 'system:footprint': {'type': 'Polygon', 'coordinates': [[[163.10147025602208, -77.63763858931995], [163.31227042692052, -77.61056024754215], [163.23605277555333, -77.5841617068026], [163.02731254117833, -77.6108548909756], [163.10147025602208, -77.63763858931995]]]}, 'system:index': '17'}}, {'type': 'Image', 'bands': [{'id': 'B2', 'data_type': {'type': 'PixelType', 'precision': 'float'}, 'dimensions': [2, 2], 'origin': [162, -79], 'crs': 'EPSG:4326', 'crs_transform': [1, 0, 0, 0, 1, 0]}, {'id': 'B3', 'data_type': {'type': 'PixelType', 'precision': 'float'}, 'dimensions': [2, 2], 'origin': [162, -79], 'crs': 'EPSG:4326', 'crs_transform': [1, 0, 0, 0, 1, 0]}, {'id': 'B4', 'data_type': {'type': 'PixelType', 'precision': 'float'}, 'dimensions': [2, 2], 'origin': [162, -79], 'crs': 'EPSG:4326', 'crs_transform': [1, 0, 0, 0, 1, 0]}], 'id': '2017-01-11', 'properties': {'system:time_start': 1484092800000, 'system:footprint': {'type': 'Polygon', 'coordinates': [[[163.10147025602208, -77.63763858931995], [163.31227042692052, -77.61056024754215], [163.23605277555333, -77.5841617068026], [163.02731254117833, -77.6108548909756], [163.10147025602208, -77.63763858931995]]]}, 'system:index': '18'}}, {'type': 'Image', 'bands': [{'id': 'B2', 'data_type': {'type': 'PixelType', 'precision': 'float'}, 'dimensions': [2, 2], 'origin': [162, -79], 'crs': 'EPSG:4326', 'crs_transform': [1, 0, 0, 0, 1, 0]}, {'id': 'B3', 'data_type': {'type': 'PixelType', 'precision': 'float'}, 'dimensions': [2, 2], 'origin': [162, -79], 'crs': 'EPSG:4326', 'crs_transform': [1, 0, 0, 0, 1, 0]}, {'id': 'B4', 'data_type': {'type': 'PixelType', 'precision': 'float'}, 'dimensions': [2, 2], 'origin': [162, -79], 'crs': 'EPSG:4326', 'crs_transform': [1, 0, 0, 0, 1, 0]}], 'id': '2017-01-14', 'properties': {'system:time_start': 1484352000000, 'system:footprint': {'type': 'Polygon', 'coordinates': [[[163.10147025602208, -77.63763858931995], [163.31227042692052, -77.61056024754215], [163.23605277555333, -77.5841617068026], [163.02731254117833, -77.6108548909756], [163.10147025602208, -77.63763858931995]]]}, 'system:index': '19'}}, {'type': 'Image', 'bands': [{'id': 'B2', 'data_type': {'type': 'PixelType', 'precision': 'float'}, 'dimensions': [2, 2], 'origin': [162, -79], 'crs': 'EPSG:4326', 'crs_transform': [1, 0, 0, 0, 1, 0]}, {'id': 'B3', 'data_type': {'type': 'PixelType', 'precision': 'float'}, 'dimensions': [2, 2], 'origin': [162, -79], 'crs': 'EPSG:4326', 'crs_transform': [1, 0, 0, 0, 1, 0]}, {'id': 'B4', 'data_type': {'type': 'PixelType', 'precision': 'float'}, 'dimensions': [2, 2], 'origin': [162, -79], 'crs': 'EPSG:4326', 'crs_transform': [1, 0, 0, 0, 1, 0]}], 'id': '2017-01-18', 'properties': {'system:time_start': 1484697600000, 'system:footprint': {'type': 'Polygon', 'coordinates': [[[163.10147025602208, -77.63763858931995], [163.31227042692052, -77.61056024754215], [163.23605277555333, -77.5841617068026], [163.02731254117833, -77.6108548909756], [163.10147025602208, -77.63763858931995]]]}, 'system:index': '20'}}, {'type': 'Image', 'bands': [{'id': 'B2', 'data_type': {'type': 'PixelType', 'precision': 'float'}, 'dimensions': [2, 2], 'origin': [162, -79], 'crs': 'EPSG:4326', 'crs_transform': [1, 0, 0, 0, 1, 0]}, {'id': 'B3', 'data_type': {'type': 'PixelType', 'precision': 'float'}, 'dimensions': [2, 2], 'origin': [162, -79], 'crs': 'EPSG:4326', 'crs_transform': [1, 0, 0, 0, 1, 0]}, {'id': 'B4', 'data_type': {'type': 'PixelType', 'precision': 'float'}, 'dimensions': [2, 2], 'origin': [162, -79], 'crs': 'EPSG:4326', 'crs_transform': [1, 0, 0, 0, 1, 0]}], 'id': '2017-01-25', 'properties': {'system:time_start': 1485302400000, 'system:footprint': {'type': 'Polygon', 'coordinates': [[[163.10147025602208, -77.63763858931995], [163.31227042692052, -77.61056024754215], [163.23605277555333, -77.5841617068026], [163.02731254117833, -77.6108548909756], [163.10147025602208, -77.63763858931995]]]}, 'system:inde