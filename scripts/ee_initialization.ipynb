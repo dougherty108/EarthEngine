{
 "cells": [
  {
   "cell_type": "code",
   "execution_count": 1,
   "id": "65edca3a",
   "metadata": {
    "scrolled": true
   },
   "outputs": [
    {
     "name": "stdout",
     "output_type": "stream",
     "text": [
      "Requirement already satisfied: geemap in /Users/charliedougherty/opt/anaconda3/lib/python3.9/site-packages (0.32.1)\n",
      "Requirement already satisfied: folium>=0.13.0 in /Users/charliedougherty/opt/anaconda3/lib/python3.9/site-packages (from geemap) (0.17.0)\n",
      "Requirement already satisfied: bqplot in /Users/charliedougherty/opt/anaconda3/lib/python3.9/site-packages (from geemap) (0.12.43)\n",
      "Requirement already satisfied: pyperclip in /Users/charliedougherty/opt/anaconda3/lib/python3.9/site-packages (from geemap) (1.9.0)\n",
      "Requirement already satisfied: numpy in /Users/charliedougherty/opt/anaconda3/lib/python3.9/site-packages (from geemap) (1.21.5)\n",
      "Requirement already satisfied: geocoder in /Users/charliedougherty/opt/anaconda3/lib/python3.9/site-packages (from geemap) (1.38.1)\n",
      "Requirement already satisfied: matplotlib in /Users/charliedougherty/opt/anaconda3/lib/python3.9/site-packages (from geemap) (3.5.2)\n",
      "Requirement already satisfied: pyshp>=2.1.3 in /Users/charliedougherty/opt/anaconda3/lib/python3.9/site-packages (from geemap) (2.3.1)\n",
      "Requirement already satisfied: earthengine-api>=0.1.347 in /Users/charliedougherty/opt/anaconda3/lib/python3.9/site-packages (from geemap) (0.1.408)\n",
      "Requirement already satisfied: pandas in /Users/charliedougherty/opt/anaconda3/lib/python3.9/site-packages (from geemap) (1.4.4)\n",
      "Requirement already satisfied: ipyfilechooser>=0.6.0 in /Users/charliedougherty/opt/anaconda3/lib/python3.9/site-packages (from geemap) (0.6.0)\n",
      "Requirement already satisfied: plotly in /Users/charliedougherty/opt/anaconda3/lib/python3.9/site-packages (from geemap) (5.9.0)\n",
      "Requirement already satisfied: python-box in /Users/charliedougherty/opt/anaconda3/lib/python3.9/site-packages (from geemap) (7.2.0)\n",
      "Requirement already satisfied: scooby in /Users/charliedougherty/opt/anaconda3/lib/python3.9/site-packages (from geemap) (0.10.0)\n",
      "Requirement already satisfied: colour in /Users/charliedougherty/opt/anaconda3/lib/python3.9/site-packages (from geemap) (0.1.5)\n",
      "Requirement already satisfied: ipyevents in /Users/charliedougherty/opt/anaconda3/lib/python3.9/site-packages (from geemap) (2.0.2)\n",
      "Requirement already satisfied: eerepr>=0.0.4 in /Users/charliedougherty/opt/anaconda3/lib/python3.9/site-packages (from geemap) (0.0.4)\n",
      "Requirement already satisfied: ipytree in /Users/charliedougherty/opt/anaconda3/lib/python3.9/site-packages (from geemap) (0.2.2)\n",
      "Requirement already satisfied: ipyleaflet==0.18.2 in /Users/charliedougherty/opt/anaconda3/lib/python3.9/site-packages (from geemap) (0.18.2)\n",
      "Requirement already satisfied: ipywidgets<9,>=7.6.0 in /Users/charliedougherty/opt/anaconda3/lib/python3.9/site-packages (from ipyleaflet==0.18.2->geemap) (7.6.5)\n",
      "Requirement already satisfied: traittypes<3,>=0.2.1 in /Users/charliedougherty/opt/anaconda3/lib/python3.9/site-packages (from ipyleaflet==0.18.2->geemap) (0.2.1)\n",
      "Requirement already satisfied: branca>=0.5.0 in /Users/charliedougherty/opt/anaconda3/lib/python3.9/site-packages (from ipyleaflet==0.18.2->geemap) (0.7.2)\n",
      "Requirement already satisfied: xyzservices>=2021.8.1 in /Users/charliedougherty/opt/anaconda3/lib/python3.9/site-packages (from ipyleaflet==0.18.2->geemap) (2024.6.0)\n",
      "Requirement already satisfied: google-auth>=1.4.1 in /Users/charliedougherty/opt/anaconda3/lib/python3.9/site-packages (from earthengine-api>=0.1.347->geemap) (2.30.0)\n",
      "Requirement already satisfied: google-cloud-storage in /Users/charliedougherty/opt/anaconda3/lib/python3.9/site-packages (from earthengine-api>=0.1.347->geemap) (2.17.0)\n",
      "Requirement already satisfied: google-api-python-client>=1.12.1 in /Users/charliedougherty/opt/anaconda3/lib/python3.9/site-packages (from earthengine-api>=0.1.347->geemap) (2.134.0)\n",
      "Requirement already satisfied: requests in /Users/charliedougherty/opt/anaconda3/lib/python3.9/site-packages (from earthengine-api>=0.1.347->geemap) (2.28.1)\n",
      "Requirement already satisfied: google-auth-httplib2>=0.0.3 in /Users/charliedougherty/opt/anaconda3/lib/python3.9/site-packages (from earthengine-api>=0.1.347->geemap) (0.2.0)\n",
      "Requirement already satisfied: httplib2<1dev,>=0.9.2 in /Users/charliedougherty/opt/anaconda3/lib/python3.9/site-packages (from earthengine-api>=0.1.347->geemap) (0.22.0)\n",
      "Requirement already satisfied: jinja2>=2.9 in /Users/charliedougherty/opt/anaconda3/lib/python3.9/site-packages (from folium>=0.13.0->geemap) (3.1.4)\n",
      "Requirement already satisfied: traitlets>=4.3.0 in /Users/charliedougherty/opt/anaconda3/lib/python3.9/site-packages (from bqplot->geemap) (5.1.1)\n",
      "Requirement already satisfied: python-dateutil>=2.8.1 in /Users/charliedougherty/opt/anaconda3/lib/python3.9/site-packages (from pandas->geemap) (2.8.2)\n",
      "Requirement already satisfied: pytz>=2020.1 in /Users/charliedougherty/opt/anaconda3/lib/python3.9/site-packages (from pandas->geemap) (2022.1)\n",
      "Requirement already satisfied: future in /Users/charliedougherty/opt/anaconda3/lib/python3.9/site-packages (from geocoder->geemap) (0.18.2)\n",
      "Requirement already satisfied: click in /Users/charliedougherty/opt/anaconda3/lib/python3.9/site-packages (from geocoder->geemap) (8.0.4)\n",
      "Requirement already satisfied: six in /Users/charliedougherty/opt/anaconda3/lib/python3.9/site-packages (from geocoder->geemap) (1.16.0)\n",
      "Requirement already satisfied: ratelim in /Users/charliedougherty/opt/anaconda3/lib/python3.9/site-packages (from geocoder->geemap) (0.1.6)\n",
      "Requirement already satisfied: pyparsing>=2.2.1 in /Users/charliedougherty/opt/anaconda3/lib/python3.9/site-packages (from matplotlib->geemap) (3.0.9)\n",
      "Requirement already satisfied: packaging>=20.0 in /Users/charliedougherty/opt/anaconda3/lib/python3.9/site-packages (from matplotlib->geemap) (21.3)\n",
      "Requirement already satisfied: pillow>=6.2.0 in /Users/charliedougherty/opt/anaconda3/lib/python3.9/site-packages (from matplotlib->geemap) (9.2.0)\n",
      "Requirement already satisfied: kiwisolver>=1.0.1 in /Users/charliedougherty/opt/anaconda3/lib/python3.9/site-packages (from matplotlib->geemap) (1.4.2)\n",
      "Requirement already satisfied: fonttools>=4.22.0 in /Users/charliedougherty/opt/anaconda3/lib/python3.9/site-packages (from matplotlib->geemap) (4.25.0)\n",
      "Requirement already satisfied: cycler>=0.10 in /Users/charliedougherty/opt/anaconda3/lib/python3.9/site-packages (from matplotlib->geemap) (0.11.0)\n",
      "Requirement already satisfied: tenacity>=6.2.0 in /Users/charliedougherty/opt/anaconda3/lib/python3.9/site-packages (from plotly->geemap) (8.0.1)\n",
      "Requirement already satisfied: google-api-core!=2.0.*,!=2.1.*,!=2.2.*,!=2.3.0,<3.0.0.dev0,>=1.31.5 in /Users/charliedougherty/opt/anaconda3/lib/python3.9/site-packages (from google-api-python-client>=1.12.1->earthengine-api>=0.1.347->geemap) (2.19.1)\n",
      "Requirement already satisfied: uritemplate<5,>=3.0.1 in /Users/charliedougherty/opt/anaconda3/lib/python3.9/site-packages (from google-api-python-client>=1.12.1->earthengine-api>=0.1.347->geemap) (4.1.1)\n",
      "Requirement already satisfied: rsa<5,>=3.1.4 in /Users/charliedougherty/opt/anaconda3/lib/python3.9/site-packages (from google-auth>=1.4.1->earthengine-api>=0.1.347->geemap) (4.9)\n",
      "Requirement already satisfied: cachetools<6.0,>=2.0.0 in /Users/charliedougherty/opt/anaconda3/lib/python3.9/site-packages (from google-auth>=1.4.1->earthengine-api>=0.1.347->geemap) (5.3.3)\n",
      "Requirement already satisfied: pyasn1-modules>=0.2.1 in /Users/charliedougherty/opt/anaconda3/lib/python3.9/site-packages (from google-auth>=1.4.1->earthengine-api>=0.1.347->geemap) (0.2.8)\n",
      "Requirement already satisfied: widgetsnbextension~=3.5.0 in /Users/charliedougherty/opt/anaconda3/lib/python3.9/site-packages (from ipywidgets<9,>=7.6.0->ipyleaflet==0.18.2->geemap) (3.5.2)\n",
      "Requirement already satisfied: ipython>=4.0.0 in /Users/charliedougherty/opt/anaconda3/lib/python3.9/site-packages (from ipywidgets<9,>=7.6.0->ipyleaflet==0.18.2->geemap) (7.31.1)\n",
      "Requirement already satisfied: jupyterlab-widgets>=1.0.0 in /Users/charliedougherty/opt/anaconda3/lib/python3.9/site-packages (from ipywidgets<9,>=7.6.0->ipyleaflet==0.18.2->geemap) (1.0.0)\n",
      "Requirement already satisfied: ipykernel>=4.5.1 in /Users/charliedougherty/opt/anaconda3/lib/python3.9/site-packages (from ipywidgets<9,>=7.6.0->ipyleaflet==0.18.2->geemap) (6.15.2)\n",
      "Requirement already satisfied: nbformat>=4.2.0 in /Users/charliedougherty/opt/anaconda3/lib/python3.9/site-packages (from ipywidgets<9,>=7.6.0->ipyleaflet==0.18.2->geemap) (5.5.0)\n",
      "Requirement already satisfied: ipython-genutils~=0.2.0 in /Users/charliedougherty/opt/anaconda3/lib/python3.9/site-packages (from ipywidgets<9,>=7.6.0->ipyleaflet==0.18.2->geemap) (0.2.0)\n",
      "Requirement already satisfied: MarkupSafe>=2.0 in /Users/charliedougherty/opt/anaconda3/lib/python3.9/site-packages (from jinja2>=2.9->folium>=0.13.0->geemap) (2.0.1)\n"
     ]
    },
    {
     "name": "stdout",
     "output_type": "stream",
     "text": [
      "Requirement already satisfied: google-cloud-core<3.0dev,>=2.3.0 in /Users/charliedougherty/opt/anaconda3/lib/python3.9/site-packages (from google-cloud-storage->earthengine-api>=0.1.347->geemap) (2.4.1)\n",
      "Requirement already satisfied: google-crc32c<2.0dev,>=1.0 in /Users/charliedougherty/opt/anaconda3/lib/python3.9/site-packages (from google-cloud-storage->earthengine-api>=0.1.347->geemap) (1.5.0)\n",
      "Requirement already satisfied: google-resumable-media>=2.6.0 in /Users/charliedougherty/opt/anaconda3/lib/python3.9/site-packages (from google-cloud-storage->earthengine-api>=0.1.347->geemap) (2.7.1)\n",
      "Requirement already satisfied: idna<4,>=2.5 in /Users/charliedougherty/opt/anaconda3/lib/python3.9/site-packages (from requests->earthengine-api>=0.1.347->geemap) (3.3)\n",
      "Requirement already satisfied: certifi>=2017.4.17 in /Users/charliedougherty/opt/anaconda3/lib/python3.9/site-packages (from requests->earthengine-api>=0.1.347->geemap) (2022.9.24)\n",
      "Requirement already satisfied: charset-normalizer<3,>=2 in /Users/charliedougherty/opt/anaconda3/lib/python3.9/site-packages (from requests->earthengine-api>=0.1.347->geemap) (2.0.4)\n",
      "Requirement already satisfied: urllib3<1.27,>=1.21.1 in /Users/charliedougherty/opt/anaconda3/lib/python3.9/site-packages (from requests->earthengine-api>=0.1.347->geemap) (1.26.11)\n",
      "Requirement already satisfied: decorator in /Users/charliedougherty/opt/anaconda3/lib/python3.9/site-packages (from ratelim->geocoder->geemap) (5.1.1)\n",
      "Requirement already satisfied: proto-plus<2.0.0dev,>=1.22.3 in /Users/charliedougherty/opt/anaconda3/lib/python3.9/site-packages (from google-api-core!=2.0.*,!=2.1.*,!=2.2.*,!=2.3.0,<3.0.0.dev0,>=1.31.5->google-api-python-client>=1.12.1->earthengine-api>=0.1.347->geemap) (1.24.0)\n",
      "Requirement already satisfied: protobuf!=3.20.0,!=3.20.1,!=4.21.0,!=4.21.1,!=4.21.2,!=4.21.3,!=4.21.4,!=4.21.5,<6.0.0.dev0,>=3.19.5 in /Users/charliedougherty/opt/anaconda3/lib/python3.9/site-packages (from google-api-core!=2.0.*,!=2.1.*,!=2.2.*,!=2.3.0,<3.0.0.dev0,>=1.31.5->google-api-python-client>=1.12.1->earthengine-api>=0.1.347->geemap) (5.27.2)\n",
      "Requirement already satisfied: googleapis-common-protos<2.0.dev0,>=1.56.2 in /Users/charliedougherty/opt/anaconda3/lib/python3.9/site-packages (from google-api-core!=2.0.*,!=2.1.*,!=2.2.*,!=2.3.0,<3.0.0.dev0,>=1.31.5->google-api-python-client>=1.12.1->earthengine-api>=0.1.347->geemap) (1.63.2)\n",
      "Requirement already satisfied: debugpy>=1.0 in /Users/charliedougherty/opt/anaconda3/lib/python3.9/site-packages (from ipykernel>=4.5.1->ipywidgets<9,>=7.6.0->ipyleaflet==0.18.2->geemap) (1.5.1)\n",
      "Requirement already satisfied: jupyter-client>=6.1.12 in /Users/charliedougherty/opt/anaconda3/lib/python3.9/site-packages (from ipykernel>=4.5.1->ipywidgets<9,>=7.6.0->ipyleaflet==0.18.2->geemap) (7.3.4)\n",
      "Requirement already satisfied: pyzmq>=17 in /Users/charliedougherty/opt/anaconda3/lib/python3.9/site-packages (from ipykernel>=4.5.1->ipywidgets<9,>=7.6.0->ipyleaflet==0.18.2->geemap) (23.2.0)\n",
      "Requirement already satisfied: tornado>=6.1 in /Users/charliedougherty/opt/anaconda3/lib/python3.9/site-packages (from ipykernel>=4.5.1->ipywidgets<9,>=7.6.0->ipyleaflet==0.18.2->geemap) (6.1)\n",
      "Requirement already satisfied: nest-asyncio in /Users/charliedougherty/opt/anaconda3/lib/python3.9/site-packages (from ipykernel>=4.5.1->ipywidgets<9,>=7.6.0->ipyleaflet==0.18.2->geemap) (1.5.5)\n",
      "Requirement already satisfied: matplotlib-inline>=0.1 in /Users/charliedougherty/opt/anaconda3/lib/python3.9/site-packages (from ipykernel>=4.5.1->ipywidgets<9,>=7.6.0->ipyleaflet==0.18.2->geemap) (0.1.6)\n",
      "Requirement already satisfied: psutil in /Users/charliedougherty/opt/anaconda3/lib/python3.9/site-packages (from ipykernel>=4.5.1->ipywidgets<9,>=7.6.0->ipyleaflet==0.18.2->geemap) (5.9.0)\n",
      "Requirement already satisfied: appnope in /Users/charliedougherty/opt/anaconda3/lib/python3.9/site-packages (from ipykernel>=4.5.1->ipywidgets<9,>=7.6.0->ipyleaflet==0.18.2->geemap) (0.1.2)\n",
      "Requirement already satisfied: jedi>=0.16 in /Users/charliedougherty/opt/anaconda3/lib/python3.9/site-packages (from ipython>=4.0.0->ipywidgets<9,>=7.6.0->ipyleaflet==0.18.2->geemap) (0.18.1)\n",
      "Requirement already satisfied: setuptools>=18.5 in /Users/charliedougherty/opt/anaconda3/lib/python3.9/site-packages (from ipython>=4.0.0->ipywidgets<9,>=7.6.0->ipyleaflet==0.18.2->geemap) (63.4.1)\n",
      "Requirement already satisfied: pygments in /Users/charliedougherty/opt/anaconda3/lib/python3.9/site-packages (from ipython>=4.0.0->ipywidgets<9,>=7.6.0->ipyleaflet==0.18.2->geemap) (2.11.2)\n",
      "Requirement already satisfied: backcall in /Users/charliedougherty/opt/anaconda3/lib/python3.9/site-packages (from ipython>=4.0.0->ipywidgets<9,>=7.6.0->ipyleaflet==0.18.2->geemap) (0.2.0)\n",
      "Requirement already satisfied: pickleshare in /Users/charliedougherty/opt/anaconda3/lib/python3.9/site-packages (from ipython>=4.0.0->ipywidgets<9,>=7.6.0->ipyleaflet==0.18.2->geemap) (0.7.5)\n",
      "Requirement already satisfied: prompt-toolkit!=3.0.0,!=3.0.1,<3.1.0,>=2.0.0 in /Users/charliedougherty/opt/anaconda3/lib/python3.9/site-packages (from ipython>=4.0.0->ipywidgets<9,>=7.6.0->ipyleaflet==0.18.2->geemap) (3.0.20)\n",
      "Requirement already satisfied: pexpect>4.3 in /Users/charliedougherty/opt/anaconda3/lib/python3.9/site-packages (from ipython>=4.0.0->ipywidgets<9,>=7.6.0->ipyleaflet==0.18.2->geemap) (4.8.0)\n",
      "Requirement already satisfied: fastjsonschema in /Users/charliedougherty/opt/anaconda3/lib/python3.9/site-packages (from nbformat>=4.2.0->ipywidgets<9,>=7.6.0->ipyleaflet==0.18.2->geemap) (2.16.2)\n",
      "Requirement already satisfied: jsonschema>=2.6 in /Users/charliedougherty/opt/anaconda3/lib/python3.9/site-packages (from nbformat>=4.2.0->ipywidgets<9,>=7.6.0->ipyleaflet==0.18.2->geemap) (4.16.0)\n",
      "Requirement already satisfied: jupyter_core in /Users/charliedougherty/opt/anaconda3/lib/python3.9/site-packages (from nbformat>=4.2.0->ipywidgets<9,>=7.6.0->ipyleaflet==0.18.2->geemap) (4.11.1)\n",
      "Requirement already satisfied: pyasn1<0.5.0,>=0.4.6 in /Users/charliedougherty/opt/anaconda3/lib/python3.9/site-packages (from pyasn1-modules>=0.2.1->google-auth>=1.4.1->earthengine-api>=0.1.347->geemap) (0.4.8)\n",
      "Requirement already satisfied: notebook>=4.4.1 in /Users/charliedougherty/opt/anaconda3/lib/python3.9/site-packages (from widgetsnbextension~=3.5.0->ipywidgets<9,>=7.6.0->ipyleaflet==0.18.2->geemap) (6.4.12)\n",
      "Requirement already satisfied: parso<0.9.0,>=0.8.0 in /Users/charliedougherty/opt/anaconda3/lib/python3.9/site-packages (from jedi>=0.16->ipython>=4.0.0->ipywidgets<9,>=7.6.0->ipyleaflet==0.18.2->geemap) (0.8.3)\n",
      "Requirement already satisfied: pyrsistent!=0.17.0,!=0.17.1,!=0.17.2,>=0.14.0 in /Users/charliedougherty/opt/anaconda3/lib/python3.9/site-packages (from jsonschema>=2.6->nbformat>=4.2.0->ipywidgets<9,>=7.6.0->ipyleaflet==0.18.2->geemap) (0.18.0)\n",
      "Requirement already satisfied: attrs>=17.4.0 in /Users/charliedougherty/opt/anaconda3/lib/python3.9/site-packages (from jsonschema>=2.6->nbformat>=4.2.0->ipywidgets<9,>=7.6.0->ipyleaflet==0.18.2->geemap) (21.4.0)\n",
      "Requirement already satisfied: entrypoints in /Users/charliedougherty/opt/anaconda3/lib/python3.9/site-packages (from jupyter-client>=6.1.12->ipykernel>=4.5.1->ipywidgets<9,>=7.6.0->ipyleaflet==0.18.2->geemap) (0.4)\n",
      "Requirement already satisfied: Send2Trash>=1.8.0 in /Users/charliedougherty/opt/anaconda3/lib/python3.9/site-packages (from notebook>=4.4.1->widgetsnbextension~=3.5.0->ipywidgets<9,>=7.6.0->ipyleaflet==0.18.2->geemap) (1.8.0)\n",
      "Requirement already satisfied: nbconvert>=5 in /Users/charliedougherty/opt/anaconda3/lib/python3.9/site-packages (from notebook>=4.4.1->widgetsnbextension~=3.5.0->ipywidgets<9,>=7.6.0->ipyleaflet==0.18.2->geemap) (6.4.4)\n",
      "Requirement already satisfied: prometheus-client in /Users/charliedougherty/opt/anaconda3/lib/python3.9/site-packages (from notebook>=4.4.1->widgetsnbextension~=3.5.0->ipywidgets<9,>=7.6.0->ipyleaflet==0.18.2->geemap) (0.14.1)\n",
      "Requirement already satisfied: terminado>=0.8.3 in /Users/charliedougherty/opt/anaconda3/lib/python3.9/site-packages (from notebook>=4.4.1->widgetsnbextension~=3.5.0->ipywidgets<9,>=7.6.0->ipyleaflet==0.18.2->geemap) (0.13.1)\n",
      "Requirement already satisfied: argon2-cffi in /Users/charliedougherty/opt/anaconda3/lib/python3.9/site-packages (from notebook>=4.4.1->widgetsnbextension~=3.5.0->ipywidgets<9,>=7.6.0->ipyleaflet==0.18.2->geemap) (21.3.0)\n",
      "Requirement already satisfied: ptyprocess>=0.5 in /Users/charliedougherty/opt/anaconda3/lib/python3.9/site-packages (from pexpect>4.3->ipython>=4.0.0->ipywidgets<9,>=7.6.0->ipyleaflet==0.18.2->geemap) (0.7.0)\n",
      "Requirement already satisfied: wcwidth in /Users/charliedougherty/opt/anaconda3/lib/python3.9/site-packages (from prompt-toolkit!=3.0.0,!=3.0.1,<3.1.0,>=2.0.0->ipython>=4.0.0->ipywidgets<9,>=7.6.0->ipyleaflet==0.18.2->geemap) (0.2.5)\n"
     ]
    },
    {
     "name": "stdout",
     "output_type": "stream",
     "text": [
      "Requirement already satisfied: jupyterlab-pygments in /Users/charliedougherty/opt/anaconda3/lib/python3.9/site-packages (from nbconvert>=5->notebook>=4.4.1->widgetsnbextension~=3.5.0->ipywidgets<9,>=7.6.0->ipyleaflet==0.18.2->geemap) (0.1.2)\n",
      "Requirement already satisfied: testpath in /Users/charliedougherty/opt/anaconda3/lib/python3.9/site-packages (from nbconvert>=5->notebook>=4.4.1->widgetsnbextension~=3.5.0->ipywidgets<9,>=7.6.0->ipyleaflet==0.18.2->geemap) (0.6.0)\n",
      "Requirement already satisfied: nbclient<0.6.0,>=0.5.0 in /Users/charliedougherty/opt/anaconda3/lib/python3.9/site-packages (from nbconvert>=5->notebook>=4.4.1->widgetsnbextension~=3.5.0->ipywidgets<9,>=7.6.0->ipyleaflet==0.18.2->geemap) (0.5.13)\n",
      "Requirement already satisfied: pandocfilters>=1.4.1 in /Users/charliedougherty/opt/anaconda3/lib/python3.9/site-packages (from nbconvert>=5->notebook>=4.4.1->widgetsnbextension~=3.5.0->ipywidgets<9,>=7.6.0->ipyleaflet==0.18.2->geemap) (1.5.0)\n",
      "Requirement already satisfied: beautifulsoup4 in /Users/charliedougherty/opt/anaconda3/lib/python3.9/site-packages (from nbconvert>=5->notebook>=4.4.1->widgetsnbextension~=3.5.0->ipywidgets<9,>=7.6.0->ipyleaflet==0.18.2->geemap) (4.11.1)\n",
      "Requirement already satisfied: mistune<2,>=0.8.1 in /Users/charliedougherty/opt/anaconda3/lib/python3.9/site-packages (from nbconvert>=5->notebook>=4.4.1->widgetsnbextension~=3.5.0->ipywidgets<9,>=7.6.0->ipyleaflet==0.18.2->geemap) (0.8.4)\n",
      "Requirement already satisfied: bleach in /Users/charliedougherty/opt/anaconda3/lib/python3.9/site-packages (from nbconvert>=5->notebook>=4.4.1->widgetsnbextension~=3.5.0->ipywidgets<9,>=7.6.0->ipyleaflet==0.18.2->geemap) (4.1.0)\n",
      "Requirement already satisfied: defusedxml in /Users/charliedougherty/opt/anaconda3/lib/python3.9/site-packages (from nbconvert>=5->notebook>=4.4.1->widgetsnbextension~=3.5.0->ipywidgets<9,>=7.6.0->ipyleaflet==0.18.2->geemap) (0.7.1)\n",
      "Requirement already satisfied: argon2-cffi-bindings in /Users/charliedougherty/opt/anaconda3/lib/python3.9/site-packages (from argon2-cffi->notebook>=4.4.1->widgetsnbextension~=3.5.0->ipywidgets<9,>=7.6.0->ipyleaflet==0.18.2->geemap) (21.2.0)\n",
      "Requirement already satisfied: cffi>=1.0.1 in /Users/charliedougherty/opt/anaconda3/lib/python3.9/site-packages (from argon2-cffi-bindings->argon2-cffi->notebook>=4.4.1->widgetsnbextension~=3.5.0->ipywidgets<9,>=7.6.0->ipyleaflet==0.18.2->geemap) (1.15.1)\n",
      "Requirement already satisfied: soupsieve>1.2 in /Users/charliedougherty/opt/anaconda3/lib/python3.9/site-packages (from beautifulsoup4->nbconvert>=5->notebook>=4.4.1->widgetsnbextension~=3.5.0->ipywidgets<9,>=7.6.0->ipyleaflet==0.18.2->geemap) (2.3.1)\n",
      "Requirement already satisfied: webencodings in /Users/charliedougherty/opt/anaconda3/lib/python3.9/site-packages (from bleach->nbconvert>=5->notebook>=4.4.1->widgetsnbextension~=3.5.0->ipywidgets<9,>=7.6.0->ipyleaflet==0.18.2->geemap) (0.5.1)\n",
      "Requirement already satisfied: pycparser in /Users/charliedougherty/opt/anaconda3/lib/python3.9/site-packages (from cffi>=1.0.1->argon2-cffi-bindings->argon2-cffi->notebook>=4.4.1->widgetsnbextension~=3.5.0->ipywidgets<9,>=7.6.0->ipyleaflet==0.18.2->geemap) (2.21)\n",
      "Note: you may need to restart the kernel to use updated packages.\n"
     ]
    }
   ],
   "source": [
    "pip install geemap"
   ]
  },
  {
   "cell_type": "code",
   "execution_count": 2,
   "id": "0e116a84",
   "metadata": {},
   "outputs": [],
   "source": [
    "# import libraries\n",
    "import ee\n",
    "import geemap"
   ]
  },
  {
   "cell_type": "code",
   "execution_count": 3,
   "id": "1067e7f4",
   "metadata": {},
   "outputs": [
    {
     "data": {
      "text/html": [
       "\n",
       "            <style>\n",
       "                .geemap-dark {\n",
       "                    --jp-widgets-color: white;\n",
       "                    --jp-widgets-label-color: white;\n",
       "                    --jp-ui-font-color1: white;\n",
       "                    --jp-layout-color2: #454545;\n",
       "                    background-color: #383838;\n",
       "                }\n",
       "\n",
       "                .geemap-dark .jupyter-button {\n",
       "                    --jp-layout-color3: #383838;\n",
       "                }\n",
       "\n",
       "                .geemap-colab {\n",
       "                    background-color: var(--colab-primary-surface-color, white);\n",
       "                }\n",
       "\n",
       "                .geemap-colab .jupyter-button {\n",
       "                    --jp-layout-color3: var(--colab-primary-surface-color, white);\n",
       "                }\n",
       "            </style>\n",
       "            "
      ],
      "text/plain": [
       "<IPython.core.display.HTML object>"
      ]
     },
     "metadata": {},
     "output_type": "display_data"
    },
    {
     "data": {
      "text/plain": [
       "True"
      ]
     },
     "execution_count": 3,
     "metadata": {},
     "output_type": "execute_result"
    }
   ],
   "source": [
    "# authenticate and initialize ee\n",
    "ee.Authenticate()"
   ]
  },
  {
   "cell_type": "code",
   "execution_count": 4,
   "id": "0fc3e557",
   "metadata": {},
   "outputs": [
    {
     "data": {
      "text/html": [
       "\n",
       "            <style>\n",
       "                .geemap-dark {\n",
       "                    --jp-widgets-color: white;\n",
       "                    --jp-widgets-label-color: white;\n",
       "                    --jp-ui-font-color1: white;\n",
       "                    --jp-layout-color2: #454545;\n",
       "                    background-color: #383838;\n",
       "                }\n",
       "\n",
       "                .geemap-dark .jupyter-button {\n",
       "                    --jp-layout-color3: #383838;\n",
       "                }\n",
       "\n",
       "                .geemap-colab {\n",
       "                    background-color: var(--colab-primary-surface-color, white);\n",
       "                }\n",
       "\n",
       "                .geemap-colab .jupyter-button {\n",
       "                    --jp-layout-color3: var(--colab-primary-surface-color, white);\n",
       "                }\n",
       "            </style>\n",
       "            "
      ],
      "text/plain": [
       "<IPython.core.display.HTML object>"
      ]
     },
     "metadata": {},
     "output_type": "display_data"
    }
   ],
   "source": [
    "ee.Initialize()"
   ]
  },
  {
   "cell_type": "code",
   "execution_count": 5,
   "id": "b706cf11",
   "metadata": {},
   "outputs": [
    {
     "data": {
      "text/html": [
       "\n",
       "            <style>\n",
       "                .geemap-dark {\n",
       "                    --jp-widgets-color: white;\n",
       "                    --jp-widgets-label-color: white;\n",
       "                    --jp-ui-font-color1: white;\n",
       "                    --jp-layout-color2: #454545;\n",
       "                    background-color: #383838;\n",
       "                }\n",
       "\n",
       "                .geemap-dark .jupyter-button {\n",
       "                    --jp-layout-color3: #383838;\n",
       "                }\n",
       "\n",
       "                .geemap-colab {\n",
       "                    background-color: var(--colab-primary-surface-color, white);\n",
       "                }\n",
       "\n",
       "                .geemap-colab .jupyter-button {\n",
       "                    --jp-layout-color3: var(--colab-primary-surface-color, white);\n",
       "                }\n",
       "            </style>\n",
       "            "
      ],
      "text/plain": [
       "<IPython.core.display.HTML object>"
      ]
     },
     "metadata": {},
     "output_type": "display_data"
    },
    {
     "data": {
      "application/vnd.jupyter.widget-view+json": {
       "model_id": "755cc6d5b7d641d1a31976d471c40d68",
       "version_major": 2,
       "version_minor": 0
      },
      "text/plain": [
       "Map(center=[0, 0], controls=(WidgetControl(options=['position', 'transparent_bg'], widget=SearchDataGUI(childr…"
      ]
     },
     "metadata": {},
     "output_type": "display_data"
    }
   ],
   "source": [
    "Map = geemap.Map()\n",
    "Map"
   ]
  },
  {
   "cell_type": "code",
   "execution_count": 26,
   "id": "aec417e6",
   "metadata": {},
   "outputs": [
    {
     "data": {
      "text/html": [
       "\n",
       "            <style>\n",
       "                .geemap-dark {\n",
       "                    --jp-widgets-color: white;\n",
       "                    --jp-widgets-label-color: white;\n",
       "                    --jp-ui-font-color1: white;\n",
       "                    --jp-layout-color2: #454545;\n",
       "                    background-color: #383838;\n",
       "                }\n",
       "\n",
       "                .geemap-dark .jupyter-button {\n",
       "                    --jp-layout-color3: #383838;\n",
       "                }\n",
       "\n",
       "                .geemap-colab {\n",
       "                    background-color: var(--colab-primary-surface-color, white);\n",
       "                }\n",
       "\n",
       "                .geemap-colab .jupyter-button {\n",
       "                    --jp-layout-color3: var(--colab-primary-surface-color, white);\n",
       "                }\n",
       "            </style>\n",
       "            "
      ],
      "text/plain": [
       "<IPython.core.display.HTML object>"
      ]
     },
     "metadata": {},
     "output_type": "display_data"
    },
    {
     "data": {
      "application/vnd.jupyter.widget-view+json": {
       "model_id": "755cc6d5b7d641d1a31976d471c40d68",
       "version_major": 2,
       "version_minor": 0
      },
      "text/plain": [
       "Map(bottom=38087.0, center=[-26.56458148548865, 31.497700494046793], controls=(WidgetControl(options=['positio…"
      ]
     },
     "metadata": {},
     "output_type": "display_data"
    },
    {
     "name": "stdout",
     "output_type": "stream",
     "text": [
      "Esri.WorldImagery has been already added before.\n"
     ]
    }
   ],
   "source": [
    "# feature collection is like a shapefile in traditional GIS.\n",
    "\n",
    "# this creates the base map, and creates a shapefile around the region of \n",
    "# interest. \n",
    "countries = ee.FeatureCollection(\"USDOS/LSIB_SIMPLE/2017\");\n",
    "roi = countries.filter(ee.Filter.eq(\"country_na\", \"Swaziland\"));\n",
    "Map.addLayer(roi, {}, \"Swaziland\")\n",
    "Map.centerObject(roi, 8);\n",
    "Map\n",
    "\n",
    "#Import the landsat data\n",
    "landsat = ee.ImageCollection(\"LANDSAT/LC08/C02/T1\") \\\n",
    "    .filterDate('2016-01-01', '2017-01-01') \\\n",
    "    .filterBounds(roi)\n",
    "\n",
    "# remove cloud cover, there is a built in landsat algorithm for this\n",
    "composite = ee.Algorithms.Landsat.simpleComposite(**{\n",
    "    'collection': landsat, \n",
    "    'asFloat' : True\n",
    "})\n",
    "\n",
    "rgbVis = {'bands': ['B4', 'B3', 'B2'], 'min': 0, 'max':0.3}\n",
    "Map.addLayer(composite.clip(roi), rgbVis, \"Landsat RGB\")\n",
    "Map\n"
   ]
  },
  {
   "cell_type": "code",
   "execution_count": null,
   "id": "56b712e0",
   "metadata": {},
   "outputs": [],
   "source": []
  },
  {
   "cell_type": "code",
   "execution_count": null,
   "id": "a2cb2527",
   "metadata": {},
   "outputs": [],
   "source": []
  },
  {
   "cell_type": "code",
   "execution_count": null,
   "id": "ed519cfa",
   "metadata": {},
   "outputs": [],
   "source": []
  }
 ],
 "metadata": {
  "kernelspec": {
   "display_name": "Python 3 (ipykernel)",
   "language": "python",
   "name": "python3"
  },
  "language_info": {
   "codemirror_mode": {
    "name": "ipython",
    "version": 3
   },
   "file_extension": ".py",
   "mimetype": "text/x-python",
   "name": "python",
   "nbconvert_exporter": "python",
   "pygments_lexer": "ipython3",
   "version": "3.9.13"
  }
 },
 "nbformat": 4,
 "nbformat_minor": 5
}
