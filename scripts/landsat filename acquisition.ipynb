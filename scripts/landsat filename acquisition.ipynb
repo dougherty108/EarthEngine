{
 "cells": [
  {
   "cell_type": "code",
   "execution_count": 3,
   "id": "e1d0ed2e",
   "metadata": {},
   "outputs": [
    {
     "name": "stderr",
     "output_type": "stream",
     "text": [
      "IOPub data rate exceeded.\n",
      "The notebook server will temporarily stop sending output\n",
      "to the client in order to avoid crashing it.\n",
      "To change this limit, set the config variable\n",
      "`--NotebookApp.iopub_data_rate_limit`.\n",
      "\n",
      "Current values:\n",
      "NotebookApp.iopub_data_rate_limit=1000000.0 (bytes/sec)\n",
      "NotebookApp.rate_limit_window=3.0 (secs)\n",
      "\n"
     ]
    }
   ],
   "source": [
    "import ee\n",
    "\n",
    "# Initialize Earth Engine\n",
    "ee.Initialize()\n",
    "\n",
    "# Define Landsat 9 Collection 2 image collection\n",
    "landsat9_collection = ee.ImageCollection('LANDSAT/LC09/C02/T1_L2')\n",
    "\n",
    "# Filter by date or region if needed\n",
    "landsat9_collection = landsat9_collection.filterDate('2023-01-01', '2023-12-31')\n",
    "\n",
    "# Get list of image IDs (file names)\n",
    "image_ids = landsat9_collection.aggregate_array('system:id').getInfo()\n",
    "\n",
    "# Print the list of image IDs (file names)\n",
    "print(\"List of Landsat 9 Collection 2 image IDs (file names):\")\n",
    "print(image_ids)"
   ]
  },
  {
   "cell_type": "code",
   "execution_count": null,
   "id": "d27aa865",
   "metadata": {},
   "outputs": [],
   "source": []
  }
 ],
 "metadata": {
  "kernelspec": {
   "display_name": "Python 3 (ipykernel)",
   "language": "python",
   "name": "python3"
  },
  "language_info": {
   "codemirror_mode": {
    "name": "ipython",
    "version": 3
   },
   "file_extension": ".py",
   "mimetype": "text/x-python",
   "name": "python",
   "nbconvert_exporter": "python",
   "pygments_lexer": "ipython3",
   "version": "3.9.13"
  }
 },
 "nbformat": 4,
 "nbformat_minor": 5
}
