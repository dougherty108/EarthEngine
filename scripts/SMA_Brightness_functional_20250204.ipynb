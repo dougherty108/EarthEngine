{
 "cells": [
  {
   "cell_type": "code",
   "execution_count": 1,
   "metadata": {},
   "outputs": [],
   "source": [
    "import ee\n",
    "import geemap\n",
    "\n",
    "# Initialize Earth Engine\n",
    "ee.Authenticate()\n",
    "ee.Initialize()\n"
   ]
  },
  {
   "cell_type": "code",
   "execution_count": 121,
   "metadata": {},
   "outputs": [
    {
     "data": {
      "text/html": [
       "\n",
       "            <style>\n",
       "                .geemap-dark {\n",
       "                    --jp-widgets-color: white;\n",
       "                    --jp-widgets-label-color: white;\n",
       "                    --jp-ui-font-color1: white;\n",
       "                    --jp-layout-color2: #454545;\n",
       "                    background-color: #383838;\n",
       "                }\n",
       "\n",
       "                .geemap-dark .jupyter-button {\n",
       "                    --jp-layout-color3: #383838;\n",
       "                }\n",
       "\n",
       "                .geemap-colab {\n",
       "                    background-color: var(--colab-primary-surface-color, white);\n",
       "                }\n",
       "\n",
       "                .geemap-colab .jupyter-button {\n",
       "                    --jp-layout-color3: var(--colab-primary-surface-color, white);\n",
       "                }\n",
       "            </style>\n",
       "            "
      ],
      "text/plain": [
       "<IPython.core.display.HTML object>"
      ]
     },
     "metadata": {},
     "output_type": "display_data"
    }
   ],
   "source": [
    "# Define the ROIs (already provided)\n",
    "roi_for_brightness = ee.Geometry.Polygon(\n",
    "    [[163.05418845709113, -77.62217141675877], \n",
    "    [163.04800864752082, -77.61908009873933], \n",
    "    [163.0795943408802, -77.61422077772508], \n",
    "    [163.08302756841925, -77.61569349746868],\n",
    "    [163.09813376959113, -77.60950691594756], \n",
    "    [163.1407057910755, -77.60567560295046], \n",
    "    [163.15924521978644, -77.60228539245952], \n",
    "    [163.1736647754505, -77.60140083961204], \n",
    "    [163.17435142095832, -77.5996315475443],\n",
    "    [163.18259116705207, -77.59786200695194],\n",
    "    [163.19769736822394, -77.60125340809783], \n",
    "    [163.21417686041144, -77.60184312380088], \n",
    "    [163.2505690723255, -77.59874680831578], \n",
    "    [163.25812217291144, -77.60036878277327],\n",
    "    [163.25400229986457, -77.60302247238047],\n",
    "    [163.25468894537238, -77.60493867830638], \n",
    "    [163.25880881841925, -77.60670722499943], \n",
    "    [163.2334029346302, -77.60788611813062], \n",
    "    [163.21967002447394, -77.60655985559598],\n",
    "    [163.20799705084113, -77.60980158403946],\n",
    "    [163.21280356939582, -77.61156944773495], \n",
    "    [163.19357749517707, -77.61716604483516], \n",
    "    [163.18121787603644, -77.6155462332516], \n",
    "    [163.15237876470832, -77.61687154915111],\n",
    "    [163.14894553716925, -77.62025783330262],\n",
    "    [163.12010642584113, -77.62231860342517], \n",
    "    [163.10637351568488, -77.62217141675877], \n",
    "    [163.0795943408802, -77.61893287416414], \n",
    "    [163.06448813970832, -77.61849119009841],\n",
    "    [163.06723472173957, -77.62099386140082],\n",
    "    [163.06448813970832, -77.6226129715892],\n",
    "    [163.05418845709113, -77.62217141675877]]\n",
    ")\n",
    "\n",
    "bright_roi = ee.Geometry.Polygon([\n",
    "    [163.12698754679585, -77.6073690739641], \n",
    "    [163.16406640421772, -77.60946879016157], \n",
    "    [163.15445336710835, -77.61628124600912], \n",
    "    [163.11823281657124, -77.6140353843151],\n",
    "    [163.12698754679585, -77.6073690739641]\n",
    "])\n",
    "\n",
    "dim_roi = ee.Geometry.Polygon([\n",
    "    [162.51530564185225,-77.69439782758747],\n",
    "    [162.52303040381514,-77.69677565811227],\n",
    "    [162.55272782202803,-77.69223909736411],\n",
    "    [162.54431641455733,-77.68997019942111],\n",
    "    [162.51530564185225,-77.69439782758747]\n",
    "])\n",
    "\n",
    "# Define ROI for analysis\n",
    "roi_for_cropping = ee.Geometry.Polygon([\n",
    "    [163.24357885656732,-77.5812101682432],\n",
    "    [162.70112890539545,-77.64219641154588],\n",
    "    [162.74919409094232,-77.66275299707411],\n",
    "    [162.38939184484857,-77.70376522386023],\n",
    "    [162.25068945227045,-77.71808776695123],\n",
    "    [162.3028745108642,-77.73968659951969],\n",
    "    [163.33146948156732,-77.61630600197311],\n",
    "    [163.24357885656732,-77.5812101682432]\n",
    "    ]\n",
    "    )"
   ]
  },
  {
   "cell_type": "code",
   "execution_count": 122,
   "metadata": {},
   "outputs": [
    {
     "data": {
      "text/html": [
       "\n",
       "            <style>\n",
       "                .geemap-dark {\n",
       "                    --jp-widgets-color: white;\n",
       "                    --jp-widgets-label-color: white;\n",
       "                    --jp-ui-font-color1: white;\n",
       "                    --jp-layout-color2: #454545;\n",
       "                    background-color: #383838;\n",
       "                }\n",
       "\n",
       "                .geemap-dark .jupyter-button {\n",
       "                    --jp-layout-color3: #383838;\n",
       "                }\n",
       "\n",
       "                .geemap-colab {\n",
       "                    background-color: var(--colab-primary-surface-color, white);\n",
       "                }\n",
       "\n",
       "                .geemap-colab .jupyter-button {\n",
       "                    --jp-layout-color3: var(--colab-primary-surface-color, white);\n",
       "                }\n",
       "            </style>\n",
       "            "
      ],
      "text/plain": [
       "<IPython.core.display.HTML object>"
      ]
     },
     "metadata": {},
     "output_type": "display_data"
    }
   ],
   "source": [
    "#define a new ROI that is potentially simpler\n",
    "roi_box = ee.Geometry.Polygon(\n",
    "    [[163.12698754679585, -77.6073690739641], \n",
    "    [163.16406640421772, -77.60946879016157], \n",
    "    [163.15445336710835, -77.61628124600912], \n",
    "    [163.11823281657124, -77.6140353843151],\n",
    "    [163.12698754679585, -77.6073690739641]]\n",
    ")"
   ]
  },
  {
   "cell_type": "code",
   "execution_count": 123,
   "metadata": {},
   "outputs": [
    {
     "data": {
      "text/html": [
       "\n",
       "            <style>\n",
       "                .geemap-dark {\n",
       "                    --jp-widgets-color: white;\n",
       "                    --jp-widgets-label-color: white;\n",
       "                    --jp-ui-font-color1: white;\n",
       "                    --jp-layout-color2: #454545;\n",
       "                    background-color: #383838;\n",
       "                }\n",
       "\n",
       "                .geemap-dark .jupyter-button {\n",
       "                    --jp-layout-color3: #383838;\n",
       "                }\n",
       "\n",
       "                .geemap-colab {\n",
       "                    background-color: var(--colab-primary-surface-color, white);\n",
       "                }\n",
       "\n",
       "                .geemap-colab .jupyter-button {\n",
       "                    --jp-layout-color3: var(--colab-primary-surface-color, white);\n",
       "                }\n",
       "            </style>\n",
       "            "
      ],
      "text/plain": [
       "<IPython.core.display.HTML object>"
      ]
     },
     "metadata": {},
     "output_type": "display_data"
    }
   ],
   "source": [
    "pointed = ee.Geometry.BBox(162.1, -77.73, 163.3, -77.59)"
   ]
  },
  {
   "cell_type": "code",
   "execution_count": 138,
   "metadata": {},
   "outputs": [
    {
     "data": {
      "text/html": [
       "\n",
       "            <style>\n",
       "                .geemap-dark {\n",
       "                    --jp-widgets-color: white;\n",
       "                    --jp-widgets-label-color: white;\n",
       "                    --jp-ui-font-color1: white;\n",
       "                    --jp-layout-color2: #454545;\n",
       "                    background-color: #383838;\n",
       "                }\n",
       "\n",
       "                .geemap-dark .jupyter-button {\n",
       "                    --jp-layout-color3: #383838;\n",
       "                }\n",
       "\n",
       "                .geemap-colab {\n",
       "                    background-color: var(--colab-primary-surface-color, white);\n",
       "                }\n",
       "\n",
       "                .geemap-colab .jupyter-button {\n",
       "                    --jp-layout-color3: var(--colab-primary-surface-color, white);\n",
       "                }\n",
       "            </style>\n",
       "            "
      ],
      "text/plain": [
       "<IPython.core.display.HTML object>"
      ]
     },
     "metadata": {},
     "output_type": "display_data"
    }
   ],
   "source": [
    "## add the image collection\n",
    "ids = ee.List(['LANDSAT_8_2016-11-02', 'LANDSAT_8_2016-11-04', 'LANDSAT_8_2016-11-06', \n",
    "               'LANDSAT_8_2016-11-08', 'LANDSAT_8_2016-11-13', 'LANDSAT_8_2016-11-15', \n",
    "               'LANDSAT_8_2016-12-10', 'LANDSAT_8_2016-12-13', 'LANDSAT_8_2016-12-15', \n",
    "               'LANDSAT_8_2016-12-17', 'LANDSAT_8_2016-12-19', 'LANDSAT_8_2016-12-24', \n",
    "               'LANDSAT_8_2017-01-02', 'LANDSAT_8_2017-01-11', 'LANDSAT_8_2017-01-14', \n",
    "               'LANDSAT_8_2017-01-18', 'LANDSAT_8_2017-01-25', 'LANDSAT_8_2017-01-27', \n",
    "               'LANDSAT_8_2017-01-30', 'LANDSAT_8_2017-02-01', 'LANDSAT_8_2017-11-04', \n",
    "               'LANDSAT_8_2017-11-07', 'LANDSAT_8_2017-11-18', 'LANDSAT_8_2017-11-20', \n",
    "               'LANDSAT_8_2017-11-21', 'LANDSAT_8_2017-11-25', 'LANDSAT_8_2017-11-27', \n",
    "               'LANDSAT_8_2017-11-30', 'LANDSAT_8_2017-12-02', 'LANDSAT_8_2017-12-07', \n",
    "               'LANDSAT_8_2017-12-16', 'LANDSAT_8_2017-12-23', 'LANDSAT_8_2018-01-03', \n",
    "               'LANDSAT_8_2018-01-05', 'LANDSAT_8_2018-01-07', 'LANDSAT_8_2018-01-10', \n",
    "               'LANDSAT_8_2018-01-12', 'LANDSAT_8_2018-01-14', 'LANDSAT_8_2018-01-19', \n",
    "               'LANDSAT_8_2018-01-26', 'LANDSAT_8_2018-01-30', 'LANDSAT_8_2018-11-05', \n",
    "               'LANDSAT_8_2018-11-07', 'LANDSAT_8_2018-11-08', 'LANDSAT_8_2018-11-12', \n",
    "               'LANDSAT_8_2018-11-17', 'LANDSAT_8_2018-11-19', 'LANDSAT_8_2018-11-23', \n",
    "               'LANDSAT_8_2018-11-24', 'LANDSAT_8_2018-11-26', 'LANDSAT_8_2018-11-28', \n",
    "               'LANDSAT_8_2018-11-30', 'LANDSAT_8_2018-12-05', 'LANDSAT_8_2018-12-30', \n",
    "               'LANDSAT_8_2019-01-01', 'LANDSAT_8_2019-01-04', 'LANDSAT_8_2019-01-06', \n",
    "               'LANDSAT_8_2019-01-10', 'LANDSAT_8_2019-01-11', 'LANDSAT_8_2019-01-15', \n",
    "               'LANDSAT_8_2019-01-24', 'LANDSAT_8_2019-01-26', 'LANDSAT_8_2019-11-06', \n",
    "               'LANDSAT_8_2019-11-08', 'LANDSAT_8_2019-11-10', 'LANDSAT_8_2019-11-11', \n",
    "               'LANDSAT_8_2019-11-15', 'LANDSAT_8_2019-11-17', 'LANDSAT_8_2019-11-24', \n",
    "               'LANDSAT_8_2019-11-26', 'LANDSAT_8_2019-11-27', 'LANDSAT_8_2019-12-03', \n",
    "               'LANDSAT_8_2019-12-17', 'LANDSAT_8_2019-12-24', 'LANDSAT_8_2019-12-26', \n",
    "               'LANDSAT_8_2019-12-31', 'LANDSAT_8_2020-01-02', 'LANDSAT_8_2020-01-11', \n",
    "               'LANDSAT_8_2020-01-20', 'LANDSAT_8_2020-10-30', 'LANDSAT_8_2020-11-15', \n",
    "               'LANDSAT_8_2020-11-17', 'LANDSAT_8_2020-11-19', 'LANDSAT_8_2020-11-24', \n",
    "               'LANDSAT_8_2020-11-26', 'LANDSAT_8_2020-11-28', 'LANDSAT_8_2020-11-29', \n",
    "               'LANDSAT_8_2020-12-01', 'LANDSAT_8_2020-12-03', 'LANDSAT_8_2020-12-08', \n",
    "               'LANDSAT_8_2020-12-10', 'LANDSAT_8_2020-12-14', 'LANDSAT_8_2020-12-15', \n",
    "               'LANDSAT_8_2020-12-21', 'LANDSAT_8_2020-12-24', 'LANDSAT_8_2020-12-26', \n",
    "               'LANDSAT_8_2020-12-30', 'LANDSAT_8_2021-01-06', 'LANDSAT_8_2021-01-13', \n",
    "               'LANDSAT_8_2021-01-15', 'LANDSAT_8_2021-01-16', 'LANDSAT_8_2021-01-18', \n",
    "               'LANDSAT_8_2021-01-22', 'LANDSAT_8_2021-02-01', 'LANDSAT_8_2021-10-31', \n",
    "               'LANDSAT_8_2021-11-04', 'LANDSAT_8_2021-11-09', 'LANDSAT_8_2021-11-11', \n",
    "               'LANDSAT_8_2021-11-15', 'LANDSAT_8_2021-11-20', 'LANDSAT_8_2021-12-01', \n",
    "               'LANDSAT_8_2021-12-02', 'LANDSAT_8_2021-12-04', 'LANDSAT_8_2021-12-06', \n",
    "               'LANDSAT_8_2021-12-08', 'LANDSAT_8_2021-12-11', 'LANDSAT_8_2021-12-18', \n",
    "               'LANDSAT_8_2021-12-20', 'LANDSAT_8_2021-12-22', 'LANDSAT_8_2021-12-24', \n",
    "               'LANDSAT_8_2022-01-05', 'LANDSAT_8_2022-01-07', 'LANDSAT_8_2022-01-12', \n",
    "               'LANDSAT_8_2022-01-14', 'LANDSAT_8_2022-01-16', 'LANDSAT_8_2022-01-19', \n",
    "               'LANDSAT_8_2022-01-25', 'LANDSAT_8_2022-01-28', 'LANDSAT_8_2022-11-14', \n",
    "               'LANDSAT_8_2022-11-16', 'LANDSAT_8_2022-11-18', 'LANDSAT_8_2022-11-19', \n",
    "               'LANDSAT_8_2022-11-21', 'LANDSAT_8_2022-11-23', 'LANDSAT_8_2022-11-28', \n",
    "               'LANDSAT_8_2022-12-04', 'LANDSAT_8_2022-12-05', 'LANDSAT_8_2022-12-11', \n",
    "               'LANDSAT_8_2022-12-16', 'LANDSAT_8_2022-12-18', 'LANDSAT_8_2023-01-01', \n",
    "               'LANDSAT_8_2023-01-03', 'LANDSAT_8_2023-01-10', 'LANDSAT_8_2023-01-15', \n",
    "               'LANDSAT_8_2023-01-22', 'LANDSAT_8_2023-01-24', 'LANDSAT_8_2023-11-01', \n",
    "               'LANDSAT_8_2023-11-17', 'LANDSAT_8_2023-11-19', 'LANDSAT_8_2023-11-21', \n",
    "               'LANDSAT_8_2023-12-05', 'LANDSAT_8_2023-12-07', #'LANDSAT_8_2023-12-10', \n",
    "               'LANDSAT_8_2023-12-19', 'LANDSAT_8_2023-12-28', 'LANDSAT_8_2023-12-30', \n",
    "               'LANDSAT_8_2024-01-04', #'LANDSAT_8_2024-01-11', \n",
    "               'LANDSAT_8_2024-01-13', \n",
    "               'LANDSAT_8_2024-01-22', 'LANDSAT_8_2024-01-24'])\n",
    "\n",
    "# Define start and end date for the image collection filter\n",
    "start_date = \"2016-03-06\"\n",
    "end_date = \"2025-01-01\"\n",
    "\n",
    "# Define ROI for analysis\n",
    "roi_for_cropping = ee.Geometry.Rectangle([162.277817, -77.740157, 163.272100, -77.576571])"
   ]
  },
  {
   "cell_type": "code",
   "execution_count": 139,
   "metadata": {},
   "outputs": [
    {
     "data": {
      "text/html": [
       "\n",
       "            <style>\n",
       "                .geemap-dark {\n",
       "                    --jp-widgets-color: white;\n",
       "                    --jp-widgets-label-color: white;\n",
       "                    --jp-ui-font-color1: white;\n",
       "                    --jp-layout-color2: #454545;\n",
       "                    background-color: #383838;\n",
       "                }\n",
       "\n",
       "                .geemap-dark .jupyter-button {\n",
       "                    --jp-layout-color3: #383838;\n",
       "                }\n",
       "\n",
       "                .geemap-colab {\n",
       "                    background-color: var(--colab-primary-surface-color, white);\n",
       "                }\n",
       "\n",
       "                .geemap-colab .jupyter-button {\n",
       "                    --jp-layout-color3: var(--colab-primary-surface-color, white);\n",
       "                }\n",
       "            </style>\n",
       "            "
      ],
      "text/plain": [
       "<IPython.core.display.HTML object>"
      ]
     },
     "metadata": {},
     "output_type": "display_data"
    }
   ],
   "source": [
    "def addImageDate(image):\n",
    "    mission = image.get('SPACECRAFT_ID')\n",
    "    date = image.date().format('YYYY-MM-dd')\n",
    "    missDate = ee.String(mission).cat('_').cat(ee.String(date))\n",
    "    return image.set('missDate', missDate)"
   ]
  },
  {
   "cell_type": "code",
   "execution_count": 140,
   "metadata": {},
   "outputs": [
    {
     "data": {
      "text/html": [
       "\n",
       "            <style>\n",
       "                .geemap-dark {\n",
       "                    --jp-widgets-color: white;\n",
       "                    --jp-widgets-label-color: white;\n",
       "                    --jp-ui-font-color1: white;\n",
       "                    --jp-layout-color2: #454545;\n",
       "                    background-color: #383838;\n",
       "                }\n",
       "\n",
       "                .geemap-dark .jupyter-button {\n",
       "                    --jp-layout-color3: #383838;\n",
       "                }\n",
       "\n",
       "                .geemap-colab {\n",
       "                    background-color: var(--colab-primary-surface-color, white);\n",
       "                }\n",
       "\n",
       "                .geemap-colab .jupyter-button {\n",
       "                    --jp-layout-color3: var(--colab-primary-surface-color, white);\n",
       "                }\n",
       "            </style>\n",
       "            "
      ],
      "text/plain": [
       "<IPython.core.display.HTML object>"
      ]
     },
     "metadata": {},
     "output_type": "display_data"
    }
   ],
   "source": [
    "def mosaic_by_date(imcol):\n",
    "    # Convert the image collection to a list of images\n",
    "    imlist = imcol.toList(imcol.size())\n",
    "    \n",
    "    # Get unique dates from the image collection\n",
    "    def get_date(image):\n",
    "        return ee.Image(image).date().format(\"YYYY-MM-dd\")\n",
    "    \n",
    "    unique_dates = imlist.map(lambda im: get_date(im)).distinct()\n",
    "\n",
    "    def create_mosaic(date_str):\n",
    "        date = ee.Date(date_str)\n",
    "        \n",
    "        # Filter images for that day and create a mosaic\n",
    "        mosaic = imcol.filterDate(date, date.advance(1, 'day')).mosaic()\n",
    "        \n",
    "        return mosaic.set({\n",
    "            'system:time_start': date.millis(),\n",
    "            'system:id': date.format('YYYY-MM-dd')\n",
    "        })\n",
    "\n",
    "    # Create mosaics for each unique date\n",
    "    mosaic_imlist = unique_dates.map(create_mosaic)\n",
    "    \n",
    "    return ee.ImageCollection(mosaic_imlist)"
   ]
  },
  {
   "cell_type": "code",
   "execution_count": 141,
   "metadata": {},
   "outputs": [
    {
     "data": {
      "text/html": [
       "\n",
       "            <style>\n",
       "                .geemap-dark {\n",
       "                    --jp-widgets-color: white;\n",
       "                    --jp-widgets-label-color: white;\n",
       "                    --jp-ui-font-color1: white;\n",
       "                    --jp-layout-color2: #454545;\n",
       "                    background-color: #383838;\n",
       "                }\n",
       "\n",
       "                .geemap-dark .jupyter-button {\n",
       "                    --jp-layout-color3: #383838;\n",
       "                }\n",
       "\n",
       "                .geemap-colab {\n",
       "                    background-color: var(--colab-primary-surface-color, white);\n",
       "                }\n",
       "\n",
       "                .geemap-colab .jupyter-button {\n",
       "                    --jp-layout-color3: var(--colab-primary-surface-color, white);\n",
       "                }\n",
       "            </style>\n",
       "            "
      ],
      "text/plain": [
       "<IPython.core.display.HTML object>"
      ]
     },
     "metadata": {},
     "output_type": "display_data"
    }
   ],
   "source": [
    "# Example usage with an image collection (e.g., 'LANDSAT/LC08/C02/T1_L2')\n",
    "s2 = ee.ImageCollection('LANDSAT/LC08/C02/T2_TOA')\\\n",
    "    .select(['B2', 'B3', 'B4', 'B5', 'B6', 'B7', 'B8'])\\\n",
    "    .filterDate(start_date, end_date)\\\n",
    "    .map(addImageDate)\\\n",
    "    .filter(ee.Filter.inList(\"missDate\", ids))\\\n",
    "    .filter(ee.Filter.gt('SUN_ELEVATION',20))\\\n",
    "    .filterBounds(roi_for_cropping)\\\n",
    "    .sort('DATE_ACQUIRED')\n",
    "s3 = mosaic_by_date(s2)"
   ]
  },
  {
   "cell_type": "code",
   "execution_count": 142,
   "metadata": {},
   "outputs": [
    {
     "data": {
      "text/html": [
       "\n",
       "            <style>\n",
       "                .geemap-dark {\n",
       "                    --jp-widgets-color: white;\n",
       "                    --jp-widgets-label-color: white;\n",
       "                    --jp-ui-font-color1: white;\n",
       "                    --jp-layout-color2: #454545;\n",
       "                    background-color: #383838;\n",
       "                }\n",
       "\n",
       "                .geemap-dark .jupyter-button {\n",
       "                    --jp-layout-color3: #383838;\n",
       "                }\n",
       "\n",
       "                .geemap-colab {\n",
       "                    background-color: var(--colab-primary-surface-color, white);\n",
       "                }\n",
       "\n",
       "                .geemap-colab .jupyter-button {\n",
       "                    --jp-layout-color3: var(--colab-primary-surface-color, white);\n",
       "                }\n",
       "            </style>\n",
       "            "
      ],
      "text/plain": [
       "<IPython.core.display.HTML object>"
      ]
     },
     "metadata": {},
     "output_type": "display_data"
    },
    {
     "name": "stdout",
     "output_type": "stream",
     "text": [
      "159\n"
     ]
    }
   ],
   "source": [
    "# Clip all the images in the s3 collection down to the ROI\n",
    "def clip_image(image):\n",
    "    return image.clip(roi_for_cropping)\n",
    "\n",
    "# Apply clip to image collection\n",
    "l8_clipped = s3.map(clip_image)\n",
    "print(l8_clipped.size().getInfo())"
   ]
  },
  {
   "cell_type": "code",
   "execution_count": 143,
   "metadata": {},
   "outputs": [
    {
     "data": {
      "text/html": [
       "\n",
       "            <style>\n",
       "                .geemap-dark {\n",
       "                    --jp-widgets-color: white;\n",
       "                    --jp-widgets-label-color: white;\n",
       "                    --jp-ui-font-color1: white;\n",
       "                    --jp-layout-color2: #454545;\n",
       "                    background-color: #383838;\n",
       "                }\n",
       "\n",
       "                .geemap-dark .jupyter-button {\n",
       "                    --jp-layout-color3: #383838;\n",
       "                }\n",
       "\n",
       "                .geemap-colab {\n",
       "                    background-color: var(--colab-primary-surface-color, white);\n",
       "                }\n",
       "\n",
       "                .geemap-colab .jupyter-button {\n",
       "                    --jp-layout-color3: var(--colab-primary-surface-color, white);\n",
       "                }\n",
       "            </style>\n",
       "            "
      ],
      "text/plain": [
       "<IPython.core.display.HTML object>"
      ]
     },
     "metadata": {},
     "output_type": "display_data"
    }
   ],
   "source": [
    "# Function to calculate mean band values around a simple point\n",
    "# this function will be passed through the define endmembers \n",
    "def calculate_mean_band_values(image, point_geometry):\n",
    "    buffer = point_geometry.buffer(30)  # 3x3 Landsat pixel window\n",
    "    band_means = image.reduceRegion(\n",
    "        reducer=ee.Reducer.mean(),\n",
    "        geometry=buffer,\n",
    "        scale=30,\n",
    "        maxPixels=1e6  # Adjusted based on sample size\n",
    "    )\n",
    "    return band_means"
   ]
  },
  {
   "cell_type": "code",
   "execution_count": 144,
   "metadata": {},
   "outputs": [
    {
     "data": {
      "text/html": [
       "\n",
       "            <style>\n",
       "                .geemap-dark {\n",
       "                    --jp-widgets-color: white;\n",
       "                    --jp-widgets-label-color: white;\n",
       "                    --jp-ui-font-color1: white;\n",
       "                    --jp-layout-color2: #454545;\n",
       "                    background-color: #383838;\n",
       "                }\n",
       "\n",
       "                .geemap-dark .jupyter-button {\n",
       "                    --jp-layout-color3: #383838;\n",
       "                }\n",
       "\n",
       "                .geemap-colab {\n",
       "                    background-color: var(--colab-primary-surface-color, white);\n",
       "                }\n",
       "\n",
       "                .geemap-colab .jupyter-button {\n",
       "                    --jp-layout-color3: var(--colab-primary-surface-color, white);\n",
       "                }\n",
       "            </style>\n",
       "            "
      ],
      "text/plain": [
       "<IPython.core.display.HTML object>"
      ]
     },
     "metadata": {},
     "output_type": "display_data"
    }
   ],
   "source": [
    "# Function to define endmembers\n",
    "def define_endmembers(image, roi, n=1):\n",
    "    # Calculate brightness\n",
    "    brightness = image.select(['B2', 'B3', 'B4', 'B5', 'B6']).reduce(ee.Reducer.sum()).rename('brightness') # Red, Green, Blue, SWIR 1, SWIR 2\n",
    "\n",
    "    # Generate a grid of points\n",
    "    points = ee.FeatureCollection.randomPoints(region=roi_for_brightness, points=2000)\n",
    "\n",
    "    # Calculate brightness for each point\n",
    "    points_with_brightness = brightness.reduceRegions(\n",
    "        collection=points,\n",
    "        reducer=ee.Reducer.mean(),\n",
    "        scale=30\n",
    "        )\n",
    "\n",
    "    # Sort points by brightness\n",
    "    brightest_point = points_with_brightness.sort('brightness', False).first()\n",
    "    brightest_geometry = ee.Feature(brightest_point).geometry()\n",
    "\n",
    "    # Filter out points near the brightest point\n",
    "    #filtered_points = distinct_points.filterBounds(brightest_geometry.buffer(100))\n",
    "    filtered_points = points_with_brightness.filter(ee.Filter.bounds(brightest_geometry.buffer(100)).Not())\n",
    "\n",
    "    # Find the dimmest point from the remaining points\n",
    "    dimmest_point = filtered_points.sort('brightness', True).first()\n",
    "    dimmest_geometry = ee.Feature(dimmest_point).geometry()\n",
    "\n",
    "    # Calculate mean band values for brightest and dimmest points\n",
    "    brightest_band_means = calculate_mean_band_values(image, brightest_geometry)\n",
    "    dimmest_band_means = calculate_mean_band_values(image, dimmest_geometry)\n",
    "\n",
    "    # Combine into endmembers\n",
    "    endmembers = ee.List([\n",
    "     brightest_band_means.values(),\n",
    "     dimmest_band_means.values()\n",
    "    ])\n",
    "    return endmembers\n"
   ]
  },
  {
   "cell_type": "code",
   "execution_count": 145,
   "metadata": {},
   "outputs": [
    {
     "data": {
      "text/html": [
       "\n",
       "            <style>\n",
       "                .geemap-dark {\n",
       "                    --jp-widgets-color: white;\n",
       "                    --jp-widgets-label-color: white;\n",
       "                    --jp-ui-font-color1: white;\n",
       "                    --jp-layout-color2: #454545;\n",
       "                    background-color: #383838;\n",
       "                }\n",
       "\n",
       "                .geemap-dark .jupyter-button {\n",
       "                    --jp-layout-color3: #383838;\n",
       "                }\n",
       "\n",
       "                .geemap-colab {\n",
       "                    background-color: var(--colab-primary-surface-color, white);\n",
       "                }\n",
       "\n",
       "                .geemap-colab .jupyter-button {\n",
       "                    --jp-layout-color3: var(--colab-primary-surface-color, white);\n",
       "                }\n",
       "            </style>\n",
       "            "
      ],
      "text/plain": [
       "<IPython.core.display.HTML object>"
      ]
     },
     "metadata": {},
     "output_type": "display_data"
    },
    {
     "name": "stdout",
     "output_type": "stream",
     "text": [
      "[[0.26782243778849707, 0.22405352112945195, 0.22146746886545304, 0.21954561581385829, 0.1407449864196861, 0.13460836243899654, 0.23481929900111603], [0.5248175385115703, 0.4820023413736524, 0.5057081487475782, 0.46732355531967545, 0.05616708549743284, 0.05733623485315669, 0.48947716927477064]]\n"
     ]
    }
   ],
   "source": [
    "#print outputs from an example image to see if the outputs are good\n",
    "example_image = ee.Image('LANDSAT/LC08/C02/T2_TOA/LC08_055116_20231205').select(['B2', 'B3', 'B4', 'B5', 'B6', 'B7', 'B8'])\n",
    "print(define_endmembers(l8_clipped.first(), roi_for_brightness).getInfo())"
   ]
  },
  {
   "cell_type": "code",
   "execution_count": 146,
   "metadata": {},
   "outputs": [
    {
     "data": {
      "text/html": [
       "\n",
       "            <style>\n",
       "                .geemap-dark {\n",
       "                    --jp-widgets-color: white;\n",
       "                    --jp-widgets-label-color: white;\n",
       "                    --jp-ui-font-color1: white;\n",
       "                    --jp-layout-color2: #454545;\n",
       "                    background-color: #383838;\n",
       "                }\n",
       "\n",
       "                .geemap-dark .jupyter-button {\n",
       "                    --jp-layout-color3: #383838;\n",
       "                }\n",
       "\n",
       "                .geemap-colab {\n",
       "                    background-color: var(--colab-primary-surface-color, white);\n",
       "                }\n",
       "\n",
       "                .geemap-colab .jupyter-button {\n",
       "                    --jp-layout-color3: var(--colab-primary-surface-color, white);\n",
       "                }\n",
       "            </style>\n",
       "            "
      ],
      "text/plain": [
       "<IPython.core.display.HTML object>"
      ]
     },
     "metadata": {},
     "output_type": "display_data"
    }
   ],
   "source": [
    "def unmix_image_collection(image_collection, roi):\n",
    "    def process_image(image):\n",
    "        # Define endmembers for the current image\n",
    "        endmembers = define_endmembers(image, roi)\n",
    "\n",
    "        # Apply the unmixing process\n",
    "        unmixed = image.select(['B2', 'B3', 'B4', 'B5', 'B6', 'B7', 'B8']).unmix(endmembers, True, True)\n",
    "\n",
    "        # Rename unmixed bands for clarity\n",
    "        unmixed = unmixed.rename(['endmember_1', 'endmember_2'])\n",
    "\n",
    "        # Add properties for tracking\n",
    "        return unmixed.set('system:time_start', image.get('system:time_start'))\n",
    "\n",
    "    # Map the unmixing process over the image collection\n",
    "    unmixed_collection = image_collection.map(process_image)\n",
    "\n",
    "    return unmixed_collection"
   ]
  },
  {
   "cell_type": "code",
   "execution_count": 147,
   "metadata": {},
   "outputs": [
    {
     "data": {
      "text/html": [
       "\n",
       "            <style>\n",
       "                .geemap-dark {\n",
       "                    --jp-widgets-color: white;\n",
       "                    --jp-widgets-label-color: white;\n",
       "                    --jp-ui-font-color1: white;\n",
       "                    --jp-layout-color2: #454545;\n",
       "                    background-color: #383838;\n",
       "                }\n",
       "\n",
       "                .geemap-dark .jupyter-button {\n",
       "                    --jp-layout-color3: #383838;\n",
       "                }\n",
       "\n",
       "                .geemap-colab {\n",
       "                    background-color: var(--colab-primary-surface-color, white);\n",
       "                }\n",
       "\n",
       "                .geemap-colab .jupyter-button {\n",
       "                    --jp-layout-color3: var(--colab-primary-surface-color, white);\n",
       "                }\n",
       "            </style>\n",
       "            "
      ],
      "text/plain": [
       "<IPython.core.display.HTML object>"
      ]
     },
     "metadata": {},
     "output_type": "display_data"
    },
    {
     "name": "stdout",
     "output_type": "stream",
     "text": [
      "{'type': 'ImageCollection', 'bands': [], 'features': [{'type': 'Image', 'bands': [{'id': 'endmember_1', 'data_type': {'type': 'PixelType', 'precision': 'double'}, 'dimensions': [3, 2], 'origin': [161, -79], 'crs': 'EPSG:4326', 'crs_transform': [1, 0, 0, 0, 1, 0]}, {'id': 'endmember_2', 'data_type': {'type': 'PixelType', 'precision': 'double'}, 'dimensions': [3, 2], 'origin': [161, -79], 'crs': 'EPSG:4326', 'crs_transform': [1, 0, 0, 0, 1, 0]}], 'properties': {'system:time_start': 1478044800000, 'system:index': '0'}}, {'type': 'Image', 'bands': [{'id': 'endmember_1', 'data_type': {'type': 'PixelType', 'precision': 'double'}, 'dimensions': [3, 2], 'origin': [161, -79], 'crs': 'EPSG:4326', 'crs_transform': [1, 0, 0, 0, 1, 0]}, {'id': 'endmember_2', 'data_type': {'type': 'PixelType', 'precision': 'double'}, 'dimensions': [3, 2], 'origin': [161, -79], 'crs': 'EPSG:4326', 'crs_transform': [1, 0, 0, 0, 1, 0]}], 'properties': {'system:time_start': 1478217600000, 'system:index': '1'}}, {'type': 'Image', 'bands': [{'id': 'endmember_1', 'data_type': {'type': 'PixelType', 'precision': 'double'}, 'dimensions': [3, 2], 'origin': [161, -79], 'crs': 'EPSG:4326', 'crs_transform': [1, 0, 0, 0, 1, 0]}, {'id': 'endmember_2', 'data_type': {'type': 'PixelType', 'precision': 'double'}, 'dimensions': [3, 2], 'origin': [161, -79], 'crs': 'EPSG:4326', 'crs_transform': [1, 0, 0, 0, 1, 0]}], 'properties': {'system:time_start': 1478390400000, 'system:index': '2'}}, {'type': 'Image', 'bands': [{'id': 'endmember_1', 'data_type': {'type': 'PixelType', 'precision': 'double'}, 'dimensions': [3, 2], 'origin': [161, -79], 'crs': 'EPSG:4326', 'crs_transform': [1, 0, 0, 0, 1, 0]}, {'id': 'endmember_2', 'data_type': {'type': 'PixelType', 'precision': 'double'}, 'dimensions': [3, 2], 'origin': [161, -79], 'crs': 'EPSG:4326', 'crs_transform': [1, 0, 0, 0, 1, 0]}], 'properties': {'system:time_start': 1478563200000, 'system:index': '3'}}, {'type': 'Image', 'bands': [{'id': 'endmember_1', 'data_type': {'type': 'PixelType', 'precision': 'double'}, 'dimensions': [3, 2], 'origin': [161, -79], 'crs': 'EPSG:4326', 'crs_transform': [1, 0, 0, 0, 1, 0]}, {'id': 'endmember_2', 'data_type': {'type': 'PixelType', 'precision': 'double'}, 'dimensions': [3, 2], 'origin': [161, -79], 'crs': 'EPSG:4326', 'crs_transform': [1, 0, 0, 0, 1, 0]}], 'properties': {'system:time_start': 1478995200000, 'system:index': '4'}}, {'type': 'Image', 'bands': [{'id': 'endmember_1', 'data_type': {'type': 'PixelType', 'precision': 'double'}, 'dimensions': [3, 2], 'origin': [161, -79], 'crs': 'EPSG:4326', 'crs_transform': [1, 0, 0, 0, 1, 0]}, {'id': 'endmember_2', 'data_type': {'type': 'PixelType', 'precision': 'double'}, 'dimensions': [3, 2], 'origin': [161, -79], 'crs': 'EPSG:4326', 'crs_transform': [1, 0, 0, 0, 1, 0]}], 'properties': {'system:time_start': 1479168000000, 'system:index': '5'}}, {'type': 'Image', 'bands': [{'id': 'endmember_1', 'data_type': {'type': 'PixelType', 'precision': 'double'}, 'dimensions': [3, 2], 'origin': [161, -79], 'crs': 'EPSG:4326', 'crs_transform': [1, 0, 0, 0, 1, 0]}, {'id': 'endmember_2', 'data_type': {'type': 'PixelType', 'precision': 'double'}, 'dimensions': [3, 2], 'origin': [161, -79], 'crs': 'EPSG:4326', 'crs_transform': [1, 0, 0, 0, 1, 0]}], 'properties': {'system:time_start': 1481328000000, 'system:index': '6'}}, {'type': 'Image', 'bands': [{'id': 'endmember_1', 'data_type': {'type': 'PixelType', 'precision': 'double'}, 'dimensions': [3, 2], 'origin': [161, -79], 'crs': 'EPSG:4326', 'crs_transform': [1, 0, 0, 0, 1, 0]}, {'id': 'endmember_2', 'data_type': {'type': 'PixelType', 'precision': 'double'}, 'dimensions': [3, 2], 'origin': [161, -79], 'crs': 'EPSG:4326', 'crs_transform': [1, 0, 0, 0, 1, 0]}], 'properties': {'system:time_start': 1481587200000, 'system:index': '7'}}, {'type': 'Image', 'bands': [{'id': 'endmember_1', 'data_type': {'type': 'PixelType', 'precision': 'double'}, 'dimensions': [3, 2], 'origin': [161, -79], 'crs': 'EPSG:4326', 'crs_transform': [1, 0, 0, 0, 1, 0]}, {'id': 'endmember_2', 'data_type': {'type': 'PixelType', 'precision': 'double'}, 'dimensions': [3, 2], 'origin': [161, -79], 'crs': 'EPSG:4326', 'crs_transform': [1, 0, 0, 0, 1, 0]}], 'properties': {'system:time_start': 1481760000000, 'system:index': '8'}}, {'type': 'Image', 'bands': [{'id': 'endmember_1', 'data_type': {'type': 'PixelType', 'precision': 'double'}, 'dimensions': [3, 2], 'origin': [161, -79], 'crs': 'EPSG:4326', 'crs_transform': [1, 0, 0, 0, 1, 0]}, {'id': 'endmember_2', 'data_type': {'type': 'PixelType', 'precision': 'double'}, 'dimensions': [3, 2], 'origin': [161, -79], 'crs': 'EPSG:4326', 'crs_transform': [1, 0, 0, 0, 1, 0]}], 'properties': {'system:time_start': 1481932800000, 'system:index': '9'}}, {'type': 'Image', 'bands': [{'id': 'endmember_1', 'data_type': {'type': 'PixelType', 'precision': 'double'}, 'dimensions': [3, 2], 'origin': [161, -79], 'crs': 'EPSG:4326', 'crs_transform': [1, 0, 0, 0, 1, 0]}, {'id': 'endmember_2', 'data_type': {'type': 'PixelType', 'precision': 'double'}, 'dimensions': [3, 2], 'origin': [161, -79], 'crs': 'EPSG:4326', 'crs_transform': [1, 0, 0, 0, 1, 0]}], 'properties': {'system:time_start': 1482105600000, 'system:index': '10'}}, {'type': 'Image', 'bands': [{'id': 'endmember_1', 'data_type': {'type': 'PixelType', 'precision': 'double'}, 'dimensions': [3, 2], 'origin': [161, -79], 'crs': 'EPSG:4326', 'crs_transform': [1, 0, 0, 0, 1, 0]}, {'id': 'endmember_2', 'data_type': {'type': 'PixelType', 'precision': 'double'}, 'dimensions': [3, 2], 'origin': [161, -79], 'crs': 'EPSG:4326', 'crs_transform': [1, 0, 0, 0, 1, 0]}], 'properties': {'system:time_start': 1482537600000, 'system:index': '11'}}, {'type': 'Image', 'bands': [{'id': 'endmember_1', 'data_type': {'type': 'PixelType', 'precision': 'double'}, 'dimensions': [3, 2], 'origin': [161, -79], 'crs': 'EPSG:4326', 'crs_transform': [1, 0, 0, 0, 1, 0]}, {'id': 'endmember_2', 'data_type': {'type': 'PixelType', 'precision': 'double'}, 'dimensions': [3, 2], 'origin': [161, -79], 'crs': 'EPSG:4326', 'crs_transform': [1, 0, 0, 0, 1, 0]}], 'properties': {'system:time_start': 1483315200000, 'system:index': '12'}}, {'type': 'Image', 'bands': [{'id': 'endmember_1', 'data_type': {'type': 'PixelType', 'precision': 'double'}, 'dimensions': [3, 2], 'origin': [161, -79], 'crs': 'EPSG:4326', 'crs_transform': [1, 0, 0, 0, 1, 0]}, {'id': 'endmember_2', 'data_type': {'type': 'PixelType', 'precision': 'double'}, 'dimensions': [3, 2], 'origin': [161, -79], 'crs': 'EPSG:4326', 'crs_transform': [1, 0, 0, 0, 1, 0]}], 'properties': {'system:time_start': 1484092800000, 'system:index': '13'}}, {'type': 'Image', 'bands': [{'id': 'endmember_1', 'data_type': {'type': 'PixelType', 'precision': 'double'}, 'dimensions': [3, 2], 'origin': [161, -79], 'crs': 'EPSG:4326', 'crs_transform': [1, 0, 0, 0, 1, 0]}, {'id': 'endmember_2', 'data_type': {'type': 'PixelType', 'precision': 'double'}, 'dimensions': [3, 2], 'origin': [161, -79], 'crs': 'EPSG:4326', 'crs_transform': [1, 0, 0, 0, 1, 0]}], 'properties': {'system:time_start': 1484352000000, 'system:index': '14'}}, {'type': 'Image', 'bands': [{'id': 'endmember_1', 'data_type': {'type': 'PixelType', 'precision': 'double'}, 'dimensions': [3, 2], 'origin': [161, -79], 'crs': 'EPSG:4326', 'crs_transform': [1, 0, 0, 0, 1, 0]}, {'id': 'endmember_2', 'data_type': {'type': 'PixelType', 'precision': 'double'}, 'dimensions': [3, 2], 'origin': [161, -79], 'crs': 'EPSG:4326', 'crs_transform': [1, 0, 0, 0, 1, 0]}], 'properties': {'system:time_start': 1484697600000, 'system:index': '15'}}, {'type': 'Image', 'bands': [{'id': 'endmember_1', 'data_type': {'type': 'PixelType', 'precision': 'double'}, 'dimensions': [3, 2], 'origin': [161, -79], 'crs': 'EPSG:4326', 'crs_transform': [1, 0, 0, 0, 1, 0]}, {'id': 'endmember_2', 'data_type': {'type': 'PixelType', 'precision': 'double'}, 'dimensions': [3, 2], 'origin': [161, -79], 'crs': 'EPSG:4326', 'crs_transform': [1, 0, 0, 0, 1, 0]}], 'properties': {'system:time_start': 1485302400000, 'system:index': '16'}}, {'type': 'Image', 'bands': [{'id': 'endmember_1', 'data_type': {'type': 'PixelType', 'precision': 'double'}, 'dimensions': [3, 2], 'origin': [161, -79], 'crs': 'EPSG:4326', 'crs_transform': [1, 0, 0, 0, 1, 0]}, {'id': 'endmember_2', 'data_type': {'type': 'PixelType', 'precision': 'double'}, 'dimensions': [3, 2], 'origin': [161, -79], 'crs': 'EPSG:4326', 'crs_transform': [1, 0, 0, 0, 1, 0]}], 'properties': {'system:time_start': 1485475200000, 'system:index': '17'}}, {'type': 'Image', 'bands': [{'id': 'endmember_1', 'data_type': {'type': 'PixelType', 'precision': 'double'}, 'dimensions': [3, 2], 'origin': [161, -79], 'crs': 'EPSG:4326', 'crs_transform': [1, 0, 0, 0, 1, 0]}, {'id': 'endmember_2', 'data_type': {'type': 'PixelType', 'precision': 'double'}, 'dimensions': [3, 2], 'origin': [161, -79], 'crs': 'EPSG:4326', 'crs_transform': [1, 0, 0, 0, 1, 0]}], 'properties': {'system:time_start': 1485734400000, 'system:index': '18'}}, {'type': 'Image', 'bands': [{'id': 'endmember_1', 'data_type': {'type': 'PixelType', 'precision': 'double'}, 'dimensions': [3, 2], 'origin': [161, -79], 'crs': 'EPSG:4326', 'crs_transform': [1, 0, 0, 0, 1, 0]}, {'id': 'endmember_2', 'data_type': {'type': 'PixelType', 'precision': 'double'}, 'dimensions': [3, 2], 'origin': [161, -79], 'crs': 'EPSG:4326', 'crs_transform': [1, 0, 0, 0, 1, 0]}], 'properties': {'system:time_start': 1485907200000, 'system:index': '19'}}, {'type': 'Image', 'bands': [{'id': 'endmember_1', 'data_type': {'type': 'PixelType', 'precision': 'double'}, 'dimensions': [3, 2], 'origin': [161, -79], 'crs': 'EPSG:4326', 'crs_transform': [1, 0, 0, 0, 1, 0]}, {'id': 'endmember_2', 'data_type': {'type': 'PixelType', 'precision': 'double'}, 'dimensions': [3, 2], 'origin': [161, -79], 'crs': 'EPSG:4326', 'crs_transform': [1, 0, 0, 0, 1, 0]}], 'properties': {'system:time_start': 1509753600000, 'system:index': '20'}}, {'type': 'Image', 'bands': [{'id': 'endmember_1', 'data_type': {'type': 'PixelType', 'precision': 'double'}, 'dimensions': [3, 2], 'origin': [161, -79], 'crs': 'EPSG:4326', 'crs_transform': [1, 0, 0, 0, 1, 0]}, {'id': 'endmember_2', 'data_type': {'type': 'PixelType', 'precision': 'double'}, 'dimensions': [3, 2], 'origin': [161, -79], 'crs': 'EPSG:4326', 'crs_transform': [1, 0, 0, 0, 1, 0]}], 'properties': {'system:time_start': 1510012800000, 'system:index': '21'}}, {'type': 'Image', 'bands': [{'id': 'endmember_1', 'data_type': {'type': 'PixelType', 'precision': 'double'}, 'dimensions': [3, 2], 'origin': [161, -79], 'crs': 'EPSG:4326', 'crs_transform': [1, 0, 0, 0, 1, 0]}, {'id': 'endmember_2', 'data_type': {'type': 'PixelType', 'precision': 'double'}, 'dimensions': [3, 2], 'origin': [161, -79], 'crs': 'EPSG:4326', 'crs_transform': [1, 0, 0, 0, 1, 0]}], 'properties': {'system:time_start': 1510963200000, 'system:index': '22'}}, {'type': 'Image', 'bands': [{'id': 'endmember_1', 'data_type': {'type': 'PixelType', 'precision': 'double'}, 'dimensions': [3, 2], 'origin': [161, -79], 'crs': 'EPSG:4326', 'crs_transform': [1, 0, 0, 0, 1, 0]}, {'id': 'endmember_2', 'data_type': {'type': 'PixelType', 'precision': 'double'}, 'dimensions': [3, 2], 'origin': [161, -79], 'crs': 'EPSG:4326', 'crs_transform': [1, 0, 0, 0, 1, 0]}], 'properties': {'system:time_start': 1511136000000, 'system:index': '23'}}, {'type': 'Image', 'bands': [{'id': 'endmember_1', 'data_type': {'type': 'PixelType', 'precision': 'double'}, 'dimensions': [3, 2], 'origin': [161, -79], 'crs': 'EPSG:4326', 'crs_transform': [1, 0, 0, 0, 1, 0]}, {'id': 'endmember_2', 'data_type': {'type': 'PixelType', 'precision': 'double'}, 'dimensions': [3, 2], 'origin': [161, -79], 'crs': 'EPSG:4326', 'crs_transform': [1, 0, 0, 0, 1, 0]}], 'properties': {'system:time_start': 1511222400000, 'system:index': '24'}}, {'type': 'Image', 'bands': [{'id': 'endmember_1', 'data_type': {'type': 'PixelType', 'precision': 'double'}, 'dimensions': [3, 2], 'origin': [161, -79], 'crs': 'EPSG:4326', 'crs_transform': [1, 0, 0, 0, 1, 0]}, {'id': 'endmember_2', 'data_type': {'type': 'PixelType', 'precision': 'double'}, 'dimensions': [3, 2], 'origin': [161, -79], 'crs': 'EPSG:4326', 'crs_transform': [1, 0, 0, 0, 1, 0]}], 'properties': {'system:time_start': 1511568000000, 'system:index': '25'}}, {'type': 'Image', 'bands': [{'id': 'endmember_1', 'data_type': {'type': 'PixelType', 'precision': 'double'}, 'dimensions': [3, 2], 'origin': [161, -79], 'crs': 'EPSG:4326', 'crs_transform': [1, 0, 0, 0, 1, 0]}, {'id': 'endmember_2', 'data_type': {'type': 'PixelType', 'precision': 'double'}, 'dimensions': [3, 2], 'origin': [161, -79], 'crs': 'EPSG:4326', 'crs_transform': [1, 0, 0, 0, 1, 0]}], 'properties': {'system:time_start': 1511740800000, 'system:index': '26'}}, {'type': 'Image', 'bands': [{'id': 'endmember_1', 'data_type': {'type': 'PixelType', 'precision': 'double'}, 'dimensions': [3, 2], 'origin': [161, -79], 'crs': 'EPSG:4326', 'crs_transform': [1, 0, 0, 0, 1, 0]}, {'id': 'endmember_2', 'data_type': {'type': 'PixelType', 'precision': 'double'}, 'dimensions': [3, 2], 'origin': [161, -79], 'crs': 'EPSG:4326', 'crs_transform': [1, 0, 0, 0, 1, 0]}], 'properties': {'system:time_start': 1512000000000, 'system:index': '27'}}, {'type': 'Image', 'bands': [{'id': 'endmember_1', 'data_type': {'type': 'PixelType', 'precision': 'double'}, 'dimensions': [3, 2], 'origin': [161, -79], 'crs': 'EPSG:4326', 'crs_transform': [1, 0, 0, 0, 1, 0]}, {'id': 'endmember_2', 'data_type': {'type': 'PixelType', 'precision': 'double'}, 'dimensions': [3, 2], 'origin': [161, -79], 'crs': 'EPSG:4326', 'crs_transform': [1, 0, 0, 0, 1, 0]}], 'properties': {'system:time_start': 1512172800000, 'system:index': '28'}}, {'type': 'Image', 'bands': [{'id': 'endmember_1', 'data_type': {'type': 'PixelType', 'precision': 'double'}, 'dimensions': [3, 2], 'origin': [161, -79], 'crs': 'EPSG:4326', 'crs_transform': [1, 0, 0, 0, 1, 0]}, {'id': 'endmember_2', 'data_type': {'type': 'PixelType', 'precision': 'double'}, 'dimensions': [3, 2], 'origin': [161, -79], 'crs': 'EPSG:4326', 'crs_transform': [1, 0, 0, 0, 1, 0]}], 'properties': {'system:time_start': 1512604800000, 'system:index': '29'}}, {'type': 'Image', 'bands': [{'id': 'endmember_1', 'data_type': {'type': 'PixelType', 'precision': 'double'}, 'dimensions': [3, 2], 'origin': [161, -79], 'crs': 'EPSG:4326', 'crs_transform': [1, 0, 0, 0, 1, 0]}, {'id': 'endmember_2', 'data_type': {'type': 'PixelType', 'precision': 'double'}, 'dimensions': [3, 2], 'origin': [161, -79], 'crs': 'EPSG:4326', 'crs_transform': [1, 0, 0, 0, 1, 0]}], 'properties': {'system:time_start': 1513382400000, 'system:index': '30'}}, {'type': 'Image', 'bands': [{'id': 'endmember_1', 'data_type': {'type': 'PixelType', 'precision': 'double'}, 'dimensions': [3, 2], 'origin': [161, -79], 'crs': 'EPSG:4326', 'crs_transform': [1, 0, 0, 0, 1, 0]}, {'id': 'endmember_2', 'data_type': {'type': 'PixelType', 'precision': 'double'}, 'dimensions': [3, 2], 'origin': [161, -79], 'crs': 'EPSG:4326', 'crs_transform': [1, 0, 0, 0, 1, 0]}], 'properties': {'system:time_start': 1513987200000, 'system:index': '31'}}, {'type': 'Image', 'bands': [{'id': 'endmember_1', 'data_type': {'type': 'PixelType', 'precision': 'double'}, 'dimensions': [3, 2], 'origin': [161, -79], 'crs': 'EPSG:4326', 'crs_transform': [1, 0, 0, 0, 1, 0]}, {'id': 'endmember_2', 'data_type': {'type': 'PixelType', 'precision': 'double'}, 'dimensions': [3, 2], 'origin': [161, -79], 'crs': 'EPSG:4326', 'crs_transform': [1, 0, 0, 0, 1, 0]}], 'properties': {'system:time_start': 1514937600000, 'system:index': '32'}}, {'type': 'Image', 'bands': [{'id': 'endmember_1', 'data_type': {'type': 'PixelType', 'precision': 'double'}, 'dimensions': [3, 2], 'origin': [161, -79], 'crs': 'EPSG:4326', 'crs_transform': [1, 0, 0, 0, 1, 0]}, {'id': 'endmember_2', 'data_type': {'type': 'PixelType', 'precision': 'double'}, 'dimensions': [3, 2], 'origin': [161, -79], 'crs': 'EPSG:4326', 'crs_transform': [1, 0, 0, 0, 1, 0]}], 'properties': {'system:time_start': 1515110400000, 'system:index': '33'}}, {'type': 'Image', 'bands': [{'id': 'endmember_1', 'data_type': {'type': 'PixelType', 'precision': 'double'}, 'dimensions': [3, 2], 'origin': [161, -79], 'crs': 'EPSG:4326', 'crs_transform': [1, 0, 0, 0, 1, 0]}, {'id': 'endmember_2', 'data_type': {'type': 'PixelType', 'precision': 'double'}, 'dimensions': [3, 2], 'origin': [161, -79], 'crs': 'EPSG:4326', 'crs_transform': [1, 0, 0, 0, 1, 0]}], 'properties': {'system:time_start': 1515283200000, 'system:index': '34'}}, {'type': 'Image', 'bands': [{'id': 'endmember_1', 'data_type': {'type': 'PixelType', 'precision': 'double'}, 'dimensions': [3, 2], 'origin': [161, -79], 'crs': 'EPSG:4326', 'crs_transform': [1, 0, 0, 0, 1, 0]}, {'id': 'endmember_2', 'data_type': {'type': 'PixelType', 'precision': 'double'}, 'dimensions': [3, 2], 'origin': [161, -79], 'crs': 'EPSG:4326', 'crs_transform': [1, 0, 0, 0, 1, 0]}], 'properties': {'system:time_start': 1515542400000, 'system:index': '35'}}, {'type': 'Image', 'bands': [{'id': 'endmember_1', 'data_type': {'type': 'PixelType', 'precision': 'double'}, 'dimensions': [3, 2], 'origin': [161, -79], 'crs': 'EPSG:4326', 'crs_transform': [1, 0, 0, 0, 1, 0]}, {'id': 'endmember_2', 'data_type': {'type': 'PixelType', 'precision': 'double'}, 'dimensions': [3, 2], 'origin': [161, -79], 'crs': 'EPSG:4326', 'crs_transform': [1, 0, 0, 0, 1, 0]}], 'properties': {'system:time_start': 1515715200000, 'system:index': '36'}}, {'type': 'Image', 'bands': [{'id': 'endmember_1', 'data_type': {'type': 'PixelType', 'precision': 'double'}, 'dimensions': [3, 2], 'origin': [161, -79], 'crs': 'EPSG:4326', 'crs_transform': [1, 0, 0, 0, 1, 0]}, {'id': 'endmember_2', 'data_type': {'type': 'PixelType', 'precision': 'double'}, 'dimensions': [3, 2], 'origin': [161, -79], 'crs': 'EPSG:4326', 'crs_transform': [1, 0, 0, 0, 1, 0]}], 'properties': {'system:time_start': 1515888000000, 'system:index': '37'}}, {'type': 'Image', 'bands': [{'id': 'endmember_1', 'data_type': {'type': 'PixelType', 'precision': 'double'}, 'dimensions': [3, 2], 'origin': [161, -79], 'crs': 'EPSG:4326', 'crs_transform': [1, 0, 0, 0, 1, 0]}, {'id': 'endmember_2', 'data_type': {'type': 'PixelType', 'precision': 'double'}, 'dimensions': [3, 2], 'origin': [161, -79], 'crs': 'EPSG:4326', 'crs_transform': [1, 0, 0, 0, 1, 0]}], 'properties': {'system:time_start': 1516320000000, 'system:index': '38'}}, {'type': 'Image', 'bands': [{'id': 'endmember_1', 'data_type': {'type': 'PixelType', 'precision': 'double'}, 'dimensions': [3, 2], 'origin': [161, -79], 'crs': 'EPSG:4326', 'crs_transform': [1, 0, 0, 0, 1, 0]}, {'id': 'endmember_2', 'data_type': {'type': 'PixelType', 'precision': 'double'}, 'dimensions': [3, 2], 'origin': [161, -79], 'crs': 'EPSG:4326', 'crs_transform': [1, 0, 0, 0, 1, 0]}], 'properties': {'system:time_start': 1516924800000, 'system:index': '39'}}, {'type': 'Image', 'bands': [{'id': 'endmember_1', 'data_type': {'type': 'PixelType', 'precision': 'double'}, 'dimensions': [3, 2], 'origin': [161, -79], 'crs': 'EPSG:4326', 'crs_transform': [1, 0, 0, 0, 1, 0]}, {'id': 'endmember_2', 'data_type': {'type': 'PixelType', 'precision': 'double'}, 'dimensions': [3, 2], 'origin': [161, -79], 'crs': 'EPSG:4326', 'crs_transform': [1, 0, 0, 0, 1, 0]}], 'properties': {'system:time_start': 1517270400000, 'system:index': '40'}}, {'type': 'Image', 'bands': [{'id': 'endmember_1', 'data_type': {'type': 'PixelType', 'precision': 'double'}, 'dimensions': [3, 2], 'origin': [161, -79], 'crs': 'EPSG:4326', 'crs_transform': [1, 0, 0, 0, 1, 0]}, {'id': 'endmember_2', 'data_type': {'type': 'PixelType', 'precision': 'double'}, 'dimensions': [3, 2], 'origin': [161, -79], 'crs': 'EPSG:4326', 'crs_transform': [1, 0, 0, 0, 1, 0]}], 'properties': {'system:time_start': 1541376000000, 'system:index': '41'}}, {'type': 'Image', 'bands': [{'id': 'endmember_1', 'data_type': {'type': 'PixelType', 'precision': 'double'}, 'dimensions': [3, 2], 'origin': [161, -79], 'crs': 'EPSG:4326', 'crs_transform': [1, 0, 0, 0, 1, 0]}, {'id': 'endmember_2', 'data_type': {'type': 'PixelType', 'precision': 'double'}, 'dimensions': [3, 2], 'origin': [161, -79], 'crs': 'EPSG:4326', 'crs_transform': [1, 0, 0, 0, 1, 0]}], 'properties': {'system:time_start': 1541548800000, 'system:index': '42'}}, {'type': 'Image', 'bands': [{'id': 'endmember_1', 'data_type': {'type': 'PixelType', 'precision': 'double'}, 'dimensions': [3, 2], 'origin': [161, -79], 'crs': 'EPSG:4326', 'crs_transform': [1, 0, 0, 0, 1, 0]}, {'id': 'endmember_2', 'data_type': {'type': 'PixelType', 'precision': 'double'}, 'dimensions': [3, 2], 'origin': [161, -79], 'crs': 'EPSG:4326', 'crs_transform': [1, 0, 0, 0, 1, 0]}], 'properties': {'system:time_start': 1541635200000, 'system:index': '43'}}, {'type': 'Image', 'bands': [{'id': 'endmember_1', 'data_type': {'type': 'PixelType', 'precision': 'double'}, 'dimensions': [3, 2], 'origin': [161, -79], 'crs': 'EPSG:4326', 'crs_transform': [1, 0, 0, 0, 1, 0]}, {'id': 'endmember_2', 'data_type': {'type': 'PixelType', 'precision': 'double'}, 'dimensions': [3, 2], 'origin': [161, -79], 'crs': 'EPSG:4326', 'crs_transform': [1, 0, 0, 0, 1, 0]}], 'properties': {'system:time_start': 1541980800000, 'system:index': '44'}}, {'type': 'Image', 'bands': [{'id': 'endmember_1', 'data_type': {'type': 'PixelType', 'precision': 'double'}, 'dimensions': [3, 2], 'origin': [161, -79], 'crs': 'EPSG:4326', 'crs_transform': [1, 0, 0, 0, 1, 0]}, {'id': 'endmember_2', 'data_type': {'type': 'PixelType', 'precision': 'double'}, 'dimensions': [3, 2], 'origin': [161, -79], 'crs': 'EPSG:4326', 'crs_transform': [1, 0, 0, 0, 1, 0]}], 'properties': {'system:time_start': 1542412800000, 'system:index': '45'}}, {'type': 'Image', 'bands': [{'id': 'endmember_1', 'data_type': {'type': 'PixelType', 'precision': 'double'}, 'dimensions': [3, 2], 'origin': [161, -79], 'crs': 'EPSG:4326', 'crs_transform': [1, 0, 0, 0, 1, 0]}, {'id': 'endmember_2', 'data_type': {'type': 'PixelType', 'precision': 'double'}, 'dimensions': [3, 2], 'origin': [161, -79], 'crs': 'EPSG:4326', 'crs_transform': [1, 0, 0, 0, 1, 0]}], 'properties': {'system:time_start': 1542585600000, 'system:index': '46'}}, {'type': 'Image', 'bands': [{'id': 'endmember_1', 'data_type': {'type': 'PixelType', 'precision': 'double'}, 'dimensions': [3, 2], 'origin': [161, -79], 'crs': 'EPSG:4326', 'crs_transform': [1, 0, 0, 0, 1, 0]}, {'id': 'endmember_2', 'data_type': {'type': 'PixelType', 'precision': 'double'}, 'dimensions': [3, 2], 'origin': [161, -79], 'crs': 'EPSG:4326', 'crs_transform': [1, 0, 0, 0, 1, 0]}], 'properties': {'system:time_start': 1542931200000, 'system:index': '47'}}, {'type': 'Image', 'bands': [{'id': 'endmember_1', 'data_type': {'type': 'PixelType', 'precision': 'double'}, 'dimensions': [3, 2], 'origin': [161, -79], 'crs': 'EPSG:4326', 'crs_transform': [1, 0, 0, 0, 1, 0]}, {'id': 'endmember_2', 'data_type': {'type': 'PixelType', 'precision': 'double'}, 'dimensions': [3, 2], 'origin': [161, -79], 'crs': 'EPSG:4326', 'crs_transform': [1, 0, 0, 0, 1, 0]}], 'properties': {'system:time_start': 1543017600000, 'system:index': '48'}}, {'type': 'Image', 'bands': [{'id': 'endmember_1', 'data_type': {'type': 'PixelType', 'precision': 'double'}, 'dimensions': [3, 2], 'origin': [161, -79], 'crs': 'EPSG:4326', 'crs_transform': [1, 0, 0, 0, 1, 0]}, {'id': 'endmember_2', 'data_type': {'type': 'PixelType', 'precision': 'double'}, 'dimensions': [3, 2], 'origin': [161, -79], 'crs': 'EPSG:4326', 'crs_transform': [1, 0, 0, 0, 1, 0]}], 'properties': {'system:time_start': 1543190400000, 'system:index': '49'}}, {'type': 'Image', 'bands': [{'id': 'endmember_1', 'data_type': {'type': 'PixelType', 'precision': 'double'}, 'dimensions': [3, 2], 'origin': [161, -79], 'crs': 'EPSG:4326', 'crs_transform': [1, 0, 0, 0, 1, 0]}, {'id': 'endmember_2', 'data_type': {'type': 'PixelType', 'precision': 'double'}, 'dimensions': [3, 2], 'origin': [161, -79], 'crs': 'EPSG:4326', 'crs_transform': [1, 0, 0, 0, 1, 0]}], 'properties': {'system:time_start': 1543363200000, 'system:index': '50'}}, {'type': 'Image', 'bands': [{'id': 'endmember_1', 'data_type': {'type': 'PixelType', 'precision': 'double'}, 'dimensions': [3, 2], 'origin': [161, -79], 'crs': 'EPSG:4326', 'crs_transform': [1, 0, 0, 0, 1, 0]}, {'id': 'endmember_2', 'data_type': {'type': 'PixelType', 'precision': 'double'}, 'dimensions': [3, 2], 'origin': [161, -79], 'crs': 'EPSG:4326', 'crs_transform': [1, 0, 0, 0, 1, 0]}], 'properties': {'system:time_start': 1543536000000, 'system:index': '51'}}, {'type': 'Image', 'bands': [{'id': 'endmember_1', 'data_type': {'type': 'PixelType', 'precision': 'double'}, 'dimensions': [3, 2], 'origin': [161, -79], 'crs': 'EPSG:4326', 'crs_transform': [1, 0, 0, 0, 1, 0]}, {'id': 'endmember_2', 'data_type': {'type': 'PixelType', 'precision': 'double'}, 'dimensions': [3, 2], 'origin': [161, -79], 'crs': 'EPSG:4326', 'crs_transform': [1, 0, 0, 0, 1, 0]}], 'properties': {'system:time_start': 1543968000000, 'system:index': '52'}}, {'type': 'Image', 'bands': [{'id': 'endmember_1', 'data_type': {'type': 'PixelType', 'precision': 'double'}, 'dimensions': [3, 2], 'origin': [161, -79], 'crs': 'EPSG:4326', 'crs_transform': [1, 0, 0, 0, 1, 0]}, {'id': 'endmember_2', 'data_type': {'type': 'PixelType', 'precision': 'double'}, 'dimensions': [3, 2], 'origin': [161, -79], 'crs': 'EPSG:4326', 'crs_transform': [1, 0, 0, 0, 1, 0]}], 'properties': {'system:time_start': 1546128000000, 'system:index': '53'}}, {'type': 'Image', 'bands': [{'id': 'endmember_1', 'data_type': {'type': 'PixelType', 'precision': 'double'}, 'dimensions': [3, 2], 'origin': [161, -79], 'crs': 'EPSG:4326', 'crs_transform': [1, 0, 0, 0, 1, 0]}, {'id': 'endmember_2', 'data_type': {'type': 'PixelType', 'precision': 'double'}, 'dimensions': [3, 2], 'origin': [161, -79], 'crs': 'EPSG:4326', 'crs_transform': [1, 0, 0, 0, 1, 0]}], 'properties': {'system:time_start': 1546300800000, 'system:index': '54'}}, {'type': 'Image', 'bands': [{'id': 'endmember_1', 'data_type': {'type': 'PixelType', 'precision': 'double'}, 'dimensions': [3, 2], 'origin': [161, -79], 'crs': 'EPSG:4326', 'crs_transform': [1, 0, 0, 0, 1, 0]}, {'id': 'endmember_2', 'data_type': {'type': 'PixelType', 'precision': 'double'}, 'dimensions': [3, 2], 'origin': [161, -79], 'crs': 'EPSG:4326', 'crs_transform': [1, 0, 0, 0, 1, 0]}], 'properties': {'system:time_start': 1546560000000, 'system:index': '55'}}, {'type': 'Image', 'bands': [{'id': 'endmember_1', 'data_type': {'type': 'PixelType', 'precision': 'double'}, 'dimensions': [3, 2], 'origin': [161, -79], 'crs': 'EPSG:4326', 'crs_transform': [1, 0, 0, 0, 1, 0]}, {'id': 'endmember_2', 'data_type': {'type': 'PixelType', 'precision': 'double'}, 'dimensions': [3, 2], 'origin': [161, -79], 'crs': 'EPSG:4326', 'crs_transform': [1, 0, 0, 0, 1, 0]}], 'properties': {'system:time_start': 1546732800000, 'system:index': '56'}}, {'type': 'Image', 'bands': [{'id': 'endmember_1', 'data_type': {'type': 'PixelType', 'precision': 'double'}, 'dimensions': [3, 2], 'origin': [161, -79], 'crs': 'EPSG:4326', 'crs_transform': [1, 0, 0, 0, 1, 0]}, {'id': 'endmember_2', 'data_type': {'type': 'PixelType', 'precision': 'double'}, 'dimensions': [3, 2], 'origin': [161, -79], 'crs': 'EPSG:4326', 'crs_transform': [1, 0, 0, 0, 1, 0]}], 'properties': {'system:time_start': 1547078400000, 'system:index': '57'}}, {'type': 'Image', 'bands': [{'id': 'endmember_1', 'data_type': {'type': 'PixelType', 'precision': 'double'}, 'dimensions': [3, 2], 'origin': [161, -79], 'crs': 'EPSG:4326', 'crs_transform': [1, 0, 0, 0, 1, 0]}, {'id': 'endmember_2', 'data_type': {'type': 'PixelType', 'precision': 'double'}, 'dimensions': [3, 2], 'origin': [161, -79], 'crs': 'EPSG:4326', 'crs_transform': [1, 0, 0, 0, 1, 0]}], 'properties': {'system:time_start': 1547164800000, 'system:index': '58'}}, {'type': 'Image', 'bands': [{'id': 'endmember_1', 'data_type': {'type': 'PixelType', 'precision': 'double'}, 'dimensions': [3, 2], 'origin': [161, -79], 'crs': 'EPSG:4326', 'crs_transform': [1, 0, 0, 0, 1, 0]}, {'id': 'endmember_2', 'data_type': {'type': 'PixelType', 'precision': 'double'}, 'dimensions': [3, 2], 'origin': [161, -79], 'crs': 'EPSG:4326', 'crs_transform': [1, 0, 0, 0, 1, 0]}], 'properties': {'system:time_start': 1547510400000, 'system:index': '59'}}, {'type': 'Image', 'bands': [{'id': 'endmember_1', 'data_type': {'type': 'PixelType', 'precision': 'double'}, 'dimensions': [3, 2], 'origin': [161, -79], 'crs': 'EPSG:4326', 'crs_transform': [1, 0, 0, 0, 1, 0]}, {'id': 'endmember_2', 'data_type': {'type': 'PixelType', 'precision': 'double'}, 'dimensions': [3, 2], 'origin': [161, -79], 'crs': 'EPSG:4326', 'crs_transform': [1, 0, 0, 0, 1, 0]}], 'properties': {'system:time_start': 1548288000000, 'system:index': '60'}}, {'type': 'Image', 'bands': [{'id': 'endmember_1', 'data_type': {'type': 'PixelType', 'precision': 'double'}, 'dimensions': [3, 2], 'origin': [161, -79], 'crs': 'EPSG:4326', 'crs_transform': [1, 0, 0, 0, 1, 0]}, {'id': 'endmember_2', 'data_type': {'type': 'PixelType', 'precision': 'double'}, 'dimensions': [3, 2], 'origin': [161, -79], 'crs': 'EPSG:4326', 'crs_transform': [1, 0, 0, 0, 1, 0]}], 'properties': {'system:time_start': 1548460800000, 'system:index': '61'}}, {'type': 'Image', 'bands': [{'id': 'endmember_1', 'data_type': {'type': 'PixelType', 'precision': 'double'}, 'dimensions': [3, 2], 'origin': [161, -79], 'crs': 'EPSG:4326', 'crs_transform': [1, 0, 0, 0, 1, 0]}, {'id': 'endmember_2', 'data_type': {'type': 'PixelType', 'precision': 'double'}, 'dimensions': [3, 2], 'origin': [161, -79], 'crs': 'EPSG:4326', 'crs_transform': [1, 0, 0, 0, 1, 0]}], 'properties': {'system:time_start': 1572998400000, 'system:index': '62'}}, {'type': 'Image', 'bands': [{'id': 'endmember_1', 'data_type': {'type': 'PixelType', 'precision': 'double'}, 'dimensions': [3, 2], 'origin': [161, -79], 'crs': 'EPSG:4326', 'crs_transform': [1, 0, 0, 0, 1, 0]}, {'id': 'endmember_2', 'data_type': {'type': 'PixelType', 'precision': 'double'}, 'dimensions': [3, 2], 'origin': [161, -79], 'crs': 'EPSG:4326', 'crs_transform': [1, 0, 0, 0, 1, 0]}], 'properties': {'system:time_start': 1573171200000, 'system:index': '63'}}, {'type': 'Image', 'bands': [{'id': 'endmember_1', 'data_type': {'type': 'PixelType', 'precision': 'double'}, 'dimensions': [3, 2], 'origin': [161, -79], 'crs': 'EPSG:4326', 'crs_transform': [1, 0, 0, 0, 1, 0]}, {'id': 'endmember_2', 'data_type': {'type': 'PixelType', 'precision': 'double'}, 'dimensions': [3, 2], 'origin': [161, -79], 'crs': 'EPSG:4326', 'crs_transform': [1, 0, 0, 0, 1, 0]}], 'properties': {'system:time_start': 1573344000000, 'system:index': '64'}}, {'type': 'Image', 'bands': [{'id': 'endmember_1', 'data_type': {'type': 'PixelType', 'precision': 'double'}, 'dimensions': [3, 2], 'origin': [161, -79], 'crs': 'EPSG:4326', 'crs_transform': [1, 0, 0, 0, 1, 0]}, {'id': 'endmember_2', 'data_type': {'type': 'PixelType', 'precision': 'double'}, 'dimensions': [3, 2], 'origin': [161, -79], 'crs': 'EPSG:4326', 'crs_transform': [1, 0, 0, 0, 1, 0]}], 'properties': {'system:time_start': 1573430400000, 'system:index': '65'}}, {'type': 'Image', 'bands': [{'id': 'endmember_1', 'data_type': {'type': 'PixelType', 'precision': 'double'}, 'dimensions': [3, 2], 'origin': [161, -79], 'crs': 'EPSG:4326', 'crs_transform': [1, 0, 0, 0, 1, 0]}, {'id': 'endmember_2', 'data_type': {'type': 'PixelType', 'precision': 'double'}, 'dimensions': [3, 2], 'origin': [161, -79], 'crs': 'EPSG:4326', 'crs_transform': [1, 0, 0, 0, 1, 0]}], 'properties': {'system:time_start': 1573776000000, 'system:index': '66'}}, {'type': 'Image', 'bands': [{'id': 'endmember_1', 'data_type': {'type': 'PixelType', 'precision': 'double'}, 'dimensions': [3, 2], 'origin': [161, -79], 'crs': 'EPSG:4326', 'crs_transform': [1, 0, 0, 0, 1, 0]}, {'id': 'endmember_2', 'data_type': {'type': 'PixelType', 'precision': 'double'}, 'dimensions': [3, 2], 'origin': [161, -79], 'crs': 'EPSG:4326', 'crs_transform': [1, 0, 0, 0, 1, 0]}], 'properties': {'system:time_start': 1573948800000, 'system:index': '67'}}, {'type': 'Image', 'bands': [{'id': 'endmember_1', 'data_type': {'type': 'PixelType', 'precision': 'double'}, 'dimensions': [3, 2], 'origin': [161, -79], 'crs': 'EPSG:4326', 'crs_transform': [1, 0, 0, 0, 1, 0]}, {'id': 'endmember_2', 'data_type': {'type': 'PixelType', 'precision': 'double'}, 'dimensions': [3, 2], 'origin': [161, -79], 'crs': 'EPSG:4326', 'crs_transform': [1, 0, 0, 0, 1, 0]}], 'properties': {'system:time_start': 1574553600000, 'system:index': '68'}}, {'type': 'Image', 'bands': [{'id': 'endmember_1', 'data_type': {'type': 'PixelType', 'precision': 'double'}, 'dimensions': [3, 2], 'origin': [161, -79], 'crs': 'EPSG:4326', 'crs_transform': [1, 0, 0, 0, 1, 0]}, {'id': 'endmember_2', 'data_type': {'type': 'PixelType', 'precision': 'double'}, 'dimensions': [3, 2], 'origin': [161, -79], 'crs': 'EPSG:4326', 'crs_transform': [1, 0, 0, 0, 1, 0]}], 'properties': {'system:time_start': 1574726400000, 'system:index': '69'}}, {'type': 'Image', 'bands': [{'id': 'endmember_1', 'data_type': {'type': 'PixelType', 'precision': 'double'}, 'dimensions': [3, 2], 'origin': [161, -79], 'crs': 'EPSG:4326', 'crs_transform': [1, 0, 0, 0, 1, 0]}, {'id': 'endmember_2', 'data_type': {'type': 'PixelType', 'precision': 'double'}, 'dimensions': [3, 2], 'origin': [161, -79], 'crs': 'EPSG:4326', 'crs_transform': [1, 0, 0, 0, 1, 0]}], 'properties': {'system:time_start': 1574812800000, 'system:index': '70'}}, {'type': 'Image', 'bands': [{'id': 'endmember_1', 'data_type': {'type': 'PixelType', 'precision': 'double'}, 'dimensions': [3, 2], 'origin': [161, -79], 'crs': 'EPSG:4326', 'crs_transform': [1, 0, 0, 0, 1, 0]}, {'id': 'endmember_2', 'data_type': {'type': 'PixelType', 'precision': 'double'}, 'dimensions': [3, 2], 'origin': [161, -79], 'crs': 'EPSG:4326', 'crs_transform': [1, 0, 0, 0, 1, 0]}], 'properties': {'system:time_start': 1575331200000, 'system:index': '71'}}, {'type': 'Image', 'bands': [{'id': 'endmember_1', 'data_type': {'type': 'PixelType', 'precision': 'double'}, 'dimensions': [3, 2], 'origin': [161, -79], 'crs': 'EPSG:4326', 'crs_transform': [1, 0, 0, 0, 1, 0]}, {'id': 'endmember_2', 'data_type': {'type': 'PixelType', 'precision': 'double'}, 'dimensions': [3, 2], 'origin': [161, -79], 'crs': 'EPSG:4326', 'crs_transform': [1, 0, 0, 0, 1, 0]}], 'properties': {'system:time_start': 1576540800000, 'system:index': '72'}}, {'type': 'Image', 'bands': [{'id': 'endmember_1', 'data_type': {'type': 'PixelType', 'precision': 'double'}, 'dimensions': [3, 2], 'origin': [161, -79], 'crs': 'EPSG:4326', 'crs_transform': [1, 0, 0, 0, 1, 0]}, {'id': 'endmember_2', 'data_type': {'type': 'PixelType', 'precision': 'double'}, 'dimensions': [3, 2], 'origin': [161, -79], 'crs': 'EPSG:4326', 'crs_transform': [1, 0, 0, 0, 1, 0]}], 'properties': {'system:time_start': 1577145600000, 'system:index': '73'}}, {'type': 'Image', 'bands': [{'id': 'endmember_1', 'data_type': {'type': 'PixelType', 'precision': 'double'}, 'dimensions': [3, 2], 'origin': [161, -79], 'crs': 'EPSG:4326', 'crs_transform': [1, 0, 0, 0, 1, 0]}, {'id': 'endmember_2', 'data_type': {'type': 'PixelType', 'precision': 'double'}, 'dimensions': [3, 2], 'origin': [161, -79], 'crs': 'EPSG:4326', 'crs_transform': [1, 0, 0, 0, 1, 0]}], 'properties': {'system:time_start': 1577318400000, 'system:index': '74'}}, {'type': 'Image', 'bands': [{'id': 'endmember_1', 'data_type': {'type': 'PixelType', 'precision': 'double'}, 'dimensions': [3, 2], 'origin': [161, -79], 'crs': 'EPSG:4326', 'crs_transform': [1, 0, 0, 0, 1, 0]}, {'id': 'endmember_2', 'data_type': {'type': 'PixelType', 'precision': 'double'}, 'dimensions': [3, 2], 'origin': [161, -79], 'crs': 'EPSG:4326', 'crs_transform': [1, 0, 0, 0, 1, 0]}], 'properties': {'system:time_start': 1577750400000, 'system:index': '75'}}, {'type': 'Image', 'bands': [{'id': 'endmember_1', 'data_type': {'type': 'PixelType', 'precision': 'double'}, 'dimensions': [3, 2], 'origin': [161, -79], 'crs': 'EPSG:4326', 'crs_transform': [1, 0, 0, 0, 1, 0]}, {'id': 'endmember_2', 'data_type': {'type': 'PixelType', 'precision': 'double'}, 'dimensions': [3, 2], 'origin': [161, -79], 'crs': 'EPSG:4326', 'crs_transform': [1, 0, 0, 0, 1, 0]}], 'properties': {'system:time_start': 1577923200000, 'system:index': '76'}}, {'type': 'Image', 'bands': [{'id': 'endmember_1', 'data_type': {'type': 'PixelType', 'precision': 'double'}, 'dimensions': [3, 2], 'origin': [161, -79], 'crs': 'EPSG:4326', 'crs_transform': [1, 0, 0, 0, 1, 0]}, {'id': 'endmember_2', 'data_type': {'type': 'PixelType', 'precision': 'double'}, 'dimensions': [3, 2], 'origin': [161, -79], 'crs': 'EPSG:4326', 'crs_transform': [1, 0, 0, 0, 1, 0]}], 'properties': {'system:time_start': 1578700800000, 'system:index': '77'}}, {'type': 'Image', 'bands': [{'id': 'endmember_1', 'data_type': {'type': 'PixelType', 'precision': 'double'}, 'dimensions': [3, 2], 'origin': [161, -79], 'crs': 'EPSG:4326', 'crs_transform': [1, 0, 0, 0, 1, 0]}, {'id': 'endmember_2', 'data_type': {'type': 'PixelType', 'precision': 'double'}, 'dimensions': [3, 2], 'origin': [161, -79], 'crs': 'EPSG:4326', 'crs_transform': [1, 0, 0, 0, 1, 0]}], 'properties': {'system:time_start': 1579478400000, 'system:index': '78'}}, {'type': 'Image', 'bands': [{'id': 'endmember_1', 'data_type': {'type': 'PixelType', 'precision': 'double'}, 'dimensions': [3, 2], 'origin': [161, -79], 'crs': 'EPSG:4326', 'crs_transform': [1, 0, 0, 0, 1, 0]}, {'id': 'endmember_2', 'data_type': {'type': 'PixelType', 'precision': 'double'}, 'dimensions': [3, 2], 'origin': [161, -79], 'crs': 'EPSG:4326', 'crs_transform': [1, 0, 0, 0, 1, 0]}], 'properties': {'system:time_start': 1604016000000, 'system:index': '79'}}, {'type': 'Image', 'bands': [{'id': 'endmember_1', 'data_type': {'type': 'PixelType', 'precision': 'double'}, 'dimensions': [3, 2], 'origin': [161, -79], 'crs': 'EPSG:4326', 'crs_transform': [1, 0, 0, 0, 1, 0]}, {'id': 'endmember_2', 'data_type': {'type': 'PixelType', 'precision': 'double'}, 'dimensions': [3, 2], 'origin': [161, -79], 'crs': 'EPSG:4326', 'crs_transform': [1, 0, 0, 0, 1, 0]}], 'properties': {'system:time_start': 1605398400000, 'system:index': '80'}}, {'type': 'Image', 'bands': [{'id': 'endmember_1', 'data_type': {'type': 'PixelType', 'precision': 'double'}, 'dimensions': [3, 2], 'origin': [161, -79], 'crs': 'EPSG:4326', 'crs_transform': [1, 0, 0, 0, 1, 0]}, {'id': 'endmember_2', 'data_type': {'type': 'PixelType', 'precision': 'double'}, 'dimensions': [3, 2], 'origin': [161, -79], 'crs': 'EPSG:4326', 'crs_transform': [1, 0, 0, 0, 1, 0]}], 'properties': {'system:time_start': 1605571200000, 'system:index': '81'}}, {'type': 'Image', 'bands': [{'id': 'endmember_1', 'data_type': {'type': 'PixelType', 'precision': 'double'}, 'dimensions': [3, 2], 'origin': [161, -79], 'crs': 'EPSG:4326', 'crs_transform': [1, 0, 0, 0, 1, 0]}, {'id': 'endmember_2', 'data_type': {'type': 'PixelType', 'precision': 'double'}, 'dimensions': [3, 2], 'origin': [161, -79], 'crs': 'EPSG:4326', 'crs_transform': [1, 0, 0, 0, 1, 0]}], 'properties': {'system:time_start': 1605744000000, 'system:index': '82'}}, {'type': 'Image', 'bands': [{'id': 'endmember_1', 'data_type': {'type': 'PixelType', 'precision': 'double'}, 'dimensions': [3, 2], 'origin': [161, -79], 'crs': 'EPSG:4326', 'crs_transform': [1, 0, 0, 0, 1, 0]}, {'id': 'endmember_2', 'data_type': {'type': 'PixelType', 'precision': 'double'}, 'dimensions': [3, 2], 'origin': [161, -79], 'crs': 'EPSG:4326', 'crs_transform': [1, 0, 0, 0, 1, 0]}], 'properties': {'system:time_start': 1606176000000, 'system:index': '83'}}, {'type': 'Image', 'bands': [{'id': 'endmember_1', 'data_type': {'type': 'PixelType', 'precision': 'double'}, 'dimensions': [3, 2], 'origin': [161, -79], 'crs': 'EPSG:4326', 'crs_transform': [1, 0, 0, 0, 1, 0]}, {'id': 'endmember_2', 'data_type': {'type': 'PixelType', 'precision': 'double'}, 'dimensions': [3, 2], 'origin': [161, -79], 'crs': 'EPSG:4326', 'crs_transform': [1, 0, 0, 0, 1, 0]}], 'properties': {'system:time_start': 1606348800000, 'system:index': '84'}}, {'type': 'Image', 'bands': [{'id': 'endmember_1', 'data_type': {'type': 'PixelType', 'precision': 'double'}, 'dimensions': [3, 2], 'origin': [161, -79], 'crs': 'EPSG:4326', 'crs_transform': [1, 0, 0, 0, 1, 0]}, {'id': 'endmember_2', 'data_type': {'type': 'PixelType', 'precision': 'double'}, 'dimensions': [3, 2], 'origin': [161, -79], 'crs': 'EPSG:4326', 'crs_transform': [1, 0, 0, 0, 1, 0]}], 'properties': {'system:time_start': 1606521600000, 'system:index': '85'}}, {'type': 'Image', 'bands': [{'id': 'endmember_1', 'data_type': {'type': 'PixelType', 'precision': 'double'}, 'dimensions': [3, 2], 'origin': [161, -79], 'crs': 'EPSG:4326', 'crs_transform': [1, 0, 0, 0, 1, 0]}, {'id': 'endmember_2', 'data_type': {'type': 'PixelType', 'precision': 'double'}, 'dimensions': [3, 2], 'origin': [161, -79], 'crs': 'EPSG:4326', 'crs_transform': [1, 0, 0, 0, 1, 0]}], 'properties': {'system:time_start': 1606608000000, 'system:index': '86'}}, {'type': 'Image', 'bands': [{'id': 'endmember_1', 'data_type': {'type': 'PixelType', 'precision': 'double'}, 'dimensions': [3, 2], 'origin': [161, -79], 'crs': 'EPSG:4326', 'crs_transform': [1, 0, 0, 0, 1, 0]}, {'id': 'endmember_2', 'data_type': {'type': 'PixelType', 'precision': 'double'}, 'dimensions': [3, 2], 'origin': [161, -79], 'crs': 'EPSG:4326', 'crs_transform': [1, 0, 0, 0, 1, 0]}], 'properties': {'system:time_start': 1606780800000, 'system:index': '87'}}, {'type': 'Image', 'bands': [{'id': 'endmember_1', 'data_type': {'type': 'PixelType', 'precision': 'double'}, 'dimensions': [3, 2], 'origin': [161, -79], 'crs': 'EPSG:4326', 'crs_transform': [1, 0, 0, 0, 1, 0]}, {'id': 'endmember_2', 'data_type': {'type': 'PixelType', 'precision': 'double'}, 'dimensions': [3, 2], 'origin': [161, -79], 'crs': 'EPSG:4326', 'crs_transform': [1, 0, 0, 0, 1, 0]}], 'properties': {'system:time_start': 1606953600000, 'system:index': '88'}}, {'type': 'Image', 'bands': [{'id': 'endmember_1', 'data_type': {'type': 'PixelType', 'precision': 'double'}, 'dimensions': [3, 2], 'origin': [161, -79], 'crs': 'EPSG:4326', 'crs_transform': [1, 0, 0, 0, 1, 0]}, {'id': 'endmember_2', 'data_type': {'type': 'PixelType', 'precision': 'double'}, 'dimensions': [3, 2], 'origin': [161, -79], 'crs': 'EPSG:4326', 'crs_transform': [1, 0, 0, 0, 1, 0]}], 'properties': {'system:time_start': 1607385600000, 'system:index': '89'}}, {'type': 'Image', 'bands': [{'id': 'endmember_1', 'data_type': {'type': 'PixelType', 'precision': 'double'}, 'dimensions': [3, 2], 'origin': [161, -79], 'crs': 'EPSG:4326', 'crs_transform': [1, 0, 0, 0, 1, 0]}, {'id': 'endmember_2', 'data_type': {'type': 'PixelType', 'precision': 'double'}, 'dimensions': [3, 2], 'origin': [161, -79], 'crs': 'EPSG:4326', 'crs_transform': [1, 0, 0, 0, 1, 0]}], 'properties': {'system:time_start': 1607558400000, 'system:index': '90'}}, {'type': 'Image', 'bands': [{'id': 'endmember_1', 'data_type': {'type': 'PixelType', 'precision': 'double'}, 'dimensions': [3, 2], 'origin': [161, -79], 'crs': 'EPSG:4326', 'crs_transform': [1, 0, 0, 0, 1, 0]}, {'id': 'endmember_2', 'data_type': {'type': 'PixelType', 'precision': 'double'}, 'dimensions': [3, 2], 'origin': [161, -79], 'crs': 'EPSG:4326', 'crs_transform': [1, 0, 0, 0, 1, 0]}], 'properties': {'system:time_start': 1607904000000, 'system:index': '91'}}, {'type': 'Image', 'bands': [{'id': 'endmember_1', 'data_type': {'type': 'PixelType', 'precision': 'double'}, 'dimensions': [3, 2], 'origin': [161, -79], 'crs': 'EPSG:4326', 'crs_transform': [1, 0, 0, 0, 1, 0]}, {'id': 'endmember_2', 'data_type': {'type': 'PixelType', 'precision': 'double'}, 'dimensions': [3, 2], 'origin': [161, -79], 'crs': 'EPSG:4326', 'crs_transform': [1, 0, 0, 0, 1, 0]}], 'properties': {'system:time_start': 1607990400000, 'system:index': '92'}}, {'type': 'Image', 'bands': [{'id': 'endmember_1', 'data_type': {'type': 'PixelType', 'precision': 'double'}, 'dimensions': [3, 2], 'origin': [161, -79], 'crs': 'EPSG:4326', 'crs_transform': [1, 0, 0, 0, 1, 0]}, {'id': 'endmember_2', 'data_type': {'type': 'PixelType', 'precision': 'double'}, 'dimensions': [3, 2], 'origin': [161, -79], 'crs': 'EPSG:4326', 'crs_transform': [1, 0, 0, 0, 1, 0]}], 'properties': {'system:time_start': 1608508800000, 'system:index': '93'}}, {'type': 'Image', 'bands': [{'id': 'endmember_1', 'data_type': {'type': 'PixelType', 'precision': 'double'}, 'dimensions': [3, 2], 'origin': [161, -79], 'crs': 'EPSG:4326', 'crs_transform': [1, 0, 0, 0, 1, 0]}, {'id': 'endmember_2', 'data_type': {'type': 'PixelType', 'precision': 'double'}, 'dimensions': [3, 2], 'origin': [161, -79], 'crs': 'EPSG:4326', 'crs_transform': [1, 0, 0, 0, 1, 0]}], 'properties': {'system:time_start': 1608768000000, 'system:index': '94'}}, {'type': 'Image', 'bands': [{'id': 'endmember_1', 'data_type': {'type': 'PixelType', 'precision': 'double'}, 'dimensions': [3, 2], 'origin': [161, -79], 'crs': 'EPSG:4326', 'crs_transform': [1, 0, 0, 0, 1, 0]}, {'id': 'endmember_2', 'data_type': {'type': 'PixelType', 'precision': 'double'}, 'dimensions': [3, 2], 'origin': [161, -79], 'crs': 'EPSG:4326', 'crs_transform': [1, 0, 0, 0, 1, 0]}], 'properties': {'system:time_start': 1608940800000, 'system:index': '95'}}, {'type': 'Image', 'bands': [{'id': 'endmember_1', 'data_type': {'type': 'PixelType', 'precision': 'double'}, 'dimensions': [3, 2], 'origin': [161, -79], 'crs': 'EPSG:4326', 'crs_transform': [1, 0, 0, 0, 1, 0]}, {'id': 'endmember_2', 'data_type': {'type': 'PixelType', 'precision': 'double'}, 'dimensions': [3, 2], 'origin': [161, -79], 'crs': 'EPSG:4326', 'crs_transform': [1, 0, 0, 0, 1, 0]}], 'properties': {'system:time_start': 1609286400000, 'system:index': '96'}}, {'type': 'Image', 'bands': [{'id': 'endmember_1', 'data_type': {'type': 'PixelType', 'precision': 'double'}, 'dimensions': [3, 2], 'origin': [161, -79], 'crs': 'EPSG:4326', 'crs_transform': [1, 0, 0, 0, 1, 0]}, {'id': 'endmember_2', 'data_type': {'type': 'PixelType', 'precision': 'double'}, 'dimensions': [3, 2], 'origin': [161, -79], 'crs': 'EPSG:4326', 'crs_transform': [1, 0, 0, 0, 1, 0]}], 'properties': {'system:time_start': 1609891200000, 'system:index': '97'}}, {'type': 'Image', 'bands': [{'id': 'endmember_1', 'data_type': {'type': 'PixelType', 'precision': 'double'}, 'dimensions': [3, 2], 'origin': [161, -79], 'crs': 'EPSG:4326', 'crs_transform': [1, 0, 0, 0, 1, 0]}, {'id': 'endmember_2', 'data_type': {'type': 'PixelType', 'precision': 'double'}, 'dimensions': [3, 2], 'origin': [161, -79], 'crs': 'EPSG:4326', 'crs_transform': [1, 0, 0, 0, 1, 0]}], 'properties': {'system:time_start': 1610496000000, 'system:index': '98'}}, {'type': 'Image', 'bands': [{'id': 'endmember_1', 'data_type': {'type': 'PixelType', 'precision': 'double'}, 'dimensions': [3, 2], 'origin': [161, -79], 'crs': 'EPSG:4326', 'crs_transform': [1, 0, 0, 0, 1, 0]}, {'id': 'endmember_2', 'data_type': {'type': 'PixelType', 'precision': 'double'}, 'dimensions': [3, 2], 'origin': [161, -79], 'crs': 'EPSG:4326', 'crs_transform': [1, 0, 0, 0, 1, 0]}], 'properties': {'system:time_start': 1610668800000, 'system:index': '99'}}, {'type': 'Image', 'bands': [{'id': 'endmember_1', 'data_type': {'type': 'PixelType', 'precision': 'double'}, 'dimensions': [3, 2], 'origin': [161, -79], 'crs': 'EPSG:4326', 'crs_transform': [1, 0, 0, 0, 1, 0]}, {'id': 'endmember_2', 'data_type': {'type': 'PixelType', 'precision': 'double'}, 'dimensions': [3, 2], 'origin': [161, -79], 'crs': 'EPSG:4326', 'crs_transform': [1, 0, 0, 0, 1, 0]}], 'properties': {'system:time_start': 1610755200000, 'system:index': '100'}}, {'type': 'Image', 'bands': [{'id': 'endmember_1', 'data_type': {'type': 'PixelType', 'precision': 'double'}, 'dimensions': [3, 2], 'origin': [161, -79], 'crs': 'EPSG:4326', 'crs_transform': [1, 0, 0, 0, 1, 0]}, {'id': 'endmember_2', 'data_type': {'type': 'PixelType', 'precision': 'double'}, 'dimensions': [3, 2], 'origin': [161, -79], 'crs': 'EPSG:4326', 'crs_transform': [1, 0, 0, 0, 1, 0]}], 'properties': {'system:time_start': 1610928000000, 'system:index': '101'}}, {'type': 'Image', 'bands': [{'id': 'endmember_1', 'data_type': {'type': 'PixelType', 'precision': 'double'}, 'dimensions': [3, 2], 'origin': [161, -79], 'crs': 'EPSG:4326', 'crs_transform': [1, 0, 0, 0, 1, 0]}, {'id': 'endmember_2', 'data_type': {'type': 'PixelType', 'precision': 'double'}, 'dimensions': [3, 2], 'origin': [161, -79], 'crs': 'EPSG:4326', 'crs_transform': [1, 0, 0, 0, 1, 0]}], 'properties': {'system:time_start': 1611273600000, 'system:index': '102'}}, {'type': 'Image', 'bands': [{'id': 'endmember_1', 'data_type': {'type': 'PixelType', 'precision': 'double'}, 'dimensions': [3, 2], 'origin': [161, -79], 'crs': 'EPSG:4326', 'crs_transform': [1, 0, 0, 0, 1, 0]}, {'id': 'endmember_2', 'data_type': {'type': 'PixelType', 'precision': 'double'}, 'dimensions': [3, 2], 'origin': [161, -79], 'crs': 'EPSG:4326', 'crs_transform': [1, 0, 0, 0, 1, 0]}], 'properties': {'system:time_start': 1612137600000, 'system:index': '103'}}, {'type': 'Image', 'bands': [{'id': 'endmember_1', 'data_type': {'type': 'PixelType', 'precision': 'double'}, 'dimensions': [3, 2], 'origin': [161, -79], 'crs': 'EPSG:4326', 'crs_transform': [1, 0, 0, 0, 1, 0]}, {'id': 'endmember_2', 'data_type': {'type': 'PixelType', 'precision': 'double'}, 'dimensions': [3, 2], 'origin': [161, -79], 'crs': 'EPSG:4326', 'crs_transform': [1, 0, 0, 0, 1, 0]}], 'properties': {'system:time_start': 1635638400000, 'system:index': '104'}}, {'type': 'Image', 'bands': [{'id': 'endmember_1', 'data_type': {'type': 'PixelType', 'precision': 'double'}, 'dimensions': [3, 2], 'origin': [161, -79], 'crs': 'EPSG:4326', 'crs_transform': [1, 0, 0, 0, 1, 0]}, {'id': 'endmember_2', 'data_type': {'type': 'PixelType', 'precision': 'double'}, 'dimensions': [3, 2], 'origin': [161, -79], 'crs': 'EPSG:4326', 'crs_transform': [1, 0, 0, 0, 1, 0]}], 'properties': {'system:time_start': 1635984000000, 'system:index': '105'}}, {'type': 'Image', 'bands': [{'id': 'endmember_1', 'data_type': {'type': 'PixelType', 'precision': 'double'}, 'dimensions': [3, 2], 'origin': [161, -79], 'crs': 'EPSG:4326', 'crs_transform': [1, 0, 0, 0, 1, 0]}, {'id': 'endmember_2', 'data_type': {'type': 'PixelType', 'precision': 'double'}, 'dimensions': [3, 2], 'origin': [161, -79], 'crs': 'EPSG:4326', 'crs_transform': [1, 0, 0, 0, 1, 0]}], 'properties': {'system:time_start': 1636416000000, 'system:index': '106'}}, {'type': 'Image', 'bands': [{'id': 'endmember_1', 'data_type': {'type': 'PixelType', 'precision': 'double'}, 'dimensions': [3, 2], 'origin': [161, -79], 'crs': 'EPSG:4326', 'crs_transform': [1, 0, 0, 0, 1, 0]}, {'id': 'endmember_2', 'data_type': {'type': 'PixelType', 'precision': 'double'}, 'dimensions': [3, 2], 'origin': [161, -79], 'crs': 'EPSG:4326', 'crs_transform': [1, 0, 0, 0, 1, 0]}], 'properties': {'system:time_start': 1636588800000, 'system:index': '107'}}, {'type': 'Image', 'bands': [{'id': 'endmember_1', 'data_type': {'type': 'PixelType', 'precision': 'double'}, 'dimensions': [3, 2], 'origin': [161, -79], 'crs': 'EPSG:4326', 'crs_transform': [1, 0, 0, 0, 1, 0]}, {'id': 'endmember_2', 'data_type': {'type': 'PixelType', 'precision': 'double'}, 'dimensions': [3, 2], 'origin': [161, -79], 'crs': 'EPSG:4326', 'crs_transform': [1, 0, 0, 0, 1, 0]}], 'properties': {'system:time_start': 1636934400000, 'system:index': '108'}}, {'type': 'Image', 'bands': [{'id': 'endmember_1', 'data_type': {'type': 'PixelType', 'precision': 'double'}, 'dimensions': [3, 2], 'origin': [161, -79], 'crs': 'EPSG:4326', 'crs_transform': [1, 0, 0, 0, 1, 0]}, {'id': 'endmember_2', 'data_type': {'type': 'PixelType', 'precision': 'double'}, 'dimensions': [3, 2], 'origin': [161, -79], 'crs': 'EPSG:4326', 'crs_transform': [1, 0, 0, 0, 1, 0]}], 'properties': {'system:time_start': 1637366400000, 'system:index': '109'}}, {'type': 'Image', 'bands': [{'id': 'endmember_1', 'data_type': {'type': 'PixelType', 'precision': 'double'}, 'dimensions': [3, 2], 'origin': [161, -79], 'crs': 'EPSG:4326', 'crs_transform': [1, 0, 0, 0, 1, 0]}, {'id': 'endmember_2', 'data_type': {'type': 'PixelType', 'precision': 'double'}, 'dimensions': [3, 2], 'origin': [161, -79], 'crs': 'EPSG:4326', 'crs_transform': [1, 0, 0, 0, 1, 0]}], 'properties': {'system:time_start': 1638316800000, 'system:index': '110'}}, {'type': 'Image', 'bands': [{'id': 'endmember_1', 'data_type': {'type': 'PixelType', 'precision': 'double'}, 'dimensions': [3, 2], 'origin': [161, -79], 'crs': 'EPSG:4326', 'crs_transform': [1, 0, 0, 0, 1, 0]}, {'id': 'endmember_2', 'data_type': {'type': 'PixelType', 'precision': 'double'}, 'dimensions': [3, 2], 'origin': [161, -79], 'crs': 'EPSG:4326', 'crs_transform': [1, 0, 0, 0, 1, 0]}], 'properties': {'system:time_start': 1638403200000, 'system:index': '111'}}, {'type': 'Image', 'bands': [{'id': 'endmember_1', 'data_type': {'type': 'PixelType', 'precision': 'double'}, 'dimensions': [3, 2], 'origin': [161, -79], 'crs': 'EPSG:4326', 'crs_transform': [1, 0, 0, 0, 1, 0]}, {'id': 'endmember_2', 'data_type': {'type': 'PixelType', 'precision': 'double'}, 'dimensions': [3, 2], 'origin': [161, -79], 'crs': 'EPSG:4326', 'crs_transform': [1, 0, 0, 0, 1, 0]}], 'properties': {'system:time_start': 1638576000000, 'system:index': '112'}}, {'type': 'Image', 'bands': [{'id': 'endmember_1', 'data_type': {'type': 'PixelType', 'precision': 'double'}, 'dimensions': [3, 2], 'origin': [161, -79], 'crs': 'EPSG:4326', 'crs_transform': [1, 0, 0, 0, 1, 0]}, {'id': 'endmember_2', 'data_type': {'type': 'PixelType', 'precision': 'double'}, 'dimensions': [3, 2], 'origin': [161, -79], 'crs': 'EPSG:4326', 'crs_transform': [1, 0, 0, 0, 1, 0]}], 'properties': {'system:time_start': 1638748800000, 'system:index': '113'}}, {'type': 'Image', 'bands': [{'id': 'endmember_1', 'data_type': {'type': 'PixelType', 'precision': 'double'}, 'dimensions': [3, 2], 'origin': [161, -79], 'crs': 'EPSG:4326', 'crs_transform': [1, 0, 0, 0, 1, 0]}, {'id': 'endmember_2', 'data_type': {'type': 'PixelType', 'precision': 'double'}, 'dimensions': [3, 2], 'origin': [161, -79], 'crs': 'EPSG:4326', 'crs_transform': [1, 0, 0, 0, 1, 0]}], 'properties': {'system:time_start': 1638921600000, 'system:index': '114'}}, {'type': 'Image', 'bands': [{'id': 'endmember_1', 'data_type': {'type': 'PixelType', 'precision': 'double'}, 'dimensions': [3, 2], 'origin': [161, -79], 'crs': 'EPSG:4326', 'crs_transform': [1, 0, 0, 0, 1, 0]}, {'id': 'endmember_2', 'data_type': {'type': 'PixelType', 'precision': 'double'}, 'dimensions': [3, 2], 'origin': [161, -79], 'crs': 'EPSG:4326', 'crs_transform': [1, 0, 0, 0, 1, 0]}], 'properties': {'system:time_start': 1639180800000, 'system:index': '115'}}, {'type': 'Image', 'bands': [{'id': 'endmember_1', 'data_type': {'type': 'PixelType', 'precision': 'double'}, 'dimensions': [3, 2], 'origin': [161, -79], 'crs': 'EPSG:4326', 'crs_transform': [1, 0, 0, 0, 1, 0]}, {'id': 'endmember_2', 'data_type': {'type': 'PixelType', 'precision': 'double'}, 'dimensions': [3, 2], 'origin': [161, -79], 'crs': 'EPSG:4326', 'crs_transform': [1, 0, 0, 0, 1, 0]}], 'properties': {'system:time_start': 1639785600000, 'system:index': '116'}}, {'type': 'Image', 'bands': [{'id': 'endmember_1', 'data_type': {'type': 'PixelType', 'precision': 'double'}, 'dimensions': [3, 2], 'origin': [161, -79], 'crs': 'EPSG:4326', 'crs_transform': [1, 0, 0, 0, 1, 0]}, {'id': 'endmember_2', 'data_type': {'type': 'PixelType', 'precision': 'double'}, 'dimensions': [3, 2], 'origin': [161, -79], 'crs': 'EPSG:4326', 'crs_transform': [1, 0, 0, 0, 1, 0]}], 'properties': {'system:time_start': 1639958400000, 'system:index': '117'}}, {'type': 'Image', 'bands': [{'id': 'endmember_1', 'data_type': {'type': 'PixelType', 'precision': 'double'}, 'dimensions': [3, 2], 'origin': [161, -79], 'crs': 'EPSG:4326', 'crs_transform': [1, 0, 0, 0, 1, 0]}, {'id': 'endmember_2', 'data_type': {'type': 'PixelType', 'precision': 'double'}, 'dimensions': [3, 2], 'origin': [161, -79], 'crs': 'EPSG:4326', 'crs_transform': [1, 0, 0, 0, 1, 0]}], 'properties': {'system:time_start': 1640131200000, 'system:index': '118'}}, {'type': 'Image', 'bands': [{'id': 'endmember_1', 'data_type': {'type': 'PixelType', 'precision': 'double'}, 'dimensions': [3, 2], 'origin': [161, -79], 'crs': 'EPSG:4326', 'crs_transform': [1, 0, 0, 0, 1, 0]}, {'id': 'endmember_2', 'data_type': {'type': 'PixelType', 'precision': 'double'}, 'dimensions': [3, 2], 'origin': [161, -79], 'crs': 'EPSG:4326', 'crs_transform': [1, 0, 0, 0, 1, 0]}], 'properties': {'system:time_start': 1640304000000, 'system:index': '119'}}, {'type': 'Image', 'bands': [{'id': 'endmember_1', 'data_type': {'type': 'PixelType', 'precision': 'double'}, 'dimensions': [3, 2], 'origin': [161, -79], 'crs': 'EPSG:4326', 'crs_transform': [1, 0, 0, 0, 1, 0]}, {'id': 'endmember_2', 'data_type': {'type': 'PixelType', 'precision': 'double'}, 'dimensions': [3, 2], 'origin': [161, -79], 'crs': 'EPSG:4326', 'crs_transform': [1, 0, 0, 0, 1, 0]}], 'properties': {'system:time_start': 1641340800000, 'system:index': '120'}}, {'type': 'Image', 'bands': [{'id': 'endmember_1', 'data_type': {'type': 'PixelType', 'precision': 'double'}, 'dimensions': [3, 2], 'origin': [161, -79], 'crs': 'EPSG:4326', 'crs_transform': [1, 0, 0, 0, 1, 0]}, {'id': 'endmember_2', 'data_type': {'type': 'PixelType', 'precision': 'double'}, 'dimensions': [3, 2], 'origin': [161, -79], 'crs': 'EPSG:4326', 'crs_transform': [1, 0, 0, 0, 1, 0]}], 'properties': {'system:time_start': 1641513600000, 'system:index': '121'}}, {'type': 'Image', 'bands': [{'id': 'endmember_1', 'data_type': {'type': 'PixelType', 'precision': 'double'}, 'dimensions': [3, 2], 'origin': [161, -79], 'crs': 'EPSG:4326', 'crs_transform': [1, 0, 0, 0, 1, 0]}, {'id': 'endmember_2', 'data_type': {'type': 'PixelType', 'precision': 'double'}, 'dimensions': [3, 2], 'origin': [161, -79], 'crs': 'EPSG:4326', 'crs_transform': [1, 0, 0, 0, 1, 0]}], 'properties': {'system:time_start': 1641945600000, 'system:index': '122'}}, {'type': 'Image', 'bands': [{'id': 'endmember_1', 'data_type': {'type': 'PixelType', 'precision': 'double'}, 'dimensions': [3, 2], 'origin': [161, -79], 'crs': 'EPSG:4326', 'crs_transform': [1, 0, 0, 0, 1, 0]}, {'id': 'endmember_2', 'data_type': {'type': 'PixelType', 'precision': 'double'}, 'dimensions': [3, 2], 'origin': [161, -79], 'crs': 'EPSG:4326', 'crs_transform': [1, 0, 0, 0, 1, 0]}], 'properties': {'system:time_start': 1642118400000, 'system:index': '123'}}, {'type': 'Image', 'bands': [{'id': 'endmember_1', 'data_type': {'type': 'PixelType', 'precision': 'double'}, 'dimensions': [3, 2], 'origin': [161, -79], 'crs': 'EPSG:4326', 'crs_transform': [1, 0, 0, 0, 1, 0]}, {'id': 'endmember_2', 'data_type': {'type': 'PixelType', 'precision': 'double'}, 'dimensions': [3, 2], 'origin': [161, -79], 'crs': 'EPSG:4326', 'crs_transform': [1, 0, 0, 0, 1, 0]}], 'properties': {'system:time_start': 1642291200000, 'system:index': '124'}}, {'type': 'Image', 'bands': [{'id': 'endmember_1', 'data_type': {'type': 'PixelType', 'precision': 'double'}, 'dimensions': [3, 2], 'origin': [161, -79], 'crs': 'EPSG:4326', 'crs_transform': [1, 0, 0, 0, 1, 0]}, {'id': 'endmember_2', 'data_type': {'type': 'PixelType', 'precision': 'double'}, 'dimensions': [3, 2], 'origin': [161, -79], 'crs': 'EPSG:4326', 'crs_transform': [1, 0, 0, 0, 1, 0]}], 'properties': {'system:time_start': 1642550400000, 'system:index': '125'}}, {'type': 'Image', 'bands': [{'id': 'endmember_1', 'data_type': {'type': 'PixelType', 'precision': 'double'}, 'dimensions': [3, 2], 'origin': [161, -79], 'crs': 'EPSG:4326', 'crs_transform': [1, 0, 0, 0, 1, 0]}, {'id': 'endmember_2', 'data_type': {'type': 'PixelType', 'precision': 'double'}, 'dimensions': [3, 2], 'origin': [161, -79], 'crs': 'EPSG:4326', 'crs_transform': [1, 0, 0, 0, 1, 0]}], 'properties': {'system:time_start': 1643068800000, 'system:index': '126'}}, {'type': 'Image', 'bands': [{'id': 'endmember_1', 'data_type': {'type': 'PixelType', 'precision': 'double'}, 'dimensions': [3, 2], 'origin': [161, -79], 'crs': 'EPSG:4326', 'crs_transform': [1, 0, 0, 0, 1, 0]}, {'id': 'endmember_2', 'data_type': {'type': 'PixelType', 'precision': 'double'}, 'dimensions': [3, 2], 'origin': [161, -79], 'crs': 'EPSG:4326', 'crs_transform': [1, 0, 0, 0, 1, 0]}], 'properties': {'system:time_start': 1643328000000, 'system:index': '127'}}, {'type': 'Image', 'bands': [{'id': 'endmember_1', 'data_type': {'type': 'PixelType', 'precision': 'double'}, 'dimensions': [3, 2], 'origin': [161, -79], 'crs': 'EPSG:4326', 'crs_transform': [1, 0, 0, 0, 1, 0]}, {'id': 'endmember_2', 'data_type': {'type': 'PixelType', 'precision': 'double'}, 'dimensions': [3, 2], 'origin': [161, -79], 'crs': 'EPSG:4326', 'crs_transform': [1, 0, 0, 0, 1, 0]}], 'properties': {'system:time_start': 1668384000000, 'system:index': '128'}}, {'type': 'Image', 'bands': [{'id': 'endmember_1', 'data_type': {'type': 'PixelType', 'precision': 'double'}, 'dimensions': [3, 2], 'origin': [161, -79], 'crs': 'EPSG:4326', 'crs_transform': [1, 0, 0, 0, 1, 0]}, {'id': 'endmember_2', 'data_type': {'type': 'PixelType', 'precision': 'double'}, 'dimensions': [3, 2], 'origin': [161, -79], 'crs': 'EPSG:4326', 'crs_transform': [1, 0, 0, 0, 1, 0]}], 'properties': {'system:time_start': 1668556800000, 'system:index': '129'}}, {'type': 'Image', 'bands': [{'id': 'endmember_1', 'data_type': {'type': 'PixelType', 'precision': 'double'}, 'dimensions': [3, 2], 'origin': [161, -79], 'crs': 'EPSG:4326', 'crs_transform': [1, 0, 0, 0, 1, 0]}, {'id': 'endmember_2', 'data_type': {'type': 'PixelType', 'precision': 'double'}, 'dimensions': [3, 2], 'origin': [161, -79], 'crs': 'EPSG:4326', 'crs_transform': [1, 0, 0, 0, 1, 0]}], 'properties': {'system:time_start': 1668729600000, 'system:index': '130'}}, {'type': 'Image', 'bands': [{'id': 'endmember_1', 'data_type': {'type': 'PixelType', 'precision': 'double'}, 'dimensions': [3, 2], 'origin': [161, -79], 'crs': 'EPSG:4326', 'crs_transform': [1, 0, 0, 0, 1, 0]}, {'id': 'endmember_2', 'data_type': {'type': 'PixelType', 'precision': 'double'}, 'dimensions': [3, 2], 'origin': [161, -79], 'crs': 'EPSG:4326', 'crs_transform': [1, 0, 0, 0, 1, 0]}], 'properties': {'system:time_start': 1668816000000, 'system:index': '131'}}, {'type': 'Image', 'bands': [{'id': 'endmember_1', 'data_type': {'type': 'PixelType', 'precision': 'double'}, 'dimensions': [3, 2], 'origin': [161, -79], 'crs': 'EPSG:4326', 'crs_transform': [1, 0, 0, 0, 1, 0]}, {'id': 'endmember_2', 'data_type': {'type': 'PixelType', 'precision': 'double'}, 'dimensions': [3, 2], 'origin': [161, -79], 'crs': 'EPSG:4326', 'crs_transform': [1, 0, 0, 0, 1, 0]}], 'properties': {'system:time_start': 1668988800000, 'system:index': '132'}}, {'type': 'Image', 'bands': [{'id': 'endmember_1', 'data_type': {'type': 'PixelType', 'precision': 'double'}, 'dimensions': [3, 2], 'origin': [161, -79], 'crs': 'EPSG:4326', 'crs_transform': [1, 0, 0, 0, 1, 0]}, {'id': 'endmember_2', 'data_type': {'type': 'PixelType', 'precision': 'double'}, 'dimensions': [3, 2], 'origin': [161, -79], 'crs': 'EPSG:4326', 'crs_transform': [1, 0, 0, 0, 1, 0]}], 'properties': {'system:time_start': 1669161600000, 'system:index': '133'}}, {'type': 'Image', 'bands': [{'id': 'endmember_1', 'data_type': {'type': 'PixelType', 'precision': 'double'}, 'dimensions': [3, 2], 'origin': [161, -79], 'crs': 'EPSG:4326', 'crs_transform': [1, 0, 0, 0, 1, 0]}, {'id': 'endmember_2', 'data_type': {'type': 'PixelType', 'precision': 'double'}, 'dimensions': [3, 2], 'origin': [161, -79], 'crs': 'EPSG:4326', 'crs_transform': [1, 0, 0, 0, 1, 0]}], 'properties': {'system:time_start': 1669593600000, 'system:index': '134'}}, {'type': 'Image', 'bands': [{'id': 'endmember_1', 'data_type': {'type': 'PixelType', 'precision': 'double'}, 'dimensions': [3, 2], 'origin': [161, -79], 'crs': 'EPSG:4326', 'crs_transform': [1, 0, 0, 0, 1, 0]}, {'id': 'endmember_2', 'data_type': {'type': 'PixelType', 'precision': 'double'}, 'dimensions': [3, 2], 'origin': [161, -79], 'crs': 'EPSG:4326', 'crs_transform': [1, 0, 0, 0, 1, 0]}], 'properties': {'system:time_start': 1670112000000, 'system:index': '135'}}, {'type': 'Image', 'bands': [{'id': 'endmember_1', 'data_type': {'type': 'PixelType', 'precision': 'double'}, 'dimensions': [3, 2], 'origin': [161, -79], 'crs': 'EPSG:4326', 'crs_transform': [1, 0, 0, 0, 1, 0]}, {'id': 'endmember_2', 'data_type': {'type': 'PixelType', 'precision': 'double'}, 'dimensions': [3, 2], 'origin': [161, -79], 'crs': 'EPSG:4326', 'crs_transform': [1, 0, 0, 0, 1, 0]}], 'properties': {'system:time_start': 1670198400000, 'system:index': '136'}}, {'type': 'Image', 'bands': [{'id': 'endmember_1', 'data_type': {'type': 'PixelType', 'precision': 'double'}, 'dimensions': [3, 2], 'origin': [161, -79], 'crs': 'EPSG:4326', 'crs_transform': [1, 0, 0, 0, 1, 0]}, {'id': 'endmember_2', 'data_type': {'type': 'PixelType', 'precision': 'double'}, 'dimensions': [3, 2], 'origin': [161, -79], 'crs': 'EPSG:4326', 'crs_transform': [1, 0, 0, 0, 1, 0]}], 'properties': {'system:time_start': 1670716800000, 'system:index': '137'}}, {'type': 'Image', 'bands': [{'id': 'endmember_1', 'data_type': {'type': 'PixelType', 'precision': 'double'}, 'dimensions': [3, 2], 'origin': [161, -79], 'crs': 'EPSG:4326', 'crs_transform': [1, 0, 0, 0, 1, 0]}, {'id': 'endmember_2', 'data_type': {'type': 'PixelType', 'precision': 'double'}, 'dimensions': [3, 2], 'origin': [161, -79], 'crs': 'EPSG:4326', 'crs_transform': [1, 0, 0, 0, 1, 0]}], 'properties': {'system:time_start': 1671148800000, 'system:index': '138'}}, {'type': 'Image', 'bands': [{'id': 'endmember_1', 'data_type': {'type': 'PixelType', 'precision': 'double'}, 'dimensions': [3, 2], 'origin': [161, -79], 'crs': 'EPSG:4326', 'crs_transform': [1, 0, 0, 0, 1, 0]}, {'id': 'endmember_2', 'data_type': {'type': 'PixelType', 'precision': 'double'}, 'dimensions': [3, 2], 'origin': [161, -79], 'crs': 'EPSG:4326', 'crs_transform': [1, 0, 0, 0, 1, 0]}], 'properties': {'system:time_start': 1671321600000, 'system:index': '139'}}, {'type': 'Image', 'bands': [{'id': 'endmember_1', 'data_type': {'type': 'PixelType', 'precision': 'double'}, 'dimensions': [3, 2], 'origin': [161, -79], 'crs': 'EPSG:4326', 'crs_transform': [1, 0, 0, 0, 1, 0]}, {'id': 'endmember_2', 'data_type': {'type': 'PixelType', 'precision': 'double'}, 'dimensions': [3, 2], 'origin': [161, -79], 'crs': 'EPSG:4326', 'crs_transform': [1, 0, 0, 0, 1, 0]}], 'properties': {'system:time_start': 1672531200000, 'system:index': '140'}}, {'type': 'Image', 'bands': [{'id': 'endmember_1', 'data_type': {'type': 'PixelType', 'precision': 'double'}, 'dimensions': [3, 2], 'origin': [161, -79], 'crs': 'EPSG:4326', 'crs_transform': [1, 0, 0, 0, 1, 0]}, {'id': 'endmember_2', 'data_type': {'type': 'PixelType', 'precision': 'double'}, 'dimensions': [3, 2], 'origin': [161, -79], 'crs': 'EPSG:4326', 'crs_transform': [1, 0, 0, 0, 1, 0]}], 'properties': {'system:time_start': 1672704000000, 'system:index': '141'}}, {'type': 'Image', 'bands': [{'id': 'endmember_1', 'data_type': {'type': 'PixelType', 'precision': 'double'}, 'dimensions': [3, 2], 'origin': [161, -79], 'crs': 'EPSG:4326', 'crs_transform': [1, 0, 0, 0, 1, 0]}, {'id': 'endmember_2', 'data_type': {'type': 'PixelType', 'precision': 'double'}, 'dimensions': [3, 2], 'origin': [161, -79], 'crs': 'EPSG:4326', 'crs_transform': [1, 0, 0, 0, 1, 0]}], 'properties': {'system:time_start': 1673308800000, 'system:index': '142'}}, {'type': 'Image', 'bands': [{'id': 'endmember_1', 'data_type': {'type': 'PixelType', 'precision': 'double'}, 'dimensions': [3, 2], 'origin': [161, -79], 'crs': 'EPSG:4326', 'crs_transform': [1, 0, 0, 0, 1, 0]}, {'id': 'endmember_2', 'data_type': {'type': 'PixelType', 'precision': 'double'}, 'dimensions': [3, 2], 'origin': [161, -79], 'crs': 'EPSG:4326', 'crs_transform': [1, 0, 0, 0, 1, 0]}], 'properties': {'system:time_start': 1673740800000, 'system:index': '143'}}, {'type': 'Image', 'bands': [{'id': 'endmember_1', 'data_type': {'type': 'PixelType', 'precision': 'double'}, 'dimensions': [3, 2], 'origin': [161, -79], 'crs': 'EPSG:4326', 'crs_transform': [1, 0, 0, 0, 1, 0]}, {'id': 'endmember_2', 'data_type': {'type': 'PixelType', 'precision': 'double'}, 'dimensions': [3, 2], 'origin': [161, -79], 'crs': 'EPSG:4326', 'crs_transform': [1, 0, 0, 0, 1, 0]}], 'properties': {'system:time_start': 1674345600000, 'system:index': '144'}}, {'type': 'Image', 'bands': [{'id': 'endmember_1', 'data_type': {'type': 'PixelType', 'precision': 'double'}, 'dimensions': [3, 2], 'origin': [161, -79], 'crs': 'EPSG:4326', 'crs_transform': [1, 0, 0, 0, 1, 0]}, {'id': 'endmember_2', 'data_type': {'type': 'PixelType', 'precision': 'double'}, 'dimensions': [3, 2], 'origin': [161, -79], 'crs': 'EPSG:4326', 'crs_transform': [1, 0, 0, 0, 1, 0]}], 'properties': {'system:time_start': 1674518400000, 'system:index': '145'}}, {'type': 'Image', 'bands': [{'id': 'endmember_1', 'data_type': {'type': 'PixelType', 'precision': 'double'}, 'dimensions': [3, 2], 'origin': [161, -79], 'crs': 'EPSG:4326', 'crs_transform': [1, 0, 0, 0, 1, 0]}, {'id': 'endmember_2', 'data_type': {'type': 'PixelType', 'precision': 'double'}, 'dimensions': [3, 2], 'origin': [161, -79], 'crs': 'EPSG:4326', 'crs_transform': [1, 0, 0, 0, 1, 0]}], 'properties': {'system:time_start': 1698796800000, 'system:index': '146'}}, {'type': 'Image', 'bands': [{'id': 'endmember_1', 'data_type': {'type': 'PixelType', 'precision': 'double'}, 'dimensions': [3, 2], 'origin': [161, -79], 'crs': 'EPSG:4326', 'crs_transform': [1, 0, 0, 0, 1, 0]}, {'id': 'endmember_2', 'data_type': {'type': 'PixelType', 'precision': 'double'}, 'dimensions': [3, 2], 'origin': [161, -79], 'crs': 'EPSG:4326', 'crs_transform': [1, 0, 0, 0, 1, 0]}], 'properties': {'system:time_start': 1700179200000, 'system:index': '147'}}, {'type': 'Image', 'bands': [{'id': 'endmember_1', 'data_type': {'type': 'PixelType', 'precision': 'double'}, 'dimensions': [3, 2], 'origin': [161, -79], 'crs': 'EPSG:4326', 'crs_transform': [1, 0, 0, 0, 1, 0]}, {'id': 'endmember_2', 'data_type': {'type': 'PixelType', 'precision': 'double'}, 'dimensions': [3, 2], 'origin': [161, -79], 'crs': 'EPSG:4326', 'crs_transform': [1, 0, 0, 0, 1, 0]}], 'properties': {'system:time_start': 1700352000000, 'system:index': '148'}}, {'type': 'Image', 'bands': [{'id': 'endmember_1', 'data_type': {'type': 'PixelType', 'precision': 'double'}, 'dimensions': [3, 2], 'origin': [161, -79], 'crs': 'EPSG:4326', 'crs_transform': [1, 0, 0, 0, 1, 0]}, {'id': 'endmember_2', 'data_type': {'type': 'PixelType', 'precision': 'double'}, 'dimensions': [3, 2], 'origin': [161, -79], 'crs': 'EPSG:4326', 'crs_transform': [1, 0, 0, 0, 1, 0]}], 'properties': {'system:time_start': 1700524800000, 'system:index': '149'}}, {'type': 'Image', 'bands': [{'id': 'endmember_1', 'data_type': {'type': 'PixelType', 'precision': 'double'}, 'dimensions': [3, 2], 'origin': [161, -79], 'crs': 'EPSG:4326', 'crs_transform': [1, 0, 0, 0, 1, 0]}, {'id': 'endmember_2', 'data_type': {'type': 'PixelType', 'precision': 'double'}, 'dimensions': [3, 2], 'origin': [161, -79], 'crs': 'EPSG:4326', 'crs_transform': [1, 0, 0, 0, 1, 0]}], 'properties': {'system:time_start': 1701734400000, 'system:index': '150'}}, {'type': 'Image', 'bands': [{'id': 'endmember_1', 'data_type': {'type': 'PixelType', 'precision': 'double'}, 'dimensions': [3, 2], 'origin': [161, -79], 'crs': 'EPSG:4326', 'crs_transform': [1, 0, 0, 0, 1, 0]}, {'id': 'endmember_2', 'data_type': {'type': 'PixelType', 'precision': 'double'}, 'dimensions': [3, 2], 'origin': [161, -79], 'crs': 'EPSG:4326', 'crs_transform': [1, 0, 0, 0, 1, 0]}], 'properties': {'system:time_start': 1701907200000, 'system:index': '151'}}, {'type': 'Image', 'bands': [{'id': 'endmember_1', 'data_type': {'type': 'PixelType', 'precision': 'double'}, 'dimensions': [3, 2], 'origin': [161, -79], 'crs': 'EPSG:4326', 'crs_transform': [1, 0, 0, 0, 1, 0]}, {'id': 'endmember_2', 'data_type': {'type': 'PixelType', 'precision': 'double'}, 'dimensions': [3, 2], 'origin': [161, -79], 'crs': 'EPSG:4326', 'crs_transform': [1, 0, 0, 0, 1, 0]}], 'properties': {'system:time_start': 1702944000000, 'system:index': '152'}}, {'type': 'Image', 'bands': [{'id': 'endmember_1', 'data_type': {'type': 'PixelType', 'precision': 'double'}, 'dimensions': [3, 2], 'origin': [161, -79], 'crs': 'EPSG:4326', 'crs_transform': [1, 0, 0, 0, 1, 0]}, {'id': 'endmember_2', 'data_type': {'type': 'PixelType', 'precision': 'double'}, 'dimensions': [3, 2], 'origin': [161, -79], 'crs': 'EPSG:4326', 'crs_transform': [1, 0, 0, 0, 1, 0]}], 'properties': {'system:time_start': 1703721600000, 'system:index': '153'}}, {'type': 'Image', 'bands': [{'id': 'endmember_1', 'data_type': {'type': 'PixelType', 'precision': 'double'}, 'dimensions': [3, 2], 'origin': [161, -79], 'crs': 'EPSG:4326', 'crs_transform': [1, 0, 0, 0, 1, 0]}, {'id': 'endmember_2', 'data_type': {'type': 'PixelType', 'precision': 'double'}, 'dimensions': [3, 2], 'origin': [161, -79], 'crs': 'EPSG:4326', 'crs_transform': [1, 0, 0, 0, 1, 0]}], 'properties': {'system:time_start': 1703894400000, 'system:index': '154'}}, {'type': 'Image', 'bands': [{'id': 'endmember_1', 'data_type': {'type': 'PixelType', 'precision': 'double'}, 'dimensions': [3, 2], 'origin': [161, -79], 'crs': 'EPSG:4326', 'crs_transform': [1, 0, 0, 0, 1, 0]}, {'id': 'endmember_2', 'data_type': {'type': 'PixelType', 'precision': 'double'}, 'dimensions': [3, 2], 'origin': [161, -79], 'crs': 'EPSG:4326', 'crs_transform': [1, 0, 0, 0, 1, 0]}], 'properties': {'system:time_start': 1704326400000, 'system:index': '155'}}, {'type': 'Image', 'bands': [{'id': 'endmember_1', 'data_type': {'type': 'PixelType', 'precision': 'double'}, 'dimensions': [3, 2], 'origin': [161, -79], 'crs': 'EPSG:4326', 'crs_transform': [1, 0, 0, 0, 1, 0]}, {'id': 'endmember_2', 'data_type': {'type': 'PixelType', 'precision': 'double'}, 'dimensions': [3, 2], 'origin': [161, -79], 'crs': 'EPSG:4326', 'crs_transform': [1, 0, 0, 0, 1, 0]}], 'properties': {'system:time_start': 1705104000000, 'system:index': '156'}}, {'type': 'Image', 'bands': [{'id': 'endmember_1', 'data_type': {'type': 'PixelType', 'precision': 'double'}, 'dimensions': [3, 2], 'origin': [161, -79], 'crs': 'EPSG:4326', 'crs_transform': [1, 0, 0, 0, 1, 0]}, {'id': 'endmember_2', 'data_type': {'type': 'PixelType', 'precision': 'double'}, 'dimensions': [3, 2], 'origin': [161, -79], 'crs': 'EPSG:4326', 'crs_transform': [1, 0, 0, 0, 1, 0]}], 'properties': {'system:time_start': 1705881600000, 'system:index': '157'}}, {'type': 'Image', 'bands': [{'id': 'endmember_1', 'data_type': {'type': 'PixelType', 'precision': 'double'}, 'dimensions': [3, 2], 'origin': [161, -79], 'crs': 'EPSG:4326', 'crs_transform': [1, 0, 0, 0, 1, 0]}, {'id': 'endmember_2', 'data_type': {'type': 'PixelType', 'precision': 'double'}, 'dimensions': [3, 2], 'origin': [161, -79], 'crs': 'EPSG:4326', 'crs_transform': [1, 0, 0, 0, 1, 0]}], 'properties': {'system:time_start': 1706054400000, 'system:index': '158'}}]}\n"
     ]
    }
   ],
   "source": [
    "# apply process to all images in collection\n",
    "result_collection = unmix_image_collection(l8_clipped, roi_for_brightness)\n",
    "#result_collection = l8_clipped.map(unmix_image_collection(roi_for_brightness))\n",
    "print(result_collection.getInfo())"
   ]
  },
  {
   "cell_type": "code",
   "execution_count": 137,
   "metadata": {},
   "outputs": [
    {
     "data": {
      "text/html": [
       "\n",
       "            <style>\n",
       "                .geemap-dark {\n",
       "                    --jp-widgets-color: white;\n",
       "                    --jp-widgets-label-color: white;\n",
       "                    --jp-ui-font-color1: white;\n",
       "                    --jp-layout-color2: #454545;\n",
       "                    background-color: #383838;\n",
       "                }\n",
       "\n",
       "                .geemap-dark .jupyter-button {\n",
       "                    --jp-layout-color3: #383838;\n",
       "                }\n",
       "\n",
       "                .geemap-colab {\n",
       "                    background-color: var(--colab-primary-surface-color, white);\n",
       "                }\n",
       "\n",
       "                .geemap-colab .jupyter-button {\n",
       "                    --jp-layout-color3: var(--colab-primary-surface-color, white);\n",
       "                }\n",
       "            </style>\n",
       "            "
      ],
      "text/plain": [
       "<IPython.core.display.HTML object>"
      ]
     },
     "metadata": {},
     "output_type": "display_data"
    },
    {
     "data": {
      "text/html": [
       "<div><style>:root {\n",
       "  --font-color-primary: var(--jp-content-font-color0, rgba(0, 0, 0, 1));\n",
       "  --font-color-secondary: var(--jp-content-font-color2, rgba(0, 0, 0, 0.6));\n",
       "  --font-color-accent: rgba(123, 31, 162, 1);\n",
       "  --border-color: var(--jp-border-color2, #e0e0e0);\n",
       "  --background-color: var(--jp-layout-color0, white);\n",
       "  --background-color-row-even: var(--jp-layout-color1, white);\n",
       "  --background-color-row-odd: var(--jp-layout-color2, #eeeeee);\n",
       "}\n",
       "\n",
       "html[theme=\"dark\"],\n",
       "body[data-theme=\"dark\"],\n",
       "body.vscode-dark {\n",
       "  --font-color-primary: rgba(255, 255, 255, 1);\n",
       "  --font-color-secondary: rgba(255, 255, 255, 0.6);\n",
       "  --font-color-accent: rgb(173, 132, 190);\n",
       "  --border-color: #2e2e2e;\n",
       "  --background-color: #111111;\n",
       "  --background-color-row-even: #111111;\n",
       "  --background-color-row-odd: #313131;\n",
       "}\n",
       "\n",
       ".ee {\n",
       "  padding: 1em;\n",
       "  line-height: 1.5em;\n",
       "  min-width: 300px;\n",
       "  max-width: 1200px;\n",
       "  overflow-y: scroll;\n",
       "  max-height: 600px;\n",
       "  border: 1px solid var(--border-color);\n",
       "  font-family: monospace;\n",
       "}\n",
       "\n",
       ".ee li {\n",
       "  list-style-type: none;\n",
       "}\n",
       "\n",
       ".ee ul {\n",
       "  padding-left: 1.5em !important;\n",
       "  margin: 0;\n",
       "}\n",
       "\n",
       ".ee > ul {\n",
       "  padding-left: 0 !important;\n",
       "}\n",
       "\n",
       ".ee-open,\n",
       ".ee-shut {\n",
       "  color: var(--font-color-secondary);\n",
       "  cursor: pointer;\n",
       "  margin: 0;\n",
       "}\n",
       "\n",
       ".ee-open:hover,\n",
       ".ee-shut:hover {\n",
       "  color: var(--font-color-primary);\n",
       "}\n",
       "\n",
       ".ee-k {\n",
       "  color: var(--font-color-accent);\n",
       "  margin-right: 6px;\n",
       "}\n",
       "\n",
       ".ee-v {\n",
       "  color: var(--font-color-primary);\n",
       "}\n",
       "\n",
       ".ee-toggle {\n",
       "  display: none;\n",
       "}\n",
       "\n",
       ".ee-shut + ul {\n",
       "  display: none;\n",
       "}\n",
       "\n",
       ".ee-open + ul {\n",
       "  display: block;\n",
       "}\n",
       "\n",
       ".ee-shut::before {\n",
       "  display: inline-block;\n",
       "  content: \"▼\";\n",
       "  margin-right: 6px;\n",
       "  transform: rotate(-90deg);\n",
       "  transition: transform 0.2s;\n",
       "}\n",
       "\n",
       ".ee-open::before {\n",
       "  transform: rotate(0deg);\n",
       "  display: inline-block;\n",
       "  content: \"▼\";\n",
       "  margin-right: 6px;\n",
       "  transition: transform 0.2s;\n",
       "}\n",
       "</style><div class='ee'><ul><li><label class='ee-shut'>Image 2024-01-11 (7 bands)<input type='checkbox' class='ee-toggle'></label><ul><li><span class='ee-k'>type:</span><span class='ee-v'>Image</span></li><li><span class='ee-k'>id:</span><span class='ee-v'>2024-01-11</span></li><li><label class='ee-shut'>bands: List (7 elements)<input type='checkbox' class='ee-toggle'></label><ul><li><label class='ee-shut'>0: \"B2\", float, EPSG:4326, 3x2 px<input type='checkbox' class='ee-toggle'></label><ul><li><span class='ee-k'>id:</span><span class='ee-v'>B2</span></li><li><span class='ee-k'>crs:</span><span class='ee-v'>EPSG:4326</span></li><li><label class='ee-shut'>crs_transform: [1, 0, 0, 0, 1, 0]<input type='checkbox' class='ee-toggle'></label><ul><li><span class='ee-k'>0:</span><span class='ee-v'>1</span></li><li><span class='ee-k'>1:</span><span class='ee-v'>0</span></li><li><span class='ee-k'>2:</span><span class='ee-v'>0</span></li><li><span class='ee-k'>3:</span><span class='ee-v'>0</span></li><li><span class='ee-k'>4:</span><span class='ee-v'>1</span></li><li><span class='ee-k'>5:</span><span class='ee-v'>0</span></li></ul></li><li><label class='ee-shut'>data_type: float<input type='checkbox' class='ee-toggle'></label><ul><li><span class='ee-k'>type:</span><span class='ee-v'>PixelType</span></li><li><span class='ee-k'>precision:</span><span class='ee-v'>float</span></li></ul></li><li><label class='ee-shut'>dimensions: [3, 2]<input type='checkbox' class='ee-toggle'></label><ul><li><span class='ee-k'>0:</span><span class='ee-v'>3</span></li><li><span class='ee-k'>1:</span><span class='ee-v'>2</span></li></ul></li><li><label class='ee-shut'>origin: [161, -79]<input type='checkbox' class='ee-toggle'></label><ul><li><span class='ee-k'>0:</span><span class='ee-v'>161</span></li><li><span class='ee-k'>1:</span><span class='ee-v'>-79</span></li></ul></li></ul></li><li><label class='ee-shut'>1: \"B3\", float, EPSG:4326, 3x2 px<input type='checkbox' class='ee-toggle'></label><ul><li><span class='ee-k'>id:</span><span class='ee-v'>B3</span></li><li><span class='ee-k'>crs:</span><span class='ee-v'>EPSG:4326</span></li><li><label class='ee-shut'>crs_transform: [1, 0, 0, 0, 1, 0]<input type='checkbox' class='ee-toggle'></label><ul><li><span class='ee-k'>0:</span><span class='ee-v'>1</span></li><li><span class='ee-k'>1:</span><span class='ee-v'>0</span></li><li><span class='ee-k'>2:</span><span class='ee-v'>0</span></li><li><span class='ee-k'>3:</span><span class='ee-v'>0</span></li><li><span class='ee-k'>4:</span><span class='ee-v'>1</span></li><li><span class='ee-k'>5:</span><span class='ee-v'>0</span></li></ul></li><li><label class='ee-shut'>data_type: float<input type='checkbox' class='ee-toggle'></label><ul><li><span class='ee-k'>type:</span><span class='ee-v'>PixelType</span></li><li><span class='ee-k'>precision:</span><span class='ee-v'>float</span></li></ul></li><li><label class='ee-shut'>dimensions: [3, 2]<input type='checkbox' class='ee-toggle'></label><ul><li><span class='ee-k'>0:</span><span class='ee-v'>3</span></li><li><span class='ee-k'>1:</span><span class='ee-v'>2</span></li></ul></li><li><label class='ee-shut'>origin: [161, -79]<input type='checkbox' class='ee-toggle'></label><ul><li><span class='ee-k'>0:</span><span class='ee-v'>161</span></li><li><span class='ee-k'>1:</span><span class='ee-v'>-79</span></li></ul></li></ul></li><li><label class='ee-shut'>2: \"B4\", float, EPSG:4326, 3x2 px<input type='checkbox' class='ee-toggle'></label><ul><li><span class='ee-k'>id:</span><span class='ee-v'>B4</span></li><li><span class='ee-k'>crs:</span><span class='ee-v'>EPSG:4326</span></li><li><label class='ee-shut'>crs_transform: [1, 0, 0, 0, 1, 0]<input type='checkbox' class='ee-toggle'></label><ul><li><span class='ee-k'>0:</span><span class='ee-v'>1</span></li><li><span class='ee-k'>1:</span><span class='ee-v'>0</span></li><li><span class='ee-k'>2:</span><span class='ee-v'>0</span></li><li><span class='ee-k'>3:</span><span class='ee-v'>0</span></li><li><span class='ee-k'>4:</span><span class='ee-v'>1</span></li><li><span class='ee-k'>5:</span><span class='ee-v'>0</span></li></ul></li><li><label class='ee-shut'>data_type: float<input type='checkbox' class='ee-toggle'></label><ul><li><span class='ee-k'>type:</span><span class='ee-v'>PixelType</span></li><li><span class='ee-k'>precision:</span><span class='ee-v'>float</span></li></ul></li><li><label class='ee-shut'>dimensions: [3, 2]<input type='checkbox' class='ee-toggle'></label><ul><li><span class='ee-k'>0:</span><span class='ee-v'>3</span></li><li><span class='ee-k'>1:</span><span class='ee-v'>2</span></li></ul></li><li><label class='ee-shut'>origin: [161, -79]<input type='checkbox' class='ee-toggle'></label><ul><li><span class='ee-k'>0:</span><span class='ee-v'>161</span></li><li><span class='ee-k'>1:</span><span class='ee-v'>-79</span></li></ul></li></ul></li><li><label class='ee-shut'>3: \"B5\", float, EPSG:4326, 3x2 px<input type='checkbox' class='ee-toggle'></label><ul><li><span class='ee-k'>id:</span><span class='ee-v'>B5</span></li><li><span class='ee-k'>crs:</span><span class='ee-v'>EPSG:4326</span></li><li><label class='ee-shut'>crs_transform: [1, 0, 0, 0, 1, 0]<input type='checkbox' class='ee-toggle'></label><ul><li><span class='ee-k'>0:</span><span class='ee-v'>1</span></li><li><span class='ee-k'>1:</span><span class='ee-v'>0</span></li><li><span class='ee-k'>2:</span><span class='ee-v'>0</span></li><li><span class='ee-k'>3:</span><span class='ee-v'>0</span></li><li><span class='ee-k'>4:</span><span class='ee-v'>1</span></li><li><span class='ee-k'>5:</span><span class='ee-v'>0</span></li></ul></li><li><label class='ee-shut'>data_type: float<input type='checkbox' class='ee-toggle'></label><ul><li><span class='ee-k'>type:</span><span class='ee-v'>PixelType</span></li><li><span class='ee-k'>precision:</span><span class='ee-v'>float</span></li></ul></li><li><label class='ee-shut'>dimensions: [3, 2]<input type='checkbox' class='ee-toggle'></label><ul><li><span class='ee-k'>0:</span><span class='ee-v'>3</span></li><li><span class='ee-k'>1:</span><span class='ee-v'>2</span></li></ul></li><li><label class='ee-shut'>origin: [161, -79]<input type='checkbox' class='ee-toggle'></label><ul><li><span class='ee-k'>0:</span><span class='ee-v'>161</span></li><li><span class='ee-k'>1:</span><span class='ee-v'>-79</span></li></ul></li></ul></li><li><label class='ee-shut'>4: \"B6\", float, EPSG:4326, 3x2 px<input type='checkbox' class='ee-toggle'></label><ul><li><span class='ee-k'>id:</span><span class='ee-v'>B6</span></li><li><span class='ee-k'>crs:</span><span class='ee-v'>EPSG:4326</span></li><li><label class='ee-shut'>crs_transform: [1, 0, 0, 0, 1, 0]<input type='checkbox' class='ee-toggle'></label><ul><li><span class='ee-k'>0:</span><span class='ee-v'>1</span></li><li><span class='ee-k'>1:</span><span class='ee-v'>0</span></li><li><span class='ee-k'>2:</span><span class='ee-v'>0</span></li><li><span class='ee-k'>3:</span><span class='ee-v'>0</span></li><li><span class='ee-k'>4:</span><span class='ee-v'>1</span></li><li><span class='ee-k'>5:</span><span class='ee-v'>0</span></li></ul></li><li><label class='ee-shut'>data_type: float<input type='checkbox' class='ee-toggle'></label><ul><li><span class='ee-k'>type:</span><span class='ee-v'>PixelType</span></li><li><span class='ee-k'>precision:</span><span class='ee-v'>float</span></li></ul></li><li><label class='ee-shut'>dimensions: [3, 2]<input type='checkbox' class='ee-toggle'></label><ul><li><span class='ee-k'>0:</span><span class='ee-v'>3</span></li><li><span class='ee-k'>1:</span><span class='ee-v'>2</span></li></ul></li><li><label class='ee-shut'>origin: [161, -79]<input type='checkbox' class='ee-toggle'></label><ul><li><span class='ee-k'>0:</span><span class='ee-v'>161</span></li><li><span class='ee-k'>1:</span><span class='ee-v'>-79</span></li></ul></li></ul></li><li><label class='ee-shut'>5: \"B7\", float, EPSG:4326, 3x2 px<input type='checkbox' class='ee-toggle'></label><ul><li><span class='ee-k'>id:</span><span class='ee-v'>B7</span></li><li><span class='ee-k'>crs:</span><span class='ee-v'>EPSG:4326</span></li><li><label class='ee-shut'>crs_transform: [1, 0, 0, 0, 1, 0]<input type='checkbox' class='ee-toggle'></label><ul><li><span class='ee-k'>0:</span><span class='ee-v'>1</span></li><li><span class='ee-k'>1:</span><span class='ee-v'>0</span></li><li><span class='ee-k'>2:</span><span class='ee-v'>0</span></li><li><span class='ee-k'>3:</span><span class='ee-v'>0</span></li><li><span class='ee-k'>4:</span><span class='ee-v'>1</span></li><li><span class='ee-k'>5:</span><span class='ee-v'>0</span></li></ul></li><li><label class='ee-shut'>data_type: float<input type='checkbox' class='ee-toggle'></label><ul><li><span class='ee-k'>type:</span><span class='ee-v'>PixelType</span></li><li><span class='ee-k'>precision:</span><span class='ee-v'>float</span></li></ul></li><li><label class='ee-shut'>dimensions: [3, 2]<input type='checkbox' class='ee-toggle'></label><ul><li><span class='ee-k'>0:</span><span class='ee-v'>3</span></li><li><span class='ee-k'>1:</span><span class='ee-v'>2</span></li></ul></li><li><label class='ee-shut'>origin: [161, -79]<input type='checkbox' class='ee-toggle'></label><ul><li><span class='ee-k'>0:</span><span class='ee-v'>161</span></li><li><span class='ee-k'>1:</span><span class='ee-v'>-79</span></li></ul></li></ul></li><li><label class='ee-shut'>6: \"B8\", float, EPSG:4326, 3x2 px<input type='checkbox' class='ee-toggle'></label><ul><li><span class='ee-k'>id:</span><span class='ee-v'>B8</span></li><li><span class='ee-k'>crs:</span><span class='ee-v'>EPSG:4326</span></li><li><label class='ee-shut'>crs_transform: [1, 0, 0, 0, 1, 0]<input type='checkbox' class='ee-toggle'></label><ul><li><span class='ee-k'>0:</span><span class='ee-v'>1</span></li><li><span class='ee-k'>1:</span><span class='ee-v'>0</span></li><li><span class='ee-k'>2:</span><span class='ee-v'>0</span></li><li><span class='ee-k'>3:</span><span class='ee-v'>0</span></li><li><span class='ee-k'>4:</span><span class='ee-v'>1</span></li><li><span class='ee-k'>5:</span><span class='ee-v'>0</span></li></ul></li><li><label class='ee-shut'>data_type: float<input type='checkbox' class='ee-toggle'></label><ul><li><span class='ee-k'>type:</span><span class='ee-v'>PixelType</span></li><li><span class='ee-k'>precision:</span><span class='ee-v'>float</span></li></ul></li><li><label class='ee-shut'>dimensions: [3, 2]<input type='checkbox' class='ee-toggle'></label><ul><li><span class='ee-k'>0:</span><span class='ee-v'>3</span></li><li><span class='ee-k'>1:</span><span class='ee-v'>2</span></li></ul></li><li><label class='ee-shut'>origin: [161, -79]<input type='checkbox' class='ee-toggle'></label><ul><li><span class='ee-k'>0:</span><span class='ee-v'>161</span></li><li><span class='ee-k'>1:</span><span class='ee-v'>-79</span></li></ul></li></ul></li></ul></li><li><label class='ee-shut'>properties: Object (3 properties)<input type='checkbox' class='ee-toggle'></label><ul><li><label class='ee-shut'>system:footprint: Polygon (5 vertices)<input type='checkbox' class='ee-toggle'></label><ul><li><span class='ee-k'>type:</span><span class='ee-v'>Polygon</span></li><li><label class='ee-shut'>coordinates: List (1 element)<input type='checkbox' class='ee-toggle'></label><ul><li><label class='ee-shut'>0: List (5 elements)<input type='checkbox' class='ee-toggle'></label><ul><li><label class='ee-shut'>0: [162.277817, -77.740157]<input type='checkbox' class='ee-toggle'></label><ul><li><span class='ee-k'>0:</span><span class='ee-v'>162.277817</span></li><li><span class='ee-k'>1:</span><span class='ee-v'>-77.740157</span></li></ul></li><li><label class='ee-shut'>1: [163.2721, -77.740157]<input type='checkbox' class='ee-toggle'></label><ul><li><span class='ee-k'>0:</span><span class='ee-v'>163.2721</span></li><li><span class='ee-k'>1:</span><span class='ee-v'>-77.740157</span></li></ul></li><li><label class='ee-shut'>2: [163.2721, -77.576571]<input type='checkbox' class='ee-toggle'></label><ul><li><span class='ee-k'>0:</span><span class='ee-v'>163.2721</span></li><li><span class='ee-k'>1:</span><span class='ee-v'>-77.576571</span></li></ul></li><li><label class='ee-shut'>3: [162.277817, -77.576571]<input type='checkbox' class='ee-toggle'></label><ul><li><span class='ee-k'>0:</span><span class='ee-v'>162.277817</span></li><li><span class='ee-k'>1:</span><span class='ee-v'>-77.576571</span></li></ul></li><li><label class='ee-shut'>4: [162.277817, -77.740157]<input type='checkbox' class='ee-toggle'></label><ul><li><span class='ee-k'>0:</span><span class='ee-v'>162.277817</span></li><li><span class='ee-k'>1:</span><span class='ee-v'>-77.740157</span></li></ul></li></ul></li></ul></li></ul></li><li><span class='ee-k'>system:index:</span><span class='ee-v'>156</span></li><li><span class='ee-k'>system:time_start:</span><span class='ee-v'>1704931200000</span></li></ul></li></ul></li></ul></div><script>function toggleHeader() {\n",
       "    const parent = this.parentElement;\n",
       "    parent.className = parent.className === \"ee-open\" ? \"ee-shut\" : \"ee-open\";\n",
       "}\n",
       "\n",
       "for (let c of document.getElementsByClassName(\"ee-toggle\")) {\n",
       "    c.onclick = toggleHeader;\n",
       "}</script></div>"
      ],
      "text/plain": [
       "<ee.image.Image at 0x123003110>"
      ]
     },
     "metadata": {},
     "output_type": "display_data"
    },
    {
     "data": {
      "application/vnd.jupyter.widget-view+json": {
       "model_id": "7391f60617a64e95a8fe56048deeb90b",
       "version_major": 2,
       "version_minor": 0
      },
      "text/plain": [
       "Map(center=[-77.61073139024238, 163.15799378173344], controls=(WidgetControl(options=['position', 'transparent…"
      ]
     },
     "metadata": {},
     "output_type": "display_data"
    }
   ],
   "source": [
    "### what's going on with this ID 58 image? can we just get rid of it? \n",
    "image_id = \"156\"\n",
    "filtered_image = l8_clipped.filterMetadata(\"system:index\", \"equals\", image_id).first()\n",
    "\n",
    "display(filtered_image)\n",
    "\n",
    "vis_params = {\n",
    "    'bands': ['B4', 'B3', 'B2'],  # Red, Green, Blue bands (for Sentinel-2 or Landsat 8)\n",
    "    'min': 0,\n",
    "    'max': 1,  # Adjust based on the dataset's reflectance range\n",
    "    'gamma': 1.4  # Optional, enhances contrast\n",
    "}\n",
    "\n",
    "\n",
    "#Plot to confirm output\n",
    "Map = geemap.Map(zoom=10, center=[-77.616808, 163.077952])\n",
    "Map.centerObject(roi_for_brightness, 10)\n",
    "Map.addLayer(filtered_image, vis_params)\n",
    "Map.addLayer(roi_for_brightness)\n",
    "\n",
    "Map\n",
    "\n"
   ]
  },
  {
   "cell_type": "code",
   "execution_count": 148,
   "metadata": {},
   "outputs": [
    {
     "data": {
      "text/html": [
       "\n",
       "            <style>\n",
       "                .geemap-dark {\n",
       "                    --jp-widgets-color: white;\n",
       "                    --jp-widgets-label-color: white;\n",
       "                    --jp-ui-font-color1: white;\n",
       "                    --jp-layout-color2: #454545;\n",
       "                    background-color: #383838;\n",
       "                }\n",
       "\n",
       "                .geemap-dark .jupyter-button {\n",
       "                    --jp-layout-color3: #383838;\n",
       "                }\n",
       "\n",
       "                .geemap-colab {\n",
       "                    background-color: var(--colab-primary-surface-color, white);\n",
       "                }\n",
       "\n",
       "                .geemap-colab .jupyter-button {\n",
       "                    --jp-layout-color3: var(--colab-primary-surface-color, white);\n",
       "                }\n",
       "            </style>\n",
       "            "
      ],
      "text/plain": [
       "<IPython.core.display.HTML object>"
      ]
     },
     "metadata": {},
     "output_type": "display_data"
    }
   ],
   "source": [
    "# export the images in the unmixed collection\n",
    "def export_image(image):\n",
    "    date_str = ee.Date(image.get('system:time_start')).format('YYYY-MM-dd').getInfo()\n",
    "    task = ee.batch.Export.image.toDrive(\n",
    "        image=image,\n",
    "        description=f'unmixed_images_{date_str}',\n",
    "        folder='EarthEngine',  # Replace with your folder name\n",
    "        scale=30,                 # Define the scale (e.g., 30 meters per pixel)\n",
    "        crs='EPSG:3031',          # Define the Coordinate Reference System\n",
    "        region=pointed,  # Define the region to export\n",
    "        fileNamePrefix=f'LANDSAT_unmix_feb18_{date_str}'\n",
    "    )\n",
    "    task.start()\n",
    "    print(f\"Export started for image with date {date_str}.\")\n",
    "    "
   ]
  },
  {
   "cell_type": "code",
   "execution_count": 149,
   "metadata": {},
   "outputs": [
    {
     "data": {
      "text/html": [
       "\n",
       "            <style>\n",
       "                .geemap-dark {\n",
       "                    --jp-widgets-color: white;\n",
       "                    --jp-widgets-label-color: white;\n",
       "                    --jp-ui-font-color1: white;\n",
       "                    --jp-layout-color2: #454545;\n",
       "                    background-color: #383838;\n",
       "                }\n",
       "\n",
       "                .geemap-dark .jupyter-button {\n",
       "                    --jp-layout-color3: #383838;\n",
       "                }\n",
       "\n",
       "                .geemap-colab {\n",
       "                    background-color: var(--colab-primary-surface-color, white);\n",
       "                }\n",
       "\n",
       "                .geemap-colab .jupyter-button {\n",
       "                    --jp-layout-color3: var(--colab-primary-surface-color, white);\n",
       "                }\n",
       "            </style>\n",
       "            "
      ],
      "text/plain": [
       "<IPython.core.display.HTML object>"
      ]
     },
     "metadata": {},
     "output_type": "display_data"
    },
    {
     "name": "stdout",
     "output_type": "stream",
     "text": [
      "Export started for image with date 2016-11-02.\n",
      "Export started for image with date 2016-11-04.\n",
      "Export started for image with date 2016-11-06.\n",
      "Export started for image with date 2016-11-08.\n",
      "Export started for image with date 2016-11-13.\n",
      "Export started for image with date 2016-11-15.\n",
      "Export started for image with date 2016-12-10.\n",
      "Export started for image with date 2016-12-13.\n",
      "Export started for image with date 2016-12-15.\n",
      "Export started for image with date 2016-12-17.\n",
      "Export started for image with date 2016-12-19.\n",
      "Export started for image with date 2016-12-24.\n",
      "Export started for image with date 2017-01-02.\n",
      "Export started for image with date 2017-01-11.\n",
      "Export started for image with date 2017-01-14.\n",
      "Export started for image with date 2017-01-18.\n",
      "Export started for image with date 2017-01-25.\n",
      "Export started for image with date 2017-01-27.\n",
      "Export started for image with date 2017-01-30.\n",
      "Export started for image with date 2017-02-01.\n",
      "Export started for image with date 2017-11-04.\n",
      "Export started for image with date 2017-11-07.\n",
      "Export started for image with date 2017-11-18.\n",
      "Export started for image with date 2017-11-20.\n",
      "Export started for image with date 2017-11-21.\n",
      "Export started for image with date 2017-11-25.\n",
      "Export started for image with date 2017-11-27.\n",
      "Export started for image with date 2017-11-30.\n",
      "Export started for image with date 2017-12-02.\n",
      "Export started for image with date 2017-12-07.\n",
      "Export started for image with date 2017-12-16.\n",
      "Export started for image with date 2017-12-23.\n",
      "Export started for image with date 2018-01-03.\n",
      "Export started for image with date 2018-01-05.\n",
      "Export started for image with date 2018-01-07.\n",
      "Export started for image with date 2018-01-10.\n",
      "Export started for image with date 2018-01-12.\n",
      "Export started for image with date 2018-01-14.\n",
      "Export started for image with date 2018-01-19.\n",
      "Export started for image with date 2018-01-26.\n",
      "Export started for image with date 2018-01-30.\n",
      "Export started for image with date 2018-11-05.\n",
      "Export started for image with date 2018-11-07.\n",
      "Export started for image with date 2018-11-08.\n",
      "Export started for image with date 2018-11-12.\n",
      "Export started for image with date 2018-11-17.\n",
      "Export started for image with date 2018-11-19.\n",
      "Export started for image with date 2018-11-23.\n",
      "Export started for image with date 2018-11-24.\n",
      "Export started for image with date 2018-11-26.\n",
      "Export started for image with date 2018-11-28.\n",
      "Export started for image with date 2018-11-30.\n",
      "Export started for image with date 2018-12-05.\n",
      "Export started for image with date 2018-12-30.\n",
      "Export started for image with date 2019-01-01.\n",
      "Export started for image with date 2019-01-04.\n",
      "Export started for image with date 2019-01-06.\n",
      "Export started for image with date 2019-01-10.\n",
      "Export started for image with date 2019-01-11.\n",
      "Export started for image with date 2019-01-15.\n",
      "Export started for image with date 2019-01-24.\n",
      "Export started for image with date 2019-01-26.\n",
      "Export started for image with date 2019-11-06.\n",
      "Export started for image with date 2019-11-08.\n",
      "Export started for image with date 2019-11-10.\n",
      "Export started for image with date 2019-11-11.\n",
      "Export started for image with date 2019-11-15.\n",
      "Export started for image with date 2019-11-17.\n",
      "Export started for image with date 2019-11-24.\n",
      "Export started for image with date 2019-11-26.\n",
      "Export started for image with date 2019-11-27.\n",
      "Export started for image with date 2019-12-03.\n",
      "Export started for image with date 2019-12-17.\n",
      "Export started for image with date 2019-12-24.\n",
      "Export started for image with date 2019-12-26.\n",
      "Export started for image with date 2019-12-31.\n",
      "Export started for image with date 2020-01-02.\n",
      "Export started for image with date 2020-01-11.\n",
      "Export started for image with date 2020-01-20.\n",
      "Export started for image with date 2020-10-30.\n",
      "Export started for image with date 2020-11-15.\n",
      "Export started for image with date 2020-11-17.\n",
      "Export started for image with date 2020-11-19.\n",
      "Export started for image with date 2020-11-24.\n",
      "Export started for image with date 2020-11-26.\n",
      "Export started for image with date 2020-11-28.\n",
      "Export started for image with date 2020-11-29.\n",
      "Export started for image with date 2020-12-01.\n",
      "Export started for image with date 2020-12-03.\n",
      "Export started for image with date 2020-12-08.\n",
      "Export started for image with date 2020-12-10.\n",
      "Export started for image with date 2020-12-14.\n",
      "Export started for image with date 2020-12-15.\n",
      "Export started for image with date 2020-12-21.\n",
      "Export started for image with date 2020-12-24.\n",
      "Export started for image with date 2020-12-26.\n",
      "Export started for image with date 2020-12-30.\n",
      "Export started for image with date 2021-01-06.\n",
      "Export started for image with date 2021-01-13.\n",
      "Export started for image with date 2021-01-15.\n",
      "Export started for image with date 2021-01-16.\n",
      "Export started for image with date 2021-01-18.\n",
      "Export started for image with date 2021-01-22.\n",
      "Export started for image with date 2021-02-01.\n",
      "Export started for image with date 2021-10-31.\n",
      "Export started for image with date 2021-11-04.\n",
      "Export started for image with date 2021-11-09.\n",
      "Export started for image with date 2021-11-11.\n",
      "Export started for image with date 2021-11-15.\n",
      "Export started for image with date 2021-11-20.\n",
      "Export started for image with date 2021-12-01.\n",
      "Export started for image with date 2021-12-02.\n",
      "Export started for image with date 2021-12-04.\n",
      "Export started for image with date 2021-12-06.\n",
      "Export started for image with date 2021-12-08.\n",
      "Export started for image with date 2021-12-11.\n",
      "Export started for image with date 2021-12-18.\n",
      "Export started for image with date 2021-12-20.\n",
      "Export started for image with date 2021-12-22.\n",
      "Export started for image with date 2021-12-24.\n",
      "Export started for image with date 2022-01-05.\n",
      "Export started for image with date 2022-01-07.\n",
      "Export started for image with date 2022-01-12.\n",
      "Export started for image with date 2022-01-14.\n",
      "Export started for image with date 2022-01-16.\n",
      "Export started for image with date 2022-01-19.\n",
      "Export started for image with date 2022-01-25.\n",
      "Export started for image with date 2022-01-28.\n",
      "Export started for image with date 2022-11-14.\n",
      "Export started for image with date 2022-11-16.\n",
      "Export started for image with date 2022-11-18.\n",
      "Export started for image with date 2022-11-19.\n",
      "Export started for image with date 2022-11-21.\n",
      "Export started for image with date 2022-11-23.\n",
      "Export started for image with date 2022-11-28.\n",
      "Export started for image with date 2022-12-04.\n",
      "Export started for image with date 2022-12-05.\n",
      "Export started for image with date 2022-12-11.\n",
      "Export started for image with date 2022-12-16.\n",
      "Export started for image with date 2022-12-18.\n",
      "Export started for image with date 2023-01-01.\n",
      "Export started for image with date 2023-01-03.\n",
      "Export started for image with date 2023-01-10.\n",
      "Export started for image with date 2023-01-15.\n",
      "Export started for image with date 2023-01-22.\n",
      "Export started for image with date 2023-01-24.\n",
      "Export started for image with date 2023-11-01.\n",
      "Export started for image with date 2023-11-17.\n",
      "Export started for image with date 2023-11-19.\n",
      "Export started for image with date 2023-11-21.\n",
      "Export started for image with date 2023-12-05.\n",
      "Export started for image with date 2023-12-07.\n",
      "Export started for image with date 2023-12-19.\n",
      "Export started for image with date 2023-12-28.\n",
      "Export started for image with date 2023-12-30.\n",
      "Export started for image with date 2024-01-04.\n",
      "Export started for image with date 2024-01-13.\n",
      "Export started for image with date 2024-01-22.\n",
      "Export started for image with date 2024-01-24.\n"
     ]
    }
   ],
   "source": [
    "# need to make sure the unmixed collection is called here, not the l8_clipped variable. \n",
    "def process_images():\n",
    "    image_list = result_collection.toList(result_collection.size().getInfo())\n",
    "    num_images = image_list.size().getInfo()\n",
    "    \n",
    "    for i in range(num_images):\n",
    "        image = ee.Image(image_list.get(i))\n",
    "        export_image(image)\n",
    "\n",
    "process_images()"
   ]
  },
  {
   "cell_type": "code",
   "execution_count": 84,
   "metadata": {},
   "outputs": [
    {
     "data": {
      "text/html": [
       "\n",
       "            <style>\n",
       "                .geemap-dark {\n",
       "                    --jp-widgets-color: white;\n",
       "                    --jp-widgets-label-color: white;\n",
       "                    --jp-ui-font-color1: white;\n",
       "                    --jp-layout-color2: #454545;\n",
       "                    background-color: #383838;\n",
       "                }\n",
       "\n",
       "                .geemap-dark .jupyter-button {\n",
       "                    --jp-layout-color3: #383838;\n",
       "                }\n",
       "\n",
       "                .geemap-colab {\n",
       "                    background-color: var(--colab-primary-surface-color, white);\n",
       "                }\n",
       "\n",
       "                .geemap-colab .jupyter-button {\n",
       "                    --jp-layout-color3: var(--colab-primary-surface-color, white);\n",
       "                }\n",
       "            </style>\n",
       "            "
      ],
      "text/plain": [
       "<IPython.core.display.HTML object>"
      ]
     },
     "metadata": {},
     "output_type": "display_data"
    },
    {
     "data": {
      "application/vnd.jupyter.widget-view+json": {
       "model_id": "3a936b2f45694bfbade5d4abe9f138c7",
       "version_major": 2,
       "version_minor": 0
      },
      "text/plain": [
       "Map(center=[-77.61073139024238, 163.15799378173344], controls=(WidgetControl(options=['position', 'transparent…"
      ]
     },
     "metadata": {},
     "output_type": "display_data"
    }
   ],
   "source": [
    "#Plot to confirm output\n",
    "Map = geemap.Map(zoom=10, center=[-77.616808, 163.077952])\n",
    "Map.centerObject(roi_for_brightness, 10)\n",
    "Map.addLayer(roi_for_brightness)\n",
    "Map.addLayer(result_collection.first())\n",
    "Map"
   ]
  },
  {
   "cell_type": "code",
   "execution_count": 27,
   "metadata": {},
   "outputs": [
    {
     "data": {
      "text/html": [
       "\n",
       "            <style>\n",
       "                .geemap-dark {\n",
       "                    --jp-widgets-color: white;\n",
       "                    --jp-widgets-label-color: white;\n",
       "                    --jp-ui-font-color1: white;\n",
       "                    --jp-layout-color2: #454545;\n",
       "                    background-color: #383838;\n",
       "                }\n",
       "\n",
       "                .geemap-dark .jupyter-button {\n",
       "                    --jp-layout-color3: #383838;\n",
       "                }\n",
       "\n",
       "                .geemap-colab {\n",
       "                    background-color: var(--colab-primary-surface-color, white);\n",
       "                }\n",
       "\n",
       "                .geemap-colab .jupyter-button {\n",
       "                    --jp-layout-color3: var(--colab-primary-surface-color, white);\n",
       "                }\n",
       "            </style>\n",
       "            "
      ],
      "text/plain": [
       "<IPython.core.display.HTML object>"
      ]
     },
     "metadata": {},
     "output_type": "display_data"
    }
   ],
   "source": [
    "image = ee.Image('LANDSAT/LC08/C02/T2_TOA/LC08_055116_20231205').select(['B2', 'B3', 'B4', 'B5', 'B6', 'B7', 'B8'])\n",
    "brightness = image.select(['B2', 'B3', 'B4', 'B5', 'B6']).reduce(ee.Reducer.sum()).rename('brightness')\n",
    "\n",
    "    # Generate a grid of points\n",
    "points = ee.FeatureCollection.randomPoints(region=roi_for_brightness, points=2000)\n",
    "\n",
    "    # Calculate brightness for each point\n",
    "points_with_brightness = brightness.reduceRegions(\n",
    "        collection=points,\n",
    "        reducer=ee.Reducer.mean(),\n",
    "        scale=30\n",
    "        )\n",
    "\n",
    "    # Sort points by brightness\n",
    "brightest_point = points_with_brightness.sort('brightness', False).first()\n",
    "brightest_geometry = ee.Feature(brightest_point).geometry()\n",
    "\n",
    "    # Filter out points near the brightest point\n",
    "    #filtered_points = distinct_points.filterBounds(brightest_geometry.buffer(100))\n",
    "filtered_points = points_with_brightness.filter(ee.Filter.bounds(brightest_geometry.buffer(100)).Not())\n",
    "\n",
    "    # Find the dimmest point from the remaining points\n",
    "dimmest_point = filtered_points.sort('brightness', True).first()\n",
    "dimmest_geometry = ee.Feature(dimmest_point).geometry()\n",
    "\n",
    "    # Calculate mean band values for brightest and dimmest points\n",
    "brightest_band_means = calculate_mean_band_values(image, brightest_geometry)\n",
    "dimmest_band_means = calculate_mean_band_values(image, dimmest_geometry)\n",
    "\n",
    "    # Combine into endmembers\n",
    "endmembers = ee.List([\n",
    "     brightest_band_means.values(),\n",
    "     dimmest_band_means.values()\n",
    "    ])"
   ]
  },
  {
   "cell_type": "code",
   "execution_count": 29,
   "metadata": {},
   "outputs": [
    {
     "data": {
      "text/html": [
       "\n",
       "            <style>\n",
       "                .geemap-dark {\n",
       "                    --jp-widgets-color: white;\n",
       "                    --jp-widgets-label-color: white;\n",
       "                    --jp-ui-font-color1: white;\n",
       "                    --jp-layout-color2: #454545;\n",
       "                    background-color: #383838;\n",
       "                }\n",
       "\n",
       "                .geemap-dark .jupyter-button {\n",
       "                    --jp-layout-color3: #383838;\n",
       "                }\n",
       "\n",
       "                .geemap-colab {\n",
       "                    background-color: var(--colab-primary-surface-color, white);\n",
       "                }\n",
       "\n",
       "                .geemap-colab .jupyter-button {\n",
       "                    --jp-layout-color3: var(--colab-primary-surface-color, white);\n",
       "                }\n",
       "            </style>\n",
       "            "
      ],
      "text/plain": [
       "<IPython.core.display.HTML object>"
      ]
     },
     "metadata": {},
     "output_type": "display_data"
    },
    {
     "data": {
      "application/vnd.jupyter.widget-view+json": {
       "model_id": "6f8c9b29f59d4c6e94f7bee8df1609ee",
       "version_major": 2,
       "version_minor": 0
      },
      "text/plain": [
       "Map(center=[-77.61073139024238, 163.15799378173344], controls=(WidgetControl(options=['position', 'transparent…"
      ]
     },
     "metadata": {},
     "output_type": "display_data"
    }
   ],
   "source": [
    "vis_params = {\n",
    "    'bands': ['B4', 'B3', 'B2'],  # Red, Green, Blue bands (for Sentinel-2 or Landsat 8)\n",
    "    'min': 0,\n",
    "    'max': 3000,  # Adjust based on the dataset's reflectance range\n",
    "    'gamma': 1.4  # Optional, enhances contrast\n",
    "}\n",
    "\n",
    "#Plot to confirm output\n",
    "Map = geemap.Map(zoom=10, center=[-77.616808, 163.077952])\n",
    "Map.centerObject(roi_for_brightness, 10)\n",
    "Map.addLayer(image, vis_params)\n",
    "Map.addLayer(result_collection.first())\n",
    "#Map.addLayer(brightness)\n",
    "Map.addLayer(roi_for_brightness)\n",
    "\n",
    "Map"
   ]
  }
 ],
 "metadata": {
  "kernelspec": {
   "display_name": "base",
   "language": "python",
   "name": "python3"
  },
  "language_info": {
   "codemirror_mode": {
    "name": "ipython",
    "version": 3
   },
   "file_extension": ".py",
   "mimetype": "text/x-python",
   "name": "python",
   "nbconvert_exporter": "python",
   "pygments_lexer": "ipython3",
   "version": "3.11.7"
  }
 },
 "nbformat": 4,
 "nbformat_minor": 2
}
