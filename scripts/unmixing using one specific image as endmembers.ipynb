{
 "cells": [
  {
   "cell_type": "code",
   "execution_count": 55,
   "id": "a3592e36",
   "metadata": {
    "scrolled": true
   },
   "outputs": [
    {
     "data": {
      "text/html": [
       "\n",
       "            <style>\n",
       "                .geemap-dark {\n",
       "                    --jp-widgets-color: white;\n",
       "                    --jp-widgets-label-color: white;\n",
       "                    --jp-ui-font-color1: white;\n",
       "                    --jp-layout-color2: #454545;\n",
       "                    background-color: #383838;\n",
       "                }\n",
       "\n",
       "                .geemap-dark .jupyter-button {\n",
       "                    --jp-layout-color3: #383838;\n",
       "                }\n",
       "\n",
       "                .geemap-colab {\n",
       "                    background-color: var(--colab-primary-surface-color, white);\n",
       "                }\n",
       "\n",
       "                .geemap-colab .jupyter-button {\n",
       "                    --jp-layout-color3: var(--colab-primary-surface-color, white);\n",
       "                }\n",
       "            </style>\n",
       "            "
      ],
      "text/plain": [
       "<IPython.core.display.HTML object>"
      ]
     },
     "metadata": {},
     "output_type": "display_data"
    }
   ],
   "source": [
    "import ee\n",
    "import geemap\n",
    "import numpy as np"
   ]
  },
  {
   "cell_type": "code",
   "execution_count": 56,
   "id": "3f303c2b",
   "metadata": {},
   "outputs": [
    {
     "data": {
      "text/html": [
       "\n",
       "            <style>\n",
       "                .geemap-dark {\n",
       "                    --jp-widgets-color: white;\n",
       "                    --jp-widgets-label-color: white;\n",
       "                    --jp-ui-font-color1: white;\n",
       "                    --jp-layout-color2: #454545;\n",
       "                    background-color: #383838;\n",
       "                }\n",
       "\n",
       "                .geemap-dark .jupyter-button {\n",
       "                    --jp-layout-color3: #383838;\n",
       "                }\n",
       "\n",
       "                .geemap-colab {\n",
       "                    background-color: var(--colab-primary-surface-color, white);\n",
       "                }\n",
       "\n",
       "                .geemap-colab .jupyter-button {\n",
       "                    --jp-layout-color3: var(--colab-primary-surface-color, white);\n",
       "                }\n",
       "            </style>\n",
       "            "
      ],
      "text/plain": [
       "<IPython.core.display.HTML object>"
      ]
     },
     "metadata": {},
     "output_type": "display_data"
    }
   ],
   "source": [
    "## authenticates the session with EE\n",
    "ee.Authenticate()\n",
    "\n",
    "# creates the connection with EE. \n",
    "ee.Initialize()"
   ]
  },
  {
   "cell_type": "code",
   "execution_count": 57,
   "id": "dff82607",
   "metadata": {},
   "outputs": [
    {
     "data": {
      "text/html": [
       "\n",
       "            <style>\n",
       "                .geemap-dark {\n",
       "                    --jp-widgets-color: white;\n",
       "                    --jp-widgets-label-color: white;\n",
       "                    --jp-ui-font-color1: white;\n",
       "                    --jp-layout-color2: #454545;\n",
       "                    background-color: #383838;\n",
       "                }\n",
       "\n",
       "                .geemap-dark .jupyter-button {\n",
       "                    --jp-layout-color3: #383838;\n",
       "                }\n",
       "\n",
       "                .geemap-colab {\n",
       "                    background-color: var(--colab-primary-surface-color, white);\n",
       "                }\n",
       "\n",
       "                .geemap-colab .jupyter-button {\n",
       "                    --jp-layout-color3: var(--colab-primary-surface-color, white);\n",
       "                }\n",
       "            </style>\n",
       "            "
      ],
      "text/plain": [
       "<IPython.core.display.HTML object>"
      ]
     },
     "metadata": {},
     "output_type": "display_data"
    }
   ],
   "source": [
    "# Define a region of interest (ROI) for the analysis\n",
    "roi = ee.Geometry.Rectangle([162.277817, -77.740157, 163.272100, -77.576571])  \n",
    "# Coordinate range that covers the Taylor Valley lakes\n"
   ]
  },
  {
   "cell_type": "code",
   "execution_count": 71,
   "id": "af8f2c3a",
   "metadata": {},
   "outputs": [
    {
     "data": {
      "text/html": [
       "\n",
       "            <style>\n",
       "                .geemap-dark {\n",
       "                    --jp-widgets-color: white;\n",
       "                    --jp-widgets-label-color: white;\n",
       "                    --jp-ui-font-color1: white;\n",
       "                    --jp-layout-color2: #454545;\n",
       "                    background-color: #383838;\n",
       "                }\n",
       "\n",
       "                .geemap-dark .jupyter-button {\n",
       "                    --jp-layout-color3: #383838;\n",
       "                }\n",
       "\n",
       "                .geemap-colab {\n",
       "                    background-color: var(--colab-primary-surface-color, white);\n",
       "                }\n",
       "\n",
       "                .geemap-colab .jupyter-button {\n",
       "                    --jp-layout-color3: var(--colab-primary-surface-color, white);\n",
       "                }\n",
       "            </style>\n",
       "            "
      ],
      "text/plain": [
       "<IPython.core.display.HTML object>"
      ]
     },
     "metadata": {},
     "output_type": "display_data"
    }
   ],
   "source": [
    "landsat8 = ee.ImageCollection('LANDSAT/LC08/C02/T1') \\\n",
    "            .filterBounds(roi)\\\n",
    "            .filterDate('2020-01-01', '2020-12-31')"
   ]
  },
  {
   "cell_type": "code",
   "execution_count": 91,
   "id": "f6e47ff2",
   "metadata": {},
   "outputs": [
    {
     "data": {
      "text/html": [
       "\n",
       "            <style>\n",
       "                .geemap-dark {\n",
       "                    --jp-widgets-color: white;\n",
       "                    --jp-widgets-label-color: white;\n",
       "                    --jp-ui-font-color1: white;\n",
       "                    --jp-layout-color2: #454545;\n",
       "                    background-color: #383838;\n",
       "                }\n",
       "\n",
       "                .geemap-dark .jupyter-button {\n",
       "                    --jp-layout-color3: #383838;\n",
       "                }\n",
       "\n",
       "                .geemap-colab {\n",
       "                    background-color: var(--colab-primary-surface-color, white);\n",
       "                }\n",
       "\n",
       "                .geemap-colab .jupyter-button {\n",
       "                    --jp-layout-color3: var(--colab-primary-surface-color, white);\n",
       "                }\n",
       "            </style>\n",
       "            "
      ],
      "text/plain": [
       "<IPython.core.display.HTML object>"
      ]
     },
     "metadata": {},
     "output_type": "display_data"
    }
   ],
   "source": [
    "# preprocessing for cloud masking\n",
    "def maskL8sr(image):\n",
    "    cloudShadowBitMask = 1 << 3\n",
    "    cloudsBitMask = 1 << 5\n",
    "    qa = image.select('BQA')\n",
    "    mask = qa.bitwiseAnd(cloudShadowBitMask).eq(0) \\\n",
    "            .And(qa.bitwiseAnd(cloudsBitMask).eq(0))\n",
    "    return image.updateMask(mask)"
   ]
  },
  {
   "cell_type": "code",
   "execution_count": 92,
   "id": "97b6cd77",
   "metadata": {},
   "outputs": [
    {
     "data": {
      "text/html": [
       "\n",
       "            <style>\n",
       "                .geemap-dark {\n",
       "                    --jp-widgets-color: white;\n",
       "                    --jp-widgets-label-color: white;\n",
       "                    --jp-ui-font-color1: white;\n",
       "                    --jp-layout-color2: #454545;\n",
       "                    background-color: #383838;\n",
       "                }\n",
       "\n",
       "                .geemap-dark .jupyter-button {\n",
       "                    --jp-layout-color3: #383838;\n",
       "                }\n",
       "\n",
       "                .geemap-colab {\n",
       "                    background-color: var(--colab-primary-surface-color, white);\n",
       "                }\n",
       "\n",
       "                .geemap-colab .jupyter-button {\n",
       "                    --jp-layout-color3: var(--colab-primary-surface-color, white);\n",
       "                }\n",
       "            </style>\n",
       "            "
      ],
      "text/plain": [
       "<IPython.core.display.HTML object>"
      ]
     },
     "metadata": {},
     "output_type": "display_data"
    }
   ],
   "source": [
    "landsat8 = landsat_collection.map(maskL8sr)"
   ]
  },
  {
   "cell_type": "code",
   "execution_count": 93,
   "id": "43cf2720",
   "metadata": {},
   "outputs": [
    {
     "data": {
      "text/html": [
       "\n",
       "            <style>\n",
       "                .geemap-dark {\n",
       "                    --jp-widgets-color: white;\n",
       "                    --jp-widgets-label-color: white;\n",
       "                    --jp-ui-font-color1: white;\n",
       "                    --jp-layout-color2: #454545;\n",
       "                    background-color: #383838;\n",
       "                }\n",
       "\n",
       "                .geemap-dark .jupyter-button {\n",
       "                    --jp-layout-color3: #383838;\n",
       "                }\n",
       "\n",
       "                .geemap-colab {\n",
       "                    background-color: var(--colab-primary-surface-color, white);\n",
       "                }\n",
       "\n",
       "                .geemap-colab .jupyter-button {\n",
       "                    --jp-layout-color3: var(--colab-primary-surface-color, white);\n",
       "                }\n",
       "            </style>\n",
       "            "
      ],
      "text/plain": [
       "<IPython.core.display.HTML object>"
      ]
     },
     "metadata": {},
     "output_type": "display_data"
    }
   ],
   "source": [
    "# define ROI's in specific images that will define lake ice/soil\n",
    "\n",
    "roi_ice = ee.Geometry.Rectangle([163.077952, -77.616808, 163.077080, -77.616903])\n",
    "roi_soil = ee.Geometry.Rectangle([163.078070, -77.625204, 163.075507, -77.625340])"
   ]
  },
  {
   "cell_type": "code",
   "execution_count": 94,
   "id": "9849e68e",
   "metadata": {},
   "outputs": [
    {
     "data": {
      "text/html": [
       "\n",
       "            <style>\n",
       "                .geemap-dark {\n",
       "                    --jp-widgets-color: white;\n",
       "                    --jp-widgets-label-color: white;\n",
       "                    --jp-ui-font-color1: white;\n",
       "                    --jp-layout-color2: #454545;\n",
       "                    background-color: #383838;\n",
       "                }\n",
       "\n",
       "                .geemap-dark .jupyter-button {\n",
       "                    --jp-layout-color3: #383838;\n",
       "                }\n",
       "\n",
       "                .geemap-colab {\n",
       "                    background-color: var(--colab-primary-surface-color, white);\n",
       "                }\n",
       "\n",
       "                .geemap-colab .jupyter-button {\n",
       "                    --jp-layout-color3: var(--colab-primary-surface-color, white);\n",
       "                }\n",
       "            </style>\n",
       "            "
      ],
      "text/plain": [
       "<IPython.core.display.HTML object>"
      ]
     },
     "metadata": {},
     "output_type": "display_data"
    }
   ],
   "source": [
    "# Define endmembers (example: using pseudo-invariant features)\n",
    "# can add more endmembers in later, but need to select image and crop down to \n",
    "# specific regions in a single image\n",
    "lake1 = ee.Image('LANDSAT/LC08/C02/T2/LC08_055116_20231205')\n",
    "soil1 = ee.Image('LANDSAT/LC08/C02/T2/LC08_055116_20231205')\n",
    "\n",
    "# clip original image down to the specific endmember spots\n",
    "lakeice = lake1.clip(roi_ice)\n",
    "soil = soil1.clip(roi_soil)\n",
    "\n",
    "ice_mean = lakeice.reduceRegion(ee.Reducer.mean()).values()\n",
    "soil_mean = soil.reduceRegion(ee.Reducer.mean()).values()\n",
    "\n",
    "#endmember3 = ee.Image('YOUR_ENDMEMBER_IMAGE3')  # Replace with your endmember image"
   ]
  },
  {
   "cell_type": "code",
   "execution_count": 95,
   "id": "c9660fd7",
   "metadata": {},
   "outputs": [
    {
     "data": {
      "text/html": [
       "\n",
       "            <style>\n",
       "                .geemap-dark {\n",
       "                    --jp-widgets-color: white;\n",
       "                    --jp-widgets-label-color: white;\n",
       "                    --jp-ui-font-color1: white;\n",
       "                    --jp-layout-color2: #454545;\n",
       "                    background-color: #383838;\n",
       "                }\n",
       "\n",
       "                .geemap-dark .jupyter-button {\n",
       "                    --jp-layout-color3: #383838;\n",
       "                }\n",
       "\n",
       "                .geemap-colab {\n",
       "                    background-color: var(--colab-primary-surface-color, white);\n",
       "                }\n",
       "\n",
       "                .geemap-colab .jupyter-button {\n",
       "                    --jp-layout-color3: var(--colab-primary-surface-color, white);\n",
       "                }\n",
       "            </style>\n",
       "            "
      ],
      "text/plain": [
       "<IPython.core.display.HTML object>"
      ]
     },
     "metadata": {},
     "output_type": "display_data"
    }
   ],
   "source": [
    "# Create an image with endmembers as bands\n",
    "endmembers = ee.Image.cat([ice_mean, soil_mean])"
   ]
  },
  {
   "cell_type": "code",
   "execution_count": 102,
   "id": "a7a2a912",
   "metadata": {},
   "outputs": [
    {
     "data": {
      "text/html": [
       "\n",
       "            <style>\n",
       "                .geemap-dark {\n",
       "                    --jp-widgets-color: white;\n",
       "                    --jp-widgets-label-color: white;\n",
       "                    --jp-ui-font-color1: white;\n",
       "                    --jp-layout-color2: #454545;\n",
       "                    background-color: #383838;\n",
       "                }\n",
       "\n",
       "                .geemap-dark .jupyter-button {\n",
       "                    --jp-layout-color3: #383838;\n",
       "                }\n",
       "\n",
       "                .geemap-colab {\n",
       "                    background-color: var(--colab-primary-surface-color, white);\n",
       "                }\n",
       "\n",
       "                .geemap-colab .jupyter-button {\n",
       "                    --jp-layout-color3: var(--colab-primary-surface-color, white);\n",
       "                }\n",
       "            </style>\n",
       "            "
      ],
      "text/plain": [
       "<IPython.core.display.HTML object>"
      ]
     },
     "metadata": {},
     "output_type": "display_data"
    }
   ],
   "source": [
    "# Function to apply SMA to an image\n",
    "def apply_sma(image):\n",
    "    fractional_abundances = image.unmix(endmembers, True, True)\n",
    "    return fractional_abundances"
   ]
  },
  {
   "cell_type": "code",
   "execution_count": 103,
   "id": "a3956798",
   "metadata": {},
   "outputs": [
    {
     "data": {
      "text/html": [
       "\n",
       "            <style>\n",
       "                .geemap-dark {\n",
       "                    --jp-widgets-color: white;\n",
       "                    --jp-widgets-label-color: white;\n",
       "                    --jp-ui-font-color1: white;\n",
       "                    --jp-layout-color2: #454545;\n",
       "                    background-color: #383838;\n",
       "                }\n",
       "\n",
       "                .geemap-dark .jupyter-button {\n",
       "                    --jp-layout-color3: #383838;\n",
       "                }\n",
       "\n",
       "                .geemap-colab {\n",
       "                    background-color: var(--colab-primary-surface-color, white);\n",
       "                }\n",
       "\n",
       "                .geemap-colab .jupyter-button {\n",
       "                    --jp-layout-color3: var(--colab-primary-surface-color, white);\n",
       "                }\n",
       "            </style>\n",
       "            "
      ],
      "text/plain": [
       "<IPython.core.display.HTML object>"
      ]
     },
     "metadata": {},
     "output_type": "display_data"
    }
   ],
   "source": [
    "# Apply SMA to the image collection\n",
    "fractional_abundances_col = landsat8.map(apply_sma)"
   ]
  },
  {
   "cell_type": "code",
   "execution_count": 104,
   "id": "4dca32d5",
   "metadata": {},
   "outputs": [
    {
     "data": {
      "text/html": [
       "\n",
       "            <style>\n",
       "                .geemap-dark {\n",
       "                    --jp-widgets-color: white;\n",
       "                    --jp-widgets-label-color: white;\n",
       "                    --jp-ui-font-color1: white;\n",
       "                    --jp-layout-color2: #454545;\n",
       "                    background-color: #383838;\n",
       "                }\n",
       "\n",
       "                .geemap-dark .jupyter-button {\n",
       "                    --jp-layout-color3: #383838;\n",
       "                }\n",
       "\n",
       "                .geemap-colab {\n",
       "                    background-color: var(--colab-primary-surface-color, white);\n",
       "                }\n",
       "\n",
       "                .geemap-colab .jupyter-button {\n",
       "                    --jp-layout-color3: var(--colab-primary-surface-color, white);\n",
       "                }\n",
       "            </style>\n",
       "            "
      ],
      "text/plain": [
       "<IPython.core.display.HTML object>"
      ]
     },
     "metadata": {},
     "output_type": "display_data"
    },
    {
     "name": "stdout",
     "output_type": "stream",
     "text": [
      "Export task status: {'state': 'READY', 'description': 'fractional_abundances', 'priority': 100, 'creation_timestamp_ms': 1722379801148, 'update_timestamp_ms': 1722379801148, 'start_timestamp_ms': 0, 'task_type': 'EXPORT_IMAGE', 'id': 'FHMIQPBOUH43CHIVTNCR2JCV', 'name': 'projects/earthengine-legacy/operations/FHMIQPBOUH43CHIVTNCR2JCV'}\n"
     ]
    }
   ],
   "source": [
    "# Export results (example: export first image)\n",
    "first_image = fractional_abundances_col.first()\n",
    "task = ee.batch.Export.image.toDrive(\n",
    "    image=first_image,\n",
    "    description='fractional_abundances',\n",
    "    folder = \"SMA_EarthEngine\",\n",
    "    scale=30,\n",
    "    region=roi\n",
    ")\n",
    "task.start()\n",
    "print('Export task status:', task.status())"
   ]
  },
  {
   "cell_type": "code",
   "execution_count": 106,
   "id": "41983410",
   "metadata": {},
   "outputs": [
    {
     "data": {
      "text/html": [
       "\n",
       "            <style>\n",
       "                .geemap-dark {\n",
       "                    --jp-widgets-color: white;\n",
       "                    --jp-widgets-label-color: white;\n",
       "                    --jp-ui-font-color1: white;\n",
       "                    --jp-layout-color2: #454545;\n",
       "                    background-color: #383838;\n",
       "                }\n",
       "\n",
       "                .geemap-dark .jupyter-button {\n",
       "                    --jp-layout-color3: #383838;\n",
       "                }\n",
       "\n",
       "                .geemap-colab {\n",
       "                    background-color: var(--colab-primary-surface-color, white);\n",
       "                }\n",
       "\n",
       "                .geemap-colab .jupyter-button {\n",
       "                    --jp-layout-color3: var(--colab-primary-surface-color, white);\n",
       "                }\n",
       "            </style>\n",
       "            "
      ],
      "text/plain": [
       "<IPython.core.display.HTML object>"
      ]
     },
     "metadata": {},
     "output_type": "display_data"
    },
    {
     "ename": "EEException",
     "evalue": "Image.addBands, argument 'dstImg': Invalid type.\nExpected type: Image<unknown bands>.\nActual type: List<Float>.\nActual value: [14611.983050847457, 17625.79661016949, 16727.389830508473, 14660.338983050848, 14422.915254237287, 14164.983050847455, 11888.271186440677, 5208.237288135593, 5177.237288135592, 24608.864406779656, 5038.220338983051, 30048.0, 0.0, 7321.0, 6345.0, 14333.610169491523, 393.38983050847463]",
     "output_type": "error",
     "traceback": [
      "\u001b[0;31m---------------------------------------------------------------------------\u001b[0m",
      "\u001b[0;31mHttpError\u001b[0m                                 Traceback (most recent call last)",
      "\u001b[0;32m~/opt/anaconda3/lib/python3.9/site-packages/ee/data.py\u001b[0m in \u001b[0;36m_execute_cloud_call\u001b[0;34m(call, num_retries)\u001b[0m\n\u001b[1;32m    401\u001b[0m   \u001b[0;32mtry\u001b[0m\u001b[0;34m:\u001b[0m\u001b[0;34m\u001b[0m\u001b[0;34m\u001b[0m\u001b[0m\n\u001b[0;32m--> 402\u001b[0;31m     \u001b[0;32mreturn\u001b[0m \u001b[0mcall\u001b[0m\u001b[0;34m.\u001b[0m\u001b[0mexecute\u001b[0m\u001b[0;34m(\u001b[0m\u001b[0mnum_retries\u001b[0m\u001b[0;34m=\u001b[0m\u001b[0mnum_retries\u001b[0m\u001b[0;34m)\u001b[0m\u001b[0;34m\u001b[0m\u001b[0;34m\u001b[0m\u001b[0m\n\u001b[0m\u001b[1;32m    403\u001b[0m   \u001b[0;32mexcept\u001b[0m \u001b[0mgoogleapiclient\u001b[0m\u001b[0;34m.\u001b[0m\u001b[0merrors\u001b[0m\u001b[0;34m.\u001b[0m\u001b[0mHttpError\u001b[0m \u001b[0;32mas\u001b[0m \u001b[0me\u001b[0m\u001b[0;34m:\u001b[0m\u001b[0;34m\u001b[0m\u001b[0;34m\u001b[0m\u001b[0m\n",
      "\u001b[0;32m~/opt/anaconda3/lib/python3.9/site-packages/googleapiclient/_helpers.py\u001b[0m in \u001b[0;36mpositional_wrapper\u001b[0;34m(*args, **kwargs)\u001b[0m\n\u001b[1;32m    129\u001b[0m                     \u001b[0mlogger\u001b[0m\u001b[0;34m.\u001b[0m\u001b[0mwarning\u001b[0m\u001b[0;34m(\u001b[0m\u001b[0mmessage\u001b[0m\u001b[0;34m)\u001b[0m\u001b[0;34m\u001b[0m\u001b[0;34m\u001b[0m\u001b[0m\n\u001b[0;32m--> 130\u001b[0;31m             \u001b[0;32mreturn\u001b[0m \u001b[0mwrapped\u001b[0m\u001b[0;34m(\u001b[0m\u001b[0;34m*\u001b[0m\u001b[0margs\u001b[0m\u001b[0;34m,\u001b[0m \u001b[0;34m**\u001b[0m\u001b[0mkwargs\u001b[0m\u001b[0;34m)\u001b[0m\u001b[0;34m\u001b[0m\u001b[0;34m\u001b[0m\u001b[0m\n\u001b[0m\u001b[1;32m    131\u001b[0m \u001b[0;34m\u001b[0m\u001b[0m\n",
      "\u001b[0;32m~/opt/anaconda3/lib/python3.9/site-packages/googleapiclient/http.py\u001b[0m in \u001b[0;36mexecute\u001b[0;34m(self, http, num_retries)\u001b[0m\n\u001b[1;32m    937\u001b[0m         \u001b[0;32mif\u001b[0m \u001b[0mresp\u001b[0m\u001b[0;34m.\u001b[0m\u001b[0mstatus\u001b[0m \u001b[0;34m>=\u001b[0m \u001b[0;36m300\u001b[0m\u001b[0;34m:\u001b[0m\u001b[0;34m\u001b[0m\u001b[0;34m\u001b[0m\u001b[0m\n\u001b[0;32m--> 938\u001b[0;31m             \u001b[0;32mraise\u001b[0m \u001b[0mHttpError\u001b[0m\u001b[0;34m(\u001b[0m\u001b[0mresp\u001b[0m\u001b[0;34m,\u001b[0m \u001b[0mcontent\u001b[0m\u001b[0;34m,\u001b[0m \u001b[0muri\u001b[0m\u001b[0;34m=\u001b[0m\u001b[0mself\u001b[0m\u001b[0;34m.\u001b[0m\u001b[0muri\u001b[0m\u001b[0;34m)\u001b[0m\u001b[0;34m\u001b[0m\u001b[0;34m\u001b[0m\u001b[0m\n\u001b[0m\u001b[1;32m    939\u001b[0m         \u001b[0;32mreturn\u001b[0m \u001b[0mself\u001b[0m\u001b[0;34m.\u001b[0m\u001b[0mpostproc\u001b[0m\u001b[0;34m(\u001b[0m\u001b[0mresp\u001b[0m\u001b[0;34m,\u001b[0m \u001b[0mcontent\u001b[0m\u001b[0;34m)\u001b[0m\u001b[0;34m\u001b[0m\u001b[0;34m\u001b[0m\u001b[0m\n",
      "\u001b[0;31mHttpError\u001b[0m: <HttpError 400 when requesting https://earthengine.googleapis.com/v1/projects/earthengine-legacy/value:compute?prettyPrint=false&alt=json returned \"Image.addBands, argument 'dstImg': Invalid type.\nExpected type: Image<unknown bands>.\nActual type: List<Float>.\nActual value: [14611.983050847457, 17625.79661016949, 16727.389830508473, 14660.338983050848, 14422.915254237287, 14164.983050847455, 11888.271186440677, 5208.237288135593, 5177.237288135592, 24608.864406779656, 5038.220338983051, 30048.0, 0.0, 7321.0, 6345.0, 14333.610169491523, 393.38983050847463]\". Details: \"Image.addBands, argument 'dstImg': Invalid type.\nExpected type: Image<unknown bands>.\nActual type: List<Float>.\nActual value: [14611.983050847457, 17625.79661016949, 16727.389830508473, 14660.338983050848, 14422.915254237287, 14164.983050847455, 11888.271186440677, 5208.237288135593, 5177.237288135592, 24608.864406779656, 5038.220338983051, 30048.0, 0.0, 7321.0, 6345.0, 14333.610169491523, 393.38983050847463]\">",
      "\nDuring handling of the above exception, another exception occurred:\n",
      "\u001b[0;31mEEException\u001b[0m                               Traceback (most recent call last)",
      "\u001b[0;32m/var/folders/9p/lgfj_nhs1zz860zwvrcgkzrh0000gn/T/ipykernel_7962/1222965241.py\u001b[0m in \u001b[0;36m<module>\u001b[0;34m\u001b[0m\n\u001b[0;32m----> 1\u001b[0;31m \u001b[0mprint\u001b[0m\u001b[0;34m(\u001b[0m\u001b[0mfirst_image\u001b[0m\u001b[0;34m.\u001b[0m\u001b[0mgetInfo\u001b[0m\u001b[0;34m(\u001b[0m\u001b[0;34m)\u001b[0m\u001b[0;34m)\u001b[0m\u001b[0;34m\u001b[0m\u001b[0;34m\u001b[0m\u001b[0m\n\u001b[0m",
      "\u001b[0;32m~/opt/anaconda3/lib/python3.9/site-packages/ee/image.py\u001b[0m in \u001b[0;36mgetInfo\u001b[0;34m(self)\u001b[0m\n\u001b[1;32m    165\u001b[0m           \u001b[0mproperties\u001b[0m \u001b[0;34m-\u001b[0m \u001b[0mDictionary\u001b[0m \u001b[0mcontaining\u001b[0m \u001b[0mthe\u001b[0m \u001b[0mimage\u001b[0m\u001b[0;31m'\u001b[0m\u001b[0ms\u001b[0m \u001b[0mmetadata\u001b[0m \u001b[0mproperties\u001b[0m\u001b[0;34m.\u001b[0m\u001b[0;34m\u001b[0m\u001b[0;34m\u001b[0m\u001b[0m\n\u001b[1;32m    166\u001b[0m     \"\"\"\n\u001b[0;32m--> 167\u001b[0;31m     \u001b[0;32mreturn\u001b[0m \u001b[0msuper\u001b[0m\u001b[0;34m(\u001b[0m\u001b[0;34m)\u001b[0m\u001b[0;34m.\u001b[0m\u001b[0mgetInfo\u001b[0m\u001b[0;34m(\u001b[0m\u001b[0;34m)\u001b[0m\u001b[0;34m\u001b[0m\u001b[0;34m\u001b[0m\u001b[0m\n\u001b[0m\u001b[1;32m    168\u001b[0m \u001b[0;34m\u001b[0m\u001b[0m\n\u001b[1;32m    169\u001b[0m   \u001b[0;32mdef\u001b[0m \u001b[0mgetMapId\u001b[0m\u001b[0;34m(\u001b[0m\u001b[0mself\u001b[0m\u001b[0;34m,\u001b[0m \u001b[0mvis_params\u001b[0m\u001b[0;34m:\u001b[0m \u001b[0mOptional\u001b[0m\u001b[0;34m[\u001b[0m\u001b[0mAny\u001b[0m\u001b[0;34m]\u001b[0m \u001b[0;34m=\u001b[0m \u001b[0;32mNone\u001b[0m\u001b[0;34m)\u001b[0m \u001b[0;34m->\u001b[0m \u001b[0mDict\u001b[0m\u001b[0;34m[\u001b[0m\u001b[0mstr\u001b[0m\u001b[0;34m,\u001b[0m \u001b[0mAny\u001b[0m\u001b[0;34m]\u001b[0m\u001b[0;34m:\u001b[0m\u001b[0;34m\u001b[0m\u001b[0;34m\u001b[0m\u001b[0m\n",
      "\u001b[0;32m~/opt/anaconda3/lib/python3.9/site-packages/ee/computedobject.py\u001b[0m in \u001b[0;36mgetInfo\u001b[0;34m(self)\u001b[0m\n\u001b[1;32m    105\u001b[0m       \u001b[0mThe\u001b[0m \u001b[0mobject\u001b[0m \u001b[0mcan\u001b[0m \u001b[0mevaluate\u001b[0m \u001b[0mto\u001b[0m \u001b[0manything\u001b[0m\u001b[0;34m.\u001b[0m\u001b[0;34m\u001b[0m\u001b[0;34m\u001b[0m\u001b[0m\n\u001b[1;32m    106\u001b[0m     \"\"\"\n\u001b[0;32m--> 107\u001b[0;31m     \u001b[0;32mreturn\u001b[0m \u001b[0mdata\u001b[0m\u001b[0;34m.\u001b[0m\u001b[0mcomputeValue\u001b[0m\u001b[0;34m(\u001b[0m\u001b[0mself\u001b[0m\u001b[0;34m)\u001b[0m\u001b[0;34m\u001b[0m\u001b[0;34m\u001b[0m\u001b[0m\n\u001b[0m\u001b[1;32m    108\u001b[0m \u001b[0;34m\u001b[0m\u001b[0m\n\u001b[1;32m    109\u001b[0m   \u001b[0;32mdef\u001b[0m \u001b[0mencode\u001b[0m\u001b[0;34m(\u001b[0m\u001b[0mself\u001b[0m\u001b[0;34m,\u001b[0m \u001b[0mencoder\u001b[0m\u001b[0;34m:\u001b[0m \u001b[0mOptional\u001b[0m\u001b[0;34m[\u001b[0m\u001b[0mCallable\u001b[0m\u001b[0;34m[\u001b[0m\u001b[0;34m...\u001b[0m\u001b[0;34m,\u001b[0m \u001b[0mAny\u001b[0m\u001b[0;34m]\u001b[0m\u001b[0;34m]\u001b[0m\u001b[0;34m)\u001b[0m \u001b[0;34m->\u001b[0m \u001b[0mDict\u001b[0m\u001b[0;34m[\u001b[0m\u001b[0mstr\u001b[0m\u001b[0;34m,\u001b[0m \u001b[0mAny\u001b[0m\u001b[0;34m]\u001b[0m\u001b[0;34m:\u001b[0m\u001b[0;34m\u001b[0m\u001b[0;34m\u001b[0m\u001b[0m\n",
      "\u001b[0;32m~/opt/anaconda3/lib/python3.9/site-packages/ee/data.py\u001b[0m in \u001b[0;36mcomputeValue\u001b[0;34m(obj)\u001b[0m\n\u001b[1;32m   1106\u001b[0m   \u001b[0m_maybe_populate_workload_tag\u001b[0m\u001b[0;34m(\u001b[0m\u001b[0mbody\u001b[0m\u001b[0;34m)\u001b[0m\u001b[0;34m\u001b[0m\u001b[0;34m\u001b[0m\u001b[0m\n\u001b[1;32m   1107\u001b[0m \u001b[0;34m\u001b[0m\u001b[0m\n\u001b[0;32m-> 1108\u001b[0;31m   return _execute_cloud_call(\n\u001b[0m\u001b[1;32m   1109\u001b[0m       \u001b[0m_get_cloud_projects\u001b[0m\u001b[0;34m(\u001b[0m\u001b[0;34m)\u001b[0m\u001b[0;34m\u001b[0m\u001b[0;34m\u001b[0m\u001b[0m\n\u001b[1;32m   1110\u001b[0m       \u001b[0;34m.\u001b[0m\u001b[0mvalue\u001b[0m\u001b[0;34m(\u001b[0m\u001b[0;34m)\u001b[0m\u001b[0;34m\u001b[0m\u001b[0;34m\u001b[0m\u001b[0m\n",
      "\u001b[0;32m~/opt/anaconda3/lib/python3.9/site-packages/ee/data.py\u001b[0m in \u001b[0;36m_execute_cloud_call\u001b[0;34m(call, num_retries)\u001b[0m\n\u001b[1;32m    402\u001b[0m     \u001b[0;32mreturn\u001b[0m \u001b[0mcall\u001b[0m\u001b[0;34m.\u001b[0m\u001b[0mexecute\u001b[0m\u001b[0;34m(\u001b[0m\u001b[0mnum_retries\u001b[0m\u001b[0;34m=\u001b[0m\u001b[0mnum_retries\u001b[0m\u001b[0;34m)\u001b[0m\u001b[0;34m\u001b[0m\u001b[0;34m\u001b[0m\u001b[0m\n\u001b[1;32m    403\u001b[0m   \u001b[0;32mexcept\u001b[0m \u001b[0mgoogleapiclient\u001b[0m\u001b[0;34m.\u001b[0m\u001b[0merrors\u001b[0m\u001b[0;34m.\u001b[0m\u001b[0mHttpError\u001b[0m \u001b[0;32mas\u001b[0m \u001b[0me\u001b[0m\u001b[0;34m:\u001b[0m\u001b[0;34m\u001b[0m\u001b[0;34m\u001b[0m\u001b[0m\n\u001b[0;32m--> 404\u001b[0;31m     \u001b[0;32mraise\u001b[0m \u001b[0m_translate_cloud_exception\u001b[0m\u001b[0;34m(\u001b[0m\u001b[0me\u001b[0m\u001b[0;34m)\u001b[0m  \u001b[0;31m# pylint: disable=raise-missing-from\u001b[0m\u001b[0;34m\u001b[0m\u001b[0;34m\u001b[0m\u001b[0m\n\u001b[0m\u001b[1;32m    405\u001b[0m \u001b[0;34m\u001b[0m\u001b[0m\n\u001b[1;32m    406\u001b[0m \u001b[0;34m\u001b[0m\u001b[0m\n",
      "\u001b[0;31mEEException\u001b[0m: Image.addBands, argument 'dstImg': Invalid type.\nExpected type: Image<unknown bands>.\nActual type: List<Float>.\nActual value: [14611.983050847457, 17625.79661016949, 16727.389830508473, 14660.338983050848, 14422.915254237287, 14164.983050847455, 11888.271186440677, 5208.237288135593, 5177.237288135592, 24608.864406779656, 5038.220338983051, 30048.0, 0.0, 7321.0, 6345.0, 14333.610169491523, 393.38983050847463]"
     ]
    }
   ],
   "source": [
    "print(first_image.getInfo())"
   ]
  },
  {
   "cell_type": "code",
   "execution_count": 101,
   "id": "e980aeab",
   "metadata": {},
   "outputs": [
    {
     "data": {
      "text/html": [
       "\n",
       "            <style>\n",
       "                .geemap-dark {\n",
       "                    --jp-widgets-color: white;\n",
       "                    --jp-widgets-label-color: white;\n",
       "                    --jp-ui-font-color1: white;\n",
       "                    --jp-layout-color2: #454545;\n",
       "                    background-color: #383838;\n",
       "                }\n",
       "\n",
       "                .geemap-dark .jupyter-button {\n",
       "                    --jp-layout-color3: #383838;\n",
       "                }\n",
       "\n",
       "                .geemap-colab {\n",
       "                    background-color: var(--colab-primary-surface-color, white);\n",
       "                }\n",
       "\n",
       "                .geemap-colab .jupyter-button {\n",
       "                    --jp-layout-color3: var(--colab-primary-surface-color, white);\n",
       "                }\n",
       "            </style>\n",
       "            "
      ],
      "text/plain": [
       "<IPython.core.display.HTML object>"
      ]
     },
     "metadata": {},
     "output_type": "display_data"
    },
    {
     "name": "stdout",
     "output_type": "stream",
     "text": [
      "Task ID: 7EQL7YVLPFIPMWRPMNZMSKJ5, Status: {'state': 'FAILED', 'description': 'fractional_abundances', 'priority': 100, 'creation_timestamp_ms': 1722379640390, 'update_timestamp_ms': 1722379647506, 'start_timestamp_ms': 1722379646349, 'task_type': 'EXPORT_IMAGE', 'attempt': 1, 'error_message': \"Image.addBands, argument 'dstImg': Invalid type.\\nExpected type: Image<unknown bands>.\\nActual type: List<Float>.\\nActual value: [14611.983050847457, 17625.79661016949, 16727.389830508473, 14660.338983050848, 14422.915254237287, 14164.983050847455, 11888.271186440677, 5208.237288135593, 5177.237288135592, 24608.864406779656, 5038.220338983051, 30048.0, 0.0, 7321.0, 6345.0, 14333.610169491523, 393.38983050847463]\", 'id': '7EQL7YVLPFIPMWRPMNZMSKJ5', 'name': 'projects/earthengine-legacy/operations/7EQL7YVLPFIPMWRPMNZMSKJ5'}\n",
      "Task ID: H3IV246AX5RBFAZ2KTSQDFD4, Status: {'state': 'FAILED', 'description': 'fractional_abundances', 'priority': 100, 'creation_timestamp_ms': 1722379602928, 'update_timestamp_ms': 1722379609402, 'start_timestamp_ms': 1722379608224, 'task_type': 'EXPORT_IMAGE', 'attempt': 1, 'error_message': \"Image.addBands, argument 'dstImg': Invalid type.\\nExpected type: Image<unknown bands>.\\nActual type: List<Float>.\\nActual value: [14611.983050847457, 17625.79661016949, 16727.389830508473, 14660.338983050848, 14422.915254237287, 14164.983050847455, 11888.271186440677, 5208.237288135593, 5177.237288135592, 24608.864406779656, 5038.220338983051, 30048.0, 0.0, 7321.0, 6345.0, 14333.610169491523, 393.38983050847463]\", 'id': 'H3IV246AX5RBFAZ2KTSQDFD4', 'name': 'projects/earthengine-legacy/operations/H3IV246AX5RBFAZ2KTSQDFD4'}\n",
      "Task ID: LMK7AEEXB6MJ5KFZW7XRPOID, Status: {'state': 'FAILED', 'description': 'fractional_abundances', 'priority': 100, 'creation_timestamp_ms': 1722379559317, 'update_timestamp_ms': 1722379566977, 'start_timestamp_ms': 1722379566304, 'task_type': 'EXPORT_IMAGE', 'attempt': 1, 'error_message': \"Image.addBands, argument 'dstImg': Invalid type.\\nExpected type: Image<unknown bands>.\\nActual type: List<Float>.\\nActual value: [14611.983050847457, 17625.79661016949, 16727.389830508473, 14660.338983050848, 14422.915254237287, 14164.983050847455, 11888.271186440677, 5208.237288135593, 5177.237288135592, 24608.864406779656, 5038.220338983051, 30048.0, 0.0, 7321.0, 6345.0, 14333.610169491523, 393.38983050847463]\", 'id': 'LMK7AEEXB6MJ5KFZW7XRPOID', 'name': 'projects/earthengine-legacy/operations/LMK7AEEXB6MJ5KFZW7XRPOID'}\n",
      "Task ID: 4KYDCOVK2UUSFFXI4BACW2RA, Status: {'state': 'FAILED', 'description': 'SMA of TV', 'priority': 100, 'creation_timestamp_ms': 1722368939144, 'update_timestamp_ms': 1722368945171, 'start_timestamp_ms': 1722368944252, 'task_type': 'EXPORT_IMAGE', 'attempt': 1, 'error_message': \"Image.unmix, argument 'endmembers': Invalid type.\\nExpected type: List<List<Float>>.\\nActual type: Image<[array]>.\", 'id': '4KYDCOVK2UUSFFXI4BACW2RA', 'name': 'projects/earthengine-legacy/operations/4KYDCOVK2UUSFFXI4BACW2RA'}\n",
      "Task ID: FEXJXTUNYAZ6MNHSDICD7ZCB, Status: {'state': 'FAILED', 'description': 'SMA of TV', 'priority': 100, 'creation_timestamp_ms': 1722368854618, 'update_timestamp_ms': 1722368869515, 'start_timestamp_ms': 1722368866476, 'task_type': 'EXPORT_IMAGE', 'attempt': 1, 'error_message': \"ImageCollection.reduce: Error in map(ID=LC08_053116_20170104):\\nImage.select: Can't add a band named 'B4' to image because a band with this name already exists. Existing bands: [B4, B3].\", 'id': 'FEXJXTUNYAZ6MNHSDICD7ZCB', 'name': 'projects/earthengine-legacy/operations/FEXJXTUNYAZ6MNHSDICD7ZCB'}\n",
      "Task ID: MW43BB4MXSEFMQSIX6RNFZO3, Status: {'state': 'FAILED', 'description': 'SMA of TV', 'priority': 100, 'creation_timestamp_ms': 1722368694196, 'update_timestamp_ms': 1722368705052, 'start_timestamp_ms': 1722368702122, 'task_type': 'EXPORT_IMAGE', 'attempt': 1, 'error_message': \"reduce.mean: Error in map(ID=LC08_053116_20170104):\\nImage.select: Can't add a band named 'B4' to image because a band with this name already exists. Existing bands: [B4, B3].\", 'id': 'MW43BB4MXSEFMQSIX6RNFZO3', 'name': 'projects/earthengine-legacy/operations/MW43BB4MXSEFMQSIX6RNFZO3'}\n",
      "Task ID: 4ZNXS5SJSQO4A2BP65R4V64X, Status: {'state': 'FAILED', 'description': 'SMA of TV', 'priority': 100, 'creation_timestamp_ms': 1722368596350, 'update_timestamp_ms': 1722368602577, 'start_timestamp_ms': 1722368601326, 'task_type': 'EXPORT_IMAGE', 'attempt': 1, 'error_message': \"ImageCollection.reduce: Error in map(ID=LC08_053116_20170104):\\nImage.select: Can't add a band named 'B4' to image because a band with this name already exists. Existing bands: [B4, B3].\", 'id': '4ZNXS5SJSQO4A2BP65R4V64X', 'name': 'projects/earthengine-legacy/operations/4ZNXS5SJSQO4A2BP65R4V64X'}\n",
      "Task ID: JGFLWOV5CMZSWZZEJHCQWQ4O, Status: {'state': 'FAILED', 'description': 'SMA of TV', 'priority': 100, 'creation_timestamp_ms': 1722365701305, 'update_timestamp_ms': 1722365711847, 'start_timestamp_ms': 1722365711340, 'task_type': 'EXPORT_IMAGE', 'attempt': 1, 'error_message': \"reduce.mean: Error in map(ID=LC08_053116_20170104):\\nImage.select: Can't add a band named 'B4' to image because a band with this name already exists. Existing bands: [B4, B3].\", 'id': 'JGFLWOV5CMZSWZZEJHCQWQ4O', 'name': 'projects/earthengine-legacy/operations/JGFLWOV5CMZSWZZEJHCQWQ4O'}\n",
      "Task ID: Z45RBRUW7HJSMMKDDZYZZENR, Status: {'state': 'FAILED', 'description': 'SMA of TV', 'priority': 100, 'creation_timestamp_ms': 1722364874333, 'update_timestamp_ms': 1722364879681, 'start_timestamp_ms': 1722364879121, 'task_type': 'EXPORT_IMAGE', 'attempt': 1, 'error_message': \"ImageCollection.reduce: Error in map(ID=LC08_053116_20170104):\\nImage.select: Can't add a band named 'B4' to image because a band with this name already exists. Existing bands: [B4, B3].\", 'id': 'Z45RBRUW7HJSMMKDDZYZZENR', 'name': 'projects/earthengine-legacy/operations/Z45RBRUW7HJSMMKDDZYZZENR'}\n",
      "Task ID: 5CPLMUZDX45UW3FLT4MKIN6W, Status: {'state': 'FAILED', 'description': 'SMA of TV', 'priority': 100, 'creation_timestamp_ms': 1722364677656, 'update_timestamp_ms': 1722364683424, 'start_timestamp_ms': 1722364682415, 'task_type': 'EXPORT_IMAGE', 'attempt': 1, 'error_message': \"reduce.mean: Error in map(ID=LC08_053116_20170104):\\nImage.select: Can't add a band named 'B4' to image because a band with this name already exists. Existing bands: [B4, B3].\", 'id': '5CPLMUZDX45UW3FLT4MKIN6W', 'name': 'projects/earthengine-legacy/operations/5CPLMUZDX45UW3FLT4MKIN6W'}\n",
      "Task ID: O445WVJCVWS4GZPYPVI6SCKS, Status: {'state': 'FAILED', 'description': 'SMA of Taylor Valley with dummy endmembers', 'priority': 100, 'creation_timestamp_ms': 1722364641562, 'update_timestamp_ms': 1722364650212, 'start_timestamp_ms': 1722364648140, 'task_type': 'EXPORT_IMAGE', 'attempt': 1, 'error_message': \"ImageCollection.reduce: Error in map(ID=LC08_053116_20170104):\\nImage.select: Can't add a band named 'B4' to image because a band with this name already exists. Existing bands: [B4, B3].\", 'id': 'O445WVJCVWS4GZPYPVI6SCKS', 'name': 'projects/earthengine-legacy/operations/O445WVJCVWS4GZPYPVI6SCKS'}\n",
      "Task ID: ULSVAOMU6WVUYNHIXAW24DXR, Status: {'state': 'FAILED', 'description': 'SMA of Taylor Valley with dummy endmembers', 'priority': 100, 'creation_timestamp_ms': 1722364132904, 'update_timestamp_ms': 1722364144342, 'start_timestamp_ms': 1722364143697, 'task_type': 'EXPORT_IMAGE', 'attempt': 1, 'error_message': \"reduce.mean: Error in map(ID=LC08_053116_20170104):\\nImage.select: Can't add a band named 'B4' to image because a band with this name already exists. Existing bands: [B4, B3].\", 'id': 'ULSVAOMU6WVUYNHIXAW24DXR', 'name': 'projects/earthengine-legacy/operations/ULSVAOMU6WVUYNHIXAW24DXR'}\n",
      "Task ID: PAWGHEXJFH26ZXY6T5GMZSOA, Status: {'state': 'FAILED', 'description': 'SMA of Taylor Valley with dummy endmembers', 'priority': 100, 'creation_timestamp_ms': 1722362084426, 'update_timestamp_ms': 1722362091069, 'start_timestamp_ms': 1722362090494, 'task_type': 'EXPORT_IMAGE', 'attempt': 1, 'error_message': \"ImageCollection.reduce: Error in map(ID=LC08_053116_20170104):\\nImage.select: Can't add a band named 'B4' to image because a band with this name already exists. Existing bands: [B4, B3].\", 'id': 'PAWGHEXJFH26ZXY6T5GMZSOA', 'name': 'projects/earthengine-legacy/operations/PAWGHEXJFH26ZXY6T5GMZSOA'}\n",
      "Task ID: G4WXD2FHIXOR7YJ34XCU6LO2, Status: {'state': 'FAILED', 'description': 'SMA of Taylor Valley with dummy endmembers', 'priority': 100, 'creation_timestamp_ms': 1722362076136, 'update_timestamp_ms': 1722362086521, 'start_timestamp_ms': 1722362085951, 'task_type': 'EXPORT_IMAGE', 'attempt': 1, 'error_message': \"ImageCollection.reduce: Error in map(ID=LC08_053116_20170104):\\nImage.select: Can't add a band named 'B4' to image because a band with this name already exists. Existing bands: [B4, B3].\", 'id': 'G4WXD2FHIXOR7YJ34XCU6LO2', 'name': 'projects/earthengine-legacy/operations/G4WXD2FHIXOR7YJ34XCU6LO2'}\n"
     ]
    },
    {
     "name": "stdout",
     "output_type": "stream",
     "text": [
      "Task ID: F3HTQ2FACBIDJYN5NHANW2PB, Status: {'state': 'FAILED', 'description': 'SMA of Taylor Valley with dummy endmembers', 'priority': 100, 'creation_timestamp_ms': 1722361911697, 'update_timestamp_ms': 1722361918899, 'start_timestamp_ms': 1722361918106, 'task_type': 'EXPORT_IMAGE', 'attempt': 1, 'error_message': \"ImageCollection.reduce: Error in map(ID=LC08_053116_20170104):\\nImage.select: Can't add a band named 'B4' to image because a band with this name already exists. Existing bands: [B4, B3].\", 'id': 'F3HTQ2FACBIDJYN5NHANW2PB', 'name': 'projects/earthengine-legacy/operations/F3HTQ2FACBIDJYN5NHANW2PB'}\n",
      "Task ID: DJ2SUSRUF427LFPEQ5TVO24U, Status: {'state': 'FAILED', 'description': 'SMA of Taylor Valley with dummy endmembers', 'priority': 100, 'creation_timestamp_ms': 1722361714706, 'update_timestamp_ms': 1722361721670, 'start_timestamp_ms': 1722361721144, 'task_type': 'EXPORT_IMAGE', 'attempt': 1, 'error_message': \"ImageCollection.reduce: Error in map(ID=LC08_053116_20170104):\\nImage.select: Can't add a band named 'B4' to image because a band with this name already exists. Existing bands: [B4, B3].\", 'id': 'DJ2SUSRUF427LFPEQ5TVO24U', 'name': 'projects/earthengine-legacy/operations/DJ2SUSRUF427LFPEQ5TVO24U'}\n",
      "Task ID: 5YAXIE7PTYWKBD7G56NVGJPV, Status: {'state': 'FAILED', 'description': 'SMA of Taylor Valley with dummy endmembers', 'priority': 100, 'creation_timestamp_ms': 1722361616034, 'update_timestamp_ms': 1722361623927, 'start_timestamp_ms': 1722361623325, 'task_type': 'EXPORT_IMAGE', 'attempt': 1, 'error_message': \"ImageCollection.reduce: Error in map(ID=LC08_053116_20170104):\\nImage.select: Can't add a band named 'B4' to image because a band with this name already exists. Existing bands: [B4, B3].\", 'id': '5YAXIE7PTYWKBD7G56NVGJPV', 'name': 'projects/earthengine-legacy/operations/5YAXIE7PTYWKBD7G56NVGJPV'}\n",
      "Task ID: TVWV5X2KWGVMJ3BCK34G65FW, Status: {'state': 'FAILED', 'description': 'SMA of Taylor Valley with dummy endmembers', 'priority': 100, 'creation_timestamp_ms': 1722361426691, 'update_timestamp_ms': 1722361434119, 'start_timestamp_ms': 1722361431943, 'task_type': 'EXPORT_IMAGE', 'attempt': 1, 'error_message': \"Image.select: Band pattern 'sma' did not match any bands. Available bands: [B2, B3, B4, B5]\", 'id': 'TVWV5X2KWGVMJ3BCK34G65FW', 'name': 'projects/earthengine-legacy/operations/TVWV5X2KWGVMJ3BCK34G65FW'}\n",
      "Task ID: O6MMMYA4V4UESQ6OGO6LUPIG, Status: {'state': 'COMPLETED', 'description': 'SMA of Taylor Valley with dummy endmembers', 'priority': 100, 'creation_timestamp_ms': 1722357324782, 'update_timestamp_ms': 1722357351870, 'start_timestamp_ms': 1722357330278, 'task_type': 'EXPORT_IMAGE', 'destination_uris': ['https://drive.google.com/#folders/1bua8x5nW1lJ3nX68dNI0kApsH6y4JpNB'], 'attempt': 1, 'batch_eecu_usage_seconds': 1.937687635421753, 'id': 'O6MMMYA4V4UESQ6OGO6LUPIG', 'name': 'projects/earthengine-legacy/operations/O6MMMYA4V4UESQ6OGO6LUPIG'}\n",
      "Task ID: Q3XO3ZVNL2AIGWAGUDAQXGDA, Status: {'state': 'FAILED', 'description': 'SMA of Taylor Valley with dummy endmembers', 'priority': 100, 'creation_timestamp_ms': 1722356684155, 'update_timestamp_ms': 1722356693343, 'start_timestamp_ms': 1722356692782, 'task_type': 'EXPORT_IMAGE', 'attempt': 1, 'error_message': \"Image.unmix, argument 'endmembers': Invalid type.\\nExpected type: List<List<Float>>.\\nActual type: Image<[array]>.\", 'id': 'Q3XO3ZVNL2AIGWAGUDAQXGDA', 'name': 'projects/earthengine-legacy/operations/Q3XO3ZVNL2AIGWAGUDAQXGDA'}\n",
      "Task ID: RDHMU5GU5WPR7W4CB4AORN7E, Status: {'state': 'FAILED', 'description': 'SMA of Taylor Valley with dummy endmembers', 'priority': 100, 'creation_timestamp_ms': 1722356620244, 'update_timestamp_ms': 1722356626050, 'start_timestamp_ms': 1722356625119, 'task_type': 'EXPORT_IMAGE', 'attempt': 1, 'error_message': \"Image.unmix, argument 'endmembers': Invalid type.\\nExpected type: List<List<Float>>.\\nActual type: Image<[array]>.\", 'id': 'RDHMU5GU5WPR7W4CB4AORN7E', 'name': 'projects/earthengine-legacy/operations/RDHMU5GU5WPR7W4CB4AORN7E'}\n",
      "Task ID: KA5WFZXY6KMNP3LX666VYTVP, Status: {'state': 'FAILED', 'description': 'SMA of Taylor Valley with dummy endmembers', 'priority': 100, 'creation_timestamp_ms': 1722356594536, 'update_timestamp_ms': 1722356602405, 'start_timestamp_ms': 1722356601716, 'task_type': 'EXPORT_IMAGE', 'attempt': 1, 'error_message': \"Image.unmix, argument 'endmembers': Invalid type.\\nExpected type: List<List<Float>>.\\nActual type: Image<[array]>.\", 'id': 'KA5WFZXY6KMNP3LX666VYTVP', 'name': 'projects/earthengine-legacy/operations/KA5WFZXY6KMNP3LX666VYTVP'}\n",
      "Task ID: 4NIIEIN6DDGIZK52K22YNMFC, Status: {'state': 'FAILED', 'description': 'SMA of Taylor Valley with dummy endmembers', 'priority': 100, 'creation_timestamp_ms': 1722356453024, 'update_timestamp_ms': 1722356457996, 'start_timestamp_ms': 1722356457575, 'task_type': 'EXPORT_IMAGE', 'attempt': 1, 'error_message': \"Image.unmix, argument 'endmembers': Invalid type.\\nExpected type: List<List<Float>>.\\nActual type: Image<[array]>.\", 'id': '4NIIEIN6DDGIZK52K22YNMFC', 'name': 'projects/earthengine-legacy/operations/4NIIEIN6DDGIZK52K22YNMFC'}\n",
      "Task ID: BCAY2HYM2FMX7RIAJG5CNRAL, Status: {'state': 'FAILED', 'description': 'SMA of Taylor Valley with dummy endmembers', 'priority': 100, 'creation_timestamp_ms': 1722356432679, 'update_timestamp_ms': 1722356438626, 'start_timestamp_ms': 1722356437667, 'task_type': 'EXPORT_IMAGE', 'attempt': 1, 'error_message': \"Image.unmix, argument 'endmembers': Invalid type.\\nExpected type: List<List<Float>>.\\nActual type: Image<[array]>.\", 'id': 'BCAY2HYM2FMX7RIAJG5CNRAL', 'name': 'projects/earthengine-legacy/operations/BCAY2HYM2FMX7RIAJG5CNRAL'}\n",
      "Task ID: MAZIDRSM7QKAXURQHRRDAKOA, Status: {'state': 'COMPLETED', 'description': 'SMA of Taylor Valley with dummy endmembers', 'priority': 100, 'creation_timestamp_ms': 1722356353585, 'update_timestamp_ms': 1722356385379, 'start_timestamp_ms': 1722356359441, 'task_type': 'EXPORT_IMAGE', 'destination_uris': ['https://drive.google.com/#folders/1nWuZhmTI4ZpwuU_ba4tbVTr9hFSKksem'], 'attempt': 1, 'batch_eecu_usage_seconds': 1.7980365753173828, 'id': 'MAZIDRSM7QKAXURQHRRDAKOA', 'name': 'projects/earthengine-legacy/operations/MAZIDRSM7QKAXURQHRRDAKOA'}\n",
      "Task ID: J4DWSREIL6PXP7VF3LHYDUMX, Status: {'state': 'COMPLETED', 'description': 'SMA of Taylor Valley with dummy endmembers', 'priority': 100, 'creation_timestamp_ms': 1722356205096, 'update_timestamp_ms': 1722356237999, 'start_timestamp_ms': 1722356211926, 'task_type': 'EXPORT_IMAGE', 'destination_uris': ['https://drive.google.com/#folders/1DwEgKluWuHjA6k3et3m8tNQbYVkcEPQv'], 'attempt': 1, 'batch_eecu_usage_seconds': 2.7970330715179443, 'id': 'J4DWSREIL6PXP7VF3LHYDUMX', 'name': 'projects/earthengine-legacy/operations/J4DWSREIL6PXP7VF3LHYDUMX'}\n",
      "Task ID: OMX7IELUFGAVBPWV5GF4GQPP, Status: {'state': 'COMPLETED', 'description': 'SMA of Taylor Valley with dummy endmembers', 'priority': 100, 'creation_timestamp_ms': 1722355654006, 'update_timestamp_ms': 1722355689997, 'start_timestamp_ms': 1722355661810, 'task_type': 'EXPORT_IMAGE', 'destination_uris': ['https://drive.google.com/#folders/1DwEgKluWuHjA6k3et3m8tNQbYVkcEPQv'], 'attempt': 1, 'batch_eecu_usage_seconds': 2.36303973197937, 'id': 'OMX7IELUFGAVBPWV5GF4GQPP', 'name': 'projects/earthengine-legacy/operations/OMX7IELUFGAVBPWV5GF4GQPP'}\n",
      "Task ID: M6TJZZPVKLHSF2YNCL4CJOCB, Status: {'state': 'FAILED', 'description': 'SMA of Taylor Valley with dummy endmembers', 'priority': 100, 'creation_timestamp_ms': 1722355628714, 'update_timestamp_ms': 1722355635598, 'start_timestamp_ms': 1722355634997, 'task_type': 'EXPORT_IMAGE', 'attempt': 1, 'error_message': \"Image.unmix, argument 'endmembers': Invalid type.\\nExpected type: List<List<Float>>.\\nActual type: Image<[array]>.\", 'id': 'M6TJZZPVKLHSF2YNCL4CJOCB', 'name': 'projects/earthengine-legacy/operations/M6TJZZPVKLHSF2YNCL4CJOCB'}\n",
      "Task ID: PUB2T7Y6KQZQXWOD4PLMOG2Y, Status: {'state': 'FAILED', 'description': 'SMA of Taylor Valley with dummy endmembers', 'priority': 100, 'creation_timestamp_ms': 1722355569206, 'update_timestamp_ms': 1722355579025, 'start_timestamp_ms': 1722355578355, 'task_type': 'EXPORT_IMAGE', 'attempt': 1, 'error_message': \"Image.unmix, argument 'endmembers': Invalid type.\\nExpected type: List<List<Float>>.\\nActual type: Image<[array]>.\", 'id': 'PUB2T7Y6KQZQXWOD4PLMOG2Y', 'name': 'projects/earthengine-legacy/operations/PUB2T7Y6KQZQXWOD4PLMOG2Y'}\n",
      "Task ID: PXAOKLRHXYT4VNIJRL263YGH, Status: {'state': 'COMPLETED', 'description': 'SMA of Taylor Valley with dummy endmembers', 'priority': 100, 'creation_timestamp_ms': 1722355457983, 'update_timestamp_ms': 1722355488585, 'start_timestamp_ms': 1722355462157, 'task_type': 'EXPORT_IMAGE', 'destination_uris': ['https://drive.google.com/#folders/1DwEgKluWuHjA6k3et3m8tNQbYVkcEPQv'], 'attempt': 1, 'batch_eecu_usage_seconds': 2.215017318725586, 'id': 'PXAOKLRHXYT4VNIJRL263YGH', 'name': 'projects/earthengine-legacy/operations/PXAOKLRHXYT4VNIJRL263YGH'}\n"
     ]
    },
    {
     "name": "stdout",
     "output_type": "stream",
     "text": [
      "Task ID: O7DT6BLGJWS3Q37KLP5JHT2Q, Status: {'state': 'COMPLETED', 'description': 'SMA_Export', 'priority': 100, 'creation_timestamp_ms': 1722355190447, 'update_timestamp_ms': 1722355253329, 'start_timestamp_ms': 1722355195222, 'task_type': 'EXPORT_IMAGE', 'destination_uris': ['https://drive.google.com/#folders/1DwEgKluWuHjA6k3et3m8tNQbYVkcEPQv'], 'attempt': 1, 'batch_eecu_usage_seconds': 5.252835750579834, 'id': 'O7DT6BLGJWS3Q37KLP5JHT2Q', 'name': 'projects/earthengine-legacy/operations/O7DT6BLGJWS3Q37KLP5JHT2Q'}\n",
      "Task ID: 7GWDCOXIXMUJJLA5BIN4PTZ6, Status: {'state': 'FAILED', 'description': 'SMA_Export', 'priority': 100, 'creation_timestamp_ms': 1722355166534, 'update_timestamp_ms': 1722355176304, 'start_timestamp_ms': 1722355175677, 'task_type': 'EXPORT_IMAGE', 'attempt': 1, 'error_message': \"Image.unmix, argument 'endmembers': Invalid type.\\nExpected type: List<List<Float>>.\\nActual type: Image<[array]>.\", 'id': '7GWDCOXIXMUJJLA5BIN4PTZ6', 'name': 'projects/earthengine-legacy/operations/7GWDCOXIXMUJJLA5BIN4PTZ6'}\n",
      "Task ID: ESBEICMHC54V2BF7EYFIVVKA, Status: {'state': 'FAILED', 'description': 'SMA_Export', 'priority': 100, 'creation_timestamp_ms': 1722355015494, 'update_timestamp_ms': 1722355022325, 'start_timestamp_ms': 1722355021769, 'task_type': 'EXPORT_IMAGE', 'attempt': 1, 'error_message': \"Image.unmix, argument 'endmembers': Invalid type.\\nExpected type: List<List<Float>>.\\nActual type: Image<[array]>.\", 'id': 'ESBEICMHC54V2BF7EYFIVVKA', 'name': 'projects/earthengine-legacy/operations/ESBEICMHC54V2BF7EYFIVVKA'}\n",
      "Task ID: KIZQYHLWKYTP6BSXFPZRW2QX, Status: {'state': 'FAILED', 'description': 'SMA_Export', 'priority': 100, 'creation_timestamp_ms': 1722354379790, 'update_timestamp_ms': 1722354385114, 'start_timestamp_ms': 1722354384300, 'task_type': 'EXPORT_IMAGE', 'attempt': 1, 'error_message': \"Image.unmix, argument 'endmembers': Invalid type.\\nExpected type: List<List<Float>>.\\nActual type: Image<[array]>.\", 'id': 'KIZQYHLWKYTP6BSXFPZRW2QX', 'name': 'projects/earthengine-legacy/operations/KIZQYHLWKYTP6BSXFPZRW2QX'}\n",
      "Task ID: UIXR3GGGKH5VHGFNUJJET7IV, Status: {'state': 'FAILED', 'description': 'SMA_Export', 'priority': 100, 'creation_timestamp_ms': 1722354285739, 'update_timestamp_ms': 1722354292789, 'start_timestamp_ms': 1722354292161, 'task_type': 'EXPORT_IMAGE', 'attempt': 1, 'error_message': \"Image.unmix, argument 'endmembers': Invalid type.\\nExpected type: List<List<Float>>.\\nActual type: Image<[array]>.\", 'id': 'UIXR3GGGKH5VHGFNUJJET7IV', 'name': 'projects/earthengine-legacy/operations/UIXR3GGGKH5VHGFNUJJET7IV'}\n",
      "Task ID: 2AE2KWDRZUEUZ7DIIAW2OU7D, Status: {'state': 'FAILED', 'description': 'SMA_Export', 'priority': 100, 'creation_timestamp_ms': 1722353937586, 'update_timestamp_ms': 1722353944163, 'start_timestamp_ms': 1722353943648, 'task_type': 'EXPORT_IMAGE', 'attempt': 1, 'error_message': \"Image.unmix, argument 'endmembers': Invalid type.\\nExpected type: List<List<Float>>.\\nActual type: Image<[array]>.\", 'id': '2AE2KWDRZUEUZ7DIIAW2OU7D', 'name': 'projects/earthengine-legacy/operations/2AE2KWDRZUEUZ7DIIAW2OU7D'}\n",
      "Task ID: ABMDX5TJJWII765SW26IQTVM, Status: {'state': 'FAILED', 'description': 'SMA_Export', 'priority': 100, 'creation_timestamp_ms': 1722353883712, 'update_timestamp_ms': 1722353891041, 'start_timestamp_ms': 1722353890381, 'task_type': 'EXPORT_IMAGE', 'attempt': 1, 'error_message': \"Image.unmix, argument 'endmembers': Invalid type.\\nExpected type: List<List<Float>>.\\nActual type: Image<[array]>.\", 'id': 'ABMDX5TJJWII765SW26IQTVM', 'name': 'projects/earthengine-legacy/operations/ABMDX5TJJWII765SW26IQTVM'}\n",
      "Task ID: 7JUUTAOLHZSO6KB54DAHZDL3, Status: {'state': 'FAILED', 'description': 'SMA_Export', 'priority': 100, 'creation_timestamp_ms': 1722353831245, 'update_timestamp_ms': 1722353844113, 'start_timestamp_ms': 1722353843530, 'task_type': 'EXPORT_IMAGE', 'attempt': 1, 'error_message': \"Image.unmix, argument 'endmembers': Invalid type.\\nExpected type: List<List<Float>>.\\nActual type: Image<[array]>.\", 'id': '7JUUTAOLHZSO6KB54DAHZDL3', 'name': 'projects/earthengine-legacy/operations/7JUUTAOLHZSO6KB54DAHZDL3'}\n",
      "Task ID: PNG4JNDENT2D7B5IXXXNNBOV, Status: {'state': 'FAILED', 'description': 'SMA_Export', 'priority': 100, 'creation_timestamp_ms': 1722352056110, 'update_timestamp_ms': 1722352066075, 'start_timestamp_ms': 1722352064973, 'task_type': 'EXPORT_IMAGE', 'attempt': 1, 'error_message': \"Image.unmix, argument 'endmembers': Invalid type.\\nExpected type: List<List<Float>>.\\nActual type: Image<[array]>.\", 'id': 'PNG4JNDENT2D7B5IXXXNNBOV', 'name': 'projects/earthengine-legacy/operations/PNG4JNDENT2D7B5IXXXNNBOV'}\n",
      "Export task started. Check Google Drive for results.\n"
     ]
    }
   ],
   "source": [
    "# allows to check for errors in google drive upload that don't show up as an\n",
    "# outright error in the above code chunk. \n",
    "# Monitor tasks\n",
    "def monitor_tasks():\n",
    "    tasks = ee.batch.Task.list()\n",
    "    for task in tasks:\n",
    "        print(f'Task ID: {task.id}, Status: {task.status()}')\n",
    "\n",
    "# Print status of all tasks\n",
    "monitor_tasks()\n",
    "\n",
    "print(\"Export task started. Check Google Drive for results.\")"
   ]
  },
  {
   "cell_type": "code",
   "execution_count": null,
   "id": "b1d55ac9",
   "metadata": {},
   "outputs": [],
   "source": []
  }
 ],
 "metadata": {
  "kernelspec": {
   "display_name": "Python 3 (ipykernel)",
   "language": "python",
   "name": "python3"
  },
  "language_info": {
   "codemirror_mode": {
    "name": "ipython",
    "version": 3
   },
   "file_extension": ".py",
   "mimetype": "text/x-python",
   "name": "python",
   "nbconvert_exporter": "python",
   "pygments_lexer": "ipython3",
   "version": "3.9.13"
  }
 },
 "nbformat": 4,
 "nbformat_minor": 5
}
