{
 "cells": [
  {
   "cell_type": "code",
   "execution_count": 1,
   "id": "8bab9951",
   "metadata": {
    "scrolled": true
   },
   "outputs": [],
   "source": [
    "import ee\n",
    "import geemap\n",
    "import numpy as np\n",
    "import time"
   ]
  },
  {
   "cell_type": "code",
   "execution_count": 2,
   "id": "6709e68e",
   "metadata": {},
   "outputs": [
    {
     "data": {
      "text/html": [
       "\n",
       "            <style>\n",
       "                .geemap-dark {\n",
       "                    --jp-widgets-color: white;\n",
       "                    --jp-widgets-label-color: white;\n",
       "                    --jp-ui-font-color1: white;\n",
       "                    --jp-layout-color2: #454545;\n",
       "                    background-color: #383838;\n",
       "                }\n",
       "\n",
       "                .geemap-dark .jupyter-button {\n",
       "                    --jp-layout-color3: #383838;\n",
       "                }\n",
       "\n",
       "                .geemap-colab {\n",
       "                    background-color: var(--colab-primary-surface-color, white);\n",
       "                }\n",
       "\n",
       "                .geemap-colab .jupyter-button {\n",
       "                    --jp-layout-color3: var(--colab-primary-surface-color, white);\n",
       "                }\n",
       "            </style>\n",
       "            "
      ],
      "text/plain": [
       "<IPython.core.display.HTML object>"
      ]
     },
     "metadata": {},
     "output_type": "display_data"
    }
   ],
   "source": [
    "## authenticates the session with EE\n",
    "ee.Authenticate()\n",
    "\n",
    "# creates the connection with EE. \n",
    "ee.Initialize()"
   ]
  },
  {
   "cell_type": "code",
   "execution_count": 3,
   "id": "5abf50a9",
   "metadata": {},
   "outputs": [
    {
     "data": {
      "text/html": [
       "\n",
       "            <style>\n",
       "                .geemap-dark {\n",
       "                    --jp-widgets-color: white;\n",
       "                    --jp-widgets-label-color: white;\n",
       "                    --jp-ui-font-color1: white;\n",
       "                    --jp-layout-color2: #454545;\n",
       "                    background-color: #383838;\n",
       "                }\n",
       "\n",
       "                .geemap-dark .jupyter-button {\n",
       "                    --jp-layout-color3: #383838;\n",
       "                }\n",
       "\n",
       "                .geemap-colab {\n",
       "                    background-color: var(--colab-primary-surface-color, white);\n",
       "                }\n",
       "\n",
       "                .geemap-colab .jupyter-button {\n",
       "                    --jp-layout-color3: var(--colab-primary-surface-color, white);\n",
       "                }\n",
       "            </style>\n",
       "            "
      ],
      "text/plain": [
       "<IPython.core.display.HTML object>"
      ]
     },
     "metadata": {},
     "output_type": "display_data"
    }
   ],
   "source": [
    "# Define a region of interest (ROI) for the analysis\n",
    "roi = ee.Geometry.Rectangle([162.277817, -77.740157, 163.272100, -77.576571])  \n",
    "# Coordinate range that covers the Taylor Valley lakes\n"
   ]
  },
  {
   "cell_type": "code",
   "execution_count": 4,
   "id": "0acb81f2",
   "metadata": {
    "scrolled": true
   },
   "outputs": [
    {
     "data": {
      "text/html": [
       "\n",
       "            <style>\n",
       "                .geemap-dark {\n",
       "                    --jp-widgets-color: white;\n",
       "                    --jp-widgets-label-color: white;\n",
       "                    --jp-ui-font-color1: white;\n",
       "                    --jp-layout-color2: #454545;\n",
       "                    background-color: #383838;\n",
       "                }\n",
       "\n",
       "                .geemap-dark .jupyter-button {\n",
       "                    --jp-layout-color3: #383838;\n",
       "                }\n",
       "\n",
       "                .geemap-colab {\n",
       "                    background-color: var(--colab-primary-surface-color, white);\n",
       "                }\n",
       "\n",
       "                .geemap-colab .jupyter-button {\n",
       "                    --jp-layout-color3: var(--colab-primary-surface-color, white);\n",
       "                }\n",
       "            </style>\n",
       "            "
      ],
      "text/plain": [
       "<IPython.core.display.HTML object>"
      ]
     },
     "metadata": {},
     "output_type": "display_data"
    }
   ],
   "source": [
    "landsat8 = ee.ImageCollection('LANDSAT/LC08/C02/T2') \\\n",
    "            .filterBounds(roi)\\\n",
    "            .filterDate('2016-11-01', '2017-01-01')"
   ]
  },
  {
   "cell_type": "code",
   "execution_count": 5,
   "id": "0574a5aa",
   "metadata": {},
   "outputs": [
    {
     "data": {
      "text/html": [
       "\n",
       "            <style>\n",
       "                .geemap-dark {\n",
       "                    --jp-widgets-color: white;\n",
       "                    --jp-widgets-label-color: white;\n",
       "                    --jp-ui-font-color1: white;\n",
       "                    --jp-layout-color2: #454545;\n",
       "                    background-color: #383838;\n",
       "                }\n",
       "\n",
       "                .geemap-dark .jupyter-button {\n",
       "                    --jp-layout-color3: #383838;\n",
       "                }\n",
       "\n",
       "                .geemap-colab {\n",
       "                    background-color: var(--colab-primary-surface-color, white);\n",
       "                }\n",
       "\n",
       "                .geemap-colab .jupyter-button {\n",
       "                    --jp-layout-color3: var(--colab-primary-surface-color, white);\n",
       "                }\n",
       "            </style>\n",
       "            "
      ],
      "text/plain": [
       "<IPython.core.display.HTML object>"
      ]
     },
     "metadata": {},
     "output_type": "display_data"
    }
   ],
   "source": [
    "# preprocessing for cloud masking\n",
    "def maskL8sr(image):\n",
    "    cloudShadowBitMask = 1 << 3\n",
    "    cloudsBitMask = 1 << 5\n",
    "    qa = image.select('BQA')\n",
    "    mask = qa.bitwiseAnd(cloudShadowBitMask).eq(0) \\\n",
    "            .And(qa.bitwiseAnd(cloudsBitMask).eq(0))\n",
    "    return image.updateMask(mask)"
   ]
  },
  {
   "cell_type": "code",
   "execution_count": 6,
   "id": "437fb192",
   "metadata": {
    "scrolled": true
   },
   "outputs": [
    {
     "data": {
      "text/html": [
       "\n",
       "            <style>\n",
       "                .geemap-dark {\n",
       "                    --jp-widgets-color: white;\n",
       "                    --jp-widgets-label-color: white;\n",
       "                    --jp-ui-font-color1: white;\n",
       "                    --jp-layout-color2: #454545;\n",
       "                    background-color: #383838;\n",
       "                }\n",
       "\n",
       "                .geemap-dark .jupyter-button {\n",
       "                    --jp-layout-color3: #383838;\n",
       "                }\n",
       "\n",
       "                .geemap-colab {\n",
       "                    background-color: var(--colab-primary-surface-color, white);\n",
       "                }\n",
       "\n",
       "                .geemap-colab .jupyter-button {\n",
       "                    --jp-layout-color3: var(--colab-primary-surface-color, white);\n",
       "                }\n",
       "            </style>\n",
       "            "
      ],
      "text/plain": [
       "<IPython.core.display.HTML object>"
      ]
     },
     "metadata": {},
     "output_type": "display_data"
    },
    {
     "name": "stdout",
     "output_type": "stream",
     "text": [
      "75\n"
     ]
    }
   ],
   "source": [
    "landsat8 = landsat8.map(maskL8sr)\n",
    "\n",
    "print(landsat8.size().getInfo())"
   ]
  },
  {
   "cell_type": "code",
   "execution_count": 7,
   "id": "0aa0d550",
   "metadata": {},
   "outputs": [
    {
     "data": {
      "text/html": [
       "\n",
       "            <style>\n",
       "                .geemap-dark {\n",
       "                    --jp-widgets-color: white;\n",
       "                    --jp-widgets-label-color: white;\n",
       "                    --jp-ui-font-color1: white;\n",
       "                    --jp-layout-color2: #454545;\n",
       "                    background-color: #383838;\n",
       "                }\n",
       "\n",
       "                .geemap-dark .jupyter-button {\n",
       "                    --jp-layout-color3: #383838;\n",
       "                }\n",
       "\n",
       "                .geemap-colab {\n",
       "                    background-color: var(--colab-primary-surface-color, white);\n",
       "                }\n",
       "\n",
       "                .geemap-colab .jupyter-button {\n",
       "                    --jp-layout-color3: var(--colab-primary-surface-color, white);\n",
       "                }\n",
       "            </style>\n",
       "            "
      ],
      "text/plain": [
       "<IPython.core.display.HTML object>"
      ]
     },
     "metadata": {},
     "output_type": "display_data"
    }
   ],
   "source": [
    "# define ROI's in specific images that will define lake ice/soil\n",
    "roi_ice = ee.Geometry.Rectangle([163.077952, -77.616808, 163.077080, -77.616903])\n",
    "roi_soil = ee.Geometry.Rectangle([163.078070, -77.625204, 163.075507, -77.625340])"
   ]
  },
  {
   "cell_type": "code",
   "execution_count": 8,
   "id": "3457d372",
   "metadata": {},
   "outputs": [
    {
     "data": {
      "text/html": [
       "\n",
       "            <style>\n",
       "                .geemap-dark {\n",
       "                    --jp-widgets-color: white;\n",
       "                    --jp-widgets-label-color: white;\n",
       "                    --jp-ui-font-color1: white;\n",
       "                    --jp-layout-color2: #454545;\n",
       "                    background-color: #383838;\n",
       "                }\n",
       "\n",
       "                .geemap-dark .jupyter-button {\n",
       "                    --jp-layout-color3: #383838;\n",
       "                }\n",
       "\n",
       "                .geemap-colab {\n",
       "                    background-color: var(--colab-primary-surface-color, white);\n",
       "                }\n",
       "\n",
       "                .geemap-colab .jupyter-button {\n",
       "                    --jp-layout-color3: var(--colab-primary-surface-color, white);\n",
       "                }\n",
       "            </style>\n",
       "            "
      ],
      "text/plain": [
       "<IPython.core.display.HTML object>"
      ]
     },
     "metadata": {},
     "output_type": "display_data"
    }
   ],
   "source": [
    "# Define endmembers (example: using pseudo-invariant features)\n",
    "# can add more endmembers in later, but need to select image and crop down to \n",
    "# specific regions in a single image\n",
    "lake1 = ee.Image('LANDSAT/LC08/C02/T2/LC08_055116_20231205')\n",
    "soil1 = ee.Image('LANDSAT/LC08/C02/T2/LC08_055116_20231205')\n",
    "\n",
    "# clip original image down to the specific endmember spots\n",
    "lakeice = lake1.clip(roi_ice)\n",
    "soil = soil1.clip(roi_soil)\n",
    "\n",
    "ice_mean = lakeice.reduceRegion(ee.Reducer.mean()).values()\n",
    "soil_mean = soil.reduceRegion(ee.Reducer.mean()).values()\n",
    "\n",
    "#endmember3 = ee.Image('YOUR_ENDMEMBER_IMAGE3')  # Replace with your endmember image"
   ]
  },
  {
   "cell_type": "code",
   "execution_count": 37,
   "id": "912c7417",
   "metadata": {},
   "outputs": [
    {
     "data": {
      "text/html": [
       "\n",
       "            <style>\n",
       "                .geemap-dark {\n",
       "                    --jp-widgets-color: white;\n",
       "                    --jp-widgets-label-color: white;\n",
       "                    --jp-ui-font-color1: white;\n",
       "                    --jp-layout-color2: #454545;\n",
       "                    background-color: #383838;\n",
       "                }\n",
       "\n",
       "                .geemap-dark .jupyter-button {\n",
       "                    --jp-layout-color3: #383838;\n",
       "                }\n",
       "\n",
       "                .geemap-colab {\n",
       "                    background-color: var(--colab-primary-surface-color, white);\n",
       "                }\n",
       "\n",
       "                .geemap-colab .jupyter-button {\n",
       "                    --jp-layout-color3: var(--colab-primary-surface-color, white);\n",
       "                }\n",
       "            </style>\n",
       "            "
      ],
      "text/plain": [
       "<IPython.core.display.HTML object>"
      ]
     },
     "metadata": {},
     "output_type": "display_data"
    },
    {
     "ename": "AttributeError",
     "evalue": "'Image' object has no attribute 'size'",
     "output_type": "error",
     "traceback": [
      "\u001b[0;31m---------------------------------------------------------------------------\u001b[0m",
      "\u001b[0;31mAttributeError\u001b[0m                            Traceback (most recent call last)",
      "\u001b[0;32m/var/folders/9p/lgfj_nhs1zz860zwvrcgkzrh0000gn/T/ipykernel_20027/2538452694.py\u001b[0m in \u001b[0;36m<module>\u001b[0;34m\u001b[0m\n\u001b[1;32m      2\u001b[0m \u001b[0mendmembers\u001b[0m \u001b[0;34m=\u001b[0m \u001b[0mee\u001b[0m\u001b[0;34m.\u001b[0m\u001b[0mImage\u001b[0m\u001b[0;34m.\u001b[0m\u001b[0mcat\u001b[0m\u001b[0;34m(\u001b[0m\u001b[0;34m[\u001b[0m\u001b[0mice_mean\u001b[0m\u001b[0;34m,\u001b[0m \u001b[0msoil_mean\u001b[0m\u001b[0;34m]\u001b[0m\u001b[0;34m)\u001b[0m\u001b[0;34m\u001b[0m\u001b[0;34m\u001b[0m\u001b[0m\n\u001b[1;32m      3\u001b[0m \u001b[0;34m\u001b[0m\u001b[0m\n\u001b[0;32m----> 4\u001b[0;31m \u001b[0mprint\u001b[0m\u001b[0;34m(\u001b[0m\u001b[0mendmembers\u001b[0m\u001b[0;34m.\u001b[0m\u001b[0msize\u001b[0m\u001b[0;34m.\u001b[0m\u001b[0mgetInfo\u001b[0m\u001b[0;34m(\u001b[0m\u001b[0;34m)\u001b[0m\u001b[0;34m)\u001b[0m\u001b[0;34m\u001b[0m\u001b[0;34m\u001b[0m\u001b[0m\n\u001b[0m",
      "\u001b[0;31mAttributeError\u001b[0m: 'Image' object has no attribute 'size'"
     ]
    }
   ],
   "source": [
    "# Create an image with endmembers as bands\n",
    "endmembers = ee.Image.cat([ice_mean, soil_mean])"
   ]
  },
  {
   "cell_type": "code",
   "execution_count": 38,
   "id": "bfb7b3c2",
   "metadata": {},
   "outputs": [
    {
     "data": {
      "text/html": [
       "\n",
       "            <style>\n",
       "                .geemap-dark {\n",
       "                    --jp-widgets-color: white;\n",
       "                    --jp-widgets-label-color: white;\n",
       "                    --jp-ui-font-color1: white;\n",
       "                    --jp-layout-color2: #454545;\n",
       "                    background-color: #383838;\n",
       "                }\n",
       "\n",
       "                .geemap-dark .jupyter-button {\n",
       "                    --jp-layout-color3: #383838;\n",
       "                }\n",
       "\n",
       "                .geemap-colab {\n",
       "                    background-color: var(--colab-primary-surface-color, white);\n",
       "                }\n",
       "\n",
       "                .geemap-colab .jupyter-button {\n",
       "                    --jp-layout-color3: var(--colab-primary-surface-color, white);\n",
       "                }\n",
       "            </style>\n",
       "            "
      ],
      "text/plain": [
       "<IPython.core.display.HTML object>"
      ]
     },
     "metadata": {},
     "output_type": "display_data"
    }
   ],
   "source": [
    "# Function to apply SMA to an image\n",
    "def apply_sma(image):\n",
    "    return image.unmix(endmembers, True, True)\n"
   ]
  },
  {
   "cell_type": "code",
   "execution_count": 44,
   "id": "be9bd6fa",
   "metadata": {},
   "outputs": [
    {
     "data": {
      "text/html": [
       "\n",
       "            <style>\n",
       "                .geemap-dark {\n",
       "                    --jp-widgets-color: white;\n",
       "                    --jp-widgets-label-color: white;\n",
       "                    --jp-ui-font-color1: white;\n",
       "                    --jp-layout-color2: #454545;\n",
       "                    background-color: #383838;\n",
       "                }\n",
       "\n",
       "                .geemap-dark .jupyter-button {\n",
       "                    --jp-layout-color3: #383838;\n",
       "                }\n",
       "\n",
       "                .geemap-colab {\n",
       "                    background-color: var(--colab-primary-surface-color, white);\n",
       "                }\n",
       "\n",
       "                .geemap-colab .jupyter-button {\n",
       "                    --jp-layout-color3: var(--colab-primary-surface-color, white);\n",
       "                }\n",
       "            </style>\n",
       "            "
      ],
      "text/plain": [
       "<IPython.core.display.HTML object>"
      ]
     },
     "metadata": {},
     "output_type": "display_data"
    }
   ],
   "source": [
    "# Apply SMA to the image collection\n",
    "fractional_abundances_col = landsat8.map(apply_sma)"
   ]
  },
  {
   "cell_type": "code",
   "execution_count": 40,
   "id": "5723cfdf",
   "metadata": {
    "scrolled": false
   },
   "outputs": [
    {
     "data": {
      "text/html": [
       "\n",
       "            <style>\n",
       "                .geemap-dark {\n",
       "                    --jp-widgets-color: white;\n",
       "                    --jp-widgets-label-color: white;\n",
       "                    --jp-ui-font-color1: white;\n",
       "                    --jp-layout-color2: #454545;\n",
       "                    background-color: #383838;\n",
       "                }\n",
       "\n",
       "                .geemap-dark .jupyter-button {\n",
       "                    --jp-layout-color3: #383838;\n",
       "                }\n",
       "\n",
       "                .geemap-colab {\n",
       "                    background-color: var(--colab-primary-surface-color, white);\n",
       "                }\n",
       "\n",
       "                .geemap-colab .jupyter-button {\n",
       "                    --jp-layout-color3: var(--colab-primary-surface-color, white);\n",
       "                }\n",
       "            </style>\n",
       "            "
      ],
      "text/plain": [
       "<IPython.core.display.HTML object>"
      ]
     },
     "metadata": {},
     "output_type": "display_data"
    }
   ],
   "source": [
    "# do a test SMA on one specific image, the one listed above: \n",
    "Image = ee.Image('LANDSAT/LC08/C02/T2/LC08_055116_20231205')\n",
    "output = Image.unmix(endmembers, True, True)"
   ]
  },
  {
   "cell_type": "code",
   "execution_count": 42,
   "id": "9591ad67",
   "metadata": {
    "scrolled": true
   },
   "outputs": [
    {
     "data": {
      "text/html": [
       "\n",
       "            <style>\n",
       "                .geemap-dark {\n",
       "                    --jp-widgets-color: white;\n",
       "                    --jp-widgets-label-color: white;\n",
       "                    --jp-ui-font-color1: white;\n",
       "                    --jp-layout-color2: #454545;\n",
       "                    background-color: #383838;\n",
       "                }\n",
       "\n",
       "                .geemap-dark .jupyter-button {\n",
       "                    --jp-layout-color3: #383838;\n",
       "                }\n",
       "\n",
       "                .geemap-colab {\n",
       "                    background-color: var(--colab-primary-surface-color, white);\n",
       "                }\n",
       "\n",
       "                .geemap-colab .jupyter-button {\n",
       "                    --jp-layout-color3: var(--colab-primary-surface-color, white);\n",
       "                }\n",
       "            </style>\n",
       "            "
      ],
      "text/plain": [
       "<IPython.core.display.HTML object>"
      ]
     },
     "metadata": {},
     "output_type": "display_data"
    }
   ],
   "source": [
    "# Export results (example: export first image)\n",
    "def export_image(image, description, scale, region):\n",
    "    task = ee.batch.Export.image.toDrive(\n",
    "    image = image,\n",
    "    description='fractions',\n",
    "    folder = \"SMA_EarthEngine\",\n",
    "    scale=30,\n",
    "    region=roi\n",
    ")\n",
    "#task.start()\n",
    "#print('Export task status:', task.status())"
   ]
  },
  {
   "cell_type": "code",
   "execution_count": 46,
   "id": "e4bd3020",
   "metadata": {},
   "outputs": [
    {
     "data": {
      "text/html": [
       "\n",
       "            <style>\n",
       "                .geemap-dark {\n",
       "                    --jp-widgets-color: white;\n",
       "                    --jp-widgets-label-color: white;\n",
       "                    --jp-ui-font-color1: white;\n",
       "                    --jp-layout-color2: #454545;\n",
       "                    background-color: #383838;\n",
       "                }\n",
       "\n",
       "                .geemap-dark .jupyter-button {\n",
       "                    --jp-layout-color3: #383838;\n",
       "                }\n",
       "\n",
       "                .geemap-colab {\n",
       "                    background-color: var(--colab-primary-surface-color, white);\n",
       "                }\n",
       "\n",
       "                .geemap-colab .jupyter-button {\n",
       "                    --jp-layout-color3: var(--colab-primary-surface-color, white);\n",
       "                }\n",
       "            </style>\n",
       "            "
      ],
      "text/plain": [
       "<IPython.core.display.HTML object>"
      ]
     },
     "metadata": {},
     "output_type": "display_data"
    },
    {
     "ename": "EEException",
     "evalue": "A mapped function's arguments cannot be used in client-side operations",
     "output_type": "error",
     "traceback": [
      "\u001b[0;31m---------------------------------------------------------------------------\u001b[0m",
      "\u001b[0;31mEEException\u001b[0m                               Traceback (most recent call last)",
      "\u001b[0;32m/var/folders/9p/lgfj_nhs1zz860zwvrcgkzrh0000gn/T/ipykernel_20027/490092334.py\u001b[0m in \u001b[0;36m<module>\u001b[0;34m\u001b[0m\n\u001b[1;32m     21\u001b[0m \u001b[0;34m\u001b[0m\u001b[0m\n\u001b[1;32m     22\u001b[0m \u001b[0;31m# Example usage\u001b[0m\u001b[0;34m\u001b[0m\u001b[0;34m\u001b[0m\u001b[0m\n\u001b[0;32m---> 23\u001b[0;31m \u001b[0mexport_images\u001b[0m\u001b[0;34m(\u001b[0m\u001b[0mfractional_abundances_col\u001b[0m\u001b[0;34m,\u001b[0m \u001b[0;34m'fractional_abundances'\u001b[0m\u001b[0;34m,\u001b[0m \u001b[0;36m30\u001b[0m\u001b[0;34m,\u001b[0m \u001b[0mroi\u001b[0m\u001b[0;34m)\u001b[0m\u001b[0;34m\u001b[0m\u001b[0;34m\u001b[0m\u001b[0m\n\u001b[0m",
      "\u001b[0;32m/var/folders/9p/lgfj_nhs1zz860zwvrcgkzrh0000gn/T/ipykernel_20027/490092334.py\u001b[0m in \u001b[0;36mexport_images\u001b[0;34m(image_collection, description_prefix, scale, region)\u001b[0m\n\u001b[1;32m     17\u001b[0m \u001b[0;34m\u001b[0m\u001b[0m\n\u001b[1;32m     18\u001b[0m \u001b[0;32mdef\u001b[0m \u001b[0mexport_images\u001b[0m\u001b[0;34m(\u001b[0m\u001b[0mimage_collection\u001b[0m\u001b[0;34m,\u001b[0m \u001b[0mdescription_prefix\u001b[0m\u001b[0;34m,\u001b[0m \u001b[0mscale\u001b[0m\u001b[0;34m,\u001b[0m \u001b[0mregion\u001b[0m\u001b[0;34m)\u001b[0m\u001b[0;34m:\u001b[0m\u001b[0;34m\u001b[0m\u001b[0;34m\u001b[0m\u001b[0m\n\u001b[0;32m---> 19\u001b[0;31m   \u001b[0mtasks\u001b[0m \u001b[0;34m=\u001b[0m \u001b[0mimage_collection\u001b[0m\u001b[0;34m.\u001b[0m\u001b[0mmap\u001b[0m\u001b[0;34m(\u001b[0m\u001b[0mprocess_image\u001b[0m\u001b[0;34m)\u001b[0m\u001b[0;34m.\u001b[0m\u001b[0mflatten\u001b[0m\u001b[0;34m(\u001b[0m\u001b[0;34m)\u001b[0m\u001b[0;34m.\u001b[0m\u001b[0mcollect\u001b[0m\u001b[0;34m(\u001b[0m\u001b[0;34m)\u001b[0m\u001b[0;34m\u001b[0m\u001b[0;34m\u001b[0m\u001b[0m\n\u001b[0m\u001b[1;32m     20\u001b[0m   \u001b[0;31m# ... (rest of your task monitoring code)\u001b[0m\u001b[0;34m\u001b[0m\u001b[0;34m\u001b[0m\u001b[0m\n\u001b[1;32m     21\u001b[0m \u001b[0;34m\u001b[0m\u001b[0m\n",
      "\u001b[0;32m~/opt/anaconda3/lib/python3.9/site-packages/ee/_utils.py\u001b[0m in \u001b[0;36mwrapper\u001b[0;34m(*args, **kwargs)\u001b[0m\n\u001b[1;32m     36\u001b[0m           \u001b[0;32mif\u001b[0m \u001b[0mnew_key\u001b[0m \u001b[0;32mnot\u001b[0m \u001b[0;32min\u001b[0m \u001b[0mkwargs\u001b[0m\u001b[0;34m:\u001b[0m\u001b[0;34m\u001b[0m\u001b[0;34m\u001b[0m\u001b[0m\n\u001b[1;32m     37\u001b[0m             \u001b[0mkwargs\u001b[0m\u001b[0;34m[\u001b[0m\u001b[0mnew_key\u001b[0m\u001b[0;34m]\u001b[0m \u001b[0;34m=\u001b[0m \u001b[0mold_key_val\u001b[0m\u001b[0;34m\u001b[0m\u001b[0;34m\u001b[0m\u001b[0m\n\u001b[0;32m---> 38\u001b[0;31m       \u001b[0;32mreturn\u001b[0m \u001b[0mfunc\u001b[0m\u001b[0;34m(\u001b[0m\u001b[0;34m*\u001b[0m\u001b[0margs\u001b[0m\u001b[0;34m,\u001b[0m \u001b[0;34m**\u001b[0m\u001b[0mkwargs\u001b[0m\u001b[0;34m)\u001b[0m\u001b[0;34m\u001b[0m\u001b[0;34m\u001b[0m\u001b[0m\n\u001b[0m\u001b[1;32m     39\u001b[0m \u001b[0;34m\u001b[0m\u001b[0m\n\u001b[1;32m     40\u001b[0m     \u001b[0;32mreturn\u001b[0m \u001b[0mwrapper\u001b[0m\u001b[0;34m\u001b[0m\u001b[0;34m\u001b[0m\u001b[0m\n",
      "\u001b[0;32m~/opt/anaconda3/lib/python3.9/site-packages/ee/collection.py\u001b[0m in \u001b[0;36mmap\u001b[0;34m(self, algorithm, dropNulls)\u001b[0m\n\u001b[1;32m    243\u001b[0m     \u001b[0mwith_cast\u001b[0m \u001b[0;34m=\u001b[0m \u001b[0;32mlambda\u001b[0m \u001b[0me\u001b[0m\u001b[0;34m:\u001b[0m \u001b[0malgorithm\u001b[0m\u001b[0;34m(\u001b[0m\u001b[0melement_type\u001b[0m\u001b[0;34m(\u001b[0m\u001b[0me\u001b[0m\u001b[0;34m,\u001b[0m \u001b[0;32mNone\u001b[0m\u001b[0;34m)\u001b[0m\u001b[0;34m)\u001b[0m\u001b[0;34m\u001b[0m\u001b[0;34m\u001b[0m\u001b[0m\n\u001b[1;32m    244\u001b[0m     return self._cast(\n\u001b[0;32m--> 245\u001b[0;31m         apifunction.ApiFunction.call_(\n\u001b[0m\u001b[1;32m    246\u001b[0m             \u001b[0;34m'Collection.map'\u001b[0m\u001b[0;34m,\u001b[0m \u001b[0mself\u001b[0m\u001b[0;34m,\u001b[0m \u001b[0mwith_cast\u001b[0m\u001b[0;34m,\u001b[0m \u001b[0mdropNulls\u001b[0m\u001b[0;34m\u001b[0m\u001b[0;34m\u001b[0m\u001b[0m\n\u001b[1;32m    247\u001b[0m         )\n",
      "\u001b[0;32m~/opt/anaconda3/lib/python3.9/site-packages/ee/apifunction.py\u001b[0m in \u001b[0;36mcall_\u001b[0;34m(cls, name, *args, **kwargs)\u001b[0m\n\u001b[1;32m     82\u001b[0m       \u001b[0ma\u001b[0m \u001b[0mrecognized\u001b[0m \u001b[0;32mreturn\u001b[0m \u001b[0mtype\u001b[0m\u001b[0;34m,\u001b[0m \u001b[0mthe\u001b[0m \u001b[0mreturned\u001b[0m \u001b[0mvalue\u001b[0m \u001b[0mwill\u001b[0m \u001b[0mbe\u001b[0m \u001b[0mcast\u001b[0m \u001b[0mto\u001b[0m \u001b[0mthat\u001b[0m \u001b[0mtype\u001b[0m\u001b[0;34m.\u001b[0m\u001b[0;34m\u001b[0m\u001b[0;34m\u001b[0m\u001b[0m\n\u001b[1;32m     83\u001b[0m     \"\"\"\n\u001b[0;32m---> 84\u001b[0;31m     \u001b[0;32mreturn\u001b[0m \u001b[0mcls\u001b[0m\u001b[0;34m.\u001b[0m\u001b[0mlookup\u001b[0m\u001b[0;34m(\u001b[0m\u001b[0mname\u001b[0m\u001b[0;34m)\u001b[0m\u001b[0;34m.\u001b[0m\u001b[0mcall\u001b[0m\u001b[0;34m(\u001b[0m\u001b[0;34m*\u001b[0m\u001b[0margs\u001b[0m\u001b[0;34m,\u001b[0m \u001b[0;34m**\u001b[0m\u001b[0mkwargs\u001b[0m\u001b[0;34m)\u001b[0m\u001b[0;34m\u001b[0m\u001b[0;34m\u001b[0m\u001b[0m\n\u001b[0m\u001b[1;32m     85\u001b[0m \u001b[0;34m\u001b[0m\u001b[0m\n\u001b[1;32m     86\u001b[0m   \u001b[0;34m@\u001b[0m\u001b[0mclassmethod\u001b[0m\u001b[0;34m\u001b[0m\u001b[0;34m\u001b[0m\u001b[0m\n",
      "\u001b[0;32m~/opt/anaconda3/lib/python3.9/site-packages/ee/function.py\u001b[0m in \u001b[0;36mcall\u001b[0;34m(self, *args, **kwargs)\u001b[0m\n\u001b[1;32m     60\u001b[0m       \u001b[0mto\u001b[0m \u001b[0mthat\u001b[0m \u001b[0mtype\u001b[0m\u001b[0;34m.\u001b[0m\u001b[0;34m\u001b[0m\u001b[0;34m\u001b[0m\u001b[0m\n\u001b[1;32m     61\u001b[0m     \"\"\"\n\u001b[0;32m---> 62\u001b[0;31m     \u001b[0;32mreturn\u001b[0m \u001b[0mself\u001b[0m\u001b[0;34m.\u001b[0m\u001b[0mapply\u001b[0m\u001b[0;34m(\u001b[0m\u001b[0mself\u001b[0m\u001b[0;34m.\u001b[0m\u001b[0mnameArgs\u001b[0m\u001b[0;34m(\u001b[0m\u001b[0margs\u001b[0m\u001b[0;34m,\u001b[0m \u001b[0mkwargs\u001b[0m\u001b[0;34m)\u001b[0m\u001b[0;34m)\u001b[0m\u001b[0;34m\u001b[0m\u001b[0;34m\u001b[0m\u001b[0m\n\u001b[0m\u001b[1;32m     63\u001b[0m \u001b[0;34m\u001b[0m\u001b[0m\n\u001b[1;32m     64\u001b[0m   \u001b[0;32mdef\u001b[0m \u001b[0mapply\u001b[0m\u001b[0;34m(\u001b[0m\u001b[0mself\u001b[0m\u001b[0;34m,\u001b[0m \u001b[0mnamed_args\u001b[0m\u001b[0;34m)\u001b[0m\u001b[0;34m:\u001b[0m\u001b[0;34m\u001b[0m\u001b[0;34m\u001b[0m\u001b[0m\n",
      "\u001b[0;32m~/opt/anaconda3/lib/python3.9/site-packages/ee/function.py\u001b[0m in \u001b[0;36mapply\u001b[0;34m(self, named_args)\u001b[0m\n\u001b[1;32m     73\u001b[0m       \u001b[0mto\u001b[0m \u001b[0mthat\u001b[0m \u001b[0mtype\u001b[0m\u001b[0;34m.\u001b[0m\u001b[0;34m\u001b[0m\u001b[0;34m\u001b[0m\u001b[0m\n\u001b[1;32m     74\u001b[0m     \"\"\"\n\u001b[0;32m---> 75\u001b[0;31m     \u001b[0mresult\u001b[0m \u001b[0;34m=\u001b[0m \u001b[0mcomputedobject\u001b[0m\u001b[0;34m.\u001b[0m\u001b[0mComputedObject\u001b[0m\u001b[0;34m(\u001b[0m\u001b[0mself\u001b[0m\u001b[0;34m,\u001b[0m \u001b[0mself\u001b[0m\u001b[0;34m.\u001b[0m\u001b[0mpromoteArgs\u001b[0m\u001b[0;34m(\u001b[0m\u001b[0mnamed_args\u001b[0m\u001b[0;34m)\u001b[0m\u001b[0;34m)\u001b[0m\u001b[0;34m\u001b[0m\u001b[0;34m\u001b[0m\u001b[0m\n\u001b[0m\u001b[1;32m     76\u001b[0m     \u001b[0;32mreturn\u001b[0m \u001b[0mFunction\u001b[0m\u001b[0;34m.\u001b[0m\u001b[0m_promoter\u001b[0m\u001b[0;34m(\u001b[0m\u001b[0mresult\u001b[0m\u001b[0;34m,\u001b[0m \u001b[0mself\u001b[0m\u001b[0;34m.\u001b[0m\u001b[0mgetReturnType\u001b[0m\u001b[0;34m(\u001b[0m\u001b[0;34m)\u001b[0m\u001b[0;34m)\u001b[0m\u001b[0;34m\u001b[0m\u001b[0;34m\u001b[0m\u001b[0m\n\u001b[1;32m     77\u001b[0m \u001b[0;34m\u001b[0m\u001b[0m\n",
      "\u001b[0;32m~/opt/anaconda3/lib/python3.9/site-packages/ee/function.py\u001b[0m in \u001b[0;36mpromoteArgs\u001b[0;34m(self, args)\u001b[0m\n\u001b[1;32m    101\u001b[0m       \u001b[0mname\u001b[0m \u001b[0;34m=\u001b[0m \u001b[0marg_spec\u001b[0m\u001b[0;34m[\u001b[0m\u001b[0;34m'name'\u001b[0m\u001b[0;34m]\u001b[0m\u001b[0;34m\u001b[0m\u001b[0;34m\u001b[0m\u001b[0m\n\u001b[1;32m    102\u001b[0m       \u001b[0;32mif\u001b[0m \u001b[0mname\u001b[0m \u001b[0;32min\u001b[0m \u001b[0margs\u001b[0m\u001b[0;34m:\u001b[0m\u001b[0;34m\u001b[0m\u001b[0;34m\u001b[0m\u001b[0m\n\u001b[0;32m--> 103\u001b[0;31m         \u001b[0mpromoted_args\u001b[0m\u001b[0;34m[\u001b[0m\u001b[0mname\u001b[0m\u001b[0;34m]\u001b[0m \u001b[0;34m=\u001b[0m \u001b[0mFunction\u001b[0m\u001b[0;34m.\u001b[0m\u001b[0m_promoter\u001b[0m\u001b[0;34m(\u001b[0m\u001b[0margs\u001b[0m\u001b[0;34m[\u001b[0m\u001b[0mname\u001b[0m\u001b[0;34m]\u001b[0m\u001b[0;34m,\u001b[0m \u001b[0marg_spec\u001b[0m\u001b[0;34m[\u001b[0m\u001b[0;34m'type'\u001b[0m\u001b[0;34m]\u001b[0m\u001b[0;34m)\u001b[0m\u001b[0;34m\u001b[0m\u001b[0;34m\u001b[0m\u001b[0m\n\u001b[0m\u001b[1;32m    104\u001b[0m       \u001b[0;32melif\u001b[0m \u001b[0;32mnot\u001b[0m \u001b[0marg_spec\u001b[0m\u001b[0;34m.\u001b[0m\u001b[0mget\u001b[0m\u001b[0;34m(\u001b[0m\u001b[0;34m'optional'\u001b[0m\u001b[0;34m)\u001b[0m\u001b[0;34m:\u001b[0m\u001b[0;34m\u001b[0m\u001b[0;34m\u001b[0m\u001b[0m\n\u001b[1;32m    105\u001b[0m         raise ee_exception.EEException(\n",
      "\u001b[0;32m~/opt/anaconda3/lib/python3.9/site-packages/ee/__init__.py\u001b[0m in \u001b[0;36m_Promote\u001b[0;34m(arg, a_class)\u001b[0m\n\u001b[1;32m    333\u001b[0m       \u001b[0;31m# A native function that needs to be wrapped.\u001b[0m\u001b[0;34m\u001b[0m\u001b[0;34m\u001b[0m\u001b[0m\n\u001b[1;32m    334\u001b[0m       \u001b[0margs_count\u001b[0m \u001b[0;34m=\u001b[0m \u001b[0mlen\u001b[0m\u001b[0;34m(\u001b[0m\u001b[0minspect\u001b[0m\u001b[0;34m.\u001b[0m\u001b[0mgetfullargspec\u001b[0m\u001b[0;34m(\u001b[0m\u001b[0marg\u001b[0m\u001b[0;34m)\u001b[0m\u001b[0;34m.\u001b[0m\u001b[0margs\u001b[0m\u001b[0;34m)\u001b[0m\u001b[0;34m\u001b[0m\u001b[0;34m\u001b[0m\u001b[0m\n\u001b[0;32m--> 335\u001b[0;31m       \u001b[0;32mreturn\u001b[0m \u001b[0mCustomFunction\u001b[0m\u001b[0;34m.\u001b[0m\u001b[0mcreate\u001b[0m\u001b[0;34m(\u001b[0m\u001b[0marg\u001b[0m\u001b[0;34m,\u001b[0m \u001b[0;34m'Object'\u001b[0m\u001b[0;34m,\u001b[0m \u001b[0;34m[\u001b[0m\u001b[0;34m'Object'\u001b[0m\u001b[0;34m]\u001b[0m \u001b[0;34m*\u001b[0m \u001b[0margs_count\u001b[0m\u001b[0;34m)\u001b[0m\u001b[0;34m\u001b[0m\u001b[0;34m\u001b[0m\u001b[0m\n\u001b[0m\u001b[1;32m    336\u001b[0m     \u001b[0;32melif\u001b[0m \u001b[0misinstance\u001b[0m\u001b[0;34m(\u001b[0m\u001b[0marg\u001b[0m\u001b[0;34m,\u001b[0m \u001b[0mEncodable\u001b[0m\u001b[0;34m)\u001b[0m\u001b[0;34m:\u001b[0m\u001b[0;34m\u001b[0m\u001b[0;34m\u001b[0m\u001b[0m\n\u001b[1;32m    337\u001b[0m       \u001b[0;31m# An ee.Function or a computed function like the return value of\u001b[0m\u001b[0;34m\u001b[0m\u001b[0;34m\u001b[0m\u001b[0m\n",
      "\u001b[0;32m~/opt/anaconda3/lib/python3.9/site-packages/ee/customfunction.py\u001b[0m in \u001b[0;36mcreate\u001b[0;34m(func, return_type, arg_types)\u001b[0m\n\u001b[1;32m    124\u001b[0m         \u001b[0;34m'args'\u001b[0m\u001b[0;34m:\u001b[0m \u001b[0margs\u001b[0m\u001b[0;34m\u001b[0m\u001b[0;34m\u001b[0m\u001b[0m\n\u001b[1;32m    125\u001b[0m     }\n\u001b[0;32m--> 126\u001b[0;31m     \u001b[0;32mreturn\u001b[0m \u001b[0mCustomFunction\u001b[0m\u001b[0;34m(\u001b[0m\u001b[0msignature\u001b[0m\u001b[0;34m,\u001b[0m \u001b[0mfunc\u001b[0m\u001b[0;34m)\u001b[0m\u001b[0;34m\u001b[0m\u001b[0;34m\u001b[0m\u001b[0m\n\u001b[0m\u001b[1;32m    127\u001b[0m \u001b[0;34m\u001b[0m\u001b[0m\n\u001b[1;32m    128\u001b[0m   \u001b[0;34m@\u001b[0m\u001b[0mstaticmethod\u001b[0m\u001b[0;34m\u001b[0m\u001b[0;34m\u001b[0m\u001b[0m\n",
      "\u001b[0;32m~/opt/anaconda3/lib/python3.9/site-packages/ee/customfunction.py\u001b[0m in \u001b[0;36m__init__\u001b[0;34m(self, signature, body)\u001b[0m\n\u001b[1;32m     38\u001b[0m                  for arg in signature['args']]\n\u001b[1;32m     39\u001b[0m \u001b[0;34m\u001b[0m\u001b[0m\n\u001b[0;32m---> 40\u001b[0;31m     \u001b[0;32mif\u001b[0m \u001b[0mbody\u001b[0m\u001b[0;34m(\u001b[0m\u001b[0;34m*\u001b[0m\u001b[0mvariables\u001b[0m\u001b[0;34m)\u001b[0m \u001b[0;32mis\u001b[0m \u001b[0;32mNone\u001b[0m\u001b[0;34m:\u001b[0m\u001b[0;34m\u001b[0m\u001b[0;34m\u001b[0m\u001b[0m\n\u001b[0m\u001b[1;32m     41\u001b[0m       \u001b[0;32mraise\u001b[0m \u001b[0mee_exception\u001b[0m\u001b[0;34m.\u001b[0m\u001b[0mEEException\u001b[0m\u001b[0;34m(\u001b[0m\u001b[0;34m'User-defined methods must return a value'\u001b[0m\u001b[0;34m)\u001b[0m\u001b[0;34m\u001b[0m\u001b[0;34m\u001b[0m\u001b[0m\n\u001b[1;32m     42\u001b[0m \u001b[0;34m\u001b[0m\u001b[0m\n",
      "\u001b[0;32m~/opt/anaconda3/lib/python3.9/site-packages/ee/collection.py\u001b[0m in \u001b[0;36m<lambda>\u001b[0;34m(e)\u001b[0m\n\u001b[1;32m    241\u001b[0m     \"\"\"\n\u001b[1;32m    242\u001b[0m     \u001b[0melement_type\u001b[0m \u001b[0;34m=\u001b[0m \u001b[0mself\u001b[0m\u001b[0;34m.\u001b[0m\u001b[0melementType\u001b[0m\u001b[0;34m(\u001b[0m\u001b[0;34m)\u001b[0m\u001b[0;34m\u001b[0m\u001b[0;34m\u001b[0m\u001b[0m\n\u001b[0;32m--> 243\u001b[0;31m     \u001b[0mwith_cast\u001b[0m \u001b[0;34m=\u001b[0m \u001b[0;32mlambda\u001b[0m \u001b[0me\u001b[0m\u001b[0;34m:\u001b[0m \u001b[0malgorithm\u001b[0m\u001b[0;34m(\u001b[0m\u001b[0melement_type\u001b[0m\u001b[0;34m(\u001b[0m\u001b[0me\u001b[0m\u001b[0;34m,\u001b[0m \u001b[0;32mNone\u001b[0m\u001b[0;34m)\u001b[0m\u001b[0;34m)\u001b[0m\u001b[0;34m\u001b[0m\u001b[0;34m\u001b[0m\u001b[0m\n\u001b[0m\u001b[1;32m    244\u001b[0m     return self._cast(\n\u001b[1;32m    245\u001b[0m         apifunction.ApiFunction.call_(\n",
      "\u001b[0;32m/var/folders/9p/lgfj_nhs1zz860zwvrcgkzrh0000gn/T/ipykernel_20027/490092334.py\u001b[0m in \u001b[0;36mprocess_image\u001b[0;34m(image)\u001b[0m\n\u001b[1;32m     12\u001b[0m   \u001b[0mimage_id\u001b[0m \u001b[0;34m=\u001b[0m \u001b[0mimage\u001b[0m\u001b[0;34m.\u001b[0m\u001b[0mid\u001b[0m\u001b[0;34m(\u001b[0m\u001b[0;34m)\u001b[0m\u001b[0;34m\u001b[0m\u001b[0;34m\u001b[0m\u001b[0m\n\u001b[1;32m     13\u001b[0m   \u001b[0mimage_date\u001b[0m \u001b[0;34m=\u001b[0m \u001b[0mimage\u001b[0m\u001b[0;34m.\u001b[0m\u001b[0mdate\u001b[0m\u001b[0;34m(\u001b[0m\u001b[0;34m)\u001b[0m\u001b[0;34m.\u001b[0m\u001b[0mformat\u001b[0m\u001b[0;34m(\u001b[0m\u001b[0;34m'YYYYMMdd'\u001b[0m\u001b[0;34m)\u001b[0m\u001b[0;34m\u001b[0m\u001b[0;34m\u001b[0m\u001b[0m\n\u001b[0;32m---> 14\u001b[0;31m   \u001b[0mdescription\u001b[0m \u001b[0;34m=\u001b[0m \u001b[0;34mf'fractional_abundances_{image_id}_{image_date}'\u001b[0m\u001b[0;34m\u001b[0m\u001b[0;34m\u001b[0m\u001b[0m\n\u001b[0m\u001b[1;32m     15\u001b[0m   \u001b[0mtask_id\u001b[0m \u001b[0;34m=\u001b[0m \u001b[0mexport_image\u001b[0m\u001b[0;34m(\u001b[0m\u001b[0mimage\u001b[0m\u001b[0;34m,\u001b[0m \u001b[0mdescription\u001b[0m\u001b[0;34m,\u001b[0m \u001b[0;36m30\u001b[0m\u001b[0;34m,\u001b[0m \u001b[0mgeometry\u001b[0m\u001b[0;34m)\u001b[0m\u001b[0;34m\u001b[0m\u001b[0;34m\u001b[0m\u001b[0m\n\u001b[1;32m     16\u001b[0m   \u001b[0;32mreturn\u001b[0m \u001b[0mee\u001b[0m\u001b[0;34m.\u001b[0m\u001b[0mFeature\u001b[0m\u001b[0;34m(\u001b[0m\u001b[0;32mNone\u001b[0m\u001b[0;34m,\u001b[0m \u001b[0;34m{\u001b[0m\u001b[0;34m'task_id'\u001b[0m\u001b[0;34m:\u001b[0m \u001b[0mtask_id\u001b[0m\u001b[0;34m}\u001b[0m\u001b[0;34m)\u001b[0m\u001b[0;34m\u001b[0m\u001b[0;34m\u001b[0m\u001b[0m\n",
      "\u001b[0;32m~/opt/anaconda3/lib/python3.9/site-packages/ee/computedobject.py\u001b[0m in \u001b[0;36m__str__\u001b[0;34m(self)\u001b[0m\n\u001b[1;32m    185\u001b[0m   \u001b[0;32mdef\u001b[0m \u001b[0m__str__\u001b[0m\u001b[0;34m(\u001b[0m\u001b[0mself\u001b[0m\u001b[0;34m)\u001b[0m \u001b[0;34m->\u001b[0m \u001b[0mstr\u001b[0m\u001b[0;34m:\u001b[0m\u001b[0;34m\u001b[0m\u001b[0;34m\u001b[0m\u001b[0m\n\u001b[1;32m    186\u001b[0m     \u001b[0;34m\"\"\"Writes out the object in a human-readable form.\"\"\"\u001b[0m\u001b[0;34m\u001b[0m\u001b[0;34m\u001b[0m\u001b[0m\n\u001b[0;32m--> 187\u001b[0;31m     \u001b[0;32mreturn\u001b[0m \u001b[0;34m'ee.%s(%s)'\u001b[0m \u001b[0;34m%\u001b[0m \u001b[0;34m(\u001b[0m\u001b[0mself\u001b[0m\u001b[0;34m.\u001b[0m\u001b[0mname\u001b[0m\u001b[0;34m(\u001b[0m\u001b[0;34m)\u001b[0m\u001b[0;34m,\u001b[0m \u001b[0mserializer\u001b[0m\u001b[0;34m.\u001b[0m\u001b[0mtoReadableJSON\u001b[0m\u001b[0;34m(\u001b[0m\u001b[0mself\u001b[0m\u001b[0;34m)\u001b[0m\u001b[0;34m)\u001b[0m\u001b[0;34m\u001b[0m\u001b[0;34m\u001b[0m\u001b[0m\n\u001b[0m\u001b[1;32m    188\u001b[0m \u001b[0;34m\u001b[0m\u001b[0m\n\u001b[1;32m    189\u001b[0m   \u001b[0;32mdef\u001b[0m \u001b[0misVariable\u001b[0m\u001b[0;34m(\u001b[0m\u001b[0mself\u001b[0m\u001b[0;34m)\u001b[0m \u001b[0;34m->\u001b[0m \u001b[0mbool\u001b[0m\u001b[0;34m:\u001b[0m\u001b[0;34m\u001b[0m\u001b[0;34m\u001b[0m\u001b[0m\n",
      "\u001b[0;32m~/opt/anaconda3/lib/python3.9/site-packages/ee/serializer.py\u001b[0m in \u001b[0;36mtoReadableJSON\u001b[0;34m(obj, for_cloud_api)\u001b[0m\n\u001b[1;32m    324\u001b[0m \u001b[0;32mdef\u001b[0m \u001b[0mtoReadableJSON\u001b[0m\u001b[0;34m(\u001b[0m\u001b[0mobj\u001b[0m\u001b[0;34m:\u001b[0m \u001b[0mAny\u001b[0m\u001b[0;34m,\u001b[0m \u001b[0mfor_cloud_api\u001b[0m\u001b[0;34m:\u001b[0m \u001b[0mbool\u001b[0m \u001b[0;34m=\u001b[0m \u001b[0;32mTrue\u001b[0m\u001b[0;34m)\u001b[0m \u001b[0;34m->\u001b[0m \u001b[0mAny\u001b[0m\u001b[0;34m:\u001b[0m\u001b[0;34m\u001b[0m\u001b[0;34m\u001b[0m\u001b[0m\n\u001b[1;32m    325\u001b[0m   \u001b[0;34m\"\"\"Convert an object to readable JSON.\"\"\"\u001b[0m\u001b[0;34m\u001b[0m\u001b[0;34m\u001b[0m\u001b[0m\n\u001b[0;32m--> 326\u001b[0;31m   \u001b[0;32mreturn\u001b[0m \u001b[0mtoJSON\u001b[0m\u001b[0;34m(\u001b[0m\u001b[0mobj\u001b[0m\u001b[0;34m,\u001b[0m \u001b[0;32mTrue\u001b[0m\u001b[0;34m,\u001b[0m \u001b[0mfor_cloud_api\u001b[0m\u001b[0;34m=\u001b[0m\u001b[0mfor_cloud_api\u001b[0m\u001b[0;34m)\u001b[0m\u001b[0;34m\u001b[0m\u001b[0;34m\u001b[0m\u001b[0m\n\u001b[0m\u001b[1;32m    327\u001b[0m \u001b[0;34m\u001b[0m\u001b[0m\n\u001b[1;32m    328\u001b[0m \u001b[0;34m\u001b[0m\u001b[0m\n",
      "\u001b[0;32m~/opt/anaconda3/lib/python3.9/site-packages/ee/_utils.py\u001b[0m in \u001b[0;36mwrapper\u001b[0;34m(*args, **kwargs)\u001b[0m\n\u001b[1;32m     36\u001b[0m           \u001b[0;32mif\u001b[0m \u001b[0mnew_key\u001b[0m \u001b[0;32mnot\u001b[0m \u001b[0;32min\u001b[0m \u001b[0mkwargs\u001b[0m\u001b[0;34m:\u001b[0m\u001b[0;34m\u001b[0m\u001b[0;34m\u001b[0m\u001b[0m\n\u001b[1;32m     37\u001b[0m             \u001b[0mkwargs\u001b[0m\u001b[0;34m[\u001b[0m\u001b[0mnew_key\u001b[0m\u001b[0;34m]\u001b[0m \u001b[0;34m=\u001b[0m \u001b[0mold_key_val\u001b[0m\u001b[0;34m\u001b[0m\u001b[0;34m\u001b[0m\u001b[0m\n\u001b[0;32m---> 38\u001b[0;31m       \u001b[0;32mreturn\u001b[0m \u001b[0mfunc\u001b[0m\u001b[0;34m(\u001b[0m\u001b[0;34m*\u001b[0m\u001b[0margs\u001b[0m\u001b[0;34m,\u001b[0m \u001b[0;34m**\u001b[0m\u001b[0mkwargs\u001b[0m\u001b[0;34m)\u001b[0m\u001b[0;34m\u001b[0m\u001b[0;34m\u001b[0m\u001b[0m\n\u001b[0m\u001b[1;32m     39\u001b[0m \u001b[0;34m\u001b[0m\u001b[0m\n\u001b[1;32m     40\u001b[0m     \u001b[0;32mreturn\u001b[0m \u001b[0mwrapper\u001b[0m\u001b[0;34m\u001b[0m\u001b[0;34m\u001b[0m\u001b[0m\n",
      "\u001b[0;32m~/opt/anaconda3/lib/python3.9/site-packages/ee/serializer.py\u001b[0m in \u001b[0;36mtoJSON\u001b[0;34m(obj, pretty, for_cloud_api)\u001b[0m\n\u001b[1;32m    317\u001b[0m   \"\"\"\n\u001b[1;32m    318\u001b[0m   \u001b[0mserializer\u001b[0m \u001b[0;34m=\u001b[0m \u001b[0mSerializer\u001b[0m\u001b[0;34m(\u001b[0m\u001b[0;32mnot\u001b[0m \u001b[0mpretty\u001b[0m\u001b[0;34m,\u001b[0m \u001b[0mfor_cloud_api\u001b[0m\u001b[0;34m=\u001b[0m\u001b[0mfor_cloud_api\u001b[0m\u001b[0;34m)\u001b[0m\u001b[0;34m\u001b[0m\u001b[0;34m\u001b[0m\u001b[0m\n\u001b[0;32m--> 319\u001b[0;31m   \u001b[0mencoded\u001b[0m \u001b[0;34m=\u001b[0m \u001b[0mserializer\u001b[0m\u001b[0;34m.\u001b[0m\u001b[0m_encode\u001b[0m\u001b[0;34m(\u001b[0m\u001b[0mobj\u001b[0m\u001b[0;34m)\u001b[0m  \u001b[0;31m# pylint: disable=protected-access\u001b[0m\u001b[0;34m\u001b[0m\u001b[0;34m\u001b[0m\u001b[0m\n\u001b[0m\u001b[1;32m    320\u001b[0m   \u001b[0;32mreturn\u001b[0m \u001b[0mjson\u001b[0m\u001b[0;34m.\u001b[0m\u001b[0mdumps\u001b[0m\u001b[0;34m(\u001b[0m\u001b[0mencoded\u001b[0m\u001b[0;34m,\u001b[0m \u001b[0mindent\u001b[0m\u001b[0;34m=\u001b[0m\u001b[0;36m2\u001b[0m \u001b[0;32mif\u001b[0m \u001b[0mpretty\u001b[0m \u001b[0;32melse\u001b[0m \u001b[0;32mNone\u001b[0m\u001b[0;34m)\u001b[0m\u001b[0;34m\u001b[0m\u001b[0;34m\u001b[0m\u001b[0m\n\u001b[1;32m    321\u001b[0m \u001b[0;34m\u001b[0m\u001b[0m\n",
      "\u001b[0;32m~/opt/anaconda3/lib/python3.9/site-packages/ee/serializer.py\u001b[0m in \u001b[0;36m_encode\u001b[0;34m(self, obj)\u001b[0m\n\u001b[1;32m     77\u001b[0m     \"\"\"\n\u001b[1;32m     78\u001b[0m     \u001b[0;32mif\u001b[0m \u001b[0mself\u001b[0m\u001b[0;34m.\u001b[0m\u001b[0m_for_cloud_api\u001b[0m\u001b[0;34m:\u001b[0m\u001b[0;34m\u001b[0m\u001b[0;34m\u001b[0m\u001b[0m\n\u001b[0;32m---> 79\u001b[0;31m       \u001b[0;32mreturn\u001b[0m \u001b[0mself\u001b[0m\u001b[0;34m.\u001b[0m\u001b[0m_encode_for_cloud_api\u001b[0m\u001b[0;34m(\u001b[0m\u001b[0mobj\u001b[0m\u001b[0;34m)\u001b[0m\u001b[0;34m\u001b[0m\u001b[0;34m\u001b[0m\u001b[0m\n\u001b[0m\u001b[1;32m     80\u001b[0m     \u001b[0mvalue\u001b[0m \u001b[0;34m=\u001b[0m \u001b[0mself\u001b[0m\u001b[0;34m.\u001b[0m\u001b[0m_encode_value\u001b[0m\u001b[0;34m(\u001b[0m\u001b[0mobj\u001b[0m\u001b[0;34m)\u001b[0m\u001b[0;34m\u001b[0m\u001b[0;34m\u001b[0m\u001b[0m\n\u001b[1;32m     81\u001b[0m     \u001b[0;32mif\u001b[0m \u001b[0mself\u001b[0m\u001b[0;34m.\u001b[0m\u001b[0m_is_compound\u001b[0m\u001b[0;34m:\u001b[0m\u001b[0;34m\u001b[0m\u001b[0;34m\u001b[0m\u001b[0m\n",
      "\u001b[0;32m~/opt/anaconda3/lib/python3.9/site-packages/ee/serializer.py\u001b[0m in \u001b[0;36m_encode_for_cloud_api\u001b[0;34m(self, obj)\u001b[0m\n\u001b[1;32m     95\u001b[0m   \u001b[0;32mdef\u001b[0m \u001b[0m_encode_for_cloud_api\u001b[0m\u001b[0;34m(\u001b[0m\u001b[0mself\u001b[0m\u001b[0;34m,\u001b[0m \u001b[0mobj\u001b[0m\u001b[0;34m:\u001b[0m \u001b[0mAny\u001b[0m\u001b[0;34m)\u001b[0m \u001b[0;34m->\u001b[0m \u001b[0mAny\u001b[0m\u001b[0;34m:\u001b[0m\u001b[0;34m\u001b[0m\u001b[0;34m\u001b[0m\u001b[0m\n\u001b[1;32m     96\u001b[0m     \u001b[0;34m\"\"\"Encodes an object as an Expression or quasi-Expression.\"\"\"\u001b[0m\u001b[0;34m\u001b[0m\u001b[0;34m\u001b[0m\u001b[0m\n\u001b[0;32m---> 97\u001b[0;31m     \u001b[0mvalue\u001b[0m \u001b[0;34m=\u001b[0m \u001b[0mself\u001b[0m\u001b[0;34m.\u001b[0m\u001b[0m_encode_cloud_object\u001b[0m\u001b[0;34m(\u001b[0m\u001b[0mobj\u001b[0m\u001b[0;34m)\u001b[0m\u001b[0;34m\u001b[0m\u001b[0;34m\u001b[0m\u001b[0m\n\u001b[0m\u001b[1;32m     98\u001b[0m     \u001b[0;32mif\u001b[0m \u001b[0mself\u001b[0m\u001b[0;34m.\u001b[0m\u001b[0m_is_compound\u001b[0m\u001b[0;34m:\u001b[0m\u001b[0;34m\u001b[0m\u001b[0;34m\u001b[0m\u001b[0m\n\u001b[1;32m     99\u001b[0m       \u001b[0;31m# Wrap the scopes and final value into an Expression.\u001b[0m\u001b[0;34m\u001b[0m\u001b[0;34m\u001b[0m\u001b[0m\n",
      "\u001b[0;32m~/opt/anaconda3/lib/python3.9/site-packages/ee/serializer.py\u001b[0m in \u001b[0;36m_encode_cloud_object\u001b[0;34m(self, obj)\u001b[0m\n\u001b[1;32m    217\u001b[0m     \u001b[0;32melif\u001b[0m \u001b[0misinstance\u001b[0m\u001b[0;34m(\u001b[0m\u001b[0mobj\u001b[0m\u001b[0;34m,\u001b[0m \u001b[0mencodable\u001b[0m\u001b[0;34m.\u001b[0m\u001b[0mEncodable\u001b[0m\u001b[0;34m)\u001b[0m\u001b[0;34m:\u001b[0m\u001b[0;34m\u001b[0m\u001b[0;34m\u001b[0m\u001b[0m\n\u001b[1;32m    218\u001b[0m       \u001b[0;31m# Some objects know how to encode themselves.\u001b[0m\u001b[0;34m\u001b[0m\u001b[0;34m\u001b[0m\u001b[0m\n\u001b[0;32m--> 219\u001b[0;31m       \u001b[0mresult\u001b[0m \u001b[0;34m=\u001b[0m \u001b[0mobj\u001b[0m\u001b[0;34m.\u001b[0m\u001b[0mencode_cloud_value\u001b[0m\u001b[0;34m(\u001b[0m\u001b[0mself\u001b[0m\u001b[0;34m.\u001b[0m\u001b[0m_encode_cloud_object\u001b[0m\u001b[0;34m)\u001b[0m\u001b[0;34m\u001b[0m\u001b[0;34m\u001b[0m\u001b[0m\n\u001b[0m\u001b[1;32m    220\u001b[0m     \u001b[0;32melif\u001b[0m \u001b[0misinstance\u001b[0m\u001b[0;34m(\u001b[0m\u001b[0mobj\u001b[0m\u001b[0;34m,\u001b[0m \u001b[0;34m(\u001b[0m\u001b[0mlist\u001b[0m\u001b[0;34m,\u001b[0m \u001b[0mtuple\u001b[0m\u001b[0;34m)\u001b[0m\u001b[0;34m)\u001b[0m\u001b[0;34m:\u001b[0m\u001b[0;34m\u001b[0m\u001b[0;34m\u001b[0m\u001b[0m\n\u001b[1;32m    221\u001b[0m       \u001b[0;31m# Lists are encoded recursively.\u001b[0m\u001b[0;34m\u001b[0m\u001b[0;34m\u001b[0m\u001b[0m\n",
      "\u001b[0;32m~/opt/anaconda3/lib/python3.9/site-packages/ee/_utils.py\u001b[0m in \u001b[0;36mwrapper\u001b[0;34m(*args, **kwargs)\u001b[0m\n\u001b[1;32m     36\u001b[0m           \u001b[0;32mif\u001b[0m \u001b[0mnew_key\u001b[0m \u001b[0;32mnot\u001b[0m \u001b[0;32min\u001b[0m \u001b[0mkwargs\u001b[0m\u001b[0;34m:\u001b[0m\u001b[0;34m\u001b[0m\u001b[0;34m\u001b[0m\u001b[0m\n\u001b[1;32m     37\u001b[0m             \u001b[0mkwargs\u001b[0m\u001b[0;34m[\u001b[0m\u001b[0mnew_key\u001b[0m\u001b[0;34m]\u001b[0m \u001b[0;34m=\u001b[0m \u001b[0mold_key_val\u001b[0m\u001b[0;34m\u001b[0m\u001b[0;34m\u001b[0m\u001b[0m\n\u001b[0;32m---> 38\u001b[0;31m       \u001b[0;32mreturn\u001b[0m \u001b[0mfunc\u001b[0m\u001b[0;34m(\u001b[0m\u001b[0;34m*\u001b[0m\u001b[0margs\u001b[0m\u001b[0;34m,\u001b[0m \u001b[0;34m**\u001b[0m\u001b[0mkwargs\u001b[0m\u001b[0;34m)\u001b[0m\u001b[0;34m\u001b[0m\u001b[0;34m\u001b[0m\u001b[0m\n\u001b[0m\u001b[1;32m     39\u001b[0m \u001b[0;34m\u001b[0m\u001b[0m\n\u001b[1;32m     40\u001b[0m     \u001b[0;32mreturn\u001b[0m \u001b[0mwrapper\u001b[0m\u001b[0;34m\u001b[0m\u001b[0;34m\u001b[0m\u001b[0m\n",
      "\u001b[0;32m~/opt/anaconda3/lib/python3.9/site-packages/ee/ee_string.py\u001b[0m in \u001b[0;36mencode_cloud_value\u001b[0;34m(self, encoder)\u001b[0m\n\u001b[1;32m     83\u001b[0m       \u001b[0;32mreturn\u001b[0m \u001b[0;34m{\u001b[0m\u001b[0;34m'constantValue'\u001b[0m\u001b[0;34m:\u001b[0m \u001b[0mself\u001b[0m\u001b[0;34m.\u001b[0m\u001b[0m_string\u001b[0m\u001b[0;34m}\u001b[0m\u001b[0;34m\u001b[0m\u001b[0;34m\u001b[0m\u001b[0m\n\u001b[1;32m     84\u001b[0m     \u001b[0;32melse\u001b[0m\u001b[0;34m:\u001b[0m\u001b[0;34m\u001b[0m\u001b[0;34m\u001b[0m\u001b[0m\n\u001b[0;32m---> 85\u001b[0;31m       \u001b[0;32mreturn\u001b[0m \u001b[0msuper\u001b[0m\u001b[0;34m(\u001b[0m\u001b[0;34m)\u001b[0m\u001b[0;34m.\u001b[0m\u001b[0mencode_cloud_value\u001b[0m\u001b[0;34m(\u001b[0m\u001b[0mencoder\u001b[0m\u001b[0;34m)\u001b[0m\u001b[0;34m\u001b[0m\u001b[0;34m\u001b[0m\u001b[0m\n\u001b[0m\u001b[1;32m     86\u001b[0m \u001b[0;34m\u001b[0m\u001b[0m\n\u001b[1;32m     87\u001b[0m   \u001b[0;32mdef\u001b[0m \u001b[0mcat\u001b[0m\u001b[0;34m(\u001b[0m\u001b[0mself\u001b[0m\u001b[0;34m,\u001b[0m \u001b[0mstring2\u001b[0m\u001b[0;34m:\u001b[0m \u001b[0m_StringType\u001b[0m\u001b[0;34m)\u001b[0m \u001b[0;34m->\u001b[0m \u001b[0;34m'String'\u001b[0m\u001b[0;34m:\u001b[0m\u001b[0;34m\u001b[0m\u001b[0;34m\u001b[0m\u001b[0m\n",
      "\u001b[0;32m~/opt/anaconda3/lib/python3.9/site-packages/ee/computedobject.py\u001b[0m in \u001b[0;36mencode_cloud_value\u001b[0;34m(self, encoder)\u001b[0m\n\u001b[1;32m    165\u001b[0m         \u001b[0mvalue\u001b[0m \u001b[0;34m=\u001b[0m \u001b[0mself\u001b[0m\u001b[0;34m.\u001b[0m\u001b[0margs\u001b[0m\u001b[0;34m[\u001b[0m\u001b[0mname\u001b[0m\u001b[0;34m]\u001b[0m\u001b[0;34m\u001b[0m\u001b[0;34m\u001b[0m\u001b[0m\n\u001b[1;32m    166\u001b[0m         \u001b[0;32mif\u001b[0m \u001b[0mvalue\u001b[0m \u001b[0;32mis\u001b[0m \u001b[0;32mnot\u001b[0m \u001b[0;32mNone\u001b[0m\u001b[0;34m:\u001b[0m\u001b[0;34m\u001b[0m\u001b[0;34m\u001b[0m\u001b[0m\n\u001b[0;32m--> 167\u001b[0;31m           \u001b[0mencoded_args\u001b[0m\u001b[0;34m[\u001b[0m\u001b[0mname\u001b[0m\u001b[0;34m]\u001b[0m \u001b[0;34m=\u001b[0m \u001b[0;34m{\u001b[0m\u001b[0;34m'valueReference'\u001b[0m\u001b[0;34m:\u001b[0m \u001b[0mencoder\u001b[0m\u001b[0;34m(\u001b[0m\u001b[0mvalue\u001b[0m\u001b[0;34m)\u001b[0m\u001b[0;34m}\u001b[0m\u001b[0;34m\u001b[0m\u001b[0;34m\u001b[0m\u001b[0m\n\u001b[0m\u001b[1;32m    168\u001b[0m       \u001b[0minvocation\u001b[0m\u001b[0;34m[\u001b[0m\u001b[0;34m'arguments'\u001b[0m\u001b[0;34m]\u001b[0m \u001b[0;34m=\u001b[0m \u001b[0mencoded_args\u001b[0m\u001b[0;34m\u001b[0m\u001b[0;34m\u001b[0m\u001b[0m\n\u001b[1;32m    169\u001b[0m       \u001b[0;32mreturn\u001b[0m \u001b[0;34m{\u001b[0m\u001b[0;34m'functionInvocationValue'\u001b[0m\u001b[0;34m:\u001b[0m \u001b[0minvocation\u001b[0m\u001b[0;34m}\u001b[0m\u001b[0;34m\u001b[0m\u001b[0;34m\u001b[0m\u001b[0m\n",
      "\u001b[0;32m~/opt/anaconda3/lib/python3.9/site-packages/ee/serializer.py\u001b[0m in \u001b[0;36m_encode_cloud_object\u001b[0;34m(self, obj)\u001b[0m\n\u001b[1;32m    217\u001b[0m     \u001b[0;32melif\u001b[0m \u001b[0misinstance\u001b[0m\u001b[0;34m(\u001b[0m\u001b[0mobj\u001b[0m\u001b[0;34m,\u001b[0m \u001b[0mencodable\u001b[0m\u001b[0;34m.\u001b[0m\u001b[0mEncodable\u001b[0m\u001b[0;34m)\u001b[0m\u001b[0;34m:\u001b[0m\u001b[0;34m\u001b[0m\u001b[0;34m\u001b[0m\u001b[0m\n\u001b[1;32m    218\u001b[0m       \u001b[0;31m# Some objects know how to encode themselves.\u001b[0m\u001b[0;34m\u001b[0m\u001b[0;34m\u001b[0m\u001b[0m\n\u001b[0;32m--> 219\u001b[0;31m       \u001b[0mresult\u001b[0m \u001b[0;34m=\u001b[0m \u001b[0mobj\u001b[0m\u001b[0;34m.\u001b[0m\u001b[0mencode_cloud_value\u001b[0m\u001b[0;34m(\u001b[0m\u001b[0mself\u001b[0m\u001b[0;34m.\u001b[0m\u001b[0m_encode_cloud_object\u001b[0m\u001b[0;34m)\u001b[0m\u001b[0;34m\u001b[0m\u001b[0;34m\u001b[0m\u001b[0m\n\u001b[0m\u001b[1;32m    220\u001b[0m     \u001b[0;32melif\u001b[0m \u001b[0misinstance\u001b[0m\u001b[0;34m(\u001b[0m\u001b[0mobj\u001b[0m\u001b[0;34m,\u001b[0m \u001b[0;34m(\u001b[0m\u001b[0mlist\u001b[0m\u001b[0;34m,\u001b[0m \u001b[0mtuple\u001b[0m\u001b[0;34m)\u001b[0m\u001b[0;34m)\u001b[0m\u001b[0;34m:\u001b[0m\u001b[0;34m\u001b[0m\u001b[0;34m\u001b[0m\u001b[0m\n\u001b[1;32m    221\u001b[0m       \u001b[0;31m# Lists are encoded recursively.\u001b[0m\u001b[0;34m\u001b[0m\u001b[0;34m\u001b[0m\u001b[0m\n",
      "\u001b[0;32m~/opt/anaconda3/lib/python3.9/site-packages/ee/computedobject.py\u001b[0m in \u001b[0;36mencode_cloud_value\u001b[0;34m(self, encoder)\u001b[0m\n\u001b[1;32m    148\u001b[0m         \u001b[0;31m# the map operation and cannot be evaluated. See the Count Functions\u001b[0m\u001b[0;34m\u001b[0m\u001b[0;34m\u001b[0m\u001b[0m\n\u001b[1;32m    149\u001b[0m         \u001b[0;31m# case in customfunction.py for details on the unbound_name mechanism.\u001b[0m\u001b[0;34m\u001b[0m\u001b[0;34m\u001b[0m\u001b[0m\n\u001b[0;32m--> 150\u001b[0;31m         raise ee_exception.EEException(\n\u001b[0m\u001b[1;32m    151\u001b[0m             \u001b[0;34m\"A mapped function's arguments cannot be used in \"\u001b[0m\u001b[0;34m\u001b[0m\u001b[0;34m\u001b[0m\u001b[0m\n\u001b[1;32m    152\u001b[0m             \u001b[0;34m'client-side operations'\u001b[0m\u001b[0;34m\u001b[0m\u001b[0;34m\u001b[0m\u001b[0m\n",
      "\u001b[0;31mEEException\u001b[0m: A mapped function's arguments cannot be used in client-side operations"
     ]
    }
   ],
   "source": [
    "def export_image(image, description, scale, region):\n",
    "  task = ee.batch.Export.image.toDrive(\n",
    "      image=image,\n",
    "      description=description,\n",
    "      scale=scale,\n",
    "      region=region\n",
    "  )\n",
    "  task.start()\n",
    "  return task.id\n",
    "\n",
    "def process_image(image):\n",
    "  image_id = image.id()\n",
    "  image_date = image.date().format('YYYYMMdd')\n",
    "  description = f'fractional_abundances_{image_id}_{image_date}'\n",
    "  task_id = export_image(image, description, 30, geometry)\n",
    "  return ee.Feature(None, {'task_id': task_id})\n",
    "\n",
    "def export_images(image_collection, description_prefix, scale, region):\n",
    "  tasks = image_collection.map(process_image).flatten().collect()\n",
    "  # ... (rest of your task monitoring code)\n",
    "\n",
    "# Example usage\n",
    "export_images(fractional_abundances_col, 'fractional_abundances', 30, roi)"
   ]
  },
  {
   "cell_type": "code",
   "execution_count": 50,
   "id": "53bb9893",
   "metadata": {},
   "outputs": [
    {
     "data": {
      "text/html": [
       "\n",
       "            <style>\n",
       "                .geemap-dark {\n",
       "                    --jp-widgets-color: white;\n",
       "                    --jp-widgets-label-color: white;\n",
       "                    --jp-ui-font-color1: white;\n",
       "                    --jp-layout-color2: #454545;\n",
       "                    background-color: #383838;\n",
       "                }\n",
       "\n",
       "                .geemap-dark .jupyter-button {\n",
       "                    --jp-layout-color3: #383838;\n",
       "                }\n",
       "\n",
       "                .geemap-colab {\n",
       "                    background-color: var(--colab-primary-surface-color, white);\n",
       "                }\n",
       "\n",
       "                .geemap-colab .jupyter-button {\n",
       "                    --jp-layout-color3: var(--colab-primary-surface-color, white);\n",
       "                }\n",
       "            </style>\n",
       "            "
      ],
      "text/plain": [
       "<IPython.core.display.HTML object>"
      ]
     },
     "metadata": {},
     "output_type": "display_data"
    },
    {
     "name": "stdout",
     "output_type": "stream",
     "text": [
      "Task ID: WYSAOFUTM5FXJDVZFBB455I7, Status: {'state': 'FAILED', 'description': 'fraicks', 'priority': 100, 'creation_timestamp_ms': 1722391542799, 'update_timestamp_ms': 1722391551107, 'start_timestamp_ms': 1722391550516, 'task_type': 'EXPORT_IMAGE', 'attempt': 1, 'error_message': \"Collection.first: Error in map(ID=LC08_053116_20161101):\\nImage.select: Band pattern 'BQA' did not match any bands. Available bands: [B1, B2, B3, B4, B5, B6, B7, B8, B9, B10, B11, QA_PIXEL, QA_RADSAT, SAA, SZA, VAA, VZA]\", 'id': 'WYSAOFUTM5FXJDVZFBB455I7', 'name': 'projects/earthengine-legacy/operations/WYSAOFUTM5FXJDVZFBB455I7'}\n",
      "Task ID: OKOTZ3OXVROIDV2DRLAM4KXN, Status: {'state': 'FAILED', 'description': 'fractional_abundances', 'priority': 100, 'creation_timestamp_ms': 1722391475898, 'update_timestamp_ms': 1722391485306, 'start_timestamp_ms': 1722391484772, 'task_type': 'EXPORT_IMAGE', 'attempt': 1, 'error_message': \"Collection.first: Error in map(ID=LC08_053116_20161101):\\nImage.select: Band pattern 'BQA' did not match any bands. Available bands: [B1, B2, B3, B4, B5, B6, B7, B8, B9, B10, B11, QA_PIXEL, QA_RADSAT, SAA, SZA, VAA, VZA]\", 'id': 'OKOTZ3OXVROIDV2DRLAM4KXN', 'name': 'projects/earthengine-legacy/operations/OKOTZ3OXVROIDV2DRLAM4KXN'}\n",
      "Task ID: ARYFMTLVRDOFL7E5DCATCUL4, Status: {'state': 'FAILED', 'description': 'fractional_abundances', 'priority': 100, 'creation_timestamp_ms': 1722391034554, 'update_timestamp_ms': 1722391039837, 'start_timestamp_ms': 1722391039259, 'task_type': 'EXPORT_IMAGE', 'attempt': 1, 'error_message': \"Image.clipToBoundsAndScale: Parameter 'input' is required.\", 'id': 'ARYFMTLVRDOFL7E5DCATCUL4', 'name': 'projects/earthengine-legacy/operations/ARYFMTLVRDOFL7E5DCATCUL4'}\n",
      "Task ID: T2SEZOWT4BBDHEQX3XRZ75JJ, Status: {'state': 'FAILED', 'description': 'fractional_abundances', 'priority': 100, 'creation_timestamp_ms': 1722391015973, 'update_timestamp_ms': 1722391025575, 'start_timestamp_ms': 1722391025017, 'task_type': 'EXPORT_IMAGE', 'attempt': 1, 'error_message': \"Image.addBands, argument 'dstImg': Invalid type.\\nExpected type: Image<unknown bands>.\\nActual type: List<Float>.\\nActual value: [14611.983050847457, 17625.79661016949, 16727.389830508473, 14660.338983050848, 14422.915254237287, 14164.983050847455, 11888.271186440677, 5208.237288135593, 5177.237288135592, 24608.864406779656, 5038.220338983051, 30048.0, 0.0, 7321.0, 6345.0, 14333.610169491523, 393.38983050847463]\", 'id': 'T2SEZOWT4BBDHEQX3XRZ75JJ', 'name': 'projects/earthengine-legacy/operations/T2SEZOWT4BBDHEQX3XRZ75JJ'}\n",
      "Task ID: FOM3UGHNQDPZ5ZE6QGT7LR5B, Status: {'state': 'FAILED', 'description': 'fractional_abundances', 'priority': 100, 'creation_timestamp_ms': 1722381578508, 'update_timestamp_ms': 1722381583688, 'start_timestamp_ms': 1722381583160, 'task_type': 'EXPORT_IMAGE', 'attempt': 1, 'error_message': \"Image.addBands, argument 'dstImg': Invalid type.\\nExpected type: Image<unknown bands>.\\nActual type: List<Float>.\\nActual value: [14611.983050847457, 17625.79661016949, 16727.389830508473, 14660.338983050848, 14422.915254237287, 14164.983050847455, 11888.271186440677, 5208.237288135593, 5177.237288135592, 24608.864406779656, 5038.220338983051, 30048.0, 0.0, 7321.0, 6345.0, 14333.610169491523, 393.38983050847463]\", 'id': 'FOM3UGHNQDPZ5ZE6QGT7LR5B', 'name': 'projects/earthengine-legacy/operations/FOM3UGHNQDPZ5ZE6QGT7LR5B'}\n",
      "Task ID: FVY3GCWW66O43WBNF6ARGKSG, Status: {'state': 'FAILED', 'description': 'fractional_abundances', 'priority': 100, 'creation_timestamp_ms': 1722381565557, 'update_timestamp_ms': 1722381572784, 'start_timestamp_ms': 1722381571705, 'task_type': 'EXPORT_IMAGE', 'attempt': 1, 'error_message': \"Image.addBands, argument 'dstImg': Invalid type.\\nExpected type: Image<unknown bands>.\\nActual type: List<Float>.\\nActual value: [14611.983050847457, 17625.79661016949, 16727.389830508473, 14660.338983050848, 14422.915254237287, 14164.983050847455, 11888.271186440677, 5208.237288135593, 5177.237288135592, 24608.864406779656, 5038.220338983051, 30048.0, 0.0, 7321.0, 6345.0, 14333.610169491523, 393.38983050847463]\", 'id': 'FVY3GCWW66O43WBNF6ARGKSG', 'name': 'projects/earthengine-legacy/operations/FVY3GCWW66O43WBNF6ARGKSG'}\n",
      "Task ID: FHMIQPBOUH43CHIVTNCR2JCV, Status: {'state': 'FAILED', 'description': 'fractional_abundances', 'priority': 100, 'creation_timestamp_ms': 1722379801148, 'update_timestamp_ms': 1722379808502, 'start_timestamp_ms': 1722379807975, 'task_type': 'EXPORT_IMAGE', 'attempt': 1, 'error_message': \"Image.addBands, argument 'dstImg': Invalid type.\\nExpected type: Image<unknown bands>.\\nActual type: List<Float>.\\nActual value: [14611.983050847457, 17625.79661016949, 16727.389830508473, 14660.338983050848, 14422.915254237287, 14164.983050847455, 11888.271186440677, 5208.237288135593, 5177.237288135592, 24608.864406779656, 5038.220338983051, 30048.0, 0.0, 7321.0, 6345.0, 14333.610169491523, 393.38983050847463]\", 'id': 'FHMIQPBOUH43CHIVTNCR2JCV', 'name': 'projects/earthengine-legacy/operations/FHMIQPBOUH43CHIVTNCR2JCV'}\n",
      "Task ID: 7EQL7YVLPFIPMWRPMNZMSKJ5, Status: {'state': 'FAILED', 'description': 'fractional_abundances', 'priority': 100, 'creation_timestamp_ms': 1722379640390, 'update_timestamp_ms': 1722379647506, 'start_timestamp_ms': 1722379646349, 'task_type': 'EXPORT_IMAGE', 'attempt': 1, 'error_message': \"Image.addBands, argument 'dstImg': Invalid type.\\nExpected type: Image<unknown bands>.\\nActual type: List<Float>.\\nActual value: [14611.983050847457, 17625.79661016949, 16727.389830508473, 14660.338983050848, 14422.915254237287, 14164.983050847455, 11888.271186440677, 5208.237288135593, 5177.237288135592, 24608.864406779656, 5038.220338983051, 30048.0, 0.0, 7321.0, 6345.0, 14333.610169491523, 393.38983050847463]\", 'id': '7EQL7YVLPFIPMWRPMNZMSKJ5', 'name': 'projects/earthengine-legacy/operations/7EQL7YVLPFIPMWRPMNZMSKJ5'}\n",
      "Task ID: H3IV246AX5RBFAZ2KTSQDFD4, Status: {'state': 'FAILED', 'description': 'fractional_abundances', 'priority': 100, 'creation_timestamp_ms': 1722379602928, 'update_timestamp_ms': 1722379609402, 'start_timestamp_ms': 1722379608224, 'task_type': 'EXPORT_IMAGE', 'attempt': 1, 'error_message': \"Image.addBands, argument 'dstImg': Invalid type.\\nExpected type: Image<unknown bands>.\\nActual type: List<Float>.\\nActual value: [14611.983050847457, 17625.79661016949, 16727.389830508473, 14660.338983050848, 14422.915254237287, 14164.983050847455, 11888.271186440677, 5208.237288135593, 5177.237288135592, 24608.864406779656, 5038.220338983051, 30048.0, 0.0, 7321.0, 6345.0, 14333.610169491523, 393.38983050847463]\", 'id': 'H3IV246AX5RBFAZ2KTSQDFD4', 'name': 'projects/earthengine-legacy/operations/H3IV246AX5RBFAZ2KTSQDFD4'}\n",
      "Task ID: LMK7AEEXB6MJ5KFZW7XRPOID, Status: {'state': 'FAILED', 'description': 'fractional_abundances', 'priority': 100, 'creation_timestamp_ms': 1722379559317, 'update_timestamp_ms': 1722379566977, 'start_timestamp_ms': 1722379566304, 'task_type': 'EXPORT_IMAGE', 'attempt': 1, 'error_message': \"Image.addBands, argument 'dstImg': Invalid type.\\nExpected type: Image<unknown bands>.\\nActual type: List<Float>.\\nActual value: [14611.983050847457, 17625.79661016949, 16727.389830508473, 14660.338983050848, 14422.915254237287, 14164.983050847455, 11888.271186440677, 5208.237288135593, 5177.237288135592, 24608.864406779656, 5038.220338983051, 30048.0, 0.0, 7321.0, 6345.0, 14333.610169491523, 393.38983050847463]\", 'id': 'LMK7AEEXB6MJ5KFZW7XRPOID', 'name': 'projects/earthengine-legacy/operations/LMK7AEEXB6MJ5KFZW7XRPOID'}\n",
      "Task ID: 4KYDCOVK2UUSFFXI4BACW2RA, Status: {'state': 'FAILED', 'description': 'SMA of TV', 'priority': 100, 'creation_timestamp_ms': 1722368939144, 'update_timestamp_ms': 1722368945171, 'start_timestamp_ms': 1722368944252, 'task_type': 'EXPORT_IMAGE', 'attempt': 1, 'error_message': \"Image.unmix, argument 'endmembers': Invalid type.\\nExpected type: List<List<Float>>.\\nActual type: Image<[array]>.\", 'id': '4KYDCOVK2UUSFFXI4BACW2RA', 'name': 'projects/earthengine-legacy/operations/4KYDCOVK2UUSFFXI4BACW2RA'}\n",
      "Task ID: FEXJXTUNYAZ6MNHSDICD7ZCB, Status: {'state': 'FAILED', 'description': 'SMA of TV', 'priority': 100, 'creation_timestamp_ms': 1722368854618, 'update_timestamp_ms': 1722368869515, 'start_timestamp_ms': 1722368866476, 'task_type': 'EXPORT_IMAGE', 'attempt': 1, 'error_message': \"ImageCollection.reduce: Error in map(ID=LC08_053116_20170104):\\nImage.select: Can't add a band named 'B4' to image because a band with this name already exists. Existing bands: [B4, B3].\", 'id': 'FEXJXTUNYAZ6MNHSDICD7ZCB', 'name': 'projects/earthengine-legacy/operations/FEXJXTUNYAZ6MNHSDICD7ZCB'}\n",
      "Task ID: MW43BB4MXSEFMQSIX6RNFZO3, Status: {'state': 'FAILED', 'description': 'SMA of TV', 'priority': 100, 'creation_timestamp_ms': 1722368694196, 'update_timestamp_ms': 1722368705052, 'start_timestamp_ms': 1722368702122, 'task_type': 'EXPORT_IMAGE', 'attempt': 1, 'error_message': \"reduce.mean: Error in map(ID=LC08_053116_20170104):\\nImage.select: Can't add a band named 'B4' to image because a band with this name already exists. Existing bands: [B4, B3].\", 'id': 'MW43BB4MXSEFMQSIX6RNFZO3', 'name': 'projects/earthengine-legacy/operations/MW43BB4MXSEFMQSIX6RNFZO3'}\n"
     ]
    },
    {
     "name": "stdout",
     "output_type": "stream",
     "text": [
      "Task ID: 4ZNXS5SJSQO4A2BP65R4V64X, Status: {'state': 'FAILED', 'description': 'SMA of TV', 'priority': 100, 'creation_timestamp_ms': 1722368596350, 'update_timestamp_ms': 1722368602577, 'start_timestamp_ms': 1722368601326, 'task_type': 'EXPORT_IMAGE', 'attempt': 1, 'error_message': \"ImageCollection.reduce: Error in map(ID=LC08_053116_20170104):\\nImage.select: Can't add a band named 'B4' to image because a band with this name already exists. Existing bands: [B4, B3].\", 'id': '4ZNXS5SJSQO4A2BP65R4V64X', 'name': 'projects/earthengine-legacy/operations/4ZNXS5SJSQO4A2BP65R4V64X'}\n",
      "Task ID: JGFLWOV5CMZSWZZEJHCQWQ4O, Status: {'state': 'FAILED', 'description': 'SMA of TV', 'priority': 100, 'creation_timestamp_ms': 1722365701305, 'update_timestamp_ms': 1722365711847, 'start_timestamp_ms': 1722365711340, 'task_type': 'EXPORT_IMAGE', 'attempt': 1, 'error_message': \"reduce.mean: Error in map(ID=LC08_053116_20170104):\\nImage.select: Can't add a band named 'B4' to image because a band with this name already exists. Existing bands: [B4, B3].\", 'id': 'JGFLWOV5CMZSWZZEJHCQWQ4O', 'name': 'projects/earthengine-legacy/operations/JGFLWOV5CMZSWZZEJHCQWQ4O'}\n",
      "Task ID: Z45RBRUW7HJSMMKDDZYZZENR, Status: {'state': 'FAILED', 'description': 'SMA of TV', 'priority': 100, 'creation_timestamp_ms': 1722364874333, 'update_timestamp_ms': 1722364879681, 'start_timestamp_ms': 1722364879121, 'task_type': 'EXPORT_IMAGE', 'attempt': 1, 'error_message': \"ImageCollection.reduce: Error in map(ID=LC08_053116_20170104):\\nImage.select: Can't add a band named 'B4' to image because a band with this name already exists. Existing bands: [B4, B3].\", 'id': 'Z45RBRUW7HJSMMKDDZYZZENR', 'name': 'projects/earthengine-legacy/operations/Z45RBRUW7HJSMMKDDZYZZENR'}\n",
      "Task ID: 5CPLMUZDX45UW3FLT4MKIN6W, Status: {'state': 'FAILED', 'description': 'SMA of TV', 'priority': 100, 'creation_timestamp_ms': 1722364677656, 'update_timestamp_ms': 1722364683424, 'start_timestamp_ms': 1722364682415, 'task_type': 'EXPORT_IMAGE', 'attempt': 1, 'error_message': \"reduce.mean: Error in map(ID=LC08_053116_20170104):\\nImage.select: Can't add a band named 'B4' to image because a band with this name already exists. Existing bands: [B4, B3].\", 'id': '5CPLMUZDX45UW3FLT4MKIN6W', 'name': 'projects/earthengine-legacy/operations/5CPLMUZDX45UW3FLT4MKIN6W'}\n",
      "Task ID: O445WVJCVWS4GZPYPVI6SCKS, Status: {'state': 'FAILED', 'description': 'SMA of Taylor Valley with dummy endmembers', 'priority': 100, 'creation_timestamp_ms': 1722364641562, 'update_timestamp_ms': 1722364650212, 'start_timestamp_ms': 1722364648140, 'task_type': 'EXPORT_IMAGE', 'attempt': 1, 'error_message': \"ImageCollection.reduce: Error in map(ID=LC08_053116_20170104):\\nImage.select: Can't add a band named 'B4' to image because a band with this name already exists. Existing bands: [B4, B3].\", 'id': 'O445WVJCVWS4GZPYPVI6SCKS', 'name': 'projects/earthengine-legacy/operations/O445WVJCVWS4GZPYPVI6SCKS'}\n",
      "Task ID: ULSVAOMU6WVUYNHIXAW24DXR, Status: {'state': 'FAILED', 'description': 'SMA of Taylor Valley with dummy endmembers', 'priority': 100, 'creation_timestamp_ms': 1722364132904, 'update_timestamp_ms': 1722364144342, 'start_timestamp_ms': 1722364143697, 'task_type': 'EXPORT_IMAGE', 'attempt': 1, 'error_message': \"reduce.mean: Error in map(ID=LC08_053116_20170104):\\nImage.select: Can't add a band named 'B4' to image because a band with this name already exists. Existing bands: [B4, B3].\", 'id': 'ULSVAOMU6WVUYNHIXAW24DXR', 'name': 'projects/earthengine-legacy/operations/ULSVAOMU6WVUYNHIXAW24DXR'}\n",
      "Task ID: PAWGHEXJFH26ZXY6T5GMZSOA, Status: {'state': 'FAILED', 'description': 'SMA of Taylor Valley with dummy endmembers', 'priority': 100, 'creation_timestamp_ms': 1722362084426, 'update_timestamp_ms': 1722362091069, 'start_timestamp_ms': 1722362090494, 'task_type': 'EXPORT_IMAGE', 'attempt': 1, 'error_message': \"ImageCollection.reduce: Error in map(ID=LC08_053116_20170104):\\nImage.select: Can't add a band named 'B4' to image because a band with this name already exists. Existing bands: [B4, B3].\", 'id': 'PAWGHEXJFH26ZXY6T5GMZSOA', 'name': 'projects/earthengine-legacy/operations/PAWGHEXJFH26ZXY6T5GMZSOA'}\n",
      "Task ID: G4WXD2FHIXOR7YJ34XCU6LO2, Status: {'state': 'FAILED', 'description': 'SMA of Taylor Valley with dummy endmembers', 'priority': 100, 'creation_timestamp_ms': 1722362076136, 'update_timestamp_ms': 1722362086521, 'start_timestamp_ms': 1722362085951, 'task_type': 'EXPORT_IMAGE', 'attempt': 1, 'error_message': \"ImageCollection.reduce: Error in map(ID=LC08_053116_20170104):\\nImage.select: Can't add a band named 'B4' to image because a band with this name already exists. Existing bands: [B4, B3].\", 'id': 'G4WXD2FHIXOR7YJ34XCU6LO2', 'name': 'projects/earthengine-legacy/operations/G4WXD2FHIXOR7YJ34XCU6LO2'}\n",
      "Task ID: F3HTQ2FACBIDJYN5NHANW2PB, Status: {'state': 'FAILED', 'description': 'SMA of Taylor Valley with dummy endmembers', 'priority': 100, 'creation_timestamp_ms': 1722361911697, 'update_timestamp_ms': 1722361918899, 'start_timestamp_ms': 1722361918106, 'task_type': 'EXPORT_IMAGE', 'attempt': 1, 'error_message': \"ImageCollection.reduce: Error in map(ID=LC08_053116_20170104):\\nImage.select: Can't add a band named 'B4' to image because a band with this name already exists. Existing bands: [B4, B3].\", 'id': 'F3HTQ2FACBIDJYN5NHANW2PB', 'name': 'projects/earthengine-legacy/operations/F3HTQ2FACBIDJYN5NHANW2PB'}\n",
      "Task ID: DJ2SUSRUF427LFPEQ5TVO24U, Status: {'state': 'FAILED', 'description': 'SMA of Taylor Valley with dummy endmembers', 'priority': 100, 'creation_timestamp_ms': 1722361714706, 'update_timestamp_ms': 1722361721670, 'start_timestamp_ms': 1722361721144, 'task_type': 'EXPORT_IMAGE', 'attempt': 1, 'error_message': \"ImageCollection.reduce: Error in map(ID=LC08_053116_20170104):\\nImage.select: Can't add a band named 'B4' to image because a band with this name already exists. Existing bands: [B4, B3].\", 'id': 'DJ2SUSRUF427LFPEQ5TVO24U', 'name': 'projects/earthengine-legacy/operations/DJ2SUSRUF427LFPEQ5TVO24U'}\n",
      "Task ID: 5YAXIE7PTYWKBD7G56NVGJPV, Status: {'state': 'FAILED', 'description': 'SMA of Taylor Valley with dummy endmembers', 'priority': 100, 'creation_timestamp_ms': 1722361616034, 'update_timestamp_ms': 1722361623927, 'start_timestamp_ms': 1722361623325, 'task_type': 'EXPORT_IMAGE', 'attempt': 1, 'error_message': \"ImageCollection.reduce: Error in map(ID=LC08_053116_20170104):\\nImage.select: Can't add a band named 'B4' to image because a band with this name already exists. Existing bands: [B4, B3].\", 'id': '5YAXIE7PTYWKBD7G56NVGJPV', 'name': 'projects/earthengine-legacy/operations/5YAXIE7PTYWKBD7G56NVGJPV'}\n",
      "Task ID: TVWV5X2KWGVMJ3BCK34G65FW, Status: {'state': 'FAILED', 'description': 'SMA of Taylor Valley with dummy endmembers', 'priority': 100, 'creation_timestamp_ms': 1722361426691, 'update_timestamp_ms': 1722361434119, 'start_timestamp_ms': 1722361431943, 'task_type': 'EXPORT_IMAGE', 'attempt': 1, 'error_message': \"Image.select: Band pattern 'sma' did not match any bands. Available bands: [B2, B3, B4, B5]\", 'id': 'TVWV5X2KWGVMJ3BCK34G65FW', 'name': 'projects/earthengine-legacy/operations/TVWV5X2KWGVMJ3BCK34G65FW'}\n",
      "Task ID: O6MMMYA4V4UESQ6OGO6LUPIG, Status: {'state': 'COMPLETED', 'description': 'SMA of Taylor Valley with dummy endmembers', 'priority': 100, 'creation_timestamp_ms': 1722357324782, 'update_timestamp_ms': 1722357351870, 'start_timestamp_ms': 1722357330278, 'task_type': 'EXPORT_IMAGE', 'destination_uris': ['https://drive.google.com/#folders/1bua8x5nW1lJ3nX68dNI0kApsH6y4JpNB'], 'attempt': 1, 'batch_eecu_usage_seconds': 1.937687635421753, 'id': 'O6MMMYA4V4UESQ6OGO6LUPIG', 'name': 'projects/earthengine-legacy/operations/O6MMMYA4V4UESQ6OGO6LUPIG'}\n",
      "Task ID: Q3XO3ZVNL2AIGWAGUDAQXGDA, Status: {'state': 'FAILED', 'description': 'SMA of Taylor Valley with dummy endmembers', 'priority': 100, 'creation_timestamp_ms': 1722356684155, 'update_timestamp_ms': 1722356693343, 'start_timestamp_ms': 1722356692782, 'task_type': 'EXPORT_IMAGE', 'attempt': 1, 'error_message': \"Image.unmix, argument 'endmembers': Invalid type.\\nExpected type: List<List<Float>>.\\nActual type: Image<[array]>.\", 'id': 'Q3XO3ZVNL2AIGWAGUDAQXGDA', 'name': 'projects/earthengine-legacy/operations/Q3XO3ZVNL2AIGWAGUDAQXGDA'}\n",
      "Task ID: RDHMU5GU5WPR7W4CB4AORN7E, Status: {'state': 'FAILED', 'description': 'SMA of Taylor Valley with dummy endmembers', 'priority': 100, 'creation_timestamp_ms': 1722356620244, 'update_timestamp_ms': 1722356626050, 'start_timestamp_ms': 1722356625119, 'task_type': 'EXPORT_IMAGE', 'attempt': 1, 'error_message': \"Image.unmix, argument 'endmembers': Invalid type.\\nExpected type: List<List<Float>>.\\nActual type: Image<[array]>.\", 'id': 'RDHMU5GU5WPR7W4CB4AORN7E', 'name': 'projects/earthengine-legacy/operations/RDHMU5GU5WPR7W4CB4AORN7E'}\n",
      "Task ID: KA5WFZXY6KMNP3LX666VYTVP, Status: {'state': 'FAILED', 'description': 'SMA of Taylor Valley with dummy endmembers', 'priority': 100, 'creation_timestamp_ms': 1722356594536, 'update_timestamp_ms': 1722356602405, 'start_timestamp_ms': 1722356601716, 'task_type': 'EXPORT_IMAGE', 'attempt': 1, 'error_message': \"Image.unmix, argument 'endmembers': Invalid type.\\nExpected type: List<List<Float>>.\\nActual type: Image<[array]>.\", 'id': 'KA5WFZXY6KMNP3LX666VYTVP', 'name': 'projects/earthengine-legacy/operations/KA5WFZXY6KMNP3LX666VYTVP'}\n"
     ]
    },
    {
     "name": "stdout",
     "output_type": "stream",
     "text": [
      "Task ID: 4NIIEIN6DDGIZK52K22YNMFC, Status: {'state': 'FAILED', 'description': 'SMA of Taylor Valley with dummy endmembers', 'priority': 100, 'creation_timestamp_ms': 1722356453024, 'update_timestamp_ms': 1722356457996, 'start_timestamp_ms': 1722356457575, 'task_type': 'EXPORT_IMAGE', 'attempt': 1, 'error_message': \"Image.unmix, argument 'endmembers': Invalid type.\\nExpected type: List<List<Float>>.\\nActual type: Image<[array]>.\", 'id': '4NIIEIN6DDGIZK52K22YNMFC', 'name': 'projects/earthengine-legacy/operations/4NIIEIN6DDGIZK52K22YNMFC'}\n",
      "Task ID: BCAY2HYM2FMX7RIAJG5CNRAL, Status: {'state': 'FAILED', 'description': 'SMA of Taylor Valley with dummy endmembers', 'priority': 100, 'creation_timestamp_ms': 1722356432679, 'update_timestamp_ms': 1722356438626, 'start_timestamp_ms': 1722356437667, 'task_type': 'EXPORT_IMAGE', 'attempt': 1, 'error_message': \"Image.unmix, argument 'endmembers': Invalid type.\\nExpected type: List<List<Float>>.\\nActual type: Image<[array]>.\", 'id': 'BCAY2HYM2FMX7RIAJG5CNRAL', 'name': 'projects/earthengine-legacy/operations/BCAY2HYM2FMX7RIAJG5CNRAL'}\n",
      "Task ID: MAZIDRSM7QKAXURQHRRDAKOA, Status: {'state': 'COMPLETED', 'description': 'SMA of Taylor Valley with dummy endmembers', 'priority': 100, 'creation_timestamp_ms': 1722356353585, 'update_timestamp_ms': 1722356385379, 'start_timestamp_ms': 1722356359441, 'task_type': 'EXPORT_IMAGE', 'destination_uris': ['https://drive.google.com/#folders/1nWuZhmTI4ZpwuU_ba4tbVTr9hFSKksem'], 'attempt': 1, 'batch_eecu_usage_seconds': 1.7980365753173828, 'id': 'MAZIDRSM7QKAXURQHRRDAKOA', 'name': 'projects/earthengine-legacy/operations/MAZIDRSM7QKAXURQHRRDAKOA'}\n",
      "Task ID: J4DWSREIL6PXP7VF3LHYDUMX, Status: {'state': 'COMPLETED', 'description': 'SMA of Taylor Valley with dummy endmembers', 'priority': 100, 'creation_timestamp_ms': 1722356205096, 'update_timestamp_ms': 1722356237999, 'start_timestamp_ms': 1722356211926, 'task_type': 'EXPORT_IMAGE', 'destination_uris': ['https://drive.google.com/#folders/1DwEgKluWuHjA6k3et3m8tNQbYVkcEPQv'], 'attempt': 1, 'batch_eecu_usage_seconds': 2.7970330715179443, 'id': 'J4DWSREIL6PXP7VF3LHYDUMX', 'name': 'projects/earthengine-legacy/operations/J4DWSREIL6PXP7VF3LHYDUMX'}\n",
      "Task ID: OMX7IELUFGAVBPWV5GF4GQPP, Status: {'state': 'COMPLETED', 'description': 'SMA of Taylor Valley with dummy endmembers', 'priority': 100, 'creation_timestamp_ms': 1722355654006, 'update_timestamp_ms': 1722355689997, 'start_timestamp_ms': 1722355661810, 'task_type': 'EXPORT_IMAGE', 'destination_uris': ['https://drive.google.com/#folders/1DwEgKluWuHjA6k3et3m8tNQbYVkcEPQv'], 'attempt': 1, 'batch_eecu_usage_seconds': 2.36303973197937, 'id': 'OMX7IELUFGAVBPWV5GF4GQPP', 'name': 'projects/earthengine-legacy/operations/OMX7IELUFGAVBPWV5GF4GQPP'}\n",
      "Task ID: M6TJZZPVKLHSF2YNCL4CJOCB, Status: {'state': 'FAILED', 'description': 'SMA of Taylor Valley with dummy endmembers', 'priority': 100, 'creation_timestamp_ms': 1722355628714, 'update_timestamp_ms': 1722355635598, 'start_timestamp_ms': 1722355634997, 'task_type': 'EXPORT_IMAGE', 'attempt': 1, 'error_message': \"Image.unmix, argument 'endmembers': Invalid type.\\nExpected type: List<List<Float>>.\\nActual type: Image<[array]>.\", 'id': 'M6TJZZPVKLHSF2YNCL4CJOCB', 'name': 'projects/earthengine-legacy/operations/M6TJZZPVKLHSF2YNCL4CJOCB'}\n",
      "Task ID: PUB2T7Y6KQZQXWOD4PLMOG2Y, Status: {'state': 'FAILED', 'description': 'SMA of Taylor Valley with dummy endmembers', 'priority': 100, 'creation_timestamp_ms': 1722355569206, 'update_timestamp_ms': 1722355579025, 'start_timestamp_ms': 1722355578355, 'task_type': 'EXPORT_IMAGE', 'attempt': 1, 'error_message': \"Image.unmix, argument 'endmembers': Invalid type.\\nExpected type: List<List<Float>>.\\nActual type: Image<[array]>.\", 'id': 'PUB2T7Y6KQZQXWOD4PLMOG2Y', 'name': 'projects/earthengine-legacy/operations/PUB2T7Y6KQZQXWOD4PLMOG2Y'}\n",
      "Task ID: PXAOKLRHXYT4VNIJRL263YGH, Status: {'state': 'COMPLETED', 'description': 'SMA of Taylor Valley with dummy endmembers', 'priority': 100, 'creation_timestamp_ms': 1722355457983, 'update_timestamp_ms': 1722355488585, 'start_timestamp_ms': 1722355462157, 'task_type': 'EXPORT_IMAGE', 'destination_uris': ['https://drive.google.com/#folders/1DwEgKluWuHjA6k3et3m8tNQbYVkcEPQv'], 'attempt': 1, 'batch_eecu_usage_seconds': 2.215017318725586, 'id': 'PXAOKLRHXYT4VNIJRL263YGH', 'name': 'projects/earthengine-legacy/operations/PXAOKLRHXYT4VNIJRL263YGH'}\n",
      "Task ID: O7DT6BLGJWS3Q37KLP5JHT2Q, Status: {'state': 'COMPLETED', 'description': 'SMA_Export', 'priority': 100, 'creation_timestamp_ms': 1722355190447, 'update_timestamp_ms': 1722355253329, 'start_timestamp_ms': 1722355195222, 'task_type': 'EXPORT_IMAGE', 'destination_uris': ['https://drive.google.com/#folders/1DwEgKluWuHjA6k3et3m8tNQbYVkcEPQv'], 'attempt': 1, 'batch_eecu_usage_seconds': 5.252835750579834, 'id': 'O7DT6BLGJWS3Q37KLP5JHT2Q', 'name': 'projects/earthengine-legacy/operations/O7DT6BLGJWS3Q37KLP5JHT2Q'}\n",
      "Task ID: 7GWDCOXIXMUJJLA5BIN4PTZ6, Status: {'state': 'FAILED', 'description': 'SMA_Export', 'priority': 100, 'creation_timestamp_ms': 1722355166534, 'update_timestamp_ms': 1722355176304, 'start_timestamp_ms': 1722355175677, 'task_type': 'EXPORT_IMAGE', 'attempt': 1, 'error_message': \"Image.unmix, argument 'endmembers': Invalid type.\\nExpected type: List<List<Float>>.\\nActual type: Image<[array]>.\", 'id': '7GWDCOXIXMUJJLA5BIN4PTZ6', 'name': 'projects/earthengine-legacy/operations/7GWDCOXIXMUJJLA5BIN4PTZ6'}\n",
      "Task ID: ESBEICMHC54V2BF7EYFIVVKA, Status: {'state': 'FAILED', 'description': 'SMA_Export', 'priority': 100, 'creation_timestamp_ms': 1722355015494, 'update_timestamp_ms': 1722355022325, 'start_timestamp_ms': 1722355021769, 'task_type': 'EXPORT_IMAGE', 'attempt': 1, 'error_message': \"Image.unmix, argument 'endmembers': Invalid type.\\nExpected type: List<List<Float>>.\\nActual type: Image<[array]>.\", 'id': 'ESBEICMHC54V2BF7EYFIVVKA', 'name': 'projects/earthengine-legacy/operations/ESBEICMHC54V2BF7EYFIVVKA'}\n",
      "Task ID: KIZQYHLWKYTP6BSXFPZRW2QX, Status: {'state': 'FAILED', 'description': 'SMA_Export', 'priority': 100, 'creation_timestamp_ms': 1722354379790, 'update_timestamp_ms': 1722354385114, 'start_timestamp_ms': 1722354384300, 'task_type': 'EXPORT_IMAGE', 'attempt': 1, 'error_message': \"Image.unmix, argument 'endmembers': Invalid type.\\nExpected type: List<List<Float>>.\\nActual type: Image<[array]>.\", 'id': 'KIZQYHLWKYTP6BSXFPZRW2QX', 'name': 'projects/earthengine-legacy/operations/KIZQYHLWKYTP6BSXFPZRW2QX'}\n",
      "Task ID: UIXR3GGGKH5VHGFNUJJET7IV, Status: {'state': 'FAILED', 'description': 'SMA_Export', 'priority': 100, 'creation_timestamp_ms': 1722354285739, 'update_timestamp_ms': 1722354292789, 'start_timestamp_ms': 1722354292161, 'task_type': 'EXPORT_IMAGE', 'attempt': 1, 'error_message': \"Image.unmix, argument 'endmembers': Invalid type.\\nExpected type: List<List<Float>>.\\nActual type: Image<[array]>.\", 'id': 'UIXR3GGGKH5VHGFNUJJET7IV', 'name': 'projects/earthengine-legacy/operations/UIXR3GGGKH5VHGFNUJJET7IV'}\n",
      "Task ID: 2AE2KWDRZUEUZ7DIIAW2OU7D, Status: {'state': 'FAILED', 'description': 'SMA_Export', 'priority': 100, 'creation_timestamp_ms': 1722353937586, 'update_timestamp_ms': 1722353944163, 'start_timestamp_ms': 1722353943648, 'task_type': 'EXPORT_IMAGE', 'attempt': 1, 'error_message': \"Image.unmix, argument 'endmembers': Invalid type.\\nExpected type: List<List<Float>>.\\nActual type: Image<[array]>.\", 'id': '2AE2KWDRZUEUZ7DIIAW2OU7D', 'name': 'projects/earthengine-legacy/operations/2AE2KWDRZUEUZ7DIIAW2OU7D'}\n",
      "Task ID: ABMDX5TJJWII765SW26IQTVM, Status: {'state': 'FAILED', 'description': 'SMA_Export', 'priority': 100, 'creation_timestamp_ms': 1722353883712, 'update_timestamp_ms': 1722353891041, 'start_timestamp_ms': 1722353890381, 'task_type': 'EXPORT_IMAGE', 'attempt': 1, 'error_message': \"Image.unmix, argument 'endmembers': Invalid type.\\nExpected type: List<List<Float>>.\\nActual type: Image<[array]>.\", 'id': 'ABMDX5TJJWII765SW26IQTVM', 'name': 'projects/earthengine-legacy/operations/ABMDX5TJJWII765SW26IQTVM'}\n",
      "Task ID: 7JUUTAOLHZSO6KB54DAHZDL3, Status: {'state': 'FAILED', 'description': 'SMA_Export', 'priority': 100, 'creation_timestamp_ms': 1722353831245, 'update_timestamp_ms': 1722353844113, 'start_timestamp_ms': 1722353843530, 'task_type': 'EXPORT_IMAGE', 'attempt': 1, 'error_message': \"Image.unmix, argument 'endmembers': Invalid type.\\nExpected type: List<List<Float>>.\\nActual type: Image<[array]>.\", 'id': '7JUUTAOLHZSO6KB54DAHZDL3', 'name': 'projects/earthengine-legacy/operations/7JUUTAOLHZSO6KB54DAHZDL3'}\n",
      "Task ID: PNG4JNDENT2D7B5IXXXNNBOV, Status: {'state': 'FAILED', 'description': 'SMA_Export', 'priority': 100, 'creation_timestamp_ms': 1722352056110, 'update_timestamp_ms': 1722352066075, 'start_timestamp_ms': 1722352064973, 'task_type': 'EXPORT_IMAGE', 'attempt': 1, 'error_message': \"Image.unmix, argument 'endmembers': Invalid type.\\nExpected type: List<List<Float>>.\\nActual type: Image<[array]>.\", 'id': 'PNG4JNDENT2D7B5IXXXNNBOV', 'name': 'projects/earthengine-legacy/operations/PNG4JNDENT2D7B5IXXXNNBOV'}\n",
      "Export task started. Check Google Drive for results.\n"
     ]
    }
   ],
   "source": [
    "# allows to check for errors in google drive upload that don't show up as an\n",
    "# outright error in the above code chunk. \n",
    "# Monitor tasks\n",
    "def monitor_tasks():\n",
    "    tasks = ee.batch.Task.list()\n",
    "    for task in tasks:\n",
    "        print(f'Task ID: {task.id}, Status: {task.status()}')\n",
    "\n",
    "# Print status of all tasks\n",
    "monitor_tasks()\n",
    "\n",
    "print(\"Export task started. Check Google Drive for results.\")"
   ]
  }
 ],
 "metadata": {
  "kernelspec": {
   "display_name": "Python 3 (ipykernel)",
   "language": "python",
   "name": "python3"
  },
  "language_info": {
   "codemirror_mode": {
    "name": "ipython",
    "version": 3
   },
   "file_extension": ".py",
   "mimetype": "text/x-python",
   "name": "python",
   "nbconvert_exporter": "python",
   "pygments_lexer": "ipython3",
   "version": "3.9.13"
  }
 },
 "nbformat": 4,
 "nbformat_minor": 5
}
