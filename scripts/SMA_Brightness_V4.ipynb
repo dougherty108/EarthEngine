{
 "cells": [
  {
   "cell_type": "code",
   "execution_count": 2,
   "metadata": {},
   "outputs": [],
   "source": [
    "import ee\n",
    "ee.Authenticate()\n",
    "ee.Initialize()\n"
   ]
  },
  {
   "cell_type": "code",
   "execution_count": 3,
   "metadata": {},
   "outputs": [],
   "source": [
    "# Define the ROIs (already provided)\n",
    "roi_for_brightness = ee.Geometry.Polygon(\n",
    "    [[163.05418845709113, -77.62217141675877], \n",
    "    [163.04800864752082, -77.61908009873933], \n",
    "    [163.0795943408802, -77.61422077772508], \n",
    "    [163.08302756841925, -77.61569349746868],\n",
    "    [163.09813376959113, -77.60950691594756], \n",
    "    [163.1407057910755, -77.60567560295046], \n",
    "    [163.15924521978644, -77.60228539245952], \n",
    "    [163.1736647754505, -77.60140083961204], \n",
    "    [163.17435142095832, -77.5996315475443],\n",
    "    [163.18259116705207, -77.59786200695194],\n",
    "    [163.19769736822394, -77.60125340809783], \n",
    "    [163.21417686041144, -77.60184312380088], \n",
    "    [163.2505690723255, -77.59874680831578], \n",
    "    [163.25812217291144, -77.60036878277327],\n",
    "    [163.25400229986457, -77.60302247238047],\n",
    "    [163.25468894537238, -77.60493867830638], \n",
    "    [163.25880881841925, -77.60670722499943], \n",
    "    [163.2334029346302, -77.60788611813062], \n",
    "    [163.21967002447394, -77.60655985559598],\n",
    "    [163.20799705084113, -77.60980158403946],\n",
    "    [163.21280356939582, -77.61156944773495], \n",
    "    [163.19357749517707, -77.61716604483516], \n",
    "    [163.18121787603644, -77.6155462332516], \n",
    "    [163.15237876470832, -77.61687154915111],\n",
    "    [163.14894553716925, -77.62025783330262],\n",
    "    [163.12010642584113, -77.62231860342517], \n",
    "    [163.10637351568488, -77.62217141675877], \n",
    "    [163.0795943408802, -77.61893287416414], \n",
    "    [163.06448813970832, -77.61849119009841],\n",
    "    [163.06723472173957, -77.62099386140082],\n",
    "    [163.06448813970832, -77.6226129715892],\n",
    "    [163.05418845709113, -77.62217141675877]]\n",
    ")\n",
    "\n"
   ]
  },
  {
   "cell_type": "code",
   "execution_count": 4,
   "metadata": {},
   "outputs": [],
   "source": [
    "# Define ROI for soil\n",
    "roi_soil = ee.Geometry.Rectangle([163.078070, -77.625204, 163.07800, -77.625340])\n",
    "\n",
    "# Pull image\n",
    "soil1 = ee.Image('LANDSAT/LC08/C02/T2_TOA/LC08_055116_20231205').select(['B2', 'B3', 'B4', 'B5', 'B6', 'B7', 'B8'])\n",
    "\n",
    "# Clip image down to ROI for soil\n",
    "soil = soil1.clip(roi_soil)\n",
    "\n",
    "# Reduce down to mean for endmembers\n",
    "soil_mean_defined = soil.reduceRegion(ee.Reducer.mean()).values()"
   ]
  },
  {
   "cell_type": "code",
   "execution_count": 5,
   "metadata": {},
   "outputs": [
    {
     "name": "stdout",
     "output_type": "stream",
     "text": [
      "Step 1: Brightness calculation complete.\n",
      "Step 2: Brightness sampled.\n",
      "Step 3: Points sorted by brightness.\n",
      "Step 4: Top N brightest points selected.\n",
      "Step 5: Mean values computed for 3x3 windows.\n",
      "Step 6: Band means extracted.\n",
      "Step 7: Aggregated values into a list.\n",
      "Function executed successfully. Result:\n",
      "[[None, None, None, None, None, None, None]]\n"
     ]
    }
   ],
   "source": [
    "# Function to select the brightest pixels and compute 3x3 averages\n",
    "def select_brightest_pixels_and_average(image, roi, n=1):\n",
    "    # Step 1: Compute brightness as the sum of selected bands\n",
    "    brightness = image.select(['B2', 'B3', 'B4', 'B5', 'B6']).reduce(ee.Reducer.sum())\n",
    "    print(\"Step 1: Brightness calculation complete.\")\n",
    "\n",
    "    # Step 2: Sample brightness values within the region of interest\n",
    "    sampled_points = brightness.sample(region=roi, scale=30, numPixels=1000)\n",
    "    print(\"Step 2: Brightness sampled.\")\n",
    "\n",
    "    # Step 3: Sort sampled points by brightness\n",
    "    sorted_points = sampled_points.sort('sum', False)\n",
    "    print(\"Step 3: Points sorted by brightness.\")\n",
    "\n",
    "    # Step 4: Select the top N brightest points\n",
    "    top_n_brightest_points = sorted_points.limit(n)\n",
    "    print(\"Step 4: Top N brightest points selected.\")\n",
    "\n",
    "    # Step 5: Compute the mean values for a 3x3 window around each point\n",
    "    def compute_mean_of_window(feature):\n",
    "        coords = feature.geometry().coordinates()\n",
    "        # Safeguard: Check if coordinates are valid\n",
    "        valid = ee.Algorithms.IsEqual(coords.length(), 2)\n",
    "        return ee.Algorithms.If(\n",
    "            valid,\n",
    "            # Valid coordinates: Compute mean within the buffer\n",
    "            feature.set(\n",
    "                image.reduceRegion(\n",
    "                    reducer=ee.Reducer.mean(),\n",
    "                    geometry=ee.Geometry.Point(coords).buffer(90),\n",
    "                    scale=30\n",
    "                )\n",
    "            ),\n",
    "            # Invalid coordinates: Return the feature unchanged\n",
    "            feature\n",
    "        )\n",
    "\n",
    "    means = top_n_brightest_points.map(compute_mean_of_window)\n",
    "    print(\"Step 5: Mean values computed for 3x3 windows.\")\n",
    "\n",
    "    # Step 6: Extract the band means from the computed features\n",
    "    def extract_band_means(feature):\n",
    "        band_names = image.bandNames()\n",
    "        values = band_names.map(lambda band: feature.get(band))\n",
    "        return ee.Feature(None, {'values': values})\n",
    "\n",
    "    features_with_values = means.map(extract_band_means)\n",
    "    print(\"Step 6: Band means extracted.\")\n",
    "\n",
    "    # Step 7: Aggregate the results into a list of values\n",
    "    aggregated_values = features_with_values.aggregate_array('values')\n",
    "    print(\"Step 7: Aggregated values into a list.\")\n",
    "\n",
    "    return aggregated_values\n",
    "\n",
    "# Test the function with added debugging\n",
    "try:\n",
    "    test_result = select_brightest_pixels_and_average(soil1, roi_for_brightness, n=1)\n",
    "    print(\"Function executed successfully. Result:\")\n",
    "    print(test_result.getInfo())  # Check the output\n",
    "except Exception as e:\n",
    "    print(f\"Error encountered: {e}\")\n"
   ]
  },
  {
   "cell_type": "code",
   "execution_count": 30,
   "metadata": {},
   "outputs": [
    {
     "name": "stdout",
     "output_type": "stream",
     "text": [
      "Step 1: Brightness calculation complete. {'type': 'Image', 'bands': [{'id': 'sum', 'data_type': {'type': 'PixelType', 'precision': 'double'}, 'crs': 'PROJCS[\"PS         WGS84\", \\n  GEOGCS[\"WGS 84\", \\n    DATUM[\"WGS_1984\", \\n      SPHEROID[\"WGS 84\", 6378137.0, 298.257223563]], \\n    PRIMEM[\"Greenwich\", 0.0, AUTHORITY[\"EPSG\",\"8901\"]], \\n    UNIT[\"degree\", 0.017453292519943295], \\n    AXIS[\"Longitude\", EAST], \\n    AXIS[\"Latitude\", NORTH], \\n    AUTHORITY[\"EPSG\",\"4326\"]], \\n  PROJECTION[\"Polar_Stereographic\"], \\n  PARAMETER[\"central_meridian\", 0.0], \\n  PARAMETER[\"latitude_of_origin\", -71.0], \\n  PARAMETER[\"scale_factor\", 1.0], \\n  PARAMETER[\"false_easting\", 0.0], \\n  PARAMETER[\"false_northing\", 0.0], \\n  UNIT[\"m\", 1.0], \\n  AXIS[\"Easting\", EAST], \\n  AXIS[\"Northing\", NORTH]]', 'crs_transform': [30, 0, 238785, 0, -30, -1109985]}], 'properties': {'system:footprint': {'type': 'LinearRing', 'coordinates': [[161.92785075166503, -74.64120616103985], [160.30380216402287, -74.17853433739408], [159.39676109449948, -74.40085634313785], [156.58763877542984, -75.03217863987075], [153.2253002055224, -75.68555352745564], [149.5031469692837, -76.29361505506924], [150.88180801677018, -76.79360700875392], [153.05702102056932, -77.49865443277434], [155.23336628847565, -78.11643770732213], [156.94866031009883, -78.55108075172633], [159.38391812212947, -79.10052258419016], [159.46837659195222, -79.11772243018625], [161.13058739164904, -78.8249593110097], [163.4615225618042, -78.37009741443617], [166.29225895407546, -77.73691997390009], [168.83771678646582, -77.07775151046627], [170.61564926508643, -76.55741995712798], [168.01836969879704, -76.06907451872492], [164.76658992487262, -75.36173514365295], [161.92785075166503, -74.64120616103985]]}}}\n",
      "Step 2: Brightness sampled.\n",
      "Step 3: Points sorted by brightness.\n",
      "Step 4: Top N brightest points selected.\n",
      "Step 5: Mean values computed for 3x3 windows.\n",
      "{'type': 'FeatureCollection', 'columns': {}, 'properties': {'band_order': ['sum']}, 'features': [{'type': 'Feature', 'geometry': None, 'id': '20', 'properties': {'sum': 3.4021564964205027}}]}\n",
      "Step 6: Band means extracted.\n",
      "{'type': 'FeatureCollection', 'columns': {}, 'properties': {'band_order': ['sum']}, 'features': [{'type': 'Feature', 'geometry': None, 'id': '20', 'properties': {'values': [None, None, None, None, None, None, None]}}]}\n",
      "Step 7: Aggregated values into a list.\n",
      "Function executed successfully. Result:\n",
      "[[None, None, None, None, None, None, None]]\n"
     ]
    }
   ],
   "source": [
    "# Function to select the brightest pixels and compute 3x3 averages\n",
    "def select_brightest_pixels_and_average(image, roi, n=1):\n",
    "    # Step 1: Compute brightness as the sum of selected bands\n",
    "    brightness = image.select(['B2', 'B3', 'B4', 'B5', 'B6']).reduce(ee.Reducer.sum())\n",
    "    print(\"Step 1: Brightness calculation complete.\", brightness.getInfo())\n",
    "\n",
    "    # Step 2: Sample brightness values within the region of interest\n",
    "    sampled_points = brightness.sample(region=roi, scale=30, numPixels=1000)\n",
    "    print(\"Step 2: Brightness sampled.\")\n",
    "\n",
    "    # Step 3: Sort sampled points by brightness\n",
    "    sorted_points = sampled_points.sort('sum', False)\n",
    "    print(\"Step 3: Points sorted by brightness.\")\n",
    "\n",
    "    # Step 4: Select the top N brightest points\n",
    "    top_n_brightest_points = sorted_points.limit(n)\n",
    "    print(\"Step 4: Top N brightest points selected.\")\n",
    "\n",
    "    # Step 5: Compute the mean values for a 3x3 window around each point\n",
    "    def compute_mean_of_window(feature):\n",
    "        coords = feature.geometry().coordinates()\n",
    "        valid = ee.Algorithms.IsEqual(coords.length(), 2)\n",
    "        return ee.Algorithms.If(\n",
    "            valid,\n",
    "            # Valid coordinates: Compute mean within the buffer\n",
    "            feature.set(\n",
    "                image.reduceRegion(\n",
    "                    reducer=ee.Reducer.mean(),\n",
    "                    geometry=ee.Geometry.Point(coords).buffer(90),  # Increased buffer size\n",
    "                    scale=30,\n",
    "                    maxPixels=54808  # Adjust to handle edge cases with larger buffers\n",
    "                )\n",
    "            ),\n",
    "            # Invalid coordinates: Return the feature unchanged\n",
    "            feature\n",
    "        )\n",
    "\n",
    "    means = top_n_brightest_points.map(compute_mean_of_window)\n",
    "    print(\"Step 5: Mean values computed for 3x3 windows.\")\n",
    "\n",
    "    print(means.getInfo())\n",
    "\n",
    "    # Step 6: Extract the band means from the computed features\n",
    "    def extract_band_means(feature):\n",
    "        band_names = image.bandNames()\n",
    "        values = band_names.map(lambda band: feature.get(band))\n",
    "        return ee.Feature(None, {'values': values})\n",
    "\n",
    "    features_with_values = means.map(extract_band_means)\n",
    "    print(\"Step 6: Band means extracted.\")\n",
    "    print(features_with_values.getInfo())\n",
    "\n",
    "    # Step 7: Aggregate the results into a list of values\n",
    "    aggregated_values = features_with_values.aggregate_array('values')\n",
    "    print(\"Step 7: Aggregated values into a list.\")\n",
    "\n",
    "    return aggregated_values\n",
    "\n",
    "# Test the function with added debugging\n",
    "try:\n",
    "    test_result = select_brightest_pixels_and_average(soil1, roi_for_brightness, n=1)\n",
    "    print(\"Function executed successfully. Result:\")\n",
    "    print(test_result.getInfo())  # Check the output\n",
    "except Exception as e:\n",
    "    print(f\"Error encountered: {e}\")\n"
   ]
  },
  {
   "cell_type": "code",
   "execution_count": 31,
   "metadata": {},
   "outputs": [
    {
     "name": "stdout",
     "output_type": "stream",
     "text": [
      "Step 1: Brightness calculation complete. {'type': 'Image', 'bands': [{'id': 'sum', 'data_type': {'type': 'PixelType', 'precision': 'double'}, 'crs': 'PROJCS[\"PS         WGS84\", \\n  GEOGCS[\"WGS 84\", \\n    DATUM[\"WGS_1984\", \\n      SPHEROID[\"WGS 84\", 6378137.0, 298.257223563]], \\n    PRIMEM[\"Greenwich\", 0.0, AUTHORITY[\"EPSG\",\"8901\"]], \\n    UNIT[\"degree\", 0.017453292519943295], \\n    AXIS[\"Longitude\", EAST], \\n    AXIS[\"Latitude\", NORTH], \\n    AUTHORITY[\"EPSG\",\"4326\"]], \\n  PROJECTION[\"Polar_Stereographic\"], \\n  PARAMETER[\"central_meridian\", 0.0], \\n  PARAMETER[\"latitude_of_origin\", -71.0], \\n  PARAMETER[\"scale_factor\", 1.0], \\n  PARAMETER[\"false_easting\", 0.0], \\n  PARAMETER[\"false_northing\", 0.0], \\n  UNIT[\"m\", 1.0], \\n  AXIS[\"Easting\", EAST], \\n  AXIS[\"Northing\", NORTH]]', 'crs_transform': [30, 0, 238785, 0, -30, -1109985]}], 'properties': {'system:footprint': {'type': 'LinearRing', 'coordinates': [[161.92785075166503, -74.64120616103985], [160.30380216402287, -74.17853433739408], [159.39676109449948, -74.40085634313785], [156.58763877542984, -75.03217863987075], [153.2253002055224, -75.68555352745564], [149.5031469692837, -76.29361505506924], [150.88180801677018, -76.79360700875392], [153.05702102056932, -77.49865443277434], [155.23336628847565, -78.11643770732213], [156.94866031009883, -78.55108075172633], [159.38391812212947, -79.10052258419016], [159.46837659195222, -79.11772243018625], [161.13058739164904, -78.8249593110097], [163.4615225618042, -78.37009741443617], [166.29225895407546, -77.73691997390009], [168.83771678646582, -77.07775151046627], [170.61564926508643, -76.55741995712798], [168.01836969879704, -76.06907451872492], [164.76658992487262, -75.36173514365295], [161.92785075166503, -74.64120616103985]]}}}\n",
      "Step 2: Brightness sampled.\n",
      "Step 3: Points sorted by brightness.\n",
      "Step 4: Top N brightest points selected.\n",
      "Step 5: Mean values computed for 3x3 windows.\n",
      "{'type': 'FeatureCollection', 'columns': {}, 'properties': {'band_order': ['sum']}, 'features': [{'type': 'Feature', 'geometry': None, 'id': '685', 'properties': {'sum': 2.024657290428877}}]}\n",
      "Step 6: Band means extracted.\n",
      "{'type': 'FeatureCollection', 'columns': {}, 'properties': {'band_order': ['sum']}, 'features': [{'type': 'Feature', 'geometry': None, 'id': '685', 'properties': {'values': [None, None, None, None, None, None, None]}}]}\n",
      "Step 7: Aggregated values into a list.\n"
     ]
    }
   ],
   "source": [
    "# Define a point of interest\n",
    "roi_fortest = ee.Geometry.BBox(162.1, -77.73, 163.3, -77.59)\n",
    "t = select_brightest_pixels_and_average(soil1, roi_box, n=1)"
   ]
  },
  {
   "cell_type": "code",
   "execution_count": 32,
   "metadata": {},
   "outputs": [
    {
     "name": "stdout",
     "output_type": "stream",
     "text": [
      "[[None, None, None, None, None, None, None]]\n"
     ]
    }
   ],
   "source": [
    "print(t.getInfo())"
   ]
  },
  {
   "cell_type": "code",
   "execution_count": null,
   "metadata": {},
   "outputs": [],
   "source": []
  },
  {
   "cell_type": "code",
   "execution_count": 6,
   "metadata": {},
   "outputs": [],
   "source": [
    "# Function to define endmembers\n",
    "def define_endmembers(image, roi, roi_soil, n=1):\n",
    "    brightest_pixel_means = select_brightest_pixels_and_average(image, roi, n)\n",
    "\n",
    "    if ee.List(brightest_pixel_means).size().getInfo() == 0:\n",
    "        print(\"Error: No valid brightest pixel means calculated.\")\n",
    "        return None\n",
    "\n",
    "    soil_mean = soil_mean_defined\n",
    "    endmembers = ee.List([brightest_pixel_means, soil_mean])\n",
    "    return endmembers"
   ]
  },
  {
   "cell_type": "code",
   "execution_count": 7,
   "metadata": {},
   "outputs": [],
   "source": [
    "# Function to perform spectral unmixing\n",
    "def perform_unmixing(image, endmembers):\n",
    "    if endmembers is None:\n",
    "        return None\n",
    "\n",
    "    brightest_pixel_means = endmembers.get(0)\n",
    "    soil_mean = endmembers.get(1)\n",
    "    unmixed_image = image.unmix([brightest_pixel_means, soil_mean])\n",
    "    return unmixed_image.set('system:time_start', image.get('system:time_start'))"
   ]
  },
  {
   "cell_type": "code",
   "execution_count": 16,
   "metadata": {},
   "outputs": [],
   "source": [
    "simple_point = ee.Geometry.Point([163.07807, -77.625204])  # Replace with a valid coordinate in your ROI\n"
   ]
  },
  {
   "cell_type": "code",
   "execution_count": 19,
   "metadata": {},
   "outputs": [],
   "source": [
    "#define a new ROI that is potentially simpler\n",
    "roi_box = ee.Geometry.Polygon(\n",
    "    [[163.12698754679585, -77.6073690739641], \n",
    "    [163.16406640421772, -77.60946879016157], \n",
    "    [163.15445336710835, -77.61628124600912], \n",
    "    [163.11823281657124, -77.6140353843151],\n",
    "    [163.12698754679585, -77.6073690739641]]\n",
    ")"
   ]
  },
  {
   "cell_type": "code",
   "execution_count": 29,
   "metadata": {},
   "outputs": [
    {
     "name": "stdout",
     "output_type": "stream",
     "text": [
      "Sampled Brightness: {'type': 'FeatureCollection', 'columns': {}, 'properties': {'band_order': ['sum']}, 'features': [{'type': 'Feature', 'geometry': None, 'id': '0', 'properties': {'sum': 0.8648965060710907}}]}\n",
      "Band Means: {'B2': 0.4712624362655445, 'B3': 0.44842190014003747, 'B4': 0.4312333929459873, 'B5': 0.29466057632094433, 'B6': 0.022114755705100693, 'B7': 0.02000321287229315, 'B8': 0.8845274059586611}\n"
     ]
    }
   ],
   "source": [
    "def test_with_simple_geometry(image, point_geometry):\n",
    "    # Calculate brightness as the sum of selected bands\n",
    "    brightness = image.select(['B2', 'B3', 'B4', 'B5', 'B6']).reduce(ee.Reducer.sum())\n",
    "\n",
    "    # Sample brightness at the simple point\n",
    "    sampled_brightness = brightness.sample(region=point_geometry, scale=30, numPixels=1)\n",
    "    print(\"Sampled Brightness:\", sampled_brightness.getInfo())\n",
    "\n",
    "    # Compute mean values within a 3x3 window around the simple point\n",
    "    buffer = point_geometry.buffer(90)  # 3x3 Landsat pixel window\n",
    "    band_means = image.reduceRegion(\n",
    "        reducer=ee.Reducer.mean(),\n",
    "        geometry=buffer,\n",
    "        scale=30,\n",
    "        maxPixels=54808\n",
    "    )\n",
    "    print(\"Band Means:\", band_means.getInfo())\n",
    "\n",
    "# Run the test with the simple point\n",
    "try:\n",
    "    test_with_simple_geometry(soil1, roi_for_brightness)\n",
    "except Exception as e:\n",
    "    print(f\"Error encountered during simple geometry test: {e}\")"
   ]
  },
  {
   "cell_type": "code",
   "execution_count": 26,
   "metadata": {},
   "outputs": [
    {
     "name": "stdout",
     "output_type": "stream",
     "text": [
      "Sampled Brightness: {'type': 'FeatureCollection', 'columns': {}, 'properties': {'band_order': ['sum']}, 'features': [{'type': 'Feature', 'geometry': None, 'id': '0', 'properties': {'sum': 1.776140340603888}}]}\n",
      "Band Means: {'B2': 0.4551902374176419, 'B3': 0.43710820639887227, 'B4': 0.42775998972499985, 'B5': 0.30599613562037625, 'B6': 0.009323718265520914, 'B7': 0.00774588683653116, 'B8': 0.8868256822503188}\n"
     ]
    }
   ],
   "source": [
    "t2 = test_with_simple_geometry(soil1, roi_box)"
   ]
  }
 ],
 "metadata": {
  "kernelspec": {
   "display_name": "base",
   "language": "python",
   "name": "python3"
  },
  "language_info": {
   "codemirror_mode": {
    "name": "ipython",
    "version": 3
   },
   "file_extension": ".py",
   "mimetype": "text/x-python",
   "name": "python",
   "nbconvert_exporter": "python",
   "pygments_lexer": "ipython3",
   "version": "3.11.7"
  }
 },
 "nbformat": 4,
 "nbformat_minor": 2
}
