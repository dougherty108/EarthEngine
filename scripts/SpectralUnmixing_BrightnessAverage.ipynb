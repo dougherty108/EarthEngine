{
 "cells": [
  {
   "cell_type": "code",
   "execution_count": 9,
   "id": "8bab9951",
   "metadata": {},
   "outputs": [
    {
     "data": {
      "text/html": [
       "\n",
       "            <style>\n",
       "                .geemap-dark {\n",
       "                    --jp-widgets-color: white;\n",
       "                    --jp-widgets-label-color: white;\n",
       "                    --jp-ui-font-color1: white;\n",
       "                    --jp-layout-color2: #454545;\n",
       "                    background-color: #383838;\n",
       "                }\n",
       "\n",
       "                .geemap-dark .jupyter-button {\n",
       "                    --jp-layout-color3: #383838;\n",
       "                }\n",
       "\n",
       "                .geemap-colab {\n",
       "                    background-color: var(--colab-primary-surface-color, white);\n",
       "                }\n",
       "\n",
       "                .geemap-colab .jupyter-button {\n",
       "                    --jp-layout-color3: var(--colab-primary-surface-color, white);\n",
       "                }\n",
       "            </style>\n",
       "            "
      ],
      "text/plain": [
       "<IPython.core.display.HTML object>"
      ]
     },
     "metadata": {},
     "output_type": "display_data"
    }
   ],
   "source": [
    "import ee\n",
    "import geemap\n",
    "import pandas as pd\n",
    "import numpy as np"
   ]
  },
  {
   "cell_type": "code",
   "execution_count": null,
   "id": "8ea054d1",
   "metadata": {},
   "outputs": [],
   "source": [
    "def get_brightness(image):\n",
    "    \"\"\"\n",
    "    Compute the brightness of an image by summing the visible bands (B2, B3, B4).\n",
    "    You can also include infrared bands (e.g., B5, B6) if you want.\n",
    "    \"\"\"\n",
    "    brightness = image.select(['B2', 'B3', 'B4']).reduce(ee.Reducer.sum())\n",
    "    return brightness"
   ]
  },
  {
   "cell_type": "code",
   "execution_count": null,
   "id": "153e9b37",
   "metadata": {},
   "outputs": [],
   "source": [
    "def select_brightest_pixels(image, n=10):\n",
    "    \"\"\"\n",
    "    Select the n brightest pixels from the image based on brightness.\n",
    "    \"\"\"\n",
    "    # Compute brightness for each pixel\n",
    "    brightness = get_brightness(image)\n",
    "\n",
    "    # Sample the image to get all pixels in the region of interest (ROI)\n",
    "    sampled_points = brightness.sample(region=pointed, scale=30, numPixels=1000)\n",
    "\n",
    "    # Sort the points by brightness in descending order\n",
    "    sorted_points = sampled_points.sort('sum', False)\n",
    "\n",
    "    # Take the top n brightest points\n",
    "    top_n_brightest_points = sorted_points.limit(n)\n",
    "\n",
    "    return top_n_brightest_points"
   ]
  },
  {
   "cell_type": "code",
   "execution_count": null,
   "id": "21d09256",
   "metadata": {},
   "outputs": [],
   "source": [
    "def get_average_of_brightest(image, n=10):\n",
    "    \"\"\"\n",
    "    For the top n brightest pixels, calculate the mean value for each band.\n",
    "    \"\"\"\n",
    "    brightest_points = select_brightest_pixels(image, n)\n",
    "    \n",
    "    # Calculate the mean for each band (e.g., B2, B3, B4, etc.)\n",
    "    means = brightest_points.reduceColumns(ee.Reducer.mean(), ['B2', 'B3', 'B4', 'B5', 'B6', 'B7', 'B8']).get('mean')\n",
    "    return ee.Dictionary(means)"
   ]
  },
  {
   "cell_type": "code",
   "execution_count": null,
   "id": "998d6c37",
   "metadata": {},
   "outputs": [],
   "source": [
    "def spectral_unmixing(image, n=10):\n",
    "    \"\"\"\n",
    "    Perform spectral unmixing using the average values of the top n brightest pixels as endmembers.\n",
    "    \"\"\"\n",
    "    # Get the average endmember values from the brightest pixels for each image\n",
    "    average_endmembers = get_average_of_brightest(image, n)\n",
    "    \n",
    "    # Convert the dictionary of mean values into a list (required format for unmixing)\n",
    "    endmembers = [\n",
    "        ee.List([average_endmembers.get('B2'), average_endmembers.get('B3'), average_endmembers.get('B4')]),\n",
    "        ee.List([average_endmembers.get('B5'), average_endmembers.get('B6'), average_endmembers.get('B7')]),\n",
    "    ]\n",
    "    \n",
    "    # Perform unmixing using the average endmembers\n",
    "    unmixed_image = image.unmix(endmembers, True, True)\n",
    "    \n",
    "    return unmixed_image.set('system:time_start', image.get('system:time_start'))"
   ]
  },
  {
   "cell_type": "code",
   "execution_count": null,
   "id": "ec330170",
   "metadata": {},
   "outputs": [],
   "source": [
    "def process_images():\n",
    "    image_list = l8_clipped_forexport.toList(l8_clipped.size().getInfo())\n",
    "    num_images = image_list.size().getInfo()\n",
    "    \n",
    "    for i in range(num_images):\n",
    "        image = ee.Image(image_list.get(i))\n",
    "        \n",
    "        # Apply the spectral unmixing using the average of the 10 brightest pixels\n",
    "        unmixed_image = spectral_unmixing(image)\n",
    "        \n",
    "        # Optionally export the unmixed image or process it further\n",
    "        # export_image(unmixed_image)  # Uncomment this line to export unmixed images\n",
    "        print(f\"Spectral unmixing completed for image with date {image.date().format('YYYY-MM-dd').getInfo()}.\")"
   ]
  },
  {
   "cell_type": "code",
   "execution_count": null,
   "id": "a806483b",
   "metadata": {},
   "outputs": [],
   "source": [
    "image_viz_params = {\n",
    "    'bands': ['B5', 'B4', 'B3'],\n",
    "    'min': 0,\n",
    "    'max': 0.5,\n",
    "    'gamma': [0.95, 1.1, 1],\n",
    "}\n",
    "\n",
    "Map = geemap.Map(zoom=10, center=[-77.616808, 163.077952])\n",
    "Map.addLayer(unmixed_example, image_viz_params, 'Unmixed Example')\n",
    "Map.addLayer(lake1, image_viz_params, 'Original RGB')\n",
    "Map.addLayer(roi_ice)\n",
    "Map"
   ]
  }
 ],
 "metadata": {
  "kernelspec": {
   "display_name": "Python 3 (ipykernel)",
   "language": "python",
   "name": "python3"
  },
  "language_info": {
   "codemirror_mode": {
    "name": "ipython",
    "version": 3
   },
   "file_extension": ".py",
   "mimetype": "text/x-python",
   "name": "python",
   "nbconvert_exporter": "python",
   "pygments_lexer": "ipython3",
   "version": "3.11.7"
  }
 },
 "nbformat": 4,
 "nbformat_minor": 5
}
