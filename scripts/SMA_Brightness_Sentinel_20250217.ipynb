{
 "cells": [
  {
   "cell_type": "code",
   "execution_count": 1,
   "metadata": {},
   "outputs": [],
   "source": [
    "import ee\n",
    "import geemap\n",
    "\n",
    "# Initialize Earth Engine\n",
    "ee.Authenticate()\n",
    "ee.Initialize()\n"
   ]
  },
  {
   "cell_type": "code",
   "execution_count": 383,
   "metadata": {},
   "outputs": [
    {
     "data": {
      "text/html": [
       "\n",
       "            <style>\n",
       "                .geemap-dark {\n",
       "                    --jp-widgets-color: white;\n",
       "                    --jp-widgets-label-color: white;\n",
       "                    --jp-ui-font-color1: white;\n",
       "                    --jp-layout-color2: #454545;\n",
       "                    background-color: #383838;\n",
       "                }\n",
       "\n",
       "                .geemap-dark .jupyter-button {\n",
       "                    --jp-layout-color3: #383838;\n",
       "                }\n",
       "\n",
       "                .geemap-colab {\n",
       "                    background-color: var(--colab-primary-surface-color, white);\n",
       "                }\n",
       "\n",
       "                .geemap-colab .jupyter-button {\n",
       "                    --jp-layout-color3: var(--colab-primary-surface-color, white);\n",
       "                }\n",
       "            </style>\n",
       "            "
      ],
      "text/plain": [
       "<IPython.core.display.HTML object>"
      ]
     },
     "metadata": {},
     "output_type": "display_data"
    }
   ],
   "source": [
    "# Define the ROIs (already provided)\n",
    "#adjusted to be purposefully sloppy around lake edges, need to include more soil \n",
    "roi_LF = ee.Geometry.Polygon([\n",
    "    [163.1841307370196,-77.59677387872982],\n",
    "    [163.1576948849688,-77.60097649476886],\n",
    "    [163.11512286348443,-77.60665148730044],\n",
    "    [163.08937365694146,-77.61166104297976],\n",
    "    [163.0584746090899,-77.61777294645421],\n",
    "    [163.06087786836724,-77.62189496331501],\n",
    "    [163.0698042599688,-77.62174777168963],\n",
    "    [163.11580950899224,-77.62285166688366],\n",
    "    [163.1518583981524,-77.62071738206735],\n",
    "    [163.19305712862115,-77.61733122165525],\n",
    "    [163.2174330441485,-77.61180835267379],\n",
    "    [163.26309497041802,-77.60738831170583],\n",
    "    [163.2675581662188,-77.59913341471547],\n",
    "    [163.25279528780084,-77.5969951040001],\n",
    "    [163.233912536336,-77.59345503355506],\n",
    "    [163.1841307370196,-77.59677387872982]\n",
    "]\n",
    ")\n",
    "\n",
    "ice_roi = ee.Geometry.Polygon([\n",
    "    [163.12698754679585, -77.6073690739641], \n",
    "    [163.16406640421772, -77.60946879016157], \n",
    "    [163.15445336710835, -77.61628124600912], \n",
    "    [163.11823281657124, -77.6140353843151],\n",
    "    [163.12698754679585, -77.6073690739641]\n",
    "])\n",
    "\n",
    "soil1_roi = ee.Geometry.Polygon([\n",
    "    [163.04956521240754,-77.6311749154374],\n",
    "    [163.06724633423372,-77.63518226440387],\n",
    "    [163.10226525513215,-77.6350719875021],\n",
    "    [163.12938775269075,-77.62966723311295],\n",
    "    [163.09574212280793,-77.6228988209557],\n",
    "    [163.06415642944856,-77.62426015312434],\n",
    "    [163.04956521240754,-77.6311749154374]\n",
    "])\n",
    "\n",
    "soil_roi = ee.Geometry.Polygon([\n",
    "    [163.06318430133064,-77.62358723917042],\n",
    "    [163.06536770146164,-77.62752081912194],\n",
    "    [163.10036527534731,-77.62741054162808],\n",
    "    [163.0987297839084,-77.6246917184371],\n",
    "    [163.09694352906067,-77.62210007992535],\n",
    "    [163.0633121018772,-77.62360820098931],\n",
    "    [163.06318430133064,-77.62358723917042]\n",
    "])\n",
    "\n",
    "# Define ROI for analysis\n",
    "roi_for_cropping = ee.Geometry.Polygon([\n",
    "    [163.24357885656732,-77.5812101682432],\n",
    "    [162.70112890539545,-77.64219641154588],\n",
    "    [162.74919409094232,-77.66275299707411],\n",
    "    [162.38939184484857,-77.70376522386023],\n",
    "    [162.25068945227045,-77.71808776695123],\n",
    "    [162.3028745108642,-77.73968659951969],\n",
    "    [163.33146948156732,-77.61630600197311],\n",
    "    [163.24357885656732,-77.5812101682432]\n",
    "    ]\n",
    "    )"
   ]
  },
  {
   "cell_type": "code",
   "execution_count": 384,
   "metadata": {},
   "outputs": [
    {
     "data": {
      "text/html": [
       "\n",
       "            <style>\n",
       "                .geemap-dark {\n",
       "                    --jp-widgets-color: white;\n",
       "                    --jp-widgets-label-color: white;\n",
       "                    --jp-ui-font-color1: white;\n",
       "                    --jp-layout-color2: #454545;\n",
       "                    background-color: #383838;\n",
       "                }\n",
       "\n",
       "                .geemap-dark .jupyter-button {\n",
       "                    --jp-layout-color3: #383838;\n",
       "                }\n",
       "\n",
       "                .geemap-colab {\n",
       "                    background-color: var(--colab-primary-surface-color, white);\n",
       "                }\n",
       "\n",
       "                .geemap-colab .jupyter-button {\n",
       "                    --jp-layout-color3: var(--colab-primary-surface-color, white);\n",
       "                }\n",
       "            </style>\n",
       "            "
      ],
      "text/plain": [
       "<IPython.core.display.HTML object>"
      ]
     },
     "metadata": {},
     "output_type": "display_data"
    }
   ],
   "source": [
    "pointed = ee.Geometry.BBox(162.1, -77.73, 163.3, -77.59)"
   ]
  },
  {
   "cell_type": "code",
   "execution_count": 406,
   "metadata": {},
   "outputs": [
    {
     "data": {
      "text/html": [
       "\n",
       "            <style>\n",
       "                .geemap-dark {\n",
       "                    --jp-widgets-color: white;\n",
       "                    --jp-widgets-label-color: white;\n",
       "                    --jp-ui-font-color1: white;\n",
       "                    --jp-layout-color2: #454545;\n",
       "                    background-color: #383838;\n",
       "                }\n",
       "\n",
       "                .geemap-dark .jupyter-button {\n",
       "                    --jp-layout-color3: #383838;\n",
       "                }\n",
       "\n",
       "                .geemap-colab {\n",
       "                    background-color: var(--colab-primary-surface-color, white);\n",
       "                }\n",
       "\n",
       "                .geemap-colab .jupyter-button {\n",
       "                    --jp-layout-color3: var(--colab-primary-surface-color, white);\n",
       "                }\n",
       "            </style>\n",
       "            "
      ],
      "text/plain": [
       "<IPython.core.display.HTML object>"
      ]
     },
     "metadata": {},
     "output_type": "display_data"
    }
   ],
   "source": [
    "## add the image collection\n",
    "ids = ee.List([\"Sentinel-2A_2015-12-18\", \"Sentinel-2A_2015-12-21\", \"Sentinel-2A_2015-12-27\",\n",
    "               \"Sentinel-2A_2015-12-28\", \"Sentinel-2A_2015-12-29\", \"Sentinel-2A_2015-12-31\", \n",
    "               \"Sentinel-2A_2016-01-07\", \"Sentinel-2A_2016-01-13\", \"Sentinel-2A_2016-01-14\", \n",
    "               \"Sentinel-2A_2016-01-23\", \"Sentinel-2A_2016-02-02\", \"Sentinel-2A_2016-02-05\", \n",
    "               \"Sentinel-2A_2016-02-19\", \"Sentinel-2A_2016-10-24\", \"Sentinel-2A_2016-10-26\", \n",
    "               \"Sentinel-2A_2016-10-30\", \"Sentinel-2A_2016-11-01\", \"Sentinel-2A_2016-11-03\", \n",
    "               \"Sentinel-2A_2016-11-05\", \"Sentinel-2A_2016-11-06\", \"Sentinel-2A_2016-11-08\", \n",
    "               \"Sentinel-2A_2016-11-09\", \"Sentinel-2A_2016-12-12\", \"Sentinel-2A_2016-12-13\", \n",
    "               \"Sentinel-2A_2016-12-15\", \"Sentinel-2A_2016-12-18\", \"Sentinel-2A_2016-12-19\", \n",
    "               \"Sentinel-2A_2016-12-25\", \"Sentinel-2A_2017-01-02\", \"Sentinel-2A_2017-01-08\", \n",
    "               \"Sentinel-2A_2017-01-14\", \"Sentinel-2A_2017-01-15\", \"Sentinel-2A_2017-01-18\", \n",
    "               \"Sentinel-2A_2017-01-24\", \"Sentinel-2A_2017-01-25\", \"Sentinel-2A_2017-01-27\", \n",
    "               \"Sentinel-2A_2017-01-28\", \"Sentinel-2A_2017-01-30\", \"Sentinel-2A_2017-01-31\", \n",
    "               \"Sentinel-2A_2017-02-01\", \"Sentinel-2A_2017-02-10\", \"Sentinel-2A_2017-02-11\", \n",
    "               \"Sentinel-2A_2017-02-14\", \"Sentinel-2A_2017-02-16\", \"Sentinel-2A_2017-02-19\", \n",
    "               \"Sentinel-2A_2017-02-20\", \"Sentinel-2A_2017-03-08\", \"Sentinel-2A_2018-01-12\", \n",
    "               \"Sentinel-2A_2018-01-23\", \"Sentinel-2A_2018-02-12\", \"Sentinel-2B_2018-02-17\", \n",
    "               \"Sentinel-2B_2018-10-15\", \"Sentinel-2B_2018-10-24\", \"Sentinel-2B_2018-11-24\", \n",
    "               \"Sentinel-2B_2019-02-21\", \"Sentinel-2B_2019-02-22\", \"Sentinel-2B_2019-09-29\", \n",
    "               \"Sentinel-2B_2019-10-09\", \"Sentinel-2B_2019-10-19\", \"Sentinel-2B_2019-10-20\", \n",
    "               \"Sentinel-2B_2019-10-29\", \"Sentinel-2B_2019-11-08\", \"Sentinel-2B_2019-11-09\", \n",
    "               \"Sentinel-2B_2019-11-18\", \"Sentinel-2B_2019-11-19\", \"Sentinel-2B_2020-02-06\", \n",
    "               \"Sentinel-2B_2020-03-07\", \"Sentinel-2B_2020-03-08\", \"Sentinel-2B_2020-10-23\", \n",
    "               \"Sentinel-2B_2020-10-24\", \"Sentinel-2B_2020-11-03\", \"Sentinel-2B_2020-11-12\", \n",
    "               \"Sentinel-2B_2020-11-22\", \"Sentinel-2B_2020-11-23\", \"Sentinel-2B_2020-12-02\", \n",
    "               \"Sentinel-2B_2020-12-03\", \"Sentinel-2B_2021-01-01\", \"Sentinel-2B_2021-01-12\", \n",
    "               \"Sentinel-2B_2021-01-13\", \"Sentinel-2B_2021-01-21\", \"Sentinel-2B_2021-01-22\", \n",
    "               \"Sentinel-2B_2021-01-23\", \"Sentinel-2B_2021-02-01\", \"Sentinel-2B_2021-02-11\",\n",
    "               \"Sentinel-2B_2021-03-02\", \"Sentinel-2B_2021-10-08\", \"Sentinel-2B_2021-10-09\", \n",
    "               \"Sentinel-2B_2021-10-29\", \"Sentinel-2B_2021-11-07\", \"Sentinel-2B_2021-11-08\", \n",
    "               \"Sentinel-2B_2021-11-17\", \"Sentinel-2B_2021-11-18\", \"Sentinel-2B_2021-12-07\", \n",
    "               \"Sentinel-2B_2021-12-08\", \"Sentinel-2B_2021-12-18\", \"Sentinel-2B_2021-12-28\", \n",
    "               \"Sentinel-2B_2022-01-07\", \"Sentinel-2B_2022-01-16\", \"Sentinel-2B_2022-01-27\", \n",
    "               \"Sentinel-2B_2022-02-25\", \"Sentinel-2B_2022-10-11\", \"Sentinel-2B_2022-10-13\",\n",
    "               \"Sentinel-2B_2022-10-17\", \"Sentinel-2B_2022-10-31\", \"Sentinel-2B_2022-11-02\",\n",
    "               \"Sentinel-2B_2022-11-12\", \"Sentinel-2B_2022-11-16\", \"Sentinel-2B_2022-11-22\",\n",
    "               \"Sentinel-2B_2022-12-06\", \"Sentinel-2B_2022-12-10\", \"Sentinel-2B_2022-12-16\",\n",
    "               \"Sentinel-2B_2022-12-26\", \"Sentinel-2B_2023-01-01\", \"Sentinel-2B_2023-01-09\",\n",
    "               \"Sentinel-2B_2023-01-11\", \"Sentinel-2B_2023-01-15\", \"Sentinel-2B_2023-02-03\",\n",
    "               \"Sentinel-2B_2023-02-08\", \"Sentinel-2B_2023-02-13\", \"Sentinel-2B_2023-02-14\", \n",
    "               \"Sentinel-2B_2023-02-28\", \"Sentinel-2B_2023-03-02\", \"Sentinel-2B_2023-03-06\", \n",
    "               \"Sentinel-2B_2023-10-06\", \"Sentinel-2B_2023-10-08\", \"Sentinel-2B_2023-10-12\", \n",
    "               \"Sentinel-2B_2023-10-16\", \"Sentinel-2B_2023-11-01\", \"Sentinel-2B_2023-11-15\", \n",
    "               \"Sentinel-2B_2023-11-17\", \"Sentinel-2B_2023-11-21\", \"Sentinel-2B_2023-12-01\", \n",
    "               \"Sentinel-2B_2023-12-05\", \"Sentinel-2B_2023-12-07\", \"Sentinel-2B_2023-12-11\", \n",
    "               \"Sentinel-2B_2023-12-15\", \"Sentinel-2B_2024-01-04\", \"Sentinel-2B_2024-01-10\", \n",
    "               \"Sentinel-2B_2024-01-14\", \"Sentinel-2B_2024-01-26\", \"Sentinel-2B_2024-02-03\", \n",
    "               \"Sentinel-2B_2024-09-22\", \"Sentinel-2B_2024-10-06\", \"Sentinel-2B_2024-10-16\", \n",
    "               \"Sentinel-2B_2024-10-20\", \"Sentinel-2B_2024-10-22\", \"Sentinel-2B_2024-10-26\", \n",
    "               \"Sentinel-2B_2024-10-30\", \"Sentinel-2B_2024-11-09\", \"Sentinel-2B_2024-11-19\", \n",
    "               \"Sentinel-2B_2024-11-21\", \"Sentinel-2B_2024-11-29\", \"Sentinel-2B_2024-12-09\", \n",
    "               \"Sentinel-2B_2024-12-21\", #\"Sentinel-2B_2024-12-23\", \n",
    "               \"Sentinel-2B_2024-12-24\", \n",
    "               \"Sentinel-2B_2024-12-29\", \"Sentinel-2B_2024-12-31\", \"Sentinel-2B_2025-01-02\", \n",
    "               \"Sentinel-2B_2025-01-10\", \"Sentinel-2B_2025-01-18\", \"Sentinel-2B_2025-01-28\"])\n",
    "\n",
    "# Define start and end date for the image collection filter\n",
    "start_date = \"2015-03-06\"\n",
    "end_date = \"2025-01-01\""
   ]
  },
  {
   "cell_type": "code",
   "execution_count": 407,
   "metadata": {},
   "outputs": [
    {
     "data": {
      "text/html": [
       "\n",
       "            <style>\n",
       "                .geemap-dark {\n",
       "                    --jp-widgets-color: white;\n",
       "                    --jp-widgets-label-color: white;\n",
       "                    --jp-ui-font-color1: white;\n",
       "                    --jp-layout-color2: #454545;\n",
       "                    background-color: #383838;\n",
       "                }\n",
       "\n",
       "                .geemap-dark .jupyter-button {\n",
       "                    --jp-layout-color3: #383838;\n",
       "                }\n",
       "\n",
       "                .geemap-colab {\n",
       "                    background-color: var(--colab-primary-surface-color, white);\n",
       "                }\n",
       "\n",
       "                .geemap-colab .jupyter-button {\n",
       "                    --jp-layout-color3: var(--colab-primary-surface-color, white);\n",
       "                }\n",
       "            </style>\n",
       "            "
      ],
      "text/plain": [
       "<IPython.core.display.HTML object>"
      ]
     },
     "metadata": {},
     "output_type": "display_data"
    }
   ],
   "source": [
    "def addImageDate(image):\n",
    "    mission = image.get('SPACECRAFT_NAME')\n",
    "    date = image.date().format('YYYY-MM-dd')\n",
    "    missDate = ee.String(mission).cat('_').cat(ee.String(date))\n",
    "    return image.set('missDate', missDate)"
   ]
  },
  {
   "cell_type": "code",
   "execution_count": 408,
   "metadata": {},
   "outputs": [
    {
     "data": {
      "text/html": [
       "\n",
       "            <style>\n",
       "                .geemap-dark {\n",
       "                    --jp-widgets-color: white;\n",
       "                    --jp-widgets-label-color: white;\n",
       "                    --jp-ui-font-color1: white;\n",
       "                    --jp-layout-color2: #454545;\n",
       "                    background-color: #383838;\n",
       "                }\n",
       "\n",
       "                .geemap-dark .jupyter-button {\n",
       "                    --jp-layout-color3: #383838;\n",
       "                }\n",
       "\n",
       "                .geemap-colab {\n",
       "                    background-color: var(--colab-primary-surface-color, white);\n",
       "                }\n",
       "\n",
       "                .geemap-colab .jupyter-button {\n",
       "                    --jp-layout-color3: var(--colab-primary-surface-color, white);\n",
       "                }\n",
       "            </style>\n",
       "            "
      ],
      "text/plain": [
       "<IPython.core.display.HTML object>"
      ]
     },
     "metadata": {},
     "output_type": "display_data"
    }
   ],
   "source": [
    "def mosaic_by_date(imcol):\n",
    "    # Convert the image collection to a list of images\n",
    "    imlist = imcol.toList(imcol.size())\n",
    "    \n",
    "    # Get unique dates from the image collection\n",
    "    def get_date(image):\n",
    "        return ee.Image(image).date().format(\"YYYY-MM-dd\")\n",
    "    \n",
    "    unique_dates = imlist.map(lambda im: get_date(im)).distinct()\n",
    "\n",
    "    def create_mosaic(date_str):\n",
    "        date = ee.Date(date_str)\n",
    "        \n",
    "        # Filter images for that day and create a mosaic\n",
    "        mosaic = imcol.filterDate(date, date.advance(1, 'day')).mosaic()\n",
    "        \n",
    "        return mosaic.set({\n",
    "            'system:time_start': date.millis(),\n",
    "            'system:id': date.format('YYYY-MM-dd')\n",
    "        })\n",
    "\n",
    "    # Create mosaics for each unique date\n",
    "    mosaic_imlist = unique_dates.map(create_mosaic)\n",
    "    \n",
    "    return ee.ImageCollection(mosaic_imlist)"
   ]
  },
  {
   "cell_type": "code",
   "execution_count": 409,
   "metadata": {},
   "outputs": [
    {
     "data": {
      "text/html": [
       "\n",
       "            <style>\n",
       "                .geemap-dark {\n",
       "                    --jp-widgets-color: white;\n",
       "                    --jp-widgets-label-color: white;\n",
       "                    --jp-ui-font-color1: white;\n",
       "                    --jp-layout-color2: #454545;\n",
       "                    background-color: #383838;\n",
       "                }\n",
       "\n",
       "                .geemap-dark .jupyter-button {\n",
       "                    --jp-layout-color3: #383838;\n",
       "                }\n",
       "\n",
       "                .geemap-colab {\n",
       "                    background-color: var(--colab-primary-surface-color, white);\n",
       "                }\n",
       "\n",
       "                .geemap-colab .jupyter-button {\n",
       "                    --jp-layout-color3: var(--colab-primary-surface-color, white);\n",
       "                }\n",
       "            </style>\n",
       "            "
      ],
      "text/plain": [
       "<IPython.core.display.HTML object>"
      ]
     },
     "metadata": {},
     "output_type": "display_data"
    }
   ],
   "source": [
    "# Example usage with an image collection )\n",
    "s2 = ee.ImageCollection('COPERNICUS/S2_HARMONIZED')\\\n",
    "    .select(['B2', 'B3', 'B4', 'B8', 'B11', 'B12'])\\\n",
    "    .filterDate(start_date, end_date)\\\n",
    "    .map(addImageDate)\\\n",
    "    .filter(ee.Filter.inList(\"missDate\", ids))\\\n",
    "    .filter(ee.Filter.gt('MEAN_SOLAR_ZENITH_ANGLE',70))\\\n",
    "    .filterBounds(roi_for_cropping)\\\n",
    "    .sort('DATE_ACQUIRED')\n",
    "s3 = mosaic_by_date(s2)"
   ]
  },
  {
   "cell_type": "code",
   "execution_count": 410,
   "metadata": {},
   "outputs": [
    {
     "data": {
      "text/html": [
       "\n",
       "            <style>\n",
       "                .geemap-dark {\n",
       "                    --jp-widgets-color: white;\n",
       "                    --jp-widgets-label-color: white;\n",
       "                    --jp-ui-font-color1: white;\n",
       "                    --jp-layout-color2: #454545;\n",
       "                    background-color: #383838;\n",
       "                }\n",
       "\n",
       "                .geemap-dark .jupyter-button {\n",
       "                    --jp-layout-color3: #383838;\n",
       "                }\n",
       "\n",
       "                .geemap-colab {\n",
       "                    background-color: var(--colab-primary-surface-color, white);\n",
       "                }\n",
       "\n",
       "                .geemap-colab .jupyter-button {\n",
       "                    --jp-layout-color3: var(--colab-primary-surface-color, white);\n",
       "                }\n",
       "            </style>\n",
       "            "
      ],
      "text/plain": [
       "<IPython.core.display.HTML object>"
      ]
     },
     "metadata": {},
     "output_type": "display_data"
    },
    {
     "name": "stdout",
     "output_type": "stream",
     "text": [
      "60\n"
     ]
    }
   ],
   "source": [
    "# Clip all the images in the s3 collection down to the ROI\n",
    "def clip_image(image):\n",
    "    return image.clip(roi_for_cropping)\n",
    "\n",
    "# Apply clip to image collection\n",
    "copernicus_clipped = s3.map(clip_image)\n",
    "print(copernicus_clipped.size().getInfo())"
   ]
  },
  {
   "cell_type": "code",
   "execution_count": 411,
   "metadata": {},
   "outputs": [
    {
     "data": {
      "text/html": [
       "\n",
       "            <style>\n",
       "                .geemap-dark {\n",
       "                    --jp-widgets-color: white;\n",
       "                    --jp-widgets-label-color: white;\n",
       "                    --jp-ui-font-color1: white;\n",
       "                    --jp-layout-color2: #454545;\n",
       "                    background-color: #383838;\n",
       "                }\n",
       "\n",
       "                .geemap-dark .jupyter-button {\n",
       "                    --jp-layout-color3: #383838;\n",
       "                }\n",
       "\n",
       "                .geemap-colab {\n",
       "                    background-color: var(--colab-primary-surface-color, white);\n",
       "                }\n",
       "\n",
       "                .geemap-colab .jupyter-button {\n",
       "                    --jp-layout-color3: var(--colab-primary-surface-color, white);\n",
       "                }\n",
       "            </style>\n",
       "            "
      ],
      "text/plain": [
       "<IPython.core.display.HTML object>"
      ]
     },
     "metadata": {},
     "output_type": "display_data"
    }
   ],
   "source": [
    "# Function to calculate mean band values around a simple point\n",
    "# this function will be passed through the define endmembers \n",
    "def calculate_mean_band_values(image, point_geometry):\n",
    "    buffer = point_geometry.buffer(80)  #80 meter buffer radius, 4x4 pixel\n",
    "    band_means = image.reduceRegion(\n",
    "        reducer=ee.Reducer.mean(),\n",
    "        geometry=buffer,\n",
    "        scale=20,\n",
    "        maxPixels=1e8  # Adjusted based on sample size\n",
    "    )\n",
    "    return band_means"
   ]
  },
  {
   "cell_type": "code",
   "execution_count": 412,
   "metadata": {},
   "outputs": [
    {
     "data": {
      "text/html": [
       "\n",
       "            <style>\n",
       "                .geemap-dark {\n",
       "                    --jp-widgets-color: white;\n",
       "                    --jp-widgets-label-color: white;\n",
       "                    --jp-ui-font-color1: white;\n",
       "                    --jp-layout-color2: #454545;\n",
       "                    background-color: #383838;\n",
       "                }\n",
       "\n",
       "                .geemap-dark .jupyter-button {\n",
       "                    --jp-layout-color3: #383838;\n",
       "                }\n",
       "\n",
       "                .geemap-colab {\n",
       "                    background-color: var(--colab-primary-surface-color, white);\n",
       "                }\n",
       "\n",
       "                .geemap-colab .jupyter-button {\n",
       "                    --jp-layout-color3: var(--colab-primary-surface-color, white);\n",
       "                }\n",
       "            </style>\n",
       "            "
      ],
      "text/plain": [
       "<IPython.core.display.HTML object>"
      ]
     },
     "metadata": {},
     "output_type": "display_data"
    }
   ],
   "source": [
    "####### OLD VERSION OF THIS FUNCTION\n",
    "# Function to define endmembers\n",
    "def define_endmembies(image, roi, n=1):\n",
    "   # Calculate brightness\n",
    "    #brightness = image.select(['B2','B3', 'B4', 'B11', 'B12']).reduce(ee.Reducer.sum()).rename('brightness') #RGB and SWIR 1\n",
    "    brightness = image.select(['B11', 'B12']).reduce(ee.Reducer.sum()).rename('brightness') #SWIR 1 and 2\n",
    "\n",
    "    # Generate a grid of points\n",
    "    points = ee.FeatureCollection.randomPoints(region=roi_LF, points=6000)\n",
    "\n",
    "    # Calculate brightness for each point\n",
    "    points_with_brightness = brightness.reduceRegions(\n",
    "        collection=points,\n",
    "        reducer=ee.Reducer.mean(),\n",
    "        scale=20\n",
    "        )\n",
    "\n",
    "    # Sort points by brightness\n",
    "    brightest_point = points_with_brightness.sort('brightness', False).first()\n",
    "    brightest_geometry = ee.Feature(brightest_point).geometry()\n",
    "\n",
    "    # Filter out points near the brightest point\n",
    "    filtered_points = points_with_brightness.filter(ee.Filter.bounds(brightest_geometry.buffer(100)).Not())\n",
    "\n",
    "    # Find the dimmest point from the remaining points\n",
    "    dimmest_point = filtered_points.sort('brightness', True).first()\n",
    "    dimmest_geometry = ee.Feature(dimmest_point).geometry()\n",
    "\n",
    "    # Calculate mean band values for brightest and dimmest points\n",
    "    brightest_band_means = calculate_mean_band_values(image, brightest_geometry)\n",
    "    dimmest_band_means = calculate_mean_band_values(image, dimmest_geometry)\n",
    "\n",
    "    # Combine into endmembers\n",
    "    endmembers = ee.List([\n",
    "     brightest_band_means.values(),\n",
    "     dimmest_band_means.values()\n",
    "    ])\n",
    "    return endmembers\n"
   ]
  },
  {
   "cell_type": "code",
   "execution_count": 413,
   "metadata": {},
   "outputs": [
    {
     "data": {
      "text/html": [
       "\n",
       "            <style>\n",
       "                .geemap-dark {\n",
       "                    --jp-widgets-color: white;\n",
       "                    --jp-widgets-label-color: white;\n",
       "                    --jp-ui-font-color1: white;\n",
       "                    --jp-layout-color2: #454545;\n",
       "                    background-color: #383838;\n",
       "                }\n",
       "\n",
       "                .geemap-dark .jupyter-button {\n",
       "                    --jp-layout-color3: #383838;\n",
       "                }\n",
       "\n",
       "                .geemap-colab {\n",
       "                    background-color: var(--colab-primary-surface-color, white);\n",
       "                }\n",
       "\n",
       "                .geemap-colab .jupyter-button {\n",
       "                    --jp-layout-color3: var(--colab-primary-surface-color, white);\n",
       "                }\n",
       "            </style>\n",
       "            "
      ],
      "text/plain": [
       "<IPython.core.display.HTML object>"
      ]
     },
     "metadata": {},
     "output_type": "display_data"
    }
   ],
   "source": [
    "# NEW VERSION OF THIS FUNCTION TAKES A THREE POINT MEAN\n",
    "# NEED TO UPDATE SUCH THAT THE ICE AND SOIL ENDMEMBERS ARE PULLED FROM COMPLETELY DIFFERENT ROIS\n",
    "# Function to define endmembers\n",
    "def define_endmember(image, roi, n=1):\n",
    "    # Calculate brightness\n",
    "    brightness = copernicus_clipped.first().select(['B2', 'B3', 'B4', 'B11', 'B12']).reduce(ee.Reducer.sum()).rename('brightness')  # RGB and SWIR Bands\n",
    "\n",
    "    # Generate a grid of points\n",
    "    points = ee.FeatureCollection.randomPoints(region=roi_LF, points=2000)\n",
    "\n",
    "    # Calculate brightness for each point\n",
    "    points_with_brightness = brightness.reduceRegions(\n",
    "    collection=points,\n",
    "    reducer=ee.Reducer.mean(),\n",
    "    scale=20\n",
    "    )\n",
    "\n",
    "    # Sort points by brightness\n",
    "    sorted_points = points_with_brightness.sort('brightness', False)  # Descending order\n",
    "\n",
    "    # Select the top 3 brightest points\n",
    "    top_3_brightest = sorted_points.toList(3)\n",
    "    brightest_geometry = ee.FeatureCollection(top_3_brightest).geometry()\n",
    "\n",
    "    # Filter out points near the top 3 brightest points\n",
    "    #filtered_points = points_with_brightness.filterBounds(brightest_geometry.buffer(100)).Not()\n",
    "    filtered_points = points_with_brightness.filter(ee.Filter.bounds(brightest_geometry.buffer(100)).Not())\n",
    "\n",
    "    # Sort remaining points in ascending order (dimmest first)\n",
    "    sorted_filtered_points = filtered_points.sort('brightness', True)\n",
    "\n",
    "    # Select the bottom 3 dimmest points\n",
    "    bottom_3_dimmest = sorted_filtered_points.toList(3)\n",
    "    dimmest_geometry = ee.FeatureCollection(bottom_3_dimmest).geometry()\n",
    "\n",
    "    # Calculate mean band values for the brightest and dimmest points\n",
    "    brightest_band_means = calculate_mean_band_values(copernicus_clipped.first(), brightest_geometry)\n",
    "    dimmest_band_means = calculate_mean_band_values(copernicus_clipped.first(), dimmest_geometry)\n",
    "\n",
    "    # Combine into endmembers\n",
    "    endmembers = ee.List([\n",
    "    brightest_band_means.values(),\n",
    "    dimmest_band_means.values()\n",
    "    ])  \n",
    "    return endmembers\n"
   ]
  },
  {
   "cell_type": "code",
   "execution_count": 414,
   "metadata": {},
   "outputs": [
    {
     "data": {
      "text/html": [
       "\n",
       "            <style>\n",
       "                .geemap-dark {\n",
       "                    --jp-widgets-color: white;\n",
       "                    --jp-widgets-label-color: white;\n",
       "                    --jp-ui-font-color1: white;\n",
       "                    --jp-layout-color2: #454545;\n",
       "                    background-color: #383838;\n",
       "                }\n",
       "\n",
       "                .geemap-dark .jupyter-button {\n",
       "                    --jp-layout-color3: #383838;\n",
       "                }\n",
       "\n",
       "                .geemap-colab {\n",
       "                    background-color: var(--colab-primary-surface-color, white);\n",
       "                }\n",
       "\n",
       "                .geemap-colab .jupyter-button {\n",
       "                    --jp-layout-color3: var(--colab-primary-surface-color, white);\n",
       "                }\n",
       "            </style>\n",
       "            "
      ],
      "text/plain": [
       "<IPython.core.display.HTML object>"
      ]
     },
     "metadata": {},
     "output_type": "display_data"
    }
   ],
   "source": [
    "# Function to define endmembers from separate ROIs and averaging across top 3 of each type\n",
    "def define_endmembers(image, bright_roi, dim_roi, n=1):\n",
    "    # Calculate brightness for the bright ROI\n",
    "    brightness_bright = image.select(['B2', 'B3', 'B4']).reduce(ee.Reducer.sum()).rename('brightness')\n",
    "\n",
    "    # Generate a grid of points in the bright ROI\n",
    "    bright_points = ee.FeatureCollection.randomPoints(region=bright_roi, points=2000)\n",
    "\n",
    "    # Calculate brightness for each point in the bright ROI\n",
    "    bright_points_with_brightness = brightness_bright.reduceRegions(\n",
    "        collection=bright_points,\n",
    "        reducer=ee.Reducer.mean(),\n",
    "        scale=20\n",
    "    )\n",
    "\n",
    "    # Sort bright points by brightness (descending)\n",
    "    sorted_bright_points = bright_points_with_brightness.sort('brightness', False)\n",
    "\n",
    "    # Select the top 3 brightest points\n",
    "    top_3_brightest = sorted_bright_points.toList(n)\n",
    "    brightest_geometry = ee.FeatureCollection(top_3_brightest).geometry()\n",
    "\n",
    "    # Calculate brightness for the dim ROI\n",
    "    brightness_dim = image.select(['B2', 'B3', 'B4']).reduce(ee.Reducer.sum()).rename('brightness')\n",
    "\n",
    "    # Generate a grid of points in the dim ROI\n",
    "    dim_points = ee.FeatureCollection.randomPoints(region=dim_roi, points=2000)\n",
    "\n",
    "    # Calculate brightness for each point in the dim ROI\n",
    "    dim_points_with_brightness = brightness_dim.reduceRegions(\n",
    "        collection=dim_points,\n",
    "        reducer=ee.Reducer.mean(),\n",
    "        scale=20\n",
    "    )\n",
    "\n",
    "    # Sort dim points by brightness (ascending)\n",
    "    sorted_dim_points = dim_points_with_brightness.sort('brightness', True)\n",
    "\n",
    "    # Select the bottom 3 dimmest points\n",
    "    bottom_3_dimmest = sorted_dim_points.toList(n)\n",
    "    dimmest_geometry = ee.FeatureCollection(bottom_3_dimmest).geometry()\n",
    "\n",
    "    # Calculate mean band values for the brightest and dimmest points\n",
    "    brightest_band_means = calculate_mean_band_values(image, brightest_geometry)\n",
    "    dimmest_band_means = calculate_mean_band_values(image, dimmest_geometry)\n",
    "\n",
    "    # Combine into endmembers\n",
    "    endmembers = ee.List([\n",
    "        brightest_band_means.values(),\n",
    "        dimmest_band_means.values()\n",
    "    ])  \n",
    "\n",
    "    return endmembers\n"
   ]
  },
  {
   "cell_type": "code",
   "execution_count": 415,
   "metadata": {},
   "outputs": [
    {
     "data": {
      "text/html": [
       "\n",
       "            <style>\n",
       "                .geemap-dark {\n",
       "                    --jp-widgets-color: white;\n",
       "                    --jp-widgets-label-color: white;\n",
       "                    --jp-ui-font-color1: white;\n",
       "                    --jp-layout-color2: #454545;\n",
       "                    background-color: #383838;\n",
       "                }\n",
       "\n",
       "                .geemap-dark .jupyter-button {\n",
       "                    --jp-layout-color3: #383838;\n",
       "                }\n",
       "\n",
       "                .geemap-colab {\n",
       "                    background-color: var(--colab-primary-surface-color, white);\n",
       "                }\n",
       "\n",
       "                .geemap-colab .jupyter-button {\n",
       "                    --jp-layout-color3: var(--colab-primary-surface-color, white);\n",
       "                }\n",
       "            </style>\n",
       "            "
      ],
      "text/plain": [
       "<IPython.core.display.HTML object>"
      ]
     },
     "metadata": {},
     "output_type": "display_data"
    },
    {
     "name": "stdout",
     "output_type": "stream",
     "text": [
      "[[285.2080198806484, 279.52469021013303, 4222.123848325529, 3886.79561476172, 4166.927560732336, 3307.406099437052], [683.3259393161237, 530.1758514664144, 1898.960873090958, 1410.7817610487898, 1210.0149682389515, 950.8086227868633]]\n"
     ]
    }
   ],
   "source": [
    "outputs = define_endmembers(copernicus_clipped.first(), ice_roi, soil_roi)\n",
    "print(outputs.getInfo())"
   ]
  },
  {
   "cell_type": "code",
   "execution_count": 416,
   "metadata": {},
   "outputs": [
    {
     "data": {
      "text/html": [
       "\n",
       "            <style>\n",
       "                .geemap-dark {\n",
       "                    --jp-widgets-color: white;\n",
       "                    --jp-widgets-label-color: white;\n",
       "                    --jp-ui-font-color1: white;\n",
       "                    --jp-layout-color2: #454545;\n",
       "                    background-color: #383838;\n",
       "                }\n",
       "\n",
       "                .geemap-dark .jupyter-button {\n",
       "                    --jp-layout-color3: #383838;\n",
       "                }\n",
       "\n",
       "                .geemap-colab {\n",
       "                    background-color: var(--colab-primary-surface-color, white);\n",
       "                }\n",
       "\n",
       "                .geemap-colab .jupyter-button {\n",
       "                    --jp-layout-color3: var(--colab-primary-surface-color, white);\n",
       "                }\n",
       "            </style>\n",
       "            "
      ],
      "text/plain": [
       "<IPython.core.display.HTML object>"
      ]
     },
     "metadata": {},
     "output_type": "display_data"
    }
   ],
   "source": [
    "def unmix_image_collection(image_collection, bright_roi, dim_roi):\n",
    "    def unmix_image(image):\n",
    "        # Define endmembers for the current image\n",
    "        endmembers = define_endmembers(image, bright_roi, dim_roi)\n",
    "\n",
    "        # Apply the unmixing process\n",
    "        unmixed = image.select(['B2', 'B3', 'B4', 'B8', 'B11', 'B12']).unmix(endmembers, True, True)\n",
    "\n",
    "        # Rename unmixed bands for clarity\n",
    "        unmixed = unmixed.rename(['ice_endmember', 'soil_endmember'])\n",
    "\n",
    "        # Add properties for tracking\n",
    "        return unmixed.set('system:time_start', image.get('system:time_start'))\n",
    "\n",
    "    # Map the unmixing process over the image collection\n",
    "    unmixed_collection = image_collection.map(unmix_image)\n",
    "\n",
    "    return unmixed_collection"
   ]
  },
  {
   "cell_type": "code",
   "execution_count": 417,
   "metadata": {},
   "outputs": [
    {
     "data": {
      "text/html": [
       "\n",
       "            <style>\n",
       "                .geemap-dark {\n",
       "                    --jp-widgets-color: white;\n",
       "                    --jp-widgets-label-color: white;\n",
       "                    --jp-ui-font-color1: white;\n",
       "                    --jp-layout-color2: #454545;\n",
       "                    background-color: #383838;\n",
       "                }\n",
       "\n",
       "                .geemap-dark .jupyter-button {\n",
       "                    --jp-layout-color3: #383838;\n",
       "                }\n",
       "\n",
       "                .geemap-colab {\n",
       "                    background-color: var(--colab-primary-surface-color, white);\n",
       "                }\n",
       "\n",
       "                .geemap-colab .jupyter-button {\n",
       "                    --jp-layout-color3: var(--colab-primary-surface-color, white);\n",
       "                }\n",
       "            </style>\n",
       "            "
      ],
      "text/plain": [
       "<IPython.core.display.HTML object>"
      ]
     },
     "metadata": {},
     "output_type": "display_data"
    },
    {
     "name": "stdout",
     "output_type": "stream",
     "text": [
      "{'type': 'Image', 'bands': [{'id': 'ice_endmember', 'data_type': {'type': 'PixelType', 'precision': 'double'}, 'dimensions': [3, 2], 'origin': [161, -79], 'crs': 'EPSG:4326', 'crs_transform': [1, 0, 0, 0, 1, 0]}, {'id': 'soil_endmember', 'data_type': {'type': 'PixelType', 'precision': 'double'}, 'dimensions': [3, 2], 'origin': [161, -79], 'crs': 'EPSG:4326', 'crs_transform': [1, 0, 0, 0, 1, 0]}], 'properties': {'system:time_start': 1455840000000, 'system:index': '0'}}\n"
     ]
    },
    {
     "data": {
      "text/html": [
       "<div><style>:root {\n",
       "  --font-color-primary: var(--jp-content-font-color0, rgba(0, 0, 0, 1));\n",
       "  --font-color-secondary: var(--jp-content-font-color2, rgba(0, 0, 0, 0.6));\n",
       "  --font-color-accent: rgba(123, 31, 162, 1);\n",
       "  --border-color: var(--jp-border-color2, #e0e0e0);\n",
       "  --background-color: var(--jp-layout-color0, white);\n",
       "  --background-color-row-even: var(--jp-layout-color1, white);\n",
       "  --background-color-row-odd: var(--jp-layout-color2, #eeeeee);\n",
       "}\n",
       "\n",
       "html[theme=\"dark\"],\n",
       "body[data-theme=\"dark\"],\n",
       "body.vscode-dark {\n",
       "  --font-color-primary: rgba(255, 255, 255, 1);\n",
       "  --font-color-secondary: rgba(255, 255, 255, 0.6);\n",
       "  --font-color-accent: rgb(173, 132, 190);\n",
       "  --border-color: #2e2e2e;\n",
       "  --background-color: #111111;\n",
       "  --background-color-row-even: #111111;\n",
       "  --background-color-row-odd: #313131;\n",
       "}\n",
       "\n",
       ".ee {\n",
       "  padding: 1em;\n",
       "  line-height: 1.5em;\n",
       "  min-width: 300px;\n",
       "  max-width: 1200px;\n",
       "  overflow-y: scroll;\n",
       "  max-height: 600px;\n",
       "  border: 1px solid var(--border-color);\n",
       "  font-family: monospace;\n",
       "}\n",
       "\n",
       ".ee li {\n",
       "  list-style-type: none;\n",
       "}\n",
       "\n",
       ".ee ul {\n",
       "  padding-left: 1.5em !important;\n",
       "  margin: 0;\n",
       "}\n",
       "\n",
       ".ee > ul {\n",
       "  padding-left: 0 !important;\n",
       "}\n",
       "\n",
       ".ee-open,\n",
       ".ee-shut {\n",
       "  color: var(--font-color-secondary);\n",
       "  cursor: pointer;\n",
       "  margin: 0;\n",
       "}\n",
       "\n",
       ".ee-open:hover,\n",
       ".ee-shut:hover {\n",
       "  color: var(--font-color-primary);\n",
       "}\n",
       "\n",
       ".ee-k {\n",
       "  color: var(--font-color-accent);\n",
       "  margin-right: 6px;\n",
       "}\n",
       "\n",
       ".ee-v {\n",
       "  color: var(--font-color-primary);\n",
       "}\n",
       "\n",
       ".ee-toggle {\n",
       "  display: none;\n",
       "}\n",
       "\n",
       ".ee-shut + ul {\n",
       "  display: none;\n",
       "}\n",
       "\n",
       ".ee-open + ul {\n",
       "  display: block;\n",
       "}\n",
       "\n",
       ".ee-shut::before {\n",
       "  display: inline-block;\n",
       "  content: \"▼\";\n",
       "  margin-right: 6px;\n",
       "  transform: rotate(-90deg);\n",
       "  transition: transform 0.2s;\n",
       "}\n",
       "\n",
       ".ee-open::before {\n",
       "  transform: rotate(0deg);\n",
       "  display: inline-block;\n",
       "  content: \"▼\";\n",
       "  margin-right: 6px;\n",
       "  transition: transform 0.2s;\n",
       "}\n",
       "</style><div class='ee'><ul><li><label class='ee-shut'>Image (2 bands)<input type='checkbox' class='ee-toggle'></label><ul><li><span class='ee-k'>type:</span><span class='ee-v'>Image</span></li><li><label class='ee-shut'>bands: List (2 elements)<input type='checkbox' class='ee-toggle'></label><ul><li><label class='ee-shut'>0: \"ice_endmember\", double, EPSG:4326, 3x2 px<input type='checkbox' class='ee-toggle'></label><ul><li><span class='ee-k'>id:</span><span class='ee-v'>ice_endmember</span></li><li><span class='ee-k'>crs:</span><span class='ee-v'>EPSG:4326</span></li><li><label class='ee-shut'>crs_transform: [1, 0, 0, 0, 1, 0]<input type='checkbox' class='ee-toggle'></label><ul><li><span class='ee-k'>0:</span><span class='ee-v'>1</span></li><li><span class='ee-k'>1:</span><span class='ee-v'>0</span></li><li><span class='ee-k'>2:</span><span class='ee-v'>0</span></li><li><span class='ee-k'>3:</span><span class='ee-v'>0</span></li><li><span class='ee-k'>4:</span><span class='ee-v'>1</span></li><li><span class='ee-k'>5:</span><span class='ee-v'>0</span></li></ul></li><li><label class='ee-shut'>data_type: double<input type='checkbox' class='ee-toggle'></label><ul><li><span class='ee-k'>type:</span><span class='ee-v'>PixelType</span></li><li><span class='ee-k'>precision:</span><span class='ee-v'>double</span></li></ul></li><li><label class='ee-shut'>dimensions: [3, 2]<input type='checkbox' class='ee-toggle'></label><ul><li><span class='ee-k'>0:</span><span class='ee-v'>3</span></li><li><span class='ee-k'>1:</span><span class='ee-v'>2</span></li></ul></li><li><label class='ee-shut'>origin: [161, -79]<input type='checkbox' class='ee-toggle'></label><ul><li><span class='ee-k'>0:</span><span class='ee-v'>161</span></li><li><span class='ee-k'>1:</span><span class='ee-v'>-79</span></li></ul></li></ul></li><li><label class='ee-shut'>1: \"soil_endmember\", double, EPSG:4326, 3x2 px<input type='checkbox' class='ee-toggle'></label><ul><li><span class='ee-k'>id:</span><span class='ee-v'>soil_endmember</span></li><li><span class='ee-k'>crs:</span><span class='ee-v'>EPSG:4326</span></li><li><label class='ee-shut'>crs_transform: [1, 0, 0, 0, 1, 0]<input type='checkbox' class='ee-toggle'></label><ul><li><span class='ee-k'>0:</span><span class='ee-v'>1</span></li><li><span class='ee-k'>1:</span><span class='ee-v'>0</span></li><li><span class='ee-k'>2:</span><span class='ee-v'>0</span></li><li><span class='ee-k'>3:</span><span class='ee-v'>0</span></li><li><span class='ee-k'>4:</span><span class='ee-v'>1</span></li><li><span class='ee-k'>5:</span><span class='ee-v'>0</span></li></ul></li><li><label class='ee-shut'>data_type: double<input type='checkbox' class='ee-toggle'></label><ul><li><span class='ee-k'>type:</span><span class='ee-v'>PixelType</span></li><li><span class='ee-k'>precision:</span><span class='ee-v'>double</span></li></ul></li><li><label class='ee-shut'>dimensions: [3, 2]<input type='checkbox' class='ee-toggle'></label><ul><li><span class='ee-k'>0:</span><span class='ee-v'>3</span></li><li><span class='ee-k'>1:</span><span class='ee-v'>2</span></li></ul></li><li><label class='ee-shut'>origin: [161, -79]<input type='checkbox' class='ee-toggle'></label><ul><li><span class='ee-k'>0:</span><span class='ee-v'>161</span></li><li><span class='ee-k'>1:</span><span class='ee-v'>-79</span></li></ul></li></ul></li></ul></li><li><label class='ee-shut'>properties: Object (2 properties)<input type='checkbox' class='ee-toggle'></label><ul><li><span class='ee-k'>system:index:</span><span class='ee-v'>0</span></li><li><span class='ee-k'>system:time_start:</span><span class='ee-v'>1455840000000</span></li></ul></li></ul></li></ul></div><script>function toggleHeader() {\n",
       "    const parent = this.parentElement;\n",
       "    parent.className = parent.className === \"ee-open\" ? \"ee-shut\" : \"ee-open\";\n",
       "}\n",
       "\n",
       "for (let c of document.getElementsByClassName(\"ee-toggle\")) {\n",
       "    c.onclick = toggleHeader;\n",
       "}</script></div>"
      ],
      "text/plain": [
       "<ee.image.Image at 0x284266550>"
      ]
     },
     "metadata": {},
     "output_type": "display_data"
    }
   ],
   "source": [
    "# apply process to all images in collection\n",
    "result_collection = unmix_image_collection(copernicus_clipped, ice_roi, soil_roi)\n",
    "print(result_collection.first().getInfo())\n",
    "display(result_collection.first())\n"
   ]
  },
  {
   "cell_type": "code",
   "execution_count": 400,
   "metadata": {},
   "outputs": [
    {
     "data": {
      "text/html": [
       "\n",
       "            <style>\n",
       "                .geemap-dark {\n",
       "                    --jp-widgets-color: white;\n",
       "                    --jp-widgets-label-color: white;\n",
       "                    --jp-ui-font-color1: white;\n",
       "                    --jp-layout-color2: #454545;\n",
       "                    background-color: #383838;\n",
       "                }\n",
       "\n",
       "                .geemap-dark .jupyter-button {\n",
       "                    --jp-layout-color3: #383838;\n",
       "                }\n",
       "\n",
       "                .geemap-colab {\n",
       "                    background-color: var(--colab-primary-surface-color, white);\n",
       "                }\n",
       "\n",
       "                .geemap-colab .jupyter-button {\n",
       "                    --jp-layout-color3: var(--colab-primary-surface-color, white);\n",
       "                }\n",
       "            </style>\n",
       "            "
      ],
      "text/plain": [
       "<IPython.core.display.HTML object>"
      ]
     },
     "metadata": {},
     "output_type": "display_data"
    },
    {
     "data": {
      "application/vnd.jupyter.widget-view+json": {
       "model_id": "26275dde594a491a940d4431952b7e1d",
       "version_major": 2,
       "version_minor": 0
      },
      "text/plain": [
       "Map(center=[-77.6091387013167, 163.16942980628684], controls=(WidgetControl(options=['position', 'transparent_…"
      ]
     },
     "metadata": {},
     "output_type": "display_data"
    }
   ],
   "source": [
    "vis_params = {\n",
    "    'bands': ['B4', 'B3', 'B2'],  # Red, Green, Blue bands (for Sentinel-2 or Landsat 8)\n",
    "    'min': 0,\n",
    "    'max': 10000,  # Adjust based on the dataset's reflectance range\n",
    "    'gamma': 1.4  # Optional, enhances contrast\n",
    "}\n",
    "\n",
    "brightness_params = {\n",
    "    \"min\": 0,\n",
    "    \"max\": 10000,  # Adjust based on expected brightness values\n",
    "    \"palette\": [\"black\", \"blue\", \"green\", \"yellow\", \"red\"],\n",
    "}\n",
    "\n",
    "\n",
    "#Plot to confirm output\n",
    "Map = geemap.Map(zoom=10, center=[-77.616808, 163.077952])\n",
    "Map.centerObject(roi_LF, 10)\n",
    "Map.addLayer(result_collection.first())\n",
    "Map.addLayer(copernicus_clipped.first(), vis_params)\n",
    "Map.addLayer(soil_roi)\n",
    "Map.addLayer(ice_roi)\n",
    "\n",
    "Map"
   ]
  },
  {
   "cell_type": "code",
   "execution_count": null,
   "metadata": {},
   "outputs": [],
   "source": []
  },
  {
   "cell_type": "code",
   "execution_count": 420,
   "metadata": {},
   "outputs": [
    {
     "data": {
      "text/html": [
       "\n",
       "            <style>\n",
       "                .geemap-dark {\n",
       "                    --jp-widgets-color: white;\n",
       "                    --jp-widgets-label-color: white;\n",
       "                    --jp-ui-font-color1: white;\n",
       "                    --jp-layout-color2: #454545;\n",
       "                    background-color: #383838;\n",
       "                }\n",
       "\n",
       "                .geemap-dark .jupyter-button {\n",
       "                    --jp-layout-color3: #383838;\n",
       "                }\n",
       "\n",
       "                .geemap-colab {\n",
       "                    background-color: var(--colab-primary-surface-color, white);\n",
       "                }\n",
       "\n",
       "                .geemap-colab .jupyter-button {\n",
       "                    --jp-layout-color3: var(--colab-primary-surface-color, white);\n",
       "                }\n",
       "            </style>\n",
       "            "
      ],
      "text/plain": [
       "<IPython.core.display.HTML object>"
      ]
     },
     "metadata": {},
     "output_type": "display_data"
    }
   ],
   "source": [
    "# export the images in the copernicus_clipped collection\n",
    "def export_image(image):\n",
    "    date_str = ee.Date(image.get('system:time_start')).format('YYYY-MM-dd').getInfo()\n",
    "    task = ee.batch.Export.image.toDrive(\n",
    "        image=image,\n",
    "        description=f'Sentinel2_unmixed_images_{date_str}',\n",
    "        folder='EarthEngine',  # Replace with your folder name\n",
    "        scale=20,                 # Define the scale (e.g., 30 meters per pixel)\n",
    "        crs='EPSG:3031',          # Define the Coordinate Reference System\n",
    "        region=pointed,  # Define the region to export\n",
    "        fileNamePrefix=f'SENTINEL_unmix_feb18_{date_str}'\n",
    "    )\n",
    "    task.start()\n",
    "    print(f\"Export started for image with date {date_str}.\")\n",
    "    "
   ]
  },
  {
   "cell_type": "code",
   "execution_count": 422,
   "metadata": {},
   "outputs": [
    {
     "data": {
      "text/html": [
       "\n",
       "            <style>\n",
       "                .geemap-dark {\n",
       "                    --jp-widgets-color: white;\n",
       "                    --jp-widgets-label-color: white;\n",
       "                    --jp-ui-font-color1: white;\n",
       "                    --jp-layout-color2: #454545;\n",
       "                    background-color: #383838;\n",
       "                }\n",
       "\n",
       "                .geemap-dark .jupyter-button {\n",
       "                    --jp-layout-color3: #383838;\n",
       "                }\n",
       "\n",
       "                .geemap-colab {\n",
       "                    background-color: var(--colab-primary-surface-color, white);\n",
       "                }\n",
       "\n",
       "                .geemap-colab .jupyter-button {\n",
       "                    --jp-layout-color3: var(--colab-primary-surface-color, white);\n",
       "                }\n",
       "            </style>\n",
       "            "
      ],
      "text/plain": [
       "<IPython.core.display.HTML object>"
      ]
     },
     "metadata": {},
     "output_type": "display_data"
    },
    {
     "ename": "TypeError",
     "evalue": "'Number' object cannot be interpreted as an integer",
     "output_type": "error",
     "traceback": [
      "\u001b[0;31m---------------------------------------------------------------------------\u001b[0m",
      "\u001b[0;31mTypeError\u001b[0m                                 Traceback (most recent call last)",
      "Cell \u001b[0;32mIn[422], line 9\u001b[0m\n\u001b[1;32m      6\u001b[0m         image \u001b[38;5;241m=\u001b[39m ee\u001b[38;5;241m.\u001b[39mImage(image_list\u001b[38;5;241m.\u001b[39mget(i))\n\u001b[1;32m      7\u001b[0m         export_image(image)\n\u001b[0;32m----> 9\u001b[0m process_images()\n",
      "Cell \u001b[0;32mIn[422], line 5\u001b[0m, in \u001b[0;36mprocess_images\u001b[0;34m()\u001b[0m\n\u001b[1;32m      2\u001b[0m image_list \u001b[38;5;241m=\u001b[39m result_collection\u001b[38;5;241m.\u001b[39mtoList(result_collection\u001b[38;5;241m.\u001b[39msize()\u001b[38;5;241m.\u001b[39mgetInfo())\n\u001b[1;32m      3\u001b[0m num_images \u001b[38;5;241m=\u001b[39m image_list\u001b[38;5;241m.\u001b[39msize()\n\u001b[0;32m----> 5\u001b[0m \u001b[38;5;28;01mfor\u001b[39;00m i \u001b[38;5;129;01min\u001b[39;00m \u001b[38;5;28mrange\u001b[39m(num_images):\n\u001b[1;32m      6\u001b[0m     image \u001b[38;5;241m=\u001b[39m ee\u001b[38;5;241m.\u001b[39mImage(image_list\u001b[38;5;241m.\u001b[39mget(i))\n\u001b[1;32m      7\u001b[0m     export_image(image)\n",
      "\u001b[0;31mTypeError\u001b[0m: 'Number' object cannot be interpreted as an integer"
     ]
    }
   ],
   "source": [
    "def process_images():\n",
    "    image_list = result_collection.toList(result_collection.size().getInfo())\n",
    "    num_images = image_list.size().getInfo()\n",
    "    \n",
    "    for i in range(num_images):\n",
    "        image = ee.Image(image_list.get(i))\n",
    "        export_image(image)\n",
    "\n",
    "process_images()"
   ]
  },
  {
   "cell_type": "code",
   "execution_count": 424,
   "metadata": {},
   "outputs": [
    {
     "data": {
      "text/html": [
       "\n",
       "            <style>\n",
       "                .geemap-dark {\n",
       "                    --jp-widgets-color: white;\n",
       "                    --jp-widgets-label-color: white;\n",
       "                    --jp-ui-font-color1: white;\n",
       "                    --jp-layout-color2: #454545;\n",
       "                    background-color: #383838;\n",
       "                }\n",
       "\n",
       "                .geemap-dark .jupyter-button {\n",
       "                    --jp-layout-color3: #383838;\n",
       "                }\n",
       "\n",
       "                .geemap-colab {\n",
       "                    background-color: var(--colab-primary-surface-color, white);\n",
       "                }\n",
       "\n",
       "                .geemap-colab .jupyter-button {\n",
       "                    --jp-layout-color3: var(--colab-primary-surface-color, white);\n",
       "                }\n",
       "            </style>\n",
       "            "
      ],
      "text/plain": [
       "<IPython.core.display.HTML object>"
      ]
     },
     "metadata": {},
     "output_type": "display_data"
    },
    {
     "name": "stdout",
     "output_type": "stream",
     "text": [
      "Export started for image with date 2016-02-19.\n",
      "Export started for image with date 2016-10-24.\n",
      "Export started for image with date 2016-10-26.\n",
      "Export started for image with date 2016-10-30.\n",
      "Export started for image with date 2016-11-03.\n",
      "Export started for image with date 2017-02-01.\n",
      "Export started for image with date 2017-02-10.\n",
      "Export started for image with date 2017-02-11.\n",
      "Export started for image with date 2017-02-14.\n",
      "Export started for image with date 2017-02-16.\n",
      "Export started for image with date 2017-02-19.\n",
      "Export started for image with date 2017-02-20.\n",
      "Export started for image with date 2017-03-08.\n",
      "Export started for image with date 2018-02-12.\n",
      "Export started for image with date 2018-02-17.\n",
      "Export started for image with date 2018-10-15.\n",
      "Export started for image with date 2018-10-24.\n",
      "Export started for image with date 2019-02-21.\n",
      "Export started for image with date 2019-02-22.\n",
      "Export started for image with date 2019-09-29.\n",
      "Export started for image with date 2019-10-09.\n",
      "Export started for image with date 2019-10-19.\n",
      "Export started for image with date 2019-10-20.\n",
      "Export started for image with date 2019-10-29.\n",
      "Export started for image with date 2020-03-07.\n",
      "Export started for image with date 2020-03-08.\n",
      "Export started for image with date 2020-10-23.\n",
      "Export started for image with date 2020-10-24.\n",
      "Export started for image with date 2021-02-11.\n",
      "Export started for image with date 2021-03-02.\n",
      "Export started for image with date 2021-10-08.\n",
      "Export started for image with date 2021-10-09.\n",
      "Export started for image with date 2021-10-29.\n",
      "Export started for image with date 2022-02-25.\n",
      "Export started for image with date 2022-10-11.\n",
      "Export started for image with date 2022-10-13.\n",
      "Export started for image with date 2022-10-17.\n",
      "Export started for image with date 2022-10-31.\n",
      "Export started for image with date 2023-02-08.\n",
      "Export started for image with date 2023-02-13.\n",
      "Export started for image with date 2023-02-14.\n",
      "Export started for image with date 2023-02-28.\n",
      "Export started for image with date 2023-03-02.\n",
      "Export started for image with date 2023-03-06.\n",
      "Export started for image with date 2023-10-06.\n",
      "Export started for image with date 2023-10-08.\n",
      "Export started for image with date 2023-10-12.\n",
      "Export started for image with date 2023-10-16.\n",
      "Export started for image with date 2023-11-01.\n",
      "Export started for image with date 2024-02-03.\n",
      "Export started for image with date 2024-09-22.\n",
      "Export started for image with date 2024-10-06.\n",
      "Export started for image with date 2024-10-16.\n",
      "Export started for image with date 2024-10-20.\n",
      "Export started for image with date 2024-10-22.\n",
      "Export started for image with date 2024-10-26.\n",
      "Export started for image with date 2024-10-30.\n",
      "Export started for image with date 2024-12-21.\n",
      "Export started for image with date 2024-12-24.\n",
      "Export started for image with date 2024-12-31.\n"
     ]
    }
   ],
   "source": [
    "def export_image(image):\n",
    "    \"\"\"Exports a single image to Google Drive.\"\"\"\n",
    "    date_str = ee.Date(image.get('system:time_start')).format('YYYY-MM-dd').getInfo()\n",
    "    \n",
    "    task = ee.batch.Export.image.toDrive(\n",
    "        image=image,\n",
    "        description=f'Sentinel2_unmixed_images_{date_str}',\n",
    "        folder='EarthEngine',\n",
    "        scale=20,\n",
    "        crs='EPSG:3031',\n",
    "        region=pointed,\n",
    "        fileNamePrefix=f'SENTINEL_unmix_feb18_{date_str}'\n",
    "    )\n",
    "    task.start()\n",
    "    print(f\"Export started for image with date {date_str}.\")\n",
    "\n",
    "def process_images():\n",
    "    \"\"\"Fetches images one by one and starts exports.\"\"\"\n",
    "    image_list = result_collection.toList(result_collection.size())  # No .getInfo() here\n",
    "    \n",
    "    num_images = image_list.size().getInfo()  # Only one getInfo() outside the loop\n",
    "\n",
    "    for i in range(num_images):\n",
    "        image = ee.Image(image_list.get(i))  # This is still server-side\n",
    "        export_image(image)  # Calls export function\n",
    "\n",
    "process_images()\n"
   ]
  },
  {
   "cell_type": "code",
   "execution_count": 405,
   "metadata": {},
   "outputs": [
    {
     "data": {
      "text/html": [
       "\n",
       "            <style>\n",
       "                .geemap-dark {\n",
       "                    --jp-widgets-color: white;\n",
       "                    --jp-widgets-label-color: white;\n",
       "                    --jp-ui-font-color1: white;\n",
       "                    --jp-layout-color2: #454545;\n",
       "                    background-color: #383838;\n",
       "                }\n",
       "\n",
       "                .geemap-dark .jupyter-button {\n",
       "                    --jp-layout-color3: #383838;\n",
       "                }\n",
       "\n",
       "                .geemap-colab {\n",
       "                    background-color: var(--colab-primary-surface-color, white);\n",
       "                }\n",
       "\n",
       "                .geemap-colab .jupyter-button {\n",
       "                    --jp-layout-color3: var(--colab-primary-surface-color, white);\n",
       "                }\n",
       "            </style>\n",
       "            "
      ],
      "text/plain": [
       "<IPython.core.display.HTML object>"
      ]
     },
     "metadata": {},
     "output_type": "display_data"
    },
    {
     "data": {
      "text/html": [
       "<div><style>:root {\n",
       "  --font-color-primary: var(--jp-content-font-color0, rgba(0, 0, 0, 1));\n",
       "  --font-color-secondary: var(--jp-content-font-color2, rgba(0, 0, 0, 0.6));\n",
       "  --font-color-accent: rgba(123, 31, 162, 1);\n",
       "  --border-color: var(--jp-border-color2, #e0e0e0);\n",
       "  --background-color: var(--jp-layout-color0, white);\n",
       "  --background-color-row-even: var(--jp-layout-color1, white);\n",
       "  --background-color-row-odd: var(--jp-layout-color2, #eeeeee);\n",
       "}\n",
       "\n",
       "html[theme=\"dark\"],\n",
       "body[data-theme=\"dark\"],\n",
       "body.vscode-dark {\n",
       "  --font-color-primary: rgba(255, 255, 255, 1);\n",
       "  --font-color-secondary: rgba(255, 255, 255, 0.6);\n",
       "  --font-color-accent: rgb(173, 132, 190);\n",
       "  --border-color: #2e2e2e;\n",
       "  --background-color: #111111;\n",
       "  --background-color-row-even: #111111;\n",
       "  --background-color-row-odd: #313131;\n",
       "}\n",
       "\n",
       ".ee {\n",
       "  padding: 1em;\n",
       "  line-height: 1.5em;\n",
       "  min-width: 300px;\n",
       "  max-width: 1200px;\n",
       "  overflow-y: scroll;\n",
       "  max-height: 600px;\n",
       "  border: 1px solid var(--border-color);\n",
       "  font-family: monospace;\n",
       "}\n",
       "\n",
       ".ee li {\n",
       "  list-style-type: none;\n",
       "}\n",
       "\n",
       ".ee ul {\n",
       "  padding-left: 1.5em !important;\n",
       "  margin: 0;\n",
       "}\n",
       "\n",
       ".ee > ul {\n",
       "  padding-left: 0 !important;\n",
       "}\n",
       "\n",
       ".ee-open,\n",
       ".ee-shut {\n",
       "  color: var(--font-color-secondary);\n",
       "  cursor: pointer;\n",
       "  margin: 0;\n",
       "}\n",
       "\n",
       ".ee-open:hover,\n",
       ".ee-shut:hover {\n",
       "  color: var(--font-color-primary);\n",
       "}\n",
       "\n",
       ".ee-k {\n",
       "  color: var(--font-color-accent);\n",
       "  margin-right: 6px;\n",
       "}\n",
       "\n",
       ".ee-v {\n",
       "  color: var(--font-color-primary);\n",
       "}\n",
       "\n",
       ".ee-toggle {\n",
       "  display: none;\n",
       "}\n",
       "\n",
       ".ee-shut + ul {\n",
       "  display: none;\n",
       "}\n",
       "\n",
       ".ee-open + ul {\n",
       "  display: block;\n",
       "}\n",
       "\n",
       ".ee-shut::before {\n",
       "  display: inline-block;\n",
       "  content: \"▼\";\n",
       "  margin-right: 6px;\n",
       "  transform: rotate(-90deg);\n",
       "  transition: transform 0.2s;\n",
       "}\n",
       "\n",
       ".ee-open::before {\n",
       "  transform: rotate(0deg);\n",
       "  display: inline-block;\n",
       "  content: \"▼\";\n",
       "  margin-right: 6px;\n",
       "  transition: transform 0.2s;\n",
       "}\n",
       "</style><div class='ee'><ul><li><label class='ee-shut'>Image 2024-12-23 (6 bands)<input type='checkbox' class='ee-toggle'></label><ul><li><span class='ee-k'>type:</span><span class='ee-v'>Image</span></li><li><span class='ee-k'>id:</span><span class='ee-v'>2024-12-23</span></li><li><label class='ee-shut'>bands: List (6 elements)<input type='checkbox' class='ee-toggle'></label><ul><li><label class='ee-shut'>0: \"B2\", unsigned int16, EPSG:4326, 3x2 px<input type='checkbox' class='ee-toggle'></label><ul><li><span class='ee-k'>id:</span><span class='ee-v'>B2</span></li><li><span class='ee-k'>crs:</span><span class='ee-v'>EPSG:4326</span></li><li><label class='ee-shut'>crs_transform: [1, 0, 0, 0, 1, 0]<input type='checkbox' class='ee-toggle'></label><ul><li><span class='ee-k'>0:</span><span class='ee-v'>1</span></li><li><span class='ee-k'>1:</span><span class='ee-v'>0</span></li><li><span class='ee-k'>2:</span><span class='ee-v'>0</span></li><li><span class='ee-k'>3:</span><span class='ee-v'>0</span></li><li><span class='ee-k'>4:</span><span class='ee-v'>1</span></li><li><span class='ee-k'>5:</span><span class='ee-v'>0</span></li></ul></li><li><label class='ee-shut'>data_type: unsigned int16<input type='checkbox' class='ee-toggle'></label><ul><li><span class='ee-k'>type:</span><span class='ee-v'>PixelType</span></li><li><span class='ee-k'>max:</span><span class='ee-v'>65535</span></li><li><span class='ee-k'>min:</span><span class='ee-v'>0</span></li><li><span class='ee-k'>precision:</span><span class='ee-v'>int</span></li></ul></li><li><label class='ee-shut'>dimensions: [3, 2]<input type='checkbox' class='ee-toggle'></label><ul><li><span class='ee-k'>0:</span><span class='ee-v'>3</span></li><li><span class='ee-k'>1:</span><span class='ee-v'>2</span></li></ul></li><li><label class='ee-shut'>origin: [161, -79]<input type='checkbox' class='ee-toggle'></label><ul><li><span class='ee-k'>0:</span><span class='ee-v'>161</span></li><li><span class='ee-k'>1:</span><span class='ee-v'>-79</span></li></ul></li></ul></li><li><label class='ee-shut'>1: \"B3\", unsigned int16, EPSG:4326, 3x2 px<input type='checkbox' class='ee-toggle'></label><ul><li><span class='ee-k'>id:</span><span class='ee-v'>B3</span></li><li><span class='ee-k'>crs:</span><span class='ee-v'>EPSG:4326</span></li><li><label class='ee-shut'>crs_transform: [1, 0, 0, 0, 1, 0]<input type='checkbox' class='ee-toggle'></label><ul><li><span class='ee-k'>0:</span><span class='ee-v'>1</span></li><li><span class='ee-k'>1:</span><span class='ee-v'>0</span></li><li><span class='ee-k'>2:</span><span class='ee-v'>0</span></li><li><span class='ee-k'>3:</span><span class='ee-v'>0</span></li><li><span class='ee-k'>4:</span><span class='ee-v'>1</span></li><li><span class='ee-k'>5:</span><span class='ee-v'>0</span></li></ul></li><li><label class='ee-shut'>data_type: unsigned int16<input type='checkbox' class='ee-toggle'></label><ul><li><span class='ee-k'>type:</span><span class='ee-v'>PixelType</span></li><li><span class='ee-k'>max:</span><span class='ee-v'>65535</span></li><li><span class='ee-k'>min:</span><span class='ee-v'>0</span></li><li><span class='ee-k'>precision:</span><span class='ee-v'>int</span></li></ul></li><li><label class='ee-shut'>dimensions: [3, 2]<input type='checkbox' class='ee-toggle'></label><ul><li><span class='ee-k'>0:</span><span class='ee-v'>3</span></li><li><span class='ee-k'>1:</span><span class='ee-v'>2</span></li></ul></li><li><label class='ee-shut'>origin: [161, -79]<input type='checkbox' class='ee-toggle'></label><ul><li><span class='ee-k'>0:</span><span class='ee-v'>161</span></li><li><span class='ee-k'>1:</span><span class='ee-v'>-79</span></li></ul></li></ul></li><li><label class='ee-shut'>2: \"B4\", unsigned int16, EPSG:4326, 3x2 px<input type='checkbox' class='ee-toggle'></label><ul><li><span class='ee-k'>id:</span><span class='ee-v'>B4</span></li><li><span class='ee-k'>crs:</span><span class='ee-v'>EPSG:4326</span></li><li><label class='ee-shut'>crs_transform: [1, 0, 0, 0, 1, 0]<input type='checkbox' class='ee-toggle'></label><ul><li><span class='ee-k'>0:</span><span class='ee-v'>1</span></li><li><span class='ee-k'>1:</span><span class='ee-v'>0</span></li><li><span class='ee-k'>2:</span><span class='ee-v'>0</span></li><li><span class='ee-k'>3:</span><span class='ee-v'>0</span></li><li><span class='ee-k'>4:</span><span class='ee-v'>1</span></li><li><span class='ee-k'>5:</span><span class='ee-v'>0</span></li></ul></li><li><label class='ee-shut'>data_type: unsigned int16<input type='checkbox' class='ee-toggle'></label><ul><li><span class='ee-k'>type:</span><span class='ee-v'>PixelType</span></li><li><span class='ee-k'>max:</span><span class='ee-v'>65535</span></li><li><span class='ee-k'>min:</span><span class='ee-v'>0</span></li><li><span class='ee-k'>precision:</span><span class='ee-v'>int</span></li></ul></li><li><label class='ee-shut'>dimensions: [3, 2]<input type='checkbox' class='ee-toggle'></label><ul><li><span class='ee-k'>0:</span><span class='ee-v'>3</span></li><li><span class='ee-k'>1:</span><span class='ee-v'>2</span></li></ul></li><li><label class='ee-shut'>origin: [161, -79]<input type='checkbox' class='ee-toggle'></label><ul><li><span class='ee-k'>0:</span><span class='ee-v'>161</span></li><li><span class='ee-k'>1:</span><span class='ee-v'>-79</span></li></ul></li></ul></li><li><label class='ee-shut'>3: \"B8\", unsigned int16, EPSG:4326, 3x2 px<input type='checkbox' class='ee-toggle'></label><ul><li><span class='ee-k'>id:</span><span class='ee-v'>B8</span></li><li><span class='ee-k'>crs:</span><span class='ee-v'>EPSG:4326</span></li><li><label class='ee-shut'>crs_transform: [1, 0, 0, 0, 1, 0]<input type='checkbox' class='ee-toggle'></label><ul><li><span class='ee-k'>0:</span><span class='ee-v'>1</span></li><li><span class='ee-k'>1:</span><span class='ee-v'>0</span></li><li><span class='ee-k'>2:</span><span class='ee-v'>0</span></li><li><span class='ee-k'>3:</span><span class='ee-v'>0</span></li><li><span class='ee-k'>4:</span><span class='ee-v'>1</span></li><li><span class='ee-k'>5:</span><span class='ee-v'>0</span></li></ul></li><li><label class='ee-shut'>data_type: unsigned int16<input type='checkbox' class='ee-toggle'></label><ul><li><span class='ee-k'>type:</span><span class='ee-v'>PixelType</span></li><li><span class='ee-k'>max:</span><span class='ee-v'>65535</span></li><li><span class='ee-k'>min:</span><span class='ee-v'>0</span></li><li><span class='ee-k'>precision:</span><span class='ee-v'>int</span></li></ul></li><li><label class='ee-shut'>dimensions: [3, 2]<input type='checkbox' class='ee-toggle'></label><ul><li><span class='ee-k'>0:</span><span class='ee-v'>3</span></li><li><span class='ee-k'>1:</span><span class='ee-v'>2</span></li></ul></li><li><label class='ee-shut'>origin: [161, -79]<input type='checkbox' class='ee-toggle'></label><ul><li><span class='ee-k'>0:</span><span class='ee-v'>161</span></li><li><span class='ee-k'>1:</span><span class='ee-v'>-79</span></li></ul></li></ul></li><li><label class='ee-shut'>4: \"B11\", unsigned int16, EPSG:4326, 3x2 px<input type='checkbox' class='ee-toggle'></label><ul><li><span class='ee-k'>id:</span><span class='ee-v'>B11</span></li><li><span class='ee-k'>crs:</span><span class='ee-v'>EPSG:4326</span></li><li><label class='ee-shut'>crs_transform: [1, 0, 0, 0, 1, 0]<input type='checkbox' class='ee-toggle'></label><ul><li><span class='ee-k'>0:</span><span class='ee-v'>1</span></li><li><span class='ee-k'>1:</span><span class='ee-v'>0</span></li><li><span class='ee-k'>2:</span><span class='ee-v'>0</span></li><li><span class='ee-k'>3:</span><span class='ee-v'>0</span></li><li><span class='ee-k'>4:</span><span class='ee-v'>1</span></li><li><span class='ee-k'>5:</span><span class='ee-v'>0</span></li></ul></li><li><label class='ee-shut'>data_type: unsigned int16<input type='checkbox' class='ee-toggle'></label><ul><li><span class='ee-k'>type:</span><span class='ee-v'>PixelType</span></li><li><span class='ee-k'>max:</span><span class='ee-v'>65535</span></li><li><span class='ee-k'>min:</span><span class='ee-v'>0</span></li><li><span class='ee-k'>precision:</span><span class='ee-v'>int</span></li></ul></li><li><label class='ee-shut'>dimensions: [3, 2]<input type='checkbox' class='ee-toggle'></label><ul><li><span class='ee-k'>0:</span><span class='ee-v'>3</span></li><li><span class='ee-k'>1:</span><span class='ee-v'>2</span></li></ul></li><li><label class='ee-shut'>origin: [161, -79]<input type='checkbox' class='ee-toggle'></label><ul><li><span class='ee-k'>0:</span><span class='ee-v'>161</span></li><li><span class='ee-k'>1:</span><span class='ee-v'>-79</span></li></ul></li></ul></li><li><label class='ee-shut'>5: \"B12\", unsigned int16, EPSG:4326, 3x2 px<input type='checkbox' class='ee-toggle'></label><ul><li><span class='ee-k'>id:</span><span class='ee-v'>B12</span></li><li><span class='ee-k'>crs:</span><span class='ee-v'>EPSG:4326</span></li><li><label class='ee-shut'>crs_transform: [1, 0, 0, 0, 1, 0]<input type='checkbox' class='ee-toggle'></label><ul><li><span class='ee-k'>0:</span><span class='ee-v'>1</span></li><li><span class='ee-k'>1:</span><span class='ee-v'>0</span></li><li><span class='ee-k'>2:</span><span class='ee-v'>0</span></li><li><span class='ee-k'>3:</span><span class='ee-v'>0</span></li><li><span class='ee-k'>4:</span><span class='ee-v'>1</span></li><li><span class='ee-k'>5:</span><span class='ee-v'>0</span></li></ul></li><li><label class='ee-shut'>data_type: unsigned int16<input type='checkbox' class='ee-toggle'></label><ul><li><span class='ee-k'>type:</span><span class='ee-v'>PixelType</span></li><li><span class='ee-k'>max:</span><span class='ee-v'>65535</span></li><li><span class='ee-k'>min:</span><span class='ee-v'>0</span></li><li><span class='ee-k'>precision:</span><span class='ee-v'>int</span></li></ul></li><li><label class='ee-shut'>dimensions: [3, 2]<input type='checkbox' class='ee-toggle'></label><ul><li><span class='ee-k'>0:</span><span class='ee-v'>3</span></li><li><span class='ee-k'>1:</span><span class='ee-v'>2</span></li></ul></li><li><label class='ee-shut'>origin: [161, -79]<input type='checkbox' class='ee-toggle'></label><ul><li><span class='ee-k'>0:</span><span class='ee-v'>161</span></li><li><span class='ee-k'>1:</span><span class='ee-v'>-79</span></li></ul></li></ul></li></ul></li><li><label class='ee-shut'>properties: Object (3 properties)<input type='checkbox' class='ee-toggle'></label><ul><li><label class='ee-shut'>system:footprint: Polygon (8 vertices)<input type='checkbox' class='ee-toggle'></label><ul><li><span class='ee-k'>type:</span><span class='ee-v'>Polygon</span></li><li><label class='ee-shut'>coordinates: List (1 element)<input type='checkbox' class='ee-toggle'></label><ul><li><label class='ee-shut'>0: List (8 elements)<input type='checkbox' class='ee-toggle'></label><ul><li><label class='ee-shut'>0: [163.24357885656732, -77.5812101682432]<input type='checkbox' class='ee-toggle'></label><ul><li><span class='ee-k'>0:</span><span class='ee-v'>163.24357885656732</span></li><li><span class='ee-k'>1:</span><span class='ee-v'>-77.5812101682432</span></li></ul></li><li><label class='ee-shut'>1: [162.70112890539545, -77.64219641154588]<input type='checkbox' class='ee-toggle'></label><ul><li><span class='ee-k'>0:</span><span class='ee-v'>162.70112890539545</span></li><li><span class='ee-k'>1:</span><span class='ee-v'>-77.64219641154588</span></li></ul></li><li><label class='ee-shut'>2: [162.74919409094232, -77.66275299707411]<input type='checkbox' class='ee-toggle'></label><ul><li><span class='ee-k'>0:</span><span class='ee-v'>162.74919409094232</span></li><li><span class='ee-k'>1:</span><span class='ee-v'>-77.66275299707411</span></li></ul></li><li><label class='ee-shut'>3: [162.38939184484857, -77.70376522386023]<input type='checkbox' class='ee-toggle'></label><ul><li><span class='ee-k'>0:</span><span class='ee-v'>162.38939184484857</span></li><li><span class='ee-k'>1:</span><span class='ee-v'>-77.70376522386023</span></li></ul></li><li><label class='ee-shut'>4: [162.25068945227045, -77.71808776695123]<input type='checkbox' class='ee-toggle'></label><ul><li><span class='ee-k'>0:</span><span class='ee-v'>162.25068945227045</span></li><li><span class='ee-k'>1:</span><span class='ee-v'>-77.71808776695123</span></li></ul></li><li><label class='ee-shut'>5: [162.3028745108642, -77.73968659951969]<input type='checkbox' class='ee-toggle'></label><ul><li><span class='ee-k'>0:</span><span class='ee-v'>162.3028745108642</span></li><li><span class='ee-k'>1:</span><span class='ee-v'>-77.73968659951969</span></li></ul></li><li><label class='ee-shut'>6: [163.33146948156732, -77.61630600197311]<input type='checkbox' class='ee-toggle'></label><ul><li><span class='ee-k'>0:</span><span class='ee-v'>163.33146948156732</span></li><li><span class='ee-k'>1:</span><span class='ee-v'>-77.61630600197311</span></li></ul></li><li><label class='ee-shut'>7: [163.24357885656732, -77.5812101682432]<input type='checkbox' class='ee-toggle'></label><ul><li><span class='ee-k'>0:</span><span class='ee-v'>163.24357885656732</span></li><li><span class='ee-k'>1:</span><span class='ee-v'>-77.5812101682432</span></li></ul></li></ul></li></ul></li></ul></li><li><span class='ee-k'>system:index:</span><span class='ee-v'>58</span></li><li><span class='ee-k'>system:time_start:</span><span class='ee-v'>1734912000000</span></li></ul></li></ul></li></ul></div><script>function toggleHeader() {\n",
       "    const parent = this.parentElement;\n",
       "    parent.className = parent.className === \"ee-open\" ? \"ee-shut\" : \"ee-open\";\n",
       "}\n",
       "\n",
       "for (let c of document.getElementsByClassName(\"ee-toggle\")) {\n",
       "    c.onclick = toggleHeader;\n",
       "}</script></div>"
      ],
      "text/plain": [
       "<ee.image.Image at 0x28545a650>"
      ]
     },
     "metadata": {},
     "output_type": "display_data"
    },
    {
     "data": {
      "application/vnd.jupyter.widget-view+json": {
       "model_id": "202622cc69a8416f8ba7949885fe8126",
       "version_major": 2,
       "version_minor": 0
      },
      "text/plain": [
       "Map(center=[-77.6091387013167, 163.16942980628684], controls=(WidgetControl(options=['position', 'transparent_…"
      ]
     },
     "metadata": {},
     "output_type": "display_data"
    }
   ],
   "source": [
    "### what's going on with this ID 58 image? can we just get rid of it? \n",
    "image_id = \"58\"\n",
    "filtered_image = copernicus_clipped.filterMetadata(\"system:index\", \"equals\", image_id).first()\n",
    "\n",
    "display(filtered_image)\n",
    "\n",
    "vis_params = {\n",
    "    'bands': ['B4', 'B3', 'B2'],  # Red, Green, Blue bands (for Sentinel-2 or Landsat 8)\n",
    "    'min': 0,\n",
    "    'max': 10000,  # Adjust based on the dataset's reflectance range\n",
    "    'gamma': 1.4  # Optional, enhances contrast\n",
    "}\n",
    "\n",
    "\n",
    "#Plot to confirm output\n",
    "Map = geemap.Map(zoom=10, center=[-77.616808, 163.077952])\n",
    "Map.centerObject(roi_LF, 10)\n",
    "Map.addLayer(filtered_image, vis_params)\n",
    "Map.addLayer(soil_roi)\n",
    "Map.addLayer(ice_roi)\n",
    "\n",
    "Map\n",
    "\n"
   ]
  }
 ],
 "metadata": {
  "kernelspec": {
   "display_name": "base",
   "language": "python",
   "name": "python3"
  },
  "language_info": {
   "codemirror_mode": {
    "name": "ipython",
    "version": 3
   },
   "file_extension": ".py",
   "mimetype": "text/x-python",
   "name": "python",
   "nbconvert_exporter": "python",
   "pygments_lexer": "ipython3",
   "version": "3.11.7"
  }
 },
 "nbformat": 4,
 "nbformat_minor": 2
}
