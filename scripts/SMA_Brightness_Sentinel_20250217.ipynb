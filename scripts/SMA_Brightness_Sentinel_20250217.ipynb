{
 "cells": [
  {
   "cell_type": "code",
   "execution_count": 1,
   "metadata": {},
   "outputs": [],
   "source": [
    "import ee\n",
    "import geemap\n",
    "\n",
    "# Initialize Earth Engine\n",
    "ee.Authenticate()\n",
    "ee.Initialize()\n"
   ]
  },
  {
   "cell_type": "code",
   "execution_count": 150,
   "metadata": {},
   "outputs": [
    {
     "data": {
      "text/html": [
       "\n",
       "            <style>\n",
       "                .geemap-dark {\n",
       "                    --jp-widgets-color: white;\n",
       "                    --jp-widgets-label-color: white;\n",
       "                    --jp-ui-font-color1: white;\n",
       "                    --jp-layout-color2: #454545;\n",
       "                    background-color: #383838;\n",
       "                }\n",
       "\n",
       "                .geemap-dark .jupyter-button {\n",
       "                    --jp-layout-color3: #383838;\n",
       "                }\n",
       "\n",
       "                .geemap-colab {\n",
       "                    background-color: var(--colab-primary-surface-color, white);\n",
       "                }\n",
       "\n",
       "                .geemap-colab .jupyter-button {\n",
       "                    --jp-layout-color3: var(--colab-primary-surface-color, white);\n",
       "                }\n",
       "            </style>\n",
       "            "
      ],
      "text/plain": [
       "<IPython.core.display.HTML object>"
      ]
     },
     "metadata": {},
     "output_type": "display_data"
    }
   ],
   "source": [
    "# Define the ROIs (already provided)\n",
    "#adjusted to be purposefully sloppy around lake edges, need to include more soil \n",
    "roi_LF = ee.Geometry.Polygon([\n",
    "    [163.1841307370196,-77.59677387872982],\n",
    "    [163.1576948849688,-77.60097649476886],\n",
    "    [163.11512286348443,-77.60665148730044],\n",
    "    [163.08937365694146,-77.61166104297976],\n",
    "    [163.0584746090899,-77.61777294645421],\n",
    "    [163.06087786836724,-77.62189496331501],\n",
    "    [163.0698042599688,-77.62174777168963],\n",
    "    [163.11580950899224,-77.62285166688366],\n",
    "    [163.1518583981524,-77.62071738206735],\n",
    "    [163.19305712862115,-77.61733122165525],\n",
    "    [163.2174330441485,-77.61180835267379],\n",
    "    [163.26309497041802,-77.60738831170583],\n",
    "    [163.2675581662188,-77.59913341471547],\n",
    "    [163.25279528780084,-77.5969951040001],\n",
    "    [163.233912536336,-77.59345503355506],\n",
    "    [163.1841307370196,-77.59677387872982]\n",
    "]\n",
    ")"
   ]
  },
  {
   "cell_type": "code",
   "execution_count": 171,
   "metadata": {},
   "outputs": [
    {
     "data": {
      "text/html": [
       "\n",
       "            <style>\n",
       "                .geemap-dark {\n",
       "                    --jp-widgets-color: white;\n",
       "                    --jp-widgets-label-color: white;\n",
       "                    --jp-ui-font-color1: white;\n",
       "                    --jp-layout-color2: #454545;\n",
       "                    background-color: #383838;\n",
       "                }\n",
       "\n",
       "                .geemap-dark .jupyter-button {\n",
       "                    --jp-layout-color3: #383838;\n",
       "                }\n",
       "\n",
       "                .geemap-colab {\n",
       "                    background-color: var(--colab-primary-surface-color, white);\n",
       "                }\n",
       "\n",
       "                .geemap-colab .jupyter-button {\n",
       "                    --jp-layout-color3: var(--colab-primary-surface-color, white);\n",
       "                }\n",
       "            </style>\n",
       "            "
      ],
      "text/plain": [
       "<IPython.core.display.HTML object>"
      ]
     },
     "metadata": {},
     "output_type": "display_data"
    }
   ],
   "source": [
    "#MAY NOT NEED THIS IN THE SCRIPT ANYMORE\n",
    "#define a new ROI that is potentially simpler\n",
    "roi_box = ee.Geometry.Polygon(\n",
    "    [[163.12698754679585, -77.6073690739641], \n",
    "    [163.16406640421772, -77.60946879016157], \n",
    "    [163.15445336710835, -77.61628124600912], \n",
    "    [163.11823281657124, -77.6140353843151],\n",
    "    [163.12698754679585, -77.6073690739641]]\n",
    ")"
   ]
  },
  {
   "cell_type": "code",
   "execution_count": 152,
   "metadata": {},
   "outputs": [
    {
     "data": {
      "text/html": [
       "\n",
       "            <style>\n",
       "                .geemap-dark {\n",
       "                    --jp-widgets-color: white;\n",
       "                    --jp-widgets-label-color: white;\n",
       "                    --jp-ui-font-color1: white;\n",
       "                    --jp-layout-color2: #454545;\n",
       "                    background-color: #383838;\n",
       "                }\n",
       "\n",
       "                .geemap-dark .jupyter-button {\n",
       "                    --jp-layout-color3: #383838;\n",
       "                }\n",
       "\n",
       "                .geemap-colab {\n",
       "                    background-color: var(--colab-primary-surface-color, white);\n",
       "                }\n",
       "\n",
       "                .geemap-colab .jupyter-button {\n",
       "                    --jp-layout-color3: var(--colab-primary-surface-color, white);\n",
       "                }\n",
       "            </style>\n",
       "            "
      ],
      "text/plain": [
       "<IPython.core.display.HTML object>"
      ]
     },
     "metadata": {},
     "output_type": "display_data"
    }
   ],
   "source": [
    "pointed = ee.Geometry.BBox(162.1, -77.73, 163.3, -77.59)"
   ]
  },
  {
   "cell_type": "code",
   "execution_count": 153,
   "metadata": {},
   "outputs": [
    {
     "data": {
      "text/html": [
       "\n",
       "            <style>\n",
       "                .geemap-dark {\n",
       "                    --jp-widgets-color: white;\n",
       "                    --jp-widgets-label-color: white;\n",
       "                    --jp-ui-font-color1: white;\n",
       "                    --jp-layout-color2: #454545;\n",
       "                    background-color: #383838;\n",
       "                }\n",
       "\n",
       "                .geemap-dark .jupyter-button {\n",
       "                    --jp-layout-color3: #383838;\n",
       "                }\n",
       "\n",
       "                .geemap-colab {\n",
       "                    background-color: var(--colab-primary-surface-color, white);\n",
       "                }\n",
       "\n",
       "                .geemap-colab .jupyter-button {\n",
       "                    --jp-layout-color3: var(--colab-primary-surface-color, white);\n",
       "                }\n",
       "            </style>\n",
       "            "
      ],
      "text/plain": [
       "<IPython.core.display.HTML object>"
      ]
     },
     "metadata": {},
     "output_type": "display_data"
    }
   ],
   "source": [
    "## add the image collection\n",
    "ids = ee.List([\"Sentinel-2A_2015-12-18\", \"Sentinel-2A_2015-12-21\", \"Sentinel-2A_2015-12-27\",\n",
    "               \"Sentinel-2A_2015-12-28\", \"Sentinel-2A_2015-12-29\", \"Sentinel-2A_2015-12-31\", \n",
    "               \"Sentinel-2A_2016-01-07\", \"Sentinel-2A_2016-01-13\", \"Sentinel-2A_2016-01-14\", \n",
    "               \"Sentinel-2A_2016-01-23\", \"Sentinel-2A_2016-02-02\", \"Sentinel-2A_2016-02-05\", \n",
    "               \"Sentinel-2A_2016-02-19\", \"Sentinel-2A_2016-10-24\", \"Sentinel-2A_2016-10-26\", \n",
    "               \"Sentinel-2A_2016-10-30\", \"Sentinel-2A_2016-11-01\", \"Sentinel-2A_2016-11-03\", \n",
    "               \"Sentinel-2A_2016-11-05\", \"Sentinel-2A_2016-11-06\", \"Sentinel-2A_2016-11-08\", \n",
    "               \"Sentinel-2A_2016-11-09\", \"Sentinel-2A_2016-12-12\", \"Sentinel-2A_2016-12-13\", \n",
    "               \"Sentinel-2A_2016-12-15\", \"Sentinel-2A_2016-12-18\", \"Sentinel-2A_2016-12-19\", \n",
    "               \"Sentinel-2A_2016-12-25\", \"Sentinel-2A_2017-01-02\", \"Sentinel-2A_2017-01-08\", \n",
    "               \"Sentinel-2A_2017-01-14\", \"Sentinel-2A_2017-01-15\", \"Sentinel-2A_2017-01-18\", \n",
    "               \"Sentinel-2A_2017-01-24\", \"Sentinel-2A_2017-01-25\", \"Sentinel-2A_2017-01-27\", \n",
    "               \"Sentinel-2A_2017-01-28\", \"Sentinel-2A_2017-01-30\", \"Sentinel-2A_2017-01-31\", \n",
    "               \"Sentinel-2A_2017-02-01\", \"Sentinel-2A_2017-02-10\", \"Sentinel-2A_2017-02-11\", \n",
    "               \"Sentinel-2A_2017-02-14\", \"Sentinel-2A_2017-02-16\", \"Sentinel-2A_2017-02-19\", \n",
    "               \"Sentinel-2A_2017-02-20\", \"Sentinel-2A_2017-03-08\", \"Sentinel-2A_2018-01-12\", \n",
    "               \"Sentinel-2A_2018-01-23\", \"Sentinel-2A_2018-02-12\", \"Sentinel-2B_2018-02-17\", \n",
    "               \"Sentinel-2B_2018-10-15\", \"Sentinel-2B_2018-10-24\", \"Sentinel-2B_2018-11-24\", \n",
    "               \"Sentinel-2B_2019-02-21\", \"Sentinel-2B_2019-02-22\", \"Sentinel-2B_2019-09-29\", \n",
    "               \"Sentinel-2B_2019-10-09\", \"Sentinel-2B_2019-10-19\", \"Sentinel-2B_2019-10-20\", \n",
    "               \"Sentinel-2B_2019-10-29\", \"Sentinel-2B_2019-11-08\", \"Sentinel-2B_2019-11-09\", \n",
    "               \"Sentinel-2B_2019-11-18\", \"Sentinel-2B_2019-11-19\", \"Sentinel-2B_2020-02-06\", \n",
    "               \"Sentinel-2B_2020-03-07\", \"Sentinel-2B_2020-03-08\", \"Sentinel-2B_2020-10-23\", \n",
    "               \"Sentinel-2B_2020-10-24\", \"Sentinel-2B_2020-11-03\", \"Sentinel-2B_2020-11-12\", \n",
    "               \"Sentinel-2B_2020-11-22\", \"Sentinel-2B_2020-11-23\", \"Sentinel-2B_2020-12-02\", \n",
    "               \"Sentinel-2B_2020-12-03\", \"Sentinel-2B_2021-01-01\", \"Sentinel-2B_2021-01-12\", \n",
    "               \"Sentinel-2B_2021-01-13\", \"Sentinel-2B_2021-01-21\", \"Sentinel-2B_2021-01-22\", \n",
    "               \"Sentinel-2B_2021-01-23\", \"Sentinel-2B_2021-02-01\", \"Sentinel-2B_2021-02-11\",\n",
    "               \"Sentinel-2B_2021-03-02\", \"Sentinel-2B_2021-10-08\", \"Sentinel-2B_2021-10-09\", \n",
    "               \"Sentinel-2B_2021-10-29\", \"Sentinel-2B_2021-11-07\", \"Sentinel-2B_2021-11-08\", \n",
    "               \"Sentinel-2B_2021-11-17\", \"Sentinel-2B_2021-11-18\", \"Sentinel-2B_2021-12-07\", \n",
    "               \"Sentinel-2B_2021-12-08\", \"Sentinel-2B_2021-12-18\", \"Sentinel-2B_2021-12-28\", \n",
    "               \"Sentinel-2B_2022-01-07\", \"Sentinel-2B_2022-01-16\", \"Sentinel-2B_2022-01-27\", \n",
    "               \"Sentinel-2B_2022-02-25\", \"Sentinel-2B_2022-10-11\", \"Sentinel-2B_2022-10-13\",\n",
    "               \"Sentinel-2B_2022-10-17\", \"Sentinel-2B_2022-10-31\", \"Sentinel-2B_2022-11-02\",\n",
    "               \"Sentinel-2B_2022-11-12\", \"Sentinel-2B_2022-11-16\", \"Sentinel-2B_2022-11-22\",\n",
    "               \"Sentinel-2B_2022-12-06\", \"Sentinel-2B_2022-12-10\", \"Sentinel-2B_2022-12-16\",\n",
    "               \"Sentinel-2B_2022-12-26\", \"Sentinel-2B_2023-01-01\", \"Sentinel-2B_2023-01-09\",\n",
    "               \"Sentinel-2B_2023-01-11\", \"Sentinel-2B_2023-01-15\", \"Sentinel-2B_2023-02-03\",\n",
    "               \"Sentinel-2B_2023-02-08\", \"Sentinel-2B_2023-02-13\", \"Sentinel-2B_2023-02-14\", \n",
    "               \"Sentinel-2B_2023-02-28\", \"Sentinel-2B_2023-03-02\", \"Sentinel-2B_2023-03-06\", \n",
    "               \"Sentinel-2B_2023-10-06\", \"Sentinel-2B_2023-10-08\", \"Sentinel-2B_2023-10-12\", \n",
    "               \"Sentinel-2B_2023-10-16\", \"Sentinel-2B_2023-11-01\", \"Sentinel-2B_2023-11-15\", \n",
    "               \"Sentinel-2B_2023-11-17\", \"Sentinel-2B_2023-11-21\", \"Sentinel-2B_2023-12-01\", \n",
    "               \"Sentinel-2B_2023-12-05\", \"Sentinel-2B_2023-12-07\", \"Sentinel-2B_2023-12-11\", \n",
    "               \"Sentinel-2B_2023-12-15\", \"Sentinel-2B_2024-01-04\", \"Sentinel-2B_2024-01-10\", \n",
    "               \"Sentinel-2B_2024-01-14\", \"Sentinel-2B_2024-01-26\", \"Sentinel-2B_2024-02-03\", \n",
    "               \"Sentinel-2B_2024-09-22\", \"Sentinel-2B_2024-10-06\", \"Sentinel-2B_2024-10-16\", \n",
    "               \"Sentinel-2B_2024-10-20\", \"Sentinel-2B_2024-10-22\", \"Sentinel-2B_2024-10-26\", \n",
    "               \"Sentinel-2B_2024-10-30\", \"Sentinel-2B_2024-11-09\", \"Sentinel-2B_2024-11-19\", \n",
    "               \"Sentinel-2B_2024-11-21\", \"Sentinel-2B_2024-11-29\", \"Sentinel-2B_2024-12-09\", \n",
    "               \"Sentinel-2B_2024-12-21\", \"Sentinel-2B_2024-12-23\", \"Sentinel-2B_2024-12-24\", \n",
    "               \"Sentinel-2B_2024-12-29\", \"Sentinel-2B_2024-12-31\", \"Sentinel-2B_2025-01-02\", \n",
    "               \"Sentinel-2B_2025-01-10\", \"Sentinel-2B_2025-01-18\", \"Sentinel-2B_2025-01-28\"])\n",
    "\n",
    "# Define start and end date for the image collection filter\n",
    "start_date = \"2015-03-06\"\n",
    "end_date = \"2025-01-01\"\n",
    "\n",
    "# Define ROI for analysis\n",
    "roi_for_cropping = ee.Geometry.Polygon([\n",
    "    [163.24357885656732,-77.5812101682432],\n",
    "    [162.70112890539545,-77.64219641154588],\n",
    "    [162.74919409094232,-77.66275299707411],\n",
    "    [162.38939184484857,-77.70376522386023],\n",
    "    [162.25068945227045,-77.71808776695123],\n",
    "    [162.3028745108642,-77.73968659951969],\n",
    "    [163.33146948156732,-77.61630600197311],\n",
    "    [163.24357885656732,-77.5812101682432]\n",
    "    ]\n",
    "    )"
   ]
  },
  {
   "cell_type": "code",
   "execution_count": 154,
   "metadata": {},
   "outputs": [
    {
     "data": {
      "text/html": [
       "\n",
       "            <style>\n",
       "                .geemap-dark {\n",
       "                    --jp-widgets-color: white;\n",
       "                    --jp-widgets-label-color: white;\n",
       "                    --jp-ui-font-color1: white;\n",
       "                    --jp-layout-color2: #454545;\n",
       "                    background-color: #383838;\n",
       "                }\n",
       "\n",
       "                .geemap-dark .jupyter-button {\n",
       "                    --jp-layout-color3: #383838;\n",
       "                }\n",
       "\n",
       "                .geemap-colab {\n",
       "                    background-color: var(--colab-primary-surface-color, white);\n",
       "                }\n",
       "\n",
       "                .geemap-colab .jupyter-button {\n",
       "                    --jp-layout-color3: var(--colab-primary-surface-color, white);\n",
       "                }\n",
       "            </style>\n",
       "            "
      ],
      "text/plain": [
       "<IPython.core.display.HTML object>"
      ]
     },
     "metadata": {},
     "output_type": "display_data"
    }
   ],
   "source": [
    "def addImageDate(image):\n",
    "    mission = image.get('SPACECRAFT_NAME')\n",
    "    date = image.date().format('YYYY-MM-dd')\n",
    "    missDate = ee.String(mission).cat('_').cat(ee.String(date))\n",
    "    return image.set('missDate', missDate)"
   ]
  },
  {
   "cell_type": "code",
   "execution_count": 155,
   "metadata": {},
   "outputs": [
    {
     "data": {
      "text/html": [
       "\n",
       "            <style>\n",
       "                .geemap-dark {\n",
       "                    --jp-widgets-color: white;\n",
       "                    --jp-widgets-label-color: white;\n",
       "                    --jp-ui-font-color1: white;\n",
       "                    --jp-layout-color2: #454545;\n",
       "                    background-color: #383838;\n",
       "                }\n",
       "\n",
       "                .geemap-dark .jupyter-button {\n",
       "                    --jp-layout-color3: #383838;\n",
       "                }\n",
       "\n",
       "                .geemap-colab {\n",
       "                    background-color: var(--colab-primary-surface-color, white);\n",
       "                }\n",
       "\n",
       "                .geemap-colab .jupyter-button {\n",
       "                    --jp-layout-color3: var(--colab-primary-surface-color, white);\n",
       "                }\n",
       "            </style>\n",
       "            "
      ],
      "text/plain": [
       "<IPython.core.display.HTML object>"
      ]
     },
     "metadata": {},
     "output_type": "display_data"
    }
   ],
   "source": [
    "def mosaic_by_date(imcol):\n",
    "    # Convert the image collection to a list of images\n",
    "    imlist = imcol.toList(imcol.size())\n",
    "    \n",
    "    # Get unique dates from the image collection\n",
    "    def get_date(image):\n",
    "        return ee.Image(image).date().format(\"YYYY-MM-dd\")\n",
    "    \n",
    "    unique_dates = imlist.map(lambda im: get_date(im)).distinct()\n",
    "\n",
    "    def create_mosaic(date_str):\n",
    "        date = ee.Date(date_str)\n",
    "        \n",
    "        # Filter images for that day and create a mosaic\n",
    "        mosaic = imcol.filterDate(date, date.advance(1, 'day')).mosaic()\n",
    "        \n",
    "        return mosaic.set({\n",
    "            'system:time_start': date.millis(),\n",
    "            'system:id': date.format('YYYY-MM-dd')\n",
    "        })\n",
    "\n",
    "    # Create mosaics for each unique date\n",
    "    mosaic_imlist = unique_dates.map(create_mosaic)\n",
    "    \n",
    "    return ee.ImageCollection(mosaic_imlist)"
   ]
  },
  {
   "cell_type": "code",
   "execution_count": 156,
   "metadata": {},
   "outputs": [
    {
     "data": {
      "text/html": [
       "\n",
       "            <style>\n",
       "                .geemap-dark {\n",
       "                    --jp-widgets-color: white;\n",
       "                    --jp-widgets-label-color: white;\n",
       "                    --jp-ui-font-color1: white;\n",
       "                    --jp-layout-color2: #454545;\n",
       "                    background-color: #383838;\n",
       "                }\n",
       "\n",
       "                .geemap-dark .jupyter-button {\n",
       "                    --jp-layout-color3: #383838;\n",
       "                }\n",
       "\n",
       "                .geemap-colab {\n",
       "                    background-color: var(--colab-primary-surface-color, white);\n",
       "                }\n",
       "\n",
       "                .geemap-colab .jupyter-button {\n",
       "                    --jp-layout-color3: var(--colab-primary-surface-color, white);\n",
       "                }\n",
       "            </style>\n",
       "            "
      ],
      "text/plain": [
       "<IPython.core.display.HTML object>"
      ]
     },
     "metadata": {},
     "output_type": "display_data"
    }
   ],
   "source": [
    "# Example usage with an image collection )\n",
    "s2 = ee.ImageCollection('COPERNICUS/S2_HARMONIZED')\\\n",
    "    .select(['B2', 'B3', 'B4', 'B8', 'B11', 'B12'])\\\n",
    "    .filterDate(start_date, end_date)\\\n",
    "    .map(addImageDate)\\\n",
    "    .filter(ee.Filter.inList(\"missDate\", ids))\\\n",
    "    .filter(ee.Filter.gt('MEAN_SOLAR_ZENITH_ANGLE',70))\\\n",
    "    .filterBounds(roi_for_cropping)\\\n",
    "    .sort('DATE_ACQUIRED')\n",
    "s3 = mosaic_by_date(s2)"
   ]
  },
  {
   "cell_type": "code",
   "execution_count": 157,
   "metadata": {},
   "outputs": [
    {
     "data": {
      "text/html": [
       "\n",
       "            <style>\n",
       "                .geemap-dark {\n",
       "                    --jp-widgets-color: white;\n",
       "                    --jp-widgets-label-color: white;\n",
       "                    --jp-ui-font-color1: white;\n",
       "                    --jp-layout-color2: #454545;\n",
       "                    background-color: #383838;\n",
       "                }\n",
       "\n",
       "                .geemap-dark .jupyter-button {\n",
       "                    --jp-layout-color3: #383838;\n",
       "                }\n",
       "\n",
       "                .geemap-colab {\n",
       "                    background-color: var(--colab-primary-surface-color, white);\n",
       "                }\n",
       "\n",
       "                .geemap-colab .jupyter-button {\n",
       "                    --jp-layout-color3: var(--colab-primary-surface-color, white);\n",
       "                }\n",
       "            </style>\n",
       "            "
      ],
      "text/plain": [
       "<IPython.core.display.HTML object>"
      ]
     },
     "metadata": {},
     "output_type": "display_data"
    },
    {
     "name": "stdout",
     "output_type": "stream",
     "text": [
      "61\n"
     ]
    }
   ],
   "source": [
    "# Clip all the images in the s3 collection down to the ROI\n",
    "def clip_image(image):\n",
    "    return image.clip(roi_for_cropping)\n",
    "\n",
    "# Apply clip to image collection\n",
    "copernicus_clipped = s3.map(clip_image)\n",
    "print(copernicus_clipped.size().getInfo())"
   ]
  },
  {
   "cell_type": "code",
   "execution_count": 177,
   "metadata": {},
   "outputs": [
    {
     "data": {
      "text/html": [
       "\n",
       "            <style>\n",
       "                .geemap-dark {\n",
       "                    --jp-widgets-color: white;\n",
       "                    --jp-widgets-label-color: white;\n",
       "                    --jp-ui-font-color1: white;\n",
       "                    --jp-layout-color2: #454545;\n",
       "                    background-color: #383838;\n",
       "                }\n",
       "\n",
       "                .geemap-dark .jupyter-button {\n",
       "                    --jp-layout-color3: #383838;\n",
       "                }\n",
       "\n",
       "                .geemap-colab {\n",
       "                    background-color: var(--colab-primary-surface-color, white);\n",
       "                }\n",
       "\n",
       "                .geemap-colab .jupyter-button {\n",
       "                    --jp-layout-color3: var(--colab-primary-surface-color, white);\n",
       "                }\n",
       "            </style>\n",
       "            "
      ],
      "text/plain": [
       "<IPython.core.display.HTML object>"
      ]
     },
     "metadata": {},
     "output_type": "display_data"
    }
   ],
   "source": [
    "# Function to calculate mean band values around a simple point\n",
    "# this function will be passed through the define endmembers \n",
    "def calculate_mean_band_values(image, point_geometry):\n",
    "    buffer = point_geometry.buffer(80)  #80 meter buffer radius, 4x4 pixel\n",
    "    band_means = image.reduceRegion(\n",
    "        reducer=ee.Reducer.mean(),\n",
    "        geometry=buffer,\n",
    "        scale=20,\n",
    "        maxPixels=1e8  # Adjusted based on sample size\n",
    "    )\n",
    "    return band_means"
   ]
  },
  {
   "cell_type": "code",
   "execution_count": 193,
   "metadata": {},
   "outputs": [
    {
     "data": {
      "text/html": [
       "\n",
       "            <style>\n",
       "                .geemap-dark {\n",
       "                    --jp-widgets-color: white;\n",
       "                    --jp-widgets-label-color: white;\n",
       "                    --jp-ui-font-color1: white;\n",
       "                    --jp-layout-color2: #454545;\n",
       "                    background-color: #383838;\n",
       "                }\n",
       "\n",
       "                .geemap-dark .jupyter-button {\n",
       "                    --jp-layout-color3: #383838;\n",
       "                }\n",
       "\n",
       "                .geemap-colab {\n",
       "                    background-color: var(--colab-primary-surface-color, white);\n",
       "                }\n",
       "\n",
       "                .geemap-colab .jupyter-button {\n",
       "                    --jp-layout-color3: var(--colab-primary-surface-color, white);\n",
       "                }\n",
       "            </style>\n",
       "            "
      ],
      "text/plain": [
       "<IPython.core.display.HTML object>"
      ]
     },
     "metadata": {},
     "output_type": "display_data"
    }
   ],
   "source": [
    "# Function to define endmembers\n",
    "def define_endmembers(image, roi, n=1):\n",
    "   # Calculate brightness\n",
    "    brightness = image.select(['B2', 'B3', 'B4', 'B11', 'B12']).reduce(ee.Reducer.sum()).rename('brightness') #RGB and SWIR Bands\n",
    "\n",
    "    # Generate a grid of points\n",
    "    points = ee.FeatureCollection.randomPoints(region=roi_LF, points=6000)\n",
    "\n",
    "    # Calculate brightness for each point\n",
    "    points_with_brightness = brightness.reduceRegions(\n",
    "        collection=points,\n",
    "        reducer=ee.Reducer.mean(),\n",
    "        scale=20\n",
    "        )\n",
    "\n",
    "    # Sort points by brightness\n",
    "    brightest_point = points_with_brightness.sort('brightness', False).first()\n",
    "    brightest_geometry = ee.Feature(brightest_point).geometry()\n",
    "\n",
    "    # Filter out points near the brightest point\n",
    "    filtered_points = points_with_brightness.filter(ee.Filter.bounds(brightest_geometry.buffer(100)).Not())\n",
    "\n",
    "    # Find the dimmest point from the remaining points\n",
    "    dimmest_point = filtered_points.sort('brightness', True).first()\n",
    "    dimmest_geometry = ee.Feature(dimmest_point).geometry()\n",
    "\n",
    "    # Calculate mean band values for brightest and dimmest points\n",
    "    brightest_band_means = calculate_mean_band_values(image, brightest_geometry)\n",
    "    dimmest_band_means = calculate_mean_band_values(image, dimmest_geometry)\n",
    "\n",
    "    # Combine into endmembers\n",
    "    endmembers = ee.List([\n",
    "     brightest_band_means.values(),\n",
    "     dimmest_band_means.values()\n",
    "    ])\n",
    "    return endmembers\n"
   ]
  },
  {
   "cell_type": "code",
   "execution_count": 194,
   "metadata": {},
   "outputs": [
    {
     "data": {
      "text/html": [
       "\n",
       "            <style>\n",
       "                .geemap-dark {\n",
       "                    --jp-widgets-color: white;\n",
       "                    --jp-widgets-label-color: white;\n",
       "                    --jp-ui-font-color1: white;\n",
       "                    --jp-layout-color2: #454545;\n",
       "                    background-color: #383838;\n",
       "                }\n",
       "\n",
       "                .geemap-dark .jupyter-button {\n",
       "                    --jp-layout-color3: #383838;\n",
       "                }\n",
       "\n",
       "                .geemap-colab {\n",
       "                    background-color: var(--colab-primary-surface-color, white);\n",
       "                }\n",
       "\n",
       "                .geemap-colab .jupyter-button {\n",
       "                    --jp-layout-color3: var(--colab-primary-surface-color, white);\n",
       "                }\n",
       "            </style>\n",
       "            "
      ],
      "text/plain": [
       "<IPython.core.display.HTML object>"
      ]
     },
     "metadata": {},
     "output_type": "display_data"
    },
    {
     "name": "stdout",
     "output_type": "stream",
     "text": [
      "[[145.1850674064175, 138.97924525110378, 6299.216377137636, 5906.7998105516, 6446.629966677379, 5343.583315008715], [519.7856672130316, 506.4510890687576, 3792.696361885128, 3423.237905338043, 3588.297132428735, 2881.5660622856076]]\n"
     ]
    }
   ],
   "source": [
    "outputs = define_endmembers(copernicus_clipped.first(), roi_LF)\n",
    "print(outputs.getInfo())"
   ]
  },
  {
   "cell_type": "code",
   "execution_count": 195,
   "metadata": {},
   "outputs": [
    {
     "data": {
      "text/html": [
       "\n",
       "            <style>\n",
       "                .geemap-dark {\n",
       "                    --jp-widgets-color: white;\n",
       "                    --jp-widgets-label-color: white;\n",
       "                    --jp-ui-font-color1: white;\n",
       "                    --jp-layout-color2: #454545;\n",
       "                    background-color: #383838;\n",
       "                }\n",
       "\n",
       "                .geemap-dark .jupyter-button {\n",
       "                    --jp-layout-color3: #383838;\n",
       "                }\n",
       "\n",
       "                .geemap-colab {\n",
       "                    background-color: var(--colab-primary-surface-color, white);\n",
       "                }\n",
       "\n",
       "                .geemap-colab .jupyter-button {\n",
       "                    --jp-layout-color3: var(--colab-primary-surface-color, white);\n",
       "                }\n",
       "            </style>\n",
       "            "
      ],
      "text/plain": [
       "<IPython.core.display.HTML object>"
      ]
     },
     "metadata": {},
     "output_type": "display_data"
    }
   ],
   "source": [
    "def unmix_image_collection(image_collection, roi):\n",
    "    def unmix_image(image):\n",
    "        # Define endmembers for the current image\n",
    "        endmembers = define_endmembers(image, roi)\n",
    "\n",
    "        # Apply the unmixing process\n",
    "        unmixed = image.select(['B2', 'B3', 'B4', 'B8', 'B11', 'B12']).unmix(endmembers, True, True)\n",
    "\n",
    "        # Rename unmixed bands for clarity\n",
    "        unmixed = unmixed.rename(['endmember_1', 'endmember_2'])\n",
    "\n",
    "        # Add properties for tracking\n",
    "        return unmixed.set('system:time_start', image.get('system:time_start'))\n",
    "\n",
    "    # Map the unmixing process over the image collection\n",
    "    unmixed_collection = image_collection.map(unmix_image)\n",
    "\n",
    "    return unmixed_collection"
   ]
  },
  {
   "cell_type": "code",
   "execution_count": 196,
   "metadata": {},
   "outputs": [
    {
     "data": {
      "text/html": [
       "\n",
       "            <style>\n",
       "                .geemap-dark {\n",
       "                    --jp-widgets-color: white;\n",
       "                    --jp-widgets-label-color: white;\n",
       "                    --jp-ui-font-color1: white;\n",
       "                    --jp-layout-color2: #454545;\n",
       "                    background-color: #383838;\n",
       "                }\n",
       "\n",
       "                .geemap-dark .jupyter-button {\n",
       "                    --jp-layout-color3: #383838;\n",
       "                }\n",
       "\n",
       "                .geemap-colab {\n",
       "                    background-color: var(--colab-primary-surface-color, white);\n",
       "                }\n",
       "\n",
       "                .geemap-colab .jupyter-button {\n",
       "                    --jp-layout-color3: var(--colab-primary-surface-color, white);\n",
       "                }\n",
       "            </style>\n",
       "            "
      ],
      "text/plain": [
       "<IPython.core.display.HTML object>"
      ]
     },
     "metadata": {},
     "output_type": "display_data"
    },
    {
     "name": "stdout",
     "output_type": "stream",
     "text": [
      "{'type': 'Image', 'bands': [{'id': 'endmember_1', 'data_type': {'type': 'PixelType', 'precision': 'double'}, 'dimensions': [3, 2], 'origin': [161, -79], 'crs': 'EPSG:4326', 'crs_transform': [1, 0, 0, 0, 1, 0]}, {'id': 'endmember_2', 'data_type': {'type': 'PixelType', 'precision': 'double'}, 'dimensions': [3, 2], 'origin': [161, -79], 'crs': 'EPSG:4326', 'crs_transform': [1, 0, 0, 0, 1, 0]}], 'properties': {'system:time_start': 1455840000000, 'system:index': '0'}}\n"
     ]
    }
   ],
   "source": [
    "# apply process to all images in collection\n",
    "result_collection = unmix_image_collection(copernicus_clipped, roi_LF)\n",
    "print(result_collection.first().getInfo())"
   ]
  },
  {
   "cell_type": "code",
   "execution_count": 197,
   "metadata": {},
   "outputs": [
    {
     "data": {
      "text/html": [
       "\n",
       "            <style>\n",
       "                .geemap-dark {\n",
       "                    --jp-widgets-color: white;\n",
       "                    --jp-widgets-label-color: white;\n",
       "                    --jp-ui-font-color1: white;\n",
       "                    --jp-layout-color2: #454545;\n",
       "                    background-color: #383838;\n",
       "                }\n",
       "\n",
       "                .geemap-dark .jupyter-button {\n",
       "                    --jp-layout-color3: #383838;\n",
       "                }\n",
       "\n",
       "                .geemap-colab {\n",
       "                    background-color: var(--colab-primary-surface-color, white);\n",
       "                }\n",
       "\n",
       "                .geemap-colab .jupyter-button {\n",
       "                    --jp-layout-color3: var(--colab-primary-surface-color, white);\n",
       "                }\n",
       "            </style>\n",
       "            "
      ],
      "text/plain": [
       "<IPython.core.display.HTML object>"
      ]
     },
     "metadata": {},
     "output_type": "display_data"
    },
    {
     "name": "stdout",
     "output_type": "stream",
     "text": [
      "{'type': 'Image', 'bands': [{'id': 'brightness', 'data_type': {'type': 'PixelType', 'precision': 'int', 'min': -9.223372036854776e+18, 'max': 9.223372036854776e+18}, 'crs': 'EPSG:4326', 'crs_transform': [1, 0, 0, 0, 1, 0]}], 'properties': {'system:footprint': {'type': 'Polygon', 'coordinates': [[[163.24357885656732, -77.5812101682432], [162.70112890539545, -77.64219641154588], [162.74919409094232, -77.66275299707411], [162.38939184484857, -77.70376522386023], [162.25068945227045, -77.71808776695123], [162.3028745108642, -77.73968659951969], [163.33146948156732, -77.61630600197311], [163.24357885656732, -77.5812101682432]]]}}}\n"
     ]
    }
   ],
   "source": [
    "####### TROUBLE SHOOTING ######\n",
    "# Calculate brightness\n",
    "\n",
    "brightness = copernicus_clipped.first().select(['B2', 'B3', 'B4']).reduce(ee.Reducer.sum()).rename('brightness') #RGB and SWIR Bands\n",
    "print(brightness.getInfo())\n",
    "\n",
    "\n",
    "    # Generate a grid of points\n",
    "points = ee.FeatureCollection.randomPoints(region=roi_LF, points=2000)\n",
    "\n",
    "    # Calculate brightness for each point\n",
    "points_with_brightness = brightness.reduceRegions(\n",
    "        collection=points,\n",
    "        reducer=ee.Reducer.mean(),\n",
    "        scale=20\n",
    "        )\n",
    "\n",
    "    # Sort points by brightness\n",
    "brightest_point = points_with_brightness.sort('brightness', False).first()\n",
    "brightest_geometry = ee.Feature(brightest_point).geometry()\n",
    "\n",
    "    # Filter out points near the brightest point\n",
    "    #filtered_points = distinct_points.filterBounds(brightest_geometry.buffer(100))\n",
    "filtered_points = points_with_brightness.filter(ee.Filter.bounds(brightest_geometry.buffer(100)).Not())\n",
    "\n",
    "    # Find the dimmest point from the remaining points\n",
    "dimmest_point = filtered_points.sort('brightness', True).first()\n",
    "dimmest_geometry = ee.Feature(dimmest_point).geometry()\n",
    "\n",
    "    # Calculate mean band values for brightest and dimmest points\n",
    "brightest_band_means = calculate_mean_band_values(copernicus_clipped.first(), brightest_geometry)\n",
    "dimmest_band_means = calculate_mean_band_values(copernicus_clipped.first(), dimmest_geometry)\n",
    "\n",
    "    # Combine into endmembers\n",
    "endmembers = ee.List([\n",
    "     brightest_band_means.values(),\n",
    "     dimmest_band_means.values()\n",
    "    ])"
   ]
  },
  {
   "cell_type": "code",
   "execution_count": 198,
   "metadata": {},
   "outputs": [
    {
     "data": {
      "text/html": [
       "\n",
       "            <style>\n",
       "                .geemap-dark {\n",
       "                    --jp-widgets-color: white;\n",
       "                    --jp-widgets-label-color: white;\n",
       "                    --jp-ui-font-color1: white;\n",
       "                    --jp-layout-color2: #454545;\n",
       "                    background-color: #383838;\n",
       "                }\n",
       "\n",
       "                .geemap-dark .jupyter-button {\n",
       "                    --jp-layout-color3: #383838;\n",
       "                }\n",
       "\n",
       "                .geemap-colab {\n",
       "                    background-color: var(--colab-primary-surface-color, white);\n",
       "                }\n",
       "\n",
       "                .geemap-colab .jupyter-button {\n",
       "                    --jp-layout-color3: var(--colab-primary-surface-color, white);\n",
       "                }\n",
       "            </style>\n",
       "            "
      ],
      "text/plain": [
       "<IPython.core.display.HTML object>"
      ]
     },
     "metadata": {},
     "output_type": "display_data"
    },
    {
     "data": {
      "application/vnd.jupyter.widget-view+json": {
       "model_id": "640e9863283d46ad9343d9146a2751f7",
       "version_major": 2,
       "version_minor": 0
      },
      "text/plain": [
       "Map(center=[-77.6091387013167, 163.16942980628684], controls=(WidgetControl(options=['position', 'transparent_…"
      ]
     },
     "metadata": {},
     "output_type": "display_data"
    }
   ],
   "source": [
    "vis_params = {\n",
    "    'bands': ['B4', 'B3', 'B2'],  # Red, Green, Blue bands (for Sentinel-2 or Landsat 8)\n",
    "    'min': 0,\n",
    "    'max': 10000,  # Adjust based on the dataset's reflectance range\n",
    "    'gamma': 1.4  # Optional, enhances contrast\n",
    "}\n",
    "\n",
    "#Plot to confirm output\n",
    "Map = geemap.Map(zoom=10, center=[-77.616808, 163.077952])\n",
    "Map.centerObject(roi_LF, 10)\n",
    "Map.addLayer(result_collection.first())\n",
    "Map.addLayer(copernicus_clipped.first(), vis_params)\n",
    "#Map.addLayer(brightness)\n",
    "Map.addLayer(roi_LF)\n",
    "\n",
    "Map"
   ]
  },
  {
   "cell_type": "code",
   "execution_count": 73,
   "metadata": {},
   "outputs": [
    {
     "data": {
      "text/html": [
       "\n",
       "            <style>\n",
       "                .geemap-dark {\n",
       "                    --jp-widgets-color: white;\n",
       "                    --jp-widgets-label-color: white;\n",
       "                    --jp-ui-font-color1: white;\n",
       "                    --jp-layout-color2: #454545;\n",
       "                    background-color: #383838;\n",
       "                }\n",
       "\n",
       "                .geemap-dark .jupyter-button {\n",
       "                    --jp-layout-color3: #383838;\n",
       "                }\n",
       "\n",
       "                .geemap-colab {\n",
       "                    background-color: var(--colab-primary-surface-color, white);\n",
       "                }\n",
       "\n",
       "                .geemap-colab .jupyter-button {\n",
       "                    --jp-layout-color3: var(--colab-primary-surface-color, white);\n",
       "                }\n",
       "            </style>\n",
       "            "
      ],
      "text/plain": [
       "<IPython.core.display.HTML object>"
      ]
     },
     "metadata": {},
     "output_type": "display_data"
    }
   ],
   "source": [
    "# export the images in the copernicus_clipped collection\n",
    "def export_image(image):\n",
    "    date_str = ee.Date(image.get('system:time_start')).format('YYYY-MM-dd').getInfo()\n",
    "    task = ee.batch.Export.image.toDrive(\n",
    "        image=image,\n",
    "        description=f'Sentinel2_unmixed_images_{date_str}',\n",
    "        folder='EarthEngine',  # Replace with your folder name\n",
    "        scale=20,                 # Define the scale (e.g., 30 meters per pixel)\n",
    "        crs='EPSG:3031',          # Define the Coordinate Reference System\n",
    "        region=pointed,  # Define the region to export\n",
    "        fileNamePrefix=f'Sentinel_20deg_unmix_feb17_{date_str}'\n",
    "    )\n",
    "    task.start()\n",
    "    print(f\"Export started for image with date {date_str}.\")\n",
    "    "
   ]
  },
  {
   "cell_type": "code",
   "execution_count": 109,
   "metadata": {},
   "outputs": [
    {
     "data": {
      "text/html": [
       "\n",
       "            <style>\n",
       "                .geemap-dark {\n",
       "                    --jp-widgets-color: white;\n",
       "                    --jp-widgets-label-color: white;\n",
       "                    --jp-ui-font-color1: white;\n",
       "                    --jp-layout-color2: #454545;\n",
       "                    background-color: #383838;\n",
       "                }\n",
       "\n",
       "                .geemap-dark .jupyter-button {\n",
       "                    --jp-layout-color3: #383838;\n",
       "                }\n",
       "\n",
       "                .geemap-colab {\n",
       "                    background-color: var(--colab-primary-surface-color, white);\n",
       "                }\n",
       "\n",
       "                .geemap-colab .jupyter-button {\n",
       "                    --jp-layout-color3: var(--colab-primary-surface-color, white);\n",
       "                }\n",
       "            </style>\n",
       "            "
      ],
      "text/plain": [
       "<IPython.core.display.HTML object>"
      ]
     },
     "metadata": {},
     "output_type": "display_data"
    },
    {
     "name": "stdout",
     "output_type": "stream",
     "text": [
      "Export started for image with date 2015-12-18.\n",
      "Export started for image with date 2015-12-21.\n",
      "Export started for image with date 2015-12-27.\n",
      "Export started for image with date 2015-12-28.\n",
      "Export started for image with date 2015-12-29.\n",
      "Export started for image with date 2015-12-31.\n",
      "Export started for image with date 2016-01-07.\n",
      "Export started for image with date 2016-01-13.\n",
      "Export started for image with date 2016-01-14.\n",
      "Export started for image with date 2016-01-23.\n",
      "Export started for image with date 2016-02-02.\n",
      "Export started for image with date 2016-02-05.\n",
      "Export started for image with date 2016-02-19.\n",
      "Export started for image with date 2016-10-24.\n",
      "Export started for image with date 2016-10-26.\n",
      "Export started for image with date 2016-10-30.\n",
      "Export started for image with date 2016-11-01.\n",
      "Export started for image with date 2016-11-03.\n",
      "Export started for image with date 2016-11-05.\n",
      "Export started for image with date 2016-11-06.\n",
      "Export started for image with date 2016-11-08.\n",
      "Export started for image with date 2016-11-09.\n",
      "Export started for image with date 2016-12-12.\n",
      "Export started for image with date 2016-12-13.\n",
      "Export started for image with date 2016-12-15.\n",
      "Export started for image with date 2016-12-18.\n",
      "Export started for image with date 2016-12-19.\n",
      "Export started for image with date 2016-12-25.\n",
      "Export started for image with date 2017-01-02.\n",
      "Export started for image with date 2017-01-08.\n",
      "Export started for image with date 2017-01-14.\n",
      "Export started for image with date 2017-01-15.\n",
      "Export started for image with date 2017-01-18.\n",
      "Export started for image with date 2017-01-24.\n",
      "Export started for image with date 2017-01-25.\n",
      "Export started for image with date 2017-01-27.\n",
      "Export started for image with date 2017-01-28.\n",
      "Export started for image with date 2017-01-30.\n",
      "Export started for image with date 2017-01-31.\n",
      "Export started for image with date 2017-02-01.\n",
      "Export started for image with date 2017-02-10.\n",
      "Export started for image with date 2017-02-11.\n",
      "Export started for image with date 2017-02-14.\n",
      "Export started for image with date 2017-02-16.\n",
      "Export started for image with date 2017-02-19.\n",
      "Export started for image with date 2017-02-20.\n",
      "Export started for image with date 2017-03-08.\n",
      "Export started for image with date 2018-01-12.\n",
      "Export started for image with date 2018-01-23.\n",
      "Export started for image with date 2018-02-12.\n",
      "Export started for image with date 2018-02-17.\n",
      "Export started for image with date 2018-10-15.\n",
      "Export started for image with date 2018-10-24.\n",
      "Export started for image with date 2018-11-24.\n",
      "Export started for image with date 2019-02-21.\n",
      "Export started for image with date 2019-02-22.\n",
      "Export started for image with date 2019-09-29.\n",
      "Export started for image with date 2019-10-09.\n",
      "Export started for image with date 2019-10-19.\n",
      "Export started for image with date 2019-10-20.\n",
      "Export started for image with date 2019-10-29.\n",
      "Export started for image with date 2019-11-08.\n",
      "Export started for image with date 2019-11-09.\n",
      "Export started for image with date 2019-11-18.\n",
      "Export started for image with date 2019-11-19.\n",
      "Export started for image with date 2020-02-06.\n",
      "Export started for image with date 2020-03-07.\n",
      "Export started for image with date 2020-03-08.\n",
      "Export started for image with date 2020-10-23.\n",
      "Export started for image with date 2020-10-24.\n",
      "Export started for image with date 2020-11-03.\n",
      "Export started for image with date 2020-11-12.\n",
      "Export started for image with date 2020-11-22.\n",
      "Export started for image with date 2020-11-23.\n",
      "Export started for image with date 2020-12-02.\n",
      "Export started for image with date 2020-12-03.\n",
      "Export started for image with date 2021-01-01.\n",
      "Export started for image with date 2021-01-12.\n",
      "Export started for image with date 2021-01-13.\n",
      "Export started for image with date 2021-01-21.\n",
      "Export started for image with date 2021-01-22.\n",
      "Export started for image with date 2021-01-23.\n",
      "Export started for image with date 2021-02-01.\n",
      "Export started for image with date 2021-02-11.\n",
      "Export started for image with date 2021-03-02.\n",
      "Export started for image with date 2021-10-08.\n",
      "Export started for image with date 2021-10-09.\n",
      "Export started for image with date 2021-10-29.\n",
      "Export started for image with date 2021-11-07.\n",
      "Export started for image with date 2021-11-08.\n",
      "Export started for image with date 2021-11-17.\n",
      "Export started for image with date 2021-11-18.\n",
      "Export started for image with date 2021-12-07.\n",
      "Export started for image with date 2021-12-08.\n",
      "Export started for image with date 2021-12-18.\n",
      "Export started for image with date 2021-12-28.\n",
      "Export started for image with date 2022-01-07.\n",
      "Export started for image with date 2022-01-16.\n",
      "Export started for image with date 2022-01-27.\n",
      "Export started for image with date 2022-02-25.\n",
      "Export started for image with date 2022-10-11.\n",
      "Export started for image with date 2022-10-13.\n",
      "Export started for image with date 2022-10-17.\n",
      "Export started for image with date 2022-10-31.\n",
      "Export started for image with date 2022-11-02.\n",
      "Export started for image with date 2022-11-12.\n",
      "Export started for image with date 2022-11-16.\n",
      "Export started for image with date 2022-11-22.\n",
      "Export started for image with date 2022-12-06.\n",
      "Export started for image with date 2022-12-10.\n",
      "Export started for image with date 2022-12-16.\n",
      "Export started for image with date 2022-12-26.\n",
      "Export started for image with date 2023-01-01.\n",
      "Export started for image with date 2023-01-09.\n",
      "Export started for image with date 2023-01-11.\n",
      "Export started for image with date 2023-01-15.\n",
      "Export started for image with date 2023-02-03.\n",
      "Export started for image with date 2023-02-08.\n",
      "Export started for image with date 2023-02-13.\n",
      "Export started for image with date 2023-02-14.\n",
      "Export started for image with date 2023-02-28.\n",
      "Export started for image with date 2023-03-02.\n",
      "Export started for image with date 2023-03-06.\n",
      "Export started for image with date 2023-10-06.\n",
      "Export started for image with date 2023-10-08.\n",
      "Export started for image with date 2023-10-12.\n",
      "Export started for image with date 2023-10-16.\n",
      "Export started for image with date 2023-11-01.\n",
      "Export started for image with date 2023-11-15.\n",
      "Export started for image with date 2023-11-17.\n",
      "Export started for image with date 2023-11-21.\n",
      "Export started for image with date 2023-12-01.\n",
      "Export started for image with date 2023-12-05.\n",
      "Export started for image with date 2023-12-07.\n",
      "Export started for image with date 2023-12-11.\n",
      "Export started for image with date 2023-12-15.\n",
      "Export started for image with date 2024-01-04.\n",
      "Export started for image with date 2024-01-10.\n",
      "Export started for image with date 2024-01-14.\n",
      "Export started for image with date 2024-01-26.\n",
      "Export started for image with date 2024-02-03.\n",
      "Export started for image with date 2024-09-22.\n",
      "Export started for image with date 2024-10-06.\n",
      "Export started for image with date 2024-10-16.\n"
     ]
    },
    {
     "ename": "KeyboardInterrupt",
     "evalue": "",
     "output_type": "error",
     "traceback": [
      "\u001b[0;31m---------------------------------------------------------------------------\u001b[0m",
      "\u001b[0;31mKeyboardInterrupt\u001b[0m                         Traceback (most recent call last)",
      "Cell \u001b[0;32mIn[109], line 9\u001b[0m\n\u001b[1;32m      6\u001b[0m         image \u001b[38;5;241m=\u001b[39m ee\u001b[38;5;241m.\u001b[39mImage(image_list\u001b[38;5;241m.\u001b[39mget(i))\n\u001b[1;32m      7\u001b[0m         export_image(image)\n\u001b[0;32m----> 9\u001b[0m process_images()\n",
      "Cell \u001b[0;32mIn[109], line 7\u001b[0m, in \u001b[0;36mprocess_images\u001b[0;34m()\u001b[0m\n\u001b[1;32m      5\u001b[0m \u001b[38;5;28;01mfor\u001b[39;00m i \u001b[38;5;129;01min\u001b[39;00m \u001b[38;5;28mrange\u001b[39m(num_images):\n\u001b[1;32m      6\u001b[0m     image \u001b[38;5;241m=\u001b[39m ee\u001b[38;5;241m.\u001b[39mImage(image_list\u001b[38;5;241m.\u001b[39mget(i))\n\u001b[0;32m----> 7\u001b[0m     export_image(image)\n",
      "Cell \u001b[0;32mIn[73], line 3\u001b[0m, in \u001b[0;36mexport_image\u001b[0;34m(image)\u001b[0m\n\u001b[1;32m      2\u001b[0m \u001b[38;5;28;01mdef\u001b[39;00m \u001b[38;5;21mexport_image\u001b[39m(image):\n\u001b[0;32m----> 3\u001b[0m     date_str \u001b[38;5;241m=\u001b[39m ee\u001b[38;5;241m.\u001b[39mDate(image\u001b[38;5;241m.\u001b[39mget(\u001b[38;5;124m'\u001b[39m\u001b[38;5;124msystem:time_start\u001b[39m\u001b[38;5;124m'\u001b[39m))\u001b[38;5;241m.\u001b[39mformat(\u001b[38;5;124m'\u001b[39m\u001b[38;5;124mYYYY-MM-dd\u001b[39m\u001b[38;5;124m'\u001b[39m)\u001b[38;5;241m.\u001b[39mgetInfo()\n\u001b[1;32m      4\u001b[0m     task \u001b[38;5;241m=\u001b[39m ee\u001b[38;5;241m.\u001b[39mbatch\u001b[38;5;241m.\u001b[39mExport\u001b[38;5;241m.\u001b[39mimage\u001b[38;5;241m.\u001b[39mtoDrive(\n\u001b[1;32m      5\u001b[0m         image\u001b[38;5;241m=\u001b[39mimage,\n\u001b[1;32m      6\u001b[0m         description\u001b[38;5;241m=\u001b[39m\u001b[38;5;124mf\u001b[39m\u001b[38;5;124m'\u001b[39m\u001b[38;5;124mSentinel2_unmixed_images_\u001b[39m\u001b[38;5;132;01m{\u001b[39;00mdate_str\u001b[38;5;132;01m}\u001b[39;00m\u001b[38;5;124m'\u001b[39m,\n\u001b[0;32m   (...)\u001b[0m\n\u001b[1;32m     11\u001b[0m         fileNamePrefix\u001b[38;5;241m=\u001b[39m\u001b[38;5;124mf\u001b[39m\u001b[38;5;124m'\u001b[39m\u001b[38;5;124mSentinel_unmix_feb17_\u001b[39m\u001b[38;5;132;01m{\u001b[39;00mdate_str\u001b[38;5;132;01m}\u001b[39;00m\u001b[38;5;124m'\u001b[39m\n\u001b[1;32m     12\u001b[0m     )\n\u001b[1;32m     13\u001b[0m     task\u001b[38;5;241m.\u001b[39mstart()\n",
      "File \u001b[0;32m/opt/anaconda3/lib/python3.11/site-packages/ee/computedobject.py:107\u001b[0m, in \u001b[0;36mComputedObject.getInfo\u001b[0;34m(self)\u001b[0m\n\u001b[1;32m    101\u001b[0m \u001b[38;5;28;01mdef\u001b[39;00m \u001b[38;5;21mgetInfo\u001b[39m(\u001b[38;5;28mself\u001b[39m) \u001b[38;5;241m-\u001b[39m\u001b[38;5;241m>\u001b[39m Optional[Any]:\n\u001b[1;32m    102\u001b[0m \u001b[38;5;250m  \u001b[39m\u001b[38;5;124;03m\"\"\"Fetch and return information about this object.\u001b[39;00m\n\u001b[1;32m    103\u001b[0m \n\u001b[1;32m    104\u001b[0m \u001b[38;5;124;03m  Returns:\u001b[39;00m\n\u001b[1;32m    105\u001b[0m \u001b[38;5;124;03m    The object can evaluate to anything.\u001b[39;00m\n\u001b[1;32m    106\u001b[0m \u001b[38;5;124;03m  \"\"\"\u001b[39;00m\n\u001b[0;32m--> 107\u001b[0m   \u001b[38;5;28;01mreturn\u001b[39;00m data\u001b[38;5;241m.\u001b[39mcomputeValue(\u001b[38;5;28mself\u001b[39m)\n",
      "File \u001b[0;32m/opt/anaconda3/lib/python3.11/site-packages/ee/data.py:1126\u001b[0m, in \u001b[0;36mcomputeValue\u001b[0;34m(obj)\u001b[0m\n\u001b[1;32m   1123\u001b[0m body \u001b[38;5;241m=\u001b[39m {\u001b[38;5;124m'\u001b[39m\u001b[38;5;124mexpression\u001b[39m\u001b[38;5;124m'\u001b[39m: serializer\u001b[38;5;241m.\u001b[39mencode(obj, for_cloud_api\u001b[38;5;241m=\u001b[39m\u001b[38;5;28;01mTrue\u001b[39;00m)}\n\u001b[1;32m   1124\u001b[0m _maybe_populate_workload_tag(body)\n\u001b[0;32m-> 1126\u001b[0m \u001b[38;5;28;01mreturn\u001b[39;00m _execute_cloud_call(\n\u001b[1;32m   1127\u001b[0m     _get_cloud_projects()\n\u001b[1;32m   1128\u001b[0m     \u001b[38;5;241m.\u001b[39mvalue()\n\u001b[1;32m   1129\u001b[0m     \u001b[38;5;241m.\u001b[39mcompute(body\u001b[38;5;241m=\u001b[39mbody, project\u001b[38;5;241m=\u001b[39m_get_projects_path(), prettyPrint\u001b[38;5;241m=\u001b[39m\u001b[38;5;28;01mFalse\u001b[39;00m)\n\u001b[1;32m   1130\u001b[0m )[\u001b[38;5;124m'\u001b[39m\u001b[38;5;124mresult\u001b[39m\u001b[38;5;124m'\u001b[39m]\n",
      "File \u001b[0;32m/opt/anaconda3/lib/python3.11/site-packages/ee/data.py:406\u001b[0m, in \u001b[0;36m_execute_cloud_call\u001b[0;34m(call, num_retries)\u001b[0m\n\u001b[1;32m    404\u001b[0m num_retries \u001b[38;5;241m=\u001b[39m _max_retries \u001b[38;5;28;01mif\u001b[39;00m num_retries \u001b[38;5;129;01mis\u001b[39;00m \u001b[38;5;28;01mNone\u001b[39;00m \u001b[38;5;28;01melse\u001b[39;00m num_retries\n\u001b[1;32m    405\u001b[0m \u001b[38;5;28;01mtry\u001b[39;00m:\n\u001b[0;32m--> 406\u001b[0m   \u001b[38;5;28;01mreturn\u001b[39;00m call\u001b[38;5;241m.\u001b[39mexecute(num_retries\u001b[38;5;241m=\u001b[39mnum_retries)\n\u001b[1;32m    407\u001b[0m \u001b[38;5;28;01mexcept\u001b[39;00m googleapiclient\u001b[38;5;241m.\u001b[39merrors\u001b[38;5;241m.\u001b[39mHttpError \u001b[38;5;28;01mas\u001b[39;00m e:\n\u001b[1;32m    408\u001b[0m   \u001b[38;5;28;01mraise\u001b[39;00m _translate_cloud_exception(e)\n",
      "File \u001b[0;32m/opt/anaconda3/lib/python3.11/site-packages/googleapiclient/_helpers.py:130\u001b[0m, in \u001b[0;36mpositional.<locals>.positional_decorator.<locals>.positional_wrapper\u001b[0;34m(*args, **kwargs)\u001b[0m\n\u001b[1;32m    128\u001b[0m     \u001b[38;5;28;01melif\u001b[39;00m positional_parameters_enforcement \u001b[38;5;241m==\u001b[39m POSITIONAL_WARNING:\n\u001b[1;32m    129\u001b[0m         logger\u001b[38;5;241m.\u001b[39mwarning(message)\n\u001b[0;32m--> 130\u001b[0m \u001b[38;5;28;01mreturn\u001b[39;00m wrapped(\u001b[38;5;241m*\u001b[39margs, \u001b[38;5;241m*\u001b[39m\u001b[38;5;241m*\u001b[39mkwargs)\n",
      "File \u001b[0;32m/opt/anaconda3/lib/python3.11/site-packages/googleapiclient/http.py:923\u001b[0m, in \u001b[0;36mHttpRequest.execute\u001b[0;34m(self, http, num_retries)\u001b[0m\n\u001b[1;32m    920\u001b[0m     \u001b[38;5;28mself\u001b[39m\u001b[38;5;241m.\u001b[39mheaders[\u001b[38;5;124m\"\u001b[39m\u001b[38;5;124mcontent-length\u001b[39m\u001b[38;5;124m\"\u001b[39m] \u001b[38;5;241m=\u001b[39m \u001b[38;5;28mstr\u001b[39m(\u001b[38;5;28mlen\u001b[39m(\u001b[38;5;28mself\u001b[39m\u001b[38;5;241m.\u001b[39mbody))\n\u001b[1;32m    922\u001b[0m \u001b[38;5;66;03m# Handle retries for server-side errors.\u001b[39;00m\n\u001b[0;32m--> 923\u001b[0m resp, content \u001b[38;5;241m=\u001b[39m _retry_request(\n\u001b[1;32m    924\u001b[0m     http,\n\u001b[1;32m    925\u001b[0m     num_retries,\n\u001b[1;32m    926\u001b[0m     \u001b[38;5;124m\"\u001b[39m\u001b[38;5;124mrequest\u001b[39m\u001b[38;5;124m\"\u001b[39m,\n\u001b[1;32m    927\u001b[0m     \u001b[38;5;28mself\u001b[39m\u001b[38;5;241m.\u001b[39m_sleep,\n\u001b[1;32m    928\u001b[0m     \u001b[38;5;28mself\u001b[39m\u001b[38;5;241m.\u001b[39m_rand,\n\u001b[1;32m    929\u001b[0m     \u001b[38;5;28mstr\u001b[39m(\u001b[38;5;28mself\u001b[39m\u001b[38;5;241m.\u001b[39muri),\n\u001b[1;32m    930\u001b[0m     method\u001b[38;5;241m=\u001b[39m\u001b[38;5;28mstr\u001b[39m(\u001b[38;5;28mself\u001b[39m\u001b[38;5;241m.\u001b[39mmethod),\n\u001b[1;32m    931\u001b[0m     body\u001b[38;5;241m=\u001b[39m\u001b[38;5;28mself\u001b[39m\u001b[38;5;241m.\u001b[39mbody,\n\u001b[1;32m    932\u001b[0m     headers\u001b[38;5;241m=\u001b[39m\u001b[38;5;28mself\u001b[39m\u001b[38;5;241m.\u001b[39mheaders,\n\u001b[1;32m    933\u001b[0m )\n\u001b[1;32m    935\u001b[0m \u001b[38;5;28;01mfor\u001b[39;00m callback \u001b[38;5;129;01min\u001b[39;00m \u001b[38;5;28mself\u001b[39m\u001b[38;5;241m.\u001b[39mresponse_callbacks:\n\u001b[1;32m    936\u001b[0m     callback(resp)\n",
      "File \u001b[0;32m/opt/anaconda3/lib/python3.11/site-packages/googleapiclient/http.py:191\u001b[0m, in \u001b[0;36m_retry_request\u001b[0;34m(http, num_retries, req_type, sleep, rand, uri, method, *args, **kwargs)\u001b[0m\n\u001b[1;32m    189\u001b[0m \u001b[38;5;28;01mtry\u001b[39;00m:\n\u001b[1;32m    190\u001b[0m     exception \u001b[38;5;241m=\u001b[39m \u001b[38;5;28;01mNone\u001b[39;00m\n\u001b[0;32m--> 191\u001b[0m     resp, content \u001b[38;5;241m=\u001b[39m http\u001b[38;5;241m.\u001b[39mrequest(uri, method, \u001b[38;5;241m*\u001b[39margs, \u001b[38;5;241m*\u001b[39m\u001b[38;5;241m*\u001b[39mkwargs)\n\u001b[1;32m    192\u001b[0m \u001b[38;5;66;03m# Retry on SSL errors and socket timeout errors.\u001b[39;00m\n\u001b[1;32m    193\u001b[0m \u001b[38;5;28;01mexcept\u001b[39;00m _ssl_SSLError \u001b[38;5;28;01mas\u001b[39;00m ssl_error:\n",
      "File \u001b[0;32m/opt/anaconda3/lib/python3.11/site-packages/google_auth_httplib2.py:218\u001b[0m, in \u001b[0;36mAuthorizedHttp.request\u001b[0;34m(self, uri, method, body, headers, redirections, connection_type, **kwargs)\u001b[0m\n\u001b[1;32m    215\u001b[0m     body_stream_position \u001b[38;5;241m=\u001b[39m body\u001b[38;5;241m.\u001b[39mtell()\n\u001b[1;32m    217\u001b[0m \u001b[38;5;66;03m# Make the request.\u001b[39;00m\n\u001b[0;32m--> 218\u001b[0m response, content \u001b[38;5;241m=\u001b[39m \u001b[38;5;28mself\u001b[39m\u001b[38;5;241m.\u001b[39mhttp\u001b[38;5;241m.\u001b[39mrequest(\n\u001b[1;32m    219\u001b[0m     uri,\n\u001b[1;32m    220\u001b[0m     method,\n\u001b[1;32m    221\u001b[0m     body\u001b[38;5;241m=\u001b[39mbody,\n\u001b[1;32m    222\u001b[0m     headers\u001b[38;5;241m=\u001b[39mrequest_headers,\n\u001b[1;32m    223\u001b[0m     redirections\u001b[38;5;241m=\u001b[39mredirections,\n\u001b[1;32m    224\u001b[0m     connection_type\u001b[38;5;241m=\u001b[39mconnection_type,\n\u001b[1;32m    225\u001b[0m     \u001b[38;5;241m*\u001b[39m\u001b[38;5;241m*\u001b[39mkwargs\n\u001b[1;32m    226\u001b[0m )\n\u001b[1;32m    228\u001b[0m \u001b[38;5;66;03m# If the response indicated that the credentials needed to be\u001b[39;00m\n\u001b[1;32m    229\u001b[0m \u001b[38;5;66;03m# refreshed, then refresh the credentials and re-attempt the\u001b[39;00m\n\u001b[1;32m    230\u001b[0m \u001b[38;5;66;03m# request.\u001b[39;00m\n\u001b[1;32m    231\u001b[0m \u001b[38;5;66;03m# A stored token may expire between the time it is retrieved and\u001b[39;00m\n\u001b[1;32m    232\u001b[0m \u001b[38;5;66;03m# the time the request is made, so we may need to try twice.\u001b[39;00m\n\u001b[1;32m    233\u001b[0m \u001b[38;5;28;01mif\u001b[39;00m (\n\u001b[1;32m    234\u001b[0m     response\u001b[38;5;241m.\u001b[39mstatus \u001b[38;5;129;01min\u001b[39;00m \u001b[38;5;28mself\u001b[39m\u001b[38;5;241m.\u001b[39m_refresh_status_codes\n\u001b[1;32m    235\u001b[0m     \u001b[38;5;129;01mand\u001b[39;00m _credential_refresh_attempt \u001b[38;5;241m<\u001b[39m \u001b[38;5;28mself\u001b[39m\u001b[38;5;241m.\u001b[39m_max_refresh_attempts\n\u001b[1;32m    236\u001b[0m ):\n",
      "File \u001b[0;32m/opt/anaconda3/lib/python3.11/site-packages/ee/_cloud_api_utils.py:70\u001b[0m, in \u001b[0;36m_Http.request\u001b[0;34m(***failed resolving arguments***)\u001b[0m\n\u001b[1;32m     63\u001b[0m \u001b[38;5;28;01mdel\u001b[39;00m redirections  \u001b[38;5;66;03m# Ignored\u001b[39;00m\n\u001b[1;32m     65\u001b[0m \u001b[38;5;28;01mtry\u001b[39;00m:\n\u001b[1;32m     66\u001b[0m   \u001b[38;5;66;03m# googleapiclient is expecting an httplib2 object, and doesn't include\u001b[39;00m\n\u001b[1;32m     67\u001b[0m   \u001b[38;5;66;03m# requests error in the list of transient errors. Therefore, transient\u001b[39;00m\n\u001b[1;32m     68\u001b[0m   \u001b[38;5;66;03m# requests errors should be converted to kinds that googleapiclient\u001b[39;00m\n\u001b[1;32m     69\u001b[0m   \u001b[38;5;66;03m# consider transient.\u001b[39;00m\n\u001b[0;32m---> 70\u001b[0m   response \u001b[38;5;241m=\u001b[39m \u001b[38;5;28mself\u001b[39m\u001b[38;5;241m.\u001b[39m_session\u001b[38;5;241m.\u001b[39mrequest(\n\u001b[1;32m     71\u001b[0m       method, uri, data\u001b[38;5;241m=\u001b[39mbody, headers\u001b[38;5;241m=\u001b[39mheaders, timeout\u001b[38;5;241m=\u001b[39m\u001b[38;5;28mself\u001b[39m\u001b[38;5;241m.\u001b[39m_timeout\n\u001b[1;32m     72\u001b[0m   )\n\u001b[1;32m     73\u001b[0m \u001b[38;5;28;01mexcept\u001b[39;00m requests\u001b[38;5;241m.\u001b[39mexceptions\u001b[38;5;241m.\u001b[39mConnectionError \u001b[38;5;28;01mas\u001b[39;00m connection_error:\n\u001b[1;32m     74\u001b[0m   \u001b[38;5;28;01mraise\u001b[39;00m \u001b[38;5;167;01mConnectionError\u001b[39;00m(connection_error) \u001b[38;5;28;01mfrom\u001b[39;00m \u001b[38;5;21;01mconnection_error\u001b[39;00m\n",
      "File \u001b[0;32m/opt/anaconda3/lib/python3.11/site-packages/requests/sessions.py:589\u001b[0m, in \u001b[0;36mSession.request\u001b[0;34m(self, method, url, params, data, headers, cookies, files, auth, timeout, allow_redirects, proxies, hooks, stream, verify, cert, json)\u001b[0m\n\u001b[1;32m    584\u001b[0m send_kwargs \u001b[38;5;241m=\u001b[39m {\n\u001b[1;32m    585\u001b[0m     \u001b[38;5;124m\"\u001b[39m\u001b[38;5;124mtimeout\u001b[39m\u001b[38;5;124m\"\u001b[39m: timeout,\n\u001b[1;32m    586\u001b[0m     \u001b[38;5;124m\"\u001b[39m\u001b[38;5;124mallow_redirects\u001b[39m\u001b[38;5;124m\"\u001b[39m: allow_redirects,\n\u001b[1;32m    587\u001b[0m }\n\u001b[1;32m    588\u001b[0m send_kwargs\u001b[38;5;241m.\u001b[39mupdate(settings)\n\u001b[0;32m--> 589\u001b[0m resp \u001b[38;5;241m=\u001b[39m \u001b[38;5;28mself\u001b[39m\u001b[38;5;241m.\u001b[39msend(prep, \u001b[38;5;241m*\u001b[39m\u001b[38;5;241m*\u001b[39msend_kwargs)\n\u001b[1;32m    591\u001b[0m \u001b[38;5;28;01mreturn\u001b[39;00m resp\n",
      "File \u001b[0;32m/opt/anaconda3/lib/python3.11/site-packages/requests/sessions.py:703\u001b[0m, in \u001b[0;36mSession.send\u001b[0;34m(self, request, **kwargs)\u001b[0m\n\u001b[1;32m    700\u001b[0m start \u001b[38;5;241m=\u001b[39m preferred_clock()\n\u001b[1;32m    702\u001b[0m \u001b[38;5;66;03m# Send the request\u001b[39;00m\n\u001b[0;32m--> 703\u001b[0m r \u001b[38;5;241m=\u001b[39m adapter\u001b[38;5;241m.\u001b[39msend(request, \u001b[38;5;241m*\u001b[39m\u001b[38;5;241m*\u001b[39mkwargs)\n\u001b[1;32m    705\u001b[0m \u001b[38;5;66;03m# Total elapsed time of the request (approximately)\u001b[39;00m\n\u001b[1;32m    706\u001b[0m elapsed \u001b[38;5;241m=\u001b[39m preferred_clock() \u001b[38;5;241m-\u001b[39m start\n",
      "File \u001b[0;32m/opt/anaconda3/lib/python3.11/site-packages/requests/adapters.py:486\u001b[0m, in \u001b[0;36mHTTPAdapter.send\u001b[0;34m(self, request, stream, timeout, verify, cert, proxies)\u001b[0m\n\u001b[1;32m    483\u001b[0m     timeout \u001b[38;5;241m=\u001b[39m TimeoutSauce(connect\u001b[38;5;241m=\u001b[39mtimeout, read\u001b[38;5;241m=\u001b[39mtimeout)\n\u001b[1;32m    485\u001b[0m \u001b[38;5;28;01mtry\u001b[39;00m:\n\u001b[0;32m--> 486\u001b[0m     resp \u001b[38;5;241m=\u001b[39m conn\u001b[38;5;241m.\u001b[39murlopen(\n\u001b[1;32m    487\u001b[0m         method\u001b[38;5;241m=\u001b[39mrequest\u001b[38;5;241m.\u001b[39mmethod,\n\u001b[1;32m    488\u001b[0m         url\u001b[38;5;241m=\u001b[39murl,\n\u001b[1;32m    489\u001b[0m         body\u001b[38;5;241m=\u001b[39mrequest\u001b[38;5;241m.\u001b[39mbody,\n\u001b[1;32m    490\u001b[0m         headers\u001b[38;5;241m=\u001b[39mrequest\u001b[38;5;241m.\u001b[39mheaders,\n\u001b[1;32m    491\u001b[0m         redirect\u001b[38;5;241m=\u001b[39m\u001b[38;5;28;01mFalse\u001b[39;00m,\n\u001b[1;32m    492\u001b[0m         assert_same_host\u001b[38;5;241m=\u001b[39m\u001b[38;5;28;01mFalse\u001b[39;00m,\n\u001b[1;32m    493\u001b[0m         preload_content\u001b[38;5;241m=\u001b[39m\u001b[38;5;28;01mFalse\u001b[39;00m,\n\u001b[1;32m    494\u001b[0m         decode_content\u001b[38;5;241m=\u001b[39m\u001b[38;5;28;01mFalse\u001b[39;00m,\n\u001b[1;32m    495\u001b[0m         retries\u001b[38;5;241m=\u001b[39m\u001b[38;5;28mself\u001b[39m\u001b[38;5;241m.\u001b[39mmax_retries,\n\u001b[1;32m    496\u001b[0m         timeout\u001b[38;5;241m=\u001b[39mtimeout,\n\u001b[1;32m    497\u001b[0m         chunked\u001b[38;5;241m=\u001b[39mchunked,\n\u001b[1;32m    498\u001b[0m     )\n\u001b[1;32m    500\u001b[0m \u001b[38;5;28;01mexcept\u001b[39;00m (ProtocolError, \u001b[38;5;167;01mOSError\u001b[39;00m) \u001b[38;5;28;01mas\u001b[39;00m err:\n\u001b[1;32m    501\u001b[0m     \u001b[38;5;28;01mraise\u001b[39;00m \u001b[38;5;167;01mConnectionError\u001b[39;00m(err, request\u001b[38;5;241m=\u001b[39mrequest)\n",
      "File \u001b[0;32m/opt/anaconda3/lib/python3.11/site-packages/urllib3/connectionpool.py:791\u001b[0m, in \u001b[0;36mHTTPConnectionPool.urlopen\u001b[0;34m(self, method, url, body, headers, retries, redirect, assert_same_host, timeout, pool_timeout, release_conn, chunked, body_pos, preload_content, decode_content, **response_kw)\u001b[0m\n\u001b[1;32m    788\u001b[0m response_conn \u001b[38;5;241m=\u001b[39m conn \u001b[38;5;28;01mif\u001b[39;00m \u001b[38;5;129;01mnot\u001b[39;00m release_conn \u001b[38;5;28;01melse\u001b[39;00m \u001b[38;5;28;01mNone\u001b[39;00m\n\u001b[1;32m    790\u001b[0m \u001b[38;5;66;03m# Make the request on the HTTPConnection object\u001b[39;00m\n\u001b[0;32m--> 791\u001b[0m response \u001b[38;5;241m=\u001b[39m \u001b[38;5;28mself\u001b[39m\u001b[38;5;241m.\u001b[39m_make_request(\n\u001b[1;32m    792\u001b[0m     conn,\n\u001b[1;32m    793\u001b[0m     method,\n\u001b[1;32m    794\u001b[0m     url,\n\u001b[1;32m    795\u001b[0m     timeout\u001b[38;5;241m=\u001b[39mtimeout_obj,\n\u001b[1;32m    796\u001b[0m     body\u001b[38;5;241m=\u001b[39mbody,\n\u001b[1;32m    797\u001b[0m     headers\u001b[38;5;241m=\u001b[39mheaders,\n\u001b[1;32m    798\u001b[0m     chunked\u001b[38;5;241m=\u001b[39mchunked,\n\u001b[1;32m    799\u001b[0m     retries\u001b[38;5;241m=\u001b[39mretries,\n\u001b[1;32m    800\u001b[0m     response_conn\u001b[38;5;241m=\u001b[39mresponse_conn,\n\u001b[1;32m    801\u001b[0m     preload_content\u001b[38;5;241m=\u001b[39mpreload_content,\n\u001b[1;32m    802\u001b[0m     decode_content\u001b[38;5;241m=\u001b[39mdecode_content,\n\u001b[1;32m    803\u001b[0m     \u001b[38;5;241m*\u001b[39m\u001b[38;5;241m*\u001b[39mresponse_kw,\n\u001b[1;32m    804\u001b[0m )\n\u001b[1;32m    806\u001b[0m \u001b[38;5;66;03m# Everything went great!\u001b[39;00m\n\u001b[1;32m    807\u001b[0m clean_exit \u001b[38;5;241m=\u001b[39m \u001b[38;5;28;01mTrue\u001b[39;00m\n",
      "File \u001b[0;32m/opt/anaconda3/lib/python3.11/site-packages/urllib3/connectionpool.py:537\u001b[0m, in \u001b[0;36mHTTPConnectionPool._make_request\u001b[0;34m(self, conn, method, url, body, headers, retries, timeout, chunked, response_conn, preload_content, decode_content, enforce_content_length)\u001b[0m\n\u001b[1;32m    535\u001b[0m \u001b[38;5;66;03m# Receive the response from the server\u001b[39;00m\n\u001b[1;32m    536\u001b[0m \u001b[38;5;28;01mtry\u001b[39;00m:\n\u001b[0;32m--> 537\u001b[0m     response \u001b[38;5;241m=\u001b[39m conn\u001b[38;5;241m.\u001b[39mgetresponse()\n\u001b[1;32m    538\u001b[0m \u001b[38;5;28;01mexcept\u001b[39;00m (BaseSSLError, \u001b[38;5;167;01mOSError\u001b[39;00m) \u001b[38;5;28;01mas\u001b[39;00m e:\n\u001b[1;32m    539\u001b[0m     \u001b[38;5;28mself\u001b[39m\u001b[38;5;241m.\u001b[39m_raise_timeout(err\u001b[38;5;241m=\u001b[39me, url\u001b[38;5;241m=\u001b[39murl, timeout_value\u001b[38;5;241m=\u001b[39mread_timeout)\n",
      "File \u001b[0;32m/opt/anaconda3/lib/python3.11/site-packages/urllib3/connection.py:461\u001b[0m, in \u001b[0;36mHTTPConnection.getresponse\u001b[0;34m(self)\u001b[0m\n\u001b[1;32m    458\u001b[0m \u001b[38;5;28;01mfrom\u001b[39;00m \u001b[38;5;21;01m.\u001b[39;00m\u001b[38;5;21;01mresponse\u001b[39;00m \u001b[38;5;28;01mimport\u001b[39;00m HTTPResponse\n\u001b[1;32m    460\u001b[0m \u001b[38;5;66;03m# Get the response from http.client.HTTPConnection\u001b[39;00m\n\u001b[0;32m--> 461\u001b[0m httplib_response \u001b[38;5;241m=\u001b[39m \u001b[38;5;28msuper\u001b[39m()\u001b[38;5;241m.\u001b[39mgetresponse()\n\u001b[1;32m    463\u001b[0m \u001b[38;5;28;01mtry\u001b[39;00m:\n\u001b[1;32m    464\u001b[0m     assert_header_parsing(httplib_response\u001b[38;5;241m.\u001b[39mmsg)\n",
      "File \u001b[0;32m/opt/anaconda3/lib/python3.11/http/client.py:1386\u001b[0m, in \u001b[0;36mHTTPConnection.getresponse\u001b[0;34m(self)\u001b[0m\n\u001b[1;32m   1384\u001b[0m \u001b[38;5;28;01mtry\u001b[39;00m:\n\u001b[1;32m   1385\u001b[0m     \u001b[38;5;28;01mtry\u001b[39;00m:\n\u001b[0;32m-> 1386\u001b[0m         response\u001b[38;5;241m.\u001b[39mbegin()\n\u001b[1;32m   1387\u001b[0m     \u001b[38;5;28;01mexcept\u001b[39;00m \u001b[38;5;167;01mConnectionError\u001b[39;00m:\n\u001b[1;32m   1388\u001b[0m         \u001b[38;5;28mself\u001b[39m\u001b[38;5;241m.\u001b[39mclose()\n",
      "File \u001b[0;32m/opt/anaconda3/lib/python3.11/http/client.py:325\u001b[0m, in \u001b[0;36mHTTPResponse.begin\u001b[0;34m(self)\u001b[0m\n\u001b[1;32m    323\u001b[0m \u001b[38;5;66;03m# read until we get a non-100 response\u001b[39;00m\n\u001b[1;32m    324\u001b[0m \u001b[38;5;28;01mwhile\u001b[39;00m \u001b[38;5;28;01mTrue\u001b[39;00m:\n\u001b[0;32m--> 325\u001b[0m     version, status, reason \u001b[38;5;241m=\u001b[39m \u001b[38;5;28mself\u001b[39m\u001b[38;5;241m.\u001b[39m_read_status()\n\u001b[1;32m    326\u001b[0m     \u001b[38;5;28;01mif\u001b[39;00m status \u001b[38;5;241m!=\u001b[39m CONTINUE:\n\u001b[1;32m    327\u001b[0m         \u001b[38;5;28;01mbreak\u001b[39;00m\n",
      "File \u001b[0;32m/opt/anaconda3/lib/python3.11/http/client.py:286\u001b[0m, in \u001b[0;36mHTTPResponse._read_status\u001b[0;34m(self)\u001b[0m\n\u001b[1;32m    285\u001b[0m \u001b[38;5;28;01mdef\u001b[39;00m \u001b[38;5;21m_read_status\u001b[39m(\u001b[38;5;28mself\u001b[39m):\n\u001b[0;32m--> 286\u001b[0m     line \u001b[38;5;241m=\u001b[39m \u001b[38;5;28mstr\u001b[39m(\u001b[38;5;28mself\u001b[39m\u001b[38;5;241m.\u001b[39mfp\u001b[38;5;241m.\u001b[39mreadline(_MAXLINE \u001b[38;5;241m+\u001b[39m \u001b[38;5;241m1\u001b[39m), \u001b[38;5;124m\"\u001b[39m\u001b[38;5;124miso-8859-1\u001b[39m\u001b[38;5;124m\"\u001b[39m)\n\u001b[1;32m    287\u001b[0m     \u001b[38;5;28;01mif\u001b[39;00m \u001b[38;5;28mlen\u001b[39m(line) \u001b[38;5;241m>\u001b[39m _MAXLINE:\n\u001b[1;32m    288\u001b[0m         \u001b[38;5;28;01mraise\u001b[39;00m LineTooLong(\u001b[38;5;124m\"\u001b[39m\u001b[38;5;124mstatus line\u001b[39m\u001b[38;5;124m\"\u001b[39m)\n",
      "File \u001b[0;32m/opt/anaconda3/lib/python3.11/socket.py:706\u001b[0m, in \u001b[0;36mSocketIO.readinto\u001b[0;34m(self, b)\u001b[0m\n\u001b[1;32m    704\u001b[0m \u001b[38;5;28;01mwhile\u001b[39;00m \u001b[38;5;28;01mTrue\u001b[39;00m:\n\u001b[1;32m    705\u001b[0m     \u001b[38;5;28;01mtry\u001b[39;00m:\n\u001b[0;32m--> 706\u001b[0m         \u001b[38;5;28;01mreturn\u001b[39;00m \u001b[38;5;28mself\u001b[39m\u001b[38;5;241m.\u001b[39m_sock\u001b[38;5;241m.\u001b[39mrecv_into(b)\n\u001b[1;32m    707\u001b[0m     \u001b[38;5;28;01mexcept\u001b[39;00m timeout:\n\u001b[1;32m    708\u001b[0m         \u001b[38;5;28mself\u001b[39m\u001b[38;5;241m.\u001b[39m_timeout_occurred \u001b[38;5;241m=\u001b[39m \u001b[38;5;28;01mTrue\u001b[39;00m\n",
      "File \u001b[0;32m/opt/anaconda3/lib/python3.11/ssl.py:1315\u001b[0m, in \u001b[0;36mSSLSocket.recv_into\u001b[0;34m(self, buffer, nbytes, flags)\u001b[0m\n\u001b[1;32m   1311\u001b[0m     \u001b[38;5;28;01mif\u001b[39;00m flags \u001b[38;5;241m!=\u001b[39m \u001b[38;5;241m0\u001b[39m:\n\u001b[1;32m   1312\u001b[0m         \u001b[38;5;28;01mraise\u001b[39;00m \u001b[38;5;167;01mValueError\u001b[39;00m(\n\u001b[1;32m   1313\u001b[0m           \u001b[38;5;124m\"\u001b[39m\u001b[38;5;124mnon-zero flags not allowed in calls to recv_into() on \u001b[39m\u001b[38;5;132;01m%s\u001b[39;00m\u001b[38;5;124m\"\u001b[39m \u001b[38;5;241m%\u001b[39m\n\u001b[1;32m   1314\u001b[0m           \u001b[38;5;28mself\u001b[39m\u001b[38;5;241m.\u001b[39m\u001b[38;5;18m__class__\u001b[39m)\n\u001b[0;32m-> 1315\u001b[0m     \u001b[38;5;28;01mreturn\u001b[39;00m \u001b[38;5;28mself\u001b[39m\u001b[38;5;241m.\u001b[39mread(nbytes, buffer)\n\u001b[1;32m   1316\u001b[0m \u001b[38;5;28;01melse\u001b[39;00m:\n\u001b[1;32m   1317\u001b[0m     \u001b[38;5;28;01mreturn\u001b[39;00m \u001b[38;5;28msuper\u001b[39m()\u001b[38;5;241m.\u001b[39mrecv_into(buffer, nbytes, flags)\n",
      "File \u001b[0;32m/opt/anaconda3/lib/python3.11/ssl.py:1167\u001b[0m, in \u001b[0;36mSSLSocket.read\u001b[0;34m(self, len, buffer)\u001b[0m\n\u001b[1;32m   1165\u001b[0m \u001b[38;5;28;01mtry\u001b[39;00m:\n\u001b[1;32m   1166\u001b[0m     \u001b[38;5;28;01mif\u001b[39;00m buffer \u001b[38;5;129;01mis\u001b[39;00m \u001b[38;5;129;01mnot\u001b[39;00m \u001b[38;5;28;01mNone\u001b[39;00m:\n\u001b[0;32m-> 1167\u001b[0m         \u001b[38;5;28;01mreturn\u001b[39;00m \u001b[38;5;28mself\u001b[39m\u001b[38;5;241m.\u001b[39m_sslobj\u001b[38;5;241m.\u001b[39mread(\u001b[38;5;28mlen\u001b[39m, buffer)\n\u001b[1;32m   1168\u001b[0m     \u001b[38;5;28;01melse\u001b[39;00m:\n\u001b[1;32m   1169\u001b[0m         \u001b[38;5;28;01mreturn\u001b[39;00m \u001b[38;5;28mself\u001b[39m\u001b[38;5;241m.\u001b[39m_sslobj\u001b[38;5;241m.\u001b[39mread(\u001b[38;5;28mlen\u001b[39m)\n",
      "\u001b[0;31mKeyboardInterrupt\u001b[0m: "
     ]
    }
   ],
   "source": [
    "def process_images():\n",
    "    image_list = result_collection.toList(result_collection.size().getInfo())\n",
    "    num_images = image_list.size().getInfo()\n",
    "    \n",
    "    for i in range(num_images):\n",
    "        image = ee.Image(image_list.get(i))\n",
    "        export_image(image)\n",
    "\n",
    "process_images()"
   ]
  }
 ],
 "metadata": {
  "kernelspec": {
   "display_name": "base",
   "language": "python",
   "name": "python3"
  },
  "language_info": {
   "codemirror_mode": {
    "name": "ipython",
    "version": 3
   },
   "file_extension": ".py",
   "mimetype": "text/x-python",
   "name": "python",
   "nbconvert_exporter": "python",
   "pygments_lexer": "ipython3",
   "version": "3.11.7"
  }
 },
 "nbformat": 4,
 "nbformat_minor": 2
}
