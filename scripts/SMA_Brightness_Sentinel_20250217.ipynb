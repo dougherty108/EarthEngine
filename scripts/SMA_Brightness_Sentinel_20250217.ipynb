{
 "cells": [
  {
   "cell_type": "code",
   "execution_count": 1,
   "metadata": {},
   "outputs": [],
   "source": [
    "import ee\n",
    "import geemap\n",
    "\n",
    "# Initialize Earth Engine\n",
    "ee.Authenticate()\n",
    "ee.Initialize()\n"
   ]
  },
  {
   "cell_type": "code",
   "execution_count": 265,
   "metadata": {},
   "outputs": [
    {
     "data": {
      "text/html": [
       "\n",
       "            <style>\n",
       "                .geemap-dark {\n",
       "                    --jp-widgets-color: white;\n",
       "                    --jp-widgets-label-color: white;\n",
       "                    --jp-ui-font-color1: white;\n",
       "                    --jp-layout-color2: #454545;\n",
       "                    background-color: #383838;\n",
       "                }\n",
       "\n",
       "                .geemap-dark .jupyter-button {\n",
       "                    --jp-layout-color3: #383838;\n",
       "                }\n",
       "\n",
       "                .geemap-colab {\n",
       "                    background-color: var(--colab-primary-surface-color, white);\n",
       "                }\n",
       "\n",
       "                .geemap-colab .jupyter-button {\n",
       "                    --jp-layout-color3: var(--colab-primary-surface-color, white);\n",
       "                }\n",
       "            </style>\n",
       "            "
      ],
      "text/plain": [
       "<IPython.core.display.HTML object>"
      ]
     },
     "metadata": {},
     "output_type": "display_data"
    }
   ],
   "source": [
    "# Define the ROIs (already provided)\n",
    "#adjusted to be purposefully sloppy around lake edges, need to include more soil \n",
    "roi_LF = ee.Geometry.Polygon([\n",
    "    [163.1841307370196,-77.59677387872982],\n",
    "    [163.1576948849688,-77.60097649476886],\n",
    "    [163.11512286348443,-77.60665148730044],\n",
    "    [163.08937365694146,-77.61166104297976],\n",
    "    [163.0584746090899,-77.61777294645421],\n",
    "    [163.06087786836724,-77.62189496331501],\n",
    "    [163.0698042599688,-77.62174777168963],\n",
    "    [163.11580950899224,-77.62285166688366],\n",
    "    [163.1518583981524,-77.62071738206735],\n",
    "    [163.19305712862115,-77.61733122165525],\n",
    "    [163.2174330441485,-77.61180835267379],\n",
    "    [163.26309497041802,-77.60738831170583],\n",
    "    [163.2675581662188,-77.59913341471547],\n",
    "    [163.25279528780084,-77.5969951040001],\n",
    "    [163.233912536336,-77.59345503355506],\n",
    "    [163.1841307370196,-77.59677387872982]\n",
    "]\n",
    ")\n",
    "\n",
    "bright_roi = ee.Geometry.Polygon([\n",
    "    [163.12698754679585, -77.6073690739641], \n",
    "    [163.16406640421772, -77.60946879016157], \n",
    "    [163.15445336710835, -77.61628124600912], \n",
    "    [163.11823281657124, -77.6140353843151],\n",
    "    [163.12698754679585, -77.6073690739641]\n",
    "])\n",
    "\n",
    "dim_roi = ee.Geometry.Polygon([\n",
    "    [162.51530564185225,-77.69439782758747],\n",
    "    [162.52303040381514,-77.69677565811227],\n",
    "    [162.55272782202803,-77.69223909736411],\n",
    "    [162.54431641455733,-77.68997019942111],\n",
    "    [162.51530564185225,-77.69439782758747]\n",
    "])\n",
    "\n",
    "# Define ROI for analysis\n",
    "roi_for_cropping = ee.Geometry.Polygon([\n",
    "    [163.24357885656732,-77.5812101682432],\n",
    "    [162.70112890539545,-77.64219641154588],\n",
    "    [162.74919409094232,-77.66275299707411],\n",
    "    [162.38939184484857,-77.70376522386023],\n",
    "    [162.25068945227045,-77.71808776695123],\n",
    "    [162.3028745108642,-77.73968659951969],\n",
    "    [163.33146948156732,-77.61630600197311],\n",
    "    [163.24357885656732,-77.5812101682432]\n",
    "    ]\n",
    "    )"
   ]
  },
  {
   "cell_type": "code",
   "execution_count": 171,
   "metadata": {},
   "outputs": [
    {
     "data": {
      "text/html": [
       "\n",
       "            <style>\n",
       "                .geemap-dark {\n",
       "                    --jp-widgets-color: white;\n",
       "                    --jp-widgets-label-color: white;\n",
       "                    --jp-ui-font-color1: white;\n",
       "                    --jp-layout-color2: #454545;\n",
       "                    background-color: #383838;\n",
       "                }\n",
       "\n",
       "                .geemap-dark .jupyter-button {\n",
       "                    --jp-layout-color3: #383838;\n",
       "                }\n",
       "\n",
       "                .geemap-colab {\n",
       "                    background-color: var(--colab-primary-surface-color, white);\n",
       "                }\n",
       "\n",
       "                .geemap-colab .jupyter-button {\n",
       "                    --jp-layout-color3: var(--colab-primary-surface-color, white);\n",
       "                }\n",
       "            </style>\n",
       "            "
      ],
      "text/plain": [
       "<IPython.core.display.HTML object>"
      ]
     },
     "metadata": {},
     "output_type": "display_data"
    }
   ],
   "source": [
    "#MAY NOT NEED THIS IN THE SCRIPT ANYMORE\n",
    "#define a new ROI that is potentially simpler\n",
    "roi_box = ee.Geometry.Polygon(\n",
    "    [[163.12698754679585, -77.6073690739641], \n",
    "    [163.16406640421772, -77.60946879016157], \n",
    "    [163.15445336710835, -77.61628124600912], \n",
    "    [163.11823281657124, -77.6140353843151],\n",
    "    [163.12698754679585, -77.6073690739641]]\n",
    ")"
   ]
  },
  {
   "cell_type": "code",
   "execution_count": 152,
   "metadata": {},
   "outputs": [
    {
     "data": {
      "text/html": [
       "\n",
       "            <style>\n",
       "                .geemap-dark {\n",
       "                    --jp-widgets-color: white;\n",
       "                    --jp-widgets-label-color: white;\n",
       "                    --jp-ui-font-color1: white;\n",
       "                    --jp-layout-color2: #454545;\n",
       "                    background-color: #383838;\n",
       "                }\n",
       "\n",
       "                .geemap-dark .jupyter-button {\n",
       "                    --jp-layout-color3: #383838;\n",
       "                }\n",
       "\n",
       "                .geemap-colab {\n",
       "                    background-color: var(--colab-primary-surface-color, white);\n",
       "                }\n",
       "\n",
       "                .geemap-colab .jupyter-button {\n",
       "                    --jp-layout-color3: var(--colab-primary-surface-color, white);\n",
       "                }\n",
       "            </style>\n",
       "            "
      ],
      "text/plain": [
       "<IPython.core.display.HTML object>"
      ]
     },
     "metadata": {},
     "output_type": "display_data"
    }
   ],
   "source": [
    "pointed = ee.Geometry.BBox(162.1, -77.73, 163.3, -77.59)"
   ]
  },
  {
   "cell_type": "code",
   "execution_count": 253,
   "metadata": {},
   "outputs": [
    {
     "data": {
      "text/html": [
       "\n",
       "            <style>\n",
       "                .geemap-dark {\n",
       "                    --jp-widgets-color: white;\n",
       "                    --jp-widgets-label-color: white;\n",
       "                    --jp-ui-font-color1: white;\n",
       "                    --jp-layout-color2: #454545;\n",
       "                    background-color: #383838;\n",
       "                }\n",
       "\n",
       "                .geemap-dark .jupyter-button {\n",
       "                    --jp-layout-color3: #383838;\n",
       "                }\n",
       "\n",
       "                .geemap-colab {\n",
       "                    background-color: var(--colab-primary-surface-color, white);\n",
       "                }\n",
       "\n",
       "                .geemap-colab .jupyter-button {\n",
       "                    --jp-layout-color3: var(--colab-primary-surface-color, white);\n",
       "                }\n",
       "            </style>\n",
       "            "
      ],
      "text/plain": [
       "<IPython.core.display.HTML object>"
      ]
     },
     "metadata": {},
     "output_type": "display_data"
    }
   ],
   "source": [
    "## add the image collection\n",
    "ids = ee.List([\"Sentinel-2A_2015-12-18\", \"Sentinel-2A_2015-12-21\", \"Sentinel-2A_2015-12-27\",\n",
    "               \"Sentinel-2A_2015-12-28\", \"Sentinel-2A_2015-12-29\", \"Sentinel-2A_2015-12-31\", \n",
    "               \"Sentinel-2A_2016-01-07\", \"Sentinel-2A_2016-01-13\", \"Sentinel-2A_2016-01-14\", \n",
    "               \"Sentinel-2A_2016-01-23\", \"Sentinel-2A_2016-02-02\", \"Sentinel-2A_2016-02-05\", \n",
    "               \"Sentinel-2A_2016-02-19\", \"Sentinel-2A_2016-10-24\", \"Sentinel-2A_2016-10-26\", \n",
    "               \"Sentinel-2A_2016-10-30\", \"Sentinel-2A_2016-11-01\", \"Sentinel-2A_2016-11-03\", \n",
    "               \"Sentinel-2A_2016-11-05\", \"Sentinel-2A_2016-11-06\", \"Sentinel-2A_2016-11-08\", \n",
    "               \"Sentinel-2A_2016-11-09\", \"Sentinel-2A_2016-12-12\", \"Sentinel-2A_2016-12-13\", \n",
    "               \"Sentinel-2A_2016-12-15\", \"Sentinel-2A_2016-12-18\", \"Sentinel-2A_2016-12-19\", \n",
    "               \"Sentinel-2A_2016-12-25\", \"Sentinel-2A_2017-01-02\", \"Sentinel-2A_2017-01-08\", \n",
    "               \"Sentinel-2A_2017-01-14\", \"Sentinel-2A_2017-01-15\", \"Sentinel-2A_2017-01-18\", \n",
    "               \"Sentinel-2A_2017-01-24\", \"Sentinel-2A_2017-01-25\", \"Sentinel-2A_2017-01-27\", \n",
    "               \"Sentinel-2A_2017-01-28\", \"Sentinel-2A_2017-01-30\", \"Sentinel-2A_2017-01-31\", \n",
    "               \"Sentinel-2A_2017-02-01\", \"Sentinel-2A_2017-02-10\", \"Sentinel-2A_2017-02-11\", \n",
    "               \"Sentinel-2A_2017-02-14\", \"Sentinel-2A_2017-02-16\", \"Sentinel-2A_2017-02-19\", \n",
    "               \"Sentinel-2A_2017-02-20\", \"Sentinel-2A_2017-03-08\", \"Sentinel-2A_2018-01-12\", \n",
    "               \"Sentinel-2A_2018-01-23\", \"Sentinel-2A_2018-02-12\", \"Sentinel-2B_2018-02-17\", \n",
    "               \"Sentinel-2B_2018-10-15\", \"Sentinel-2B_2018-10-24\", \"Sentinel-2B_2018-11-24\", \n",
    "               \"Sentinel-2B_2019-02-21\", \"Sentinel-2B_2019-02-22\", \"Sentinel-2B_2019-09-29\", \n",
    "               \"Sentinel-2B_2019-10-09\", \"Sentinel-2B_2019-10-19\", \"Sentinel-2B_2019-10-20\", \n",
    "               \"Sentinel-2B_2019-10-29\", \"Sentinel-2B_2019-11-08\", \"Sentinel-2B_2019-11-09\", \n",
    "               \"Sentinel-2B_2019-11-18\", \"Sentinel-2B_2019-11-19\", \"Sentinel-2B_2020-02-06\", \n",
    "               \"Sentinel-2B_2020-03-07\", \"Sentinel-2B_2020-03-08\", \"Sentinel-2B_2020-10-23\", \n",
    "               \"Sentinel-2B_2020-10-24\", \"Sentinel-2B_2020-11-03\", \"Sentinel-2B_2020-11-12\", \n",
    "               \"Sentinel-2B_2020-11-22\", \"Sentinel-2B_2020-11-23\", \"Sentinel-2B_2020-12-02\", \n",
    "               \"Sentinel-2B_2020-12-03\", \"Sentinel-2B_2021-01-01\", \"Sentinel-2B_2021-01-12\", \n",
    "               \"Sentinel-2B_2021-01-13\", \"Sentinel-2B_2021-01-21\", \"Sentinel-2B_2021-01-22\", \n",
    "               \"Sentinel-2B_2021-01-23\", \"Sentinel-2B_2021-02-01\", \"Sentinel-2B_2021-02-11\",\n",
    "               \"Sentinel-2B_2021-03-02\", \"Sentinel-2B_2021-10-08\", \"Sentinel-2B_2021-10-09\", \n",
    "               \"Sentinel-2B_2021-10-29\", \"Sentinel-2B_2021-11-07\", \"Sentinel-2B_2021-11-08\", \n",
    "               \"Sentinel-2B_2021-11-17\", \"Sentinel-2B_2021-11-18\", \"Sentinel-2B_2021-12-07\", \n",
    "               \"Sentinel-2B_2021-12-08\", \"Sentinel-2B_2021-12-18\", \"Sentinel-2B_2021-12-28\", \n",
    "               \"Sentinel-2B_2022-01-07\", \"Sentinel-2B_2022-01-16\", \"Sentinel-2B_2022-01-27\", \n",
    "               \"Sentinel-2B_2022-02-25\", \"Sentinel-2B_2022-10-11\", \"Sentinel-2B_2022-10-13\",\n",
    "               \"Sentinel-2B_2022-10-17\", \"Sentinel-2B_2022-10-31\", \"Sentinel-2B_2022-11-02\",\n",
    "               \"Sentinel-2B_2022-11-12\", \"Sentinel-2B_2022-11-16\", \"Sentinel-2B_2022-11-22\",\n",
    "               \"Sentinel-2B_2022-12-06\", \"Sentinel-2B_2022-12-10\", \"Sentinel-2B_2022-12-16\",\n",
    "               \"Sentinel-2B_2022-12-26\", \"Sentinel-2B_2023-01-01\", \"Sentinel-2B_2023-01-09\",\n",
    "               \"Sentinel-2B_2023-01-11\", \"Sentinel-2B_2023-01-15\", \"Sentinel-2B_2023-02-03\",\n",
    "               \"Sentinel-2B_2023-02-08\", \"Sentinel-2B_2023-02-13\", \"Sentinel-2B_2023-02-14\", \n",
    "               \"Sentinel-2B_2023-02-28\", \"Sentinel-2B_2023-03-02\", \"Sentinel-2B_2023-03-06\", \n",
    "               \"Sentinel-2B_2023-10-06\", \"Sentinel-2B_2023-10-08\", \"Sentinel-2B_2023-10-12\", \n",
    "               \"Sentinel-2B_2023-10-16\", \"Sentinel-2B_2023-11-01\", \"Sentinel-2B_2023-11-15\", \n",
    "               \"Sentinel-2B_2023-11-17\", \"Sentinel-2B_2023-11-21\", \"Sentinel-2B_2023-12-01\", \n",
    "               \"Sentinel-2B_2023-12-05\", \"Sentinel-2B_2023-12-07\", \"Sentinel-2B_2023-12-11\", \n",
    "               \"Sentinel-2B_2023-12-15\", \"Sentinel-2B_2024-01-04\", \"Sentinel-2B_2024-01-10\", \n",
    "               \"Sentinel-2B_2024-01-14\", \"Sentinel-2B_2024-01-26\", \"Sentinel-2B_2024-02-03\", \n",
    "               \"Sentinel-2B_2024-09-22\", \"Sentinel-2B_2024-10-06\", \"Sentinel-2B_2024-10-16\", \n",
    "               \"Sentinel-2B_2024-10-20\", \"Sentinel-2B_2024-10-22\", \"Sentinel-2B_2024-10-26\", \n",
    "               \"Sentinel-2B_2024-10-30\", \"Sentinel-2B_2024-11-09\", \"Sentinel-2B_2024-11-19\", \n",
    "               \"Sentinel-2B_2024-11-21\", \"Sentinel-2B_2024-11-29\", \"Sentinel-2B_2024-12-09\", \n",
    "               \"Sentinel-2B_2024-12-21\", \"Sentinel-2B_2024-12-23\", \"Sentinel-2B_2024-12-24\", \n",
    "               \"Sentinel-2B_2024-12-29\", \"Sentinel-2B_2024-12-31\", \"Sentinel-2B_2025-01-02\", \n",
    "               \"Sentinel-2B_2025-01-10\", \"Sentinel-2B_2025-01-18\", \"Sentinel-2B_2025-01-28\"])\n",
    "\n",
    "# Define start and end date for the image collection filter\n",
    "start_date = \"2015-03-06\"\n",
    "end_date = \"2025-01-01\""
   ]
  },
  {
   "cell_type": "code",
   "execution_count": 258,
   "metadata": {},
   "outputs": [
    {
     "data": {
      "text/html": [
       "\n",
       "            <style>\n",
       "                .geemap-dark {\n",
       "                    --jp-widgets-color: white;\n",
       "                    --jp-widgets-label-color: white;\n",
       "                    --jp-ui-font-color1: white;\n",
       "                    --jp-layout-color2: #454545;\n",
       "                    background-color: #383838;\n",
       "                }\n",
       "\n",
       "                .geemap-dark .jupyter-button {\n",
       "                    --jp-layout-color3: #383838;\n",
       "                }\n",
       "\n",
       "                .geemap-colab {\n",
       "                    background-color: var(--colab-primary-surface-color, white);\n",
       "                }\n",
       "\n",
       "                .geemap-colab .jupyter-button {\n",
       "                    --jp-layout-color3: var(--colab-primary-surface-color, white);\n",
       "                }\n",
       "            </style>\n",
       "            "
      ],
      "text/plain": [
       "<IPython.core.display.HTML object>"
      ]
     },
     "metadata": {},
     "output_type": "display_data"
    }
   ],
   "source": [
    "def addImageDate(image):\n",
    "    mission = image.get('SPACECRAFT_NAME')\n",
    "    date = image.date().format('YYYY-MM-dd')\n",
    "    missDate = ee.String(mission).cat('_').cat(ee.String(date))\n",
    "    return image.set('missDate', missDate)"
   ]
  },
  {
   "cell_type": "code",
   "execution_count": 259,
   "metadata": {},
   "outputs": [
    {
     "data": {
      "text/html": [
       "\n",
       "            <style>\n",
       "                .geemap-dark {\n",
       "                    --jp-widgets-color: white;\n",
       "                    --jp-widgets-label-color: white;\n",
       "                    --jp-ui-font-color1: white;\n",
       "                    --jp-layout-color2: #454545;\n",
       "                    background-color: #383838;\n",
       "                }\n",
       "\n",
       "                .geemap-dark .jupyter-button {\n",
       "                    --jp-layout-color3: #383838;\n",
       "                }\n",
       "\n",
       "                .geemap-colab {\n",
       "                    background-color: var(--colab-primary-surface-color, white);\n",
       "                }\n",
       "\n",
       "                .geemap-colab .jupyter-button {\n",
       "                    --jp-layout-color3: var(--colab-primary-surface-color, white);\n",
       "                }\n",
       "            </style>\n",
       "            "
      ],
      "text/plain": [
       "<IPython.core.display.HTML object>"
      ]
     },
     "metadata": {},
     "output_type": "display_data"
    }
   ],
   "source": [
    "def mosaic_by_date(imcol):\n",
    "    # Convert the image collection to a list of images\n",
    "    imlist = imcol.toList(imcol.size())\n",
    "    \n",
    "    # Get unique dates from the image collection\n",
    "    def get_date(image):\n",
    "        return ee.Image(image).date().format(\"YYYY-MM-dd\")\n",
    "    \n",
    "    unique_dates = imlist.map(lambda im: get_date(im)).distinct()\n",
    "\n",
    "    def create_mosaic(date_str):\n",
    "        date = ee.Date(date_str)\n",
    "        \n",
    "        # Filter images for that day and create a mosaic\n",
    "        mosaic = imcol.filterDate(date, date.advance(1, 'day')).mosaic()\n",
    "        \n",
    "        return mosaic.set({\n",
    "            'system:time_start': date.millis(),\n",
    "            'system:id': date.format('YYYY-MM-dd')\n",
    "        })\n",
    "\n",
    "    # Create mosaics for each unique date\n",
    "    mosaic_imlist = unique_dates.map(create_mosaic)\n",
    "    \n",
    "    return ee.ImageCollection(mosaic_imlist)"
   ]
  },
  {
   "cell_type": "code",
   "execution_count": 260,
   "metadata": {},
   "outputs": [
    {
     "data": {
      "text/html": [
       "\n",
       "            <style>\n",
       "                .geemap-dark {\n",
       "                    --jp-widgets-color: white;\n",
       "                    --jp-widgets-label-color: white;\n",
       "                    --jp-ui-font-color1: white;\n",
       "                    --jp-layout-color2: #454545;\n",
       "                    background-color: #383838;\n",
       "                }\n",
       "\n",
       "                .geemap-dark .jupyter-button {\n",
       "                    --jp-layout-color3: #383838;\n",
       "                }\n",
       "\n",
       "                .geemap-colab {\n",
       "                    background-color: var(--colab-primary-surface-color, white);\n",
       "                }\n",
       "\n",
       "                .geemap-colab .jupyter-button {\n",
       "                    --jp-layout-color3: var(--colab-primary-surface-color, white);\n",
       "                }\n",
       "            </style>\n",
       "            "
      ],
      "text/plain": [
       "<IPython.core.display.HTML object>"
      ]
     },
     "metadata": {},
     "output_type": "display_data"
    }
   ],
   "source": [
    "# Example usage with an image collection )\n",
    "s2 = ee.ImageCollection('COPERNICUS/S2_HARMONIZED')\\\n",
    "    .select(['B2', 'B3', 'B4', 'B8', 'B11', 'B12'])\\\n",
    "    .filterDate(start_date, end_date)\\\n",
    "    .map(addImageDate)\\\n",
    "    .filter(ee.Filter.inList(\"missDate\", ids))\\\n",
    "    .filter(ee.Filter.gt('MEAN_SOLAR_ZENITH_ANGLE',70))\\\n",
    "    .filterBounds(roi_for_cropping)\\\n",
    "    .sort('DATE_ACQUIRED')\n",
    "s3 = mosaic_by_date(s2)"
   ]
  },
  {
   "cell_type": "code",
   "execution_count": 261,
   "metadata": {},
   "outputs": [
    {
     "data": {
      "text/html": [
       "\n",
       "            <style>\n",
       "                .geemap-dark {\n",
       "                    --jp-widgets-color: white;\n",
       "                    --jp-widgets-label-color: white;\n",
       "                    --jp-ui-font-color1: white;\n",
       "                    --jp-layout-color2: #454545;\n",
       "                    background-color: #383838;\n",
       "                }\n",
       "\n",
       "                .geemap-dark .jupyter-button {\n",
       "                    --jp-layout-color3: #383838;\n",
       "                }\n",
       "\n",
       "                .geemap-colab {\n",
       "                    background-color: var(--colab-primary-surface-color, white);\n",
       "                }\n",
       "\n",
       "                .geemap-colab .jupyter-button {\n",
       "                    --jp-layout-color3: var(--colab-primary-surface-color, white);\n",
       "                }\n",
       "            </style>\n",
       "            "
      ],
      "text/plain": [
       "<IPython.core.display.HTML object>"
      ]
     },
     "metadata": {},
     "output_type": "display_data"
    },
    {
     "name": "stdout",
     "output_type": "stream",
     "text": [
      "61\n"
     ]
    }
   ],
   "source": [
    "# Clip all the images in the s3 collection down to the ROI\n",
    "def clip_image(image):\n",
    "    return image.clip(roi_for_cropping)\n",
    "\n",
    "# Apply clip to image collection\n",
    "copernicus_clipped = s3.map(clip_image)\n",
    "print(copernicus_clipped.size().getInfo())"
   ]
  },
  {
   "cell_type": "code",
   "execution_count": 262,
   "metadata": {},
   "outputs": [
    {
     "data": {
      "text/html": [
       "\n",
       "            <style>\n",
       "                .geemap-dark {\n",
       "                    --jp-widgets-color: white;\n",
       "                    --jp-widgets-label-color: white;\n",
       "                    --jp-ui-font-color1: white;\n",
       "                    --jp-layout-color2: #454545;\n",
       "                    background-color: #383838;\n",
       "                }\n",
       "\n",
       "                .geemap-dark .jupyter-button {\n",
       "                    --jp-layout-color3: #383838;\n",
       "                }\n",
       "\n",
       "                .geemap-colab {\n",
       "                    background-color: var(--colab-primary-surface-color, white);\n",
       "                }\n",
       "\n",
       "                .geemap-colab .jupyter-button {\n",
       "                    --jp-layout-color3: var(--colab-primary-surface-color, white);\n",
       "                }\n",
       "            </style>\n",
       "            "
      ],
      "text/plain": [
       "<IPython.core.display.HTML object>"
      ]
     },
     "metadata": {},
     "output_type": "display_data"
    }
   ],
   "source": [
    "# Function to calculate mean band values around a simple point\n",
    "# this function will be passed through the define endmembers \n",
    "def calculate_mean_band_values(image, point_geometry):\n",
    "    buffer = point_geometry.buffer(80)  #80 meter buffer radius, 4x4 pixel\n",
    "    band_means = image.reduceRegion(\n",
    "        reducer=ee.Reducer.mean(),\n",
    "        geometry=buffer,\n",
    "        scale=20,\n",
    "        maxPixels=1e8  # Adjusted based on sample size\n",
    "    )\n",
    "    return band_means"
   ]
  },
  {
   "cell_type": "code",
   "execution_count": 229,
   "metadata": {},
   "outputs": [
    {
     "data": {
      "text/html": [
       "\n",
       "            <style>\n",
       "                .geemap-dark {\n",
       "                    --jp-widgets-color: white;\n",
       "                    --jp-widgets-label-color: white;\n",
       "                    --jp-ui-font-color1: white;\n",
       "                    --jp-layout-color2: #454545;\n",
       "                    background-color: #383838;\n",
       "                }\n",
       "\n",
       "                .geemap-dark .jupyter-button {\n",
       "                    --jp-layout-color3: #383838;\n",
       "                }\n",
       "\n",
       "                .geemap-colab {\n",
       "                    background-color: var(--colab-primary-surface-color, white);\n",
       "                }\n",
       "\n",
       "                .geemap-colab .jupyter-button {\n",
       "                    --jp-layout-color3: var(--colab-primary-surface-color, white);\n",
       "                }\n",
       "            </style>\n",
       "            "
      ],
      "text/plain": [
       "<IPython.core.display.HTML object>"
      ]
     },
     "metadata": {},
     "output_type": "display_data"
    }
   ],
   "source": [
    "####### OLD VERSION OF THIS FUNCTION\n",
    "# Function to define endmembers\n",
    "def define_endmembers(image, roi, n=1):\n",
    "   # Calculate brightness\n",
    "    #brightness = image.select(['B2','B3', 'B4', 'B11', 'B12']).reduce(ee.Reducer.sum()).rename('brightness') #RGB and SWIR 1\n",
    "    brightness = image.select(['B11', 'B12']).reduce(ee.Reducer.sum()).rename('brightness') #SWIR 1 and 2\n",
    "\n",
    "    # Generate a grid of points\n",
    "    points = ee.FeatureCollection.randomPoints(region=roi_LF, points=6000)\n",
    "\n",
    "    # Calculate brightness for each point\n",
    "    points_with_brightness = brightness.reduceRegions(\n",
    "        collection=points,\n",
    "        reducer=ee.Reducer.mean(),\n",
    "        scale=20\n",
    "        )\n",
    "\n",
    "    # Sort points by brightness\n",
    "    brightest_point = points_with_brightness.sort('brightness', False).first()\n",
    "    brightest_geometry = ee.Feature(brightest_point).geometry()\n",
    "\n",
    "    # Filter out points near the brightest point\n",
    "    filtered_points = points_with_brightness.filter(ee.Filter.bounds(brightest_geometry.buffer(100)).Not())\n",
    "\n",
    "    # Find the dimmest point from the remaining points\n",
    "    dimmest_point = filtered_points.sort('brightness', True).first()\n",
    "    dimmest_geometry = ee.Feature(dimmest_point).geometry()\n",
    "\n",
    "    # Calculate mean band values for brightest and dimmest points\n",
    "    brightest_band_means = calculate_mean_band_values(image, brightest_geometry)\n",
    "    dimmest_band_means = calculate_mean_band_values(image, dimmest_geometry)\n",
    "\n",
    "    # Combine into endmembers\n",
    "    endmembers = ee.List([\n",
    "     brightest_band_means.values(),\n",
    "     dimmest_band_means.values()\n",
    "    ])\n",
    "    return endmembers\n"
   ]
  },
  {
   "cell_type": "code",
   "execution_count": 244,
   "metadata": {},
   "outputs": [
    {
     "data": {
      "text/html": [
       "\n",
       "            <style>\n",
       "                .geemap-dark {\n",
       "                    --jp-widgets-color: white;\n",
       "                    --jp-widgets-label-color: white;\n",
       "                    --jp-ui-font-color1: white;\n",
       "                    --jp-layout-color2: #454545;\n",
       "                    background-color: #383838;\n",
       "                }\n",
       "\n",
       "                .geemap-dark .jupyter-button {\n",
       "                    --jp-layout-color3: #383838;\n",
       "                }\n",
       "\n",
       "                .geemap-colab {\n",
       "                    background-color: var(--colab-primary-surface-color, white);\n",
       "                }\n",
       "\n",
       "                .geemap-colab .jupyter-button {\n",
       "                    --jp-layout-color3: var(--colab-primary-surface-color, white);\n",
       "                }\n",
       "            </style>\n",
       "            "
      ],
      "text/plain": [
       "<IPython.core.display.HTML object>"
      ]
     },
     "metadata": {},
     "output_type": "display_data"
    }
   ],
   "source": [
    "# NEW VERSION OF THIS FUNCTION TAKES A THREE POINT MEAN\n",
    "# NEED TO UPDATE SUCH THAT THE ICE AND SOIL ENDMEMBERS ARE PULLED FROM COMPLETELY DIFFERENT ROIS\n",
    "# Function to define endmembers\n",
    "def define_endmembers(image, roi, n=1):\n",
    "    # Calculate brightness\n",
    "    brightness = copernicus_clipped.first().select(['B2', 'B3', 'B4', 'B11', 'B12']).reduce(ee.Reducer.sum()).rename('brightness')  # RGB and SWIR Bands\n",
    "\n",
    "    # Generate a grid of points\n",
    "    points = ee.FeatureCollection.randomPoints(region=roi_LF, points=2000)\n",
    "\n",
    "    # Calculate brightness for each point\n",
    "    points_with_brightness = brightness.reduceRegions(\n",
    "    collection=points,\n",
    "    reducer=ee.Reducer.mean(),\n",
    "    scale=20\n",
    "    )\n",
    "\n",
    "    # Sort points by brightness\n",
    "    sorted_points = points_with_brightness.sort('brightness', False)  # Descending order\n",
    "\n",
    "    # Select the top 3 brightest points\n",
    "    top_3_brightest = sorted_points.toList(3)\n",
    "    brightest_geometry = ee.FeatureCollection(top_3_brightest).geometry()\n",
    "\n",
    "    # Filter out points near the top 3 brightest points\n",
    "    #filtered_points = points_with_brightness.filterBounds(brightest_geometry.buffer(100)).Not()\n",
    "    filtered_points = points_with_brightness.filter(ee.Filter.bounds(brightest_geometry.buffer(100)).Not())\n",
    "\n",
    "    # Sort remaining points in ascending order (dimmest first)\n",
    "    sorted_filtered_points = filtered_points.sort('brightness', True)\n",
    "\n",
    "    # Select the bottom 3 dimmest points\n",
    "    bottom_3_dimmest = sorted_filtered_points.toList(3)\n",
    "    dimmest_geometry = ee.FeatureCollection(bottom_3_dimmest).geometry()\n",
    "\n",
    "    # Calculate mean band values for the brightest and dimmest points\n",
    "    brightest_band_means = calculate_mean_band_values(copernicus_clipped.first(), brightest_geometry)\n",
    "    dimmest_band_means = calculate_mean_band_values(copernicus_clipped.first(), dimmest_geometry)\n",
    "\n",
    "    # Combine into endmembers\n",
    "    endmembers = ee.List([\n",
    "    brightest_band_means.values(),\n",
    "    dimmest_band_means.values()\n",
    "    ])  \n",
    "    return endmembers\n"
   ]
  },
  {
   "cell_type": "code",
   "execution_count": 306,
   "metadata": {},
   "outputs": [
    {
     "data": {
      "text/html": [
       "\n",
       "            <style>\n",
       "                .geemap-dark {\n",
       "                    --jp-widgets-color: white;\n",
       "                    --jp-widgets-label-color: white;\n",
       "                    --jp-ui-font-color1: white;\n",
       "                    --jp-layout-color2: #454545;\n",
       "                    background-color: #383838;\n",
       "                }\n",
       "\n",
       "                .geemap-dark .jupyter-button {\n",
       "                    --jp-layout-color3: #383838;\n",
       "                }\n",
       "\n",
       "                .geemap-colab {\n",
       "                    background-color: var(--colab-primary-surface-color, white);\n",
       "                }\n",
       "\n",
       "                .geemap-colab .jupyter-button {\n",
       "                    --jp-layout-color3: var(--colab-primary-surface-color, white);\n",
       "                }\n",
       "            </style>\n",
       "            "
      ],
      "text/plain": [
       "<IPython.core.display.HTML object>"
      ]
     },
     "metadata": {},
     "output_type": "display_data"
    }
   ],
   "source": [
    "# Function to define endmembers from separate ROIs\n",
    "def define_endmembers(image, bright_roi, dim_roi, n=1):\n",
    "    # Calculate brightness for the bright ROI\n",
    "    brightness_bright = image.select(['B2', 'B3', 'B4']).reduce(ee.Reducer.sum()).rename('brightness')\n",
    "\n",
    "    # Generate a grid of points in the bright ROI\n",
    "    bright_points = ee.FeatureCollection.randomPoints(region=bright_roi, points=2000)\n",
    "\n",
    "    # Calculate brightness for each point in the bright ROI\n",
    "    bright_points_with_brightness = brightness_bright.reduceRegions(\n",
    "        collection=bright_points,\n",
    "        reducer=ee.Reducer.mean(),\n",
    "        scale=20\n",
    "    )\n",
    "\n",
    "    # Sort bright points by brightness (descending)\n",
    "    sorted_bright_points = bright_points_with_brightness.sort('brightness', False)\n",
    "\n",
    "    # Select the top 3 brightest points\n",
    "    top_3_brightest = sorted_bright_points.toList(n)\n",
    "    brightest_geometry = ee.FeatureCollection(top_3_brightest).geometry()\n",
    "\n",
    "    # Calculate brightness for the dim ROI\n",
    "    brightness_dim = image.select(['B2', 'B3', 'B4']).reduce(ee.Reducer.sum()).rename('brightness')\n",
    "\n",
    "    # Generate a grid of points in the dim ROI\n",
    "    dim_points = ee.FeatureCollection.randomPoints(region=dim_roi, points=2000)\n",
    "\n",
    "    # Calculate brightness for each point in the dim ROI\n",
    "    dim_points_with_brightness = brightness_dim.reduceRegions(\n",
    "        collection=dim_points,\n",
    "        reducer=ee.Reducer.mean(),\n",
    "        scale=20\n",
    "    )\n",
    "\n",
    "    # Sort dim points by brightness (ascending)\n",
    "    sorted_dim_points = dim_points_with_brightness.sort('brightness', True)\n",
    "\n",
    "    # Select the bottom 3 dimmest points\n",
    "    bottom_3_dimmest = sorted_dim_points.toList(n)\n",
    "    dimmest_geometry = ee.FeatureCollection(bottom_3_dimmest).geometry()\n",
    "\n",
    "    # Calculate mean band values for the brightest and dimmest points\n",
    "    brightest_band_means = calculate_mean_band_values(image, brightest_geometry)\n",
    "    dimmest_band_means = calculate_mean_band_values(image, dimmest_geometry)\n",
    "\n",
    "    # Combine into endmembers\n",
    "    endmembers = ee.List([\n",
    "        brightest_band_means.values(),\n",
    "        dimmest_band_means.values()\n",
    "    ])  \n",
    "\n",
    "    return endmembers\n"
   ]
  },
  {
   "cell_type": "code",
   "execution_count": 307,
   "metadata": {},
   "outputs": [
    {
     "data": {
      "text/html": [
       "\n",
       "            <style>\n",
       "                .geemap-dark {\n",
       "                    --jp-widgets-color: white;\n",
       "                    --jp-widgets-label-color: white;\n",
       "                    --jp-ui-font-color1: white;\n",
       "                    --jp-layout-color2: #454545;\n",
       "                    background-color: #383838;\n",
       "                }\n",
       "\n",
       "                .geemap-dark .jupyter-button {\n",
       "                    --jp-layout-color3: #383838;\n",
       "                }\n",
       "\n",
       "                .geemap-colab {\n",
       "                    background-color: var(--colab-primary-surface-color, white);\n",
       "                }\n",
       "\n",
       "                .geemap-colab .jupyter-button {\n",
       "                    --jp-layout-color3: var(--colab-primary-surface-color, white);\n",
       "                }\n",
       "            </style>\n",
       "            "
      ],
      "text/plain": [
       "<IPython.core.display.HTML object>"
      ]
     },
     "metadata": {},
     "output_type": "display_data"
    },
    {
     "name": "stdout",
     "output_type": "stream",
     "text": [
      "[[285.2080198806484, 279.52469021013303, 4222.123848325529, 3886.79561476172, 4166.927560732336, 3307.406099437052], [2028.669354567751, 1939.6299768168524, 2245.7215334475686, 1949.8228841178643, 2021.3082686557127, 1941.684423613211]]\n"
     ]
    }
   ],
   "source": [
    "outputs = define_endmembers(copernicus_clipped.first(), bright_roi, dim_roi)\n",
    "print(outputs.getInfo())"
   ]
  },
  {
   "cell_type": "code",
   "execution_count": 308,
   "metadata": {},
   "outputs": [
    {
     "data": {
      "text/html": [
       "\n",
       "            <style>\n",
       "                .geemap-dark {\n",
       "                    --jp-widgets-color: white;\n",
       "                    --jp-widgets-label-color: white;\n",
       "                    --jp-ui-font-color1: white;\n",
       "                    --jp-layout-color2: #454545;\n",
       "                    background-color: #383838;\n",
       "                }\n",
       "\n",
       "                .geemap-dark .jupyter-button {\n",
       "                    --jp-layout-color3: #383838;\n",
       "                }\n",
       "\n",
       "                .geemap-colab {\n",
       "                    background-color: var(--colab-primary-surface-color, white);\n",
       "                }\n",
       "\n",
       "                .geemap-colab .jupyter-button {\n",
       "                    --jp-layout-color3: var(--colab-primary-surface-color, white);\n",
       "                }\n",
       "            </style>\n",
       "            "
      ],
      "text/plain": [
       "<IPython.core.display.HTML object>"
      ]
     },
     "metadata": {},
     "output_type": "display_data"
    }
   ],
   "source": [
    "def unmix_image_collection(image_collection, bright_roi, dim_roi):\n",
    "    def unmix_image(image):\n",
    "        # Define endmembers for the current image\n",
    "        endmembers = define_endmembers(image, bright_roi, dim_roi)\n",
    "\n",
    "        # Apply the unmixing process\n",
    "        unmixed = image.select(['B2', 'B3', 'B4', 'B8', 'B11', 'B12']).unmix(endmembers, True, True)\n",
    "\n",
    "        # Rename unmixed bands for clarity\n",
    "        unmixed = unmixed.rename(['endmember_1', 'endmember_2'])\n",
    "\n",
    "        # Add properties for tracking\n",
    "        return unmixed.set('system:time_start', image.get('system:time_start'))\n",
    "\n",
    "    # Map the unmixing process over the image collection\n",
    "    unmixed_collection = image_collection.map(unmix_image)\n",
    "\n",
    "    return unmixed_collection"
   ]
  },
  {
   "cell_type": "code",
   "execution_count": 309,
   "metadata": {},
   "outputs": [
    {
     "data": {
      "text/html": [
       "\n",
       "            <style>\n",
       "                .geemap-dark {\n",
       "                    --jp-widgets-color: white;\n",
       "                    --jp-widgets-label-color: white;\n",
       "                    --jp-ui-font-color1: white;\n",
       "                    --jp-layout-color2: #454545;\n",
       "                    background-color: #383838;\n",
       "                }\n",
       "\n",
       "                .geemap-dark .jupyter-button {\n",
       "                    --jp-layout-color3: #383838;\n",
       "                }\n",
       "\n",
       "                .geemap-colab {\n",
       "                    background-color: var(--colab-primary-surface-color, white);\n",
       "                }\n",
       "\n",
       "                .geemap-colab .jupyter-button {\n",
       "                    --jp-layout-color3: var(--colab-primary-surface-color, white);\n",
       "                }\n",
       "            </style>\n",
       "            "
      ],
      "text/plain": [
       "<IPython.core.display.HTML object>"
      ]
     },
     "metadata": {},
     "output_type": "display_data"
    },
    {
     "name": "stdout",
     "output_type": "stream",
     "text": [
      "{'type': 'Image', 'bands': [{'id': 'endmember_1', 'data_type': {'type': 'PixelType', 'precision': 'double'}, 'dimensions': [3, 2], 'origin': [161, -79], 'crs': 'EPSG:4326', 'crs_transform': [1, 0, 0, 0, 1, 0]}, {'id': 'endmember_2', 'data_type': {'type': 'PixelType', 'precision': 'double'}, 'dimensions': [3, 2], 'origin': [161, -79], 'crs': 'EPSG:4326', 'crs_transform': [1, 0, 0, 0, 1, 0]}], 'properties': {'system:time_start': 1455840000000, 'system:index': '0'}}\n"
     ]
    }
   ],
   "source": [
    "# apply process to all images in collection\n",
    "result_collection = unmix_image_collection(copernicus_clipped, bright_roi, dim_roi)\n",
    "print(result_collection.first().getInfo())"
   ]
  },
  {
   "cell_type": "code",
   "execution_count": 298,
   "metadata": {},
   "outputs": [
    {
     "data": {
      "text/html": [
       "\n",
       "            <style>\n",
       "                .geemap-dark {\n",
       "                    --jp-widgets-color: white;\n",
       "                    --jp-widgets-label-color: white;\n",
       "                    --jp-ui-font-color1: white;\n",
       "                    --jp-layout-color2: #454545;\n",
       "                    background-color: #383838;\n",
       "                }\n",
       "\n",
       "                .geemap-dark .jupyter-button {\n",
       "                    --jp-layout-color3: #383838;\n",
       "                }\n",
       "\n",
       "                .geemap-colab {\n",
       "                    background-color: var(--colab-primary-surface-color, white);\n",
       "                }\n",
       "\n",
       "                .geemap-colab .jupyter-button {\n",
       "                    --jp-layout-color3: var(--colab-primary-surface-color, white);\n",
       "                }\n",
       "            </style>\n",
       "            "
      ],
      "text/plain": [
       "<IPython.core.display.HTML object>"
      ]
     },
     "metadata": {},
     "output_type": "display_data"
    }
   ],
   "source": [
    "image = copernicus_clipped.first()\n",
    "n = 3\n",
    "\n",
    "# Calculate brightness for the bright ROI\n",
    "brightness_bright = image.select(['B2', 'B3', 'B4']).reduce(ee.Reducer.sum()).rename('brightness')\n",
    "\n",
    "    # Generate a grid of points in the bright ROI\n",
    "bright_points = ee.FeatureCollection.randomPoints(region=bright_roi, points=2000)\n",
    "\n",
    "    # Calculate brightness for each point in the bright ROI\n",
    "bright_points_with_brightness = brightness_bright.reduceRegions(\n",
    "        collection=bright_points,\n",
    "        reducer=ee.Reducer.mean(),\n",
    "        scale=20\n",
    "    )\n",
    "\n",
    "    # Sort bright points by brightness (descending)\n",
    "sorted_bright_points = bright_points_with_brightness.sort('brightness', False)\n",
    "\n",
    "    # Select the top 3 brightest points\n",
    "top_3_brightest = sorted_bright_points.toList(n)\n",
    "brightest_geometry = ee.FeatureCollection(top_3_brightest).geometry()\n",
    "\n",
    "    # Calculate brightness for the dim ROI\n",
    "brightness_dim = image.select(['B2', 'B3', 'B4']).reduce(ee.Reducer.sum()).rename('brightness')\n",
    "\n",
    "    # Generate a grid of points in the dim ROI\n",
    "dim_points = ee.FeatureCollection.randomPoints(region=dim_roi, points=2000)\n",
    "\n",
    "    # Calculate brightness for each point in the dim ROI\n",
    "dim_points_with_brightness = brightness_dim.reduceRegions(\n",
    "        collection=dim_points,\n",
    "        reducer=ee.Reducer.mean(),\n",
    "        scale=20\n",
    "    )\n",
    "\n",
    "    # Sort dim points by brightness (ascending)\n",
    "sorted_dim_points = dim_points_with_brightness.sort('brightness', True)\n",
    "\n",
    "    # Select the bottom 3 dimmest points\n",
    "bottom_3_dimmest = sorted_dim_points.toList(n)\n",
    "dimmest_geometry = ee.FeatureCollection(bottom_3_dimmest).geometry()\n",
    "\n",
    "    # Calculate mean band values for the brightest and dimmest points\n",
    "brightest_band_means = calculate_mean_band_values(image, brightest_geometry)\n",
    "dimmest_band_means = calculate_mean_band_values(image, dimmest_geometry)\n",
    "\n",
    "    # Combine into endmembers\n",
    "endmembers = ee.List([\n",
    "        brightest_band_means.values(),\n",
    "        dimmest_band_means.values()\n",
    "    ])  "
   ]
  },
  {
   "cell_type": "code",
   "execution_count": 310,
   "metadata": {},
   "outputs": [
    {
     "data": {
      "text/html": [
       "\n",
       "            <style>\n",
       "                .geemap-dark {\n",
       "                    --jp-widgets-color: white;\n",
       "                    --jp-widgets-label-color: white;\n",
       "                    --jp-ui-font-color1: white;\n",
       "                    --jp-layout-color2: #454545;\n",
       "                    background-color: #383838;\n",
       "                }\n",
       "\n",
       "                .geemap-dark .jupyter-button {\n",
       "                    --jp-layout-color3: #383838;\n",
       "                }\n",
       "\n",
       "                .geemap-colab {\n",
       "                    background-color: var(--colab-primary-surface-color, white);\n",
       "                }\n",
       "\n",
       "                .geemap-colab .jupyter-button {\n",
       "                    --jp-layout-color3: var(--colab-primary-surface-color, white);\n",
       "                }\n",
       "            </style>\n",
       "            "
      ],
      "text/plain": [
       "<IPython.core.display.HTML object>"
      ]
     },
     "metadata": {},
     "output_type": "display_data"
    },
    {
     "data": {
      "application/vnd.jupyter.widget-view+json": {
       "model_id": "9093061ebf714b0a9c05751958e08837",
       "version_major": 2,
       "version_minor": 0
      },
      "text/plain": [
       "Map(center=[-77.6091387013167, 163.16942980628684], controls=(WidgetControl(options=['position', 'transparent_…"
      ]
     },
     "metadata": {},
     "output_type": "display_data"
    }
   ],
   "source": [
    "vis_params = {\n",
    "    'bands': ['B4', 'B3', 'B2'],  # Red, Green, Blue bands (for Sentinel-2 or Landsat 8)\n",
    "    'min': 0,\n",
    "    'max': 10000,  # Adjust based on the dataset's reflectance range\n",
    "    'gamma': 1.4  # Optional, enhances contrast\n",
    "}\n",
    "\n",
    "brightness_params = {\n",
    "    \"min\": 0,\n",
    "    \"max\": 10000,  # Adjust based on expected brightness values\n",
    "    \"palette\": [\"black\", \"blue\", \"green\", \"yellow\", \"red\"],\n",
    "}\n",
    "\n",
    "#Plot to confirm output\n",
    "Map = geemap.Map(zoom=10, center=[-77.616808, 163.077952])\n",
    "Map.centerObject(roi_LF, 10)\n",
    "Map.addLayer(result_collection.first())\n",
    "Map.addLayer(copernicus_clipped.first(), vis_params)\n",
    "Map.addLayer(brightness_bright, brightness_params)\n",
    "Map.addLayer(dimmest_geometry)\n",
    "Map.addLayer(brightest_geometry)\n",
    "Map.addLayer(dim_roi)\n",
    "Map.addLayer(bright_roi)\n",
    "\n",
    "Map"
   ]
  },
  {
   "cell_type": "code",
   "execution_count": 313,
   "metadata": {},
   "outputs": [
    {
     "data": {
      "text/html": [
       "\n",
       "            <style>\n",
       "                .geemap-dark {\n",
       "                    --jp-widgets-color: white;\n",
       "                    --jp-widgets-label-color: white;\n",
       "                    --jp-ui-font-color1: white;\n",
       "                    --jp-layout-color2: #454545;\n",
       "                    background-color: #383838;\n",
       "                }\n",
       "\n",
       "                .geemap-dark .jupyter-button {\n",
       "                    --jp-layout-color3: #383838;\n",
       "                }\n",
       "\n",
       "                .geemap-colab {\n",
       "                    background-color: var(--colab-primary-surface-color, white);\n",
       "                }\n",
       "\n",
       "                .geemap-colab .jupyter-button {\n",
       "                    --jp-layout-color3: var(--colab-primary-surface-color, white);\n",
       "                }\n",
       "            </style>\n",
       "            "
      ],
      "text/plain": [
       "<IPython.core.display.HTML object>"
      ]
     },
     "metadata": {},
     "output_type": "display_data"
    }
   ],
   "source": [
    "# export the images in the copernicus_clipped collection\n",
    "def export_image(image):\n",
    "    date_str = ee.Date(image.get('system:time_start')).format('YYYY-MM-dd').getInfo()\n",
    "    task = ee.batch.Export.image.toDrive(\n",
    "        image=image,\n",
    "        description=f'Sentinel2_unmixed_images_{date_str}',\n",
    "        folder='EarthEngine',  # Replace with your folder name\n",
    "        scale=20,                 # Define the scale (e.g., 30 meters per pixel)\n",
    "        crs='EPSG:3031',          # Define the Coordinate Reference System\n",
    "        region=pointed,  # Define the region to export\n",
    "        fileNamePrefix=f'Sentinel_20deg_unmix_feb18_{date_str}'\n",
    "    )\n",
    "    task.start()\n",
    "    print(f\"Export started for image with date {date_str}.\")\n",
    "    "
   ]
  },
  {
   "cell_type": "code",
   "execution_count": 314,
   "metadata": {},
   "outputs": [
    {
     "data": {
      "text/html": [
       "\n",
       "            <style>\n",
       "                .geemap-dark {\n",
       "                    --jp-widgets-color: white;\n",
       "                    --jp-widgets-label-color: white;\n",
       "                    --jp-ui-font-color1: white;\n",
       "                    --jp-layout-color2: #454545;\n",
       "                    background-color: #383838;\n",
       "                }\n",
       "\n",
       "                .geemap-dark .jupyter-button {\n",
       "                    --jp-layout-color3: #383838;\n",
       "                }\n",
       "\n",
       "                .geemap-colab {\n",
       "                    background-color: var(--colab-primary-surface-color, white);\n",
       "                }\n",
       "\n",
       "                .geemap-colab .jupyter-button {\n",
       "                    --jp-layout-color3: var(--colab-primary-surface-color, white);\n",
       "                }\n",
       "            </style>\n",
       "            "
      ],
      "text/plain": [
       "<IPython.core.display.HTML object>"
      ]
     },
     "metadata": {},
     "output_type": "display_data"
    },
    {
     "ename": "EEException",
     "evalue": "Too many concurrent aggregations.",
     "output_type": "error",
     "traceback": [
      "\u001b[0;31m---------------------------------------------------------------------------\u001b[0m",
      "\u001b[0;31mHttpError\u001b[0m                                 Traceback (most recent call last)",
      "File \u001b[0;32m/opt/anaconda3/lib/python3.11/site-packages/ee/data.py:406\u001b[0m, in \u001b[0;36m_execute_cloud_call\u001b[0;34m(call, num_retries)\u001b[0m\n\u001b[1;32m    405\u001b[0m \u001b[38;5;28;01mtry\u001b[39;00m:\n\u001b[0;32m--> 406\u001b[0m   \u001b[38;5;28;01mreturn\u001b[39;00m call\u001b[38;5;241m.\u001b[39mexecute(num_retries\u001b[38;5;241m=\u001b[39mnum_retries)\n\u001b[1;32m    407\u001b[0m \u001b[38;5;28;01mexcept\u001b[39;00m googleapiclient\u001b[38;5;241m.\u001b[39merrors\u001b[38;5;241m.\u001b[39mHttpError \u001b[38;5;28;01mas\u001b[39;00m e:\n",
      "File \u001b[0;32m/opt/anaconda3/lib/python3.11/site-packages/googleapiclient/_helpers.py:130\u001b[0m, in \u001b[0;36mpositional.<locals>.positional_decorator.<locals>.positional_wrapper\u001b[0;34m(*args, **kwargs)\u001b[0m\n\u001b[1;32m    129\u001b[0m         logger\u001b[38;5;241m.\u001b[39mwarning(message)\n\u001b[0;32m--> 130\u001b[0m \u001b[38;5;28;01mreturn\u001b[39;00m wrapped(\u001b[38;5;241m*\u001b[39margs, \u001b[38;5;241m*\u001b[39m\u001b[38;5;241m*\u001b[39mkwargs)\n",
      "File \u001b[0;32m/opt/anaconda3/lib/python3.11/site-packages/googleapiclient/http.py:938\u001b[0m, in \u001b[0;36mHttpRequest.execute\u001b[0;34m(self, http, num_retries)\u001b[0m\n\u001b[1;32m    937\u001b[0m \u001b[38;5;28;01mif\u001b[39;00m resp\u001b[38;5;241m.\u001b[39mstatus \u001b[38;5;241m>\u001b[39m\u001b[38;5;241m=\u001b[39m \u001b[38;5;241m300\u001b[39m:\n\u001b[0;32m--> 938\u001b[0m     \u001b[38;5;28;01mraise\u001b[39;00m HttpError(resp, content, uri\u001b[38;5;241m=\u001b[39m\u001b[38;5;28mself\u001b[39m\u001b[38;5;241m.\u001b[39muri)\n\u001b[1;32m    939\u001b[0m \u001b[38;5;28;01mreturn\u001b[39;00m \u001b[38;5;28mself\u001b[39m\u001b[38;5;241m.\u001b[39mpostproc(resp, content)\n",
      "\u001b[0;31mHttpError\u001b[0m: <HttpError 429 when requesting https://earthengine.googleapis.com/v1/projects/earthengine-legacy/value:compute?prettyPrint=false&alt=json returned \"Too many concurrent aggregations.\". Details: \"Too many concurrent aggregations.\">",
      "\nDuring handling of the above exception, another exception occurred:\n",
      "\u001b[0;31mEEException\u001b[0m                               Traceback (most recent call last)",
      "Cell \u001b[0;32mIn[314], line 9\u001b[0m\n\u001b[1;32m      6\u001b[0m         image \u001b[38;5;241m=\u001b[39m ee\u001b[38;5;241m.\u001b[39mImage(image_list\u001b[38;5;241m.\u001b[39mget(i))\n\u001b[1;32m      7\u001b[0m         export_image(image)\n\u001b[0;32m----> 9\u001b[0m process_images()\n",
      "Cell \u001b[0;32mIn[314], line 3\u001b[0m, in \u001b[0;36mprocess_images\u001b[0;34m()\u001b[0m\n\u001b[1;32m      1\u001b[0m \u001b[38;5;28;01mdef\u001b[39;00m \u001b[38;5;21mprocess_images\u001b[39m():\n\u001b[1;32m      2\u001b[0m     image_list \u001b[38;5;241m=\u001b[39m result_collection\u001b[38;5;241m.\u001b[39mtoList(result_collection\u001b[38;5;241m.\u001b[39msize()\u001b[38;5;241m.\u001b[39mgetInfo())\n\u001b[0;32m----> 3\u001b[0m     num_images \u001b[38;5;241m=\u001b[39m image_list\u001b[38;5;241m.\u001b[39msize()\u001b[38;5;241m.\u001b[39mgetInfo()\n\u001b[1;32m      5\u001b[0m     \u001b[38;5;28;01mfor\u001b[39;00m i \u001b[38;5;129;01min\u001b[39;00m \u001b[38;5;28mrange\u001b[39m(num_images):\n\u001b[1;32m      6\u001b[0m         image \u001b[38;5;241m=\u001b[39m ee\u001b[38;5;241m.\u001b[39mImage(image_list\u001b[38;5;241m.\u001b[39mget(i))\n",
      "File \u001b[0;32m/opt/anaconda3/lib/python3.11/site-packages/ee/computedobject.py:107\u001b[0m, in \u001b[0;36mComputedObject.getInfo\u001b[0;34m(self)\u001b[0m\n\u001b[1;32m    101\u001b[0m \u001b[38;5;28;01mdef\u001b[39;00m \u001b[38;5;21mgetInfo\u001b[39m(\u001b[38;5;28mself\u001b[39m) \u001b[38;5;241m-\u001b[39m\u001b[38;5;241m>\u001b[39m Optional[Any]:\n\u001b[1;32m    102\u001b[0m \u001b[38;5;250m  \u001b[39m\u001b[38;5;124;03m\"\"\"Fetch and return information about this object.\u001b[39;00m\n\u001b[1;32m    103\u001b[0m \n\u001b[1;32m    104\u001b[0m \u001b[38;5;124;03m  Returns:\u001b[39;00m\n\u001b[1;32m    105\u001b[0m \u001b[38;5;124;03m    The object can evaluate to anything.\u001b[39;00m\n\u001b[1;32m    106\u001b[0m \u001b[38;5;124;03m  \"\"\"\u001b[39;00m\n\u001b[0;32m--> 107\u001b[0m   \u001b[38;5;28;01mreturn\u001b[39;00m data\u001b[38;5;241m.\u001b[39mcomputeValue(\u001b[38;5;28mself\u001b[39m)\n",
      "File \u001b[0;32m/opt/anaconda3/lib/python3.11/site-packages/ee/data.py:1126\u001b[0m, in \u001b[0;36mcomputeValue\u001b[0;34m(obj)\u001b[0m\n\u001b[1;32m   1123\u001b[0m body \u001b[38;5;241m=\u001b[39m {\u001b[38;5;124m'\u001b[39m\u001b[38;5;124mexpression\u001b[39m\u001b[38;5;124m'\u001b[39m: serializer\u001b[38;5;241m.\u001b[39mencode(obj, for_cloud_api\u001b[38;5;241m=\u001b[39m\u001b[38;5;28;01mTrue\u001b[39;00m)}\n\u001b[1;32m   1124\u001b[0m _maybe_populate_workload_tag(body)\n\u001b[0;32m-> 1126\u001b[0m \u001b[38;5;28;01mreturn\u001b[39;00m _execute_cloud_call(\n\u001b[1;32m   1127\u001b[0m     _get_cloud_projects()\n\u001b[1;32m   1128\u001b[0m     \u001b[38;5;241m.\u001b[39mvalue()\n\u001b[1;32m   1129\u001b[0m     \u001b[38;5;241m.\u001b[39mcompute(body\u001b[38;5;241m=\u001b[39mbody, project\u001b[38;5;241m=\u001b[39m_get_projects_path(), prettyPrint\u001b[38;5;241m=\u001b[39m\u001b[38;5;28;01mFalse\u001b[39;00m)\n\u001b[1;32m   1130\u001b[0m )[\u001b[38;5;124m'\u001b[39m\u001b[38;5;124mresult\u001b[39m\u001b[38;5;124m'\u001b[39m]\n",
      "File \u001b[0;32m/opt/anaconda3/lib/python3.11/site-packages/ee/data.py:408\u001b[0m, in \u001b[0;36m_execute_cloud_call\u001b[0;34m(call, num_retries)\u001b[0m\n\u001b[1;32m    406\u001b[0m   \u001b[38;5;28;01mreturn\u001b[39;00m call\u001b[38;5;241m.\u001b[39mexecute(num_retries\u001b[38;5;241m=\u001b[39mnum_retries)\n\u001b[1;32m    407\u001b[0m \u001b[38;5;28;01mexcept\u001b[39;00m googleapiclient\u001b[38;5;241m.\u001b[39merrors\u001b[38;5;241m.\u001b[39mHttpError \u001b[38;5;28;01mas\u001b[39;00m e:\n\u001b[0;32m--> 408\u001b[0m   \u001b[38;5;28;01mraise\u001b[39;00m _translate_cloud_exception(e)\n",
      "\u001b[0;31mEEException\u001b[0m: Too many concurrent aggregations."
     ]
    }
   ],
   "source": [
    "def process_images():\n",
    "    image_list = result_collection.toList(result_collection.size().getInfo())\n",
    "    num_images = image_list.size().getInfo()\n",
    "    \n",
    "    for i in range(num_images):\n",
    "        image = ee.Image(image_list.get(i))\n",
    "        export_image(image)\n",
    "\n",
    "process_images()"
   ]
  }
 ],
 "metadata": {
  "kernelspec": {
   "display_name": "base",
   "language": "python",
   "name": "python3"
  },
  "language_info": {
   "codemirror_mode": {
    "name": "ipython",
    "version": 3
   },
   "file_extension": ".py",
   "mimetype": "text/x-python",
   "name": "python",
   "nbconvert_exporter": "python",
   "pygments_lexer": "ipython3",
   "version": "3.11.7"
  }
 },
 "nbformat": 4,
 "nbformat_minor": 2
}
